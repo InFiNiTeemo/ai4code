{
 "cells": [
  {
   "cell_type": "code",
   "execution_count": 1,
   "id": "deb592be",
   "metadata": {
    "scrolled": true
   },
   "outputs": [
    {
     "name": "stderr",
     "output_type": "stream",
     "text": [
      "2022-07-13 01:16:23.026577: I tensorflow/core/util/util.cc:169] oneDNN custom operations are on. You may see slightly different numerical results due to floating-point round-off errors from different computation orders. To turn them off, set the environment variable `TF_ENABLE_ONEDNN_OPTS=0`.\n"
     ]
    }
   ],
   "source": [
    "import json\n",
    "from pathlib import Path\n",
    "from dataset import *\n",
    "import numpy as np\n",
    "import pandas as pd\n",
    "from torch.utils.data import DataLoader, Dataset\n",
    "from model import *\n",
    "from tqdm import tqdm\n",
    "import sys\n",
    "import os\n",
    "from metrics import *\n",
    "import torch\n",
    "import argparse\n",
    "\n",
    "\n",
    "import pynvml\n",
    "pynvml.nvmlInit()\n",
    "handle = pynvml.nvmlDeviceGetHandleByIndex(0)   #gpu_id\n",
    "meminfo = pynvml.nvmlDeviceGetMemoryInfo(handle)\n"
   ]
  },
  {
   "cell_type": "code",
   "execution_count": 2,
   "id": "3dfb88d7",
   "metadata": {},
   "outputs": [],
   "source": [
    "if not os.path.exists(\"./outputs\"):\n",
    "    os.mkdir(\"./outputs\")\n",
    "data_dir = Path('..//input/')\n",
    "\n",
    "train_mark_path = './data/train_mark.csv'\n",
    "train_features_path = \"./data/train_fts.json\"\n",
    "val_mark_path = './data/val_mark.csv'\n",
    "val_features_path = './data/val_fts.json'\n",
    "val_path = \"./data/val.csv\"\n",
    "model_name_or_path =\"microsoft/codebert-base\"\n",
    "\n",
    "md_max_len = 512\n",
    "total_max_len = 64\n",
    "batch_size= 1\n",
    "accumulation_steps=4 \n",
    "epochs=5 \n",
    "n_workers=4\n",
    "accumulation_steps = int(1e4)"
   ]
  },
  {
   "cell_type": "code",
   "execution_count": 3,
   "id": "34abc68a",
   "metadata": {},
   "outputs": [],
   "source": [
    "train_df_mark = pd.read_csv(train_mark_path).drop(\"parent_id\", axis=1).dropna().reset_index(drop=True)\n",
    "train_fts = json.load(open(train_features_path))\n",
    "val_df_mark = pd.read_csv(val_mark_path).drop(\"parent_id\", axis=1).dropna().reset_index(drop=True)\n",
    "val_fts = json.load(open(val_features_path))\n",
    "val_df = pd.read_csv(val_path)\n",
    "\n",
    "order_df = pd.read_csv(\"../input/train_orders.csv\").set_index(\"id\")\n",
    "#df_orders = pd.read_csv(\n",
    "#    data_dir / 'train_orders.csv',\n",
    "#    index_col='id',\n",
    "#    squeeze=True,\n",
    "#).str.split()\n",
    "\n",
    "order = pd.read_csv(\n",
    "    data_dir / 'train_orders.csv'\n",
    ")\n",
    "train_path = './data/train.csv'\n",
    "val_path = './data/val.csv'\n",
    "val_df = pd.read_csv(val_path)\n",
    "train_df = pd.read_csv(train_path)\n",
    "\n",
    "full_df = pd.concat([train_df, val_df])"
   ]
  },
  {
   "cell_type": "code",
   "execution_count": 4,
   "id": "ee9e039e",
   "metadata": {},
   "outputs": [
    {
     "data": {
      "text/html": [
       "<div>\n",
       "<style scoped>\n",
       "    .dataframe tbody tr th:only-of-type {\n",
       "        vertical-align: middle;\n",
       "    }\n",
       "\n",
       "    .dataframe tbody tr th {\n",
       "        vertical-align: top;\n",
       "    }\n",
       "\n",
       "    .dataframe thead th {\n",
       "        text-align: right;\n",
       "    }\n",
       "</style>\n",
       "<table border=\"1\" class=\"dataframe\">\n",
       "  <thead>\n",
       "    <tr style=\"text-align: right;\">\n",
       "      <th></th>\n",
       "      <th>id</th>\n",
       "      <th>cell_id</th>\n",
       "      <th>cell_type</th>\n",
       "      <th>source</th>\n",
       "      <th>rank</th>\n",
       "      <th>ancestor_id</th>\n",
       "      <th>parent_id</th>\n",
       "      <th>pct_rank</th>\n",
       "    </tr>\n",
       "  </thead>\n",
       "  <tbody>\n",
       "    <tr>\n",
       "      <th>0</th>\n",
       "      <td>00001756c60be8</td>\n",
       "      <td>1862f0a6</td>\n",
       "      <td>code</td>\n",
       "      <td># This Python 3 environment comes with many he...</td>\n",
       "      <td>0.0</td>\n",
       "      <td>945aea18</td>\n",
       "      <td>NaN</td>\n",
       "      <td>0.000000</td>\n",
       "    </tr>\n",
       "    <tr>\n",
       "      <th>1</th>\n",
       "      <td>00001756c60be8</td>\n",
       "      <td>2a9e43d6</td>\n",
       "      <td>code</td>\n",
       "      <td>import numpy as np\\nimport pandas as pd\\nimpor...</td>\n",
       "      <td>2.0</td>\n",
       "      <td>945aea18</td>\n",
       "      <td>NaN</td>\n",
       "      <td>0.034483</td>\n",
       "    </tr>\n",
       "    <tr>\n",
       "      <th>2</th>\n",
       "      <td>00001756c60be8</td>\n",
       "      <td>038b763d</td>\n",
       "      <td>code</td>\n",
       "      <td>import warnings\\nwarnings.filterwarnings('igno...</td>\n",
       "      <td>4.0</td>\n",
       "      <td>945aea18</td>\n",
       "      <td>NaN</td>\n",
       "      <td>0.068966</td>\n",
       "    </tr>\n",
       "    <tr>\n",
       "      <th>3</th>\n",
       "      <td>00001756c60be8</td>\n",
       "      <td>2eefe0ef</td>\n",
       "      <td>code</td>\n",
       "      <td>matplotlib.rcParams.update({'font.size': 14})</td>\n",
       "      <td>6.0</td>\n",
       "      <td>945aea18</td>\n",
       "      <td>NaN</td>\n",
       "      <td>0.103448</td>\n",
       "    </tr>\n",
       "    <tr>\n",
       "      <th>4</th>\n",
       "      <td>00001756c60be8</td>\n",
       "      <td>0beab1cd</td>\n",
       "      <td>code</td>\n",
       "      <td>def evaluate_preds(train_true_values, train_pr...</td>\n",
       "      <td>8.0</td>\n",
       "      <td>945aea18</td>\n",
       "      <td>NaN</td>\n",
       "      <td>0.137931</td>\n",
       "    </tr>\n",
       "  </tbody>\n",
       "</table>\n",
       "</div>"
      ],
      "text/plain": [
       "               id   cell_id cell_type  \\\n",
       "0  00001756c60be8  1862f0a6      code   \n",
       "1  00001756c60be8  2a9e43d6      code   \n",
       "2  00001756c60be8  038b763d      code   \n",
       "3  00001756c60be8  2eefe0ef      code   \n",
       "4  00001756c60be8  0beab1cd      code   \n",
       "\n",
       "                                              source  rank ancestor_id  \\\n",
       "0  # This Python 3 environment comes with many he...   0.0    945aea18   \n",
       "1  import numpy as np\\nimport pandas as pd\\nimpor...   2.0    945aea18   \n",
       "2  import warnings\\nwarnings.filterwarnings('igno...   4.0    945aea18   \n",
       "3      matplotlib.rcParams.update({'font.size': 14})   6.0    945aea18   \n",
       "4  def evaluate_preds(train_true_values, train_pr...   8.0    945aea18   \n",
       "\n",
       "  parent_id  pct_rank  \n",
       "0       NaN  0.000000  \n",
       "1       NaN  0.034483  \n",
       "2       NaN  0.068966  \n",
       "3       NaN  0.103448  \n",
       "4       NaN  0.137931  "
      ]
     },
     "execution_count": 4,
     "metadata": {},
     "output_type": "execute_result"
    }
   ],
   "source": [
    "# tmp = train_df_mark[train_df_mark['cell_type']=='markdown'].groupby(\"id\").count()['cell_id']\n",
    "# tmp.apply(lambda x: x**2).sum()/len(tmp) # = 539\n",
    "# tmp.mean() # = 15.56\n",
    "train_df.head()"
   ]
  },
  {
   "cell_type": "code",
   "execution_count": 5,
   "id": "bc51ee45",
   "metadata": {},
   "outputs": [],
   "source": [
    "def get_dict(df):\n",
    "    md_dict = dict(zip(df[\"cell_id\"].values, df['source'].values))\n",
    "    return md_dict\n",
    "\n",
    "md_dict = get_dict(full_df[full_df['cell_type']=='markdown'])\n",
    "cd_dict = get_dict(full_df[full_df['cell_type']=='code'])"
   ]
  },
  {
   "cell_type": "code",
   "execution_count": 6,
   "id": "893fb64d",
   "metadata": {},
   "outputs": [
    {
     "data": {
      "text/plain": [
       "(2165563, 4202444)"
      ]
     },
     "execution_count": 6,
     "metadata": {},
     "output_type": "execute_result"
    }
   ],
   "source": [
    "len(md_dict), len(cd_dict)"
   ]
  },
  {
   "cell_type": "code",
   "execution_count": 7,
   "id": "dd17c047",
   "metadata": {},
   "outputs": [
    {
     "data": {
      "text/plain": [
       "(1950114, 5740836, 215946, 629814)"
      ]
     },
     "execution_count": 7,
     "metadata": {},
     "output_type": "execute_result"
    }
   ],
   "source": [
    "len(train_df_mark), len(train_df), len(val_df_mark), len(val_df)"
   ]
  },
  {
   "cell_type": "code",
   "execution_count": 8,
   "id": "aad4b6ae",
   "metadata": {},
   "outputs": [
    {
     "data": {
      "text/html": [
       "<div>\n",
       "<style scoped>\n",
       "    .dataframe tbody tr th:only-of-type {\n",
       "        vertical-align: middle;\n",
       "    }\n",
       "\n",
       "    .dataframe tbody tr th {\n",
       "        vertical-align: top;\n",
       "    }\n",
       "\n",
       "    .dataframe thead th {\n",
       "        text-align: right;\n",
       "    }\n",
       "</style>\n",
       "<table border=\"1\" class=\"dataframe\">\n",
       "  <thead>\n",
       "    <tr style=\"text-align: right;\">\n",
       "      <th></th>\n",
       "      <th>id</th>\n",
       "      <th>cell_order</th>\n",
       "    </tr>\n",
       "  </thead>\n",
       "  <tbody>\n",
       "    <tr>\n",
       "      <th>0</th>\n",
       "      <td>00001756c60be8</td>\n",
       "      <td>1862f0a6 448eb224 2a9e43d6 7e2f170a 038b763d 7...</td>\n",
       "    </tr>\n",
       "    <tr>\n",
       "      <th>1</th>\n",
       "      <td>00015c83e2717b</td>\n",
       "      <td>2e94bd7a 3e99dee9 b5e286ea da4f7550 c417225b 5...</td>\n",
       "    </tr>\n",
       "    <tr>\n",
       "      <th>2</th>\n",
       "      <td>0001bdd4021779</td>\n",
       "      <td>3fdc37be 073782ca 8ea7263c 80543cd8 38310c80 0...</td>\n",
       "    </tr>\n",
       "    <tr>\n",
       "      <th>3</th>\n",
       "      <td>0001daf4c2c76d</td>\n",
       "      <td>97266564 a898e555 86605076 76cc2642 ef279279 d...</td>\n",
       "    </tr>\n",
       "    <tr>\n",
       "      <th>4</th>\n",
       "      <td>0002115f48f982</td>\n",
       "      <td>9ec225f0 18281c6c e3b6b115 4a044c54 365fe576 a...</td>\n",
       "    </tr>\n",
       "  </tbody>\n",
       "</table>\n",
       "</div>"
      ],
      "text/plain": [
       "               id                                         cell_order\n",
       "0  00001756c60be8  1862f0a6 448eb224 2a9e43d6 7e2f170a 038b763d 7...\n",
       "1  00015c83e2717b  2e94bd7a 3e99dee9 b5e286ea da4f7550 c417225b 5...\n",
       "2  0001bdd4021779  3fdc37be 073782ca 8ea7263c 80543cd8 38310c80 0...\n",
       "3  0001daf4c2c76d  97266564 a898e555 86605076 76cc2642 ef279279 d...\n",
       "4  0002115f48f982  9ec225f0 18281c6c e3b6b115 4a044c54 365fe576 a..."
      ]
     },
     "execution_count": 8,
     "metadata": {},
     "output_type": "execute_result"
    }
   ],
   "source": [
    "order.head()"
   ]
  },
  {
   "cell_type": "code",
   "execution_count": 9,
   "id": "2c482db2",
   "metadata": {},
   "outputs": [
    {
     "name": "stdout",
     "output_type": "stream",
     "text": [
      "CPU times: user 1 µs, sys: 0 ns, total: 1 µs\n",
      "Wall time: 2.38 µs\n"
     ]
    },
    {
     "data": {
      "text/html": [
       "<div>\n",
       "<style scoped>\n",
       "    .dataframe tbody tr th:only-of-type {\n",
       "        vertical-align: middle;\n",
       "    }\n",
       "\n",
       "    .dataframe tbody tr th {\n",
       "        vertical-align: top;\n",
       "    }\n",
       "\n",
       "    .dataframe thead th {\n",
       "        text-align: right;\n",
       "    }\n",
       "</style>\n",
       "<table border=\"1\" class=\"dataframe\">\n",
       "  <thead>\n",
       "    <tr style=\"text-align: right;\">\n",
       "      <th></th>\n",
       "      <th>id</th>\n",
       "      <th>cell_shuffle</th>\n",
       "      <th>permutation</th>\n",
       "      <th>md_mask</th>\n",
       "    </tr>\n",
       "  </thead>\n",
       "  <tbody>\n",
       "    <tr>\n",
       "      <th>0</th>\n",
       "      <td>00001756c60be8</td>\n",
       "      <td>[1862f0a6, 1862f0a6, 2a9e43d6, 448eb224, 038b7...</td>\n",
       "      <td>[0, 1, 2, 3, 4, 5, 6, 7, 8, 9, 10, 11, 12, 13,...</td>\n",
       "      <td>[0, 1, 0, 1, 0, 1, 0, 1, 0, 1, 0, 1, 1, 1, 0, ...</td>\n",
       "    </tr>\n",
       "    <tr>\n",
       "      <th>1</th>\n",
       "      <td>00015c83e2717b</td>\n",
       "      <td>[2e94bd7a, 3e99dee9, b5e286ea, da4f7550, c4172...</td>\n",
       "      <td>[0, 1, 2, 3, 4, 5, 6, 7, 8, 9, 10, 11, 12, 13,...</td>\n",
       "      <td>[1, 1, 1, 1, 0, 0, 0, 0, 0, 0, 1, 1, 0, 1, 1, ...</td>\n",
       "    </tr>\n",
       "    <tr>\n",
       "      <th>2</th>\n",
       "      <td>0001bdd4021779</td>\n",
       "      <td>[3fdc37be, 073782ca, 8ea7263c, 80543cd8, 38310...</td>\n",
       "      <td>[0, 1]</td>\n",
       "      <td>[0, 0, 0, 0, 0, 0, 0, 0, 1, 0, 0, 0, 1]</td>\n",
       "    </tr>\n",
       "    <tr>\n",
       "      <th>3</th>\n",
       "      <td>0001daf4c2c76d</td>\n",
       "      <td>[97266564, a898e555, 86605076, 86605076, 76cc2...</td>\n",
       "      <td>[0, 1, 2, 3, 4, 5, 6, 7, 8, 9, 10, 11, 12, 13,...</td>\n",
       "      <td>[1, 1, 0, 1, 1, 0, 1, 0, 1, 1, 1, 0, 1, 0, 0, ...</td>\n",
       "    </tr>\n",
       "    <tr>\n",
       "      <th>4</th>\n",
       "      <td>0002115f48f982</td>\n",
       "      <td>[9ec225f0, 18281c6c, e3b6b115, 4a044c54, 365fe...</td>\n",
       "      <td>[0]</td>\n",
       "      <td>[1, 0, 0, 0, 0, 0, 0, 0, 0]</td>\n",
       "    </tr>\n",
       "  </tbody>\n",
       "</table>\n",
       "</div>"
      ],
      "text/plain": [
       "               id                                       cell_shuffle  \\\n",
       "0  00001756c60be8  [1862f0a6, 1862f0a6, 2a9e43d6, 448eb224, 038b7...   \n",
       "1  00015c83e2717b  [2e94bd7a, 3e99dee9, b5e286ea, da4f7550, c4172...   \n",
       "2  0001bdd4021779  [3fdc37be, 073782ca, 8ea7263c, 80543cd8, 38310...   \n",
       "3  0001daf4c2c76d  [97266564, a898e555, 86605076, 86605076, 76cc2...   \n",
       "4  0002115f48f982  [9ec225f0, 18281c6c, e3b6b115, 4a044c54, 365fe...   \n",
       "\n",
       "                                         permutation  \\\n",
       "0  [0, 1, 2, 3, 4, 5, 6, 7, 8, 9, 10, 11, 12, 13,...   \n",
       "1  [0, 1, 2, 3, 4, 5, 6, 7, 8, 9, 10, 11, 12, 13,...   \n",
       "2                                             [0, 1]   \n",
       "3  [0, 1, 2, 3, 4, 5, 6, 7, 8, 9, 10, 11, 12, 13,...   \n",
       "4                                                [0]   \n",
       "\n",
       "                                             md_mask  \n",
       "0  [0, 1, 0, 1, 0, 1, 0, 1, 0, 1, 0, 1, 1, 1, 0, ...  \n",
       "1  [1, 1, 1, 1, 0, 0, 0, 0, 0, 0, 1, 1, 0, 1, 1, ...  \n",
       "2            [0, 0, 0, 0, 0, 0, 0, 0, 1, 0, 0, 0, 1]  \n",
       "3  [1, 1, 0, 1, 1, 0, 1, 0, 1, 1, 1, 0, 1, 0, 0, ...  \n",
       "4                        [1, 0, 0, 0, 0, 0, 0, 0, 0]  "
      ]
     },
     "execution_count": 9,
     "metadata": {},
     "output_type": "execute_result"
    }
   ],
   "source": [
    "%time\n",
    "x = 1<<32\n",
    "seed = 42\n",
    "def transform(row):\n",
    "    \n",
    "    cell_ids = list(row[\"cell_order\"].split())\n",
    "    md_ids = []\n",
    "    cell_shuffle = []\n",
    "    md_mask = []\n",
    "    for cell_id in cell_ids:\n",
    "        if cell_id in md_dict:\n",
    "            cell_shuffle.append(0)\n",
    "            md_ids.append(cell_id)\n",
    "            md_mask.append(1)\n",
    "        else:\n",
    "            cell_shuffle.append(cell_id)\n",
    "            md_mask.append(0)\n",
    "    length = len(md_ids)\n",
    "    _hash = hash(row[\"cell_order\"])*seed % x\n",
    "    permutation = np.arange(length)\n",
    "    #permutation = np.random.RandomState(seed=_hash).permutation(length)\n",
    "    i = 0\n",
    "    for j in range(len(cell_shuffle)):\n",
    "        if cell_shuffle[j] == 0:\n",
    "            cell_shuffle[j] = cell_ids[permutation[i]]\n",
    "            i+=1\n",
    "    \n",
    "    return pd.Series([row.id, cell_shuffle, permutation, md_mask], index=['id', 'cell_shuffle', 'permutation', 'md_mask'])\n",
    "\n",
    "order = order.apply(transform, axis=1)\n",
    "order.head()"
   ]
  },
  {
   "cell_type": "code",
   "execution_count": 10,
   "id": "722d9649",
   "metadata": {},
   "outputs": [],
   "source": [
    "tr_ids =   train_df[\"id\"].unique()\n",
    "train_order = order[order[\"id\"].isin(tr_ids)]\n",
    "val_order  = order[~(order[\"id\"].isin(tr_ids))]"
   ]
  },
  {
   "cell_type": "code",
   "execution_count": 11,
   "id": "026a22e8",
   "metadata": {},
   "outputs": [
    {
     "data": {
      "text/html": [
       "<div>\n",
       "<style scoped>\n",
       "    .dataframe tbody tr th:only-of-type {\n",
       "        vertical-align: middle;\n",
       "    }\n",
       "\n",
       "    .dataframe tbody tr th {\n",
       "        vertical-align: top;\n",
       "    }\n",
       "\n",
       "    .dataframe thead th {\n",
       "        text-align: right;\n",
       "    }\n",
       "</style>\n",
       "<table border=\"1\" class=\"dataframe\">\n",
       "  <thead>\n",
       "    <tr style=\"text-align: right;\">\n",
       "      <th></th>\n",
       "      <th>id</th>\n",
       "      <th>cell_shuffle</th>\n",
       "      <th>permutation</th>\n",
       "      <th>md_mask</th>\n",
       "    </tr>\n",
       "  </thead>\n",
       "  <tbody>\n",
       "    <tr>\n",
       "      <th>0</th>\n",
       "      <td>00001756c60be8</td>\n",
       "      <td>[1862f0a6, 1862f0a6, 2a9e43d6, 448eb224, 038b7...</td>\n",
       "      <td>[0, 1, 2, 3, 4, 5, 6, 7, 8, 9, 10, 11, 12, 13,...</td>\n",
       "      <td>[0, 1, 0, 1, 0, 1, 0, 1, 0, 1, 0, 1, 1, 1, 0, ...</td>\n",
       "    </tr>\n",
       "    <tr>\n",
       "      <th>1</th>\n",
       "      <td>00015c83e2717b</td>\n",
       "      <td>[2e94bd7a, 3e99dee9, b5e286ea, da4f7550, c4172...</td>\n",
       "      <td>[0, 1, 2, 3, 4, 5, 6, 7, 8, 9, 10, 11, 12, 13,...</td>\n",
       "      <td>[1, 1, 1, 1, 0, 0, 0, 0, 0, 0, 1, 1, 0, 1, 1, ...</td>\n",
       "    </tr>\n",
       "    <tr>\n",
       "      <th>2</th>\n",
       "      <td>0001bdd4021779</td>\n",
       "      <td>[3fdc37be, 073782ca, 8ea7263c, 80543cd8, 38310...</td>\n",
       "      <td>[0, 1]</td>\n",
       "      <td>[0, 0, 0, 0, 0, 0, 0, 0, 1, 0, 0, 0, 1]</td>\n",
       "    </tr>\n",
       "    <tr>\n",
       "      <th>3</th>\n",
       "      <td>0001daf4c2c76d</td>\n",
       "      <td>[97266564, a898e555, 86605076, 86605076, 76cc2...</td>\n",
       "      <td>[0, 1, 2, 3, 4, 5, 6, 7, 8, 9, 10, 11, 12, 13,...</td>\n",
       "      <td>[1, 1, 0, 1, 1, 0, 1, 0, 1, 1, 1, 0, 1, 0, 0, ...</td>\n",
       "    </tr>\n",
       "    <tr>\n",
       "      <th>4</th>\n",
       "      <td>0002115f48f982</td>\n",
       "      <td>[9ec225f0, 18281c6c, e3b6b115, 4a044c54, 365fe...</td>\n",
       "      <td>[0]</td>\n",
       "      <td>[1, 0, 0, 0, 0, 0, 0, 0, 0]</td>\n",
       "    </tr>\n",
       "  </tbody>\n",
       "</table>\n",
       "</div>"
      ],
      "text/plain": [
       "               id                                       cell_shuffle  \\\n",
       "0  00001756c60be8  [1862f0a6, 1862f0a6, 2a9e43d6, 448eb224, 038b7...   \n",
       "1  00015c83e2717b  [2e94bd7a, 3e99dee9, b5e286ea, da4f7550, c4172...   \n",
       "2  0001bdd4021779  [3fdc37be, 073782ca, 8ea7263c, 80543cd8, 38310...   \n",
       "3  0001daf4c2c76d  [97266564, a898e555, 86605076, 86605076, 76cc2...   \n",
       "4  0002115f48f982  [9ec225f0, 18281c6c, e3b6b115, 4a044c54, 365fe...   \n",
       "\n",
       "                                         permutation  \\\n",
       "0  [0, 1, 2, 3, 4, 5, 6, 7, 8, 9, 10, 11, 12, 13,...   \n",
       "1  [0, 1, 2, 3, 4, 5, 6, 7, 8, 9, 10, 11, 12, 13,...   \n",
       "2                                             [0, 1]   \n",
       "3  [0, 1, 2, 3, 4, 5, 6, 7, 8, 9, 10, 11, 12, 13,...   \n",
       "4                                                [0]   \n",
       "\n",
       "                                             md_mask  \n",
       "0  [0, 1, 0, 1, 0, 1, 0, 1, 0, 1, 0, 1, 1, 1, 0, ...  \n",
       "1  [1, 1, 1, 1, 0, 0, 0, 0, 0, 0, 1, 1, 0, 1, 1, ...  \n",
       "2            [0, 0, 0, 0, 0, 0, 0, 0, 1, 0, 0, 0, 1]  \n",
       "3  [1, 1, 0, 1, 1, 0, 1, 0, 1, 1, 1, 0, 1, 0, 0, ...  \n",
       "4                        [1, 0, 0, 0, 0, 0, 0, 0, 0]  "
      ]
     },
     "execution_count": 11,
     "metadata": {},
     "output_type": "execute_result"
    }
   ],
   "source": [
    "train_order.head()"
   ]
  },
  {
   "cell_type": "code",
   "execution_count": 12,
   "id": "37e17b05",
   "metadata": {},
   "outputs": [
    {
     "data": {
      "text/html": [
       "<div>\n",
       "<style scoped>\n",
       "    .dataframe tbody tr th:only-of-type {\n",
       "        vertical-align: middle;\n",
       "    }\n",
       "\n",
       "    .dataframe tbody tr th {\n",
       "        vertical-align: top;\n",
       "    }\n",
       "\n",
       "    .dataframe thead th {\n",
       "        text-align: right;\n",
       "    }\n",
       "</style>\n",
       "<table border=\"1\" class=\"dataframe\">\n",
       "  <thead>\n",
       "    <tr style=\"text-align: right;\">\n",
       "      <th></th>\n",
       "      <th>id</th>\n",
       "      <th>cell_shuffle</th>\n",
       "      <th>permutation</th>\n",
       "      <th>md_mask</th>\n",
       "    </tr>\n",
       "  </thead>\n",
       "  <tbody>\n",
       "    <tr>\n",
       "      <th>20</th>\n",
       "      <td>000b8e6d58544b</td>\n",
       "      <td>[2e2ac098, 8d9993e9, 7b0aa087, ccccc589, a8517...</td>\n",
       "      <td>[0, 1, 2, 3, 4, 5, 6, 7, 8, 9, 10, 11]</td>\n",
       "      <td>[1, 1, 0, 0, 0, 0, 0, 1, 0, 1, 0, 0, 1, 0, 1, ...</td>\n",
       "    </tr>\n",
       "    <tr>\n",
       "      <th>22</th>\n",
       "      <td>000c0a9b2fef4d</td>\n",
       "      <td>[0f08a082, fc3c6029, 1087237d, 1087237d, d7209...</td>\n",
       "      <td>[0, 1, 2, 3, 4, 5, 6, 7, 8, 9, 10, 11, 12, 13,...</td>\n",
       "      <td>[1, 1, 0, 1, 0, 1, 0, 0, 0, 1, 0, 0, 1, 0, 0, ...</td>\n",
       "    </tr>\n",
       "    <tr>\n",
       "      <th>34</th>\n",
       "      <td>0010adf10cf27c</td>\n",
       "      <td>[8c6f2c2e, 7e1a3f88, 8c6f2c2e, 30d8f4eb, 7e1a3...</td>\n",
       "      <td>[0, 1, 2, 3, 4, 5, 6, 7, 8, 9, 10, 11, 12]</td>\n",
       "      <td>[0, 0, 1, 0, 1, 0, 0, 1, 0, 1, 1, 0, 0, 0, 1, ...</td>\n",
       "    </tr>\n",
       "    <tr>\n",
       "      <th>36</th>\n",
       "      <td>00116ebc2a301c</td>\n",
       "      <td>[664c5fe6, db679b20, b3f88df9, db679b20, 13555...</td>\n",
       "      <td>[0, 1, 2, 3, 4, 5, 6, 7, 8, 9]</td>\n",
       "      <td>[1, 0, 0, 1, 0, 0, 1, 0, 1, 1, 0, 0, 1, 0, 1, ...</td>\n",
       "    </tr>\n",
       "    <tr>\n",
       "      <th>55</th>\n",
       "      <td>00181d9eb98d2c</td>\n",
       "      <td>[7e644272, 864238e0, 56159531, cc6e1157, cc6e1...</td>\n",
       "      <td>[0, 1, 2, 3, 4, 5, 6, 7, 8, 9, 10, 11, 12, 13,...</td>\n",
       "      <td>[1, 1, 1, 0, 1, 0, 1, 0, 1, 0, 1, 0, 1, 0, 1, ...</td>\n",
       "    </tr>\n",
       "  </tbody>\n",
       "</table>\n",
       "</div>"
      ],
      "text/plain": [
       "                id                                       cell_shuffle  \\\n",
       "20  000b8e6d58544b  [2e2ac098, 8d9993e9, 7b0aa087, ccccc589, a8517...   \n",
       "22  000c0a9b2fef4d  [0f08a082, fc3c6029, 1087237d, 1087237d, d7209...   \n",
       "34  0010adf10cf27c  [8c6f2c2e, 7e1a3f88, 8c6f2c2e, 30d8f4eb, 7e1a3...   \n",
       "36  00116ebc2a301c  [664c5fe6, db679b20, b3f88df9, db679b20, 13555...   \n",
       "55  00181d9eb98d2c  [7e644272, 864238e0, 56159531, cc6e1157, cc6e1...   \n",
       "\n",
       "                                          permutation  \\\n",
       "20             [0, 1, 2, 3, 4, 5, 6, 7, 8, 9, 10, 11]   \n",
       "22  [0, 1, 2, 3, 4, 5, 6, 7, 8, 9, 10, 11, 12, 13,...   \n",
       "34         [0, 1, 2, 3, 4, 5, 6, 7, 8, 9, 10, 11, 12]   \n",
       "36                     [0, 1, 2, 3, 4, 5, 6, 7, 8, 9]   \n",
       "55  [0, 1, 2, 3, 4, 5, 6, 7, 8, 9, 10, 11, 12, 13,...   \n",
       "\n",
       "                                              md_mask  \n",
       "20  [1, 1, 0, 0, 0, 0, 0, 1, 0, 1, 0, 0, 1, 0, 1, ...  \n",
       "22  [1, 1, 0, 1, 0, 1, 0, 0, 0, 1, 0, 0, 1, 0, 0, ...  \n",
       "34  [0, 0, 1, 0, 1, 0, 0, 1, 0, 1, 1, 0, 0, 0, 1, ...  \n",
       "36  [1, 0, 0, 1, 0, 0, 1, 0, 1, 1, 0, 0, 1, 0, 1, ...  \n",
       "55  [1, 1, 1, 0, 1, 0, 1, 0, 1, 0, 1, 0, 1, 0, 1, ...  "
      ]
     },
     "execution_count": 12,
     "metadata": {},
     "output_type": "execute_result"
    }
   ],
   "source": [
    "val_order.head()"
   ]
  },
  {
   "cell_type": "code",
   "execution_count": 13,
   "id": "c4d1524f",
   "metadata": {},
   "outputs": [],
   "source": [
    "train_df = train_df.set_index(\"cell_id\", drop=True)\n",
    "val_df = val_df.set_index(\"cell_id\", drop=True)"
   ]
  },
  {
   "cell_type": "code",
   "execution_count": 14,
   "id": "cc7854db",
   "metadata": {},
   "outputs": [
    {
     "data": {
      "text/html": [
       "<div>\n",
       "<style scoped>\n",
       "    .dataframe tbody tr th:only-of-type {\n",
       "        vertical-align: middle;\n",
       "    }\n",
       "\n",
       "    .dataframe tbody tr th {\n",
       "        vertical-align: top;\n",
       "    }\n",
       "\n",
       "    .dataframe thead th {\n",
       "        text-align: right;\n",
       "    }\n",
       "</style>\n",
       "<table border=\"1\" class=\"dataframe\">\n",
       "  <thead>\n",
       "    <tr style=\"text-align: right;\">\n",
       "      <th></th>\n",
       "      <th>id</th>\n",
       "      <th>cell_type</th>\n",
       "      <th>source</th>\n",
       "      <th>rank</th>\n",
       "      <th>ancestor_id</th>\n",
       "      <th>parent_id</th>\n",
       "      <th>pct_rank</th>\n",
       "    </tr>\n",
       "    <tr>\n",
       "      <th>cell_id</th>\n",
       "      <th></th>\n",
       "      <th></th>\n",
       "      <th></th>\n",
       "      <th></th>\n",
       "      <th></th>\n",
       "      <th></th>\n",
       "      <th></th>\n",
       "    </tr>\n",
       "  </thead>\n",
       "  <tbody>\n",
       "    <tr>\n",
       "      <th>1862f0a6</th>\n",
       "      <td>00001756c60be8</td>\n",
       "      <td>code</td>\n",
       "      <td># This Python 3 environment comes with many he...</td>\n",
       "      <td>0.0</td>\n",
       "      <td>945aea18</td>\n",
       "      <td>NaN</td>\n",
       "      <td>0.000000</td>\n",
       "    </tr>\n",
       "    <tr>\n",
       "      <th>2a9e43d6</th>\n",
       "      <td>00001756c60be8</td>\n",
       "      <td>code</td>\n",
       "      <td>import numpy as np\\nimport pandas as pd\\nimpor...</td>\n",
       "      <td>2.0</td>\n",
       "      <td>945aea18</td>\n",
       "      <td>NaN</td>\n",
       "      <td>0.034483</td>\n",
       "    </tr>\n",
       "    <tr>\n",
       "      <th>038b763d</th>\n",
       "      <td>00001756c60be8</td>\n",
       "      <td>code</td>\n",
       "      <td>import warnings\\nwarnings.filterwarnings('igno...</td>\n",
       "      <td>4.0</td>\n",
       "      <td>945aea18</td>\n",
       "      <td>NaN</td>\n",
       "      <td>0.068966</td>\n",
       "    </tr>\n",
       "    <tr>\n",
       "      <th>2eefe0ef</th>\n",
       "      <td>00001756c60be8</td>\n",
       "      <td>code</td>\n",
       "      <td>matplotlib.rcParams.update({'font.size': 14})</td>\n",
       "      <td>6.0</td>\n",
       "      <td>945aea18</td>\n",
       "      <td>NaN</td>\n",
       "      <td>0.103448</td>\n",
       "    </tr>\n",
       "    <tr>\n",
       "      <th>0beab1cd</th>\n",
       "      <td>00001756c60be8</td>\n",
       "      <td>code</td>\n",
       "      <td>def evaluate_preds(train_true_values, train_pr...</td>\n",
       "      <td>8.0</td>\n",
       "      <td>945aea18</td>\n",
       "      <td>NaN</td>\n",
       "      <td>0.137931</td>\n",
       "    </tr>\n",
       "  </tbody>\n",
       "</table>\n",
       "</div>"
      ],
      "text/plain": [
       "                      id cell_type  \\\n",
       "cell_id                              \n",
       "1862f0a6  00001756c60be8      code   \n",
       "2a9e43d6  00001756c60be8      code   \n",
       "038b763d  00001756c60be8      code   \n",
       "2eefe0ef  00001756c60be8      code   \n",
       "0beab1cd  00001756c60be8      code   \n",
       "\n",
       "                                                     source  rank ancestor_id  \\\n",
       "cell_id                                                                         \n",
       "1862f0a6  # This Python 3 environment comes with many he...   0.0    945aea18   \n",
       "2a9e43d6  import numpy as np\\nimport pandas as pd\\nimpor...   2.0    945aea18   \n",
       "038b763d  import warnings\\nwarnings.filterwarnings('igno...   4.0    945aea18   \n",
       "2eefe0ef      matplotlib.rcParams.update({'font.size': 14})   6.0    945aea18   \n",
       "0beab1cd  def evaluate_preds(train_true_values, train_pr...   8.0    945aea18   \n",
       "\n",
       "         parent_id  pct_rank  \n",
       "cell_id                       \n",
       "1862f0a6       NaN  0.000000  \n",
       "2a9e43d6       NaN  0.034483  \n",
       "038b763d       NaN  0.068966  \n",
       "2eefe0ef       NaN  0.103448  \n",
       "0beab1cd       NaN  0.137931  "
      ]
     },
     "execution_count": 14,
     "metadata": {},
     "output_type": "execute_result"
    }
   ],
   "source": [
    "train_df.head()"
   ]
  },
  {
   "cell_type": "markdown",
   "id": "593912d7",
   "metadata": {},
   "source": [
    "## test"
   ]
  },
  {
   "cell_type": "code",
   "execution_count": 15,
   "id": "5f1e87cc",
   "metadata": {},
   "outputs": [],
   "source": [
    "#tokenizer = AutoTokenizer.from_pretrained(model_name_or_path)"
   ]
  },
  {
   "cell_type": "code",
   "execution_count": 16,
   "id": "5bcf4c5b",
   "metadata": {},
   "outputs": [],
   "source": [
    "#row = train_order.iloc[1]\n",
    "#cells = row.cell_shuffle"
   ]
  },
  {
   "cell_type": "code",
   "execution_count": 17,
   "id": "04fe10f1",
   "metadata": {},
   "outputs": [],
   "source": [
    "#[train_df.loc[cell_id].source for cell_id in cells]"
   ]
  },
  {
   "cell_type": "code",
   "execution_count": 18,
   "id": "cb5ccef9",
   "metadata": {},
   "outputs": [],
   "source": [
    "#inputs = tokenizer.batch_encode_plus(\n",
    "#            [train_df.loc[cell_id].source for cell_id in cells],\n",
    "#            add_special_tokens=True,\n",
    "#            max_length=total_max_len,\n",
    "#            padding=\"max_length\",\n",
    "#            # return_token_type_ids=True,\n",
    "#            truncation=True\n",
    "#        )\n",
    "#ids = torch.LongTensor(inputs['input_ids'])\n",
    "#mask = torch.LongTensor(inputs['attention_mask'])\n",
    "#md_mask = torch.LongTensor(row.md_mask)\n",
    "#permutation = torch.LongTensor(row.permutation)\n",
    "\n",
    "        \n",
    "#print(\"ids:\", ids.size())\n",
    "#print(\"mask:\", mask.size())\n",
    "#print(\"md_mask:\", md_mask.size())"
   ]
  },
  {
   "cell_type": "code",
   "execution_count": 19,
   "id": "7e52b166",
   "metadata": {},
   "outputs": [],
   "source": [
    "class MarkdownDataset(Dataset):\n",
    "    def __init__(self, order_df, df, model_name_or_path, total_max_len, md_max_len, fts):\n",
    "        super().__init__()\n",
    "        self.order_df = order_df\n",
    "        self.df = df\n",
    "        self.md_max_len = md_max_len\n",
    "        self.total_max_len = total_max_len  # maxlen allowed by model config\n",
    "        self.tokenizer = AutoTokenizer.from_pretrained(model_name_or_path)\n",
    "        self.fts = fts\n",
    "\n",
    "    def __getitem__(self, index):\n",
    "        row = self.order_df.iloc[index]\n",
    "        cells = row.cell_shuffle\n",
    "\n",
    "        # print(\"index: \"+ str(index))\n",
    "\n",
    "        inputs = self.tokenizer.batch_encode_plus(\n",
    "            [self.df.loc[cell_id].source for cell_id in cells],\n",
    "            # None,\n",
    "            add_special_tokens=True,\n",
    "            max_length=self.total_max_len,\n",
    "            padding=\"max_length\",\n",
    "            # return_token_type_ids=True,\n",
    "            truncation=True\n",
    "        )\n",
    "\n",
    "        ids = torch.LongTensor(inputs['input_ids'])\n",
    "        mask = torch.LongTensor(inputs['attention_mask'])\n",
    "        md_mask = torch.LongTensor(row.md_mask)\n",
    "        permutation = torch.LongTensor(row.permutation)\n",
    "    \n",
    "        length = len(md_mask)\n",
    "        \n",
    "        #print(\"ids:\", ids.size())\n",
    "        #print(\"mask:\", mask.size())\n",
    "        #print(\"md_mask:\", md_mask.size())\n",
    "        #return torch.FloatTensor([length])\n",
    "        return ids, mask, permutation, md_mask, length\n",
    "\n",
    "    def __len__(self):\n",
    "        return self.order_df.shape[0]"
   ]
  },
  {
   "cell_type": "code",
   "execution_count": 20,
   "id": "79675639",
   "metadata": {},
   "outputs": [],
   "source": [
    "train_ds = MarkdownDataset(train_order, train_df, model_name_or_path=model_name_or_path, md_max_len=md_max_len,\n",
    "                           total_max_len=total_max_len, fts=train_fts)\n",
    "val_ds = MarkdownDataset(val_order, val_df, model_name_or_path=model_name_or_path, md_max_len=md_max_len,\n",
    "                         total_max_len=total_max_len, fts=val_fts)\n",
    "train_loader = DataLoader(train_ds, batch_size=batch_size, shuffle=True, num_workers=n_workers,\n",
    "                          pin_memory=False, drop_last=True)\n",
    "val_loader = DataLoader(val_ds, batch_size=batch_size, shuffle=False, num_workers=n_workers,\n",
    "                        pin_memory=False, drop_last=False)"
   ]
  },
  {
   "cell_type": "code",
   "execution_count": 21,
   "id": "3f80d5bb",
   "metadata": {},
   "outputs": [],
   "source": [
    "# model.cpu()\n",
    "HIDDEN_SIZE = 768\n",
    "class BersonModel(nn.Module):\n",
    "    def __init__(self, model_path):\n",
    "        super(BersonModel, self).__init__()\n",
    "        self.model = AutoModel.from_pretrained(model_path)\n",
    "        \n",
    "        self.dropout = nn.Dropout(0.1)\n",
    "        self.decoder = nn.LSTM(input_size=HIDDEN_SIZE, hidden_size=HIDDEN_SIZE, num_layers=2, batch_first=True)\n",
    "        self.top = nn.Linear(HIDDEN_SIZE, 1)\n",
    "        self.softmax = nn.Softmax(dim=0)\n",
    "        self.layernorm = nn.LayerNorm(2)\n",
    "        self.loss = nn.BCELoss()\n",
    "\n",
    "\n",
    "    def forward(self, ids, mask, order, md_mask, length):\n",
    "        \"\"\"\n",
    "        :param ids:\n",
    "        :param mask:\n",
    "        :param orders:\n",
    "        :param type: 0 for code, 1 for md\n",
    "        :return:\n",
    "        \"\"\"\n",
    "        ids = ids.squeeze(0) # [:8,:]\n",
    "        mask = mask.squeeze(0) # [:8,:]\n",
    "        order = order.squeeze(0)\n",
    "        md_mask = md_mask.squeeze(0)\n",
    "        # print(\"ids:\", ids.size())\n",
    "        #print(\"md_mask:\", md_mask.size())\n",
    "        #print(\"length:\", length)\n",
    "        \n",
    "        \n",
    "        #print(torch.cuda.memory_allocated(device=0) / (1024 * 1024))#0表示显卡号\n",
    "        \n",
    "        \"\"\"\n",
    "        print(\"size:\",ids.size()[0])\n",
    "        def get_batch():\n",
    "            q = 16\n",
    "            l = []\n",
    "            while q < length+16:\n",
    "                q_ids = ids[q-16:q, :]\n",
    "                q_mask = mask[q-16:q, :]\n",
    "                t = self.model(q_ids, q_mask)[1]\n",
    "                q += 16\n",
    "                l.append(t)\n",
    "            return torch.cat(l, 0)\n",
    "        \"\"\"\n",
    "        \n",
    "        def get_batch():\n",
    "            return self.model(ids, mask)[1].unsqueeze(0)\n",
    "        \n",
    "        if length > 48:\n",
    "            with torch.no_grad():\n",
    "                x = get_batch()\n",
    "        else:\n",
    "            x = get_batch()\n",
    "        del ids\n",
    "        del mask\n",
    "        \n",
    "        \n",
    "        # hn -> (Layer, batch, hiddenstate)\n",
    "        hn = torch.tile(torch.mean(x, 1).unsqueeze(1), (2,1,1)).cuda()\n",
    "        cn = torch.zeros_like(hn).cuda()\n",
    "        hcn = (hn, cn)\n",
    "        \n",
    "        md_len = len(order)\n",
    "        # print(\"hn:\", hn.size())\n",
    "        # x = self.model(ids, mask)[1]\n",
    "        # print(torch.cuda.memory_allocated(device=0) / (1024 * 1024))#0表示显卡号\n",
    "        \n",
    "        md_pos = [idx for idx, i in enumerate(md_mask) if i==1]\n",
    "        # print(\"md_pos:\", md_pos)\n",
    "        # print(\"md_mask:\", md_mask)\n",
    "        # print(\"order:\", order)\n",
    "        md_pool = torch.swapaxes(x[:, md_pos, :], 0, 1)\n",
    "        # print(\"md_num:\",md_len)\n",
    "        # print(\"md_pool:\", md_pool.size())\n",
    "        loss = 0\n",
    "        j, idx = 0, 0\n",
    "        for i in range(length):\n",
    "            if md_mask[i] == 1:\n",
    "                idx = order[j]\n",
    "                j += 1\n",
    "                # construct hcn for batch\n",
    "                hn, cn = hcn\n",
    "                hn = torch.tile(hn, (1, md_len, 1))\n",
    "                cn = torch.tile(cn, (1, md_len, 1))\n",
    "                t_hcn = (hn, cn)\n",
    "                \n",
    "                t_x, t_hcn = self.decoder(md_pool, t_hcn)\n",
    "                # t_x: (n, 1, h)\n",
    "                t_x = self.top(self.dropout(t_x))\n",
    "                # print(\"t_x:\", t_x.size(), \"  idx:\", idx)\n",
    "                output = self.softmax(t_x).squeeze(2).squeeze(1)\n",
    "                gt = torch.zeros_like(output)\n",
    "                gt[idx] = 1.\n",
    "                print(\"output:\",output)\n",
    "                print(\"gt:\", gt)\n",
    "                loss += self.loss(output, gt)\n",
    "                del t_hcn\n",
    "            # print(\"test:\", x[:, [i], :].size())\n",
    "            output, hcn = self.decoder(x[:, [i], :], hcn)\n",
    "        \n",
    "                \n",
    "        \n",
    "        ## concat\n",
    "        loss /= md_len\n",
    "        # print(\"loss:\", loss)\n",
    "\n",
    "        # lstm\n",
    "        #hn = \n",
    "        #hcn = \n",
    "        #for t in range():\n",
    "        #    output, hcn = self.decoder(x, hcn) # hcn = (hidden_state, cell_state)\n",
    "        # loss\n",
    "        # loss = 1\n",
    "\n",
    "        ## sentence order\n",
    "\n",
    "        ## coherence\n",
    "        return loss"
   ]
  },
  {
   "cell_type": "code",
   "execution_count": 22,
   "id": "5b534a7b",
   "metadata": {},
   "outputs": [],
   "source": [
    "import time\n",
    "def read_data(d):\n",
    "    return tuple([data.cuda() for data in d])\n",
    "\n",
    "\n",
    "def validate(model, val_loader):\n",
    "    model.eval()\n",
    "\n",
    "    tbar = tqdm(val_loader, file=sys.stdout)\n",
    "\n",
    "    preds = []\n",
    "    labels = []\n",
    "\n",
    "    with torch.no_grad():\n",
    "        for idx, data in enumerate(tbar):\n",
    "            inputs = read_data(data)\n",
    "\n",
    "            with torch.cuda.amp.autocast():\n",
    "                pred = model(*inputs)\n",
    "\n",
    "            preds.append(pred.detach().cpu().numpy().ravel())\n",
    "            labels.append(target.detach().cpu().numpy().ravel())\n",
    "\n",
    "    return np.concatenate(labels), np.concatenate(preds)\n",
    "\n",
    "\n",
    "def train(model, train_loader, val_loader, epochs):\n",
    "    np.random.seed(0)\n",
    "    # Creating optimizer and lr schedulers\n",
    "    param_optimizer = list(model.named_parameters())\n",
    "    no_decay = ['bias', 'LayerNorm.bias', 'LayerNorm.weight']\n",
    "    optimizer_grouped_parameters = [\n",
    "        {'params': [p for n, p in param_optimizer if not any(nd in n for nd in no_decay)], 'weight_decay': 0.01},\n",
    "        {'params': [p for n, p in param_optimizer if any(nd in n for nd in no_decay)], 'weight_decay': 0.0}\n",
    "    ]\n",
    "\n",
    "    num_train_optimization_steps = int(epochs * len(train_loader) / accumulation_steps)\n",
    "    optimizer = AdamW(optimizer_grouped_parameters, lr=3e-5,\n",
    "                      correct_bias=False)  # To reproduce BertAdam specific behavior set correct_bias=False\n",
    "    scheduler = get_linear_schedule_with_warmup(optimizer, num_warmup_steps=0.05 * num_train_optimization_steps,\n",
    "                                                num_training_steps=num_train_optimization_steps)  # PyTorch scheduler\n",
    "\n",
    "    criterion = torch.nn.L1Loss()\n",
    "    scaler = torch.cuda.amp.GradScaler()\n",
    "\n",
    "    for e in range(epochs):\n",
    "        model.train()\n",
    "        tbar = tqdm(train_loader, file=sys.stdout)\n",
    "        loss_list = []\n",
    "        preds = []\n",
    "        labels = []\n",
    "\n",
    "        #if e <= 2:\n",
    "            #y_val, y_pred = validate(model, val_loader)\n",
    "            #val_df[\"pred\"] = val_df.groupby([\"id\", \"cell_type\"])[\"rank\"].rank(pct=True)\n",
    "            #val_df.loc[val_df[\"cell_type\"] == \"markdown\", \"pred\"] = y_pred\n",
    "            #y_dummy = val_df.sort_values(\"pred\").groupby('id')['cell_id'].apply(list)\n",
    "            #print(\"Preds score\", kendall_tau(df_orders.loc[y_dummy.index], y_dummy))\n",
    "            #continue\n",
    "        #print(\"epoch:\", e)\n",
    "\n",
    "        for idx, data in enumerate(tbar):\n",
    "            inputs = read_data(data)\n",
    "            target = 1\n",
    "            \n",
    "            time.sleep(3)\n",
    "            with torch.cuda.amp.autocast():\n",
    "                pred = model(*inputs)\n",
    "                loss = criterion(pred, target)\n",
    "            scaler.scale(loss).backward()\n",
    "            if idx % args.accumulation_steps == 0 or idx == len(tbar) - 1:\n",
    "                scaler.step(optimizer)\n",
    "                scaler.update()\n",
    "                optimizer.zero_grad()\n",
    "                scheduler.step()\n",
    "\n",
    "            if idx % 10000 == 0:\n",
    "                torch.save(model.state_dict(), f\"./outputs/model_{idx}.bin\")\n",
    "\n",
    "            loss_list.append(loss.detach().cpu().item())\n",
    "            preds.append(pred.detach().cpu().numpy().ravel())\n",
    "            labels.append(target.detach().cpu().numpy().ravel())\n",
    "\n",
    "            avg_loss = np.round(np.mean(loss_list), 4)\n",
    "                                                                                                                                                                                                                                                                                                                                                                                                                                                                                                                                                                                                                                                                                                                                                                                                                                                                                                                                                                                                                                                                                                                                                                                                                                                                                                                                                                                                                                                                                                                                                                                                                                                                                                                                                                                                                                                                                                                                                                                                                                                                                                                                                                                                            \n",
    "            tbar.set_description(f\"Epoch {e + 1} Loss: {avg_loss} lr: {scheduler.get_last_lr()}\")\n",
    "\n",
    "        y_val, y_pred = validate(model, val_loader)\n",
    "        val_df[\"pred\"] = val_df.groupby([\"id\", \"cell_type\"])[\"rank\"].rank(pct=True)\n",
    "        val_df.loc[val_df[\"cell_type\"] == \"markdown\", \"pred\"] = y_pred\n",
    "        y_dummy = val_df.sort_values(\"pred\").groupby('id')['cell_id'].apply(list)\n",
    "        print(\"Preds score\", kendall_tau(df_orders.loc[y_dummy.index], y_dummy))\n",
    "        torch.save(model.state_dict(), f\"./outputs/model_epoch_{e+1}.bin\")\n",
    "\n",
    "    return model, y_pred\n",
    "\n",
    "model = BersonModel(model_name_or_path)\n",
    "model = model.cuda()\n",
    "model.load_state_dict(\"./outputs/model_10000.bin\")"
   ]
  },
  {
   "cell_type": "code",
   "execution_count": 23,
   "id": "7b3a9093",
   "metadata": {},
   "outputs": [
    {
     "name": "stderr",
     "output_type": "stream",
     "text": [
      "/home/mobius/anaconda3/envs/VIT/lib/python3.8/site-packages/transformers/optimization.py:306: FutureWarning: This implementation of AdamW is deprecated and will be removed in a future version. Use the PyTorch implementation torch.optim.AdamW instead, or set `no_deprecation_warning=True` to disable this warning\n",
      "  warnings.warn(\n"
     ]
    }
   ],
   "source": [
    "np.random.seed(0)\n",
    "# Creating optimizer and lr schedulers\n",
    "param_optimizer = list(model.named_parameters())\n",
    "no_decay = ['bias', 'LayerNorm.bias', 'LayerNorm.weight']\n",
    "optimizer_grouped_parameters = [\n",
    "    {'params': [p for n, p in param_optimizer if not any(nd in n for nd in no_decay)], 'weight_decay': 0.01},\n",
    "    {'params': [p for n, p in param_optimizer if any(nd in n for nd in no_decay)], 'weight_decay': 0.0}\n",
    "]\n",
    "\n",
    "num_train_optimization_steps = int(epochs * len(train_loader) / accumulation_steps)\n",
    "optimizer = AdamW(optimizer_grouped_parameters, lr=3e-5,\n",
    "                  correct_bias=False)  # To reproduce BertAdam specific behavior set correct_bias=False\n",
    "scheduler = get_linear_schedule_with_warmup(optimizer, num_warmup_steps=0.05 * num_train_optimization_steps,\n",
    "                                            num_training_steps=num_train_optimization_steps)  # PyTorch scheduler\n",
    "\n",
    "criterion = torch.nn.L1Loss()\n",
    "scaler = torch.cuda.amp.GradScaler()\n"
   ]
  },
  {
   "cell_type": "code",
   "execution_count": 24,
   "id": "12094982",
   "metadata": {},
   "outputs": [
    {
     "name": "stderr",
     "output_type": "stream",
     "text": [
      "\r",
      "  0%|                                                                                                                                                                                                                                                                                                                                                                                             | 0/125292 [00:00<?, ?it/s]"
     ]
    }
   ],
   "source": [
    "model.train()\n",
    "tbar = tqdm(train_loader)\n",
    "\n"
   ]
  },
  {
   "cell_type": "code",
   "execution_count": null,
   "id": "77caa223",
   "metadata": {},
   "outputs": [
    {
     "name": "stdout",
     "output_type": "stream",
     "text": [
      "memory allocated: 2078.1953125\n",
      "avg_loss: 0\n"
     ]
    },
    {
     "name": "stderr",
     "output_type": "stream",
     "text": [
      "  0%|▎                                                                                                                                                                                                                                                                                                                                                                               | 102/125292 [01:43<43:11:22,  1.24s/it]"
     ]
    },
    {
     "name": "stdout",
     "output_type": "stream",
     "text": [
      "memory allocated: 2078.27392578125\n",
      "avg_loss: 0.2915\n"
     ]
    },
    {
     "name": "stderr",
     "output_type": "stream",
     "text": [
      "  0%|▌                                                                                                                                                                                                                                                                                                                                                                               | 202/125292 [03:12<46:37:51,  1.34s/it]"
     ]
    },
    {
     "name": "stdout",
     "output_type": "stream",
     "text": [
      "memory allocated: 2078.20703125\n",
      "avg_loss: 0.307\n"
     ]
    },
    {
     "name": "stderr",
     "output_type": "stream",
     "text": [
      "  0%|▉                                                                                                                                                                                                                                                                                                                                                                               | 302/125292 [05:05<38:07:43,  1.10s/it]"
     ]
    },
    {
     "name": "stdout",
     "output_type": "stream",
     "text": [
      "memory allocated: 2078.1982421875\n",
      "avg_loss: 0.3071\n"
     ]
    },
    {
     "name": "stderr",
     "output_type": "stream",
     "text": [
      "  0%|█▏                                                                                                                                                                                                                                                                                                                                                                              | 402/125292 [06:27<40:48:17,  1.18s/it]"
     ]
    },
    {
     "name": "stdout",
     "output_type": "stream",
     "text": [
      "memory allocated: 2078.185546875\n",
      "avg_loss: 0.3122\n"
     ]
    },
    {
     "name": "stderr",
     "output_type": "stream",
     "text": [
      "  0%|█▍                                                                                                                                                                                                                                                                                                                                                                              | 500/125292 [07:43<26:09:21,  1.33it/s]"
     ]
    },
    {
     "name": "stdout",
     "output_type": "stream",
     "text": [
      "memory allocated: 2078.2109375\n",
      "avg_loss: 0.313\n"
     ]
    },
    {
     "name": "stderr",
     "output_type": "stream",
     "text": [
      "  0%|█▊                                                                                                                                                                                                                                                                                                                                                                              | 603/125292 [09:10<40:26:15,  1.17s/it]"
     ]
    },
    {
     "name": "stdout",
     "output_type": "stream",
     "text": [
      "memory allocated: 2078.3544921875\n",
      "avg_loss: 0.3082\n"
     ]
    },
    {
     "name": "stderr",
     "output_type": "stream",
     "text": [
      "  1%|██                                                                                                                                                                                                                                                                                                                                                                              | 702/125292 [10:31<16:07:51,  2.15it/s]"
     ]
    },
    {
     "name": "stdout",
     "output_type": "stream",
     "text": [
      "memory allocated: 2078.2060546875\n",
      "avg_loss: 0.3037\n"
     ]
    },
    {
     "name": "stderr",
     "output_type": "stream",
     "text": [
      "  1%|██▎                                                                                                                                                                                                                                                                                                                                                                             | 802/125292 [12:01<29:27:51,  1.17it/s]"
     ]
    },
    {
     "name": "stdout",
     "output_type": "stream",
     "text": [
      "memory allocated: 2078.201171875\n",
      "avg_loss: 0.3068\n"
     ]
    },
    {
     "name": "stderr",
     "output_type": "stream",
     "text": [
      "  1%|██▋                                                                                                                                                                                                                                                                                                                                                                             | 901/125292 [13:29<25:55:38,  1.33it/s]"
     ]
    },
    {
     "name": "stdout",
     "output_type": "stream",
     "text": [
      "memory allocated: 2078.203125\n",
      "avg_loss: 0.3033\n"
     ]
    },
    {
     "name": "stderr",
     "output_type": "stream",
     "text": [
      "  1%|██▉                                                                                                                                                                                                                                                                                                                                                                            | 1000/125292 [15:29<17:28:53,  1.97it/s]"
     ]
    },
    {
     "name": "stdout",
     "output_type": "stream",
     "text": [
      "memory allocated: 2078.2353515625\n",
      "avg_loss: 0.3034\n"
     ]
    },
    {
     "name": "stderr",
     "output_type": "stream",
     "text": [
      "  1%|███▏                                                                                                                                                                                                                                                                                                                                                                           | 1101/125292 [17:16<16:15:29,  2.12it/s]"
     ]
    },
    {
     "name": "stdout",
     "output_type": "stream",
     "text": [
      "memory allocated: 2078.2431640625\n",
      "avg_loss: 0.3043\n"
     ]
    },
    {
     "name": "stderr",
     "output_type": "stream",
     "text": [
      "  1%|███▌                                                                                                                                                                                                                                                                                                                                                                           | 1202/125292 [18:57<40:01:07,  1.16s/it]"
     ]
    },
    {
     "name": "stdout",
     "output_type": "stream",
     "text": [
      "memory allocated: 2078.2080078125\n",
      "avg_loss: 0.3047\n"
     ]
    },
    {
     "name": "stderr",
     "output_type": "stream",
     "text": [
      "  1%|███▊                                                                                                                                                                                                                                                                                                                                                                           | 1301/125292 [20:29<23:34:51,  1.46it/s]"
     ]
    },
    {
     "name": "stdout",
     "output_type": "stream",
     "text": [
      "memory allocated: 2078.2001953125\n",
      "avg_loss: 0.3046\n"
     ]
    },
    {
     "name": "stderr",
     "output_type": "stream",
     "text": [
      "  1%|████                                                                                                                                                                                                                                                                                                                                                                           | 1400/125292 [22:06<39:49:46,  1.16s/it]"
     ]
    },
    {
     "name": "stdout",
     "output_type": "stream",
     "text": [
      "memory allocated: 2078.19140625\n",
      "avg_loss: 0.3036\n"
     ]
    },
    {
     "name": "stderr",
     "output_type": "stream",
     "text": [
      "  1%|████▍                                                                                                                                                                                                                                                                                                                                                                          | 1502/125292 [23:28<12:16:00,  2.80it/s]"
     ]
    },
    {
     "name": "stdout",
     "output_type": "stream",
     "text": [
      "memory allocated: 2078.197265625\n",
      "avg_loss: 0.303\n"
     ]
    },
    {
     "name": "stderr",
     "output_type": "stream",
     "text": [
      "  1%|████▋                                                                                                                                                                                                                                                                                                                                                                          | 1602/125292 [25:09<49:42:39,  1.45s/it]"
     ]
    },
    {
     "name": "stdout",
     "output_type": "stream",
     "text": [
      "memory allocated: 2078.2421875\n",
      "avg_loss: 0.304\n"
     ]
    },
    {
     "name": "stderr",
     "output_type": "stream",
     "text": [
      "  1%|████▉                                                                                                                                                                                                                                                                                                                                                                          | 1700/125292 [26:27<41:46:17,  1.22s/it]"
     ]
    },
    {
     "name": "stdout",
     "output_type": "stream",
     "text": [
      "memory allocated: 2078.1962890625\n",
      "avg_loss: 0.3027\n"
     ]
    },
    {
     "name": "stderr",
     "output_type": "stream",
     "text": [
      "  1%|█████▎                                                                                                                                                                                                                                                                                                                                                                         | 1802/125292 [27:55<22:56:21,  1.50it/s]"
     ]
    },
    {
     "name": "stdout",
     "output_type": "stream",
     "text": [
      "memory allocated: 2078.2236328125\n",
      "avg_loss: 0.3014\n"
     ]
    },
    {
     "name": "stderr",
     "output_type": "stream",
     "text": [
      "  2%|█████▌                                                                                                                                                                                                                                                                                                                                                                         | 1900/125292 [29:15<25:09:57,  1.36it/s]"
     ]
    },
    {
     "name": "stdout",
     "output_type": "stream",
     "text": [
      "memory allocated: 2078.2373046875\n",
      "avg_loss: 0.3018\n"
     ]
    },
    {
     "name": "stderr",
     "output_type": "stream",
     "text": [
      "  2%|█████▊                                                                                                                                                                                                                                                                                                                                                                         | 2003/125292 [30:57<11:04:01,  3.09it/s]"
     ]
    },
    {
     "name": "stdout",
     "output_type": "stream",
     "text": [
      "memory allocated: 2078.19140625\n",
      "avg_loss: 0.3011\n"
     ]
    },
    {
     "name": "stderr",
     "output_type": "stream",
     "text": [
      "  2%|██████▏                                                                                                                                                                                                                                                                                                                                                                        | 2103/125292 [32:19<20:07:37,  1.70it/s]"
     ]
    },
    {
     "name": "stdout",
     "output_type": "stream",
     "text": [
      "memory allocated: 2078.23046875\n",
      "avg_loss: 0.3009\n"
     ]
    },
    {
     "name": "stderr",
     "output_type": "stream",
     "text": [
      "  2%|██████▍                                                                                                                                                                                                                                                                                                                                                                        | 2200/125292 [33:37<18:27:12,  1.85it/s]"
     ]
    },
    {
     "name": "stdout",
     "output_type": "stream",
     "text": [
      "memory allocated: 2078.1943359375\n",
      "avg_loss: 0.2999\n"
     ]
    },
    {
     "name": "stderr",
     "output_type": "stream",
     "text": [
      "  2%|██████▋                                                                                                                                                                                                                                                                                                                                                                        | 2303/125292 [34:50<19:54:59,  1.72it/s]"
     ]
    },
    {
     "name": "stdout",
     "output_type": "stream",
     "text": [
      "memory allocated: 2078.244140625\n",
      "avg_loss: 0.3\n"
     ]
    },
    {
     "name": "stderr",
     "output_type": "stream",
     "text": [
      "  2%|███████                                                                                                                                                                                                                                                                                                                                                                        | 2402/125292 [36:47<25:35:11,  1.33it/s]"
     ]
    },
    {
     "name": "stdout",
     "output_type": "stream",
     "text": [
      "memory allocated: 2078.2392578125\n",
      "avg_loss: 0.2982\n"
     ]
    },
    {
     "name": "stderr",
     "output_type": "stream",
     "text": [
      "  2%|███████▎                                                                                                                                                                                                                                                                                                                                                                       | 2503/125292 [38:24<23:21:03,  1.46it/s]"
     ]
    },
    {
     "name": "stdout",
     "output_type": "stream",
     "text": [
      "memory allocated: 2078.22265625\n",
      "avg_loss: 0.2977\n"
     ]
    },
    {
     "name": "stderr",
     "output_type": "stream",
     "text": [
      "  2%|███████▌                                                                                                                                                                                                                                                                                                                                                                       | 2600/125292 [39:43<11:14:07,  3.03it/s]"
     ]
    },
    {
     "name": "stdout",
     "output_type": "stream",
     "text": [
      "memory allocated: 2078.1943359375\n",
      "avg_loss: 0.2989\n"
     ]
    },
    {
     "name": "stderr",
     "output_type": "stream",
     "text": [
      "  2%|███████▉                                                                                                                                                                                                                                                                                                                                                                       | 2701/125292 [41:04<15:32:22,  2.19it/s]"
     ]
    },
    {
     "name": "stdout",
     "output_type": "stream",
     "text": [
      "memory allocated: 2078.203125\n",
      "avg_loss: 0.2995\n"
     ]
    },
    {
     "name": "stderr",
     "output_type": "stream",
     "text": [
      "  2%|████████▏                                                                                                                                                                                                                                                                                                                                                                      | 2802/125292 [42:39<31:36:45,  1.08it/s]"
     ]
    },
    {
     "name": "stdout",
     "output_type": "stream",
     "text": [
      "memory allocated: 2078.19921875\n",
      "avg_loss: 0.2996\n"
     ]
    },
    {
     "name": "stderr",
     "output_type": "stream",
     "text": [
      "  2%|████████▌                                                                                                                                                                                                                                                                                                                                                                      | 2902/125292 [44:32<79:53:01,  2.35s/it]"
     ]
    },
    {
     "name": "stdout",
     "output_type": "stream",
     "text": [
      "memory allocated: 2078.36376953125\n",
      "avg_loss: 0.2987\n"
     ]
    },
    {
     "name": "stderr",
     "output_type": "stream",
     "text": [
      "  2%|████████▊                                                                                                                                                                                                                                                                                                                                                                      | 3002/125292 [45:53<16:51:23,  2.02it/s]"
     ]
    },
    {
     "name": "stdout",
     "output_type": "stream",
     "text": [
      "memory allocated: 2078.2392578125\n",
      "avg_loss: 0.298\n"
     ]
    },
    {
     "name": "stderr",
     "output_type": "stream",
     "text": [
      "  2%|█████████                                                                                                                                                                                                                                                                                                                                                                      | 3101/125292 [47:33<69:22:25,  2.04s/it]"
     ]
    },
    {
     "name": "stdout",
     "output_type": "stream",
     "text": [
      "memory allocated: 2078.34130859375\n",
      "avg_loss: 0.298\n"
     ]
    },
    {
     "name": "stderr",
     "output_type": "stream",
     "text": [
      "  3%|█████████▍                                                                                                                                                                                                                                                                                                                                                                     | 3202/125292 [48:46<32:43:44,  1.04it/s]"
     ]
    },
    {
     "name": "stdout",
     "output_type": "stream",
     "text": [
      "memory allocated: 2078.26220703125\n",
      "avg_loss: 0.2993\n"
     ]
    },
    {
     "name": "stderr",
     "output_type": "stream",
     "text": [
      "  3%|█████████▋                                                                                                                                                                                                                                                                                                                                                                     | 3302/125292 [50:21<13:42:05,  2.47it/s]"
     ]
    },
    {
     "name": "stdout",
     "output_type": "stream",
     "text": [
      "memory allocated: 2078.2001953125\n",
      "avg_loss: 0.2983\n"
     ]
    },
    {
     "name": "stderr",
     "output_type": "stream",
     "text": [
      "  3%|█████████▉                                                                                                                                                                                                                                                                                                                                                                     | 3402/125292 [52:05<36:51:13,  1.09s/it]"
     ]
    },
    {
     "name": "stdout",
     "output_type": "stream",
     "text": [
      "memory allocated: 2078.24853515625\n",
      "avg_loss: 0.2988\n"
     ]
    },
    {
     "name": "stderr",
     "output_type": "stream",
     "text": [
      "  3%|██████████▎                                                                                                                                                                                                                                                                                                                                                                    | 3504/125292 [53:36<34:10:55,  1.01s/it]"
     ]
    },
    {
     "name": "stdout",
     "output_type": "stream",
     "text": [
      "memory allocated: 2078.28173828125\n",
      "avg_loss: 0.2982\n"
     ]
    },
    {
     "name": "stderr",
     "output_type": "stream",
     "text": [
      "  3%|██████████▌                                                                                                                                                                                                                                                                                                                                                                    | 3603/125292 [55:21<36:22:45,  1.08s/it]"
     ]
    },
    {
     "name": "stdout",
     "output_type": "stream",
     "text": [
      "memory allocated: 2078.2001953125\n",
      "avg_loss: 0.2971\n"
     ]
    },
    {
     "name": "stderr",
     "output_type": "stream",
     "text": [
      "  3%|██████████▊                                                                                                                                                                                                                                                                                                                                                                    | 3702/125292 [57:06<49:03:54,  1.45s/it]"
     ]
    },
    {
     "name": "stdout",
     "output_type": "stream",
     "text": [
      "memory allocated: 2078.29345703125\n",
      "avg_loss: 0.2977\n"
     ]
    },
    {
     "name": "stderr",
     "output_type": "stream",
     "text": [
      "  3%|███████████▏                                                                                                                                                                                                                                                                                                                                                                   | 3802/125292 [59:05<22:52:18,  1.48it/s]"
     ]
    },
    {
     "name": "stdout",
     "output_type": "stream",
     "text": [
      "memory allocated: 2078.2451171875\n",
      "avg_loss: 0.2971\n"
     ]
    },
    {
     "name": "stderr",
     "output_type": "stream",
     "text": [
      "  3%|███████████▎                                                                                                                                                                                                                                                                                                                                                                 | 3902/125292 [1:00:30<19:54:27,  1.69it/s]"
     ]
    },
    {
     "name": "stdout",
     "output_type": "stream",
     "text": [
      "memory allocated: 2078.2265625\n",
      "avg_loss: 0.2974\n"
     ]
    },
    {
     "name": "stderr",
     "output_type": "stream",
     "text": [
      "  3%|███████████▋                                                                                                                                                                                                                                                                                                                                                                 | 4000/125292 [1:01:54<32:18:56,  1.04it/s]"
     ]
    },
    {
     "name": "stdout",
     "output_type": "stream",
     "text": [
      "memory allocated: 2078.19921875\n",
      "avg_loss: 0.2978\n"
     ]
    },
    {
     "name": "stderr",
     "output_type": "stream",
     "text": [
      "  3%|███████████▉                                                                                                                                                                                                                                                                                                                                                                 | 4101/125292 [1:03:17<57:05:44,  1.70s/it]"
     ]
    },
    {
     "name": "stdout",
     "output_type": "stream",
     "text": [
      "memory allocated: 2078.2158203125\n",
      "avg_loss: 0.2982\n"
     ]
    },
    {
     "name": "stderr",
     "output_type": "stream",
     "text": [
      "  3%|████████████▏                                                                                                                                                                                                                                                                                                                                                                | 4201/125292 [1:04:48<65:16:47,  1.94s/it]"
     ]
    },
    {
     "name": "stdout",
     "output_type": "stream",
     "text": [
      "memory allocated: 2078.38818359375\n",
      "avg_loss: 0.298\n"
     ]
    },
    {
     "name": "stderr",
     "output_type": "stream",
     "text": [
      "  3%|████████████▌                                                                                                                                                                                                                                                                                                                                                                | 4301/125292 [1:06:18<17:09:01,  1.96it/s]"
     ]
    },
    {
     "name": "stdout",
     "output_type": "stream",
     "text": [
      "memory allocated: 2078.220703125\n",
      "avg_loss: 0.2983\n"
     ]
    },
    {
     "name": "stderr",
     "output_type": "stream",
     "text": [
      "  4%|████████████▊                                                                                                                                                                                                                                                                                                                                                                | 4400/125292 [1:07:44<16:56:59,  1.98it/s]"
     ]
    },
    {
     "name": "stdout",
     "output_type": "stream",
     "text": [
      "memory allocated: 2078.205078125\n",
      "avg_loss: 0.2985\n"
     ]
    },
    {
     "name": "stderr",
     "output_type": "stream",
     "text": [
      "  4%|█████████████                                                                                                                                                                                                                                                                                                                                                                | 4504/125292 [1:09:18<18:30:01,  1.81it/s]"
     ]
    },
    {
     "name": "stdout",
     "output_type": "stream",
     "text": [
      "memory allocated: 2078.2109375\n",
      "avg_loss: 0.2982\n"
     ]
    },
    {
     "name": "stderr",
     "output_type": "stream",
     "text": [
      "  4%|█████████████▍                                                                                                                                                                                                                                                                                                                                                               | 4602/125292 [1:11:04<38:16:19,  1.14s/it]"
     ]
    },
    {
     "name": "stdout",
     "output_type": "stream",
     "text": [
      "memory allocated: 2078.244140625\n",
      "avg_loss: 0.2981\n"
     ]
    },
    {
     "name": "stderr",
     "output_type": "stream",
     "text": [
      "  4%|█████████████▋                                                                                                                                                                                                                                                                                                                                                               | 4702/125292 [1:12:38<28:14:22,  1.19it/s]"
     ]
    },
    {
     "name": "stdout",
     "output_type": "stream",
     "text": [
      "memory allocated: 2078.197265625\n",
      "avg_loss: 0.2975\n"
     ]
    },
    {
     "name": "stderr",
     "output_type": "stream",
     "text": [
      "  4%|█████████████▉                                                                                                                                                                                                                                                                                                                                                               | 4802/125292 [1:13:57<16:52:13,  1.98it/s]"
     ]
    },
    {
     "name": "stdout",
     "output_type": "stream",
     "text": [
      "memory allocated: 2078.1904296875\n",
      "avg_loss: 0.2977\n"
     ]
    },
    {
     "name": "stderr",
     "output_type": "stream",
     "text": [
      "  4%|██████████████▎                                                                                                                                                                                                                                                                                                                                                              | 4900/125292 [1:15:23<20:43:24,  1.61it/s]"
     ]
    },
    {
     "name": "stdout",
     "output_type": "stream",
     "text": [
      "memory allocated: 2078.1962890625\n",
      "avg_loss: 0.2983\n"
     ]
    },
    {
     "name": "stderr",
     "output_type": "stream",
     "text": [
      "  4%|██████████████▌                                                                                                                                                                                                                                                                                                                                                              | 4999/125292 [1:17:04<36:40:43,  1.10s/it]"
     ]
    },
    {
     "name": "stdout",
     "output_type": "stream",
     "text": [
      "memory allocated: 2078.2041015625\n",
      "avg_loss: 0.2986\n"
     ]
    },
    {
     "name": "stderr",
     "output_type": "stream",
     "text": [
      "  4%|██████████████▊                                                                                                                                                                                                                                                                                                                                                              | 5101/125292 [1:18:43<35:20:45,  1.06s/it]"
     ]
    },
    {
     "name": "stdout",
     "output_type": "stream",
     "text": [
      "memory allocated: 2078.27490234375\n",
      "avg_loss: 0.2986\n"
     ]
    },
    {
     "name": "stderr",
     "output_type": "stream",
     "text": [
      "  4%|███████████████▏                                                                                                                                                                                                                                                                                                                                                             | 5203/125292 [1:20:11<12:29:53,  2.67it/s]"
     ]
    },
    {
     "name": "stdout",
     "output_type": "stream",
     "text": [
      "memory allocated: 2078.1962890625\n",
      "avg_loss: 0.2985\n"
     ]
    },
    {
     "name": "stderr",
     "output_type": "stream",
     "text": [
      "  4%|███████████████▍                                                                                                                                                                                                                                                                                                                                                             | 5301/125292 [1:21:30<14:49:56,  2.25it/s]"
     ]
    },
    {
     "name": "stdout",
     "output_type": "stream",
     "text": [
      "memory allocated: 2078.212890625\n",
      "avg_loss: 0.2984\n"
     ]
    },
    {
     "name": "stderr",
     "output_type": "stream",
     "text": [
      "  4%|███████████████▋                                                                                                                                                                                                                                                                                                                                                             | 5400/125292 [1:22:50<20:19:21,  1.64it/s]"
     ]
    },
    {
     "name": "stdout",
     "output_type": "stream",
     "text": [
      "memory allocated: 2078.23828125\n",
      "avg_loss: 0.2984\n"
     ]
    },
    {
     "name": "stderr",
     "output_type": "stream",
     "text": [
      "  4%|████████████████                                                                                                                                                                                                                                                                                                                                                             | 5501/125292 [1:24:18<40:20:38,  1.21s/it]"
     ]
    },
    {
     "name": "stdout",
     "output_type": "stream",
     "text": [
      "memory allocated: 2078.232421875\n",
      "avg_loss: 0.2985\n"
     ]
    },
    {
     "name": "stderr",
     "output_type": "stream",
     "text": [
      "  4%|████████████████▎                                                                                                                                                                                                                                                                                                                                                            | 5601/125292 [1:25:51<18:21:56,  1.81it/s]"
     ]
    },
    {
     "name": "stdout",
     "output_type": "stream",
     "text": [
      "memory allocated: 2078.19921875\n",
      "avg_loss: 0.2986\n"
     ]
    },
    {
     "name": "stderr",
     "output_type": "stream",
     "text": [
      "  5%|████████████████▌                                                                                                                                                                                                                                                                                                                                                            | 5701/125292 [1:27:10<17:58:40,  1.85it/s]"
     ]
    },
    {
     "name": "stdout",
     "output_type": "stream",
     "text": [
      "memory allocated: 2078.1962890625\n",
      "avg_loss: 0.2989\n"
     ]
    },
    {
     "name": "stderr",
     "output_type": "stream",
     "text": [
      "  5%|████████████████▉                                                                                                                                                                                                                                                                                                                                                            | 5802/125292 [1:28:38<16:23:28,  2.02it/s]"
     ]
    },
    {
     "name": "stdout",
     "output_type": "stream",
     "text": [
      "memory allocated: 2078.19140625\n",
      "avg_loss: 0.2994\n"
     ]
    },
    {
     "name": "stderr",
     "output_type": "stream",
     "text": [
      "  5%|█████████████████▏                                                                                                                                                                                                                                                                                                                                                           | 5901/125292 [1:29:52<36:41:49,  1.11s/it]"
     ]
    },
    {
     "name": "stdout",
     "output_type": "stream",
     "text": [
      "memory allocated: 2078.2119140625\n",
      "avg_loss: 0.3001\n"
     ]
    },
    {
     "name": "stderr",
     "output_type": "stream",
     "text": [
      "  5%|█████████████████▍                                                                                                                                                                                                                                                                                                                                                           | 6000/125292 [1:31:28<22:11:17,  1.49it/s]"
     ]
    },
    {
     "name": "stdout",
     "output_type": "stream",
     "text": [
      "memory allocated: 2078.2001953125\n",
      "avg_loss: 0.3003\n"
     ]
    },
    {
     "name": "stderr",
     "output_type": "stream",
     "text": [
      "  5%|█████████████████▊                                                                                                                                                                                                                                                                                                                                                           | 6101/125292 [1:33:03<19:49:36,  1.67it/s]"
     ]
    },
    {
     "name": "stdout",
     "output_type": "stream",
     "text": [
      "memory allocated: 2078.24853515625\n",
      "avg_loss: 0.3004\n"
     ]
    },
    {
     "name": "stderr",
     "output_type": "stream",
     "text": [
      "  5%|██████████████████                                                                                                                                                                                                                                                                                                                                                           | 6204/125292 [1:34:30<20:17:00,  1.63it/s]"
     ]
    },
    {
     "name": "stdout",
     "output_type": "stream",
     "text": [
      "memory allocated: 2078.24951171875\n",
      "avg_loss: 0.3002\n"
     ]
    },
    {
     "name": "stderr",
     "output_type": "stream",
     "text": [
      "  5%|██████████████████▎                                                                                                                                                                                                                                                                                                                                                          | 6303/125292 [1:36:14<17:24:16,  1.90it/s]"
     ]
    },
    {
     "name": "stdout",
     "output_type": "stream",
     "text": [
      "memory allocated: 2078.216796875\n",
      "avg_loss: 0.3002\n"
     ]
    },
    {
     "name": "stderr",
     "output_type": "stream",
     "text": [
      "  5%|██████████████████▋                                                                                                                                                                                                                                                                                                                                                          | 6402/125292 [1:37:48<24:01:47,  1.37it/s]"
     ]
    },
    {
     "name": "stdout",
     "output_type": "stream",
     "text": [
      "memory allocated: 2078.19921875\n",
      "avg_loss: 0.3002\n"
     ]
    },
    {
     "name": "stderr",
     "output_type": "stream",
     "text": [
      "  5%|██████████████████▉                                                                                                                                                                                                                                                                                                                                                          | 6499/125292 [1:39:29<35:25:44,  1.07s/it]"
     ]
    },
    {
     "name": "stdout",
     "output_type": "stream",
     "text": [
      "memory allocated: 2078.1884765625\n",
      "avg_loss: 0.3005\n"
     ]
    },
    {
     "name": "stderr",
     "output_type": "stream",
     "text": [
      "  5%|███████████████████▏                                                                                                                                                                                                                                                                                                                                                         | 6602/125292 [1:40:54<12:56:57,  2.55it/s]"
     ]
    },
    {
     "name": "stdout",
     "output_type": "stream",
     "text": [
      "memory allocated: 2078.220703125\n",
      "avg_loss: 0.3006\n"
     ]
    },
    {
     "name": "stderr",
     "output_type": "stream",
     "text": [
      "  5%|███████████████████▌                                                                                                                                                                                                                                                                                                                                                         | 6702/125292 [1:42:48<29:41:17,  1.11it/s]"
     ]
    },
    {
     "name": "stdout",
     "output_type": "stream",
     "text": [
      "memory allocated: 2078.1904296875\n",
      "avg_loss: 0.3006\n"
     ]
    },
    {
     "name": "stderr",
     "output_type": "stream",
     "text": [
      "  5%|███████████████████▊                                                                                                                                                                                                                                                                                                                                                         | 6802/125292 [1:44:32<31:18:10,  1.05it/s]"
     ]
    },
    {
     "name": "stdout",
     "output_type": "stream",
     "text": [
      "memory allocated: 2078.244140625\n",
      "avg_loss: 0.3008\n"
     ]
    },
    {
     "name": "stderr",
     "output_type": "stream",
     "text": [
      "  6%|████████████████████                                                                                                                                                                                                                                                                                                                                                         | 6902/125292 [1:46:05<44:26:20,  1.35s/it]"
     ]
    },
    {
     "name": "stdout",
     "output_type": "stream",
     "text": [
      "memory allocated: 2078.28466796875\n",
      "avg_loss: 0.3007\n"
     ]
    },
    {
     "name": "stderr",
     "output_type": "stream",
     "text": [
      "  6%|████████████████████▍                                                                                                                                                                                                                                                                                                                                                        | 7003/125292 [1:47:37<29:53:40,  1.10it/s]"
     ]
    },
    {
     "name": "stdout",
     "output_type": "stream",
     "text": [
      "memory allocated: 2078.26708984375\n",
      "avg_loss: 0.3004\n"
     ]
    },
    {
     "name": "stderr",
     "output_type": "stream",
     "text": [
      "  6%|████████████████████▋                                                                                                                                                                                                                                                                                                                                                        | 7103/125292 [1:49:11<20:27:56,  1.60it/s]"
     ]
    },
    {
     "name": "stdout",
     "output_type": "stream",
     "text": [
      "memory allocated: 2078.193359375\n",
      "avg_loss: 0.3004\n"
     ]
    },
    {
     "name": "stderr",
     "output_type": "stream",
     "text": [
      "  6%|████████████████████▉                                                                                                                                                                                                                                                                                                                                                        | 7201/125292 [1:51:04<32:11:00,  1.02it/s]"
     ]
    },
    {
     "name": "stdout",
     "output_type": "stream",
     "text": [
      "memory allocated: 2078.1982421875\n",
      "avg_loss: 0.3006\n"
     ]
    },
    {
     "name": "stderr",
     "output_type": "stream",
     "text": [
      "  6%|█████████████████████▎                                                                                                                                                                                                                                                                                                                                                       | 7303/125292 [1:52:47<36:44:57,  1.12s/it]"
     ]
    },
    {
     "name": "stdout",
     "output_type": "stream",
     "text": [
      "memory allocated: 2078.30419921875\n",
      "avg_loss: 0.3003\n"
     ]
    },
    {
     "name": "stderr",
     "output_type": "stream",
     "text": [
      "  6%|█████████████████████▌                                                                                                                                                                                                                                                                                                                                                       | 7402/125292 [1:54:19<16:05:02,  2.04it/s]"
     ]
    },
    {
     "name": "stdout",
     "output_type": "stream",
     "text": [
      "memory allocated: 2078.240234375\n",
      "avg_loss: 0.3002\n"
     ]
    },
    {
     "name": "stderr",
     "output_type": "stream",
     "text": [
      "  6%|█████████████████████▊                                                                                                                                                                                                                                                                                                                                                       | 7501/125292 [1:55:44<21:11:07,  1.54it/s]"
     ]
    },
    {
     "name": "stdout",
     "output_type": "stream",
     "text": [
      "memory allocated: 2078.220703125\n",
      "avg_loss: 0.2997\n"
     ]
    },
    {
     "name": "stderr",
     "output_type": "stream",
     "text": [
      "  6%|██████████████████████▏                                                                                                                                                                                                                                                                                                                                                      | 7600/125292 [1:57:33<18:39:14,  1.75it/s]"
     ]
    },
    {
     "name": "stdout",
     "output_type": "stream",
     "text": [
      "memory allocated: 2078.193359375\n",
      "avg_loss: 0.2995\n"
     ]
    },
    {
     "name": "stderr",
     "output_type": "stream",
     "text": [
      "  6%|██████████████████████▍                                                                                                                                                                                                                                                                                                                                                      | 7701/125292 [1:59:10<27:23:51,  1.19it/s]"
     ]
    },
    {
     "name": "stdout",
     "output_type": "stream",
     "text": [
      "memory allocated: 2078.2177734375\n",
      "avg_loss: 0.3\n"
     ]
    },
    {
     "name": "stderr",
     "output_type": "stream",
     "text": [
      "  6%|██████████████████████▋                                                                                                                                                                                                                                                                                                                                                      | 7801/125292 [2:00:22<18:15:59,  1.79it/s]"
     ]
    },
    {
     "name": "stdout",
     "output_type": "stream",
     "text": [
      "memory allocated: 2078.2177734375\n",
      "avg_loss: 0.3004\n"
     ]
    },
    {
     "name": "stderr",
     "output_type": "stream",
     "text": [
      "  6%|███████████████████████                                                                                                                                                                                                                                                                                                                                                      | 7901/125292 [2:01:56<27:09:33,  1.20it/s]"
     ]
    },
    {
     "name": "stdout",
     "output_type": "stream",
     "text": [
      "memory allocated: 2078.220703125\n",
      "avg_loss: 0.2999\n"
     ]
    },
    {
     "name": "stderr",
     "output_type": "stream",
     "text": [
      "  6%|███████████████████████▎                                                                                                                                                                                                                                                                                                                                                     | 7999/125292 [2:03:41<83:54:35,  2.58s/it]"
     ]
    },
    {
     "name": "stdout",
     "output_type": "stream",
     "text": [
      "memory allocated: 2078.1982421875\n",
      "avg_loss: 0.2999\n"
     ]
    },
    {
     "name": "stderr",
     "output_type": "stream",
     "text": [
      "  6%|███████████████████████▌                                                                                                                                                                                                                                                                                                                                                     | 8103/125292 [2:05:17<17:06:14,  1.90it/s]"
     ]
    },
    {
     "name": "stdout",
     "output_type": "stream",
     "text": [
      "memory allocated: 2078.2353515625\n",
      "avg_loss: 0.2998\n"
     ]
    },
    {
     "name": "stderr",
     "output_type": "stream",
     "text": [
      "  7%|███████████████████████▉                                                                                                                                                                                                                                                                                                                                                     | 8200/125292 [2:06:35<41:43:57,  1.28s/it]"
     ]
    },
    {
     "name": "stdout",
     "output_type": "stream",
     "text": [
      "memory allocated: 2078.2021484375\n",
      "avg_loss: 0.2998\n"
     ]
    },
    {
     "name": "stderr",
     "output_type": "stream",
     "text": [
      "  7%|████████████████████████▏                                                                                                                                                                                                                                                                                                                                                    | 8302/125292 [2:08:14<19:52:54,  1.63it/s]"
     ]
    },
    {
     "name": "stdout",
     "output_type": "stream",
     "text": [
      "memory allocated: 2078.27490234375\n",
      "avg_loss: 0.2999\n"
     ]
    },
    {
     "name": "stderr",
     "output_type": "stream",
     "text": [
      "  7%|████████████████████████▍                                                                                                                                                                                                                                                                                                                                                    | 8402/125292 [2:09:34<27:52:26,  1.16it/s]"
     ]
    },
    {
     "name": "stdout",
     "output_type": "stream",
     "text": [
      "memory allocated: 2078.234375\n",
      "avg_loss: 0.3003\n"
     ]
    },
    {
     "name": "stderr",
     "output_type": "stream",
     "text": [
      "  7%|████████████████████████▊                                                                                                                                                                                                                                                                                                                                                    | 8501/125292 [2:11:00<23:50:46,  1.36it/s]"
     ]
    },
    {
     "name": "stdout",
     "output_type": "stream",
     "text": [
      "memory allocated: 2078.20703125\n",
      "avg_loss: 0.3002\n"
     ]
    },
    {
     "name": "stderr",
     "output_type": "stream",
     "text": [
      "  7%|█████████████████████████                                                                                                                                                                                                                                                                                                                                                    | 8601/125292 [2:12:30<35:45:14,  1.10s/it]"
     ]
    },
    {
     "name": "stdout",
     "output_type": "stream",
     "text": [
      "memory allocated: 2078.2392578125\n",
      "avg_loss: 0.3002\n"
     ]
    },
    {
     "name": "stderr",
     "output_type": "stream",
     "text": [
      "  7%|█████████████████████████▎                                                                                                                                                                                                                                                                                                                                                   | 8703/125292 [2:14:01<17:37:35,  1.84it/s]"
     ]
    },
    {
     "name": "stdout",
     "output_type": "stream",
     "text": [
      "memory allocated: 2078.26123046875\n",
      "avg_loss: 0.3001\n"
     ]
    },
    {
     "name": "stderr",
     "output_type": "stream",
     "text": [
      "  7%|█████████████████████████▋                                                                                                                                                                                                                                                                                                                                                   | 8801/125292 [2:15:17<14:57:32,  2.16it/s]"
     ]
    },
    {
     "name": "stdout",
     "output_type": "stream",
     "text": [
      "memory allocated: 2078.21484375\n",
      "avg_loss: 0.3003\n"
     ]
    },
    {
     "name": "stderr",
     "output_type": "stream",
     "text": [
      "  7%|█████████████████████████▉                                                                                                                                                                                                                                                                                                                                                   | 8901/125292 [2:17:19<21:22:54,  1.51it/s]"
     ]
    },
    {
     "name": "stdout",
     "output_type": "stream",
     "text": [
      "memory allocated: 2078.2021484375\n",
      "avg_loss: 0.2999\n"
     ]
    },
    {
     "name": "stderr",
     "output_type": "stream",
     "text": [
      "  7%|██████████████████████████▏                                                                                                                                                                                                                                                                                                                                                  | 9002/125292 [2:18:29<20:47:09,  1.55it/s]"
     ]
    },
    {
     "name": "stdout",
     "output_type": "stream",
     "text": [
      "memory allocated: 2078.21484375\n",
      "avg_loss: 0.3002\n"
     ]
    },
    {
     "name": "stderr",
     "output_type": "stream",
     "text": [
      "  7%|██████████████████████████▌                                                                                                                                                                                                                                                                                                                                                  | 9101/125292 [2:19:48<14:36:19,  2.21it/s]"
     ]
    },
    {
     "name": "stdout",
     "output_type": "stream",
     "text": [
      "memory allocated: 2078.220703125\n",
      "avg_loss: 0.3004\n"
     ]
    },
    {
     "name": "stderr",
     "output_type": "stream",
     "text": [
      "  7%|██████████████████████████▊                                                                                                                                                                                                                                                                                                                                                  | 9201/125292 [2:21:24<19:07:40,  1.69it/s]"
     ]
    },
    {
     "name": "stdout",
     "output_type": "stream",
     "text": [
      "memory allocated: 2078.2265625\n",
      "avg_loss: 0.3004\n"
     ]
    },
    {
     "name": "stderr",
     "output_type": "stream",
     "text": [
      "  7%|███████████████████████████                                                                                                                                                                                                                                                                                                                                                  | 9301/125292 [2:22:44<17:42:48,  1.82it/s]"
     ]
    },
    {
     "name": "stdout",
     "output_type": "stream",
     "text": [
      "memory allocated: 2078.2001953125\n",
      "avg_loss: 0.3005\n"
     ]
    },
    {
     "name": "stderr",
     "output_type": "stream",
     "text": [
      "  8%|███████████████████████████▍                                                                                                                                                                                                                                                                                                                                                 | 9402/125292 [2:24:19<14:53:07,  2.16it/s]"
     ]
    },
    {
     "name": "stdout",
     "output_type": "stream",
     "text": [
      "memory allocated: 2078.2109375\n",
      "avg_loss: 0.3007\n"
     ]
    },
    {
     "name": "stderr",
     "output_type": "stream",
     "text": [
      "  8%|███████████████████████████▋                                                                                                                                                                                                                                                                                                                                                 | 9501/125292 [2:26:01<21:29:55,  1.50it/s]"
     ]
    },
    {
     "name": "stdout",
     "output_type": "stream",
     "text": [
      "memory allocated: 2078.1884765625\n",
      "avg_loss: 0.3007\n"
     ]
    },
    {
     "name": "stderr",
     "output_type": "stream",
     "text": [
      "  8%|███████████████████████████▉                                                                                                                                                                                                                                                                                                                                                 | 9602/125292 [2:27:44<40:09:41,  1.25s/it]"
     ]
    },
    {
     "name": "stdout",
     "output_type": "stream",
     "text": [
      "memory allocated: 2078.2109375\n",
      "avg_loss: 0.3006\n"
     ]
    },
    {
     "name": "stderr",
     "output_type": "stream",
     "text": [
      "  8%|████████████████████████████▎                                                                                                                                                                                                                                                                                                                                                | 9702/125292 [2:29:15<34:14:26,  1.07s/it]"
     ]
    },
    {
     "name": "stdout",
     "output_type": "stream",
     "text": [
      "memory allocated: 2078.216796875\n",
      "avg_loss: 0.3001\n"
     ]
    },
    {
     "name": "stderr",
     "output_type": "stream",
     "text": [
      "  8%|████████████████████████████▌                                                                                                                                                                                                                                                                                                                                                | 9802/125292 [2:30:55<47:56:19,  1.49s/it]"
     ]
    },
    {
     "name": "stdout",
     "output_type": "stream",
     "text": [
      "memory allocated: 2078.3251953125\n",
      "avg_loss: 0.3004\n"
     ]
    },
    {
     "name": "stderr",
     "output_type": "stream",
     "text": [
      "  8%|████████████████████████████▊                                                                                                                                                                                                                                                                                                                                                | 9902/125292 [2:32:52<20:13:18,  1.59it/s]"
     ]
    },
    {
     "name": "stdout",
     "output_type": "stream",
     "text": [
      "memory allocated: 2078.2197265625\n",
      "avg_loss: 0.3003\n"
     ]
    },
    {
     "name": "stderr",
     "output_type": "stream",
     "text": [
      "  8%|█████████████████████████████▏                                                                                                                                                                                                                                                                                                                                               | 9999/125292 [2:34:20<20:02:44,  1.60it/s]"
     ]
    },
    {
     "name": "stdout",
     "output_type": "stream",
     "text": [
      "memory allocated: 2078.2080078125\n",
      "avg_loss: 0.3006\n"
     ]
    },
    {
     "name": "stderr",
     "output_type": "stream",
     "text": [
      "  8%|█████████████████████████████▎                                                                                                                                                                                                                                                                                                                                              | 10101/125292 [2:35:59<20:14:17,  1.58it/s]"
     ]
    },
    {
     "name": "stdout",
     "output_type": "stream",
     "text": [
      "memory allocated: 2078.216796875\n",
      "avg_loss: 0.3006\n"
     ]
    },
    {
     "name": "stderr",
     "output_type": "stream",
     "text": [
      "  8%|█████████████████████████████▋                                                                                                                                                                                                                                                                                                                                              | 10201/125292 [2:38:07<14:38:07,  2.18it/s]"
     ]
    },
    {
     "name": "stdout",
     "output_type": "stream",
     "text": [
      "memory allocated: 2078.2099609375\n",
      "avg_loss: 0.3004\n"
     ]
    },
    {
     "name": "stderr",
     "output_type": "stream",
     "text": [
      "  8%|█████████████████████████████▉                                                                                                                                                                                                                                                                                                                                              | 10301/125292 [2:39:39<22:44:39,  1.40it/s]"
     ]
    },
    {
     "name": "stdout",
     "output_type": "stream",
     "text": [
      "memory allocated: 2078.212890625\n",
      "avg_loss: 0.3005\n"
     ]
    },
    {
     "name": "stderr",
     "output_type": "stream",
     "text": [
      "  8%|██████████████████████████████▏                                                                                                                                                                                                                                                                                                                                             | 10403/125292 [2:41:04<38:09:17,  1.20s/it]"
     ]
    },
    {
     "name": "stdout",
     "output_type": "stream",
     "text": [
      "memory allocated: 2078.34716796875\n",
      "avg_loss: 0.3006\n"
     ]
    },
    {
     "name": "stderr",
     "output_type": "stream",
     "text": [
      "  8%|██████████████████████████████▌                                                                                                                                                                                                                                                                                                                                             | 10501/125292 [2:42:48<34:24:34,  1.08s/it]"
     ]
    },
    {
     "name": "stdout",
     "output_type": "stream",
     "text": [
      "memory allocated: 2078.2294921875\n",
      "avg_loss: 0.3005\n"
     ]
    },
    {
     "name": "stderr",
     "output_type": "stream",
     "text": [
      "  8%|██████████████████████████████▊                                                                                                                                                                                                                                                                                                                                             | 10601/125292 [2:44:29<30:39:15,  1.04it/s]"
     ]
    },
    {
     "name": "stdout",
     "output_type": "stream",
     "text": [
      "memory allocated: 2078.2060546875\n",
      "avg_loss: 0.3004\n"
     ]
    },
    {
     "name": "stderr",
     "output_type": "stream",
     "text": [
      "  9%|███████████████████████████████                                                                                                                                                                                                                                                                                                                                             | 10700/125292 [2:46:41<36:12:47,  1.14s/it]"
     ]
    },
    {
     "name": "stdout",
     "output_type": "stream",
     "text": [
      "memory allocated: 2078.232421875\n",
      "avg_loss: 0.3\n"
     ]
    },
    {
     "name": "stderr",
     "output_type": "stream",
     "text": [
      "  9%|███████████████████████████████▍                                                                                                                                                                                                                                                                                                                                            | 10802/125292 [2:48:19<27:07:21,  1.17it/s]"
     ]
    },
    {
     "name": "stdout",
     "output_type": "stream",
     "text": [
      "memory allocated: 2078.208984375\n",
      "avg_loss: 0.2998\n"
     ]
    },
    {
     "name": "stderr",
     "output_type": "stream",
     "text": [
      "  9%|███████████████████████████████▋                                                                                                                                                                                                                                                                                                                                            | 10900/125292 [2:49:42<18:02:21,  1.76it/s]"
     ]
    },
    {
     "name": "stdout",
     "output_type": "stream",
     "text": [
      "memory allocated: 2078.2109375\n",
      "avg_loss: 0.2999\n"
     ]
    },
    {
     "name": "stderr",
     "output_type": "stream",
     "text": [
      "  9%|███████████████████████████████▉                                                                                                                                                                                                                                                                                                                                            | 11001/125292 [2:51:12<19:48:42,  1.60it/s]"
     ]
    },
    {
     "name": "stdout",
     "output_type": "stream",
     "text": [
      "memory allocated: 2078.21875\n",
      "avg_loss: 0.3001\n"
     ]
    },
    {
     "name": "stderr",
     "output_type": "stream",
     "text": [
      "  9%|████████████████████████████████▎                                                                                                                                                                                                                                                                                                                                           | 11102/125292 [2:52:38<19:02:27,  1.67it/s]"
     ]
    },
    {
     "name": "stdout",
     "output_type": "stream",
     "text": [
      "memory allocated: 2078.24658203125\n",
      "avg_loss: 0.3004\n"
     ]
    },
    {
     "name": "stderr",
     "output_type": "stream",
     "text": [
      "  9%|████████████████████████████████▌                                                                                                                                                                                                                                                                                                                                           | 11200/125292 [2:54:13<32:15:32,  1.02s/it]"
     ]
    },
    {
     "name": "stdout",
     "output_type": "stream",
     "text": [
      "memory allocated: 2078.1982421875\n",
      "avg_loss: 0.3001\n"
     ]
    },
    {
     "name": "stderr",
     "output_type": "stream",
     "text": [
      "  9%|████████████████████████████████▋                                                                                                                                                                                                                                                                                                                                           | 11261/125292 [2:55:32<25:15:44,  1.25it/s]"
     ]
    }
   ],
   "source": [
    "loss_list = []\n",
    "preds = []\n",
    "labels = []\n",
    "\n",
    "#if e <= 2:\n",
    "    #y_val, y_pred = validate(model, val_loader)\n",
    "    #val_df[\"pred\"] = val_df.groupby([\"id\", \"cell_type\"])[\"rank\"].rank(pct=True)\n",
    "    #val_df.loc[val_df[\"cell_type\"] == \"markdown\", \"pred\"] = y_pred\n",
    "    #y_dummy = val_df.sort_values(\"pred\").groupby('id')['cell_id'].apply(list)\n",
    "    #print(\"Preds score\", kendall_tau(df_orders.loc[y_dummy.index], y_dummy))\n",
    "    #continue\n",
    "#print(\"epoch:\", e)\n",
    "\n",
    "avg_loss = 0\n",
    "for idx, data in enumerate(tbar):\n",
    "    # print(type(data), type(data[0]), data[0].size())\n",
    "    # print(\"data[3].size()[1]: \",data[3].size()[1])\n",
    "        \n",
    "    data = read_data(data)\n",
    "    \n",
    "    #with torch.cuda.amp.autocast():\n",
    "    loss = model(*data)\n",
    "        # loss = criterion(pred, target)\n",
    "    scaler.scale(loss).backward()\n",
    "    if idx % accumulation_steps == 0 or idx == len(tbar) - 1:\n",
    "        scaler.step(optimizer)\n",
    "        scaler.update()\n",
    "        optimizer.zero_grad()\n",
    "        scheduler.step()\n",
    "\n",
    "    if idx % 100 == 0:\n",
    "        print(\"memory allocated:\",torch.cuda.memory_allocated(device=0) / (1024 * 1024))\n",
    "        print(\"avg_loss:\", avg_loss)\n",
    "    if idx % 5000 == 0:\n",
    "        torch.save(model.state_dict(), f\"./outputs/model_{idx}.bin\")\n",
    "\n",
    "    loss_list.append(loss.detach().cpu().item())\n",
    "    # preds.append(pred.detach().cpu().numpy().ravel())\n",
    "    # labels.append(target.detach().cpu().numpy().ravel())\n",
    "\n",
    "    avg_loss = np.round(np.mean(loss_list), 4)"
   ]
  },
  {
   "cell_type": "markdown",
   "id": "a7c5fb62",
   "metadata": {},
   "source": [
    "## next"
   ]
  },
  {
   "cell_type": "code",
   "execution_count": null,
   "id": "35b3bdbd",
   "metadata": {},
   "outputs": [],
   "source": [
    "with torch.cuda.amp.autocast():\n",
    "        pred = model(*inputs)\n",
    "        loss = criterion(pred, target)\n",
    "    scaler.scale(loss).backward()\n",
    "    if idx % args.accumulation_steps == 0 or idx == len(tbar) - 1:\n",
    "        scaler.step(optimizer)\n",
    "        scaler.update()\n",
    "        optimizer.zero_grad()\n",
    "        scheduler.step()\n",
    "\n",
    "    if idx % 10000 == 0:\n",
    "        torch.save(model.state_dict(), f\"./outputs/model_{idx}.bin\")\n",
    "\n",
    "    loss_list.append(loss.detach().cpu().item())\n",
    "    preds.append(pred.detach().cpu().numpy().ravel())\n",
    "    labels.append(target.detach().cpu().numpy().ravel())\n",
    "\n",
    "    avg_loss = np.round(np.mean(loss_list), 4)\n",
    "\n",
    "    tbar.set_description(f\"Epoch {e + 1} Loss: {avg_loss} lr: {scheduler.get_last_lr()}\")\n",
    "\n",
    "\n",
    "\n",
    "y_val, y_pred = validate(model, val_loader)\n",
    "val_df[\"pred\"] = val_df.groupby([\"id\", \"cell_type\"])[\"rank\"].rank(pct=True)\n",
    "val_df.loc[val_df[\"cell_type\"] == \"markdown\", \"pred\"] = y_pred\n",
    "y_dummy = val_df.sort_values(\"pred\").groupby('id')['cell_id'].apply(list)\n",
    "print(\"Preds score\", kendall_tau(df_orders.loc[y_dummy.index], y_dummy))\n",
    "torch.save(model.state_dict(), f\"./outputs/model_epoch_{e+1}.bin\")"
   ]
  },
  {
   "cell_type": "code",
   "execution_count": null,
   "id": "c367ed50",
   "metadata": {},
   "outputs": [],
   "source": [
    "for e in range(epochs):\n",
    "    model.train()\n",
    "    tbar = tqdm(train_loader, file=sys.stdout)\n",
    "    loss_list = []\n",
    "    preds = []\n",
    "    labels = []\n",
    "\n",
    "    #if e <= 2:\n",
    "        #y_val, y_pred = validate(model, val_loader)\n",
    "        #val_df[\"pred\"] = val_df.groupby([\"id\", \"cell_type\"])[\"rank\"].rank(pct=True)\n",
    "        #val_df.loc[val_df[\"cell_type\"] == \"markdown\", \"pred\"] = y_pred\n",
    "        #y_dummy = val_df.sort_values(\"pred\").groupby('id')['cell_id'].apply(list)\n",
    "        #print(\"Preds score\", kendall_tau(df_orders.loc[y_dummy.index], y_dummy))\n",
    "        #continue\n",
    "    #print(\"epoch:\", e)\n",
    "\n",
    "    for idx, data in enumerate(tbar):\n",
    "        inputs = read_data(data)\n",
    "        target = 1\n",
    "\n",
    "        time.sleep(3)\n",
    "        with torch.cuda.amp.autocast():\n",
    "            pred = model(*inputs)\n",
    "            loss = criterion(pred, target)\n",
    "        scaler.scale(loss).backward()\n",
    "        if idx % args.accumulation_steps == 0 or idx == len(tbar) - 1:\n",
    "            scaler.step(optimizer)\n",
    "            scaler.update()\n",
    "            optimizer.zero_grad()\n",
    "            scheduler.step()\n",
    "\n",
    "        if idx % 10000 == 0:\n",
    "            torch.save(model.state_dict(), f\"./outputs/model_{idx}.bin\")\n",
    "\n",
    "        loss_list.append(loss.detach().cpu().item())\n",
    "        preds.append(pred.detach().cpu().numpy().ravel())\n",
    "        labels.append(target.detach().cpu().numpy().ravel())\n",
    "\n",
    "        avg_loss = np.round(np.mean(loss_list), 4)\n",
    "\n",
    "        tbar.set_description(f\"Epoch {e + 1} Loss: {avg_loss} lr: {scheduler.get_last_lr()}\")\n",
    "\n",
    "    y_val, y_pred = validate(model, val_loader)\n",
    "    val_df[\"pred\"] = val_df.groupby([\"id\", \"cell_type\"])[\"rank\"].rank(pct=True)\n",
    "    val_df.loc[val_df[\"cell_type\"] == \"markdown\", \"pred\"] = y_pred\n",
    "    y_dummy = val_df.sort_values(\"pred\").groupby('id')['cell_id'].apply(list)\n",
    "    print(\"Preds score\", kendall_tau(df_orders.loc[y_dummy.index], y_dummy))\n",
    "    torch.save(model.state_dict(), f\"./outputs/model_epoch_{e+1}.bin\")\n",
    "\n",
    "return model, y_pred"
   ]
  },
  {
   "cell_type": "code",
   "execution_count": null,
   "id": "2bca36f8",
   "metadata": {},
   "outputs": [],
   "source": [
    "# model.load_state_dict(torch.load(\"./outputs/model.bin\"))\n",
    "model, y_pred = train(model, train_loader, val_loader, epochs=epochs)\n"
   ]
  },
  {
   "cell_type": "code",
   "execution_count": null,
   "id": "2768e9c9",
   "metadata": {},
   "outputs": [],
   "source": [
    "train_df.loc['3a16a457']"
   ]
  },
  {
   "cell_type": "code",
   "execution_count": null,
   "id": "46133176",
   "metadata": {},
   "outputs": [],
   "source": []
  },
  {
   "cell_type": "code",
   "execution_count": null,
   "id": "a697991d",
   "metadata": {},
   "outputs": [],
   "source": []
  },
  {
   "cell_type": "code",
   "execution_count": null,
   "id": "2b77d894",
   "metadata": {},
   "outputs": [],
   "source": []
  },
  {
   "cell_type": "code",
   "execution_count": null,
   "id": "8e049489",
   "metadata": {},
   "outputs": [],
   "source": []
  },
  {
   "cell_type": "code",
   "execution_count": 28,
   "id": "fc0a8f70",
   "metadata": {},
   "outputs": [
    {
     "name": "stdout",
     "output_type": "stream",
     "text": [
      "2053.2802734375\n",
      "0.0002880096435546875\n"
     ]
    }
   ],
   "source": [
    "s = time.time()\n",
    "print(torch.cuda.memory_allocated(device=0) / (1024 * 1024))\n",
    "print(time.time()-s)"
   ]
  },
  {
   "cell_type": "code",
   "execution_count": null,
   "id": "a3333c0f",
   "metadata": {},
   "outputs": [],
   "source": []
  },
  {
   "cell_type": "code",
   "execution_count": null,
   "id": "4829c530",
   "metadata": {},
   "outputs": [],
   "source": []
  },
  {
   "cell_type": "code",
   "execution_count": null,
   "id": "de554ee5",
   "metadata": {},
   "outputs": [],
   "source": []
  },
  {
   "cell_type": "code",
   "execution_count": null,
   "id": "82953ad1",
   "metadata": {},
   "outputs": [],
   "source": []
  },
  {
   "cell_type": "code",
   "execution_count": null,
   "id": "ffe16532",
   "metadata": {},
   "outputs": [],
   "source": []
  },
  {
   "cell_type": "code",
   "execution_count": null,
   "id": "e595c7ba",
   "metadata": {},
   "outputs": [],
   "source": []
  }
 ],
 "metadata": {
  "kernelspec": {
   "display_name": "Python 3 (ipykernel)",
   "language": "python",
   "name": "python3"
  },
  "language_info": {
   "codemirror_mode": {
    "name": "ipython",
    "version": 3
   },
   "file_extension": ".py",
   "mimetype": "text/x-python",
   "name": "python",
   "nbconvert_exporter": "python",
   "pygments_lexer": "ipython3",
   "version": "3.8.13"
  }
 },
 "nbformat": 4,
 "nbformat_minor": 5
}
