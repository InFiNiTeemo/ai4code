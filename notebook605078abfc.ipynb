{
 "cells": [
  {
   "cell_type": "code",
   "execution_count": 1,
   "id": "8d0684d4",
   "metadata": {
    "_kg_hide-output": true,
    "execution": {
     "iopub.execute_input": "2023-05-07T22:57:02.325706Z",
     "iopub.status.busy": "2023-05-07T22:57:02.324756Z",
     "iopub.status.idle": "2023-05-07T22:57:34.749709Z",
     "shell.execute_reply": "2023-05-07T22:57:34.748112Z"
    },
    "papermill": {
     "duration": 32.440495,
     "end_time": "2023-05-07T22:57:34.752891",
     "exception": false,
     "start_time": "2023-05-07T22:57:02.312396",
     "status": "completed"
    },
    "tags": []
   },
   "outputs": [
    {
     "name": "stdout",
     "output_type": "stream",
     "text": [
      "Processing /kaggle/input/nnaudio031/nnAudio-0.3.1-py3-none-any.whl\r\n",
      "Requirement already satisfied: scipy in /opt/conda/lib/python3.10/site-packages (from nnAudio==0.3.1) (1.9.3)\r\n",
      "Requirement already satisfied: numpy<1.26.0,>=1.18.5 in /opt/conda/lib/python3.10/site-packages (from scipy->nnAudio==0.3.1) (1.23.5)\r\n",
      "Installing collected packages: nnAudio\r\n",
      "Successfully installed nnAudio-0.3.1\r\n",
      "\u001b[33mWARNING: Running pip as the 'root' user can result in broken permissions and conflicting behaviour with the system package manager. It is recommended to use a virtual environment instead: https://pip.pypa.io/warnings/venv\u001b[0m\u001b[33m\r\n",
      "\u001b[0m"
     ]
    }
   ],
   "source": [
    "## setup\n",
    "## TODO: move all under bird2022wheels\n",
    "\n",
    "#!pip install ../input/birds-inference-pip-wheels/torchaudio-0.8.1-cp37-cp37m-manylinux1_x86_64.whl ../input/birds-inference-pip-wheels/torch-1.8.1-cp37-cp37m-manylinux1_x86_64.whl\n",
    "#!pip install ../input/birds-inference-pip-wheels/audiomentations-0.16.0-py3-none-any.whl --no-index --no-deps\n",
    "#!pip install ../input/birds-inference-pip-wheels/torchlibrosa-0.0.9-py3-none-any.whl --no-index --no-deps\n",
    "!pip install ../input/nnaudio031/nnAudio-0.3.1-py3-none-any.whl\n",
    "#!cp -r ../input/timmlatest ../working/timmlatest\n",
    "#!pip install -U ../working/timmlatest\n",
    "#!rm -rf ../working/timmlatest\n",
    "\n",
    "# !pip install nnAudio"
   ]
  },
  {
   "cell_type": "code",
   "execution_count": 2,
   "id": "050c8972",
   "metadata": {
    "execution": {
     "iopub.execute_input": "2023-05-07T22:57:34.767017Z",
     "iopub.status.busy": "2023-05-07T22:57:34.766583Z",
     "iopub.status.idle": "2023-05-07T22:57:34.771610Z",
     "shell.execute_reply": "2023-05-07T22:57:34.770379Z"
    },
    "papermill": {
     "duration": 0.014936,
     "end_time": "2023-05-07T22:57:34.773863",
     "exception": false,
     "start_time": "2023-05-07T22:57:34.758927",
     "status": "completed"
    },
    "tags": []
   },
   "outputs": [],
   "source": [
    "# !ls /kaggle/input/blef0503/\n",
    "# !ls /kaggle/input/ef-v0/\n",
    "# !ls /kaggle/input/birds-inference-pip-wheels/*\n",
    "# !pip freeze|grep torch"
   ]
  },
  {
   "cell_type": "code",
   "execution_count": 3,
   "id": "295773b5",
   "metadata": {
    "execution": {
     "iopub.execute_input": "2023-05-07T22:57:34.786490Z",
     "iopub.status.busy": "2023-05-07T22:57:34.786051Z",
     "iopub.status.idle": "2023-05-07T22:57:34.791703Z",
     "shell.execute_reply": "2023-05-07T22:57:34.790563Z"
    },
    "papermill": {
     "duration": 0.014574,
     "end_time": "2023-05-07T22:57:34.793907",
     "exception": false,
     "start_time": "2023-05-07T22:57:34.779333",
     "status": "completed"
    },
    "tags": []
   },
   "outputs": [],
   "source": [
    "## https://github.com/Selimonder/birdclef2022/\n",
    "import os, sys, glob, math\n",
    "\n",
    "os.environ[\"MKL_NUM_THREADS\"] = \"1\"\n",
    "os.environ[\"OMP_NUM_THREADS\"] = \"1\"\n",
    "\n",
    "github_folder = \"/kaggle/input/blef0508v3\"\n",
    "sys.path.append(github_folder)"
   ]
  },
  {
   "cell_type": "code",
   "execution_count": 4,
   "id": "77880410",
   "metadata": {
    "execution": {
     "iopub.execute_input": "2023-05-07T22:57:34.807052Z",
     "iopub.status.busy": "2023-05-07T22:57:34.806652Z",
     "iopub.status.idle": "2023-05-07T22:57:42.267716Z",
     "shell.execute_reply": "2023-05-07T22:57:42.266456Z"
    },
    "papermill": {
     "duration": 7.471132,
     "end_time": "2023-05-07T22:57:42.270434",
     "exception": false,
     "start_time": "2023-05-07T22:57:34.799302",
     "status": "completed"
    },
    "tags": []
   },
   "outputs": [
    {
     "name": "stderr",
     "output_type": "stream",
     "text": [
      "/opt/conda/lib/python3.10/site-packages/scipy/__init__.py:146: UserWarning: A NumPy version >=1.16.5 and <1.23.0 is required for this version of SciPy (detected version 1.23.5\n",
      "  warnings.warn(f\"A NumPy version >={np_minversion} and <{np_maxversion}\"\n",
      "/opt/conda/lib/python3.10/site-packages/nnAudio/Spectrogram.py:4: Warning: importing Spectrogram subpackage will be deprecated soon. You should import the feature extractor from the feature subpackage. See actual documentation.\n",
      "  warnings.warn(\n"
     ]
    }
   ],
   "source": [
    "import cv2\n",
    "import gc\n",
    "import torch\n",
    "import librosa\n",
    "import argparse, warnings\n",
    "\n",
    "import numpy as np\n",
    "import pandas as pd\n",
    "import IPython.display as ipd\n",
    "\n",
    "import zoo\n",
    "from training.config import load_config\n",
    "from training.datasets import BirdDatasetOOF\n",
    "\n",
    "\n",
    "cv2.ocl.setUseOpenCL(False)\n",
    "cv2.setNumThreads(0)\n",
    "\n",
    "from tqdm import tqdm\n",
    "from torch.utils.data import DataLoader\n",
    "\n",
    "warnings.simplefilter(\"ignore\")"
   ]
  },
  {
   "cell_type": "markdown",
   "id": "c70079fb",
   "metadata": {
    "papermill": {
     "duration": 0.005042,
     "end_time": "2023-05-07T22:57:42.281029",
     "exception": false,
     "start_time": "2023-05-07T22:57:42.275987",
     "status": "completed"
    },
    "tags": []
   },
   "source": [
    "## models"
   ]
  },
  {
   "cell_type": "code",
   "execution_count": 5,
   "id": "f247a19d",
   "metadata": {
    "execution": {
     "iopub.execute_input": "2023-05-07T22:57:42.294061Z",
     "iopub.status.busy": "2023-05-07T22:57:42.293638Z",
     "iopub.status.idle": "2023-05-07T22:57:43.040845Z",
     "shell.execute_reply": "2023-05-07T22:57:43.039295Z"
    },
    "papermill": {
     "duration": 0.756957,
     "end_time": "2023-05-07T22:57:43.043481",
     "exception": false,
     "start_time": "2023-05-07T22:57:42.286524",
     "status": "completed"
    },
    "tags": []
   },
   "outputs": [
    {
     "name": "stdout",
     "output_type": "stream",
     "text": [
      "False <class 'bool'>\n",
      "/kaggle/input/ef-v0/ef_v0_TimmClassifier_v3_tf_efficientnet_b0_0_lb\n",
      "initing CLS features model 15 duration...\n",
      "{'in_chans': 1, 'drop_path_rate': 0.2, 'drop_rate': 0.5}\n",
      "=> loading checkpoint '/kaggle/input/ef-v0/ef_v0_TimmClassifier_v3_tf_efficientnet_b0_0_lb''\n",
      "epoch 19\n"
     ]
    }
   ],
   "source": [
    "def load_model(conf_path: str, weights_path: str, prefix: str, suffix: str, fold: int, to_device: bool = True):\n",
    "    conf = load_config(conf_path)\n",
    "    conf['encoder_params']['pretrained'] = False\n",
    "    print(conf['encoder_params']['pretrained'], type(conf['encoder_params']['pretrained']))\n",
    "    \n",
    "    snapshot_name = \"{}{}_{}_{}_{}\".format(prefix, conf[\"network\"], conf[\"encoder_params\"][\"encoder\"], fold, suffix)\n",
    "    weights_path = os.path.join(weights_path, snapshot_name)\n",
    "    print(weights_path)\n",
    "    \n",
    "    model = zoo.__dict__[conf[\"network\"]](**conf[\"encoder_params\"])\n",
    "    model = torch.nn.DataParallel(model)\n",
    "    print(\"=> loading checkpoint '{}''\".format(weights_path))\n",
    "    checkpoint = torch.load(weights_path, map_location=\"cpu\")\n",
    "    print(\"epoch\", checkpoint[\"epoch\"])\n",
    "    model.load_state_dict(checkpoint[\"state_dict\"])\n",
    "    model.eval()\n",
    "    if to_device: model.cuda()\n",
    "    return model\n",
    "\n",
    "models = []\n",
    "\n",
    "## best only for now\n",
    "suffixes = [\"lb\"]#, \"f1_score\" \"last\"]\n",
    "folds    = 5\n",
    "\n",
    "for i in [0]:\n",
    "    for sx in suffixes:\n",
    "        try:\n",
    "            model = load_model(conf_path    = f\"{github_folder}/configs/cls_ef_v0.json\",\n",
    "                               weights_path = f\"/kaggle/input/ef-v0\",\n",
    "                               prefix       = \"ef_v0_\",\n",
    "                               suffix       = sx,\n",
    "                               fold         = i,\n",
    "                               to_device    = False,)\n",
    "            models.append(model)\n",
    "        except Exception as e:\n",
    "            print(f\"model not found\", e)"
   ]
  },
  {
   "cell_type": "code",
   "execution_count": 6,
   "id": "a1c1a6ff",
   "metadata": {
    "execution": {
     "iopub.execute_input": "2023-05-07T22:57:43.056774Z",
     "iopub.status.busy": "2023-05-07T22:57:43.056351Z",
     "iopub.status.idle": "2023-05-07T22:57:43.064801Z",
     "shell.execute_reply": "2023-05-07T22:57:43.063418Z"
    },
    "papermill": {
     "duration": 0.017692,
     "end_time": "2023-05-07T22:57:43.066891",
     "exception": false,
     "start_time": "2023-05-07T22:57:43.049199",
     "status": "completed"
    },
    "tags": []
   },
   "outputs": [
    {
     "data": {
      "text/plain": [
       "1"
      ]
     },
     "execution_count": 6,
     "metadata": {},
     "output_type": "execute_result"
    }
   ],
   "source": [
    "len(models)\n",
    "#models = [models[0]]"
   ]
  },
  {
   "cell_type": "code",
   "execution_count": 7,
   "id": "81d5c441",
   "metadata": {
    "execution": {
     "iopub.execute_input": "2023-05-07T22:57:43.079728Z",
     "iopub.status.busy": "2023-05-07T22:57:43.079333Z",
     "iopub.status.idle": "2023-05-07T22:57:43.088909Z",
     "shell.execute_reply": "2023-05-07T22:57:43.087826Z"
    },
    "papermill": {
     "duration": 0.018477,
     "end_time": "2023-05-07T22:57:43.091107",
     "exception": false,
     "start_time": "2023-05-07T22:57:43.072630",
     "status": "completed"
    },
    "tags": []
   },
   "outputs": [
    {
     "data": {
      "text/plain": [
       "3593"
      ]
     },
     "execution_count": 7,
     "metadata": {},
     "output_type": "execute_result"
    }
   ],
   "source": [
    "import torch\n",
    "\n",
    "def count_parameters(model):\n",
    "    return sum(p.numel() for p in model.parameters() if p.requires_grad)\n",
    "\n",
    "count_parameters(models[0])//1024"
   ]
  },
  {
   "cell_type": "markdown",
   "id": "9d9bc6c3",
   "metadata": {
    "papermill": {
     "duration": 0.005423,
     "end_time": "2023-05-07T22:57:43.102513",
     "exception": false,
     "start_time": "2023-05-07T22:57:43.097090",
     "status": "completed"
    },
    "tags": []
   },
   "source": [
    "## infer"
   ]
  },
  {
   "cell_type": "code",
   "execution_count": 8,
   "id": "ef7b9bd3",
   "metadata": {
    "execution": {
     "iopub.execute_input": "2023-05-07T22:57:43.115774Z",
     "iopub.status.busy": "2023-05-07T22:57:43.115358Z",
     "iopub.status.idle": "2023-05-07T22:57:43.121914Z",
     "shell.execute_reply": "2023-05-07T22:57:43.120807Z"
    },
    "papermill": {
     "duration": 0.015858,
     "end_time": "2023-05-07T22:57:43.123961",
     "exception": false,
     "start_time": "2023-05-07T22:57:43.108103",
     "status": "completed"
    },
    "tags": []
   },
   "outputs": [],
   "source": [
    "CLASSES = \"abethr1 abhori1 abythr1 afbfly1 afdfly1 afecuc1 affeag1 afgfly1 afghor1 afmdov1 afpfly1 afpkin1 afpwag1 afrgos1 afrgrp1 afrjac1 afrthr1 amesun2 augbuz1 bagwea1 barswa bawhor2 bawman1 bcbeat1 beasun2 bkctch1 bkfruw1 blacra1 blacuc1 blakit1 blaplo1 blbpuf2 blcapa2 blfbus1 blhgon1 blhher1 blksaw1 blnmou1 blnwea1 bltapa1 bltbar1 bltori1 blwlap1 brcale1 brcsta1 brctch1 brcwea1 brican1 brobab1 broman1 brosun1 brrwhe3 brtcha1 brubru1 brwwar1 bswdov1 btweye2 bubwar2 butapa1 cabgre1 carcha1 carwoo1 categr ccbeat1 chespa1 chewea1 chibat1 chtapa3 chucis1 cibwar1 cohmar1 colsun2 combul2 combuz1 comsan crefra2 crheag1 crohor1 darbar1 darter3 didcuc1 dotbar1 dutdov1 easmog1 eaywag1 edcsun3 egygoo equaka1 eswdov1 eubeat1 fatrav1 fatwid1 fislov1 fotdro5 gabgos2 gargan gbesta1 gnbcam2 gnhsun1 gobbun1 gobsta5 gobwea1 golher1 grbcam1 grccra1 grecor greegr grewoo2 grwpyt1 gryapa1 grywrw1 gybfis1 gycwar3 gyhbus1 gyhkin1 gyhneg1 gyhspa1 gytbar1 hadibi1 hamerk1 hartur1 helgui hipbab1 hoopoe huncis1 hunsun2 joygre1 kerspa2 klacuc1 kvbsun1 laudov1 lawgol lesmaw1 lessts1 libeat1 litegr litswi1 litwea1 loceag1 lotcor1 lotlap1 luebus1 mabeat1 macshr1 malkin1 marsto1 marsun2 mcptit1 meypar1 moccha1 mouwag1 ndcsun2 nobfly1 norbro1 norcro1 norfis1 norpuf1 nubwoo1 pabspa1 palfly2 palpri1 piecro1 piekin1 pitwhy purgre2 pygbat1 quailf1 ratcis1 raybar1 rbsrob1 rebfir2 rebhor1 reboxp1 reccor reccuc1 reedov1 refbar2 refcro1 reftin1 refwar2 rehblu1 rehwea1 reisee2 rerswa1 rewsta1 rindov rocmar2 rostur1 ruegls1 rufcha2 sacibi2 sccsun2 scrcha1 scthon1 shesta1 sichor1 sincis1 slbgre1 slcbou1 sltnig1 sobfly1 somgre1 somtit4 soucit1 soufis1 spemou2 spepig1 spewea1 spfbar1 spfwea1 spmthr1 spwlap1 squher1 strher strsee1 stusta1 subbus1 supsta1 tacsun1 tafpri1 tamdov1 thrnig1 trobou1 varsun2 vibsta2 vilwea1 vimwea1 walsta1 wbgbir1 wbrcha2 wbswea1 wfbeat1 whbcan1 whbcou1 whbcro2 whbtit5 whbwea1 whbwhe3 whcpri2 whctur2 wheslf1 whhsaw1 whihel1 whrshr1 witswa1 wlwwar wookin1 woosan wtbeat1 yebapa1 yebbar1 yebduc1 yebere1 yebgre1 yebsto1 yeccan1 yefcan yelbis1 yenspu1 yertin1 yesbar1 yespet1 yetgre1 yewgre1\".split()\n",
    "N_CLASS = len(CLASSES)"
   ]
  },
  {
   "cell_type": "code",
   "execution_count": 9,
   "id": "eef70e8c",
   "metadata": {
    "execution": {
     "iopub.execute_input": "2023-05-07T22:57:43.137225Z",
     "iopub.status.busy": "2023-05-07T22:57:43.136285Z",
     "iopub.status.idle": "2023-05-07T22:57:43.149548Z",
     "shell.execute_reply": "2023-05-07T22:57:43.148480Z"
    },
    "papermill": {
     "duration": 0.022217,
     "end_time": "2023-05-07T22:57:43.151763",
     "exception": false,
     "start_time": "2023-05-07T22:57:43.129546",
     "status": "completed"
    },
    "tags": []
   },
   "outputs": [],
   "source": [
    "from torch.utils.data import Dataset, DataLoader\n",
    "\n",
    "class BirdDataset(Dataset):\n",
    "    def __init__(self, frame_length, sample_rate):\n",
    "        self.frame_length = frame_length\n",
    "        self.sample_rate = sample_rate\n",
    "        self.data   = sorted(glob.glob(\"/kaggle/input/birdclef-2023/test_soundscapes/*.ogg\")) \n",
    "        \n",
    "    def __len__(self):\n",
    "        return len(self.data)\n",
    "    \n",
    "    def __getitem__(self, idx):\n",
    "        \"\"\"\n",
    "        Prepare audio clip for inference\n",
    "        \"\"\"\n",
    "        fpath = self.data[idx]\n",
    "        sample_rate = self.sample_rate\n",
    "        frame_length = self.frame_length\n",
    "        \n",
    "        infer_frame_length = frame_length\n",
    "        batch = {\"wav_tensors\": [], \"end_times\": []}\n",
    "\n",
    "        waveform, sample_rate = librosa.load(fpath, sr=sample_rate, mono=True)\n",
    "        n_parts = math.ceil(len(waveform) / int(infer_frame_length * sample_rate))\n",
    "\n",
    "        for seg_idx in range(n_parts): \n",
    "            end_time = (seg_idx + 1) * frame_length\n",
    "            seg_wav  = waveform[(end_time*sample_rate)-(sample_rate*frame_length):end_time*sample_rate]\n",
    "\n",
    "            wav_tensor = torch.from_numpy(seg_wav)\n",
    "\n",
    "            if len(wav_tensor) == frame_length * sample_rate:\n",
    "                batch[\"wav_tensors\"].append(wav_tensor.unsqueeze(0))\n",
    "            elif len(wav_tensor) < frame_length * sample_rate:\n",
    "                wav_tensor = torch.nn.functional.pad(wav_tensor, (0, (frame_length * sample_rate) - len(wav_tensor)))\n",
    "                batch[\"wav_tensors\"].append(wav_tensor.unsqueeze(0))\n",
    "            elif len(wav_tensor) > frame_length * sample_rate:\n",
    "                wav_tensor = wav_tensor[:(frame_length * sample_rate)]\n",
    "                batch[\"wav_tensors\"].append(wav_tensor.unsqueeze(0))\n",
    "\n",
    "            batch[\"end_times\"].append(end_time)\n",
    "        batch[\"wav_tensors\"] = torch.stack(batch[\"wav_tensors\"])\n",
    "        return batch, n_parts, len(waveform)\n",
    "\n",
    "@torch.no_grad()\n",
    "def predict_clip(models, batch, n_parts, frame_length):\n",
    "    preds = np.zeros([len(models), n_parts, N_CLASS])\n",
    "    for m_idx, model in enumerate(models):\n",
    "        with torch.cuda.amp.autocast():\n",
    "            preds[m_idx] = model(batch[\"wav_tensors\"], is_test=True)[\"logit\"].sigmoid().cpu().numpy()\n",
    "    return preds.mean(0) ## max by model    \n",
    "\n",
    "\n"
   ]
  },
  {
   "cell_type": "code",
   "execution_count": 10,
   "id": "83009f48",
   "metadata": {
    "execution": {
     "iopub.execute_input": "2023-05-07T22:57:43.165357Z",
     "iopub.status.busy": "2023-05-07T22:57:43.165000Z",
     "iopub.status.idle": "2023-05-07T22:57:43.176291Z",
     "shell.execute_reply": "2023-05-07T22:57:43.175176Z"
    },
    "papermill": {
     "duration": 0.020604,
     "end_time": "2023-05-07T22:57:43.178471",
     "exception": false,
     "start_time": "2023-05-07T22:57:43.157867",
     "status": "completed"
    },
    "tags": []
   },
   "outputs": [
    {
     "data": {
      "text/plain": [
       "(1, 1)"
      ]
     },
     "execution_count": 10,
     "metadata": {},
     "output_type": "execute_result"
    }
   ],
   "source": [
    "frame_length = 5\n",
    "infer_frame_length = 5\n",
    "sample_rate  = 32000\n",
    "test_ds = BirdDataset(frame_length, sample_rate)\n",
    "\n",
    "# loader = DataLoader(\n",
    "#     test_ds,\n",
    "#     batch_size=16, \n",
    "#     num_workers=4,\n",
    "#     drop_last=False,\n",
    "#     shuffle=False,\n",
    "#     pin_memory=True\n",
    "# )\n",
    "\n",
    "len(models), len(test_ds)"
   ]
  },
  {
   "cell_type": "code",
   "execution_count": 11,
   "id": "0992aa46",
   "metadata": {
    "execution": {
     "iopub.execute_input": "2023-05-07T22:57:43.192643Z",
     "iopub.status.busy": "2023-05-07T22:57:43.192040Z",
     "iopub.status.idle": "2023-05-07T22:58:20.393659Z",
     "shell.execute_reply": "2023-05-07T22:58:20.392052Z"
    },
    "papermill": {
     "duration": 37.211919,
     "end_time": "2023-05-07T22:58:20.396446",
     "exception": false,
     "start_time": "2023-05-07T22:57:43.184527",
     "status": "completed"
    },
    "tags": []
   },
   "outputs": [
    {
     "name": "stderr",
     "output_type": "stream",
     "text": [
      "100%|██████████| 1/1 [00:37<00:00, 37.18s/it]"
     ]
    },
    {
     "name": "stdout",
     "output_type": "stream",
     "text": [
      "CPU times: user 21 s, sys: 15 s, total: 36 s\n",
      "Wall time: 37.2 s\n"
     ]
    },
    {
     "name": "stderr",
     "output_type": "stream",
     "text": [
      "\n"
     ]
    }
   ],
   "source": [
    "%%time\n",
    "\n",
    "\n",
    "@torch.no_grad()\n",
    "def generate_preds():\n",
    "    debug = False\n",
    "    preds        = []\n",
    "    # test_files   = sorted(glob.glob(\"/kaggle/input/birdclef-2023/test_soundscapes/*.ogg\")) \n",
    "    scored_birds = np.array(CLASSES)\n",
    "    # print(\"test file num:\", len(test_files))\n",
    "    \n",
    "    for batch, n_parts, len_waveform in tqdm(test_ds):\n",
    "        # file_id = os.path.basename(fpath).replace(\".ogg\", \"\")\n",
    "        # batch, n_parts, len_waveform = prepare_clip(fpath, frame_length, sample_rate)\n",
    "        clip_preds = predict_clip(models, batch, n_parts, frame_length)\n",
    "        preds.append(clip_preds)\n",
    "        \n",
    "        ## switch to infer frame length\n",
    "        n_parts_sub = math.ceil(len_waveform / int(infer_frame_length * sample_rate))\n",
    "        clip_preds = np.array_split(clip_preds, n_parts_sub, axis=0)\n",
    "        \n",
    "                \n",
    "    prob_array = np.array(preds)\n",
    "    \n",
    "    scored_bird_name2idx = {}\n",
    "    for i, x in enumerate(scored_birds):\n",
    "        scored_bird_name2idx[x] = i\n",
    "\n",
    "    return prob_array, scored_bird_name2idx\n",
    "\n",
    "prob_array, scored_bird_name2idx = generate_preds()\n",
    "# del models\n",
    "# gc.collect()\n",
    "# torch.cuda.empty_cache()"
   ]
  },
  {
   "cell_type": "code",
   "execution_count": 12,
   "id": "288d8f57",
   "metadata": {
    "execution": {
     "iopub.execute_input": "2023-05-07T22:58:20.410964Z",
     "iopub.status.busy": "2023-05-07T22:58:20.410311Z",
     "iopub.status.idle": "2023-05-07T22:58:20.417855Z",
     "shell.execute_reply": "2023-05-07T22:58:20.416713Z"
    },
    "papermill": {
     "duration": 0.017557,
     "end_time": "2023-05-07T22:58:20.420143",
     "exception": false,
     "start_time": "2023-05-07T22:58:20.402586",
     "status": "completed"
    },
    "tags": []
   },
   "outputs": [
    {
     "data": {
      "text/plain": [
       "(1, 120, 264)"
      ]
     },
     "execution_count": 12,
     "metadata": {},
     "output_type": "execute_result"
    }
   ],
   "source": [
    "prob_array.shape"
   ]
  },
  {
   "cell_type": "markdown",
   "id": "f78f5c70",
   "metadata": {
    "papermill": {
     "duration": 0.006033,
     "end_time": "2023-05-07T22:58:20.432523",
     "exception": false,
     "start_time": "2023-05-07T22:58:20.426490",
     "status": "completed"
    },
    "tags": []
   },
   "source": [
    "----"
   ]
  },
  {
   "cell_type": "code",
   "execution_count": 13,
   "id": "69548584",
   "metadata": {
    "execution": {
     "iopub.execute_input": "2023-05-07T22:58:20.446987Z",
     "iopub.status.busy": "2023-05-07T22:58:20.446637Z",
     "iopub.status.idle": "2023-05-07T22:58:20.453554Z",
     "shell.execute_reply": "2023-05-07T22:58:20.452419Z"
    },
    "papermill": {
     "duration": 0.016906,
     "end_time": "2023-05-07T22:58:20.455745",
     "exception": false,
     "start_time": "2023-05-07T22:58:20.438839",
     "status": "completed"
    },
    "tags": []
   },
   "outputs": [],
   "source": [
    "def generate_file_ids():\n",
    "    test_files   = sorted(glob.glob(\"/kaggle/input/birdclef-2023/test_soundscapes/*.ogg\"))\n",
    "    \n",
    "    file_ids = []\n",
    "    \n",
    "    for fpath in test_files:\n",
    "        file_id = os.path.basename(fpath).replace(\".ogg\", \"\")\n",
    "        file_ids.append(file_id)\n",
    "        \n",
    "    return file_ids\n",
    "\n",
    "file_ids = generate_file_ids()"
   ]
  },
  {
   "cell_type": "code",
   "execution_count": 14,
   "id": "bb988d1e",
   "metadata": {
    "execution": {
     "iopub.execute_input": "2023-05-07T22:58:20.470220Z",
     "iopub.status.busy": "2023-05-07T22:58:20.469838Z",
     "iopub.status.idle": "2023-05-07T22:58:20.476418Z",
     "shell.execute_reply": "2023-05-07T22:58:20.475358Z"
    },
    "papermill": {
     "duration": 0.016396,
     "end_time": "2023-05-07T22:58:20.478543",
     "exception": false,
     "start_time": "2023-05-07T22:58:20.462147",
     "status": "completed"
    },
    "tags": []
   },
   "outputs": [
    {
     "data": {
      "text/plain": [
       "(1, 120, 264)"
      ]
     },
     "execution_count": 14,
     "metadata": {},
     "output_type": "execute_result"
    }
   ],
   "source": [
    "## fix aniani\n",
    "avg_preds = prob_array\n",
    "\n",
    "avg_preds.shape"
   ]
  },
  {
   "cell_type": "code",
   "execution_count": 15,
   "id": "5e42cf39",
   "metadata": {
    "execution": {
     "iopub.execute_input": "2023-05-07T22:58:20.493234Z",
     "iopub.status.busy": "2023-05-07T22:58:20.492655Z",
     "iopub.status.idle": "2023-05-07T22:58:20.509128Z",
     "shell.execute_reply": "2023-05-07T22:58:20.508050Z"
    },
    "papermill": {
     "duration": 0.026528,
     "end_time": "2023-05-07T22:58:20.511402",
     "exception": false,
     "start_time": "2023-05-07T22:58:20.484874",
     "status": "completed"
    },
    "tags": []
   },
   "outputs": [],
   "source": [
    "submission   = []\n",
    "infer_frame_length = 5\n",
    "\n",
    "for clip_preds, file_id in zip(avg_preds, file_ids):\n",
    "    for frame_idx, pred in enumerate(clip_preds):\n",
    "        end_time = (frame_idx + 1) * infer_frame_length\n",
    "        d = {\n",
    "            \"row_id\": f\"{file_id}_{end_time}\",\n",
    "            # \"target\": pred[bi] > threshold,\n",
    "        }\n",
    "        for bi, bird in enumerate(CLASSES):\n",
    "            d[bird] = pred[bi]\n",
    "        submission.append(d)"
   ]
  },
  {
   "cell_type": "code",
   "execution_count": 16,
   "id": "c85ddaa2",
   "metadata": {
    "execution": {
     "iopub.execute_input": "2023-05-07T22:58:20.526583Z",
     "iopub.status.busy": "2023-05-07T22:58:20.526230Z",
     "iopub.status.idle": "2023-05-07T22:58:20.533380Z",
     "shell.execute_reply": "2023-05-07T22:58:20.531738Z"
    },
    "papermill": {
     "duration": 0.017146,
     "end_time": "2023-05-07T22:58:20.535426",
     "exception": false,
     "start_time": "2023-05-07T22:58:20.518280",
     "status": "completed"
    },
    "tags": []
   },
   "outputs": [
    {
     "name": "stdout",
     "output_type": "stream",
     "text": [
      "/kaggle/working\n"
     ]
    }
   ],
   "source": [
    "%cd /kaggle/working"
   ]
  },
  {
   "cell_type": "code",
   "execution_count": 17,
   "id": "43ae62d7",
   "metadata": {
    "execution": {
     "iopub.execute_input": "2023-05-07T22:58:20.550582Z",
     "iopub.status.busy": "2023-05-07T22:58:20.550217Z",
     "iopub.status.idle": "2023-05-07T22:58:20.651832Z",
     "shell.execute_reply": "2023-05-07T22:58:20.650713Z"
    },
    "papermill": {
     "duration": 0.112774,
     "end_time": "2023-05-07T22:58:20.654821",
     "exception": false,
     "start_time": "2023-05-07T22:58:20.542047",
     "status": "completed"
    },
    "tags": []
   },
   "outputs": [],
   "source": [
    "df_submission = pd.DataFrame(submission).set_index(\"row_id\")\n",
    "df_submission.to_csv(\"submission.csv\")"
   ]
  },
  {
   "cell_type": "code",
   "execution_count": 18,
   "id": "8c9ff4cf",
   "metadata": {
    "execution": {
     "iopub.execute_input": "2023-05-07T22:58:20.671244Z",
     "iopub.status.busy": "2023-05-07T22:58:20.670812Z",
     "iopub.status.idle": "2023-05-07T22:58:20.709505Z",
     "shell.execute_reply": "2023-05-07T22:58:20.708561Z"
    },
    "papermill": {
     "duration": 0.049198,
     "end_time": "2023-05-07T22:58:20.711622",
     "exception": false,
     "start_time": "2023-05-07T22:58:20.662424",
     "status": "completed"
    },
    "tags": []
   },
   "outputs": [
    {
     "name": "stdout",
     "output_type": "stream",
     "text": [
      "\n",
      "total rows : 120\n",
      "\n"
     ]
    },
    {
     "data": {
      "text/html": [
       "<div>\n",
       "<style scoped>\n",
       "    .dataframe tbody tr th:only-of-type {\n",
       "        vertical-align: middle;\n",
       "    }\n",
       "\n",
       "    .dataframe tbody tr th {\n",
       "        vertical-align: top;\n",
       "    }\n",
       "\n",
       "    .dataframe thead th {\n",
       "        text-align: right;\n",
       "    }\n",
       "</style>\n",
       "<table border=\"1\" class=\"dataframe\">\n",
       "  <thead>\n",
       "    <tr style=\"text-align: right;\">\n",
       "      <th></th>\n",
       "      <th>abethr1</th>\n",
       "      <th>abhori1</th>\n",
       "      <th>abythr1</th>\n",
       "      <th>afbfly1</th>\n",
       "      <th>afdfly1</th>\n",
       "      <th>afecuc1</th>\n",
       "      <th>affeag1</th>\n",
       "      <th>afgfly1</th>\n",
       "      <th>afghor1</th>\n",
       "      <th>afmdov1</th>\n",
       "      <th>...</th>\n",
       "      <th>yebsto1</th>\n",
       "      <th>yeccan1</th>\n",
       "      <th>yefcan</th>\n",
       "      <th>yelbis1</th>\n",
       "      <th>yenspu1</th>\n",
       "      <th>yertin1</th>\n",
       "      <th>yesbar1</th>\n",
       "      <th>yespet1</th>\n",
       "      <th>yetgre1</th>\n",
       "      <th>yewgre1</th>\n",
       "    </tr>\n",
       "    <tr>\n",
       "      <th>row_id</th>\n",
       "      <th></th>\n",
       "      <th></th>\n",
       "      <th></th>\n",
       "      <th></th>\n",
       "      <th></th>\n",
       "      <th></th>\n",
       "      <th></th>\n",
       "      <th></th>\n",
       "      <th></th>\n",
       "      <th></th>\n",
       "      <th></th>\n",
       "      <th></th>\n",
       "      <th></th>\n",
       "      <th></th>\n",
       "      <th></th>\n",
       "      <th></th>\n",
       "      <th></th>\n",
       "      <th></th>\n",
       "      <th></th>\n",
       "      <th></th>\n",
       "      <th></th>\n",
       "    </tr>\n",
       "  </thead>\n",
       "  <tbody>\n",
       "    <tr>\n",
       "      <th>soundscape_29201_5</th>\n",
       "      <td>0.003563</td>\n",
       "      <td>0.006172</td>\n",
       "      <td>0.005304</td>\n",
       "      <td>0.000036</td>\n",
       "      <td>0.005816</td>\n",
       "      <td>0.000077</td>\n",
       "      <td>0.001091</td>\n",
       "      <td>0.008734</td>\n",
       "      <td>0.001426</td>\n",
       "      <td>0.006285</td>\n",
       "      <td>...</td>\n",
       "      <td>0.000016</td>\n",
       "      <td>0.000131</td>\n",
       "      <td>0.000101</td>\n",
       "      <td>0.000429</td>\n",
       "      <td>0.000584</td>\n",
       "      <td>0.000351</td>\n",
       "      <td>0.000082</td>\n",
       "      <td>0.000048</td>\n",
       "      <td>0.004081</td>\n",
       "      <td>0.000274</td>\n",
       "    </tr>\n",
       "    <tr>\n",
       "      <th>soundscape_29201_10</th>\n",
       "      <td>0.015888</td>\n",
       "      <td>0.040949</td>\n",
       "      <td>0.003860</td>\n",
       "      <td>0.020317</td>\n",
       "      <td>0.002348</td>\n",
       "      <td>0.003383</td>\n",
       "      <td>0.020599</td>\n",
       "      <td>0.003317</td>\n",
       "      <td>0.011987</td>\n",
       "      <td>0.134606</td>\n",
       "      <td>...</td>\n",
       "      <td>0.000054</td>\n",
       "      <td>0.002880</td>\n",
       "      <td>0.010916</td>\n",
       "      <td>0.014218</td>\n",
       "      <td>0.000413</td>\n",
       "      <td>0.004930</td>\n",
       "      <td>0.000636</td>\n",
       "      <td>0.001040</td>\n",
       "      <td>0.000302</td>\n",
       "      <td>0.003049</td>\n",
       "    </tr>\n",
       "    <tr>\n",
       "      <th>soundscape_29201_15</th>\n",
       "      <td>0.025911</td>\n",
       "      <td>0.027668</td>\n",
       "      <td>0.028306</td>\n",
       "      <td>0.002748</td>\n",
       "      <td>0.002248</td>\n",
       "      <td>0.003499</td>\n",
       "      <td>0.004867</td>\n",
       "      <td>0.013050</td>\n",
       "      <td>0.004520</td>\n",
       "      <td>0.019526</td>\n",
       "      <td>...</td>\n",
       "      <td>0.000115</td>\n",
       "      <td>0.001254</td>\n",
       "      <td>0.054447</td>\n",
       "      <td>0.007594</td>\n",
       "      <td>0.000392</td>\n",
       "      <td>0.006961</td>\n",
       "      <td>0.001584</td>\n",
       "      <td>0.009104</td>\n",
       "      <td>0.001574</td>\n",
       "      <td>0.008634</td>\n",
       "    </tr>\n",
       "    <tr>\n",
       "      <th>soundscape_29201_20</th>\n",
       "      <td>0.010976</td>\n",
       "      <td>0.007211</td>\n",
       "      <td>0.004228</td>\n",
       "      <td>0.013661</td>\n",
       "      <td>0.004558</td>\n",
       "      <td>0.002589</td>\n",
       "      <td>0.005260</td>\n",
       "      <td>0.002272</td>\n",
       "      <td>0.001685</td>\n",
       "      <td>0.005970</td>\n",
       "      <td>...</td>\n",
       "      <td>0.001248</td>\n",
       "      <td>0.003407</td>\n",
       "      <td>0.003081</td>\n",
       "      <td>0.011278</td>\n",
       "      <td>0.002343</td>\n",
       "      <td>0.012273</td>\n",
       "      <td>0.001498</td>\n",
       "      <td>0.003958</td>\n",
       "      <td>0.001232</td>\n",
       "      <td>0.003681</td>\n",
       "    </tr>\n",
       "    <tr>\n",
       "      <th>soundscape_29201_25</th>\n",
       "      <td>0.005770</td>\n",
       "      <td>0.003519</td>\n",
       "      <td>0.004539</td>\n",
       "      <td>0.014415</td>\n",
       "      <td>0.003260</td>\n",
       "      <td>0.005144</td>\n",
       "      <td>0.003976</td>\n",
       "      <td>0.002192</td>\n",
       "      <td>0.001898</td>\n",
       "      <td>0.011440</td>\n",
       "      <td>...</td>\n",
       "      <td>0.002059</td>\n",
       "      <td>0.002451</td>\n",
       "      <td>0.005814</td>\n",
       "      <td>0.003522</td>\n",
       "      <td>0.003121</td>\n",
       "      <td>0.013232</td>\n",
       "      <td>0.001277</td>\n",
       "      <td>0.002557</td>\n",
       "      <td>0.002163</td>\n",
       "      <td>0.005046</td>\n",
       "    </tr>\n",
       "  </tbody>\n",
       "</table>\n",
       "<p>5 rows × 264 columns</p>\n",
       "</div>"
      ],
      "text/plain": [
       "                      abethr1   abhori1   abythr1   afbfly1   afdfly1  \\\n",
       "row_id                                                                  \n",
       "soundscape_29201_5   0.003563  0.006172  0.005304  0.000036  0.005816   \n",
       "soundscape_29201_10  0.015888  0.040949  0.003860  0.020317  0.002348   \n",
       "soundscape_29201_15  0.025911  0.027668  0.028306  0.002748  0.002248   \n",
       "soundscape_29201_20  0.010976  0.007211  0.004228  0.013661  0.004558   \n",
       "soundscape_29201_25  0.005770  0.003519  0.004539  0.014415  0.003260   \n",
       "\n",
       "                      afecuc1   affeag1   afgfly1   afghor1   afmdov1  ...  \\\n",
       "row_id                                                                 ...   \n",
       "soundscape_29201_5   0.000077  0.001091  0.008734  0.001426  0.006285  ...   \n",
       "soundscape_29201_10  0.003383  0.020599  0.003317  0.011987  0.134606  ...   \n",
       "soundscape_29201_15  0.003499  0.004867  0.013050  0.004520  0.019526  ...   \n",
       "soundscape_29201_20  0.002589  0.005260  0.002272  0.001685  0.005970  ...   \n",
       "soundscape_29201_25  0.005144  0.003976  0.002192  0.001898  0.011440  ...   \n",
       "\n",
       "                      yebsto1   yeccan1    yefcan   yelbis1   yenspu1  \\\n",
       "row_id                                                                  \n",
       "soundscape_29201_5   0.000016  0.000131  0.000101  0.000429  0.000584   \n",
       "soundscape_29201_10  0.000054  0.002880  0.010916  0.014218  0.000413   \n",
       "soundscape_29201_15  0.000115  0.001254  0.054447  0.007594  0.000392   \n",
       "soundscape_29201_20  0.001248  0.003407  0.003081  0.011278  0.002343   \n",
       "soundscape_29201_25  0.002059  0.002451  0.005814  0.003522  0.003121   \n",
       "\n",
       "                      yertin1   yesbar1   yespet1   yetgre1   yewgre1  \n",
       "row_id                                                                 \n",
       "soundscape_29201_5   0.000351  0.000082  0.000048  0.004081  0.000274  \n",
       "soundscape_29201_10  0.004930  0.000636  0.001040  0.000302  0.003049  \n",
       "soundscape_29201_15  0.006961  0.001584  0.009104  0.001574  0.008634  \n",
       "soundscape_29201_20  0.012273  0.001498  0.003958  0.001232  0.003681  \n",
       "soundscape_29201_25  0.013232  0.001277  0.002557  0.002163  0.005046  \n",
       "\n",
       "[5 rows x 264 columns]"
      ]
     },
     "execution_count": 18,
     "metadata": {},
     "output_type": "execute_result"
    }
   ],
   "source": [
    "print(f\"\"\"\n",
    "total rows : {len(df_submission)}\n",
    "\"\"\")\n",
    "\n",
    "df_submission.head()"
   ]
  },
  {
   "cell_type": "code",
   "execution_count": null,
   "id": "e3976bef",
   "metadata": {
    "papermill": {
     "duration": 0.007375,
     "end_time": "2023-05-07T22:58:20.726664",
     "exception": false,
     "start_time": "2023-05-07T22:58:20.719289",
     "status": "completed"
    },
    "tags": []
   },
   "outputs": [],
   "source": []
  }
 ],
 "metadata": {
  "kernelspec": {
   "display_name": "Python 3",
   "language": "python",
   "name": "python3"
  },
  "language_info": {
   "codemirror_mode": {
    "name": "ipython",
    "version": 3
   },
   "file_extension": ".py",
   "mimetype": "text/x-python",
   "name": "python",
   "nbconvert_exporter": "python",
   "pygments_lexer": "ipython3",
   "version": "3.10.10"
  },
  "papermill": {
   "default_parameters": {},
   "duration": 92.71566,
   "end_time": "2023-05-07T22:58:24.238806",
   "environment_variables": {},
   "exception": null,
   "input_path": "__notebook__.ipynb",
   "output_path": "__notebook__.ipynb",
   "parameters": {},
   "start_time": "2023-05-07T22:56:51.523146",
   "version": "2.4.0"
  }
 },
 "nbformat": 4,
 "nbformat_minor": 5
}
