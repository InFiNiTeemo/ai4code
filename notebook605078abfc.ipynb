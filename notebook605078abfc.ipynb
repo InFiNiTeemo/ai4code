{
 "cells": [
  {
   "cell_type": "code",
   "execution_count": 1,
   "id": "9d1a4720",
   "metadata": {
    "_kg_hide-output": true,
    "execution": {
     "iopub.execute_input": "2023-05-02T17:25:33.729432Z",
     "iopub.status.busy": "2023-05-02T17:25:33.728840Z",
     "iopub.status.idle": "2023-05-02T17:27:00.725643Z",
     "shell.execute_reply": "2023-05-02T17:27:00.723465Z"
    },
    "papermill": {
     "duration": 87.010473,
     "end_time": "2023-05-02T17:27:00.729557",
     "exception": false,
     "start_time": "2023-05-02T17:25:33.719084",
     "status": "completed"
    },
    "tags": []
   },
   "outputs": [
    {
     "name": "stdout",
     "output_type": "stream",
     "text": [
      "\u001b[31mERROR: torchaudio-0.8.1-cp37-cp37m-manylinux1_x86_64.whl is not a supported wheel on this platform.\u001b[0m\u001b[31m\r\n",
      "\u001b[0mProcessing /kaggle/input/birds-inference-pip-wheels/audiomentations-0.16.0-py3-none-any.whl\r\n",
      "Installing collected packages: audiomentations\r\n",
      "Successfully installed audiomentations-0.16.0\r\n",
      "\u001b[33mWARNING: Running pip as the 'root' user can result in broken permissions and conflicting behaviour with the system package manager. It is recommended to use a virtual environment instead: https://pip.pypa.io/warnings/venv\u001b[0m\u001b[33m\r\n",
      "\u001b[0mProcessing /kaggle/input/birds-inference-pip-wheels/torchlibrosa-0.0.9-py3-none-any.whl\r\n",
      "Installing collected packages: torchlibrosa\r\n",
      "Successfully installed torchlibrosa-0.0.9\r\n",
      "\u001b[33mWARNING: Running pip as the 'root' user can result in broken permissions and conflicting behaviour with the system package manager. It is recommended to use a virtual environment instead: https://pip.pypa.io/warnings/venv\u001b[0m\u001b[33m\r\n",
      "\u001b[0mProcessing /kaggle/input/nnaudio031/nnAudio-0.3.1-py3-none-any.whl\r\n",
      "Requirement already satisfied: scipy in /opt/conda/lib/python3.10/site-packages (from nnAudio==0.3.1) (1.9.3)\r\n",
      "Requirement already satisfied: numpy<1.26.0,>=1.18.5 in /opt/conda/lib/python3.10/site-packages (from scipy->nnAudio==0.3.1) (1.23.5)\r\n",
      "Installing collected packages: nnAudio\r\n",
      "Successfully installed nnAudio-0.3.1\r\n",
      "\u001b[33mWARNING: Running pip as the 'root' user can result in broken permissions and conflicting behaviour with the system package manager. It is recommended to use a virtual environment instead: https://pip.pypa.io/warnings/venv\u001b[0m\u001b[33m\r\n",
      "\u001b[0mcp: cannot stat '../input/timmlatest': No such file or directory\r\n",
      "\u001b[31mERROR: Invalid requirement: '../working/timmlatest'\r\n",
      "Hint: It looks like a path. File '../working/timmlatest' does not exist.\u001b[0m\u001b[31m\r\n",
      "\u001b[0m"
     ]
    }
   ],
   "source": [
    "## setup\n",
    "## TODO: move all under bird2022wheels\n",
    "\n",
    "!pip install ../input/birds-inference-pip-wheels/torchaudio-0.8.1-cp37-cp37m-manylinux1_x86_64.whl ../input/birds-inference-pip-wheels/torch-1.8.1-cp37-cp37m-manylinux1_x86_64.whl\n",
    "!pip install ../input/birds-inference-pip-wheels/audiomentations-0.16.0-py3-none-any.whl --no-index --no-deps\n",
    "!pip install ../input/birds-inference-pip-wheels/torchlibrosa-0.0.9-py3-none-any.whl --no-index --no-deps\n",
    "!pip install ../input/nnaudio031/nnAudio-0.3.1-py3-none-any.whl\n",
    "!cp -r ../input/timmlatest ../working/timmlatest\n",
    "!pip install -U ../working/timmlatest\n",
    "!rm -rf ../working/timmlatest\n",
    "\n",
    "# !pip install nnAudio"
   ]
  },
  {
   "cell_type": "code",
   "execution_count": 2,
   "id": "ddb94acc",
   "metadata": {
    "execution": {
     "iopub.execute_input": "2023-05-02T17:27:00.751233Z",
     "iopub.status.busy": "2023-05-02T17:27:00.750625Z",
     "iopub.status.idle": "2023-05-02T17:27:00.758001Z",
     "shell.execute_reply": "2023-05-02T17:27:00.756312Z"
    },
    "papermill": {
     "duration": 0.022232,
     "end_time": "2023-05-02T17:27:00.761365",
     "exception": false,
     "start_time": "2023-05-02T17:27:00.739133",
     "status": "completed"
    },
    "tags": []
   },
   "outputs": [],
   "source": [
    "# !ls /kaggle/input/blef0503/\n",
    "# !ls /kaggle/input/nfnet-baseline-bs16/nfnet-baseline-bs16/nf0_v5_TimmClassifier_eca_nfnet_l0_0_lb\n",
    "# !ls /kaggle/input/birds-inference-pip-wheels/*\n",
    "# !pip freeze|grep torch"
   ]
  },
  {
   "cell_type": "code",
   "execution_count": 3,
   "id": "cfcccfc9",
   "metadata": {
    "execution": {
     "iopub.execute_input": "2023-05-02T17:27:00.782022Z",
     "iopub.status.busy": "2023-05-02T17:27:00.781194Z",
     "iopub.status.idle": "2023-05-02T17:27:00.790291Z",
     "shell.execute_reply": "2023-05-02T17:27:00.788592Z"
    },
    "papermill": {
     "duration": 0.022477,
     "end_time": "2023-05-02T17:27:00.793569",
     "exception": false,
     "start_time": "2023-05-02T17:27:00.771092",
     "status": "completed"
    },
    "tags": []
   },
   "outputs": [],
   "source": [
    "## https://github.com/Selimonder/birdclef2022/\n",
    "import os, sys, glob, math\n",
    "\n",
    "os.environ[\"MKL_NUM_THREADS\"] = \"1\"\n",
    "os.environ[\"OMP_NUM_THREADS\"] = \"1\"\n",
    "\n",
    "github_folder = \"/kaggle/input/blef0503\"\n",
    "sys.path.append(github_folder)"
   ]
  },
  {
   "cell_type": "code",
   "execution_count": 4,
   "id": "21b576bb",
   "metadata": {
    "execution": {
     "iopub.execute_input": "2023-05-02T17:27:00.813829Z",
     "iopub.status.busy": "2023-05-02T17:27:00.813230Z",
     "iopub.status.idle": "2023-05-02T17:27:10.451888Z",
     "shell.execute_reply": "2023-05-02T17:27:10.450441Z"
    },
    "papermill": {
     "duration": 9.653047,
     "end_time": "2023-05-02T17:27:10.455175",
     "exception": false,
     "start_time": "2023-05-02T17:27:00.802128",
     "status": "completed"
    },
    "tags": []
   },
   "outputs": [
    {
     "name": "stderr",
     "output_type": "stream",
     "text": [
      "/opt/conda/lib/python3.10/site-packages/scipy/__init__.py:146: UserWarning: A NumPy version >=1.16.5 and <1.23.0 is required for this version of SciPy (detected version 1.23.5\n",
      "  warnings.warn(f\"A NumPy version >={np_minversion} and <{np_maxversion}\"\n",
      "/opt/conda/lib/python3.10/site-packages/nnAudio/Spectrogram.py:4: Warning: importing Spectrogram subpackage will be deprecated soon. You should import the feature extractor from the feature subpackage. See actual documentation.\n",
      "  warnings.warn(\n"
     ]
    }
   ],
   "source": [
    "import cv2\n",
    "import gc\n",
    "import torch\n",
    "import librosa\n",
    "import argparse, warnings\n",
    "\n",
    "import numpy as np\n",
    "import pandas as pd\n",
    "import IPython.display as ipd\n",
    "\n",
    "import zoo\n",
    "from training.config import load_config\n",
    "from training.datasets import BirdDatasetOOF\n",
    "\n",
    "\n",
    "cv2.ocl.setUseOpenCL(False)\n",
    "cv2.setNumThreads(0)\n",
    "\n",
    "from tqdm import tqdm\n",
    "from torch.utils.data import DataLoader\n",
    "\n",
    "warnings.simplefilter(\"ignore\")"
   ]
  },
  {
   "cell_type": "markdown",
   "id": "4cd3df07",
   "metadata": {
    "papermill": {
     "duration": 0.008663,
     "end_time": "2023-05-02T17:27:10.473441",
     "exception": false,
     "start_time": "2023-05-02T17:27:10.464778",
     "status": "completed"
    },
    "tags": []
   },
   "source": [
    "## models"
   ]
  },
  {
   "cell_type": "code",
   "execution_count": 5,
   "id": "70a38881",
   "metadata": {
    "execution": {
     "iopub.execute_input": "2023-05-02T17:27:10.492661Z",
     "iopub.status.busy": "2023-05-02T17:27:10.492055Z",
     "iopub.status.idle": "2023-05-02T17:27:18.337558Z",
     "shell.execute_reply": "2023-05-02T17:27:18.336031Z"
    },
    "papermill": {
     "duration": 7.858806,
     "end_time": "2023-05-02T17:27:18.340537",
     "exception": false,
     "start_time": "2023-05-02T17:27:10.481731",
     "status": "completed"
    },
    "tags": []
   },
   "outputs": [
    {
     "name": "stdout",
     "output_type": "stream",
     "text": [
      "/kaggle/input/nfnet-baseline-bs16/nfnet-baseline-bs16/nf0_v5_TimmClassifier_eca_nfnet_l0_0_lb\n",
      "initing CLS features model 15 duration...\n",
      "pretrained model...\n",
      "{'in_chans': 1, 'drop_path_rate': 0.2, 'drop_rate': 0.5}\n",
      "=> loading checkpoint '/kaggle/input/nfnet-baseline-bs16/nfnet-baseline-bs16/nf0_v5_TimmClassifier_eca_nfnet_l0_0_lb''\n",
      "epoch 18\n",
      "/kaggle/input/nfnet-baseline-bs16/nfnet-baseline-bs16/nf0_v5_TimmClassifier_eca_nfnet_l0_1_lb\n",
      "initing CLS features model 15 duration...\n",
      "pretrained model...\n",
      "{'in_chans': 1, 'drop_path_rate': 0.2, 'drop_rate': 0.5}\n",
      "=> loading checkpoint '/kaggle/input/nfnet-baseline-bs16/nfnet-baseline-bs16/nf0_v5_TimmClassifier_eca_nfnet_l0_1_lb''\n",
      "epoch 14\n",
      "/kaggle/input/nfnet-baseline-bs16/nfnet-baseline-bs16/nf0_v5_TimmClassifier_eca_nfnet_l0_2_lb\n",
      "initing CLS features model 15 duration...\n",
      "pretrained model...\n",
      "{'in_chans': 1, 'drop_path_rate': 0.2, 'drop_rate': 0.5}\n",
      "=> loading checkpoint '/kaggle/input/nfnet-baseline-bs16/nfnet-baseline-bs16/nf0_v5_TimmClassifier_eca_nfnet_l0_2_lb''\n",
      "epoch 15\n",
      "/kaggle/input/nfnet-baseline-bs16/nfnet-baseline-bs16/nf0_v5_TimmClassifier_eca_nfnet_l0_3_lb\n",
      "initing CLS features model 15 duration...\n",
      "pretrained model...\n",
      "{'in_chans': 1, 'drop_path_rate': 0.2, 'drop_rate': 0.5}\n",
      "=> loading checkpoint '/kaggle/input/nfnet-baseline-bs16/nfnet-baseline-bs16/nf0_v5_TimmClassifier_eca_nfnet_l0_3_lb''\n",
      "epoch 9\n",
      "/kaggle/input/nfnet-baseline-bs16/nfnet-baseline-bs16/nf0_v5_TimmClassifier_eca_nfnet_l0_4_lb\n",
      "initing CLS features model 15 duration...\n",
      "pretrained model...\n",
      "{'in_chans': 1, 'drop_path_rate': 0.2, 'drop_rate': 0.5}\n",
      "=> loading checkpoint '/kaggle/input/nfnet-baseline-bs16/nfnet-baseline-bs16/nf0_v5_TimmClassifier_eca_nfnet_l0_4_lb''\n",
      "epoch 3\n"
     ]
    }
   ],
   "source": [
    "def load_model(conf_path: str, weights_path: str, prefix: str, suffix: str, fold: int, to_device: bool = True):\n",
    "    conf = load_config(conf_path)\n",
    "    conf['encoder_params']['pretrained'] = False\n",
    "    \n",
    "    snapshot_name = \"{}{}_{}_{}_{}\".format(prefix, conf[\"network\"], conf[\"encoder_params\"][\"encoder\"], fold, suffix)\n",
    "    weights_path = os.path.join(weights_path, snapshot_name)\n",
    "    print(weights_path)\n",
    "    model = zoo.__dict__[conf[\"network\"]](**conf[\"encoder_params\"])\n",
    "    model = torch.nn.DataParallel(model)\n",
    "    print(\"=> loading checkpoint '{}''\".format(weights_path))\n",
    "    checkpoint = torch.load(weights_path, map_location=\"cpu\")\n",
    "    print(\"epoch\", checkpoint[\"epoch\"])\n",
    "    model.load_state_dict(checkpoint[\"state_dict\"])\n",
    "    model.eval()\n",
    "    if to_device: model.cuda()\n",
    "    return model\n",
    "\n",
    "models = []\n",
    "\n",
    "## best only for now\n",
    "suffixes = [\"lb\"]#, \"f1_score\" \"last\"]\n",
    "folds    = 5\n",
    "\n",
    "for i in range(folds):\n",
    "    for sx in suffixes:\n",
    "        try:\n",
    "            model = load_model(conf_path    = f\"{github_folder}/configs/cls_nf0_v5.json\",\n",
    "                               weights_path = f\"/kaggle/input/nfnet-baseline-bs16/nfnet-baseline-bs16\",\n",
    "                               prefix       = \"nf0_v5_\",\n",
    "                               suffix       = sx,\n",
    "                               fold         = i,\n",
    "                               to_device    = False,)\n",
    "            models.append(model)\n",
    "        except Exception as e:\n",
    "            print(f\"model not found\", e)"
   ]
  },
  {
   "cell_type": "code",
   "execution_count": 6,
   "id": "eef6dde9",
   "metadata": {
    "execution": {
     "iopub.execute_input": "2023-05-02T17:27:18.361809Z",
     "iopub.status.busy": "2023-05-02T17:27:18.361320Z",
     "iopub.status.idle": "2023-05-02T17:27:18.370696Z",
     "shell.execute_reply": "2023-05-02T17:27:18.368946Z"
    },
    "papermill": {
     "duration": 0.02318,
     "end_time": "2023-05-02T17:27:18.373427",
     "exception": false,
     "start_time": "2023-05-02T17:27:18.350247",
     "status": "completed"
    },
    "tags": []
   },
   "outputs": [
    {
     "data": {
      "text/plain": [
       "5"
      ]
     },
     "execution_count": 6,
     "metadata": {},
     "output_type": "execute_result"
    }
   ],
   "source": [
    "len(models)"
   ]
  },
  {
   "cell_type": "markdown",
   "id": "3a92ef03",
   "metadata": {
    "papermill": {
     "duration": 0.009197,
     "end_time": "2023-05-02T17:27:18.393073",
     "exception": false,
     "start_time": "2023-05-02T17:27:18.383876",
     "status": "completed"
    },
    "tags": []
   },
   "source": [
    "## infer"
   ]
  },
  {
   "cell_type": "code",
   "execution_count": 7,
   "id": "5451a626",
   "metadata": {
    "execution": {
     "iopub.execute_input": "2023-05-02T17:27:18.414210Z",
     "iopub.status.busy": "2023-05-02T17:27:18.413724Z",
     "iopub.status.idle": "2023-05-02T17:27:18.421314Z",
     "shell.execute_reply": "2023-05-02T17:27:18.419725Z"
    },
    "papermill": {
     "duration": 0.021746,
     "end_time": "2023-05-02T17:27:18.424503",
     "exception": false,
     "start_time": "2023-05-02T17:27:18.402757",
     "status": "completed"
    },
    "tags": []
   },
   "outputs": [],
   "source": [
    "CLASSES = \"abethr1 abhori1 abythr1 afbfly1 afdfly1 afecuc1 affeag1 afgfly1 afghor1 afmdov1 afpfly1 afpkin1 afpwag1 afrgos1 afrgrp1 afrjac1 afrthr1 amesun2 augbuz1 bagwea1 barswa bawhor2 bawman1 bcbeat1 beasun2 bkctch1 bkfruw1 blacra1 blacuc1 blakit1 blaplo1 blbpuf2 blcapa2 blfbus1 blhgon1 blhher1 blksaw1 blnmou1 blnwea1 bltapa1 bltbar1 bltori1 blwlap1 brcale1 brcsta1 brctch1 brcwea1 brican1 brobab1 broman1 brosun1 brrwhe3 brtcha1 brubru1 brwwar1 bswdov1 btweye2 bubwar2 butapa1 cabgre1 carcha1 carwoo1 categr ccbeat1 chespa1 chewea1 chibat1 chtapa3 chucis1 cibwar1 cohmar1 colsun2 combul2 combuz1 comsan crefra2 crheag1 crohor1 darbar1 darter3 didcuc1 dotbar1 dutdov1 easmog1 eaywag1 edcsun3 egygoo equaka1 eswdov1 eubeat1 fatrav1 fatwid1 fislov1 fotdro5 gabgos2 gargan gbesta1 gnbcam2 gnhsun1 gobbun1 gobsta5 gobwea1 golher1 grbcam1 grccra1 grecor greegr grewoo2 grwpyt1 gryapa1 grywrw1 gybfis1 gycwar3 gyhbus1 gyhkin1 gyhneg1 gyhspa1 gytbar1 hadibi1 hamerk1 hartur1 helgui hipbab1 hoopoe huncis1 hunsun2 joygre1 kerspa2 klacuc1 kvbsun1 laudov1 lawgol lesmaw1 lessts1 libeat1 litegr litswi1 litwea1 loceag1 lotcor1 lotlap1 luebus1 mabeat1 macshr1 malkin1 marsto1 marsun2 mcptit1 meypar1 moccha1 mouwag1 ndcsun2 nobfly1 norbro1 norcro1 norfis1 norpuf1 nubwoo1 pabspa1 palfly2 palpri1 piecro1 piekin1 pitwhy purgre2 pygbat1 quailf1 ratcis1 raybar1 rbsrob1 rebfir2 rebhor1 reboxp1 reccor reccuc1 reedov1 refbar2 refcro1 reftin1 refwar2 rehblu1 rehwea1 reisee2 rerswa1 rewsta1 rindov rocmar2 rostur1 ruegls1 rufcha2 sacibi2 sccsun2 scrcha1 scthon1 shesta1 sichor1 sincis1 slbgre1 slcbou1 sltnig1 sobfly1 somgre1 somtit4 soucit1 soufis1 spemou2 spepig1 spewea1 spfbar1 spfwea1 spmthr1 spwlap1 squher1 strher strsee1 stusta1 subbus1 supsta1 tacsun1 tafpri1 tamdov1 thrnig1 trobou1 varsun2 vibsta2 vilwea1 vimwea1 walsta1 wbgbir1 wbrcha2 wbswea1 wfbeat1 whbcan1 whbcou1 whbcro2 whbtit5 whbwea1 whbwhe3 whcpri2 whctur2 wheslf1 whhsaw1 whihel1 whrshr1 witswa1 wlwwar wookin1 woosan wtbeat1 yebapa1 yebbar1 yebduc1 yebere1 yebgre1 yebsto1 yeccan1 yefcan yelbis1 yenspu1 yertin1 yesbar1 yespet1 yetgre1 yewgre1\".split()\n",
    "N_CLASS = len(CLASSES)"
   ]
  },
  {
   "cell_type": "code",
   "execution_count": 8,
   "id": "e7901e43",
   "metadata": {
    "execution": {
     "iopub.execute_input": "2023-05-02T17:27:18.445690Z",
     "iopub.status.busy": "2023-05-02T17:27:18.445227Z",
     "iopub.status.idle": "2023-05-02T17:27:18.458289Z",
     "shell.execute_reply": "2023-05-02T17:27:18.456671Z"
    },
    "papermill": {
     "duration": 0.026957,
     "end_time": "2023-05-02T17:27:18.461106",
     "exception": false,
     "start_time": "2023-05-02T17:27:18.434149",
     "status": "completed"
    },
    "tags": []
   },
   "outputs": [],
   "source": [
    "\n",
    "def prepare_clip(fpath, frame_length, sample_rate):\n",
    "    \"\"\"\n",
    "    Prepare audio clip for inference\n",
    "    \"\"\"\n",
    "    infer_frame_length = frame_length\n",
    "    batch = {\"wav_tensors\": [], \"end_times\": []}\n",
    "    \n",
    "    waveform, sample_rate = librosa.load(fpath, sr=sample_rate, mono=True)\n",
    "    n_parts = math.ceil(len(waveform) / int(infer_frame_length * sample_rate))\n",
    "    \n",
    "    for seg_idx in range(n_parts): \n",
    "        end_time = (seg_idx + 1) * frame_length\n",
    "        seg_wav  = waveform[(end_time*sample_rate)-(sample_rate*frame_length):end_time*sample_rate]\n",
    "        \n",
    "        wav_tensor = torch.from_numpy(seg_wav)\n",
    "        \n",
    "        if len(wav_tensor) == frame_length * sample_rate:\n",
    "            batch[\"wav_tensors\"].append(wav_tensor.unsqueeze(0))\n",
    "        elif len(wav_tensor) < frame_length * sample_rate:\n",
    "            wav_tensor = torch.nn.functional.pad(wav_tensor, (0, (frame_length * sample_rate) - len(wav_tensor)))\n",
    "            batch[\"wav_tensors\"].append(wav_tensor.unsqueeze(0))\n",
    "        elif len(wav_tensor) > frame_length * sample_rate:\n",
    "            wav_tensor = wav_tensor[:(frame_length * sample_rate)]\n",
    "            batch[\"wav_tensors\"].append(wav_tensor.unsqueeze(0))\n",
    "            \n",
    "        batch[\"end_times\"].append(end_time)\n",
    "    batch[\"wav_tensors\"] = torch.stack(batch[\"wav_tensors\"])\n",
    "    return batch, n_parts, len(waveform)\n",
    "\n",
    "@torch.no_grad()\n",
    "def predict_clip(models, batch, n_parts, frame_length):\n",
    "    preds = np.zeros([len(models), n_parts, N_CLASS])\n",
    "    for m_idx, model in enumerate(models):\n",
    "        with torch.cuda.amp.autocast():\n",
    "            preds[m_idx] = model(batch[\"wav_tensors\"], is_test=True)[\"logit\"].sigmoid().cpu().numpy()\n",
    "    return preds.mean(0) ## max by model    \n",
    "    "
   ]
  },
  {
   "cell_type": "code",
   "execution_count": 9,
   "id": "cd82ed74",
   "metadata": {
    "execution": {
     "iopub.execute_input": "2023-05-02T17:27:18.482568Z",
     "iopub.status.busy": "2023-05-02T17:27:18.482064Z",
     "iopub.status.idle": "2023-05-02T17:27:18.491781Z",
     "shell.execute_reply": "2023-05-02T17:27:18.490140Z"
    },
    "papermill": {
     "duration": 0.023961,
     "end_time": "2023-05-02T17:27:18.494687",
     "exception": false,
     "start_time": "2023-05-02T17:27:18.470726",
     "status": "completed"
    },
    "tags": []
   },
   "outputs": [
    {
     "data": {
      "text/plain": [
       "5"
      ]
     },
     "execution_count": 9,
     "metadata": {},
     "output_type": "execute_result"
    }
   ],
   "source": [
    "len(models)"
   ]
  },
  {
   "cell_type": "code",
   "execution_count": 10,
   "id": "a494b291",
   "metadata": {
    "execution": {
     "iopub.execute_input": "2023-05-02T17:27:18.517230Z",
     "iopub.status.busy": "2023-05-02T17:27:18.516732Z",
     "iopub.status.idle": "2023-05-02T17:32:12.304572Z",
     "shell.execute_reply": "2023-05-02T17:32:12.302714Z"
    },
    "papermill": {
     "duration": 293.81212,
     "end_time": "2023-05-02T17:32:12.316873",
     "exception": false,
     "start_time": "2023-05-02T17:27:18.504753",
     "status": "completed"
    },
    "tags": []
   },
   "outputs": [
    {
     "name": "stdout",
     "output_type": "stream",
     "text": [
      "test file num: 1\n",
      "CPU times: user 3min 3s, sys: 1min 47s, total: 4min 51s\n",
      "Wall time: 4min 53s\n"
     ]
    }
   ],
   "source": [
    "%%time\n",
    "\n",
    "\n",
    "@torch.no_grad()\n",
    "def generate_preds():\n",
    "    debug = False\n",
    "    preds        = []\n",
    "    test_files   = sorted(glob.glob(\"/kaggle/input/birdclef-2023/test_soundscapes/*.ogg\")) \n",
    "    sample_rate  = 32000\n",
    "    \n",
    "    scored_birds = np.array(CLASSES)\n",
    "\n",
    "    frame_length = 5\n",
    "    infer_frame_length = 5\n",
    "\n",
    "    print(\"test file num:\", len(test_files))\n",
    "    for fpath in test_files:\n",
    "        file_id = os.path.basename(fpath).replace(\".ogg\", \"\")\n",
    "        batch, n_parts, len_waveform = prepare_clip(fpath, frame_length, sample_rate)\n",
    "        clip_preds = predict_clip(models, batch, n_parts, frame_length)\n",
    "        preds.append(clip_preds)\n",
    "        \n",
    "        ## switch to infer frame length\n",
    "        n_parts_sub = math.ceil(len_waveform / int(infer_frame_length * sample_rate))\n",
    "        clip_preds = np.array_split(clip_preds, n_parts_sub, axis=0)\n",
    "        \n",
    "                \n",
    "    prob_array = np.array(preds)\n",
    "    \n",
    "    scored_bird_name2idx = {}\n",
    "    for i, x in enumerate(scored_birds):\n",
    "        scored_bird_name2idx[x] = i\n",
    "\n",
    "    return prob_array, scored_bird_name2idx\n",
    "\n",
    "prob_array, scored_bird_name2idx = generate_preds()\n",
    "# del models\n",
    "# gc.collect()\n",
    "# torch.cuda.empty_cache()"
   ]
  },
  {
   "cell_type": "code",
   "execution_count": 11,
   "id": "7dc16e42",
   "metadata": {
    "execution": {
     "iopub.execute_input": "2023-05-02T17:32:12.339220Z",
     "iopub.status.busy": "2023-05-02T17:32:12.337767Z",
     "iopub.status.idle": "2023-05-02T17:32:12.348041Z",
     "shell.execute_reply": "2023-05-02T17:32:12.346967Z"
    },
    "papermill": {
     "duration": 0.023933,
     "end_time": "2023-05-02T17:32:12.350421",
     "exception": false,
     "start_time": "2023-05-02T17:32:12.326488",
     "status": "completed"
    },
    "tags": []
   },
   "outputs": [
    {
     "data": {
      "text/plain": [
       "(1, 120, 264)"
      ]
     },
     "execution_count": 11,
     "metadata": {},
     "output_type": "execute_result"
    }
   ],
   "source": [
    "prob_array.shape"
   ]
  },
  {
   "cell_type": "markdown",
   "id": "b0a1fdf0",
   "metadata": {
    "papermill": {
     "duration": 0.009091,
     "end_time": "2023-05-02T17:32:12.368865",
     "exception": false,
     "start_time": "2023-05-02T17:32:12.359774",
     "status": "completed"
    },
    "tags": []
   },
   "source": [
    "----"
   ]
  },
  {
   "cell_type": "code",
   "execution_count": 12,
   "id": "1ebc2874",
   "metadata": {
    "execution": {
     "iopub.execute_input": "2023-05-02T17:32:12.394331Z",
     "iopub.status.busy": "2023-05-02T17:32:12.392864Z",
     "iopub.status.idle": "2023-05-02T17:32:12.399284Z",
     "shell.execute_reply": "2023-05-02T17:32:12.397912Z"
    },
    "papermill": {
     "duration": 0.022284,
     "end_time": "2023-05-02T17:32:12.402305",
     "exception": false,
     "start_time": "2023-05-02T17:32:12.380021",
     "status": "completed"
    },
    "tags": []
   },
   "outputs": [],
   "source": [
    "# %cd /kaggle/input/birdnetgit"
   ]
  },
  {
   "cell_type": "code",
   "execution_count": 13,
   "id": "a9e6a0a7",
   "metadata": {
    "execution": {
     "iopub.execute_input": "2023-05-02T17:32:12.424905Z",
     "iopub.status.busy": "2023-05-02T17:32:12.424424Z",
     "iopub.status.idle": "2023-05-02T17:32:12.432132Z",
     "shell.execute_reply": "2023-05-02T17:32:12.430575Z"
    },
    "papermill": {
     "duration": 0.022095,
     "end_time": "2023-05-02T17:32:12.434749",
     "exception": false,
     "start_time": "2023-05-02T17:32:12.412654",
     "status": "completed"
    },
    "tags": []
   },
   "outputs": [],
   "source": [
    "# import os\n",
    "# import sys\n",
    "# import json\n",
    "# import math\n",
    "# import glob\n",
    "# import librosa\n",
    "# import operator\n",
    "# import argparse\n",
    "# import datetime\n",
    "# import traceback\n",
    "\n",
    "# from multiprocessing import Pool, freeze_support\n",
    "\n",
    "# import numpy as np\n",
    "\n",
    "# import config as cfg\n",
    "# import audio\n",
    "# import model\n",
    "# from analyze import *\n",
    "\n",
    "# import pandas as pd\n",
    "# import numpy as np"
   ]
  },
  {
   "cell_type": "code",
   "execution_count": 14,
   "id": "7825c7f9",
   "metadata": {
    "execution": {
     "iopub.execute_input": "2023-05-02T17:32:12.456734Z",
     "iopub.status.busy": "2023-05-02T17:32:12.456145Z",
     "iopub.status.idle": "2023-05-02T17:32:12.465100Z",
     "shell.execute_reply": "2023-05-02T17:32:12.463493Z"
    },
    "papermill": {
     "duration": 0.023773,
     "end_time": "2023-05-02T17:32:12.467910",
     "exception": false,
     "start_time": "2023-05-02T17:32:12.444137",
     "status": "completed"
    },
    "tags": []
   },
   "outputs": [],
   "source": [
    "# df = pd.read_csv(\"../birdclef-2022/eBird_Taxonomy_v2021.csv\")\n",
    "# s2id = lambda x: df[(df['PRIMARY_COM_NAME'] == x)].SPECIES_CODE.tolist()[0]\n",
    "\n",
    "# cfg.MODEL_PATH = '/kaggle/input/birdnetgit/checkpoints/V2.1/BirdNET_GLOBAL_2K_V2.1_Model_FP32.tflite'\n",
    "# cfg.MDATA_MODEL_PATH = '/kaggle/input/birdnetgit/checkpoints/V2.1/BirdNET_GLOBAL_2K_V2.1_MData_Model_FP32.tflite'\n",
    "# cfg.LABELS_FILE = '/kaggle/input/birdnetgit/checkpoints/V2.1/BirdNET_GLOBAL_2K_V2.1_Labels.txt'\n",
    "# cfg.TRANSLATED_LABELS_PATH = '/kaggle/input/birdnetgit/labels/V2.1'\n",
    "\n",
    "# cfg.SIG_LENGTH = 5\n",
    "# cfg.SIG_OVERLAP = 0 \n",
    "# cfg.SIG_MINLEN = 5 \n",
    "\n",
    "# # Load eBird codes, labels\n",
    "\n",
    "# def loadCodes(CODEC_FILE):\n",
    "\n",
    "#     with open(CODEC_FILE, 'r') as cfile:\n",
    "#         codes = json.load(cfile)\n",
    "\n",
    "#     return codes\n",
    "\n",
    "# cfg.CODES = loadCodes(\"./eBird_taxonomy_codes_2021E.json\")\n",
    "# def loadLabels(labels_file):\n",
    "\n",
    "#     labels = []\n",
    "#     with open(labels_file, 'r') as lfile:\n",
    "#         for line in lfile.readlines():\n",
    "#             labels.append(line.replace('\\n', ''))    \n",
    "\n",
    "#     return labels\n",
    "\n",
    "# def prepare_clip(fpath):\n",
    "#     \"\"\"\n",
    "#     Prepare audio clip for inference\n",
    "#     \"\"\"\n",
    "#     sample_rate = cfg.SAMPLE_RATE\n",
    "#     frame_length = cfg.SIG_LENGTH\n",
    "#     infer_frame_length = frame_length\n",
    "    \n",
    "#     sample_rate = 48000\n",
    "#     chunks = []\n",
    "    \n",
    "#     waveform, sample_rate = librosa.load(fpath, sr=sample_rate, mono=True, res_type='kaiser_fast')\n",
    "#     n_parts = math.ceil(len(waveform) / int(infer_frame_length * sample_rate))\n",
    "    \n",
    "#     for seg_idx in range(n_parts): \n",
    "#         end_time = (seg_idx + 1) * frame_length\n",
    "#         chunk  = waveform[(end_time*sample_rate)-(sample_rate*frame_length):end_time*sample_rate]\n",
    "                \n",
    "#         if len(chunk) == frame_length * sample_rate:\n",
    "#             chunks.append(chunk)\n",
    "#         elif len(chunk) < frame_length * sample_rate:\n",
    "#             chunk = np.pad(chunk, (0, (frame_length * sample_rate) - len(chunk)))\n",
    "#             chunks.append(chunk)\n",
    "#         elif len(chunk) > frame_length * sample_rate:\n",
    "#             chunk = chunk[:(frame_length * sample_rate)]\n",
    "#             chunks.append(chunk)\n",
    "            \n",
    "#     return chunks\n",
    "\n",
    "\n",
    "# scored_birds = np.array(['akiapo', 'aniani', 'apapan', 'barpet', 'crehon', 'elepai', 'ercfra',\n",
    "#                           'hawama', 'hawcre', 'hawgoo', 'hawhaw', 'hawpet1', 'houfin', 'iiwi',\n",
    "#                           'jabwar', 'maupar', 'omao', 'puaioh', 'skylar', 'warwhe1', 'yefcan'])\n",
    "\n",
    "# cfg.LABELS = loadLabels(cfg.LABELS_FILE)\n",
    "\n",
    "# model.loadModel()\n",
    "\n"
   ]
  },
  {
   "cell_type": "code",
   "execution_count": 15,
   "id": "a93672da",
   "metadata": {
    "execution": {
     "iopub.execute_input": "2023-05-02T17:32:12.492044Z",
     "iopub.status.busy": "2023-05-02T17:32:12.491503Z",
     "iopub.status.idle": "2023-05-02T17:32:12.498160Z",
     "shell.execute_reply": "2023-05-02T17:32:12.496583Z"
    },
    "papermill": {
     "duration": 0.021841,
     "end_time": "2023-05-02T17:32:12.500639",
     "exception": false,
     "start_time": "2023-05-02T17:32:12.478798",
     "status": "completed"
    },
    "tags": []
   },
   "outputs": [],
   "source": [
    "# bird_dict = {}\n",
    "# for i, lb in enumerate(cfg.LABELS):\n",
    "#     try:\n",
    "#         lbb = s2id(lb.split(\"_\")[-1])\n",
    "#         if lbb in scored_birds:\n",
    "#             bird_dict[lbb] = i\n",
    "#     except Exception as e:\n",
    "#         continue\n",
    "    \n",
    "# bird_dict[\"aniani\"] = 0\n",
    "\n",
    "# sorted_bd = dict(sorted(bird_dict.items(), key=lambda item: item[0]))\n",
    "# get_idx = list(sorted_bd.values())"
   ]
  },
  {
   "cell_type": "code",
   "execution_count": 16,
   "id": "a53d2666",
   "metadata": {
    "execution": {
     "iopub.execute_input": "2023-05-02T17:32:12.522098Z",
     "iopub.status.busy": "2023-05-02T17:32:12.521592Z",
     "iopub.status.idle": "2023-05-02T17:32:12.527665Z",
     "shell.execute_reply": "2023-05-02T17:32:12.526475Z"
    },
    "papermill": {
     "duration": 0.019644,
     "end_time": "2023-05-02T17:32:12.530037",
     "exception": false,
     "start_time": "2023-05-02T17:32:12.510393",
     "status": "completed"
    },
    "tags": []
   },
   "outputs": [],
   "source": [
    "# # def predict_single(test_path)\n",
    "\n",
    "# def generate_preds_bn():\n",
    "#     test_files   = sorted(glob.glob(\"/kaggle/input/birdclef-2022/test_soundscapes/*.ogg\"))\n",
    "    \n",
    "#     preds = []\n",
    "#     file_ids = []\n",
    "    \n",
    "#     for fpath in test_files:\n",
    "#         chunks = prepare_clip(fpath)\n",
    "#         pred = predict(chunks)[:, get_idx]\n",
    "#         preds.append(pred)\n",
    "#         file_id = os.path.basename(fpath).replace(\".ogg\", \"\")\n",
    "#         file_ids.append(file_id)\n",
    "        \n",
    "#     preds = np.array(preds)\n",
    "#     return preds, file_ids\n",
    "        "
   ]
  },
  {
   "cell_type": "code",
   "execution_count": 17,
   "id": "b8e5accf",
   "metadata": {
    "execution": {
     "iopub.execute_input": "2023-05-02T17:32:12.552649Z",
     "iopub.status.busy": "2023-05-02T17:32:12.551750Z",
     "iopub.status.idle": "2023-05-02T17:32:12.556526Z",
     "shell.execute_reply": "2023-05-02T17:32:12.555498Z"
    },
    "papermill": {
     "duration": 0.019031,
     "end_time": "2023-05-02T17:32:12.559030",
     "exception": false,
     "start_time": "2023-05-02T17:32:12.539999",
     "status": "completed"
    },
    "tags": []
   },
   "outputs": [],
   "source": [
    "# %%time\n",
    "# preds_bn, file_ids = generate_preds_bn()\n"
   ]
  },
  {
   "cell_type": "code",
   "execution_count": 18,
   "id": "d74bd08e",
   "metadata": {
    "execution": {
     "iopub.execute_input": "2023-05-02T17:32:12.579848Z",
     "iopub.status.busy": "2023-05-02T17:32:12.579016Z",
     "iopub.status.idle": "2023-05-02T17:32:12.583620Z",
     "shell.execute_reply": "2023-05-02T17:32:12.582650Z"
    },
    "papermill": {
     "duration": 0.017968,
     "end_time": "2023-05-02T17:32:12.586127",
     "exception": false,
     "start_time": "2023-05-02T17:32:12.568159",
     "status": "completed"
    },
    "tags": []
   },
   "outputs": [],
   "source": [
    "# preds_bn[:, :, 1] = prob_array[:, :, 1] # 有一种鸟类缺失"
   ]
  },
  {
   "cell_type": "code",
   "execution_count": 19,
   "id": "03d830e4",
   "metadata": {
    "execution": {
     "iopub.execute_input": "2023-05-02T17:32:12.608237Z",
     "iopub.status.busy": "2023-05-02T17:32:12.607353Z",
     "iopub.status.idle": "2023-05-02T17:32:12.619647Z",
     "shell.execute_reply": "2023-05-02T17:32:12.618131Z"
    },
    "papermill": {
     "duration": 0.026408,
     "end_time": "2023-05-02T17:32:12.622815",
     "exception": false,
     "start_time": "2023-05-02T17:32:12.596407",
     "status": "completed"
    },
    "tags": []
   },
   "outputs": [],
   "source": [
    "def generate_file_ids():\n",
    "    test_files   = sorted(glob.glob(\"/kaggle/input/birdclef-2023/test_soundscapes/*.ogg\"))\n",
    "    \n",
    "    file_ids = []\n",
    "    \n",
    "    for fpath in test_files:\n",
    "        file_id = os.path.basename(fpath).replace(\".ogg\", \"\")\n",
    "        file_ids.append(file_id)\n",
    "        \n",
    "    return file_ids\n",
    "\n",
    "file_ids = generate_file_ids()"
   ]
  },
  {
   "cell_type": "code",
   "execution_count": 20,
   "id": "57c832aa",
   "metadata": {
    "execution": {
     "iopub.execute_input": "2023-05-02T17:32:12.644482Z",
     "iopub.status.busy": "2023-05-02T17:32:12.643999Z",
     "iopub.status.idle": "2023-05-02T17:32:12.652842Z",
     "shell.execute_reply": "2023-05-02T17:32:12.651183Z"
    },
    "papermill": {
     "duration": 0.023052,
     "end_time": "2023-05-02T17:32:12.655320",
     "exception": false,
     "start_time": "2023-05-02T17:32:12.632268",
     "status": "completed"
    },
    "tags": []
   },
   "outputs": [
    {
     "data": {
      "text/plain": [
       "(1, 120, 264)"
      ]
     },
     "execution_count": 20,
     "metadata": {},
     "output_type": "execute_result"
    }
   ],
   "source": [
    "## fix aniani\n",
    "avg_preds = prob_array\n",
    "\n",
    "avg_preds.shape"
   ]
  },
  {
   "cell_type": "code",
   "execution_count": 21,
   "id": "f5ef9b28",
   "metadata": {
    "execution": {
     "iopub.execute_input": "2023-05-02T17:32:12.677114Z",
     "iopub.status.busy": "2023-05-02T17:32:12.676619Z",
     "iopub.status.idle": "2023-05-02T17:32:12.695995Z",
     "shell.execute_reply": "2023-05-02T17:32:12.694230Z"
    },
    "papermill": {
     "duration": 0.033847,
     "end_time": "2023-05-02T17:32:12.698845",
     "exception": false,
     "start_time": "2023-05-02T17:32:12.664998",
     "status": "completed"
    },
    "tags": []
   },
   "outputs": [],
   "source": [
    "submission   = []\n",
    "infer_frame_length = 5\n",
    "threshold = 0.2\n",
    "\n",
    "for clip_preds, file_id in zip(avg_preds, file_ids):\n",
    "    for frame_idx, pred in enumerate(clip_preds):\n",
    "        end_time = (frame_idx + 1) * infer_frame_length\n",
    "        d = {\n",
    "            \"row_id\": f\"{file_id}_{end_time}\",\n",
    "            # \"target\": pred[bi] > threshold,\n",
    "        }\n",
    "        for bi, bird in enumerate(CLASSES):\n",
    "            d[bird] = pred[bi]\n",
    "        submission.append(d)"
   ]
  },
  {
   "cell_type": "code",
   "execution_count": 22,
   "id": "d5ebc87b",
   "metadata": {
    "execution": {
     "iopub.execute_input": "2023-05-02T17:32:12.720493Z",
     "iopub.status.busy": "2023-05-02T17:32:12.719997Z",
     "iopub.status.idle": "2023-05-02T17:32:12.729773Z",
     "shell.execute_reply": "2023-05-02T17:32:12.728076Z"
    },
    "papermill": {
     "duration": 0.024051,
     "end_time": "2023-05-02T17:32:12.732847",
     "exception": false,
     "start_time": "2023-05-02T17:32:12.708796",
     "status": "completed"
    },
    "tags": []
   },
   "outputs": [
    {
     "name": "stdout",
     "output_type": "stream",
     "text": [
      "/kaggle/working\n"
     ]
    }
   ],
   "source": [
    "%cd /kaggle/working"
   ]
  },
  {
   "cell_type": "code",
   "execution_count": 23,
   "id": "73457691",
   "metadata": {
    "execution": {
     "iopub.execute_input": "2023-05-02T17:32:12.754373Z",
     "iopub.status.busy": "2023-05-02T17:32:12.753902Z",
     "iopub.status.idle": "2023-05-02T17:32:12.859359Z",
     "shell.execute_reply": "2023-05-02T17:32:12.858084Z"
    },
    "papermill": {
     "duration": 0.11961,
     "end_time": "2023-05-02T17:32:12.862069",
     "exception": false,
     "start_time": "2023-05-02T17:32:12.742459",
     "status": "completed"
    },
    "tags": []
   },
   "outputs": [],
   "source": [
    "df_submission = pd.DataFrame(submission).set_index(\"row_id\")\n",
    "df_submission.to_csv(\"submission.csv\")"
   ]
  },
  {
   "cell_type": "code",
   "execution_count": 24,
   "id": "a67c0510",
   "metadata": {
    "execution": {
     "iopub.execute_input": "2023-05-02T17:32:12.883593Z",
     "iopub.status.busy": "2023-05-02T17:32:12.882645Z",
     "iopub.status.idle": "2023-05-02T17:32:12.922152Z",
     "shell.execute_reply": "2023-05-02T17:32:12.920898Z"
    },
    "papermill": {
     "duration": 0.053884,
     "end_time": "2023-05-02T17:32:12.925147",
     "exception": false,
     "start_time": "2023-05-02T17:32:12.871263",
     "status": "completed"
    },
    "tags": []
   },
   "outputs": [
    {
     "data": {
      "text/html": [
       "<div>\n",
       "<style scoped>\n",
       "    .dataframe tbody tr th:only-of-type {\n",
       "        vertical-align: middle;\n",
       "    }\n",
       "\n",
       "    .dataframe tbody tr th {\n",
       "        vertical-align: top;\n",
       "    }\n",
       "\n",
       "    .dataframe thead th {\n",
       "        text-align: right;\n",
       "    }\n",
       "</style>\n",
       "<table border=\"1\" class=\"dataframe\">\n",
       "  <thead>\n",
       "    <tr style=\"text-align: right;\">\n",
       "      <th></th>\n",
       "      <th>abethr1</th>\n",
       "      <th>abhori1</th>\n",
       "      <th>abythr1</th>\n",
       "      <th>afbfly1</th>\n",
       "      <th>afdfly1</th>\n",
       "      <th>afecuc1</th>\n",
       "      <th>affeag1</th>\n",
       "      <th>afgfly1</th>\n",
       "      <th>afghor1</th>\n",
       "      <th>afmdov1</th>\n",
       "      <th>...</th>\n",
       "      <th>yebsto1</th>\n",
       "      <th>yeccan1</th>\n",
       "      <th>yefcan</th>\n",
       "      <th>yelbis1</th>\n",
       "      <th>yenspu1</th>\n",
       "      <th>yertin1</th>\n",
       "      <th>yesbar1</th>\n",
       "      <th>yespet1</th>\n",
       "      <th>yetgre1</th>\n",
       "      <th>yewgre1</th>\n",
       "    </tr>\n",
       "    <tr>\n",
       "      <th>row_id</th>\n",
       "      <th></th>\n",
       "      <th></th>\n",
       "      <th></th>\n",
       "      <th></th>\n",
       "      <th></th>\n",
       "      <th></th>\n",
       "      <th></th>\n",
       "      <th></th>\n",
       "      <th></th>\n",
       "      <th></th>\n",
       "      <th></th>\n",
       "      <th></th>\n",
       "      <th></th>\n",
       "      <th></th>\n",
       "      <th></th>\n",
       "      <th></th>\n",
       "      <th></th>\n",
       "      <th></th>\n",
       "      <th></th>\n",
       "      <th></th>\n",
       "      <th></th>\n",
       "    </tr>\n",
       "  </thead>\n",
       "  <tbody>\n",
       "    <tr>\n",
       "      <th>soundscape_29201_5</th>\n",
       "      <td>0.126322</td>\n",
       "      <td>0.082279</td>\n",
       "      <td>0.080639</td>\n",
       "      <td>0.048643</td>\n",
       "      <td>0.050450</td>\n",
       "      <td>0.101488</td>\n",
       "      <td>0.075621</td>\n",
       "      <td>0.024092</td>\n",
       "      <td>0.160114</td>\n",
       "      <td>0.053103</td>\n",
       "      <td>...</td>\n",
       "      <td>0.014870</td>\n",
       "      <td>0.017178</td>\n",
       "      <td>0.048987</td>\n",
       "      <td>0.028027</td>\n",
       "      <td>0.046248</td>\n",
       "      <td>0.084438</td>\n",
       "      <td>0.034058</td>\n",
       "      <td>0.033602</td>\n",
       "      <td>0.054080</td>\n",
       "      <td>0.053488</td>\n",
       "    </tr>\n",
       "    <tr>\n",
       "      <th>soundscape_29201_10</th>\n",
       "      <td>0.066883</td>\n",
       "      <td>0.163154</td>\n",
       "      <td>0.030730</td>\n",
       "      <td>0.066173</td>\n",
       "      <td>0.037863</td>\n",
       "      <td>0.032876</td>\n",
       "      <td>0.077701</td>\n",
       "      <td>0.018499</td>\n",
       "      <td>0.038836</td>\n",
       "      <td>0.143987</td>\n",
       "      <td>...</td>\n",
       "      <td>0.008456</td>\n",
       "      <td>0.019717</td>\n",
       "      <td>0.077968</td>\n",
       "      <td>0.045672</td>\n",
       "      <td>0.048694</td>\n",
       "      <td>0.069296</td>\n",
       "      <td>0.020868</td>\n",
       "      <td>0.027681</td>\n",
       "      <td>0.021832</td>\n",
       "      <td>0.076182</td>\n",
       "    </tr>\n",
       "    <tr>\n",
       "      <th>soundscape_29201_15</th>\n",
       "      <td>0.079987</td>\n",
       "      <td>0.081210</td>\n",
       "      <td>0.043818</td>\n",
       "      <td>0.017313</td>\n",
       "      <td>0.023264</td>\n",
       "      <td>0.057486</td>\n",
       "      <td>0.047380</td>\n",
       "      <td>0.019067</td>\n",
       "      <td>0.037296</td>\n",
       "      <td>0.075968</td>\n",
       "      <td>...</td>\n",
       "      <td>0.003207</td>\n",
       "      <td>0.016011</td>\n",
       "      <td>0.083864</td>\n",
       "      <td>0.041710</td>\n",
       "      <td>0.019614</td>\n",
       "      <td>0.062920</td>\n",
       "      <td>0.014906</td>\n",
       "      <td>0.031477</td>\n",
       "      <td>0.027349</td>\n",
       "      <td>0.034517</td>\n",
       "    </tr>\n",
       "    <tr>\n",
       "      <th>soundscape_29201_20</th>\n",
       "      <td>0.033041</td>\n",
       "      <td>0.054676</td>\n",
       "      <td>0.033540</td>\n",
       "      <td>0.065020</td>\n",
       "      <td>0.026051</td>\n",
       "      <td>0.041332</td>\n",
       "      <td>0.038397</td>\n",
       "      <td>0.048254</td>\n",
       "      <td>0.087093</td>\n",
       "      <td>0.055143</td>\n",
       "      <td>...</td>\n",
       "      <td>0.003784</td>\n",
       "      <td>0.016919</td>\n",
       "      <td>0.036901</td>\n",
       "      <td>0.051521</td>\n",
       "      <td>0.037227</td>\n",
       "      <td>0.045216</td>\n",
       "      <td>0.030855</td>\n",
       "      <td>0.035765</td>\n",
       "      <td>0.048098</td>\n",
       "      <td>0.034408</td>\n",
       "    </tr>\n",
       "    <tr>\n",
       "      <th>soundscape_29201_25</th>\n",
       "      <td>0.032070</td>\n",
       "      <td>0.053571</td>\n",
       "      <td>0.037843</td>\n",
       "      <td>0.041944</td>\n",
       "      <td>0.025352</td>\n",
       "      <td>0.041222</td>\n",
       "      <td>0.033076</td>\n",
       "      <td>0.034691</td>\n",
       "      <td>0.080168</td>\n",
       "      <td>0.055880</td>\n",
       "      <td>...</td>\n",
       "      <td>0.003007</td>\n",
       "      <td>0.013583</td>\n",
       "      <td>0.044521</td>\n",
       "      <td>0.037034</td>\n",
       "      <td>0.028745</td>\n",
       "      <td>0.037802</td>\n",
       "      <td>0.025130</td>\n",
       "      <td>0.024882</td>\n",
       "      <td>0.041649</td>\n",
       "      <td>0.029063</td>\n",
       "    </tr>\n",
       "  </tbody>\n",
       "</table>\n",
       "<p>5 rows × 264 columns</p>\n",
       "</div>"
      ],
      "text/plain": [
       "                      abethr1   abhori1   abythr1   afbfly1   afdfly1  \\\n",
       "row_id                                                                  \n",
       "soundscape_29201_5   0.126322  0.082279  0.080639  0.048643  0.050450   \n",
       "soundscape_29201_10  0.066883  0.163154  0.030730  0.066173  0.037863   \n",
       "soundscape_29201_15  0.079987  0.081210  0.043818  0.017313  0.023264   \n",
       "soundscape_29201_20  0.033041  0.054676  0.033540  0.065020  0.026051   \n",
       "soundscape_29201_25  0.032070  0.053571  0.037843  0.041944  0.025352   \n",
       "\n",
       "                      afecuc1   affeag1   afgfly1   afghor1   afmdov1  ...  \\\n",
       "row_id                                                                 ...   \n",
       "soundscape_29201_5   0.101488  0.075621  0.024092  0.160114  0.053103  ...   \n",
       "soundscape_29201_10  0.032876  0.077701  0.018499  0.038836  0.143987  ...   \n",
       "soundscape_29201_15  0.057486  0.047380  0.019067  0.037296  0.075968  ...   \n",
       "soundscape_29201_20  0.041332  0.038397  0.048254  0.087093  0.055143  ...   \n",
       "soundscape_29201_25  0.041222  0.033076  0.034691  0.080168  0.055880  ...   \n",
       "\n",
       "                      yebsto1   yeccan1    yefcan   yelbis1   yenspu1  \\\n",
       "row_id                                                                  \n",
       "soundscape_29201_5   0.014870  0.017178  0.048987  0.028027  0.046248   \n",
       "soundscape_29201_10  0.008456  0.019717  0.077968  0.045672  0.048694   \n",
       "soundscape_29201_15  0.003207  0.016011  0.083864  0.041710  0.019614   \n",
       "soundscape_29201_20  0.003784  0.016919  0.036901  0.051521  0.037227   \n",
       "soundscape_29201_25  0.003007  0.013583  0.044521  0.037034  0.028745   \n",
       "\n",
       "                      yertin1   yesbar1   yespet1   yetgre1   yewgre1  \n",
       "row_id                                                                 \n",
       "soundscape_29201_5   0.084438  0.034058  0.033602  0.054080  0.053488  \n",
       "soundscape_29201_10  0.069296  0.020868  0.027681  0.021832  0.076182  \n",
       "soundscape_29201_15  0.062920  0.014906  0.031477  0.027349  0.034517  \n",
       "soundscape_29201_20  0.045216  0.030855  0.035765  0.048098  0.034408  \n",
       "soundscape_29201_25  0.037802  0.025130  0.024882  0.041649  0.029063  \n",
       "\n",
       "[5 rows x 264 columns]"
      ]
     },
     "execution_count": 24,
     "metadata": {},
     "output_type": "execute_result"
    }
   ],
   "source": [
    "# print(f\"\"\"\n",
    "# total rows : {len(df_submission)}\n",
    "# activated  : {len(df_submission[(df_submission.target==True)])}\n",
    "# \"\"\")\n",
    "\n",
    "df_submission.head()"
   ]
  },
  {
   "cell_type": "code",
   "execution_count": null,
   "id": "a6be98f0",
   "metadata": {
    "papermill": {
     "duration": 0.010256,
     "end_time": "2023-05-02T17:32:12.946934",
     "exception": false,
     "start_time": "2023-05-02T17:32:12.936678",
     "status": "completed"
    },
    "tags": []
   },
   "outputs": [],
   "source": []
  }
 ],
 "metadata": {
  "kernelspec": {
   "display_name": "Python 3",
   "language": "python",
   "name": "python3"
  },
  "language_info": {
   "codemirror_mode": {
    "name": "ipython",
    "version": 3
   },
   "file_extension": ".py",
   "mimetype": "text/x-python",
   "name": "python",
   "nbconvert_exporter": "python",
   "pygments_lexer": "ipython3",
   "version": "3.10.10"
  },
  "papermill": {
   "default_parameters": {},
   "duration": 415.266704,
   "end_time": "2023-05-02T17:32:15.881924",
   "environment_variables": {},
   "exception": null,
   "input_path": "__notebook__.ipynb",
   "output_path": "__notebook__.ipynb",
   "parameters": {},
   "start_time": "2023-05-02T17:25:20.615220",
   "version": "2.4.0"
  }
 },
 "nbformat": 4,
 "nbformat_minor": 5
}
