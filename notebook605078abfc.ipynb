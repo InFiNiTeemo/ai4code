{
 "cells": [
  {
   "cell_type": "code",
   "execution_count": 1,
   "id": "8ba85903",
   "metadata": {
    "_kg_hide-output": true,
    "execution": {
     "iopub.execute_input": "2023-05-08T17:38:15.011956Z",
     "iopub.status.busy": "2023-05-08T17:38:15.011553Z",
     "iopub.status.idle": "2023-05-08T17:38:47.161881Z",
     "shell.execute_reply": "2023-05-08T17:38:47.160742Z"
    },
    "papermill": {
     "duration": 32.163214,
     "end_time": "2023-05-08T17:38:47.164505",
     "exception": false,
     "start_time": "2023-05-08T17:38:15.001291",
     "status": "completed"
    },
    "tags": []
   },
   "outputs": [
    {
     "name": "stdout",
     "output_type": "stream",
     "text": [
      "Processing /kaggle/input/nnaudio031/nnAudio-0.3.1-py3-none-any.whl\r\n",
      "Requirement already satisfied: scipy in /opt/conda/lib/python3.10/site-packages (from nnAudio==0.3.1) (1.9.3)\r\n",
      "Requirement already satisfied: numpy<1.26.0,>=1.18.5 in /opt/conda/lib/python3.10/site-packages (from scipy->nnAudio==0.3.1) (1.23.5)\r\n",
      "Installing collected packages: nnAudio\r\n",
      "Successfully installed nnAudio-0.3.1\r\n",
      "\u001b[33mWARNING: Running pip as the 'root' user can result in broken permissions and conflicting behaviour with the system package manager. It is recommended to use a virtual environment instead: https://pip.pypa.io/warnings/venv\u001b[0m\u001b[33m\r\n",
      "\u001b[0m"
     ]
    }
   ],
   "source": [
    "## setup\n",
    "## TODO: move all under bird2022wheels\n",
    "\n",
    "#!pip install ../input/birds-inference-pip-wheels/torchaudio-0.8.1-cp37-cp37m-manylinux1_x86_64.whl ../input/birds-inference-pip-wheels/torch-1.8.1-cp37-cp37m-manylinux1_x86_64.whl\n",
    "#!pip install ../input/birds-inference-pip-wheels/audiomentations-0.16.0-py3-none-any.whl --no-index --no-deps\n",
    "#!pip install ../input/birds-inference-pip-wheels/torchlibrosa-0.0.9-py3-none-any.whl --no-index --no-deps\n",
    "!pip install ../input/nnaudio031/nnAudio-0.3.1-py3-none-any.whl\n",
    "#!cp -r ../input/timmlatest ../working/timmlatest\n",
    "#!pip install -U ../working/timmlatest\n",
    "#!rm -rf ../working/timmlatest\n",
    "\n",
    "# !pip install nnAudio"
   ]
  },
  {
   "cell_type": "code",
   "execution_count": 2,
   "id": "d1330a5c",
   "metadata": {
    "execution": {
     "iopub.execute_input": "2023-05-08T17:38:47.177402Z",
     "iopub.status.busy": "2023-05-08T17:38:47.176980Z",
     "iopub.status.idle": "2023-05-08T17:38:47.182060Z",
     "shell.execute_reply": "2023-05-08T17:38:47.181040Z"
    },
    "papermill": {
     "duration": 0.013973,
     "end_time": "2023-05-08T17:38:47.184120",
     "exception": false,
     "start_time": "2023-05-08T17:38:47.170147",
     "status": "completed"
    },
    "tags": []
   },
   "outputs": [],
   "source": [
    "# !ls /kaggle/input/blef0503/\n",
    "# !ls /kaggle/input/ef-v0/\n",
    "# !ls /kaggle/input/birds-inference-pip-wheels/*\n",
    "# !pip freeze|grep torch"
   ]
  },
  {
   "cell_type": "code",
   "execution_count": 3,
   "id": "ed4595ab",
   "metadata": {
    "execution": {
     "iopub.execute_input": "2023-05-08T17:38:47.196802Z",
     "iopub.status.busy": "2023-05-08T17:38:47.196178Z",
     "iopub.status.idle": "2023-05-08T17:38:47.201696Z",
     "shell.execute_reply": "2023-05-08T17:38:47.200742Z"
    },
    "papermill": {
     "duration": 0.014209,
     "end_time": "2023-05-08T17:38:47.203702",
     "exception": false,
     "start_time": "2023-05-08T17:38:47.189493",
     "status": "completed"
    },
    "tags": []
   },
   "outputs": [],
   "source": [
    "## https://github.com/Selimonder/birdclef2022/\n",
    "import os, sys, glob, math\n",
    "\n",
    "os.environ[\"MKL_NUM_THREADS\"] = \"1\"\n",
    "os.environ[\"OMP_NUM_THREADS\"] = \"1\"\n",
    "\n",
    "github_folder = \"/kaggle/input/blef0508v3\"\n",
    "sys.path.append(github_folder)"
   ]
  },
  {
   "cell_type": "code",
   "execution_count": 4,
   "id": "2b90659b",
   "metadata": {
    "execution": {
     "iopub.execute_input": "2023-05-08T17:38:47.215882Z",
     "iopub.status.busy": "2023-05-08T17:38:47.215468Z",
     "iopub.status.idle": "2023-05-08T17:38:54.340748Z",
     "shell.execute_reply": "2023-05-08T17:38:54.339531Z"
    },
    "papermill": {
     "duration": 7.134498,
     "end_time": "2023-05-08T17:38:54.343414",
     "exception": false,
     "start_time": "2023-05-08T17:38:47.208916",
     "status": "completed"
    },
    "tags": []
   },
   "outputs": [
    {
     "name": "stderr",
     "output_type": "stream",
     "text": [
      "/opt/conda/lib/python3.10/site-packages/scipy/__init__.py:146: UserWarning: A NumPy version >=1.16.5 and <1.23.0 is required for this version of SciPy (detected version 1.23.5\n",
      "  warnings.warn(f\"A NumPy version >={np_minversion} and <{np_maxversion}\"\n",
      "/opt/conda/lib/python3.10/site-packages/nnAudio/Spectrogram.py:4: Warning: importing Spectrogram subpackage will be deprecated soon. You should import the feature extractor from the feature subpackage. See actual documentation.\n",
      "  warnings.warn(\n"
     ]
    }
   ],
   "source": [
    "import cv2\n",
    "import gc\n",
    "import torch\n",
    "import librosa\n",
    "import argparse, warnings\n",
    "\n",
    "import numpy as np\n",
    "import pandas as pd\n",
    "import IPython.display as ipd\n",
    "\n",
    "import zoo\n",
    "from training.config import load_config\n",
    "from training.datasets import BirdDatasetOOF\n",
    "\n",
    "\n",
    "cv2.ocl.setUseOpenCL(False)\n",
    "cv2.setNumThreads(0)\n",
    "\n",
    "from tqdm import tqdm\n",
    "from torch.utils.data import DataLoader\n",
    "\n",
    "warnings.simplefilter(\"ignore\")"
   ]
  },
  {
   "cell_type": "markdown",
   "id": "19c574c4",
   "metadata": {
    "papermill": {
     "duration": 0.005191,
     "end_time": "2023-05-08T17:38:54.354331",
     "exception": false,
     "start_time": "2023-05-08T17:38:54.349140",
     "status": "completed"
    },
    "tags": []
   },
   "source": [
    "## models"
   ]
  },
  {
   "cell_type": "code",
   "execution_count": 5,
   "id": "5ae5606f",
   "metadata": {
    "execution": {
     "iopub.execute_input": "2023-05-08T17:38:54.367651Z",
     "iopub.status.busy": "2023-05-08T17:38:54.366713Z",
     "iopub.status.idle": "2023-05-08T17:38:54.798427Z",
     "shell.execute_reply": "2023-05-08T17:38:54.796129Z"
    },
    "papermill": {
     "duration": 0.441174,
     "end_time": "2023-05-08T17:38:54.800994",
     "exception": false,
     "start_time": "2023-05-08T17:38:54.359820",
     "status": "completed"
    },
    "tags": []
   },
   "outputs": [
    {
     "name": "stdout",
     "output_type": "stream",
     "text": [
      "False <class 'bool'>\n",
      "/kaggle/input/ef-v0-pretrain/ef_v0TimmClassifier_v3_tf_efficientnet_b0_0_lb\n",
      "initing CLS features model 15 duration...\n",
      "{'in_chans': 1, 'drop_path_rate': 0.2, 'drop_rate': 0.5}\n",
      "=> loading checkpoint '/kaggle/input/ef-v0-pretrain/ef_v0TimmClassifier_v3_tf_efficientnet_b0_0_lb''\n",
      "epoch 19\n"
     ]
    }
   ],
   "source": [
    "def load_model(conf_path: str, weights_path: str, prefix: str, suffix: str, fold: int, to_device: bool = True):\n",
    "    conf = load_config(conf_path)\n",
    "    conf['encoder_params']['pretrained'] = False\n",
    "    print(conf['encoder_params']['pretrained'], type(conf['encoder_params']['pretrained']))\n",
    "    \n",
    "    snapshot_name = \"{}{}_{}_{}_{}\".format(prefix, conf[\"network\"], conf[\"encoder_params\"][\"encoder\"], fold, suffix)\n",
    "    weights_path = os.path.join(weights_path, snapshot_name)\n",
    "    print(weights_path)\n",
    "    \n",
    "    model = zoo.__dict__[conf[\"network\"]](**conf[\"encoder_params\"])\n",
    "    model = torch.nn.DataParallel(model)\n",
    "    print(\"=> loading checkpoint '{}''\".format(weights_path))\n",
    "    checkpoint = torch.load(weights_path, map_location=\"cpu\")\n",
    "    print(\"epoch\", checkpoint[\"epoch\"])\n",
    "    model.load_state_dict(checkpoint[\"state_dict\"])\n",
    "    model.eval()\n",
    "    if to_device: model.cuda()\n",
    "    return model\n",
    "\n",
    "models = []\n",
    "\n",
    "## best only for now\n",
    "suffixes = [\"lb\"]#, \"f1_score\" \"last\"]\n",
    "folds    = 5\n",
    "\n",
    "for i in [0]:\n",
    "    for sx in suffixes:\n",
    "        try:\n",
    "            model = load_model(conf_path    = f\"{github_folder}/configs/cls_ef_v0.json\",\n",
    "                               weights_path = f\"/kaggle/input/ef-v0-pretrain\",\n",
    "                               prefix       = \"ef_v0\",\n",
    "                               suffix       = sx,\n",
    "                               fold         = i,\n",
    "                               to_device    = False,)\n",
    "            models.append(model)\n",
    "        except Exception as e:\n",
    "            print(f\"model not found\", e)"
   ]
  },
  {
   "cell_type": "code",
   "execution_count": 6,
   "id": "25cb910d",
   "metadata": {
    "execution": {
     "iopub.execute_input": "2023-05-08T17:38:54.814408Z",
     "iopub.status.busy": "2023-05-08T17:38:54.813948Z",
     "iopub.status.idle": "2023-05-08T17:38:54.821620Z",
     "shell.execute_reply": "2023-05-08T17:38:54.820474Z"
    },
    "papermill": {
     "duration": 0.01688,
     "end_time": "2023-05-08T17:38:54.823723",
     "exception": false,
     "start_time": "2023-05-08T17:38:54.806843",
     "status": "completed"
    },
    "tags": []
   },
   "outputs": [
    {
     "data": {
      "text/plain": [
       "1"
      ]
     },
     "execution_count": 6,
     "metadata": {},
     "output_type": "execute_result"
    }
   ],
   "source": [
    "len(models)\n",
    "#models = [models[0]]"
   ]
  },
  {
   "cell_type": "code",
   "execution_count": 7,
   "id": "3d4c49a6",
   "metadata": {
    "execution": {
     "iopub.execute_input": "2023-05-08T17:38:54.837556Z",
     "iopub.status.busy": "2023-05-08T17:38:54.837107Z",
     "iopub.status.idle": "2023-05-08T17:38:54.846370Z",
     "shell.execute_reply": "2023-05-08T17:38:54.845298Z"
    },
    "papermill": {
     "duration": 0.018808,
     "end_time": "2023-05-08T17:38:54.848633",
     "exception": false,
     "start_time": "2023-05-08T17:38:54.829825",
     "status": "completed"
    },
    "tags": []
   },
   "outputs": [
    {
     "data": {
      "text/plain": [
       "3593"
      ]
     },
     "execution_count": 7,
     "metadata": {},
     "output_type": "execute_result"
    }
   ],
   "source": [
    "import torch\n",
    "\n",
    "def count_parameters(model):\n",
    "    return sum(p.numel() for p in model.parameters() if p.requires_grad)\n",
    "\n",
    "count_parameters(models[0])//1024"
   ]
  },
  {
   "cell_type": "markdown",
   "id": "aeb86fa7",
   "metadata": {
    "papermill": {
     "duration": 0.006137,
     "end_time": "2023-05-08T17:38:54.860624",
     "exception": false,
     "start_time": "2023-05-08T17:38:54.854487",
     "status": "completed"
    },
    "tags": []
   },
   "source": [
    "## infer"
   ]
  },
  {
   "cell_type": "code",
   "execution_count": 8,
   "id": "c0fe3bb6",
   "metadata": {
    "execution": {
     "iopub.execute_input": "2023-05-08T17:38:54.874009Z",
     "iopub.status.busy": "2023-05-08T17:38:54.873637Z",
     "iopub.status.idle": "2023-05-08T17:38:54.879654Z",
     "shell.execute_reply": "2023-05-08T17:38:54.878644Z"
    },
    "papermill": {
     "duration": 0.015235,
     "end_time": "2023-05-08T17:38:54.881681",
     "exception": false,
     "start_time": "2023-05-08T17:38:54.866446",
     "status": "completed"
    },
    "tags": []
   },
   "outputs": [],
   "source": [
    "CLASSES = \"abethr1 abhori1 abythr1 afbfly1 afdfly1 afecuc1 affeag1 afgfly1 afghor1 afmdov1 afpfly1 afpkin1 afpwag1 afrgos1 afrgrp1 afrjac1 afrthr1 amesun2 augbuz1 bagwea1 barswa bawhor2 bawman1 bcbeat1 beasun2 bkctch1 bkfruw1 blacra1 blacuc1 blakit1 blaplo1 blbpuf2 blcapa2 blfbus1 blhgon1 blhher1 blksaw1 blnmou1 blnwea1 bltapa1 bltbar1 bltori1 blwlap1 brcale1 brcsta1 brctch1 brcwea1 brican1 brobab1 broman1 brosun1 brrwhe3 brtcha1 brubru1 brwwar1 bswdov1 btweye2 bubwar2 butapa1 cabgre1 carcha1 carwoo1 categr ccbeat1 chespa1 chewea1 chibat1 chtapa3 chucis1 cibwar1 cohmar1 colsun2 combul2 combuz1 comsan crefra2 crheag1 crohor1 darbar1 darter3 didcuc1 dotbar1 dutdov1 easmog1 eaywag1 edcsun3 egygoo equaka1 eswdov1 eubeat1 fatrav1 fatwid1 fislov1 fotdro5 gabgos2 gargan gbesta1 gnbcam2 gnhsun1 gobbun1 gobsta5 gobwea1 golher1 grbcam1 grccra1 grecor greegr grewoo2 grwpyt1 gryapa1 grywrw1 gybfis1 gycwar3 gyhbus1 gyhkin1 gyhneg1 gyhspa1 gytbar1 hadibi1 hamerk1 hartur1 helgui hipbab1 hoopoe huncis1 hunsun2 joygre1 kerspa2 klacuc1 kvbsun1 laudov1 lawgol lesmaw1 lessts1 libeat1 litegr litswi1 litwea1 loceag1 lotcor1 lotlap1 luebus1 mabeat1 macshr1 malkin1 marsto1 marsun2 mcptit1 meypar1 moccha1 mouwag1 ndcsun2 nobfly1 norbro1 norcro1 norfis1 norpuf1 nubwoo1 pabspa1 palfly2 palpri1 piecro1 piekin1 pitwhy purgre2 pygbat1 quailf1 ratcis1 raybar1 rbsrob1 rebfir2 rebhor1 reboxp1 reccor reccuc1 reedov1 refbar2 refcro1 reftin1 refwar2 rehblu1 rehwea1 reisee2 rerswa1 rewsta1 rindov rocmar2 rostur1 ruegls1 rufcha2 sacibi2 sccsun2 scrcha1 scthon1 shesta1 sichor1 sincis1 slbgre1 slcbou1 sltnig1 sobfly1 somgre1 somtit4 soucit1 soufis1 spemou2 spepig1 spewea1 spfbar1 spfwea1 spmthr1 spwlap1 squher1 strher strsee1 stusta1 subbus1 supsta1 tacsun1 tafpri1 tamdov1 thrnig1 trobou1 varsun2 vibsta2 vilwea1 vimwea1 walsta1 wbgbir1 wbrcha2 wbswea1 wfbeat1 whbcan1 whbcou1 whbcro2 whbtit5 whbwea1 whbwhe3 whcpri2 whctur2 wheslf1 whhsaw1 whihel1 whrshr1 witswa1 wlwwar wookin1 woosan wtbeat1 yebapa1 yebbar1 yebduc1 yebere1 yebgre1 yebsto1 yeccan1 yefcan yelbis1 yenspu1 yertin1 yesbar1 yespet1 yetgre1 yewgre1\".split()\n",
    "N_CLASS = len(CLASSES)"
   ]
  },
  {
   "cell_type": "code",
   "execution_count": 9,
   "id": "1d571370",
   "metadata": {
    "execution": {
     "iopub.execute_input": "2023-05-08T17:38:54.895261Z",
     "iopub.status.busy": "2023-05-08T17:38:54.894874Z",
     "iopub.status.idle": "2023-05-08T17:38:54.908306Z",
     "shell.execute_reply": "2023-05-08T17:38:54.907295Z"
    },
    "papermill": {
     "duration": 0.023024,
     "end_time": "2023-05-08T17:38:54.910651",
     "exception": false,
     "start_time": "2023-05-08T17:38:54.887627",
     "status": "completed"
    },
    "tags": []
   },
   "outputs": [],
   "source": [
    "from torch.utils.data import Dataset, DataLoader\n",
    "\n",
    "class BirdDataset(Dataset):\n",
    "    def __init__(self, frame_length, sample_rate):\n",
    "        self.frame_length = frame_length\n",
    "        self.sample_rate = sample_rate\n",
    "        self.data   = sorted(glob.glob(\"/kaggle/input/birdclef-2023/test_soundscapes/*.ogg\")) \n",
    "        \n",
    "    def __len__(self):\n",
    "        return len(self.data)\n",
    "    \n",
    "    def __getitem__(self, idx):\n",
    "        \"\"\"\n",
    "        Prepare audio clip for inference\n",
    "        \"\"\"\n",
    "        fpath = self.data[idx]\n",
    "        sample_rate = self.sample_rate\n",
    "        frame_length = self.frame_length\n",
    "        \n",
    "        infer_frame_length = frame_length\n",
    "        batch = {\"wav_tensors\": [], \"end_times\": []}\n",
    "\n",
    "        waveform, sample_rate = librosa.load(fpath, sr=sample_rate, mono=True)\n",
    "        n_parts = math.ceil(len(waveform) / int(infer_frame_length * sample_rate))\n",
    "\n",
    "        for seg_idx in range(n_parts): \n",
    "            end_time = (seg_idx + 1) * frame_length\n",
    "            seg_wav  = waveform[(end_time*sample_rate)-(sample_rate*frame_length):end_time*sample_rate]\n",
    "\n",
    "            wav_tensor = torch.from_numpy(seg_wav)\n",
    "\n",
    "            if len(wav_tensor) == frame_length * sample_rate:\n",
    "                batch[\"wav_tensors\"].append(wav_tensor.unsqueeze(0))\n",
    "            elif len(wav_tensor) < frame_length * sample_rate:\n",
    "                wav_tensor = torch.nn.functional.pad(wav_tensor, (0, (frame_length * sample_rate) - len(wav_tensor)))\n",
    "                batch[\"wav_tensors\"].append(wav_tensor.unsqueeze(0))\n",
    "            elif len(wav_tensor) > frame_length * sample_rate:\n",
    "                wav_tensor = wav_tensor[:(frame_length * sample_rate)]\n",
    "                batch[\"wav_tensors\"].append(wav_tensor.unsqueeze(0))\n",
    "\n",
    "            batch[\"end_times\"].append(end_time)\n",
    "        batch[\"wav_tensors\"] = torch.stack(batch[\"wav_tensors\"])\n",
    "        return batch, n_parts, len(waveform)\n",
    "\n",
    "@torch.no_grad()\n",
    "def predict_clip(models, batch, n_parts, frame_length):\n",
    "    preds = np.zeros([len(models), n_parts, N_CLASS])\n",
    "    for m_idx, model in enumerate(models):\n",
    "        with torch.cuda.amp.autocast():\n",
    "            preds[m_idx] = model(batch[\"wav_tensors\"], is_test=True)[\"logit\"].sigmoid().cpu().numpy()\n",
    "    return preds.mean(0) ## max by model    \n",
    "\n",
    "\n"
   ]
  },
  {
   "cell_type": "code",
   "execution_count": 10,
   "id": "1fdc6eea",
   "metadata": {
    "execution": {
     "iopub.execute_input": "2023-05-08T17:38:54.923983Z",
     "iopub.status.busy": "2023-05-08T17:38:54.923590Z",
     "iopub.status.idle": "2023-05-08T17:38:54.933388Z",
     "shell.execute_reply": "2023-05-08T17:38:54.932607Z"
    },
    "papermill": {
     "duration": 0.019014,
     "end_time": "2023-05-08T17:38:54.935489",
     "exception": false,
     "start_time": "2023-05-08T17:38:54.916475",
     "status": "completed"
    },
    "tags": []
   },
   "outputs": [
    {
     "data": {
      "text/plain": [
       "(1, 1)"
      ]
     },
     "execution_count": 10,
     "metadata": {},
     "output_type": "execute_result"
    }
   ],
   "source": [
    "frame_length = 5\n",
    "infer_frame_length = 5\n",
    "sample_rate  = 32000\n",
    "test_ds = BirdDataset(frame_length, sample_rate)\n",
    "\n",
    "# loader = DataLoader(\n",
    "#     test_ds,\n",
    "#     batch_size=16, \n",
    "#     num_workers=4,\n",
    "#     drop_last=False,\n",
    "#     shuffle=False,\n",
    "#     pin_memory=True\n",
    "# )\n",
    "\n",
    "len(models), len(test_ds)"
   ]
  },
  {
   "cell_type": "code",
   "execution_count": 11,
   "id": "36abf873",
   "metadata": {
    "execution": {
     "iopub.execute_input": "2023-05-08T17:38:54.949956Z",
     "iopub.status.busy": "2023-05-08T17:38:54.949575Z",
     "iopub.status.idle": "2023-05-08T17:39:26.834893Z",
     "shell.execute_reply": "2023-05-08T17:39:26.833645Z"
    },
    "papermill": {
     "duration": 31.895795,
     "end_time": "2023-05-08T17:39:26.837745",
     "exception": false,
     "start_time": "2023-05-08T17:38:54.941950",
     "status": "completed"
    },
    "tags": []
   },
   "outputs": [
    {
     "name": "stderr",
     "output_type": "stream",
     "text": [
      "100%|██████████| 1/1 [00:31<00:00, 31.86s/it]"
     ]
    },
    {
     "name": "stdout",
     "output_type": "stream",
     "text": [
      "CPU times: user 19.5 s, sys: 11.2 s, total: 30.6 s\n",
      "Wall time: 31.9 s\n"
     ]
    },
    {
     "name": "stderr",
     "output_type": "stream",
     "text": [
      "\n"
     ]
    }
   ],
   "source": [
    "%%time\n",
    "\n",
    "\n",
    "@torch.no_grad()\n",
    "def generate_preds():\n",
    "    debug = False\n",
    "    preds        = []\n",
    "    # test_files   = sorted(glob.glob(\"/kaggle/input/birdclef-2023/test_soundscapes/*.ogg\")) \n",
    "    scored_birds = np.array(CLASSES)\n",
    "    # print(\"test file num:\", len(test_files))\n",
    "    \n",
    "    for batch, n_parts, len_waveform in tqdm(test_ds):\n",
    "        # file_id = os.path.basename(fpath).replace(\".ogg\", \"\")\n",
    "        # batch, n_parts, len_waveform = prepare_clip(fpath, frame_length, sample_rate)\n",
    "        clip_preds = predict_clip(models, batch, n_parts, frame_length)\n",
    "        preds.append(clip_preds)\n",
    "        \n",
    "        ## switch to infer frame length\n",
    "        n_parts_sub = math.ceil(len_waveform / int(infer_frame_length * sample_rate))\n",
    "        clip_preds = np.array_split(clip_preds, n_parts_sub, axis=0)\n",
    "        \n",
    "                \n",
    "    prob_array = np.array(preds)\n",
    "    \n",
    "    scored_bird_name2idx = {}\n",
    "    for i, x in enumerate(scored_birds):\n",
    "        scored_bird_name2idx[x] = i\n",
    "\n",
    "    return prob_array, scored_bird_name2idx\n",
    "\n",
    "prob_array, scored_bird_name2idx = generate_preds()\n",
    "# del models\n",
    "# gc.collect()\n",
    "# torch.cuda.empty_cache()"
   ]
  },
  {
   "cell_type": "code",
   "execution_count": 12,
   "id": "51cc8820",
   "metadata": {
    "execution": {
     "iopub.execute_input": "2023-05-08T17:39:26.852305Z",
     "iopub.status.busy": "2023-05-08T17:39:26.851595Z",
     "iopub.status.idle": "2023-05-08T17:39:26.858754Z",
     "shell.execute_reply": "2023-05-08T17:39:26.857731Z"
    },
    "papermill": {
     "duration": 0.016926,
     "end_time": "2023-05-08T17:39:26.860857",
     "exception": false,
     "start_time": "2023-05-08T17:39:26.843931",
     "status": "completed"
    },
    "tags": []
   },
   "outputs": [
    {
     "data": {
      "text/plain": [
       "(1, 120, 264)"
      ]
     },
     "execution_count": 12,
     "metadata": {},
     "output_type": "execute_result"
    }
   ],
   "source": [
    "prob_array.shape"
   ]
  },
  {
   "cell_type": "markdown",
   "id": "296aac41",
   "metadata": {
    "papermill": {
     "duration": 0.006217,
     "end_time": "2023-05-08T17:39:26.873557",
     "exception": false,
     "start_time": "2023-05-08T17:39:26.867340",
     "status": "completed"
    },
    "tags": []
   },
   "source": [
    "----"
   ]
  },
  {
   "cell_type": "code",
   "execution_count": 13,
   "id": "360636ad",
   "metadata": {
    "execution": {
     "iopub.execute_input": "2023-05-08T17:39:26.888160Z",
     "iopub.status.busy": "2023-05-08T17:39:26.887758Z",
     "iopub.status.idle": "2023-05-08T17:39:26.895403Z",
     "shell.execute_reply": "2023-05-08T17:39:26.894366Z"
    },
    "papermill": {
     "duration": 0.017923,
     "end_time": "2023-05-08T17:39:26.897946",
     "exception": false,
     "start_time": "2023-05-08T17:39:26.880023",
     "status": "completed"
    },
    "tags": []
   },
   "outputs": [],
   "source": [
    "def generate_file_ids():\n",
    "    test_files   = sorted(glob.glob(\"/kaggle/input/birdclef-2023/test_soundscapes/*.ogg\"))\n",
    "    \n",
    "    file_ids = []\n",
    "    \n",
    "    for fpath in test_files:\n",
    "        file_id = os.path.basename(fpath).replace(\".ogg\", \"\")\n",
    "        file_ids.append(file_id)\n",
    "        \n",
    "    return file_ids\n",
    "\n",
    "file_ids = generate_file_ids()"
   ]
  },
  {
   "cell_type": "code",
   "execution_count": 14,
   "id": "e451c97b",
   "metadata": {
    "execution": {
     "iopub.execute_input": "2023-05-08T17:39:26.913107Z",
     "iopub.status.busy": "2023-05-08T17:39:26.912697Z",
     "iopub.status.idle": "2023-05-08T17:39:26.919610Z",
     "shell.execute_reply": "2023-05-08T17:39:26.918601Z"
    },
    "papermill": {
     "duration": 0.016994,
     "end_time": "2023-05-08T17:39:26.921772",
     "exception": false,
     "start_time": "2023-05-08T17:39:26.904778",
     "status": "completed"
    },
    "tags": []
   },
   "outputs": [
    {
     "data": {
      "text/plain": [
       "(1, 120, 264)"
      ]
     },
     "execution_count": 14,
     "metadata": {},
     "output_type": "execute_result"
    }
   ],
   "source": [
    "## fix aniani\n",
    "avg_preds = prob_array\n",
    "\n",
    "avg_preds.shape"
   ]
  },
  {
   "cell_type": "code",
   "execution_count": 15,
   "id": "03ec4319",
   "metadata": {
    "execution": {
     "iopub.execute_input": "2023-05-08T17:39:26.937195Z",
     "iopub.status.busy": "2023-05-08T17:39:26.936766Z",
     "iopub.status.idle": "2023-05-08T17:39:26.953782Z",
     "shell.execute_reply": "2023-05-08T17:39:26.952632Z"
    },
    "papermill": {
     "duration": 0.027496,
     "end_time": "2023-05-08T17:39:26.956196",
     "exception": false,
     "start_time": "2023-05-08T17:39:26.928700",
     "status": "completed"
    },
    "tags": []
   },
   "outputs": [],
   "source": [
    "submission   = []\n",
    "infer_frame_length = 5\n",
    "\n",
    "for clip_preds, file_id in zip(avg_preds, file_ids):\n",
    "    for frame_idx, pred in enumerate(clip_preds):\n",
    "        end_time = (frame_idx + 1) * infer_frame_length\n",
    "        d = {\n",
    "            \"row_id\": f\"{file_id}_{end_time}\",\n",
    "            # \"target\": pred[bi] > threshold,\n",
    "        }\n",
    "        for bi, bird in enumerate(CLASSES):\n",
    "            d[bird] = pred[bi]\n",
    "        submission.append(d)"
   ]
  },
  {
   "cell_type": "code",
   "execution_count": 16,
   "id": "24b5bf6f",
   "metadata": {
    "execution": {
     "iopub.execute_input": "2023-05-08T17:39:26.971765Z",
     "iopub.status.busy": "2023-05-08T17:39:26.971363Z",
     "iopub.status.idle": "2023-05-08T17:39:26.977298Z",
     "shell.execute_reply": "2023-05-08T17:39:26.976583Z"
    },
    "papermill": {
     "duration": 0.016598,
     "end_time": "2023-05-08T17:39:26.979641",
     "exception": false,
     "start_time": "2023-05-08T17:39:26.963043",
     "status": "completed"
    },
    "tags": []
   },
   "outputs": [
    {
     "name": "stdout",
     "output_type": "stream",
     "text": [
      "/kaggle/working\n"
     ]
    }
   ],
   "source": [
    "%cd /kaggle/working"
   ]
  },
  {
   "cell_type": "code",
   "execution_count": 17,
   "id": "7de26523",
   "metadata": {
    "execution": {
     "iopub.execute_input": "2023-05-08T17:39:26.995414Z",
     "iopub.status.busy": "2023-05-08T17:39:26.994456Z",
     "iopub.status.idle": "2023-05-08T17:39:27.092866Z",
     "shell.execute_reply": "2023-05-08T17:39:27.091813Z"
    },
    "papermill": {
     "duration": 0.108886,
     "end_time": "2023-05-08T17:39:27.095356",
     "exception": false,
     "start_time": "2023-05-08T17:39:26.986470",
     "status": "completed"
    },
    "tags": []
   },
   "outputs": [],
   "source": [
    "df_submission = pd.DataFrame(submission).set_index(\"row_id\")\n",
    "df_submission.to_csv(\"submission.csv\")"
   ]
  },
  {
   "cell_type": "code",
   "execution_count": 18,
   "id": "e66f722c",
   "metadata": {
    "execution": {
     "iopub.execute_input": "2023-05-08T17:39:27.111615Z",
     "iopub.status.busy": "2023-05-08T17:39:27.110899Z",
     "iopub.status.idle": "2023-05-08T17:39:27.146845Z",
     "shell.execute_reply": "2023-05-08T17:39:27.145882Z"
    },
    "papermill": {
     "duration": 0.046397,
     "end_time": "2023-05-08T17:39:27.148819",
     "exception": false,
     "start_time": "2023-05-08T17:39:27.102422",
     "status": "completed"
    },
    "tags": []
   },
   "outputs": [
    {
     "name": "stdout",
     "output_type": "stream",
     "text": [
      "\n",
      "total rows : 120\n",
      "\n"
     ]
    },
    {
     "data": {
      "text/html": [
       "<div>\n",
       "<style scoped>\n",
       "    .dataframe tbody tr th:only-of-type {\n",
       "        vertical-align: middle;\n",
       "    }\n",
       "\n",
       "    .dataframe tbody tr th {\n",
       "        vertical-align: top;\n",
       "    }\n",
       "\n",
       "    .dataframe thead th {\n",
       "        text-align: right;\n",
       "    }\n",
       "</style>\n",
       "<table border=\"1\" class=\"dataframe\">\n",
       "  <thead>\n",
       "    <tr style=\"text-align: right;\">\n",
       "      <th></th>\n",
       "      <th>abethr1</th>\n",
       "      <th>abhori1</th>\n",
       "      <th>abythr1</th>\n",
       "      <th>afbfly1</th>\n",
       "      <th>afdfly1</th>\n",
       "      <th>afecuc1</th>\n",
       "      <th>affeag1</th>\n",
       "      <th>afgfly1</th>\n",
       "      <th>afghor1</th>\n",
       "      <th>afmdov1</th>\n",
       "      <th>...</th>\n",
       "      <th>yebsto1</th>\n",
       "      <th>yeccan1</th>\n",
       "      <th>yefcan</th>\n",
       "      <th>yelbis1</th>\n",
       "      <th>yenspu1</th>\n",
       "      <th>yertin1</th>\n",
       "      <th>yesbar1</th>\n",
       "      <th>yespet1</th>\n",
       "      <th>yetgre1</th>\n",
       "      <th>yewgre1</th>\n",
       "    </tr>\n",
       "    <tr>\n",
       "      <th>row_id</th>\n",
       "      <th></th>\n",
       "      <th></th>\n",
       "      <th></th>\n",
       "      <th></th>\n",
       "      <th></th>\n",
       "      <th></th>\n",
       "      <th></th>\n",
       "      <th></th>\n",
       "      <th></th>\n",
       "      <th></th>\n",
       "      <th></th>\n",
       "      <th></th>\n",
       "      <th></th>\n",
       "      <th></th>\n",
       "      <th></th>\n",
       "      <th></th>\n",
       "      <th></th>\n",
       "      <th></th>\n",
       "      <th></th>\n",
       "      <th></th>\n",
       "      <th></th>\n",
       "    </tr>\n",
       "  </thead>\n",
       "  <tbody>\n",
       "    <tr>\n",
       "      <th>soundscape_29201_5</th>\n",
       "      <td>0.012039</td>\n",
       "      <td>0.023610</td>\n",
       "      <td>0.040450</td>\n",
       "      <td>0.001910</td>\n",
       "      <td>0.007114</td>\n",
       "      <td>0.008289</td>\n",
       "      <td>0.008643</td>\n",
       "      <td>0.001818</td>\n",
       "      <td>0.010638</td>\n",
       "      <td>0.022225</td>\n",
       "      <td>...</td>\n",
       "      <td>0.000781</td>\n",
       "      <td>0.000816</td>\n",
       "      <td>0.006207</td>\n",
       "      <td>0.002168</td>\n",
       "      <td>0.016216</td>\n",
       "      <td>0.007601</td>\n",
       "      <td>0.004386</td>\n",
       "      <td>0.002177</td>\n",
       "      <td>0.006396</td>\n",
       "      <td>0.005333</td>\n",
       "    </tr>\n",
       "    <tr>\n",
       "      <th>soundscape_29201_10</th>\n",
       "      <td>0.036085</td>\n",
       "      <td>0.154867</td>\n",
       "      <td>0.016139</td>\n",
       "      <td>0.014758</td>\n",
       "      <td>0.008715</td>\n",
       "      <td>0.010163</td>\n",
       "      <td>0.035383</td>\n",
       "      <td>0.002671</td>\n",
       "      <td>0.009526</td>\n",
       "      <td>0.066254</td>\n",
       "      <td>...</td>\n",
       "      <td>0.001218</td>\n",
       "      <td>0.004391</td>\n",
       "      <td>0.022722</td>\n",
       "      <td>0.030288</td>\n",
       "      <td>0.010297</td>\n",
       "      <td>0.015590</td>\n",
       "      <td>0.007266</td>\n",
       "      <td>0.004634</td>\n",
       "      <td>0.003712</td>\n",
       "      <td>0.009591</td>\n",
       "    </tr>\n",
       "    <tr>\n",
       "      <th>soundscape_29201_15</th>\n",
       "      <td>0.093376</td>\n",
       "      <td>0.097572</td>\n",
       "      <td>0.060324</td>\n",
       "      <td>0.020133</td>\n",
       "      <td>0.009716</td>\n",
       "      <td>0.023378</td>\n",
       "      <td>0.090933</td>\n",
       "      <td>0.032717</td>\n",
       "      <td>0.012446</td>\n",
       "      <td>0.048878</td>\n",
       "      <td>...</td>\n",
       "      <td>0.005044</td>\n",
       "      <td>0.007839</td>\n",
       "      <td>0.023232</td>\n",
       "      <td>0.035310</td>\n",
       "      <td>0.028905</td>\n",
       "      <td>0.027866</td>\n",
       "      <td>0.024328</td>\n",
       "      <td>0.022154</td>\n",
       "      <td>0.034690</td>\n",
       "      <td>0.046711</td>\n",
       "    </tr>\n",
       "    <tr>\n",
       "      <th>soundscape_29201_20</th>\n",
       "      <td>0.002254</td>\n",
       "      <td>0.006189</td>\n",
       "      <td>0.007883</td>\n",
       "      <td>0.004370</td>\n",
       "      <td>0.010233</td>\n",
       "      <td>0.004951</td>\n",
       "      <td>0.005774</td>\n",
       "      <td>0.002555</td>\n",
       "      <td>0.008487</td>\n",
       "      <td>0.001456</td>\n",
       "      <td>...</td>\n",
       "      <td>0.000490</td>\n",
       "      <td>0.009187</td>\n",
       "      <td>0.006193</td>\n",
       "      <td>0.007686</td>\n",
       "      <td>0.004523</td>\n",
       "      <td>0.002345</td>\n",
       "      <td>0.006601</td>\n",
       "      <td>0.005127</td>\n",
       "      <td>0.004941</td>\n",
       "      <td>0.006406</td>\n",
       "    </tr>\n",
       "    <tr>\n",
       "      <th>soundscape_29201_25</th>\n",
       "      <td>0.004221</td>\n",
       "      <td>0.019556</td>\n",
       "      <td>0.023274</td>\n",
       "      <td>0.003951</td>\n",
       "      <td>0.025711</td>\n",
       "      <td>0.009332</td>\n",
       "      <td>0.006246</td>\n",
       "      <td>0.005239</td>\n",
       "      <td>0.008964</td>\n",
       "      <td>0.003156</td>\n",
       "      <td>...</td>\n",
       "      <td>0.002337</td>\n",
       "      <td>0.004589</td>\n",
       "      <td>0.011228</td>\n",
       "      <td>0.026581</td>\n",
       "      <td>0.005637</td>\n",
       "      <td>0.010578</td>\n",
       "      <td>0.008148</td>\n",
       "      <td>0.011642</td>\n",
       "      <td>0.005768</td>\n",
       "      <td>0.006329</td>\n",
       "    </tr>\n",
       "  </tbody>\n",
       "</table>\n",
       "<p>5 rows × 264 columns</p>\n",
       "</div>"
      ],
      "text/plain": [
       "                      abethr1   abhori1   abythr1   afbfly1   afdfly1  \\\n",
       "row_id                                                                  \n",
       "soundscape_29201_5   0.012039  0.023610  0.040450  0.001910  0.007114   \n",
       "soundscape_29201_10  0.036085  0.154867  0.016139  0.014758  0.008715   \n",
       "soundscape_29201_15  0.093376  0.097572  0.060324  0.020133  0.009716   \n",
       "soundscape_29201_20  0.002254  0.006189  0.007883  0.004370  0.010233   \n",
       "soundscape_29201_25  0.004221  0.019556  0.023274  0.003951  0.025711   \n",
       "\n",
       "                      afecuc1   affeag1   afgfly1   afghor1   afmdov1  ...  \\\n",
       "row_id                                                                 ...   \n",
       "soundscape_29201_5   0.008289  0.008643  0.001818  0.010638  0.022225  ...   \n",
       "soundscape_29201_10  0.010163  0.035383  0.002671  0.009526  0.066254  ...   \n",
       "soundscape_29201_15  0.023378  0.090933  0.032717  0.012446  0.048878  ...   \n",
       "soundscape_29201_20  0.004951  0.005774  0.002555  0.008487  0.001456  ...   \n",
       "soundscape_29201_25  0.009332  0.006246  0.005239  0.008964  0.003156  ...   \n",
       "\n",
       "                      yebsto1   yeccan1    yefcan   yelbis1   yenspu1  \\\n",
       "row_id                                                                  \n",
       "soundscape_29201_5   0.000781  0.000816  0.006207  0.002168  0.016216   \n",
       "soundscape_29201_10  0.001218  0.004391  0.022722  0.030288  0.010297   \n",
       "soundscape_29201_15  0.005044  0.007839  0.023232  0.035310  0.028905   \n",
       "soundscape_29201_20  0.000490  0.009187  0.006193  0.007686  0.004523   \n",
       "soundscape_29201_25  0.002337  0.004589  0.011228  0.026581  0.005637   \n",
       "\n",
       "                      yertin1   yesbar1   yespet1   yetgre1   yewgre1  \n",
       "row_id                                                                 \n",
       "soundscape_29201_5   0.007601  0.004386  0.002177  0.006396  0.005333  \n",
       "soundscape_29201_10  0.015590  0.007266  0.004634  0.003712  0.009591  \n",
       "soundscape_29201_15  0.027866  0.024328  0.022154  0.034690  0.046711  \n",
       "soundscape_29201_20  0.002345  0.006601  0.005127  0.004941  0.006406  \n",
       "soundscape_29201_25  0.010578  0.008148  0.011642  0.005768  0.006329  \n",
       "\n",
       "[5 rows x 264 columns]"
      ]
     },
     "execution_count": 18,
     "metadata": {},
     "output_type": "execute_result"
    }
   ],
   "source": [
    "print(f\"\"\"\n",
    "total rows : {len(df_submission)}\n",
    "\"\"\")\n",
    "\n",
    "df_submission.head()"
   ]
  },
  {
   "cell_type": "code",
   "execution_count": null,
   "id": "a3ef8a2d",
   "metadata": {
    "papermill": {
     "duration": 0.006998,
     "end_time": "2023-05-08T17:39:27.163196",
     "exception": false,
     "start_time": "2023-05-08T17:39:27.156198",
     "status": "completed"
    },
    "tags": []
   },
   "outputs": [],
   "source": []
  },
  {
   "cell_type": "code",
   "execution_count": null,
   "id": "b584773f",
   "metadata": {
    "papermill": {
     "duration": 0.006971,
     "end_time": "2023-05-08T17:39:27.177841",
     "exception": false,
     "start_time": "2023-05-08T17:39:27.170870",
     "status": "completed"
    },
    "tags": []
   },
   "outputs": [],
   "source": []
  }
 ],
 "metadata": {
  "kernelspec": {
   "display_name": "Python 3",
   "language": "python",
   "name": "python3"
  },
  "language_info": {
   "codemirror_mode": {
    "name": "ipython",
    "version": 3
   },
   "file_extension": ".py",
   "mimetype": "text/x-python",
   "name": "python",
   "nbconvert_exporter": "python",
   "pygments_lexer": "ipython3",
   "version": "3.10.10"
  },
  "papermill": {
   "default_parameters": {},
   "duration": 86.527868,
   "end_time": "2023-05-08T17:39:29.600013",
   "environment_variables": {},
   "exception": null,
   "input_path": "__notebook__.ipynb",
   "output_path": "__notebook__.ipynb",
   "parameters": {},
   "start_time": "2023-05-08T17:38:03.072145",
   "version": "2.4.0"
  }
 },
 "nbformat": 4,
 "nbformat_minor": 5
}
