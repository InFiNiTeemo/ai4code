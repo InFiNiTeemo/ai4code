{
 "cells": [
  {
   "cell_type": "code",
   "execution_count": 1,
   "id": "e21b7231",
   "metadata": {
    "_kg_hide-output": true,
    "execution": {
     "iopub.execute_input": "2023-05-02T17:05:29.163147Z",
     "iopub.status.busy": "2023-05-02T17:05:29.162712Z",
     "iopub.status.idle": "2023-05-02T17:06:48.855390Z",
     "shell.execute_reply": "2023-05-02T17:06:48.854142Z"
    },
    "papermill": {
     "duration": 79.704389,
     "end_time": "2023-05-02T17:06:48.858027",
     "exception": false,
     "start_time": "2023-05-02T17:05:29.153638",
     "status": "completed"
    },
    "tags": []
   },
   "outputs": [
    {
     "name": "stdout",
     "output_type": "stream",
     "text": [
      "\u001b[31mERROR: torchaudio-0.8.1-cp37-cp37m-manylinux1_x86_64.whl is not a supported wheel on this platform.\u001b[0m\u001b[31m\r\n",
      "\u001b[0mProcessing /kaggle/input/birds-inference-pip-wheels/audiomentations-0.16.0-py3-none-any.whl\r\n",
      "Installing collected packages: audiomentations\r\n",
      "Successfully installed audiomentations-0.16.0\r\n",
      "\u001b[33mWARNING: Running pip as the 'root' user can result in broken permissions and conflicting behaviour with the system package manager. It is recommended to use a virtual environment instead: https://pip.pypa.io/warnings/venv\u001b[0m\u001b[33m\r\n",
      "\u001b[0mProcessing /kaggle/input/birds-inference-pip-wheels/torchlibrosa-0.0.9-py3-none-any.whl\r\n",
      "Installing collected packages: torchlibrosa\r\n",
      "Successfully installed torchlibrosa-0.0.9\r\n",
      "\u001b[33mWARNING: Running pip as the 'root' user can result in broken permissions and conflicting behaviour with the system package manager. It is recommended to use a virtual environment instead: https://pip.pypa.io/warnings/venv\u001b[0m\u001b[33m\r\n",
      "\u001b[0mProcessing /kaggle/input/nnaudio031/nnAudio-0.3.1-py3-none-any.whl\r\n",
      "Requirement already satisfied: scipy in /opt/conda/lib/python3.10/site-packages (from nnAudio==0.3.1) (1.9.3)\r\n",
      "Requirement already satisfied: numpy<1.26.0,>=1.18.5 in /opt/conda/lib/python3.10/site-packages (from scipy->nnAudio==0.3.1) (1.23.5)\r\n",
      "Installing collected packages: nnAudio\r\n",
      "Successfully installed nnAudio-0.3.1\r\n",
      "\u001b[33mWARNING: Running pip as the 'root' user can result in broken permissions and conflicting behaviour with the system package manager. It is recommended to use a virtual environment instead: https://pip.pypa.io/warnings/venv\u001b[0m\u001b[33m\r\n",
      "\u001b[0mcp: cannot stat '../input/timmlatest': No such file or directory\r\n",
      "\u001b[31mERROR: Invalid requirement: '../working/timmlatest'\r\n",
      "Hint: It looks like a path. File '../working/timmlatest' does not exist.\u001b[0m\u001b[31m\r\n",
      "\u001b[0m"
     ]
    }
   ],
   "source": [
    "## setup\n",
    "## TODO: move all under bird2022wheels\n",
    "\n",
    "!pip install ../input/birds-inference-pip-wheels/torchaudio-0.8.1-cp37-cp37m-manylinux1_x86_64.whl ../input/birds-inference-pip-wheels/torch-1.8.1-cp37-cp37m-manylinux1_x86_64.whl\n",
    "!pip install ../input/birds-inference-pip-wheels/audiomentations-0.16.0-py3-none-any.whl --no-index --no-deps\n",
    "!pip install ../input/birds-inference-pip-wheels/torchlibrosa-0.0.9-py3-none-any.whl --no-index --no-deps\n",
    "!pip install ../input/nnaudio031/nnAudio-0.3.1-py3-none-any.whl\n",
    "!cp -r ../input/timmlatest ../working/timmlatest\n",
    "!pip install -U ../working/timmlatest\n",
    "!rm -rf ../working/timmlatest\n",
    "\n",
    "# !pip install nnAudio"
   ]
  },
  {
   "cell_type": "code",
   "execution_count": 2,
   "id": "dc18810b",
   "metadata": {
    "execution": {
     "iopub.execute_input": "2023-05-02T17:06:48.872618Z",
     "iopub.status.busy": "2023-05-02T17:06:48.871750Z",
     "iopub.status.idle": "2023-05-02T17:06:48.876457Z",
     "shell.execute_reply": "2023-05-02T17:06:48.875696Z"
    },
    "papermill": {
     "duration": 0.013868,
     "end_time": "2023-05-02T17:06:48.878313",
     "exception": false,
     "start_time": "2023-05-02T17:06:48.864445",
     "status": "completed"
    },
    "tags": []
   },
   "outputs": [],
   "source": [
    "# !ls /kaggle/input/blef0503/\n",
    "# !ls /kaggle/input/nfnet-baseline-bs16/nfnet-baseline-bs16/nf0_v5_TimmClassifier_eca_nfnet_l0_0_lb\n",
    "# !ls /kaggle/input/birds-inference-pip-wheels/*\n",
    "# !pip freeze|grep torch"
   ]
  },
  {
   "cell_type": "code",
   "execution_count": 3,
   "id": "bd4c0241",
   "metadata": {
    "execution": {
     "iopub.execute_input": "2023-05-02T17:06:48.891713Z",
     "iopub.status.busy": "2023-05-02T17:06:48.891138Z",
     "iopub.status.idle": "2023-05-02T17:06:48.896272Z",
     "shell.execute_reply": "2023-05-02T17:06:48.895510Z"
    },
    "papermill": {
     "duration": 0.013771,
     "end_time": "2023-05-02T17:06:48.898040",
     "exception": false,
     "start_time": "2023-05-02T17:06:48.884269",
     "status": "completed"
    },
    "tags": []
   },
   "outputs": [],
   "source": [
    "## https://github.com/Selimonder/birdclef2022/\n",
    "import os, sys, glob, math\n",
    "\n",
    "os.environ[\"MKL_NUM_THREADS\"] = \"1\"\n",
    "os.environ[\"OMP_NUM_THREADS\"] = \"1\"\n",
    "\n",
    "github_folder = \"/kaggle/input/blef0503\"\n",
    "sys.path.append(github_folder)"
   ]
  },
  {
   "cell_type": "code",
   "execution_count": 4,
   "id": "580739c3",
   "metadata": {
    "execution": {
     "iopub.execute_input": "2023-05-02T17:06:48.910865Z",
     "iopub.status.busy": "2023-05-02T17:06:48.910395Z",
     "iopub.status.idle": "2023-05-02T17:06:54.025224Z",
     "shell.execute_reply": "2023-05-02T17:06:54.024337Z"
    },
    "papermill": {
     "duration": 5.123471,
     "end_time": "2023-05-02T17:06:54.027343",
     "exception": false,
     "start_time": "2023-05-02T17:06:48.903872",
     "status": "completed"
    },
    "tags": []
   },
   "outputs": [
    {
     "name": "stderr",
     "output_type": "stream",
     "text": [
      "/opt/conda/lib/python3.10/site-packages/scipy/__init__.py:146: UserWarning: A NumPy version >=1.16.5 and <1.23.0 is required for this version of SciPy (detected version 1.23.5\n",
      "  warnings.warn(f\"A NumPy version >={np_minversion} and <{np_maxversion}\"\n",
      "/opt/conda/lib/python3.10/site-packages/nnAudio/Spectrogram.py:4: Warning: importing Spectrogram subpackage will be deprecated soon. You should import the feature extractor from the feature subpackage. See actual documentation.\n",
      "  warnings.warn(\n"
     ]
    }
   ],
   "source": [
    "import cv2\n",
    "import gc\n",
    "import torch\n",
    "import librosa\n",
    "import argparse, warnings\n",
    "\n",
    "import numpy as np\n",
    "import pandas as pd\n",
    "import IPython.display as ipd\n",
    "\n",
    "import zoo\n",
    "from training.config import load_config\n",
    "from training.datasets import BirdDatasetOOF\n",
    "\n",
    "\n",
    "cv2.ocl.setUseOpenCL(False)\n",
    "cv2.setNumThreads(0)\n",
    "\n",
    "from tqdm import tqdm\n",
    "from torch.utils.data import DataLoader\n",
    "\n",
    "warnings.simplefilter(\"ignore\")"
   ]
  },
  {
   "cell_type": "markdown",
   "id": "dd0e37b3",
   "metadata": {
    "papermill": {
     "duration": 0.006386,
     "end_time": "2023-05-02T17:06:54.040267",
     "exception": false,
     "start_time": "2023-05-02T17:06:54.033881",
     "status": "completed"
    },
    "tags": []
   },
   "source": [
    "## models"
   ]
  },
  {
   "cell_type": "code",
   "execution_count": 5,
   "id": "dbd07a2d",
   "metadata": {
    "execution": {
     "iopub.execute_input": "2023-05-02T17:06:54.054326Z",
     "iopub.status.busy": "2023-05-02T17:06:54.053727Z",
     "iopub.status.idle": "2023-05-02T17:07:03.332330Z",
     "shell.execute_reply": "2023-05-02T17:07:03.330327Z"
    },
    "papermill": {
     "duration": 9.287921,
     "end_time": "2023-05-02T17:07:03.334406",
     "exception": false,
     "start_time": "2023-05-02T17:06:54.046485",
     "status": "completed"
    },
    "tags": []
   },
   "outputs": [
    {
     "name": "stdout",
     "output_type": "stream",
     "text": [
      "/kaggle/input/nfnet-baseline-bs16/nfnet-baseline-bs16/nf0_v5_TimmClassifier_eca_nfnet_l0_0_lb\n",
      "initing CLS features model 15 duration...\n",
      "pretrained model...\n",
      "{'in_chans': 1, 'drop_path_rate': 0.2, 'drop_rate': 0.5}\n",
      "=> loading checkpoint '/kaggle/input/nfnet-baseline-bs16/nfnet-baseline-bs16/nf0_v5_TimmClassifier_eca_nfnet_l0_0_lb''\n",
      "epoch 18\n",
      "/kaggle/input/nfnet-baseline-bs16/nfnet-baseline-bs16/nf0_v5_TimmClassifier_eca_nfnet_l0_1_lb\n",
      "initing CLS features model 15 duration...\n",
      "pretrained model...\n",
      "{'in_chans': 1, 'drop_path_rate': 0.2, 'drop_rate': 0.5}\n",
      "=> loading checkpoint '/kaggle/input/nfnet-baseline-bs16/nfnet-baseline-bs16/nf0_v5_TimmClassifier_eca_nfnet_l0_1_lb''\n",
      "epoch 14\n",
      "/kaggle/input/nfnet-baseline-bs16/nfnet-baseline-bs16/nf0_v5_TimmClassifier_eca_nfnet_l0_2_lb\n",
      "initing CLS features model 15 duration...\n",
      "pretrained model...\n",
      "{'in_chans': 1, 'drop_path_rate': 0.2, 'drop_rate': 0.5}\n",
      "=> loading checkpoint '/kaggle/input/nfnet-baseline-bs16/nfnet-baseline-bs16/nf0_v5_TimmClassifier_eca_nfnet_l0_2_lb''\n",
      "epoch 15\n",
      "/kaggle/input/nfnet-baseline-bs16/nfnet-baseline-bs16/nf0_v5_TimmClassifier_eca_nfnet_l0_3_lb\n",
      "initing CLS features model 15 duration...\n",
      "pretrained model...\n",
      "{'in_chans': 1, 'drop_path_rate': 0.2, 'drop_rate': 0.5}\n",
      "=> loading checkpoint '/kaggle/input/nfnet-baseline-bs16/nfnet-baseline-bs16/nf0_v5_TimmClassifier_eca_nfnet_l0_3_lb''\n",
      "epoch 9\n",
      "/kaggle/input/nfnet-baseline-bs16/nfnet-baseline-bs16/nf0_v5_TimmClassifier_eca_nfnet_l0_4_lb\n",
      "initing CLS features model 15 duration...\n",
      "pretrained model...\n",
      "{'in_chans': 1, 'drop_path_rate': 0.2, 'drop_rate': 0.5}\n",
      "=> loading checkpoint '/kaggle/input/nfnet-baseline-bs16/nfnet-baseline-bs16/nf0_v5_TimmClassifier_eca_nfnet_l0_4_lb''\n",
      "epoch 3\n"
     ]
    }
   ],
   "source": [
    "def load_model(conf_path: str, weights_path: str, prefix: str, suffix: str, fold: int, to_device: bool = True):\n",
    "    conf = load_config(conf_path)\n",
    "    conf['encoder_params']['pretrained'] = False\n",
    "    \n",
    "    snapshot_name = \"{}{}_{}_{}_{}\".format(prefix, conf[\"network\"], conf[\"encoder_params\"][\"encoder\"], fold, suffix)\n",
    "    weights_path = os.path.join(weights_path, snapshot_name)\n",
    "    print(weights_path)\n",
    "    model = zoo.__dict__[conf[\"network\"]](**conf[\"encoder_params\"])\n",
    "    model = torch.nn.DataParallel(model).cuda()\n",
    "    print(\"=> loading checkpoint '{}''\".format(weights_path))\n",
    "    checkpoint = torch.load(weights_path, map_location=\"cpu\")\n",
    "    print(\"epoch\", checkpoint[\"epoch\"])\n",
    "    model.load_state_dict(checkpoint[\"state_dict\"])\n",
    "    model.eval()\n",
    "    if to_device: model.cuda()\n",
    "    return model\n",
    "\n",
    "models = []\n",
    "\n",
    "## best only for now\n",
    "suffixes = [\"lb\"]#, \"f1_score\" \"last\"]\n",
    "folds    = 5\n",
    "\n",
    "for i in range(folds):\n",
    "    for sx in suffixes:\n",
    "        try:\n",
    "            model = load_model(conf_path    = f\"{github_folder}/configs/cls_nf0_v5.json\",\n",
    "                               weights_path = f\"/kaggle/input/nfnet-baseline-bs16/nfnet-baseline-bs16\",\n",
    "                               prefix       = \"nf0_v5_\",\n",
    "                               suffix       = sx,\n",
    "                               fold         = i)\n",
    "            models.append(model)\n",
    "        except Exception as e:\n",
    "            print(f\"model not found\", e)"
   ]
  },
  {
   "cell_type": "code",
   "execution_count": 6,
   "id": "142d47b7",
   "metadata": {
    "execution": {
     "iopub.execute_input": "2023-05-02T17:07:03.349806Z",
     "iopub.status.busy": "2023-05-02T17:07:03.348992Z",
     "iopub.status.idle": "2023-05-02T17:07:03.355968Z",
     "shell.execute_reply": "2023-05-02T17:07:03.355122Z"
    },
    "papermill": {
     "duration": 0.016454,
     "end_time": "2023-05-02T17:07:03.357813",
     "exception": false,
     "start_time": "2023-05-02T17:07:03.341359",
     "status": "completed"
    },
    "tags": []
   },
   "outputs": [
    {
     "data": {
      "text/plain": [
       "5"
      ]
     },
     "execution_count": 6,
     "metadata": {},
     "output_type": "execute_result"
    }
   ],
   "source": [
    "len(models)"
   ]
  },
  {
   "cell_type": "markdown",
   "id": "46cafdc1",
   "metadata": {
    "papermill": {
     "duration": 0.006808,
     "end_time": "2023-05-02T17:07:03.371559",
     "exception": false,
     "start_time": "2023-05-02T17:07:03.364751",
     "status": "completed"
    },
    "tags": []
   },
   "source": [
    "## infer"
   ]
  },
  {
   "cell_type": "code",
   "execution_count": 7,
   "id": "d2eef7f7",
   "metadata": {
    "execution": {
     "iopub.execute_input": "2023-05-02T17:07:03.387584Z",
     "iopub.status.busy": "2023-05-02T17:07:03.385912Z",
     "iopub.status.idle": "2023-05-02T17:07:03.392429Z",
     "shell.execute_reply": "2023-05-02T17:07:03.391530Z"
    },
    "papermill": {
     "duration": 0.016045,
     "end_time": "2023-05-02T17:07:03.394296",
     "exception": false,
     "start_time": "2023-05-02T17:07:03.378251",
     "status": "completed"
    },
    "tags": []
   },
   "outputs": [],
   "source": [
    "CLASSES = \"abethr1 abhori1 abythr1 afbfly1 afdfly1 afecuc1 affeag1 afgfly1 afghor1 afmdov1 afpfly1 afpkin1 afpwag1 afrgos1 afrgrp1 afrjac1 afrthr1 amesun2 augbuz1 bagwea1 barswa bawhor2 bawman1 bcbeat1 beasun2 bkctch1 bkfruw1 blacra1 blacuc1 blakit1 blaplo1 blbpuf2 blcapa2 blfbus1 blhgon1 blhher1 blksaw1 blnmou1 blnwea1 bltapa1 bltbar1 bltori1 blwlap1 brcale1 brcsta1 brctch1 brcwea1 brican1 brobab1 broman1 brosun1 brrwhe3 brtcha1 brubru1 brwwar1 bswdov1 btweye2 bubwar2 butapa1 cabgre1 carcha1 carwoo1 categr ccbeat1 chespa1 chewea1 chibat1 chtapa3 chucis1 cibwar1 cohmar1 colsun2 combul2 combuz1 comsan crefra2 crheag1 crohor1 darbar1 darter3 didcuc1 dotbar1 dutdov1 easmog1 eaywag1 edcsun3 egygoo equaka1 eswdov1 eubeat1 fatrav1 fatwid1 fislov1 fotdro5 gabgos2 gargan gbesta1 gnbcam2 gnhsun1 gobbun1 gobsta5 gobwea1 golher1 grbcam1 grccra1 grecor greegr grewoo2 grwpyt1 gryapa1 grywrw1 gybfis1 gycwar3 gyhbus1 gyhkin1 gyhneg1 gyhspa1 gytbar1 hadibi1 hamerk1 hartur1 helgui hipbab1 hoopoe huncis1 hunsun2 joygre1 kerspa2 klacuc1 kvbsun1 laudov1 lawgol lesmaw1 lessts1 libeat1 litegr litswi1 litwea1 loceag1 lotcor1 lotlap1 luebus1 mabeat1 macshr1 malkin1 marsto1 marsun2 mcptit1 meypar1 moccha1 mouwag1 ndcsun2 nobfly1 norbro1 norcro1 norfis1 norpuf1 nubwoo1 pabspa1 palfly2 palpri1 piecro1 piekin1 pitwhy purgre2 pygbat1 quailf1 ratcis1 raybar1 rbsrob1 rebfir2 rebhor1 reboxp1 reccor reccuc1 reedov1 refbar2 refcro1 reftin1 refwar2 rehblu1 rehwea1 reisee2 rerswa1 rewsta1 rindov rocmar2 rostur1 ruegls1 rufcha2 sacibi2 sccsun2 scrcha1 scthon1 shesta1 sichor1 sincis1 slbgre1 slcbou1 sltnig1 sobfly1 somgre1 somtit4 soucit1 soufis1 spemou2 spepig1 spewea1 spfbar1 spfwea1 spmthr1 spwlap1 squher1 strher strsee1 stusta1 subbus1 supsta1 tacsun1 tafpri1 tamdov1 thrnig1 trobou1 varsun2 vibsta2 vilwea1 vimwea1 walsta1 wbgbir1 wbrcha2 wbswea1 wfbeat1 whbcan1 whbcou1 whbcro2 whbtit5 whbwea1 whbwhe3 whcpri2 whctur2 wheslf1 whhsaw1 whihel1 whrshr1 witswa1 wlwwar wookin1 woosan wtbeat1 yebapa1 yebbar1 yebduc1 yebere1 yebgre1 yebsto1 yeccan1 yefcan yelbis1 yenspu1 yertin1 yesbar1 yespet1 yetgre1 yewgre1\".split()\n",
    "N_CLASS = len(CLASSES)"
   ]
  },
  {
   "cell_type": "code",
   "execution_count": 8,
   "id": "f90d9e35",
   "metadata": {
    "execution": {
     "iopub.execute_input": "2023-05-02T17:07:03.409946Z",
     "iopub.status.busy": "2023-05-02T17:07:03.408549Z",
     "iopub.status.idle": "2023-05-02T17:07:03.418580Z",
     "shell.execute_reply": "2023-05-02T17:07:03.417767Z"
    },
    "papermill": {
     "duration": 0.019481,
     "end_time": "2023-05-02T17:07:03.420376",
     "exception": false,
     "start_time": "2023-05-02T17:07:03.400895",
     "status": "completed"
    },
    "tags": []
   },
   "outputs": [],
   "source": [
    "\n",
    "def prepare_clip(fpath, frame_length, sample_rate):\n",
    "    \"\"\"\n",
    "    Prepare audio clip for inference\n",
    "    \"\"\"\n",
    "    infer_frame_length = frame_length\n",
    "    batch = {\"wav_tensors\": [], \"end_times\": []}\n",
    "    \n",
    "    waveform, sample_rate = librosa.load(fpath, sr=sample_rate, mono=True)\n",
    "    n_parts = math.ceil(len(waveform) / int(infer_frame_length * sample_rate))\n",
    "    \n",
    "    for seg_idx in range(n_parts): \n",
    "        end_time = (seg_idx + 1) * frame_length\n",
    "        seg_wav  = waveform[(end_time*sample_rate)-(sample_rate*frame_length):end_time*sample_rate]\n",
    "        \n",
    "        wav_tensor = torch.from_numpy(seg_wav)\n",
    "        \n",
    "        if len(wav_tensor) == frame_length * sample_rate:\n",
    "            batch[\"wav_tensors\"].append(wav_tensor.unsqueeze(0))\n",
    "        elif len(wav_tensor) < frame_length * sample_rate:\n",
    "            wav_tensor = torch.nn.functional.pad(wav_tensor, (0, (frame_length * sample_rate) - len(wav_tensor)))\n",
    "            batch[\"wav_tensors\"].append(wav_tensor.unsqueeze(0))\n",
    "        elif len(wav_tensor) > frame_length * sample_rate:\n",
    "            wav_tensor = wav_tensor[:(frame_length * sample_rate)]\n",
    "            batch[\"wav_tensors\"].append(wav_tensor.unsqueeze(0))\n",
    "            \n",
    "        batch[\"end_times\"].append(end_time)\n",
    "    batch[\"wav_tensors\"] = torch.stack(batch[\"wav_tensors\"]).cuda()\n",
    "    return batch, n_parts, len(waveform)\n",
    "\n",
    "@torch.no_grad()\n",
    "def predict_clip(models, batch, n_parts, frame_length):\n",
    "    preds = np.zeros([len(models), n_parts, N_CLASS])\n",
    "    for m_idx, model in enumerate(models):\n",
    "        with torch.cuda.amp.autocast():\n",
    "            preds[m_idx] = model(batch[\"wav_tensors\"], is_test=True)[\"logit\"].sigmoid().cpu().numpy()\n",
    "    return preds.mean(0) ## max by model    \n",
    "    "
   ]
  },
  {
   "cell_type": "code",
   "execution_count": 9,
   "id": "e53f5c49",
   "metadata": {
    "execution": {
     "iopub.execute_input": "2023-05-02T17:07:03.436145Z",
     "iopub.status.busy": "2023-05-02T17:07:03.434868Z",
     "iopub.status.idle": "2023-05-02T17:07:03.442105Z",
     "shell.execute_reply": "2023-05-02T17:07:03.441306Z"
    },
    "papermill": {
     "duration": 0.016907,
     "end_time": "2023-05-02T17:07:03.443942",
     "exception": false,
     "start_time": "2023-05-02T17:07:03.427035",
     "status": "completed"
    },
    "tags": []
   },
   "outputs": [
    {
     "data": {
      "text/plain": [
       "5"
      ]
     },
     "execution_count": 9,
     "metadata": {},
     "output_type": "execute_result"
    }
   ],
   "source": [
    "len(models)"
   ]
  },
  {
   "cell_type": "code",
   "execution_count": 10,
   "id": "797efad1",
   "metadata": {
    "execution": {
     "iopub.execute_input": "2023-05-02T17:07:03.459435Z",
     "iopub.status.busy": "2023-05-02T17:07:03.458071Z",
     "iopub.status.idle": "2023-05-02T17:07:17.608185Z",
     "shell.execute_reply": "2023-05-02T17:07:17.607216Z"
    },
    "papermill": {
     "duration": 14.160164,
     "end_time": "2023-05-02T17:07:17.610690",
     "exception": false,
     "start_time": "2023-05-02T17:07:03.450526",
     "status": "completed"
    },
    "tags": []
   },
   "outputs": [
    {
     "name": "stdout",
     "output_type": "stream",
     "text": [
      "test file num: 1\n",
      "CPU times: user 10.4 s, sys: 644 ms, total: 11.1 s\n",
      "Wall time: 14.1 s\n"
     ]
    }
   ],
   "source": [
    "%%time\n",
    "\n",
    "\n",
    "@torch.no_grad()\n",
    "def generate_preds():\n",
    "    debug = False\n",
    "    preds        = []\n",
    "    test_files   = sorted(glob.glob(\"/kaggle/input/birdclef-2023/test_soundscapes/*.ogg\")) \n",
    "    sample_rate  = 32000\n",
    "    \n",
    "    scored_birds = np.array(CLASSES)\n",
    "\n",
    "    frame_length = 5\n",
    "    infer_frame_length = 5\n",
    "\n",
    "    print(\"test file num:\", len(test_files))\n",
    "    for fpath in test_files:\n",
    "        file_id = os.path.basename(fpath).replace(\".ogg\", \"\")\n",
    "        batch, n_parts, len_waveform = prepare_clip(fpath, frame_length, sample_rate)\n",
    "        clip_preds = predict_clip(models, batch, n_parts, frame_length)\n",
    "        preds.append(clip_preds)\n",
    "        \n",
    "        ## switch to infer frame length\n",
    "        n_parts_sub = math.ceil(len_waveform / int(infer_frame_length * sample_rate))\n",
    "        clip_preds = np.array_split(clip_preds, n_parts_sub, axis=0)\n",
    "        \n",
    "                \n",
    "    prob_array = np.array(preds)\n",
    "    \n",
    "    scored_bird_name2idx = {}\n",
    "    for i, x in enumerate(scored_birds):\n",
    "        scored_bird_name2idx[x] = i\n",
    "\n",
    "    return prob_array, scored_bird_name2idx\n",
    "\n",
    "prob_array, scored_bird_name2idx = generate_preds()\n",
    "# del models\n",
    "# gc.collect()\n",
    "# torch.cuda.empty_cache()"
   ]
  },
  {
   "cell_type": "code",
   "execution_count": 11,
   "id": "0c6e56eb",
   "metadata": {
    "execution": {
     "iopub.execute_input": "2023-05-02T17:07:17.627757Z",
     "iopub.status.busy": "2023-05-02T17:07:17.626000Z",
     "iopub.status.idle": "2023-05-02T17:07:17.634289Z",
     "shell.execute_reply": "2023-05-02T17:07:17.633498Z"
    },
    "papermill": {
     "duration": 0.018091,
     "end_time": "2023-05-02T17:07:17.636092",
     "exception": false,
     "start_time": "2023-05-02T17:07:17.618001",
     "status": "completed"
    },
    "tags": []
   },
   "outputs": [
    {
     "data": {
      "text/plain": [
       "(1, 120, 264)"
      ]
     },
     "execution_count": 11,
     "metadata": {},
     "output_type": "execute_result"
    }
   ],
   "source": [
    "prob_array.shape"
   ]
  },
  {
   "cell_type": "markdown",
   "id": "70ace566",
   "metadata": {
    "papermill": {
     "duration": 0.006749,
     "end_time": "2023-05-02T17:07:17.649710",
     "exception": false,
     "start_time": "2023-05-02T17:07:17.642961",
     "status": "completed"
    },
    "tags": []
   },
   "source": [
    "----"
   ]
  },
  {
   "cell_type": "code",
   "execution_count": 12,
   "id": "4d712996",
   "metadata": {
    "execution": {
     "iopub.execute_input": "2023-05-02T17:07:17.664861Z",
     "iopub.status.busy": "2023-05-02T17:07:17.664113Z",
     "iopub.status.idle": "2023-05-02T17:07:17.668097Z",
     "shell.execute_reply": "2023-05-02T17:07:17.667223Z"
    },
    "papermill": {
     "duration": 0.013365,
     "end_time": "2023-05-02T17:07:17.669902",
     "exception": false,
     "start_time": "2023-05-02T17:07:17.656537",
     "status": "completed"
    },
    "tags": []
   },
   "outputs": [],
   "source": [
    "# %cd /kaggle/input/birdnetgit"
   ]
  },
  {
   "cell_type": "code",
   "execution_count": 13,
   "id": "3df4c5b6",
   "metadata": {
    "execution": {
     "iopub.execute_input": "2023-05-02T17:07:17.685087Z",
     "iopub.status.busy": "2023-05-02T17:07:17.684433Z",
     "iopub.status.idle": "2023-05-02T17:07:17.688695Z",
     "shell.execute_reply": "2023-05-02T17:07:17.687790Z"
    },
    "papermill": {
     "duration": 0.013658,
     "end_time": "2023-05-02T17:07:17.690491",
     "exception": false,
     "start_time": "2023-05-02T17:07:17.676833",
     "status": "completed"
    },
    "tags": []
   },
   "outputs": [],
   "source": [
    "# import os\n",
    "# import sys\n",
    "# import json\n",
    "# import math\n",
    "# import glob\n",
    "# import librosa\n",
    "# import operator\n",
    "# import argparse\n",
    "# import datetime\n",
    "# import traceback\n",
    "\n",
    "# from multiprocessing import Pool, freeze_support\n",
    "\n",
    "# import numpy as np\n",
    "\n",
    "# import config as cfg\n",
    "# import audio\n",
    "# import model\n",
    "# from analyze import *\n",
    "\n",
    "# import pandas as pd\n",
    "# import numpy as np"
   ]
  },
  {
   "cell_type": "code",
   "execution_count": 14,
   "id": "6d80d1e0",
   "metadata": {
    "execution": {
     "iopub.execute_input": "2023-05-02T17:07:17.705761Z",
     "iopub.status.busy": "2023-05-02T17:07:17.705448Z",
     "iopub.status.idle": "2023-05-02T17:07:17.710483Z",
     "shell.execute_reply": "2023-05-02T17:07:17.709604Z"
    },
    "papermill": {
     "duration": 0.014938,
     "end_time": "2023-05-02T17:07:17.712277",
     "exception": false,
     "start_time": "2023-05-02T17:07:17.697339",
     "status": "completed"
    },
    "tags": []
   },
   "outputs": [],
   "source": [
    "# df = pd.read_csv(\"../birdclef-2022/eBird_Taxonomy_v2021.csv\")\n",
    "# s2id = lambda x: df[(df['PRIMARY_COM_NAME'] == x)].SPECIES_CODE.tolist()[0]\n",
    "\n",
    "# cfg.MODEL_PATH = '/kaggle/input/birdnetgit/checkpoints/V2.1/BirdNET_GLOBAL_2K_V2.1_Model_FP32.tflite'\n",
    "# cfg.MDATA_MODEL_PATH = '/kaggle/input/birdnetgit/checkpoints/V2.1/BirdNET_GLOBAL_2K_V2.1_MData_Model_FP32.tflite'\n",
    "# cfg.LABELS_FILE = '/kaggle/input/birdnetgit/checkpoints/V2.1/BirdNET_GLOBAL_2K_V2.1_Labels.txt'\n",
    "# cfg.TRANSLATED_LABELS_PATH = '/kaggle/input/birdnetgit/labels/V2.1'\n",
    "\n",
    "# cfg.SIG_LENGTH = 5\n",
    "# cfg.SIG_OVERLAP = 0 \n",
    "# cfg.SIG_MINLEN = 5 \n",
    "\n",
    "# # Load eBird codes, labels\n",
    "\n",
    "# def loadCodes(CODEC_FILE):\n",
    "\n",
    "#     with open(CODEC_FILE, 'r') as cfile:\n",
    "#         codes = json.load(cfile)\n",
    "\n",
    "#     return codes\n",
    "\n",
    "# cfg.CODES = loadCodes(\"./eBird_taxonomy_codes_2021E.json\")\n",
    "# def loadLabels(labels_file):\n",
    "\n",
    "#     labels = []\n",
    "#     with open(labels_file, 'r') as lfile:\n",
    "#         for line in lfile.readlines():\n",
    "#             labels.append(line.replace('\\n', ''))    \n",
    "\n",
    "#     return labels\n",
    "\n",
    "# def prepare_clip(fpath):\n",
    "#     \"\"\"\n",
    "#     Prepare audio clip for inference\n",
    "#     \"\"\"\n",
    "#     sample_rate = cfg.SAMPLE_RATE\n",
    "#     frame_length = cfg.SIG_LENGTH\n",
    "#     infer_frame_length = frame_length\n",
    "    \n",
    "#     sample_rate = 48000\n",
    "#     chunks = []\n",
    "    \n",
    "#     waveform, sample_rate = librosa.load(fpath, sr=sample_rate, mono=True, res_type='kaiser_fast')\n",
    "#     n_parts = math.ceil(len(waveform) / int(infer_frame_length * sample_rate))\n",
    "    \n",
    "#     for seg_idx in range(n_parts): \n",
    "#         end_time = (seg_idx + 1) * frame_length\n",
    "#         chunk  = waveform[(end_time*sample_rate)-(sample_rate*frame_length):end_time*sample_rate]\n",
    "                \n",
    "#         if len(chunk) == frame_length * sample_rate:\n",
    "#             chunks.append(chunk)\n",
    "#         elif len(chunk) < frame_length * sample_rate:\n",
    "#             chunk = np.pad(chunk, (0, (frame_length * sample_rate) - len(chunk)))\n",
    "#             chunks.append(chunk)\n",
    "#         elif len(chunk) > frame_length * sample_rate:\n",
    "#             chunk = chunk[:(frame_length * sample_rate)]\n",
    "#             chunks.append(chunk)\n",
    "            \n",
    "#     return chunks\n",
    "\n",
    "\n",
    "# scored_birds = np.array(['akiapo', 'aniani', 'apapan', 'barpet', 'crehon', 'elepai', 'ercfra',\n",
    "#                           'hawama', 'hawcre', 'hawgoo', 'hawhaw', 'hawpet1', 'houfin', 'iiwi',\n",
    "#                           'jabwar', 'maupar', 'omao', 'puaioh', 'skylar', 'warwhe1', 'yefcan'])\n",
    "\n",
    "# cfg.LABELS = loadLabels(cfg.LABELS_FILE)\n",
    "\n",
    "# model.loadModel()\n",
    "\n"
   ]
  },
  {
   "cell_type": "code",
   "execution_count": 15,
   "id": "b5245f16",
   "metadata": {
    "execution": {
     "iopub.execute_input": "2023-05-02T17:07:17.727553Z",
     "iopub.status.busy": "2023-05-02T17:07:17.726761Z",
     "iopub.status.idle": "2023-05-02T17:07:17.731106Z",
     "shell.execute_reply": "2023-05-02T17:07:17.730323Z"
    },
    "papermill": {
     "duration": 0.013786,
     "end_time": "2023-05-02T17:07:17.732923",
     "exception": false,
     "start_time": "2023-05-02T17:07:17.719137",
     "status": "completed"
    },
    "tags": []
   },
   "outputs": [],
   "source": [
    "# bird_dict = {}\n",
    "# for i, lb in enumerate(cfg.LABELS):\n",
    "#     try:\n",
    "#         lbb = s2id(lb.split(\"_\")[-1])\n",
    "#         if lbb in scored_birds:\n",
    "#             bird_dict[lbb] = i\n",
    "#     except Exception as e:\n",
    "#         continue\n",
    "    \n",
    "# bird_dict[\"aniani\"] = 0\n",
    "\n",
    "# sorted_bd = dict(sorted(bird_dict.items(), key=lambda item: item[0]))\n",
    "# get_idx = list(sorted_bd.values())"
   ]
  },
  {
   "cell_type": "code",
   "execution_count": 16,
   "id": "82bda74c",
   "metadata": {
    "execution": {
     "iopub.execute_input": "2023-05-02T17:07:17.748121Z",
     "iopub.status.busy": "2023-05-02T17:07:17.747369Z",
     "iopub.status.idle": "2023-05-02T17:07:17.751858Z",
     "shell.execute_reply": "2023-05-02T17:07:17.751070Z"
    },
    "papermill": {
     "duration": 0.013863,
     "end_time": "2023-05-02T17:07:17.753579",
     "exception": false,
     "start_time": "2023-05-02T17:07:17.739716",
     "status": "completed"
    },
    "tags": []
   },
   "outputs": [],
   "source": [
    "# # def predict_single(test_path)\n",
    "\n",
    "# def generate_preds_bn():\n",
    "#     test_files   = sorted(glob.glob(\"/kaggle/input/birdclef-2022/test_soundscapes/*.ogg\"))\n",
    "    \n",
    "#     preds = []\n",
    "#     file_ids = []\n",
    "    \n",
    "#     for fpath in test_files:\n",
    "#         chunks = prepare_clip(fpath)\n",
    "#         pred = predict(chunks)[:, get_idx]\n",
    "#         preds.append(pred)\n",
    "#         file_id = os.path.basename(fpath).replace(\".ogg\", \"\")\n",
    "#         file_ids.append(file_id)\n",
    "        \n",
    "#     preds = np.array(preds)\n",
    "#     return preds, file_ids\n",
    "        "
   ]
  },
  {
   "cell_type": "code",
   "execution_count": 17,
   "id": "efef27e0",
   "metadata": {
    "execution": {
     "iopub.execute_input": "2023-05-02T17:07:17.768646Z",
     "iopub.status.busy": "2023-05-02T17:07:17.767906Z",
     "iopub.status.idle": "2023-05-02T17:07:17.771661Z",
     "shell.execute_reply": "2023-05-02T17:07:17.770806Z"
    },
    "papermill": {
     "duration": 0.013118,
     "end_time": "2023-05-02T17:07:17.773392",
     "exception": false,
     "start_time": "2023-05-02T17:07:17.760274",
     "status": "completed"
    },
    "tags": []
   },
   "outputs": [],
   "source": [
    "# %%time\n",
    "# preds_bn, file_ids = generate_preds_bn()\n"
   ]
  },
  {
   "cell_type": "code",
   "execution_count": 18,
   "id": "1b7c48c0",
   "metadata": {
    "execution": {
     "iopub.execute_input": "2023-05-02T17:07:17.788438Z",
     "iopub.status.busy": "2023-05-02T17:07:17.787683Z",
     "iopub.status.idle": "2023-05-02T17:07:17.791838Z",
     "shell.execute_reply": "2023-05-02T17:07:17.791025Z"
    },
    "papermill": {
     "duration": 0.013512,
     "end_time": "2023-05-02T17:07:17.793665",
     "exception": false,
     "start_time": "2023-05-02T17:07:17.780153",
     "status": "completed"
    },
    "tags": []
   },
   "outputs": [],
   "source": [
    "# preds_bn[:, :, 1] = prob_array[:, :, 1] # 有一种鸟类缺失"
   ]
  },
  {
   "cell_type": "code",
   "execution_count": 19,
   "id": "44439b29",
   "metadata": {
    "execution": {
     "iopub.execute_input": "2023-05-02T17:07:17.808586Z",
     "iopub.status.busy": "2023-05-02T17:07:17.807853Z",
     "iopub.status.idle": "2023-05-02T17:07:17.814603Z",
     "shell.execute_reply": "2023-05-02T17:07:17.813838Z"
    },
    "papermill": {
     "duration": 0.01593,
     "end_time": "2023-05-02T17:07:17.816299",
     "exception": false,
     "start_time": "2023-05-02T17:07:17.800369",
     "status": "completed"
    },
    "tags": []
   },
   "outputs": [],
   "source": [
    "def generate_file_ids():\n",
    "    test_files   = sorted(glob.glob(\"/kaggle/input/birdclef-2023/test_soundscapes/*.ogg\"))\n",
    "    \n",
    "    file_ids = []\n",
    "    \n",
    "    for fpath in test_files:\n",
    "        file_id = os.path.basename(fpath).replace(\".ogg\", \"\")\n",
    "        file_ids.append(file_id)\n",
    "        \n",
    "    return file_ids\n",
    "\n",
    "file_ids = generate_file_ids()"
   ]
  },
  {
   "cell_type": "code",
   "execution_count": 20,
   "id": "76e0b49d",
   "metadata": {
    "execution": {
     "iopub.execute_input": "2023-05-02T17:07:17.831333Z",
     "iopub.status.busy": "2023-05-02T17:07:17.830514Z",
     "iopub.status.idle": "2023-05-02T17:07:17.836321Z",
     "shell.execute_reply": "2023-05-02T17:07:17.835451Z"
    },
    "papermill": {
     "duration": 0.015408,
     "end_time": "2023-05-02T17:07:17.838369",
     "exception": false,
     "start_time": "2023-05-02T17:07:17.822961",
     "status": "completed"
    },
    "tags": []
   },
   "outputs": [
    {
     "data": {
      "text/plain": [
       "(1, 120, 264)"
      ]
     },
     "execution_count": 20,
     "metadata": {},
     "output_type": "execute_result"
    }
   ],
   "source": [
    "## fix aniani\n",
    "avg_preds = prob_array\n",
    "\n",
    "avg_preds.shape"
   ]
  },
  {
   "cell_type": "code",
   "execution_count": 21,
   "id": "fea4755a",
   "metadata": {
    "execution": {
     "iopub.execute_input": "2023-05-02T17:07:17.854651Z",
     "iopub.status.busy": "2023-05-02T17:07:17.853698Z",
     "iopub.status.idle": "2023-05-02T17:07:17.868309Z",
     "shell.execute_reply": "2023-05-02T17:07:17.867510Z"
    },
    "papermill": {
     "duration": 0.024841,
     "end_time": "2023-05-02T17:07:17.870114",
     "exception": false,
     "start_time": "2023-05-02T17:07:17.845273",
     "status": "completed"
    },
    "tags": []
   },
   "outputs": [],
   "source": [
    "submission   = []\n",
    "infer_frame_length = 5\n",
    "threshold = 0.2\n",
    "\n",
    "for clip_preds, file_id in zip(avg_preds, file_ids):\n",
    "    for frame_idx, pred in enumerate(clip_preds):\n",
    "        end_time = (frame_idx + 1) * infer_frame_length\n",
    "        d = {\n",
    "            \"row_id\": f\"{file_id}_{end_time}\",\n",
    "            # \"target\": pred[bi] > threshold,\n",
    "        }\n",
    "        for bi, bird in enumerate(CLASSES):\n",
    "            d[bird] = pred[bi]\n",
    "        submission.append(d)"
   ]
  },
  {
   "cell_type": "code",
   "execution_count": 22,
   "id": "708a3dea",
   "metadata": {
    "execution": {
     "iopub.execute_input": "2023-05-02T17:07:17.885537Z",
     "iopub.status.busy": "2023-05-02T17:07:17.884770Z",
     "iopub.status.idle": "2023-05-02T17:07:17.890805Z",
     "shell.execute_reply": "2023-05-02T17:07:17.889966Z"
    },
    "papermill": {
     "duration": 0.015402,
     "end_time": "2023-05-02T17:07:17.892550",
     "exception": false,
     "start_time": "2023-05-02T17:07:17.877148",
     "status": "completed"
    },
    "tags": []
   },
   "outputs": [
    {
     "name": "stdout",
     "output_type": "stream",
     "text": [
      "/kaggle/working\n"
     ]
    }
   ],
   "source": [
    "%cd /kaggle/working"
   ]
  },
  {
   "cell_type": "code",
   "execution_count": 23,
   "id": "a3aa3a43",
   "metadata": {
    "execution": {
     "iopub.execute_input": "2023-05-02T17:07:17.908056Z",
     "iopub.status.busy": "2023-05-02T17:07:17.907233Z",
     "iopub.status.idle": "2023-05-02T17:07:17.977670Z",
     "shell.execute_reply": "2023-05-02T17:07:17.976735Z"
    },
    "papermill": {
     "duration": 0.080322,
     "end_time": "2023-05-02T17:07:17.979856",
     "exception": false,
     "start_time": "2023-05-02T17:07:17.899534",
     "status": "completed"
    },
    "tags": []
   },
   "outputs": [],
   "source": [
    "df_submission = pd.DataFrame(submission).set_index(\"row_id\")\n",
    "df_submission.to_csv(\"submission.csv\")"
   ]
  },
  {
   "cell_type": "code",
   "execution_count": 24,
   "id": "0cf82f70",
   "metadata": {
    "execution": {
     "iopub.execute_input": "2023-05-02T17:07:17.995417Z",
     "iopub.status.busy": "2023-05-02T17:07:17.995112Z",
     "iopub.status.idle": "2023-05-02T17:07:18.019516Z",
     "shell.execute_reply": "2023-05-02T17:07:18.018420Z"
    },
    "papermill": {
     "duration": 0.034775,
     "end_time": "2023-05-02T17:07:18.021828",
     "exception": false,
     "start_time": "2023-05-02T17:07:17.987053",
     "status": "completed"
    },
    "tags": []
   },
   "outputs": [
    {
     "data": {
      "text/html": [
       "<div>\n",
       "<style scoped>\n",
       "    .dataframe tbody tr th:only-of-type {\n",
       "        vertical-align: middle;\n",
       "    }\n",
       "\n",
       "    .dataframe tbody tr th {\n",
       "        vertical-align: top;\n",
       "    }\n",
       "\n",
       "    .dataframe thead th {\n",
       "        text-align: right;\n",
       "    }\n",
       "</style>\n",
       "<table border=\"1\" class=\"dataframe\">\n",
       "  <thead>\n",
       "    <tr style=\"text-align: right;\">\n",
       "      <th></th>\n",
       "      <th>abethr1</th>\n",
       "      <th>abhori1</th>\n",
       "      <th>abythr1</th>\n",
       "      <th>afbfly1</th>\n",
       "      <th>afdfly1</th>\n",
       "      <th>afecuc1</th>\n",
       "      <th>affeag1</th>\n",
       "      <th>afgfly1</th>\n",
       "      <th>afghor1</th>\n",
       "      <th>afmdov1</th>\n",
       "      <th>...</th>\n",
       "      <th>yebsto1</th>\n",
       "      <th>yeccan1</th>\n",
       "      <th>yefcan</th>\n",
       "      <th>yelbis1</th>\n",
       "      <th>yenspu1</th>\n",
       "      <th>yertin1</th>\n",
       "      <th>yesbar1</th>\n",
       "      <th>yespet1</th>\n",
       "      <th>yetgre1</th>\n",
       "      <th>yewgre1</th>\n",
       "    </tr>\n",
       "    <tr>\n",
       "      <th>row_id</th>\n",
       "      <th></th>\n",
       "      <th></th>\n",
       "      <th></th>\n",
       "      <th></th>\n",
       "      <th></th>\n",
       "      <th></th>\n",
       "      <th></th>\n",
       "      <th></th>\n",
       "      <th></th>\n",
       "      <th></th>\n",
       "      <th></th>\n",
       "      <th></th>\n",
       "      <th></th>\n",
       "      <th></th>\n",
       "      <th></th>\n",
       "      <th></th>\n",
       "      <th></th>\n",
       "      <th></th>\n",
       "      <th></th>\n",
       "      <th></th>\n",
       "      <th></th>\n",
       "    </tr>\n",
       "  </thead>\n",
       "  <tbody>\n",
       "    <tr>\n",
       "      <th>soundscape_29201_5</th>\n",
       "      <td>0.126487</td>\n",
       "      <td>0.082117</td>\n",
       "      <td>0.080905</td>\n",
       "      <td>0.048625</td>\n",
       "      <td>0.050497</td>\n",
       "      <td>0.101483</td>\n",
       "      <td>0.075421</td>\n",
       "      <td>0.024035</td>\n",
       "      <td>0.160327</td>\n",
       "      <td>0.052997</td>\n",
       "      <td>...</td>\n",
       "      <td>0.014786</td>\n",
       "      <td>0.017144</td>\n",
       "      <td>0.048952</td>\n",
       "      <td>0.028014</td>\n",
       "      <td>0.046161</td>\n",
       "      <td>0.084387</td>\n",
       "      <td>0.033920</td>\n",
       "      <td>0.033699</td>\n",
       "      <td>0.054019</td>\n",
       "      <td>0.053464</td>\n",
       "    </tr>\n",
       "    <tr>\n",
       "      <th>soundscape_29201_10</th>\n",
       "      <td>0.066573</td>\n",
       "      <td>0.164551</td>\n",
       "      <td>0.030743</td>\n",
       "      <td>0.066187</td>\n",
       "      <td>0.037689</td>\n",
       "      <td>0.032809</td>\n",
       "      <td>0.077661</td>\n",
       "      <td>0.018499</td>\n",
       "      <td>0.038611</td>\n",
       "      <td>0.144031</td>\n",
       "      <td>...</td>\n",
       "      <td>0.008452</td>\n",
       "      <td>0.019604</td>\n",
       "      <td>0.077736</td>\n",
       "      <td>0.045713</td>\n",
       "      <td>0.048662</td>\n",
       "      <td>0.069232</td>\n",
       "      <td>0.020721</td>\n",
       "      <td>0.027758</td>\n",
       "      <td>0.021699</td>\n",
       "      <td>0.075836</td>\n",
       "    </tr>\n",
       "    <tr>\n",
       "      <th>soundscape_29201_15</th>\n",
       "      <td>0.080322</td>\n",
       "      <td>0.081421</td>\n",
       "      <td>0.044109</td>\n",
       "      <td>0.017279</td>\n",
       "      <td>0.023253</td>\n",
       "      <td>0.057593</td>\n",
       "      <td>0.047553</td>\n",
       "      <td>0.018960</td>\n",
       "      <td>0.037280</td>\n",
       "      <td>0.075842</td>\n",
       "      <td>...</td>\n",
       "      <td>0.003203</td>\n",
       "      <td>0.015977</td>\n",
       "      <td>0.083805</td>\n",
       "      <td>0.041879</td>\n",
       "      <td>0.019554</td>\n",
       "      <td>0.062750</td>\n",
       "      <td>0.014840</td>\n",
       "      <td>0.031579</td>\n",
       "      <td>0.027178</td>\n",
       "      <td>0.034448</td>\n",
       "    </tr>\n",
       "    <tr>\n",
       "      <th>soundscape_29201_20</th>\n",
       "      <td>0.032924</td>\n",
       "      <td>0.054800</td>\n",
       "      <td>0.033512</td>\n",
       "      <td>0.064816</td>\n",
       "      <td>0.026026</td>\n",
       "      <td>0.041357</td>\n",
       "      <td>0.038520</td>\n",
       "      <td>0.048114</td>\n",
       "      <td>0.086975</td>\n",
       "      <td>0.055124</td>\n",
       "      <td>...</td>\n",
       "      <td>0.003781</td>\n",
       "      <td>0.016883</td>\n",
       "      <td>0.036899</td>\n",
       "      <td>0.051441</td>\n",
       "      <td>0.037172</td>\n",
       "      <td>0.045239</td>\n",
       "      <td>0.030566</td>\n",
       "      <td>0.035758</td>\n",
       "      <td>0.048056</td>\n",
       "      <td>0.034192</td>\n",
       "    </tr>\n",
       "    <tr>\n",
       "      <th>soundscape_29201_25</th>\n",
       "      <td>0.032156</td>\n",
       "      <td>0.053897</td>\n",
       "      <td>0.038099</td>\n",
       "      <td>0.042058</td>\n",
       "      <td>0.025322</td>\n",
       "      <td>0.041348</td>\n",
       "      <td>0.033167</td>\n",
       "      <td>0.035015</td>\n",
       "      <td>0.080096</td>\n",
       "      <td>0.055887</td>\n",
       "      <td>...</td>\n",
       "      <td>0.003023</td>\n",
       "      <td>0.013749</td>\n",
       "      <td>0.044425</td>\n",
       "      <td>0.037059</td>\n",
       "      <td>0.028821</td>\n",
       "      <td>0.037817</td>\n",
       "      <td>0.025053</td>\n",
       "      <td>0.025127</td>\n",
       "      <td>0.041949</td>\n",
       "      <td>0.029163</td>\n",
       "    </tr>\n",
       "  </tbody>\n",
       "</table>\n",
       "<p>5 rows × 264 columns</p>\n",
       "</div>"
      ],
      "text/plain": [
       "                      abethr1   abhori1   abythr1   afbfly1   afdfly1  \\\n",
       "row_id                                                                  \n",
       "soundscape_29201_5   0.126487  0.082117  0.080905  0.048625  0.050497   \n",
       "soundscape_29201_10  0.066573  0.164551  0.030743  0.066187  0.037689   \n",
       "soundscape_29201_15  0.080322  0.081421  0.044109  0.017279  0.023253   \n",
       "soundscape_29201_20  0.032924  0.054800  0.033512  0.064816  0.026026   \n",
       "soundscape_29201_25  0.032156  0.053897  0.038099  0.042058  0.025322   \n",
       "\n",
       "                      afecuc1   affeag1   afgfly1   afghor1   afmdov1  ...  \\\n",
       "row_id                                                                 ...   \n",
       "soundscape_29201_5   0.101483  0.075421  0.024035  0.160327  0.052997  ...   \n",
       "soundscape_29201_10  0.032809  0.077661  0.018499  0.038611  0.144031  ...   \n",
       "soundscape_29201_15  0.057593  0.047553  0.018960  0.037280  0.075842  ...   \n",
       "soundscape_29201_20  0.041357  0.038520  0.048114  0.086975  0.055124  ...   \n",
       "soundscape_29201_25  0.041348  0.033167  0.035015  0.080096  0.055887  ...   \n",
       "\n",
       "                      yebsto1   yeccan1    yefcan   yelbis1   yenspu1  \\\n",
       "row_id                                                                  \n",
       "soundscape_29201_5   0.014786  0.017144  0.048952  0.028014  0.046161   \n",
       "soundscape_29201_10  0.008452  0.019604  0.077736  0.045713  0.048662   \n",
       "soundscape_29201_15  0.003203  0.015977  0.083805  0.041879  0.019554   \n",
       "soundscape_29201_20  0.003781  0.016883  0.036899  0.051441  0.037172   \n",
       "soundscape_29201_25  0.003023  0.013749  0.044425  0.037059  0.028821   \n",
       "\n",
       "                      yertin1   yesbar1   yespet1   yetgre1   yewgre1  \n",
       "row_id                                                                 \n",
       "soundscape_29201_5   0.084387  0.033920  0.033699  0.054019  0.053464  \n",
       "soundscape_29201_10  0.069232  0.020721  0.027758  0.021699  0.075836  \n",
       "soundscape_29201_15  0.062750  0.014840  0.031579  0.027178  0.034448  \n",
       "soundscape_29201_20  0.045239  0.030566  0.035758  0.048056  0.034192  \n",
       "soundscape_29201_25  0.037817  0.025053  0.025127  0.041949  0.029163  \n",
       "\n",
       "[5 rows x 264 columns]"
      ]
     },
     "execution_count": 24,
     "metadata": {},
     "output_type": "execute_result"
    }
   ],
   "source": [
    "# print(f\"\"\"\n",
    "# total rows : {len(df_submission)}\n",
    "# activated  : {len(df_submission[(df_submission.target==True)])}\n",
    "# \"\"\")\n",
    "\n",
    "df_submission.head()"
   ]
  },
  {
   "cell_type": "code",
   "execution_count": null,
   "id": "dd44efc2",
   "metadata": {
    "papermill": {
     "duration": 0.006993,
     "end_time": "2023-05-02T17:07:18.036515",
     "exception": false,
     "start_time": "2023-05-02T17:07:18.029522",
     "status": "completed"
    },
    "tags": []
   },
   "outputs": [],
   "source": []
  }
 ],
 "metadata": {
  "kernelspec": {
   "display_name": "Python 3",
   "language": "python",
   "name": "python3"
  },
  "language_info": {
   "codemirror_mode": {
    "name": "ipython",
    "version": 3
   },
   "file_extension": ".py",
   "mimetype": "text/x-python",
   "name": "python",
   "nbconvert_exporter": "python",
   "pygments_lexer": "ipython3",
   "version": "3.10.10"
  },
  "papermill": {
   "default_parameters": {},
   "duration": 120.543355,
   "end_time": "2023-05-02T17:07:20.573293",
   "environment_variables": {},
   "exception": null,
   "input_path": "__notebook__.ipynb",
   "output_path": "__notebook__.ipynb",
   "parameters": {},
   "start_time": "2023-05-02T17:05:20.029938",
   "version": "2.4.0"
  }
 },
 "nbformat": 4,
 "nbformat_minor": 5
}
