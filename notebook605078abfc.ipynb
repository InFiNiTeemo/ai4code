{
 "cells": [
  {
   "cell_type": "code",
   "execution_count": 1,
   "id": "c0c33344",
   "metadata": {
    "_kg_hide-output": true,
    "execution": {
     "iopub.execute_input": "2023-05-17T20:51:13.348688Z",
     "iopub.status.busy": "2023-05-17T20:51:13.347822Z",
     "iopub.status.idle": "2023-05-17T20:51:47.982338Z",
     "shell.execute_reply": "2023-05-17T20:51:47.981309Z"
    },
    "papermill": {
     "duration": 34.645603,
     "end_time": "2023-05-17T20:51:47.985155",
     "exception": false,
     "start_time": "2023-05-17T20:51:13.339552",
     "status": "completed"
    },
    "tags": []
   },
   "outputs": [
    {
     "name": "stdout",
     "output_type": "stream",
     "text": [
      "Processing /kaggle/input/nnaudio031/nnAudio-0.3.1-py3-none-any.whl\r\n",
      "Requirement already satisfied: scipy in /opt/conda/lib/python3.10/site-packages (from nnAudio==0.3.1) (1.9.3)\r\n",
      "Requirement already satisfied: numpy<1.26.0,>=1.18.5 in /opt/conda/lib/python3.10/site-packages (from scipy->nnAudio==0.3.1) (1.23.5)\r\n",
      "Installing collected packages: nnAudio\r\n",
      "Successfully installed nnAudio-0.3.1\r\n",
      "\u001b[33mWARNING: Running pip as the 'root' user can result in broken permissions and conflicting behaviour with the system package manager. It is recommended to use a virtual environment instead: https://pip.pypa.io/warnings/venv\u001b[0m\u001b[33m\r\n",
      "\u001b[0m"
     ]
    }
   ],
   "source": [
    "## setup\n",
    "!pip install ../input/nnaudio031/nnAudio-0.3.1-py3-none-any.whl"
   ]
  },
  {
   "cell_type": "code",
   "execution_count": 2,
   "id": "a8e81f7e",
   "metadata": {
    "execution": {
     "iopub.execute_input": "2023-05-17T20:51:48.001123Z",
     "iopub.status.busy": "2023-05-17T20:51:48.000653Z",
     "iopub.status.idle": "2023-05-17T20:51:49.095814Z",
     "shell.execute_reply": "2023-05-17T20:51:49.094303Z"
    },
    "papermill": {
     "duration": 1.10707,
     "end_time": "2023-05-17T20:51:49.098933",
     "exception": false,
     "start_time": "2023-05-17T20:51:47.991863",
     "status": "completed"
    },
    "tags": []
   },
   "outputs": [
    {
     "name": "stdout",
     "output_type": "stream",
     "text": [
      "ef_v10TimmClassifier_v3_tf_efficientnet_b0_0_lb\r\n",
      "ef_v10TimmClassifier_v3_tf_efficientnet_b0_10_lb\r\n",
      "ef_v10TimmClassifier_v3_tf_efficientnet_b0_1_lb\r\n",
      "ef_v10TimmClassifier_v3_tf_efficientnet_b0_2_lb\r\n",
      "ef_v10TimmClassifier_v3_tf_efficientnet_b0_3_lb\r\n",
      "ef_v10TimmClassifier_v3_tf_efficientnet_b0_4_lb\r\n"
     ]
    }
   ],
   "source": [
    "# !ls /kaggle/input/blef0503/\n",
    "# !ls /kaggle/input/ef-v0/\n",
    "# !ls /kaggle/input/birds-inference-pip-wheels/*\n",
    "# !pip freeze|grep torch\n",
    "!ls /kaggle/input/ef-v10"
   ]
  },
  {
   "cell_type": "code",
   "execution_count": 3,
   "id": "c98f9cca",
   "metadata": {
    "execution": {
     "iopub.execute_input": "2023-05-17T20:51:49.114210Z",
     "iopub.status.busy": "2023-05-17T20:51:49.113814Z",
     "iopub.status.idle": "2023-05-17T20:51:49.120544Z",
     "shell.execute_reply": "2023-05-17T20:51:49.119391Z"
    },
    "papermill": {
     "duration": 0.017299,
     "end_time": "2023-05-17T20:51:49.122926",
     "exception": false,
     "start_time": "2023-05-17T20:51:49.105627",
     "status": "completed"
    },
    "tags": []
   },
   "outputs": [],
   "source": [
    "## https://github.com/Selimonder/birdclef2022/\n",
    "import os, sys, glob, math\n",
    "\n",
    "os.environ[\"MKL_NUM_THREADS\"] = \"1\"\n",
    "os.environ[\"OMP_NUM_THREADS\"] = \"1\"\n",
    "\n",
    "github_folder = \"/kaggle/input/blef0508v3\"\n",
    "sys.path.append(github_folder)"
   ]
  },
  {
   "cell_type": "code",
   "execution_count": 4,
   "id": "5e91be1a",
   "metadata": {
    "execution": {
     "iopub.execute_input": "2023-05-17T20:51:49.137910Z",
     "iopub.status.busy": "2023-05-17T20:51:49.137490Z",
     "iopub.status.idle": "2023-05-17T20:51:57.290193Z",
     "shell.execute_reply": "2023-05-17T20:51:57.289247Z"
    },
    "papermill": {
     "duration": 8.163587,
     "end_time": "2023-05-17T20:51:57.293010",
     "exception": false,
     "start_time": "2023-05-17T20:51:49.129423",
     "status": "completed"
    },
    "tags": []
   },
   "outputs": [
    {
     "name": "stderr",
     "output_type": "stream",
     "text": [
      "/opt/conda/lib/python3.10/site-packages/scipy/__init__.py:146: UserWarning: A NumPy version >=1.16.5 and <1.23.0 is required for this version of SciPy (detected version 1.23.5\n",
      "  warnings.warn(f\"A NumPy version >={np_minversion} and <{np_maxversion}\"\n",
      "/opt/conda/lib/python3.10/site-packages/nnAudio/Spectrogram.py:4: Warning: importing Spectrogram subpackage will be deprecated soon. You should import the feature extractor from the feature subpackage. See actual documentation.\n",
      "  warnings.warn(\n"
     ]
    }
   ],
   "source": [
    "import cv2\n",
    "import gc\n",
    "import time\n",
    "import torch\n",
    "import librosa\n",
    "import argparse, warnings\n",
    "\n",
    "import numpy as np\n",
    "import pandas as pd\n",
    "import IPython.display as ipd\n",
    "from pathlib import Path\n",
    "\n",
    "\n",
    "import zoo\n",
    "from training.config import load_config\n",
    "from training.datasets import BirdDatasetOOF\n",
    "\n",
    "\n",
    "cv2.ocl.setUseOpenCL(False)\n",
    "cv2.setNumThreads(0)\n",
    "\n",
    "from tqdm import tqdm\n",
    "from torch.utils.data import DataLoader\n",
    "\n",
    "warnings.simplefilter(\"ignore\")\n"
   ]
  },
  {
   "cell_type": "code",
   "execution_count": 5,
   "id": "b9d0f22c",
   "metadata": {
    "execution": {
     "iopub.execute_input": "2023-05-17T20:51:57.310053Z",
     "iopub.status.busy": "2023-05-17T20:51:57.309384Z",
     "iopub.status.idle": "2023-05-17T20:51:57.320769Z",
     "shell.execute_reply": "2023-05-17T20:51:57.319862Z"
    },
    "papermill": {
     "duration": 0.022895,
     "end_time": "2023-05-17T20:51:57.323773",
     "exception": false,
     "start_time": "2023-05-17T20:51:57.300878",
     "status": "completed"
    },
    "tags": []
   },
   "outputs": [],
   "source": [
    "# accelerate\n",
    "import os\n",
    "os.environ[\"OMP_NUM_THREADS\"]=\"2\"\n",
    "os.environ[\"OMP_SCHEDULE\"]=\"STATIC\"\n",
    "os.environ[\"OMP_PROC_BIND\"]=\"CLOSE\"\n",
    "import torch\n",
    "torch.set_num_threads(4)"
   ]
  },
  {
   "cell_type": "markdown",
   "id": "915ec821",
   "metadata": {
    "papermill": {
     "duration": 0.007507,
     "end_time": "2023-05-17T20:51:57.339382",
     "exception": false,
     "start_time": "2023-05-17T20:51:57.331875",
     "status": "completed"
    },
    "tags": []
   },
   "source": [
    "## models"
   ]
  },
  {
   "cell_type": "code",
   "execution_count": 6,
   "id": "1e417a9f",
   "metadata": {
    "execution": {
     "iopub.execute_input": "2023-05-17T20:51:57.356139Z",
     "iopub.status.busy": "2023-05-17T20:51:57.355743Z",
     "iopub.status.idle": "2023-05-17T20:52:00.107201Z",
     "shell.execute_reply": "2023-05-17T20:52:00.105883Z"
    },
    "papermill": {
     "duration": 2.763015,
     "end_time": "2023-05-17T20:52:00.109948",
     "exception": false,
     "start_time": "2023-05-17T20:51:57.346933",
     "status": "completed"
    },
    "tags": []
   },
   "outputs": [
    {
     "name": "stdout",
     "output_type": "stream",
     "text": [
      "False <class 'bool'>\n",
      "/kaggle/input/ef0-v9/ef_v9TimmClassifier_v3_tf_efficientnet_b0_5_lb\n",
      "initing CLS features model 20 duration...\n",
      "{'in_chans': 1, 'drop_path_rate': 0.2, 'drop_rate': 0.5}\n",
      "=> loading checkpoint '/kaggle/input/ef0-v9/ef_v9TimmClassifier_v3_tf_efficientnet_b0_5_lb''\n",
      "model not found [Errno 2] No such file or directory: '/kaggle/input/ef0-v9/ef_v9TimmClassifier_v3_tf_efficientnet_b0_5_lb'\n",
      "False <class 'bool'>\n",
      "/kaggle/input/ef0-v9/ef_v9TimmClassifier_v3_tf_efficientnet_b0_10_lb\n",
      "initing CLS features model 20 duration...\n",
      "{'in_chans': 1, 'drop_path_rate': 0.2, 'drop_rate': 0.5}\n",
      "=> loading checkpoint '/kaggle/input/ef0-v9/ef_v9TimmClassifier_v3_tf_efficientnet_b0_10_lb''\n",
      "epoch 17\n",
      "False <class 'bool'>\n",
      "/kaggle/input/ef-v10/ef_v10TimmClassifier_v3_tf_efficientnet_b0_5_lb\n",
      "initing CLS features model 10 duration...\n",
      "{'in_chans': 1, 'drop_path_rate': 0.2, 'drop_rate': 0.5}\n",
      "=> loading checkpoint '/kaggle/input/ef-v10/ef_v10TimmClassifier_v3_tf_efficientnet_b0_5_lb''\n",
      "model not found [Errno 2] No such file or directory: '/kaggle/input/ef-v10/ef_v10TimmClassifier_v3_tf_efficientnet_b0_5_lb'\n",
      "False <class 'bool'>\n",
      "/kaggle/input/ef-v10/ef_v10TimmClassifier_v3_tf_efficientnet_b0_10_lb\n",
      "initing CLS features model 10 duration...\n",
      "{'in_chans': 1, 'drop_path_rate': 0.2, 'drop_rate': 0.5}\n",
      "=> loading checkpoint '/kaggle/input/ef-v10/ef_v10TimmClassifier_v3_tf_efficientnet_b0_10_lb''\n",
      "epoch 19\n",
      "False <class 'bool'>\n",
      "/kaggle/input/ef-v11/ef_v11TimmClassifier_v3_tf_efficientnet_b0_5_lb\n",
      "initing CLS features model 5 duration...\n",
      "{'in_chans': 1, 'drop_path_rate': 0.2, 'drop_rate': 0.5}\n",
      "=> loading checkpoint '/kaggle/input/ef-v11/ef_v11TimmClassifier_v3_tf_efficientnet_b0_5_lb''\n",
      "model not found [Errno 2] No such file or directory: '/kaggle/input/ef-v11/ef_v11TimmClassifier_v3_tf_efficientnet_b0_5_lb'\n",
      "False <class 'bool'>\n",
      "/kaggle/input/ef-v11/ef_v11TimmClassifier_v3_tf_efficientnet_b0_10_lb\n",
      "initing CLS features model 5 duration...\n",
      "{'in_chans': 1, 'drop_path_rate': 0.2, 'drop_rate': 0.5}\n",
      "=> loading checkpoint '/kaggle/input/ef-v11/ef_v11TimmClassifier_v3_tf_efficientnet_b0_10_lb''\n",
      "epoch 19\n",
      "False <class 'bool'>\n",
      "/kaggle/input/effnet-b0-torch-avg-weights/ef_v0TimmClassifier_v3_tf_efficientnet_b0_10_lb\n",
      "initing CLS features model 15 duration...\n",
      "{'in_chans': 1, 'drop_path_rate': 0.2, 'drop_rate': 0.5}\n",
      "=> loading checkpoint '/kaggle/input/effnet-b0-torch-avg-weights/ef_v0TimmClassifier_v3_tf_efficientnet_b0_10_lb''\n",
      "epoch 18\n",
      "False <class 'bool'>\n",
      "/kaggle/input/ef-v0-fulltrain/ef_v0TimmClassifier_v3_tf_efficientnet_b0_5_lb\n",
      "initing CLS features model 15 duration...\n",
      "{'in_chans': 1, 'drop_path_rate': 0.2, 'drop_rate': 0.5}\n",
      "=> loading checkpoint '/kaggle/input/ef-v0-fulltrain/ef_v0TimmClassifier_v3_tf_efficientnet_b0_5_lb''\n",
      "epoch 19\n",
      "False <class 'bool'>\n",
      "/kaggle/input/ef0-v7/ef_v7TimmClassifier_v3_tf_efficientnet_b0_0_lb\n",
      "initing CLS features model 15 duration...\n",
      "{'in_chans': 1, 'drop_path_rate': 0.2, 'drop_rate': 0.5}\n",
      "=> loading checkpoint '/kaggle/input/ef0-v7/ef_v7TimmClassifier_v3_tf_efficientnet_b0_0_lb''\n",
      "epoch 18\n"
     ]
    },
    {
     "data": {
      "text/plain": [
       "6"
      ]
     },
     "execution_count": 6,
     "metadata": {},
     "output_type": "execute_result"
    }
   ],
   "source": [
    "def load_model(conf_path: str, weights_path: str, prefix: str, suffix: str, fold: int, to_device: bool = True):\n",
    "    conf = load_config(conf_path)\n",
    "    conf['encoder_params']['pretrained'] = False\n",
    "    print(conf['encoder_params']['pretrained'], type(conf['encoder_params']['pretrained']))\n",
    "    \n",
    "    snapshot_name = \"{}{}_{}_{}_{}\".format(prefix, conf[\"network\"], conf[\"encoder_params\"][\"encoder\"], fold, suffix)\n",
    "    weights_path = os.path.join(weights_path, snapshot_name)\n",
    "    print(weights_path)\n",
    "    \n",
    "    model = zoo.__dict__[conf[\"network\"]](**conf[\"encoder_params\"])\n",
    "    model = torch.nn.DataParallel(model)\n",
    "    print(\"=> loading checkpoint '{}''\".format(weights_path))\n",
    "    checkpoint = torch.load(weights_path, map_location=\"cpu\")\n",
    "    print(\"epoch\", checkpoint[\"epoch\"])\n",
    "    model.load_state_dict(checkpoint[\"state_dict\"])\n",
    "    model.eval()\n",
    "    if to_device: model.cuda()\n",
    "    return model\n",
    "\n",
    "models = []\n",
    "\n",
    "\n",
    "\n",
    "# 0.80 version 34\n",
    "# conf_path    = f\"{github_folder}/configs/cls_ef_v9.json\",\n",
    "# weights_path = f\"/kaggle/input/ef0-v9\",\n",
    "# prefix       = \"ef_v9\",\n",
    "\n",
    "\n",
    "# 0.79 version 33\n",
    "# conf_path    = f\"{github_folder}/configs/cls_ef_v10.json\",\n",
    "#                                 weights_path = f\"/kaggle/input/ef-v10\",\n",
    "#                                 prefix       = \"ef_v10\",\n",
    "\n",
    "\n",
    "# 0.80 version 32, 2ndw 0.5 on fold 0\n",
    "# model = load_model(conf_path    = f\"{github_folder}/configs/cls_ef_v7.json\",\n",
    "#                                 weights_path = f\"/kaggle/input/ef0-v7\",\n",
    "#                                 prefix       = \"ef_v7\",\n",
    "\n",
    "\n",
    "# 0.80 version 30 full train with 2ndw 1\n",
    "# conf_path    = f\"{github_folder}/configs/cls_ef_v0.json\",\n",
    "# weights_path = f\"/kaggle/input/ef-v0-fulltrain\",\n",
    "# prefix       = \"ef_v0\",\n",
    "\n",
    "\n",
    "# 0.78 version 29  no pretrain sed\n",
    "# conf_path    = f\"{github_folder}/configs/sed_ef_v0.json\",\n",
    "# weights_path = f\"/kaggle/input/sed-ef-v0\",\n",
    "# prefix       = \"sed_v0\",\n",
    "\n",
    "# 0.78 version 28   train 20 epoch on pretrain 123\n",
    "# conf_path    = f\"{github_folder}/configs/cls_ef_v0.json\",\n",
    "# weights_path = f\"/kaggle/input/ef-v0-pretrain123\",\n",
    "\n",
    "# 0.80 version 27   train 25 epoch on pretrain 123\n",
    "# conf_path    = f\"{github_folder}/configs/cls_ef_v6.json\",\n",
    "# weights_path = f\"/kaggle/input/ef0-v6\",\n",
    "#                                 \"ef_v6_e20\",\n",
    "\n",
    "# 0.79 version 26 better pretrain (21,22)\n",
    "# conf_path    = f\"{github_folder}/configs/cls_ef_v0.json\",\n",
    "# weights_path = f\"/kaggle/input/ef0-v0\",\n",
    "# prefix       = \"ef_v0\",\n",
    "\n",
    "# 0.79 version 25 set 3 \n",
    "# conf_path    = f\"{github_folder}/configs/cls_ef2_v1.json\",\n",
    "# weights_path = f\"/kaggle/input/ef2-v1\",\n",
    "# prefix       = \"ef2_v1\",\n",
    "\n",
    "# 0.80 version 23-lb, 24-f1\n",
    "#conf_path    = f\"{github_folder}/configs/cls_ef2_v0.json\",\n",
    "#weights_path = f\"/kaggle/input/ef2-v0\",\n",
    "#prefix       = \"ef2_v0\",\n",
    "\n",
    "\n",
    "# 0.79 version 20\n",
    "# conf_path    = f\"{github_folder}/configs/cls_ef_v3.json\",\n",
    "# weights_path = f\"/kaggle/input/ef0-v3\",\n",
    "# prefix       = \"ef0_v3\",\n",
    "\n",
    "\n",
    "# rank 37 5folds version19\n",
    "# conf_path    = f\"{github_folder}/configs/cls_ef_v0.json\",\n",
    "# weights_path = f\"/kaggle/input/cls-ef-v0\",\n",
    "# prefix       = \"ef_v0\",\n",
    "\n",
    "# only primary, 16min rank82  cls_ef_v0.json weights_path = f\"/kaggle/input/cls-ef-v0\", prefix = \"ef_v0\",\n",
    "# rank90  cls_ef_v0.json weights_path = f\"/kaggle/input/ef-v0-pretrain\", prefix = \"ef_v0_\",\n",
    "\n",
    "\n",
    "# 0.80 最差0.80 只有fold0  其他是上传错\n",
    "# conf_path    = f\"{github_folder}/configs/cls_ef_v0.json\",\n",
    "#                                weights_path = f\"/kaggle/input/e40-ef0\",\n",
    "#                                prefix       = \"ef_v0\",\n",
    "\n",
    "# 44 min 0.79 240 conf_path    = f\"{github_folder}/configs/cls_nf0_v5.json\", weights_path = f\"/kaggle/input/nf0-v5\", prefix       = \"nf0_v5_\",\n",
    "# \n",
    "#  cls_nf0_v5.json\",weights_path = nfnet-baseline-bs16/nfnet-baseline-bs16, prefix= \"nf0_v5_\",\n",
    "\n",
    "\n",
    "# 0.78\n",
    "# f\"{github_folder}/configs/cls_nf0_v5.json\",\n",
    "# weights_path = f\"/kaggle/input/nfnet-baseline-bs16/nfnet-baseline-bs16\",\n",
    "# prefix       = \"nf0_v5_\",\n",
    "\n",
    "\n",
    "## best only for now\n",
    "suffixes = [\"lb\"]#, \"f1_score\" \"last\"]\n",
    "folds    = [5, 10]\n",
    "\n",
    "for i in folds:\n",
    "    for sx in suffixes:\n",
    "        try:\n",
    "            model = load_model(conf_path    = f\"{github_folder}/configs/cls_ef_v9.json\",\n",
    "                                weights_path = f\"/kaggle/input/ef0-v9\",\n",
    "                                prefix       = \"ef_v9\",\n",
    "                               suffix       = sx,\n",
    "                               fold         = i,\n",
    "                               to_device    = False,)\n",
    "            models.append(model)\n",
    "        except Exception as e:\n",
    "            print(f\"model not found\", e)\n",
    "\n",
    "for i in folds:\n",
    "    for sx in suffixes:\n",
    "        try:\n",
    "            model = load_model(conf_path    = f\"{github_folder}/configs/cls_ef_v10.json\",\n",
    "                                weights_path = f\"/kaggle/input/ef-v10\",\n",
    "                                prefix       = \"ef_v10\",\n",
    "                               suffix       = sx,\n",
    "                               fold         = i,\n",
    "                               to_device    = False,)\n",
    "            models.append(model)\n",
    "        except Exception as e:\n",
    "            print(f\"model not found\", e)\n",
    "        \n",
    "for i in folds:\n",
    "    for sx in suffixes:\n",
    "        try:\n",
    "            model = load_model(conf_path    = f\"{github_folder}/configs/cls_ef_v11.json\",\n",
    "                                weights_path = f\"/kaggle/input/ef-v11\",\n",
    "                                prefix       = \"ef_v11\",\n",
    "                               suffix       = sx,\n",
    "                               fold         = i,\n",
    "                               to_device    = False,)\n",
    "            models.append(model)\n",
    "        except Exception as e:\n",
    "            print(f\"model not found\", e)\n",
    "\n",
    "for i in [10]:\n",
    "    for sx in suffixes:\n",
    "        try:\n",
    "            model = load_model(conf_path    = f\"{github_folder}/configs/cls_ef_v0.json\",\n",
    "                                weights_path = f\"/kaggle/input/effnet-b0-torch-avg-weights\",\n",
    "                                prefix       = \"ef_v0\",\n",
    "                               suffix       = sx,\n",
    "                               fold         = i,\n",
    "                               to_device    = False,)\n",
    "            models.append(model)\n",
    "        except Exception as e:\n",
    "            print(f\"model not found\", e)\n",
    "            \n",
    "# v30\n",
    "for i in [5]:\n",
    "    for sx in suffixes:\n",
    "        try:\n",
    "            model = load_model(conf_path    = f\"{github_folder}/configs/cls_ef_v0.json\",\n",
    "                                weights_path = f\"/kaggle/input/ef-v0-fulltrain\",\n",
    "                                prefix       = \"ef_v0\",\n",
    "                               suffix       = sx,\n",
    "                               fold         = i,\n",
    "                               to_device    = False,)\n",
    "            models.append(model)\n",
    "        except Exception as e:\n",
    "            print(f\"model not found\", e)\n",
    "\n",
    "# v32\n",
    "for i in [0]:\n",
    "    for sx in suffixes:\n",
    "        try:\n",
    "            model = load_model(conf_path    = f\"{github_folder}/configs/cls_ef_v7.json\",\n",
    "                                weights_path = f\"/kaggle/input/ef0-v7\",\n",
    "                                prefix       = \"ef_v7\",\n",
    "                               suffix       = sx,\n",
    "                               fold         = i,\n",
    "                               to_device    = False,)\n",
    "            models.append(model)\n",
    "        except Exception as e:\n",
    "            print(f\"model not found\", e)            \n",
    "\n",
    "\n",
    "len(models)\n",
    "#models = [models[0]]"
   ]
  },
  {
   "cell_type": "code",
   "execution_count": 7,
   "id": "40feae80",
   "metadata": {
    "execution": {
     "iopub.execute_input": "2023-05-17T20:52:00.128034Z",
     "iopub.status.busy": "2023-05-17T20:52:00.126830Z",
     "iopub.status.idle": "2023-05-17T20:52:00.137059Z",
     "shell.execute_reply": "2023-05-17T20:52:00.136062Z"
    },
    "papermill": {
     "duration": 0.02166,
     "end_time": "2023-05-17T20:52:00.139357",
     "exception": false,
     "start_time": "2023-05-17T20:52:00.117697",
     "status": "completed"
    },
    "tags": []
   },
   "outputs": [
    {
     "data": {
      "text/plain": [
       "'3.51M'"
      ]
     },
     "execution_count": 7,
     "metadata": {},
     "output_type": "execute_result"
    }
   ],
   "source": [
    "import torch\n",
    "\n",
    "def count_parameters(model):\n",
    "    return sum(p.numel() for p in model.parameters() if p.requires_grad)\n",
    "\n",
    "f\"{count_parameters(models[0])//1024/1024:.2f}M\""
   ]
  },
  {
   "cell_type": "markdown",
   "id": "bcd8084b",
   "metadata": {
    "papermill": {
     "duration": 0.007558,
     "end_time": "2023-05-17T20:52:00.154734",
     "exception": false,
     "start_time": "2023-05-17T20:52:00.147176",
     "status": "completed"
    },
    "tags": []
   },
   "source": [
    "## infer"
   ]
  },
  {
   "cell_type": "code",
   "execution_count": 8,
   "id": "b18cca41",
   "metadata": {
    "execution": {
     "iopub.execute_input": "2023-05-17T20:52:00.172158Z",
     "iopub.status.busy": "2023-05-17T20:52:00.171772Z",
     "iopub.status.idle": "2023-05-17T20:52:00.178371Z",
     "shell.execute_reply": "2023-05-17T20:52:00.177118Z"
    },
    "papermill": {
     "duration": 0.018158,
     "end_time": "2023-05-17T20:52:00.180671",
     "exception": false,
     "start_time": "2023-05-17T20:52:00.162513",
     "status": "completed"
    },
    "tags": []
   },
   "outputs": [],
   "source": [
    "CLASSES = \"abethr1 abhori1 abythr1 afbfly1 afdfly1 afecuc1 affeag1 afgfly1 afghor1 afmdov1 afpfly1 afpkin1 afpwag1 afrgos1 afrgrp1 afrjac1 afrthr1 amesun2 augbuz1 bagwea1 barswa bawhor2 bawman1 bcbeat1 beasun2 bkctch1 bkfruw1 blacra1 blacuc1 blakit1 blaplo1 blbpuf2 blcapa2 blfbus1 blhgon1 blhher1 blksaw1 blnmou1 blnwea1 bltapa1 bltbar1 bltori1 blwlap1 brcale1 brcsta1 brctch1 brcwea1 brican1 brobab1 broman1 brosun1 brrwhe3 brtcha1 brubru1 brwwar1 bswdov1 btweye2 bubwar2 butapa1 cabgre1 carcha1 carwoo1 categr ccbeat1 chespa1 chewea1 chibat1 chtapa3 chucis1 cibwar1 cohmar1 colsun2 combul2 combuz1 comsan crefra2 crheag1 crohor1 darbar1 darter3 didcuc1 dotbar1 dutdov1 easmog1 eaywag1 edcsun3 egygoo equaka1 eswdov1 eubeat1 fatrav1 fatwid1 fislov1 fotdro5 gabgos2 gargan gbesta1 gnbcam2 gnhsun1 gobbun1 gobsta5 gobwea1 golher1 grbcam1 grccra1 grecor greegr grewoo2 grwpyt1 gryapa1 grywrw1 gybfis1 gycwar3 gyhbus1 gyhkin1 gyhneg1 gyhspa1 gytbar1 hadibi1 hamerk1 hartur1 helgui hipbab1 hoopoe huncis1 hunsun2 joygre1 kerspa2 klacuc1 kvbsun1 laudov1 lawgol lesmaw1 lessts1 libeat1 litegr litswi1 litwea1 loceag1 lotcor1 lotlap1 luebus1 mabeat1 macshr1 malkin1 marsto1 marsun2 mcptit1 meypar1 moccha1 mouwag1 ndcsun2 nobfly1 norbro1 norcro1 norfis1 norpuf1 nubwoo1 pabspa1 palfly2 palpri1 piecro1 piekin1 pitwhy purgre2 pygbat1 quailf1 ratcis1 raybar1 rbsrob1 rebfir2 rebhor1 reboxp1 reccor reccuc1 reedov1 refbar2 refcro1 reftin1 refwar2 rehblu1 rehwea1 reisee2 rerswa1 rewsta1 rindov rocmar2 rostur1 ruegls1 rufcha2 sacibi2 sccsun2 scrcha1 scthon1 shesta1 sichor1 sincis1 slbgre1 slcbou1 sltnig1 sobfly1 somgre1 somtit4 soucit1 soufis1 spemou2 spepig1 spewea1 spfbar1 spfwea1 spmthr1 spwlap1 squher1 strher strsee1 stusta1 subbus1 supsta1 tacsun1 tafpri1 tamdov1 thrnig1 trobou1 varsun2 vibsta2 vilwea1 vimwea1 walsta1 wbgbir1 wbrcha2 wbswea1 wfbeat1 whbcan1 whbcou1 whbcro2 whbtit5 whbwea1 whbwhe3 whcpri2 whctur2 wheslf1 whhsaw1 whihel1 whrshr1 witswa1 wlwwar wookin1 woosan wtbeat1 yebapa1 yebbar1 yebduc1 yebere1 yebgre1 yebsto1 yeccan1 yefcan yelbis1 yenspu1 yertin1 yesbar1 yespet1 yetgre1 yewgre1\".split()\n",
    "N_CLASS = len(CLASSES)"
   ]
  },
  {
   "cell_type": "code",
   "execution_count": 9,
   "id": "0a657885",
   "metadata": {
    "execution": {
     "iopub.execute_input": "2023-05-17T20:52:00.198635Z",
     "iopub.status.busy": "2023-05-17T20:52:00.197893Z",
     "iopub.status.idle": "2023-05-17T20:52:00.210211Z",
     "shell.execute_reply": "2023-05-17T20:52:00.209099Z"
    },
    "papermill": {
     "duration": 0.024252,
     "end_time": "2023-05-17T20:52:00.212846",
     "exception": false,
     "start_time": "2023-05-17T20:52:00.188594",
     "status": "completed"
    },
    "tags": []
   },
   "outputs": [],
   "source": [
    "from torch.utils.data import Dataset, DataLoader\n",
    "\n",
    "frame_length = 5\n",
    "infer_frame_length = 5\n",
    "sample_rate  = 32000\n",
    "\n",
    "class TestDataset(Dataset):\n",
    "    def __init__(self, \n",
    "                 df: pd.DataFrame, \n",
    "                 sample_rate:int,\n",
    "                 frame_length:int,\n",
    "                 waveform\n",
    "                ):\n",
    "        \n",
    "        self.df = df\n",
    "        \n",
    "        self.frame_length = frame_length\n",
    "        self.sample_rate = sample_rate\n",
    "        \n",
    "        self.waveform = waveform\n",
    "        self.n_parts = math.ceil(len(waveform) / int(infer_frame_length * sample_rate))\n",
    "\n",
    "    def __len__(self):\n",
    "        return self.n_parts\n",
    "\n",
    "    def __getitem__(self, idx: int):\n",
    "        sample = self.df.loc[idx, :]\n",
    "        row_id = sample.row_id\n",
    "        sample_rate = self.sample_rate\n",
    "        frame_length = self.frame_length\n",
    "\n",
    "        end_seconds = int(sample.seconds)\n",
    "        start_seconds = int(end_seconds - 5)\n",
    "        \n",
    "        y = self.waveform[sample_rate * start_seconds : sample_rate * end_seconds].astype(np.float32)\n",
    "        \n",
    "        wav_tensor = torch.from_numpy(y)\n",
    "        if len(wav_tensor) == frame_length * sample_rate:\n",
    "            pass\n",
    "        elif len(wav_tensor) < frame_length * sample_rate:\n",
    "            wav_tensor = torch.nn.functional.pad(wav_tensor, (0, (frame_length * sample_rate) - len(wav_tensor)))\n",
    "        elif len(wav_tensor) > frame_length * sample_rate:\n",
    "            wav_tensor = wav_tensor[:(frame_length * sample_rate)]\n",
    "        \n",
    "        # add channel\n",
    "        wav_tensor = wav_tensor.unsqueeze(0)\n",
    "        \n",
    "        return {\n",
    "            \"wav_tensors\": wav_tensor,\n",
    "            \"row_id\": row_id,\n",
    "        }\n"
   ]
  },
  {
   "cell_type": "code",
   "execution_count": 10,
   "id": "da7e4a1c",
   "metadata": {
    "execution": {
     "iopub.execute_input": "2023-05-17T20:52:00.230837Z",
     "iopub.status.busy": "2023-05-17T20:52:00.230426Z",
     "iopub.status.idle": "2023-05-17T20:52:00.248958Z",
     "shell.execute_reply": "2023-05-17T20:52:00.247784Z"
    },
    "papermill": {
     "duration": 0.030772,
     "end_time": "2023-05-17T20:52:00.251687",
     "exception": false,
     "start_time": "2023-05-17T20:52:00.220915",
     "status": "completed"
    },
    "tags": []
   },
   "outputs": [],
   "source": [
    "all_audios = list(Path(\"../input/birdclef-2023/test_soundscapes/\").glob(\"*.ogg\")) \n",
    "seconds = [i for i in range(5, 605, 5)]\n",
    "\n",
    "class CFG:\n",
    "    batch_size=4\n",
    "    num_workers=4\n",
    "    \n",
    "config = CFG()\n",
    "\n",
    "def prediction_for_clip(\n",
    "    audio_path\n",
    "):\n",
    "    \n",
    "    device = torch.device(\"cpu\")\n",
    "    \n",
    "    # inference\n",
    "    prediction_dict = {}\n",
    "    \n",
    "    clip, _ = librosa.load(audio_path, sr=sample_rate, mono=True)\n",
    "    name_ = \"_\".join(audio_path.name.split(\".\")[:-1])\n",
    "    row_ids = [name_+f\"_{second}\" for second in seconds]\n",
    "\n",
    "    test_df = pd.DataFrame({\n",
    "        \"row_id\": row_ids,\n",
    "        \"seconds\": seconds\n",
    "    })\n",
    "    \n",
    "        \n",
    "    dataset = TestDataset(\n",
    "        df=test_df, \n",
    "        sample_rate=sample_rate,\n",
    "        frame_length=frame_length,\n",
    "        waveform=clip\n",
    "    )\n",
    "\n",
    "    loader = DataLoader(\n",
    "        dataset,\n",
    "        batch_size=config.batch_size, \n",
    "        num_workers=config.num_workers,\n",
    "        drop_last=False,\n",
    "        shuffle=False,\n",
    "        pin_memory=True\n",
    "    )\n",
    "\n",
    "    for data in loader:\n",
    "\n",
    "        row_ids = data['row_id']\n",
    "\n",
    "        for row_id in row_ids:\n",
    "            if row_id not in prediction_dict:\n",
    "                prediction_dict[str(row_id)] = []\n",
    "\n",
    "        probas = []\n",
    "\n",
    "        for model in models:\n",
    "            with torch.no_grad():\n",
    "                # print(type(data[\"wav_tensors\"]))\n",
    "                # print(data[\"wav_tensors\"].size())\n",
    "                # output = model(data[\"wav_tensors\"])\n",
    "                output = model(data[\"wav_tensors\"], is_test=True)[\"logit\"].sigmoid()\n",
    "#                     \n",
    "            for row_id_idx, row_id in enumerate(row_ids):\n",
    "                prediction_dict[str(row_id)].append(output[[row_id_idx]].numpy().reshape(-1))\n",
    "                                                        \n",
    "    for row_id in list(prediction_dict.keys()):\n",
    "                \n",
    "        logits = np.array(prediction_dict[row_id]).mean(0)\n",
    "        prediction_dict[row_id] = {}\n",
    "        for label in range(N_CLASS):\n",
    "            prediction_dict[row_id][CLASSES[label]] = logits[label]\n",
    "\n",
    "    return prediction_dict"
   ]
  },
  {
   "cell_type": "code",
   "execution_count": 11,
   "id": "416adbc3",
   "metadata": {
    "execution": {
     "iopub.execute_input": "2023-05-17T20:52:00.269618Z",
     "iopub.status.busy": "2023-05-17T20:52:00.269245Z",
     "iopub.status.idle": "2023-05-17T20:52:54.765152Z",
     "shell.execute_reply": "2023-05-17T20:52:54.763670Z"
    },
    "papermill": {
     "duration": 54.515302,
     "end_time": "2023-05-17T20:52:54.775106",
     "exception": false,
     "start_time": "2023-05-17T20:52:00.259804",
     "status": "completed"
    },
    "tags": []
   },
   "outputs": [
    {
     "name": "stdout",
     "output_type": "stream",
     "text": [
      "With concurrent ThreadPoolExecutor, time cost reduced to 54.5 for processing 1 audios\n"
     ]
    }
   ],
   "source": [
    "import concurrent.futures\n",
    "\n",
    "start = time.time()\n",
    "with concurrent.futures.ThreadPoolExecutor(max_workers=4) as executor:\n",
    "    dicts = list(executor.map(prediction_for_clip, all_audios))\n",
    "print(f\"With concurrent ThreadPoolExecutor, time cost reduced to {time.time()-start:.1f} for processing {len(all_audios)} audios\")\n"
   ]
  },
  {
   "cell_type": "code",
   "execution_count": 12,
   "id": "666d23ac",
   "metadata": {
    "execution": {
     "iopub.execute_input": "2023-05-17T20:52:54.794330Z",
     "iopub.status.busy": "2023-05-17T20:52:54.793030Z",
     "iopub.status.idle": "2023-05-17T20:52:54.943823Z",
     "shell.execute_reply": "2023-05-17T20:52:54.942497Z"
    },
    "papermill": {
     "duration": 0.163412,
     "end_time": "2023-05-17T20:52:54.946546",
     "exception": false,
     "start_time": "2023-05-17T20:52:54.783134",
     "status": "completed"
    },
    "tags": []
   },
   "outputs": [
    {
     "name": "stdout",
     "output_type": "stream",
     "text": [
      "\n",
      "total rows : 120\n",
      "\n"
     ]
    },
    {
     "data": {
      "text/html": [
       "<div>\n",
       "<style scoped>\n",
       "    .dataframe tbody tr th:only-of-type {\n",
       "        vertical-align: middle;\n",
       "    }\n",
       "\n",
       "    .dataframe tbody tr th {\n",
       "        vertical-align: top;\n",
       "    }\n",
       "\n",
       "    .dataframe thead th {\n",
       "        text-align: right;\n",
       "    }\n",
       "</style>\n",
       "<table border=\"1\" class=\"dataframe\">\n",
       "  <thead>\n",
       "    <tr style=\"text-align: right;\">\n",
       "      <th></th>\n",
       "      <th>row_id</th>\n",
       "      <th>abethr1</th>\n",
       "      <th>abhori1</th>\n",
       "      <th>abythr1</th>\n",
       "      <th>afbfly1</th>\n",
       "      <th>afdfly1</th>\n",
       "      <th>afecuc1</th>\n",
       "      <th>affeag1</th>\n",
       "      <th>afgfly1</th>\n",
       "      <th>afghor1</th>\n",
       "      <th>...</th>\n",
       "      <th>yebsto1</th>\n",
       "      <th>yeccan1</th>\n",
       "      <th>yefcan</th>\n",
       "      <th>yelbis1</th>\n",
       "      <th>yenspu1</th>\n",
       "      <th>yertin1</th>\n",
       "      <th>yesbar1</th>\n",
       "      <th>yespet1</th>\n",
       "      <th>yetgre1</th>\n",
       "      <th>yewgre1</th>\n",
       "    </tr>\n",
       "  </thead>\n",
       "  <tbody>\n",
       "    <tr>\n",
       "      <th>0</th>\n",
       "      <td>soundscape_29201_5</td>\n",
       "      <td>0.053378</td>\n",
       "      <td>0.013911</td>\n",
       "      <td>0.027546</td>\n",
       "      <td>0.001620</td>\n",
       "      <td>0.003502</td>\n",
       "      <td>0.012571</td>\n",
       "      <td>0.012280</td>\n",
       "      <td>0.003905</td>\n",
       "      <td>0.011911</td>\n",
       "      <td>...</td>\n",
       "      <td>0.001206</td>\n",
       "      <td>0.001952</td>\n",
       "      <td>0.015644</td>\n",
       "      <td>0.004613</td>\n",
       "      <td>0.006087</td>\n",
       "      <td>0.014780</td>\n",
       "      <td>0.003944</td>\n",
       "      <td>0.003665</td>\n",
       "      <td>0.005191</td>\n",
       "      <td>0.007374</td>\n",
       "    </tr>\n",
       "    <tr>\n",
       "      <th>1</th>\n",
       "      <td>soundscape_29201_10</td>\n",
       "      <td>0.027837</td>\n",
       "      <td>0.063583</td>\n",
       "      <td>0.005887</td>\n",
       "      <td>0.027760</td>\n",
       "      <td>0.007703</td>\n",
       "      <td>0.009791</td>\n",
       "      <td>0.018649</td>\n",
       "      <td>0.006508</td>\n",
       "      <td>0.013148</td>\n",
       "      <td>...</td>\n",
       "      <td>0.001859</td>\n",
       "      <td>0.006037</td>\n",
       "      <td>0.036053</td>\n",
       "      <td>0.041102</td>\n",
       "      <td>0.013016</td>\n",
       "      <td>0.016755</td>\n",
       "      <td>0.011931</td>\n",
       "      <td>0.011364</td>\n",
       "      <td>0.005106</td>\n",
       "      <td>0.012909</td>\n",
       "    </tr>\n",
       "    <tr>\n",
       "      <th>2</th>\n",
       "      <td>soundscape_29201_15</td>\n",
       "      <td>0.036825</td>\n",
       "      <td>0.020818</td>\n",
       "      <td>0.037210</td>\n",
       "      <td>0.017486</td>\n",
       "      <td>0.005414</td>\n",
       "      <td>0.015562</td>\n",
       "      <td>0.015539</td>\n",
       "      <td>0.008906</td>\n",
       "      <td>0.008869</td>\n",
       "      <td>...</td>\n",
       "      <td>0.000936</td>\n",
       "      <td>0.005918</td>\n",
       "      <td>0.034370</td>\n",
       "      <td>0.006179</td>\n",
       "      <td>0.004029</td>\n",
       "      <td>0.023320</td>\n",
       "      <td>0.006574</td>\n",
       "      <td>0.014152</td>\n",
       "      <td>0.017586</td>\n",
       "      <td>0.020974</td>\n",
       "    </tr>\n",
       "    <tr>\n",
       "      <th>3</th>\n",
       "      <td>soundscape_29201_20</td>\n",
       "      <td>0.008926</td>\n",
       "      <td>0.017675</td>\n",
       "      <td>0.011207</td>\n",
       "      <td>0.016896</td>\n",
       "      <td>0.014212</td>\n",
       "      <td>0.010376</td>\n",
       "      <td>0.014910</td>\n",
       "      <td>0.008860</td>\n",
       "      <td>0.011449</td>\n",
       "      <td>...</td>\n",
       "      <td>0.001704</td>\n",
       "      <td>0.005474</td>\n",
       "      <td>0.024420</td>\n",
       "      <td>0.016400</td>\n",
       "      <td>0.005692</td>\n",
       "      <td>0.015152</td>\n",
       "      <td>0.022302</td>\n",
       "      <td>0.005707</td>\n",
       "      <td>0.008253</td>\n",
       "      <td>0.014152</td>\n",
       "    </tr>\n",
       "    <tr>\n",
       "      <th>4</th>\n",
       "      <td>soundscape_29201_25</td>\n",
       "      <td>0.011303</td>\n",
       "      <td>0.017986</td>\n",
       "      <td>0.008282</td>\n",
       "      <td>0.022437</td>\n",
       "      <td>0.013093</td>\n",
       "      <td>0.008577</td>\n",
       "      <td>0.019660</td>\n",
       "      <td>0.011060</td>\n",
       "      <td>0.012454</td>\n",
       "      <td>...</td>\n",
       "      <td>0.001701</td>\n",
       "      <td>0.005980</td>\n",
       "      <td>0.015507</td>\n",
       "      <td>0.017388</td>\n",
       "      <td>0.006887</td>\n",
       "      <td>0.014548</td>\n",
       "      <td>0.015489</td>\n",
       "      <td>0.005899</td>\n",
       "      <td>0.008831</td>\n",
       "      <td>0.012387</td>\n",
       "    </tr>\n",
       "  </tbody>\n",
       "</table>\n",
       "<p>5 rows × 265 columns</p>\n",
       "</div>"
      ],
      "text/plain": [
       "                row_id   abethr1   abhori1   abythr1   afbfly1   afdfly1  \\\n",
       "0   soundscape_29201_5  0.053378  0.013911  0.027546  0.001620  0.003502   \n",
       "1  soundscape_29201_10  0.027837  0.063583  0.005887  0.027760  0.007703   \n",
       "2  soundscape_29201_15  0.036825  0.020818  0.037210  0.017486  0.005414   \n",
       "3  soundscape_29201_20  0.008926  0.017675  0.011207  0.016896  0.014212   \n",
       "4  soundscape_29201_25  0.011303  0.017986  0.008282  0.022437  0.013093   \n",
       "\n",
       "    afecuc1   affeag1   afgfly1   afghor1  ...   yebsto1   yeccan1    yefcan  \\\n",
       "0  0.012571  0.012280  0.003905  0.011911  ...  0.001206  0.001952  0.015644   \n",
       "1  0.009791  0.018649  0.006508  0.013148  ...  0.001859  0.006037  0.036053   \n",
       "2  0.015562  0.015539  0.008906  0.008869  ...  0.000936  0.005918  0.034370   \n",
       "3  0.010376  0.014910  0.008860  0.011449  ...  0.001704  0.005474  0.024420   \n",
       "4  0.008577  0.019660  0.011060  0.012454  ...  0.001701  0.005980  0.015507   \n",
       "\n",
       "    yelbis1   yenspu1   yertin1   yesbar1   yespet1   yetgre1   yewgre1  \n",
       "0  0.004613  0.006087  0.014780  0.003944  0.003665  0.005191  0.007374  \n",
       "1  0.041102  0.013016  0.016755  0.011931  0.011364  0.005106  0.012909  \n",
       "2  0.006179  0.004029  0.023320  0.006574  0.014152  0.017586  0.020974  \n",
       "3  0.016400  0.005692  0.015152  0.022302  0.005707  0.008253  0.014152  \n",
       "4  0.017388  0.006887  0.014548  0.015489  0.005899  0.008831  0.012387  \n",
       "\n",
       "[5 rows x 265 columns]"
      ]
     },
     "execution_count": 12,
     "metadata": {},
     "output_type": "execute_result"
    }
   ],
   "source": [
    "prediction_dicts = {}\n",
    "for d in dicts:\n",
    "    prediction_dicts.update(d)\n",
    "    \n",
    "submission = pd.DataFrame.from_dict(prediction_dicts, \"index\").rename_axis(\"row_id\").reset_index()\n",
    "submission.to_csv(\"submission.csv\", index=False)\n",
    "print(f\"\"\"\n",
    "total rows : {len(submission)}\n",
    "\"\"\")\n",
    "submission.head()"
   ]
  },
  {
   "cell_type": "code",
   "execution_count": null,
   "id": "1eda72a1",
   "metadata": {
    "papermill": {
     "duration": 0.00836,
     "end_time": "2023-05-17T20:52:54.963543",
     "exception": false,
     "start_time": "2023-05-17T20:52:54.955183",
     "status": "completed"
    },
    "tags": []
   },
   "outputs": [],
   "source": []
  },
  {
   "cell_type": "code",
   "execution_count": null,
   "id": "83b5ecb5",
   "metadata": {
    "papermill": {
     "duration": 0.00839,
     "end_time": "2023-05-17T20:52:54.980610",
     "exception": false,
     "start_time": "2023-05-17T20:52:54.972220",
     "status": "completed"
    },
    "tags": []
   },
   "outputs": [],
   "source": []
  },
  {
   "cell_type": "code",
   "execution_count": null,
   "id": "78b50cc2",
   "metadata": {
    "papermill": {
     "duration": 0.008332,
     "end_time": "2023-05-17T20:52:54.997608",
     "exception": false,
     "start_time": "2023-05-17T20:52:54.989276",
     "status": "completed"
    },
    "tags": []
   },
   "outputs": [],
   "source": []
  }
 ],
 "metadata": {
  "kernelspec": {
   "display_name": "Python 3",
   "language": "python",
   "name": "python3"
  },
  "language_info": {
   "codemirror_mode": {
    "name": "ipython",
    "version": 3
   },
   "file_extension": ".py",
   "mimetype": "text/x-python",
   "name": "python",
   "nbconvert_exporter": "python",
   "pygments_lexer": "ipython3",
   "version": "3.10.10"
  },
  "papermill": {
   "default_parameters": {},
   "duration": 116.803463,
   "end_time": "2023-05-17T20:52:57.511951",
   "environment_variables": {},
   "exception": null,
   "input_path": "__notebook__.ipynb",
   "output_path": "__notebook__.ipynb",
   "parameters": {},
   "start_time": "2023-05-17T20:51:00.708488",
   "version": "2.4.0"
  }
 },
 "nbformat": 4,
 "nbformat_minor": 5
}
