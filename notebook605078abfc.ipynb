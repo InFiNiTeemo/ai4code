{
 "cells": [
  {
   "cell_type": "code",
   "execution_count": 1,
   "id": "8d125ddd",
   "metadata": {
    "_kg_hide-output": true,
    "execution": {
     "iopub.execute_input": "2023-05-02T17:16:01.861520Z",
     "iopub.status.busy": "2023-05-02T17:16:01.860716Z",
     "iopub.status.idle": "2023-05-02T17:17:21.347734Z",
     "shell.execute_reply": "2023-05-02T17:17:21.346524Z"
    },
    "papermill": {
     "duration": 79.498102,
     "end_time": "2023-05-02T17:17:21.350428",
     "exception": false,
     "start_time": "2023-05-02T17:16:01.852326",
     "status": "completed"
    },
    "tags": []
   },
   "outputs": [
    {
     "name": "stdout",
     "output_type": "stream",
     "text": [
      "\u001b[31mERROR: torchaudio-0.8.1-cp37-cp37m-manylinux1_x86_64.whl is not a supported wheel on this platform.\u001b[0m\u001b[31m\r\n",
      "\u001b[0mProcessing /kaggle/input/birds-inference-pip-wheels/audiomentations-0.16.0-py3-none-any.whl\r\n",
      "Installing collected packages: audiomentations\r\n",
      "Successfully installed audiomentations-0.16.0\r\n",
      "\u001b[33mWARNING: Running pip as the 'root' user can result in broken permissions and conflicting behaviour with the system package manager. It is recommended to use a virtual environment instead: https://pip.pypa.io/warnings/venv\u001b[0m\u001b[33m\r\n",
      "\u001b[0mProcessing /kaggle/input/birds-inference-pip-wheels/torchlibrosa-0.0.9-py3-none-any.whl\r\n",
      "Installing collected packages: torchlibrosa\r\n",
      "Successfully installed torchlibrosa-0.0.9\r\n",
      "\u001b[33mWARNING: Running pip as the 'root' user can result in broken permissions and conflicting behaviour with the system package manager. It is recommended to use a virtual environment instead: https://pip.pypa.io/warnings/venv\u001b[0m\u001b[33m\r\n",
      "\u001b[0mProcessing /kaggle/input/nnaudio031/nnAudio-0.3.1-py3-none-any.whl\r\n",
      "Requirement already satisfied: scipy in /opt/conda/lib/python3.10/site-packages (from nnAudio==0.3.1) (1.9.3)\r\n",
      "Requirement already satisfied: numpy<1.26.0,>=1.18.5 in /opt/conda/lib/python3.10/site-packages (from scipy->nnAudio==0.3.1) (1.23.5)\r\n",
      "Installing collected packages: nnAudio\r\n",
      "Successfully installed nnAudio-0.3.1\r\n",
      "\u001b[33mWARNING: Running pip as the 'root' user can result in broken permissions and conflicting behaviour with the system package manager. It is recommended to use a virtual environment instead: https://pip.pypa.io/warnings/venv\u001b[0m\u001b[33m\r\n",
      "\u001b[0mcp: cannot stat '../input/timmlatest': No such file or directory\r\n",
      "\u001b[31mERROR: Invalid requirement: '../working/timmlatest'\r\n",
      "Hint: It looks like a path. File '../working/timmlatest' does not exist.\u001b[0m\u001b[31m\r\n",
      "\u001b[0m"
     ]
    }
   ],
   "source": [
    "## setup\n",
    "## TODO: move all under bird2022wheels\n",
    "\n",
    "!pip install ../input/birds-inference-pip-wheels/torchaudio-0.8.1-cp37-cp37m-manylinux1_x86_64.whl ../input/birds-inference-pip-wheels/torch-1.8.1-cp37-cp37m-manylinux1_x86_64.whl\n",
    "!pip install ../input/birds-inference-pip-wheels/audiomentations-0.16.0-py3-none-any.whl --no-index --no-deps\n",
    "!pip install ../input/birds-inference-pip-wheels/torchlibrosa-0.0.9-py3-none-any.whl --no-index --no-deps\n",
    "!pip install ../input/nnaudio031/nnAudio-0.3.1-py3-none-any.whl\n",
    "!cp -r ../input/timmlatest ../working/timmlatest\n",
    "!pip install -U ../working/timmlatest\n",
    "!rm -rf ../working/timmlatest\n",
    "\n",
    "# !pip install nnAudio"
   ]
  },
  {
   "cell_type": "code",
   "execution_count": 2,
   "id": "7eb03dd2",
   "metadata": {
    "execution": {
     "iopub.execute_input": "2023-05-02T17:17:21.363937Z",
     "iopub.status.busy": "2023-05-02T17:17:21.363610Z",
     "iopub.status.idle": "2023-05-02T17:17:21.367827Z",
     "shell.execute_reply": "2023-05-02T17:17:21.366903Z"
    },
    "papermill": {
     "duration": 0.013138,
     "end_time": "2023-05-02T17:17:21.369803",
     "exception": false,
     "start_time": "2023-05-02T17:17:21.356665",
     "status": "completed"
    },
    "tags": []
   },
   "outputs": [],
   "source": [
    "# !ls /kaggle/input/blef0503/\n",
    "# !ls /kaggle/input/nfnet-baseline-bs16/nfnet-baseline-bs16/nf0_v5_TimmClassifier_eca_nfnet_l0_0_lb\n",
    "# !ls /kaggle/input/birds-inference-pip-wheels/*\n",
    "# !pip freeze|grep torch"
   ]
  },
  {
   "cell_type": "code",
   "execution_count": 3,
   "id": "605e7435",
   "metadata": {
    "execution": {
     "iopub.execute_input": "2023-05-02T17:17:21.382853Z",
     "iopub.status.busy": "2023-05-02T17:17:21.382053Z",
     "iopub.status.idle": "2023-05-02T17:17:21.388116Z",
     "shell.execute_reply": "2023-05-02T17:17:21.387321Z"
    },
    "papermill": {
     "duration": 0.014299,
     "end_time": "2023-05-02T17:17:21.389847",
     "exception": false,
     "start_time": "2023-05-02T17:17:21.375548",
     "status": "completed"
    },
    "tags": []
   },
   "outputs": [],
   "source": [
    "## https://github.com/Selimonder/birdclef2022/\n",
    "import os, sys, glob, math\n",
    "\n",
    "os.environ[\"MKL_NUM_THREADS\"] = \"1\"\n",
    "os.environ[\"OMP_NUM_THREADS\"] = \"1\"\n",
    "\n",
    "github_folder = \"/kaggle/input/blef0503\"\n",
    "sys.path.append(github_folder)"
   ]
  },
  {
   "cell_type": "code",
   "execution_count": 4,
   "id": "61ab3a7b",
   "metadata": {
    "execution": {
     "iopub.execute_input": "2023-05-02T17:17:21.402919Z",
     "iopub.status.busy": "2023-05-02T17:17:21.402192Z",
     "iopub.status.idle": "2023-05-02T17:17:26.871556Z",
     "shell.execute_reply": "2023-05-02T17:17:26.870739Z"
    },
    "papermill": {
     "duration": 5.477835,
     "end_time": "2023-05-02T17:17:26.873643",
     "exception": false,
     "start_time": "2023-05-02T17:17:21.395808",
     "status": "completed"
    },
    "tags": []
   },
   "outputs": [
    {
     "name": "stderr",
     "output_type": "stream",
     "text": [
      "/opt/conda/lib/python3.10/site-packages/scipy/__init__.py:146: UserWarning: A NumPy version >=1.16.5 and <1.23.0 is required for this version of SciPy (detected version 1.23.5\n",
      "  warnings.warn(f\"A NumPy version >={np_minversion} and <{np_maxversion}\"\n",
      "/opt/conda/lib/python3.10/site-packages/nnAudio/Spectrogram.py:4: Warning: importing Spectrogram subpackage will be deprecated soon. You should import the feature extractor from the feature subpackage. See actual documentation.\n",
      "  warnings.warn(\n"
     ]
    }
   ],
   "source": [
    "import cv2\n",
    "import gc\n",
    "import torch\n",
    "import librosa\n",
    "import argparse, warnings\n",
    "\n",
    "import numpy as np\n",
    "import pandas as pd\n",
    "import IPython.display as ipd\n",
    "\n",
    "import zoo\n",
    "from training.config import load_config\n",
    "from training.datasets import BirdDatasetOOF\n",
    "\n",
    "\n",
    "cv2.ocl.setUseOpenCL(False)\n",
    "cv2.setNumThreads(0)\n",
    "\n",
    "from tqdm import tqdm\n",
    "from torch.utils.data import DataLoader\n",
    "\n",
    "warnings.simplefilter(\"ignore\")"
   ]
  },
  {
   "cell_type": "markdown",
   "id": "9d2e6235",
   "metadata": {
    "papermill": {
     "duration": 0.006199,
     "end_time": "2023-05-02T17:17:26.886134",
     "exception": false,
     "start_time": "2023-05-02T17:17:26.879935",
     "status": "completed"
    },
    "tags": []
   },
   "source": [
    "## models"
   ]
  },
  {
   "cell_type": "code",
   "execution_count": 5,
   "id": "16faaa68",
   "metadata": {
    "execution": {
     "iopub.execute_input": "2023-05-02T17:17:26.899225Z",
     "iopub.status.busy": "2023-05-02T17:17:26.898593Z",
     "iopub.status.idle": "2023-05-02T17:17:36.653695Z",
     "shell.execute_reply": "2023-05-02T17:17:36.652352Z"
    },
    "papermill": {
     "duration": 9.76366,
     "end_time": "2023-05-02T17:17:36.655654",
     "exception": false,
     "start_time": "2023-05-02T17:17:26.891994",
     "status": "completed"
    },
    "tags": []
   },
   "outputs": [
    {
     "name": "stdout",
     "output_type": "stream",
     "text": [
      "/kaggle/input/nfnet-baseline-bs16/nfnet-baseline-bs16/nf0_v5_TimmClassifier_eca_nfnet_l0_0_lb\n",
      "initing CLS features model 15 duration...\n",
      "pretrained model...\n",
      "{'in_chans': 1, 'drop_path_rate': 0.2, 'drop_rate': 0.5}\n",
      "=> loading checkpoint '/kaggle/input/nfnet-baseline-bs16/nfnet-baseline-bs16/nf0_v5_TimmClassifier_eca_nfnet_l0_0_lb''\n",
      "epoch 18\n",
      "/kaggle/input/nfnet-baseline-bs16/nfnet-baseline-bs16/nf0_v5_TimmClassifier_eca_nfnet_l0_1_lb\n",
      "initing CLS features model 15 duration...\n",
      "pretrained model...\n",
      "{'in_chans': 1, 'drop_path_rate': 0.2, 'drop_rate': 0.5}\n",
      "=> loading checkpoint '/kaggle/input/nfnet-baseline-bs16/nfnet-baseline-bs16/nf0_v5_TimmClassifier_eca_nfnet_l0_1_lb''\n",
      "epoch 14\n",
      "/kaggle/input/nfnet-baseline-bs16/nfnet-baseline-bs16/nf0_v5_TimmClassifier_eca_nfnet_l0_2_lb\n",
      "initing CLS features model 15 duration...\n",
      "pretrained model...\n",
      "{'in_chans': 1, 'drop_path_rate': 0.2, 'drop_rate': 0.5}\n",
      "=> loading checkpoint '/kaggle/input/nfnet-baseline-bs16/nfnet-baseline-bs16/nf0_v5_TimmClassifier_eca_nfnet_l0_2_lb''\n",
      "epoch 15\n",
      "/kaggle/input/nfnet-baseline-bs16/nfnet-baseline-bs16/nf0_v5_TimmClassifier_eca_nfnet_l0_3_lb\n",
      "initing CLS features model 15 duration...\n",
      "pretrained model...\n",
      "{'in_chans': 1, 'drop_path_rate': 0.2, 'drop_rate': 0.5}\n",
      "=> loading checkpoint '/kaggle/input/nfnet-baseline-bs16/nfnet-baseline-bs16/nf0_v5_TimmClassifier_eca_nfnet_l0_3_lb''\n",
      "epoch 9\n",
      "/kaggle/input/nfnet-baseline-bs16/nfnet-baseline-bs16/nf0_v5_TimmClassifier_eca_nfnet_l0_4_lb\n",
      "initing CLS features model 15 duration...\n",
      "pretrained model...\n",
      "{'in_chans': 1, 'drop_path_rate': 0.2, 'drop_rate': 0.5}\n",
      "=> loading checkpoint '/kaggle/input/nfnet-baseline-bs16/nfnet-baseline-bs16/nf0_v5_TimmClassifier_eca_nfnet_l0_4_lb''\n",
      "epoch 3\n"
     ]
    }
   ],
   "source": [
    "def load_model(conf_path: str, weights_path: str, prefix: str, suffix: str, fold: int, to_device: bool = True):\n",
    "    conf = load_config(conf_path)\n",
    "    conf['encoder_params']['pretrained'] = False\n",
    "    \n",
    "    snapshot_name = \"{}{}_{}_{}_{}\".format(prefix, conf[\"network\"], conf[\"encoder_params\"][\"encoder\"], fold, suffix)\n",
    "    weights_path = os.path.join(weights_path, snapshot_name)\n",
    "    print(weights_path)\n",
    "    model = zoo.__dict__[conf[\"network\"]](**conf[\"encoder_params\"])\n",
    "    model = torch.nn.DataParallel(model)\n",
    "    print(\"=> loading checkpoint '{}''\".format(weights_path))\n",
    "    checkpoint = torch.load(weights_path, map_location=\"cpu\")\n",
    "    print(\"epoch\", checkpoint[\"epoch\"])\n",
    "    model.load_state_dict(checkpoint[\"state_dict\"])\n",
    "    model.eval()\n",
    "    if to_device: model.cuda()\n",
    "    return model\n",
    "\n",
    "models = []\n",
    "\n",
    "## best only for now\n",
    "suffixes = [\"lb\"]#, \"f1_score\" \"last\"]\n",
    "folds    = 5\n",
    "\n",
    "for i in range(folds):\n",
    "    for sx in suffixes:\n",
    "        try:\n",
    "            model = load_model(conf_path    = f\"{github_folder}/configs/cls_nf0_v5.json\",\n",
    "                               weights_path = f\"/kaggle/input/nfnet-baseline-bs16/nfnet-baseline-bs16\",\n",
    "                               prefix       = \"nf0_v5_\",\n",
    "                               suffix       = sx,\n",
    "                               fold         = i,\n",
    "                               to_device    = False,)\n",
    "            models.append(model)\n",
    "        except Exception as e:\n",
    "            print(f\"model not found\", e)"
   ]
  },
  {
   "cell_type": "code",
   "execution_count": 6,
   "id": "f0e8d3ff",
   "metadata": {
    "execution": {
     "iopub.execute_input": "2023-05-02T17:17:36.670821Z",
     "iopub.status.busy": "2023-05-02T17:17:36.670081Z",
     "iopub.status.idle": "2023-05-02T17:17:36.676827Z",
     "shell.execute_reply": "2023-05-02T17:17:36.675904Z"
    },
    "papermill": {
     "duration": 0.015936,
     "end_time": "2023-05-02T17:17:36.678663",
     "exception": false,
     "start_time": "2023-05-02T17:17:36.662727",
     "status": "completed"
    },
    "tags": []
   },
   "outputs": [
    {
     "data": {
      "text/plain": [
       "5"
      ]
     },
     "execution_count": 6,
     "metadata": {},
     "output_type": "execute_result"
    }
   ],
   "source": [
    "len(models)"
   ]
  },
  {
   "cell_type": "markdown",
   "id": "baf4f990",
   "metadata": {
    "papermill": {
     "duration": 0.006284,
     "end_time": "2023-05-02T17:17:36.691527",
     "exception": false,
     "start_time": "2023-05-02T17:17:36.685243",
     "status": "completed"
    },
    "tags": []
   },
   "source": [
    "## infer"
   ]
  },
  {
   "cell_type": "code",
   "execution_count": 7,
   "id": "6a9461d7",
   "metadata": {
    "execution": {
     "iopub.execute_input": "2023-05-02T17:17:36.705622Z",
     "iopub.status.busy": "2023-05-02T17:17:36.705383Z",
     "iopub.status.idle": "2023-05-02T17:17:36.711050Z",
     "shell.execute_reply": "2023-05-02T17:17:36.710272Z"
    },
    "papermill": {
     "duration": 0.014829,
     "end_time": "2023-05-02T17:17:36.712829",
     "exception": false,
     "start_time": "2023-05-02T17:17:36.698000",
     "status": "completed"
    },
    "tags": []
   },
   "outputs": [],
   "source": [
    "CLASSES = \"abethr1 abhori1 abythr1 afbfly1 afdfly1 afecuc1 affeag1 afgfly1 afghor1 afmdov1 afpfly1 afpkin1 afpwag1 afrgos1 afrgrp1 afrjac1 afrthr1 amesun2 augbuz1 bagwea1 barswa bawhor2 bawman1 bcbeat1 beasun2 bkctch1 bkfruw1 blacra1 blacuc1 blakit1 blaplo1 blbpuf2 blcapa2 blfbus1 blhgon1 blhher1 blksaw1 blnmou1 blnwea1 bltapa1 bltbar1 bltori1 blwlap1 brcale1 brcsta1 brctch1 brcwea1 brican1 brobab1 broman1 brosun1 brrwhe3 brtcha1 brubru1 brwwar1 bswdov1 btweye2 bubwar2 butapa1 cabgre1 carcha1 carwoo1 categr ccbeat1 chespa1 chewea1 chibat1 chtapa3 chucis1 cibwar1 cohmar1 colsun2 combul2 combuz1 comsan crefra2 crheag1 crohor1 darbar1 darter3 didcuc1 dotbar1 dutdov1 easmog1 eaywag1 edcsun3 egygoo equaka1 eswdov1 eubeat1 fatrav1 fatwid1 fislov1 fotdro5 gabgos2 gargan gbesta1 gnbcam2 gnhsun1 gobbun1 gobsta5 gobwea1 golher1 grbcam1 grccra1 grecor greegr grewoo2 grwpyt1 gryapa1 grywrw1 gybfis1 gycwar3 gyhbus1 gyhkin1 gyhneg1 gyhspa1 gytbar1 hadibi1 hamerk1 hartur1 helgui hipbab1 hoopoe huncis1 hunsun2 joygre1 kerspa2 klacuc1 kvbsun1 laudov1 lawgol lesmaw1 lessts1 libeat1 litegr litswi1 litwea1 loceag1 lotcor1 lotlap1 luebus1 mabeat1 macshr1 malkin1 marsto1 marsun2 mcptit1 meypar1 moccha1 mouwag1 ndcsun2 nobfly1 norbro1 norcro1 norfis1 norpuf1 nubwoo1 pabspa1 palfly2 palpri1 piecro1 piekin1 pitwhy purgre2 pygbat1 quailf1 ratcis1 raybar1 rbsrob1 rebfir2 rebhor1 reboxp1 reccor reccuc1 reedov1 refbar2 refcro1 reftin1 refwar2 rehblu1 rehwea1 reisee2 rerswa1 rewsta1 rindov rocmar2 rostur1 ruegls1 rufcha2 sacibi2 sccsun2 scrcha1 scthon1 shesta1 sichor1 sincis1 slbgre1 slcbou1 sltnig1 sobfly1 somgre1 somtit4 soucit1 soufis1 spemou2 spepig1 spewea1 spfbar1 spfwea1 spmthr1 spwlap1 squher1 strher strsee1 stusta1 subbus1 supsta1 tacsun1 tafpri1 tamdov1 thrnig1 trobou1 varsun2 vibsta2 vilwea1 vimwea1 walsta1 wbgbir1 wbrcha2 wbswea1 wfbeat1 whbcan1 whbcou1 whbcro2 whbtit5 whbwea1 whbwhe3 whcpri2 whctur2 wheslf1 whhsaw1 whihel1 whrshr1 witswa1 wlwwar wookin1 woosan wtbeat1 yebapa1 yebbar1 yebduc1 yebere1 yebgre1 yebsto1 yeccan1 yefcan yelbis1 yenspu1 yertin1 yesbar1 yespet1 yetgre1 yewgre1\".split()\n",
    "N_CLASS = len(CLASSES)"
   ]
  },
  {
   "cell_type": "code",
   "execution_count": 8,
   "id": "18cd0ac3",
   "metadata": {
    "execution": {
     "iopub.execute_input": "2023-05-02T17:17:36.727136Z",
     "iopub.status.busy": "2023-05-02T17:17:36.726441Z",
     "iopub.status.idle": "2023-05-02T17:17:36.735671Z",
     "shell.execute_reply": "2023-05-02T17:17:36.734873Z"
    },
    "papermill": {
     "duration": 0.01822,
     "end_time": "2023-05-02T17:17:36.737402",
     "exception": false,
     "start_time": "2023-05-02T17:17:36.719182",
     "status": "completed"
    },
    "tags": []
   },
   "outputs": [],
   "source": [
    "\n",
    "def prepare_clip(fpath, frame_length, sample_rate):\n",
    "    \"\"\"\n",
    "    Prepare audio clip for inference\n",
    "    \"\"\"\n",
    "    infer_frame_length = frame_length\n",
    "    batch = {\"wav_tensors\": [], \"end_times\": []}\n",
    "    \n",
    "    waveform, sample_rate = librosa.load(fpath, sr=sample_rate, mono=True)\n",
    "    n_parts = math.ceil(len(waveform) / int(infer_frame_length * sample_rate))\n",
    "    \n",
    "    for seg_idx in range(n_parts): \n",
    "        end_time = (seg_idx + 1) * frame_length\n",
    "        seg_wav  = waveform[(end_time*sample_rate)-(sample_rate*frame_length):end_time*sample_rate]\n",
    "        \n",
    "        wav_tensor = torch.from_numpy(seg_wav)\n",
    "        \n",
    "        if len(wav_tensor) == frame_length * sample_rate:\n",
    "            batch[\"wav_tensors\"].append(wav_tensor.unsqueeze(0))\n",
    "        elif len(wav_tensor) < frame_length * sample_rate:\n",
    "            wav_tensor = torch.nn.functional.pad(wav_tensor, (0, (frame_length * sample_rate) - len(wav_tensor)))\n",
    "            batch[\"wav_tensors\"].append(wav_tensor.unsqueeze(0))\n",
    "        elif len(wav_tensor) > frame_length * sample_rate:\n",
    "            wav_tensor = wav_tensor[:(frame_length * sample_rate)]\n",
    "            batch[\"wav_tensors\"].append(wav_tensor.unsqueeze(0))\n",
    "            \n",
    "        batch[\"end_times\"].append(end_time)\n",
    "    batch[\"wav_tensors\"] = torch.stack(batch[\"wav_tensors\"]).cuda()\n",
    "    return batch, n_parts, len(waveform)\n",
    "\n",
    "@torch.no_grad()\n",
    "def predict_clip(models, batch, n_parts, frame_length):\n",
    "    preds = np.zeros([len(models), n_parts, N_CLASS])\n",
    "    for m_idx, model in enumerate(models):\n",
    "        with torch.cuda.amp.autocast():\n",
    "            preds[m_idx] = model(batch[\"wav_tensors\"], is_test=True)[\"logit\"].sigmoid().cpu().numpy()\n",
    "    return preds.mean(0) ## max by model    \n",
    "    "
   ]
  },
  {
   "cell_type": "code",
   "execution_count": 9,
   "id": "a0782ca1",
   "metadata": {
    "execution": {
     "iopub.execute_input": "2023-05-02T17:17:36.751223Z",
     "iopub.status.busy": "2023-05-02T17:17:36.750991Z",
     "iopub.status.idle": "2023-05-02T17:17:36.756226Z",
     "shell.execute_reply": "2023-05-02T17:17:36.755295Z"
    },
    "papermill": {
     "duration": 0.015194,
     "end_time": "2023-05-02T17:17:36.758945",
     "exception": false,
     "start_time": "2023-05-02T17:17:36.743751",
     "status": "completed"
    },
    "tags": []
   },
   "outputs": [
    {
     "data": {
      "text/plain": [
       "5"
      ]
     },
     "execution_count": 9,
     "metadata": {},
     "output_type": "execute_result"
    }
   ],
   "source": [
    "len(models)"
   ]
  },
  {
   "cell_type": "code",
   "execution_count": 10,
   "id": "d6e294a6",
   "metadata": {
    "execution": {
     "iopub.execute_input": "2023-05-02T17:17:36.772948Z",
     "iopub.status.busy": "2023-05-02T17:17:36.772689Z",
     "iopub.status.idle": "2023-05-02T17:17:51.482346Z",
     "shell.execute_reply": "2023-05-02T17:17:51.480877Z"
    },
    "papermill": {
     "duration": 14.719224,
     "end_time": "2023-05-02T17:17:51.484725",
     "exception": false,
     "start_time": "2023-05-02T17:17:36.765501",
     "status": "completed"
    },
    "tags": []
   },
   "outputs": [
    {
     "name": "stdout",
     "output_type": "stream",
     "text": [
      "test file num: 1\n",
      "CPU times: user 10.2 s, sys: 633 ms, total: 10.8 s\n",
      "Wall time: 14.7 s\n"
     ]
    }
   ],
   "source": [
    "%%time\n",
    "\n",
    "\n",
    "@torch.no_grad()\n",
    "def generate_preds():\n",
    "    debug = False\n",
    "    preds        = []\n",
    "    test_files   = sorted(glob.glob(\"/kaggle/input/birdclef-2023/test_soundscapes/*.ogg\")) \n",
    "    sample_rate  = 32000\n",
    "    \n",
    "    scored_birds = np.array(CLASSES)\n",
    "\n",
    "    frame_length = 5\n",
    "    infer_frame_length = 5\n",
    "\n",
    "    print(\"test file num:\", len(test_files))\n",
    "    for fpath in test_files:\n",
    "        file_id = os.path.basename(fpath).replace(\".ogg\", \"\")\n",
    "        batch, n_parts, len_waveform = prepare_clip(fpath, frame_length, sample_rate)\n",
    "        clip_preds = predict_clip(models, batch, n_parts, frame_length)\n",
    "        preds.append(clip_preds)\n",
    "        \n",
    "        ## switch to infer frame length\n",
    "        n_parts_sub = math.ceil(len_waveform / int(infer_frame_length * sample_rate))\n",
    "        clip_preds = np.array_split(clip_preds, n_parts_sub, axis=0)\n",
    "        \n",
    "                \n",
    "    prob_array = np.array(preds)\n",
    "    \n",
    "    scored_bird_name2idx = {}\n",
    "    for i, x in enumerate(scored_birds):\n",
    "        scored_bird_name2idx[x] = i\n",
    "\n",
    "    return prob_array, scored_bird_name2idx\n",
    "\n",
    "prob_array, scored_bird_name2idx = generate_preds()\n",
    "# del models\n",
    "# gc.collect()\n",
    "# torch.cuda.empty_cache()"
   ]
  },
  {
   "cell_type": "code",
   "execution_count": 11,
   "id": "6b8c9ed3",
   "metadata": {
    "execution": {
     "iopub.execute_input": "2023-05-02T17:17:51.502038Z",
     "iopub.status.busy": "2023-05-02T17:17:51.500114Z",
     "iopub.status.idle": "2023-05-02T17:17:51.507618Z",
     "shell.execute_reply": "2023-05-02T17:17:51.506797Z"
    },
    "papermill": {
     "duration": 0.017194,
     "end_time": "2023-05-02T17:17:51.509556",
     "exception": false,
     "start_time": "2023-05-02T17:17:51.492362",
     "status": "completed"
    },
    "tags": []
   },
   "outputs": [
    {
     "data": {
      "text/plain": [
       "(1, 120, 264)"
      ]
     },
     "execution_count": 11,
     "metadata": {},
     "output_type": "execute_result"
    }
   ],
   "source": [
    "prob_array.shape"
   ]
  },
  {
   "cell_type": "markdown",
   "id": "e825a333",
   "metadata": {
    "papermill": {
     "duration": 0.006689,
     "end_time": "2023-05-02T17:17:51.522975",
     "exception": false,
     "start_time": "2023-05-02T17:17:51.516286",
     "status": "completed"
    },
    "tags": []
   },
   "source": [
    "----"
   ]
  },
  {
   "cell_type": "code",
   "execution_count": 12,
   "id": "51d0e58b",
   "metadata": {
    "execution": {
     "iopub.execute_input": "2023-05-02T17:17:51.538569Z",
     "iopub.status.busy": "2023-05-02T17:17:51.537729Z",
     "iopub.status.idle": "2023-05-02T17:17:51.541999Z",
     "shell.execute_reply": "2023-05-02T17:17:51.541174Z"
    },
    "papermill": {
     "duration": 0.013818,
     "end_time": "2023-05-02T17:17:51.543706",
     "exception": false,
     "start_time": "2023-05-02T17:17:51.529888",
     "status": "completed"
    },
    "tags": []
   },
   "outputs": [],
   "source": [
    "# %cd /kaggle/input/birdnetgit"
   ]
  },
  {
   "cell_type": "code",
   "execution_count": 13,
   "id": "59554692",
   "metadata": {
    "execution": {
     "iopub.execute_input": "2023-05-02T17:17:51.558868Z",
     "iopub.status.busy": "2023-05-02T17:17:51.558077Z",
     "iopub.status.idle": "2023-05-02T17:17:51.562449Z",
     "shell.execute_reply": "2023-05-02T17:17:51.561669Z"
    },
    "papermill": {
     "duration": 0.013698,
     "end_time": "2023-05-02T17:17:51.564277",
     "exception": false,
     "start_time": "2023-05-02T17:17:51.550579",
     "status": "completed"
    },
    "tags": []
   },
   "outputs": [],
   "source": [
    "# import os\n",
    "# import sys\n",
    "# import json\n",
    "# import math\n",
    "# import glob\n",
    "# import librosa\n",
    "# import operator\n",
    "# import argparse\n",
    "# import datetime\n",
    "# import traceback\n",
    "\n",
    "# from multiprocessing import Pool, freeze_support\n",
    "\n",
    "# import numpy as np\n",
    "\n",
    "# import config as cfg\n",
    "# import audio\n",
    "# import model\n",
    "# from analyze import *\n",
    "\n",
    "# import pandas as pd\n",
    "# import numpy as np"
   ]
  },
  {
   "cell_type": "code",
   "execution_count": 14,
   "id": "b8c9567b",
   "metadata": {
    "execution": {
     "iopub.execute_input": "2023-05-02T17:17:51.578864Z",
     "iopub.status.busy": "2023-05-02T17:17:51.578608Z",
     "iopub.status.idle": "2023-05-02T17:17:51.583521Z",
     "shell.execute_reply": "2023-05-02T17:17:51.582638Z"
    },
    "papermill": {
     "duration": 0.014409,
     "end_time": "2023-05-02T17:17:51.585307",
     "exception": false,
     "start_time": "2023-05-02T17:17:51.570898",
     "status": "completed"
    },
    "tags": []
   },
   "outputs": [],
   "source": [
    "# df = pd.read_csv(\"../birdclef-2022/eBird_Taxonomy_v2021.csv\")\n",
    "# s2id = lambda x: df[(df['PRIMARY_COM_NAME'] == x)].SPECIES_CODE.tolist()[0]\n",
    "\n",
    "# cfg.MODEL_PATH = '/kaggle/input/birdnetgit/checkpoints/V2.1/BirdNET_GLOBAL_2K_V2.1_Model_FP32.tflite'\n",
    "# cfg.MDATA_MODEL_PATH = '/kaggle/input/birdnetgit/checkpoints/V2.1/BirdNET_GLOBAL_2K_V2.1_MData_Model_FP32.tflite'\n",
    "# cfg.LABELS_FILE = '/kaggle/input/birdnetgit/checkpoints/V2.1/BirdNET_GLOBAL_2K_V2.1_Labels.txt'\n",
    "# cfg.TRANSLATED_LABELS_PATH = '/kaggle/input/birdnetgit/labels/V2.1'\n",
    "\n",
    "# cfg.SIG_LENGTH = 5\n",
    "# cfg.SIG_OVERLAP = 0 \n",
    "# cfg.SIG_MINLEN = 5 \n",
    "\n",
    "# # Load eBird codes, labels\n",
    "\n",
    "# def loadCodes(CODEC_FILE):\n",
    "\n",
    "#     with open(CODEC_FILE, 'r') as cfile:\n",
    "#         codes = json.load(cfile)\n",
    "\n",
    "#     return codes\n",
    "\n",
    "# cfg.CODES = loadCodes(\"./eBird_taxonomy_codes_2021E.json\")\n",
    "# def loadLabels(labels_file):\n",
    "\n",
    "#     labels = []\n",
    "#     with open(labels_file, 'r') as lfile:\n",
    "#         for line in lfile.readlines():\n",
    "#             labels.append(line.replace('\\n', ''))    \n",
    "\n",
    "#     return labels\n",
    "\n",
    "# def prepare_clip(fpath):\n",
    "#     \"\"\"\n",
    "#     Prepare audio clip for inference\n",
    "#     \"\"\"\n",
    "#     sample_rate = cfg.SAMPLE_RATE\n",
    "#     frame_length = cfg.SIG_LENGTH\n",
    "#     infer_frame_length = frame_length\n",
    "    \n",
    "#     sample_rate = 48000\n",
    "#     chunks = []\n",
    "    \n",
    "#     waveform, sample_rate = librosa.load(fpath, sr=sample_rate, mono=True, res_type='kaiser_fast')\n",
    "#     n_parts = math.ceil(len(waveform) / int(infer_frame_length * sample_rate))\n",
    "    \n",
    "#     for seg_idx in range(n_parts): \n",
    "#         end_time = (seg_idx + 1) * frame_length\n",
    "#         chunk  = waveform[(end_time*sample_rate)-(sample_rate*frame_length):end_time*sample_rate]\n",
    "                \n",
    "#         if len(chunk) == frame_length * sample_rate:\n",
    "#             chunks.append(chunk)\n",
    "#         elif len(chunk) < frame_length * sample_rate:\n",
    "#             chunk = np.pad(chunk, (0, (frame_length * sample_rate) - len(chunk)))\n",
    "#             chunks.append(chunk)\n",
    "#         elif len(chunk) > frame_length * sample_rate:\n",
    "#             chunk = chunk[:(frame_length * sample_rate)]\n",
    "#             chunks.append(chunk)\n",
    "            \n",
    "#     return chunks\n",
    "\n",
    "\n",
    "# scored_birds = np.array(['akiapo', 'aniani', 'apapan', 'barpet', 'crehon', 'elepai', 'ercfra',\n",
    "#                           'hawama', 'hawcre', 'hawgoo', 'hawhaw', 'hawpet1', 'houfin', 'iiwi',\n",
    "#                           'jabwar', 'maupar', 'omao', 'puaioh', 'skylar', 'warwhe1', 'yefcan'])\n",
    "\n",
    "# cfg.LABELS = loadLabels(cfg.LABELS_FILE)\n",
    "\n",
    "# model.loadModel()\n",
    "\n"
   ]
  },
  {
   "cell_type": "code",
   "execution_count": 15,
   "id": "2ec68b8a",
   "metadata": {
    "execution": {
     "iopub.execute_input": "2023-05-02T17:17:51.600079Z",
     "iopub.status.busy": "2023-05-02T17:17:51.599379Z",
     "iopub.status.idle": "2023-05-02T17:17:51.604549Z",
     "shell.execute_reply": "2023-05-02T17:17:51.602378Z"
    },
    "papermill": {
     "duration": 0.01499,
     "end_time": "2023-05-02T17:17:51.607009",
     "exception": false,
     "start_time": "2023-05-02T17:17:51.592019",
     "status": "completed"
    },
    "tags": []
   },
   "outputs": [],
   "source": [
    "# bird_dict = {}\n",
    "# for i, lb in enumerate(cfg.LABELS):\n",
    "#     try:\n",
    "#         lbb = s2id(lb.split(\"_\")[-1])\n",
    "#         if lbb in scored_birds:\n",
    "#             bird_dict[lbb] = i\n",
    "#     except Exception as e:\n",
    "#         continue\n",
    "    \n",
    "# bird_dict[\"aniani\"] = 0\n",
    "\n",
    "# sorted_bd = dict(sorted(bird_dict.items(), key=lambda item: item[0]))\n",
    "# get_idx = list(sorted_bd.values())"
   ]
  },
  {
   "cell_type": "code",
   "execution_count": 16,
   "id": "3b800057",
   "metadata": {
    "execution": {
     "iopub.execute_input": "2023-05-02T17:17:51.635510Z",
     "iopub.status.busy": "2023-05-02T17:17:51.634857Z",
     "iopub.status.idle": "2023-05-02T17:17:51.639214Z",
     "shell.execute_reply": "2023-05-02T17:17:51.638210Z"
    },
    "papermill": {
     "duration": 0.023388,
     "end_time": "2023-05-02T17:17:51.644217",
     "exception": false,
     "start_time": "2023-05-02T17:17:51.620829",
     "status": "completed"
    },
    "tags": []
   },
   "outputs": [],
   "source": [
    "# # def predict_single(test_path)\n",
    "\n",
    "# def generate_preds_bn():\n",
    "#     test_files   = sorted(glob.glob(\"/kaggle/input/birdclef-2022/test_soundscapes/*.ogg\"))\n",
    "    \n",
    "#     preds = []\n",
    "#     file_ids = []\n",
    "    \n",
    "#     for fpath in test_files:\n",
    "#         chunks = prepare_clip(fpath)\n",
    "#         pred = predict(chunks)[:, get_idx]\n",
    "#         preds.append(pred)\n",
    "#         file_id = os.path.basename(fpath).replace(\".ogg\", \"\")\n",
    "#         file_ids.append(file_id)\n",
    "        \n",
    "#     preds = np.array(preds)\n",
    "#     return preds, file_ids\n",
    "        "
   ]
  },
  {
   "cell_type": "code",
   "execution_count": 17,
   "id": "8ed58f38",
   "metadata": {
    "execution": {
     "iopub.execute_input": "2023-05-02T17:17:51.675005Z",
     "iopub.status.busy": "2023-05-02T17:17:51.674657Z",
     "iopub.status.idle": "2023-05-02T17:17:51.678378Z",
     "shell.execute_reply": "2023-05-02T17:17:51.677518Z"
    },
    "papermill": {
     "duration": 0.021362,
     "end_time": "2023-05-02T17:17:51.682235",
     "exception": false,
     "start_time": "2023-05-02T17:17:51.660873",
     "status": "completed"
    },
    "tags": []
   },
   "outputs": [],
   "source": [
    "# %%time\n",
    "# preds_bn, file_ids = generate_preds_bn()\n"
   ]
  },
  {
   "cell_type": "code",
   "execution_count": 18,
   "id": "d81ced4f",
   "metadata": {
    "execution": {
     "iopub.execute_input": "2023-05-02T17:17:51.716477Z",
     "iopub.status.busy": "2023-05-02T17:17:51.716173Z",
     "iopub.status.idle": "2023-05-02T17:17:51.719776Z",
     "shell.execute_reply": "2023-05-02T17:17:51.719025Z"
    },
    "papermill": {
     "duration": 0.019245,
     "end_time": "2023-05-02T17:17:51.723248",
     "exception": false,
     "start_time": "2023-05-02T17:17:51.704003",
     "status": "completed"
    },
    "tags": []
   },
   "outputs": [],
   "source": [
    "# preds_bn[:, :, 1] = prob_array[:, :, 1] # 有一种鸟类缺失"
   ]
  },
  {
   "cell_type": "code",
   "execution_count": 19,
   "id": "6dca135a",
   "metadata": {
    "execution": {
     "iopub.execute_input": "2023-05-02T17:17:51.744176Z",
     "iopub.status.busy": "2023-05-02T17:17:51.743866Z",
     "iopub.status.idle": "2023-05-02T17:17:51.763137Z",
     "shell.execute_reply": "2023-05-02T17:17:51.762421Z"
    },
    "papermill": {
     "duration": 0.032198,
     "end_time": "2023-05-02T17:17:51.765373",
     "exception": false,
     "start_time": "2023-05-02T17:17:51.733175",
     "status": "completed"
    },
    "tags": []
   },
   "outputs": [],
   "source": [
    "def generate_file_ids():\n",
    "    test_files   = sorted(glob.glob(\"/kaggle/input/birdclef-2023/test_soundscapes/*.ogg\"))\n",
    "    \n",
    "    file_ids = []\n",
    "    \n",
    "    for fpath in test_files:\n",
    "        file_id = os.path.basename(fpath).replace(\".ogg\", \"\")\n",
    "        file_ids.append(file_id)\n",
    "        \n",
    "    return file_ids\n",
    "\n",
    "file_ids = generate_file_ids()"
   ]
  },
  {
   "cell_type": "code",
   "execution_count": 20,
   "id": "d8f7820f",
   "metadata": {
    "execution": {
     "iopub.execute_input": "2023-05-02T17:17:51.786379Z",
     "iopub.status.busy": "2023-05-02T17:17:51.786094Z",
     "iopub.status.idle": "2023-05-02T17:17:51.791436Z",
     "shell.execute_reply": "2023-05-02T17:17:51.790603Z"
    },
    "papermill": {
     "duration": 0.02068,
     "end_time": "2023-05-02T17:17:51.796067",
     "exception": false,
     "start_time": "2023-05-02T17:17:51.775387",
     "status": "completed"
    },
    "tags": []
   },
   "outputs": [
    {
     "data": {
      "text/plain": [
       "(1, 120, 264)"
      ]
     },
     "execution_count": 20,
     "metadata": {},
     "output_type": "execute_result"
    }
   ],
   "source": [
    "## fix aniani\n",
    "avg_preds = prob_array\n",
    "\n",
    "avg_preds.shape"
   ]
  },
  {
   "cell_type": "code",
   "execution_count": 21,
   "id": "3a1142ef",
   "metadata": {
    "execution": {
     "iopub.execute_input": "2023-05-02T17:17:51.817143Z",
     "iopub.status.busy": "2023-05-02T17:17:51.816825Z",
     "iopub.status.idle": "2023-05-02T17:17:51.839208Z",
     "shell.execute_reply": "2023-05-02T17:17:51.838461Z"
    },
    "papermill": {
     "duration": 0.035371,
     "end_time": "2023-05-02T17:17:51.841473",
     "exception": false,
     "start_time": "2023-05-02T17:17:51.806102",
     "status": "completed"
    },
    "tags": []
   },
   "outputs": [],
   "source": [
    "submission   = []\n",
    "infer_frame_length = 5\n",
    "threshold = 0.2\n",
    "\n",
    "for clip_preds, file_id in zip(avg_preds, file_ids):\n",
    "    for frame_idx, pred in enumerate(clip_preds):\n",
    "        end_time = (frame_idx + 1) * infer_frame_length\n",
    "        d = {\n",
    "            \"row_id\": f\"{file_id}_{end_time}\",\n",
    "            # \"target\": pred[bi] > threshold,\n",
    "        }\n",
    "        for bi, bird in enumerate(CLASSES):\n",
    "            d[bird] = pred[bi]\n",
    "        submission.append(d)"
   ]
  },
  {
   "cell_type": "code",
   "execution_count": 22,
   "id": "8cc6d68e",
   "metadata": {
    "execution": {
     "iopub.execute_input": "2023-05-02T17:17:51.863869Z",
     "iopub.status.busy": "2023-05-02T17:17:51.863573Z",
     "iopub.status.idle": "2023-05-02T17:17:51.868923Z",
     "shell.execute_reply": "2023-05-02T17:17:51.868192Z"
    },
    "papermill": {
     "duration": 0.021138,
     "end_time": "2023-05-02T17:17:51.873456",
     "exception": false,
     "start_time": "2023-05-02T17:17:51.852318",
     "status": "completed"
    },
    "tags": []
   },
   "outputs": [
    {
     "name": "stdout",
     "output_type": "stream",
     "text": [
      "/kaggle/working\n"
     ]
    }
   ],
   "source": [
    "%cd /kaggle/working"
   ]
  },
  {
   "cell_type": "code",
   "execution_count": 23,
   "id": "3bd7daa1",
   "metadata": {
    "execution": {
     "iopub.execute_input": "2023-05-02T17:17:51.893793Z",
     "iopub.status.busy": "2023-05-02T17:17:51.893517Z",
     "iopub.status.idle": "2023-05-02T17:17:52.001278Z",
     "shell.execute_reply": "2023-05-02T17:17:52.000397Z"
    },
    "papermill": {
     "duration": 0.120734,
     "end_time": "2023-05-02T17:17:52.003778",
     "exception": false,
     "start_time": "2023-05-02T17:17:51.883044",
     "status": "completed"
    },
    "tags": []
   },
   "outputs": [],
   "source": [
    "df_submission = pd.DataFrame(submission).set_index(\"row_id\")\n",
    "df_submission.to_csv(\"submission.csv\")"
   ]
  },
  {
   "cell_type": "code",
   "execution_count": 24,
   "id": "ae6ab99f",
   "metadata": {
    "execution": {
     "iopub.execute_input": "2023-05-02T17:17:52.026946Z",
     "iopub.status.busy": "2023-05-02T17:17:52.026623Z",
     "iopub.status.idle": "2023-05-02T17:17:52.059530Z",
     "shell.execute_reply": "2023-05-02T17:17:52.058718Z"
    },
    "papermill": {
     "duration": 0.047276,
     "end_time": "2023-05-02T17:17:52.061767",
     "exception": false,
     "start_time": "2023-05-02T17:17:52.014491",
     "status": "completed"
    },
    "tags": []
   },
   "outputs": [
    {
     "data": {
      "text/html": [
       "<div>\n",
       "<style scoped>\n",
       "    .dataframe tbody tr th:only-of-type {\n",
       "        vertical-align: middle;\n",
       "    }\n",
       "\n",
       "    .dataframe tbody tr th {\n",
       "        vertical-align: top;\n",
       "    }\n",
       "\n",
       "    .dataframe thead th {\n",
       "        text-align: right;\n",
       "    }\n",
       "</style>\n",
       "<table border=\"1\" class=\"dataframe\">\n",
       "  <thead>\n",
       "    <tr style=\"text-align: right;\">\n",
       "      <th></th>\n",
       "      <th>abethr1</th>\n",
       "      <th>abhori1</th>\n",
       "      <th>abythr1</th>\n",
       "      <th>afbfly1</th>\n",
       "      <th>afdfly1</th>\n",
       "      <th>afecuc1</th>\n",
       "      <th>affeag1</th>\n",
       "      <th>afgfly1</th>\n",
       "      <th>afghor1</th>\n",
       "      <th>afmdov1</th>\n",
       "      <th>...</th>\n",
       "      <th>yebsto1</th>\n",
       "      <th>yeccan1</th>\n",
       "      <th>yefcan</th>\n",
       "      <th>yelbis1</th>\n",
       "      <th>yenspu1</th>\n",
       "      <th>yertin1</th>\n",
       "      <th>yesbar1</th>\n",
       "      <th>yespet1</th>\n",
       "      <th>yetgre1</th>\n",
       "      <th>yewgre1</th>\n",
       "    </tr>\n",
       "    <tr>\n",
       "      <th>row_id</th>\n",
       "      <th></th>\n",
       "      <th></th>\n",
       "      <th></th>\n",
       "      <th></th>\n",
       "      <th></th>\n",
       "      <th></th>\n",
       "      <th></th>\n",
       "      <th></th>\n",
       "      <th></th>\n",
       "      <th></th>\n",
       "      <th></th>\n",
       "      <th></th>\n",
       "      <th></th>\n",
       "      <th></th>\n",
       "      <th></th>\n",
       "      <th></th>\n",
       "      <th></th>\n",
       "      <th></th>\n",
       "      <th></th>\n",
       "      <th></th>\n",
       "      <th></th>\n",
       "    </tr>\n",
       "  </thead>\n",
       "  <tbody>\n",
       "    <tr>\n",
       "      <th>soundscape_29201_5</th>\n",
       "      <td>0.126487</td>\n",
       "      <td>0.082117</td>\n",
       "      <td>0.080905</td>\n",
       "      <td>0.048625</td>\n",
       "      <td>0.050497</td>\n",
       "      <td>0.101483</td>\n",
       "      <td>0.075421</td>\n",
       "      <td>0.024035</td>\n",
       "      <td>0.160327</td>\n",
       "      <td>0.052997</td>\n",
       "      <td>...</td>\n",
       "      <td>0.014786</td>\n",
       "      <td>0.017144</td>\n",
       "      <td>0.048952</td>\n",
       "      <td>0.028014</td>\n",
       "      <td>0.046161</td>\n",
       "      <td>0.084387</td>\n",
       "      <td>0.033920</td>\n",
       "      <td>0.033699</td>\n",
       "      <td>0.054019</td>\n",
       "      <td>0.053464</td>\n",
       "    </tr>\n",
       "    <tr>\n",
       "      <th>soundscape_29201_10</th>\n",
       "      <td>0.066573</td>\n",
       "      <td>0.164551</td>\n",
       "      <td>0.030743</td>\n",
       "      <td>0.066187</td>\n",
       "      <td>0.037689</td>\n",
       "      <td>0.032809</td>\n",
       "      <td>0.077661</td>\n",
       "      <td>0.018499</td>\n",
       "      <td>0.038611</td>\n",
       "      <td>0.144031</td>\n",
       "      <td>...</td>\n",
       "      <td>0.008452</td>\n",
       "      <td>0.019604</td>\n",
       "      <td>0.077736</td>\n",
       "      <td>0.045713</td>\n",
       "      <td>0.048662</td>\n",
       "      <td>0.069232</td>\n",
       "      <td>0.020721</td>\n",
       "      <td>0.027758</td>\n",
       "      <td>0.021699</td>\n",
       "      <td>0.075836</td>\n",
       "    </tr>\n",
       "    <tr>\n",
       "      <th>soundscape_29201_15</th>\n",
       "      <td>0.080322</td>\n",
       "      <td>0.081421</td>\n",
       "      <td>0.044109</td>\n",
       "      <td>0.017279</td>\n",
       "      <td>0.023253</td>\n",
       "      <td>0.057593</td>\n",
       "      <td>0.047553</td>\n",
       "      <td>0.018960</td>\n",
       "      <td>0.037280</td>\n",
       "      <td>0.075842</td>\n",
       "      <td>...</td>\n",
       "      <td>0.003203</td>\n",
       "      <td>0.015977</td>\n",
       "      <td>0.083805</td>\n",
       "      <td>0.041879</td>\n",
       "      <td>0.019554</td>\n",
       "      <td>0.062750</td>\n",
       "      <td>0.014840</td>\n",
       "      <td>0.031579</td>\n",
       "      <td>0.027178</td>\n",
       "      <td>0.034448</td>\n",
       "    </tr>\n",
       "    <tr>\n",
       "      <th>soundscape_29201_20</th>\n",
       "      <td>0.032924</td>\n",
       "      <td>0.054800</td>\n",
       "      <td>0.033512</td>\n",
       "      <td>0.064816</td>\n",
       "      <td>0.026026</td>\n",
       "      <td>0.041357</td>\n",
       "      <td>0.038520</td>\n",
       "      <td>0.048114</td>\n",
       "      <td>0.086975</td>\n",
       "      <td>0.055124</td>\n",
       "      <td>...</td>\n",
       "      <td>0.003781</td>\n",
       "      <td>0.016883</td>\n",
       "      <td>0.036899</td>\n",
       "      <td>0.051441</td>\n",
       "      <td>0.037172</td>\n",
       "      <td>0.045239</td>\n",
       "      <td>0.030566</td>\n",
       "      <td>0.035758</td>\n",
       "      <td>0.048056</td>\n",
       "      <td>0.034192</td>\n",
       "    </tr>\n",
       "    <tr>\n",
       "      <th>soundscape_29201_25</th>\n",
       "      <td>0.032156</td>\n",
       "      <td>0.053897</td>\n",
       "      <td>0.038099</td>\n",
       "      <td>0.042058</td>\n",
       "      <td>0.025322</td>\n",
       "      <td>0.041348</td>\n",
       "      <td>0.033167</td>\n",
       "      <td>0.035015</td>\n",
       "      <td>0.080096</td>\n",
       "      <td>0.055887</td>\n",
       "      <td>...</td>\n",
       "      <td>0.003023</td>\n",
       "      <td>0.013749</td>\n",
       "      <td>0.044425</td>\n",
       "      <td>0.037059</td>\n",
       "      <td>0.028821</td>\n",
       "      <td>0.037817</td>\n",
       "      <td>0.025053</td>\n",
       "      <td>0.025127</td>\n",
       "      <td>0.041949</td>\n",
       "      <td>0.029163</td>\n",
       "    </tr>\n",
       "  </tbody>\n",
       "</table>\n",
       "<p>5 rows × 264 columns</p>\n",
       "</div>"
      ],
      "text/plain": [
       "                      abethr1   abhori1   abythr1   afbfly1   afdfly1  \\\n",
       "row_id                                                                  \n",
       "soundscape_29201_5   0.126487  0.082117  0.080905  0.048625  0.050497   \n",
       "soundscape_29201_10  0.066573  0.164551  0.030743  0.066187  0.037689   \n",
       "soundscape_29201_15  0.080322  0.081421  0.044109  0.017279  0.023253   \n",
       "soundscape_29201_20  0.032924  0.054800  0.033512  0.064816  0.026026   \n",
       "soundscape_29201_25  0.032156  0.053897  0.038099  0.042058  0.025322   \n",
       "\n",
       "                      afecuc1   affeag1   afgfly1   afghor1   afmdov1  ...  \\\n",
       "row_id                                                                 ...   \n",
       "soundscape_29201_5   0.101483  0.075421  0.024035  0.160327  0.052997  ...   \n",
       "soundscape_29201_10  0.032809  0.077661  0.018499  0.038611  0.144031  ...   \n",
       "soundscape_29201_15  0.057593  0.047553  0.018960  0.037280  0.075842  ...   \n",
       "soundscape_29201_20  0.041357  0.038520  0.048114  0.086975  0.055124  ...   \n",
       "soundscape_29201_25  0.041348  0.033167  0.035015  0.080096  0.055887  ...   \n",
       "\n",
       "                      yebsto1   yeccan1    yefcan   yelbis1   yenspu1  \\\n",
       "row_id                                                                  \n",
       "soundscape_29201_5   0.014786  0.017144  0.048952  0.028014  0.046161   \n",
       "soundscape_29201_10  0.008452  0.019604  0.077736  0.045713  0.048662   \n",
       "soundscape_29201_15  0.003203  0.015977  0.083805  0.041879  0.019554   \n",
       "soundscape_29201_20  0.003781  0.016883  0.036899  0.051441  0.037172   \n",
       "soundscape_29201_25  0.003023  0.013749  0.044425  0.037059  0.028821   \n",
       "\n",
       "                      yertin1   yesbar1   yespet1   yetgre1   yewgre1  \n",
       "row_id                                                                 \n",
       "soundscape_29201_5   0.084387  0.033920  0.033699  0.054019  0.053464  \n",
       "soundscape_29201_10  0.069232  0.020721  0.027758  0.021699  0.075836  \n",
       "soundscape_29201_15  0.062750  0.014840  0.031579  0.027178  0.034448  \n",
       "soundscape_29201_20  0.045239  0.030566  0.035758  0.048056  0.034192  \n",
       "soundscape_29201_25  0.037817  0.025053  0.025127  0.041949  0.029163  \n",
       "\n",
       "[5 rows x 264 columns]"
      ]
     },
     "execution_count": 24,
     "metadata": {},
     "output_type": "execute_result"
    }
   ],
   "source": [
    "# print(f\"\"\"\n",
    "# total rows : {len(df_submission)}\n",
    "# activated  : {len(df_submission[(df_submission.target==True)])}\n",
    "# \"\"\")\n",
    "\n",
    "df_submission.head()"
   ]
  },
  {
   "cell_type": "code",
   "execution_count": null,
   "id": "d37094c6",
   "metadata": {
    "papermill": {
     "duration": 0.010005,
     "end_time": "2023-05-02T17:17:52.082793",
     "exception": false,
     "start_time": "2023-05-02T17:17:52.072788",
     "status": "completed"
    },
    "tags": []
   },
   "outputs": [],
   "source": []
  }
 ],
 "metadata": {
  "kernelspec": {
   "display_name": "Python 3",
   "language": "python",
   "name": "python3"
  },
  "language_info": {
   "codemirror_mode": {
    "name": "ipython",
    "version": 3
   },
   "file_extension": ".py",
   "mimetype": "text/x-python",
   "name": "python",
   "nbconvert_exporter": "python",
   "pygments_lexer": "ipython3",
   "version": "3.10.10"
  },
  "papermill": {
   "default_parameters": {},
   "duration": 121.568404,
   "end_time": "2023-05-02T17:17:54.621239",
   "environment_variables": {},
   "exception": null,
   "input_path": "__notebook__.ipynb",
   "output_path": "__notebook__.ipynb",
   "parameters": {},
   "start_time": "2023-05-02T17:15:53.052835",
   "version": "2.4.0"
  }
 },
 "nbformat": 4,
 "nbformat_minor": 5
}
