{
 "cells": [
  {
   "cell_type": "code",
   "execution_count": 1,
   "id": "5b4eaf56",
   "metadata": {
    "_kg_hide-output": true,
    "execution": {
     "iopub.execute_input": "2023-05-16T11:13:58.780889Z",
     "iopub.status.busy": "2023-05-16T11:13:58.780420Z",
     "iopub.status.idle": "2023-05-16T11:14:34.385159Z",
     "shell.execute_reply": "2023-05-16T11:14:34.383520Z"
    },
    "papermill": {
     "duration": 35.616346,
     "end_time": "2023-05-16T11:14:34.388295",
     "exception": false,
     "start_time": "2023-05-16T11:13:58.771949",
     "status": "completed"
    },
    "tags": []
   },
   "outputs": [
    {
     "name": "stdout",
     "output_type": "stream",
     "text": [
      "Processing /kaggle/input/nnaudio031/nnAudio-0.3.1-py3-none-any.whl\r\n",
      "Requirement already satisfied: scipy in /opt/conda/lib/python3.10/site-packages (from nnAudio==0.3.1) (1.9.3)\r\n",
      "Requirement already satisfied: numpy<1.26.0,>=1.18.5 in /opt/conda/lib/python3.10/site-packages (from scipy->nnAudio==0.3.1) (1.23.5)\r\n",
      "Installing collected packages: nnAudio\r\n",
      "Successfully installed nnAudio-0.3.1\r\n",
      "\u001b[33mWARNING: Running pip as the 'root' user can result in broken permissions and conflicting behaviour with the system package manager. It is recommended to use a virtual environment instead: https://pip.pypa.io/warnings/venv\u001b[0m\u001b[33m\r\n",
      "\u001b[0m"
     ]
    }
   ],
   "source": [
    "## setup\n",
    "!pip install ../input/nnaudio031/nnAudio-0.3.1-py3-none-any.whl"
   ]
  },
  {
   "cell_type": "code",
   "execution_count": 2,
   "id": "4202b7bc",
   "metadata": {
    "execution": {
     "iopub.execute_input": "2023-05-16T11:14:34.403975Z",
     "iopub.status.busy": "2023-05-16T11:14:34.403496Z",
     "iopub.status.idle": "2023-05-16T11:14:35.504909Z",
     "shell.execute_reply": "2023-05-16T11:14:35.503694Z"
    },
    "papermill": {
     "duration": 1.112462,
     "end_time": "2023-05-16T11:14:35.507547",
     "exception": false,
     "start_time": "2023-05-16T11:14:34.395085",
     "status": "completed"
    },
    "tags": []
   },
   "outputs": [
    {
     "name": "stdout",
     "output_type": "stream",
     "text": [
      "ef_v10TimmClassifier_v3_tf_efficientnet_b0_0_lb\r\n"
     ]
    }
   ],
   "source": [
    "# !ls /kaggle/input/blef0503/\n",
    "# !ls /kaggle/input/ef-v0/\n",
    "# !ls /kaggle/input/birds-inference-pip-wheels/*\n",
    "# !pip freeze|grep torch\n",
    "!ls /kaggle/input/ef-v10"
   ]
  },
  {
   "cell_type": "code",
   "execution_count": 3,
   "id": "64d88530",
   "metadata": {
    "execution": {
     "iopub.execute_input": "2023-05-16T11:14:35.523346Z",
     "iopub.status.busy": "2023-05-16T11:14:35.522271Z",
     "iopub.status.idle": "2023-05-16T11:14:35.529716Z",
     "shell.execute_reply": "2023-05-16T11:14:35.528394Z"
    },
    "papermill": {
     "duration": 0.017895,
     "end_time": "2023-05-16T11:14:35.532172",
     "exception": false,
     "start_time": "2023-05-16T11:14:35.514277",
     "status": "completed"
    },
    "tags": []
   },
   "outputs": [],
   "source": [
    "## https://github.com/Selimonder/birdclef2022/\n",
    "import os, sys, glob, math\n",
    "\n",
    "os.environ[\"MKL_NUM_THREADS\"] = \"1\"\n",
    "os.environ[\"OMP_NUM_THREADS\"] = \"1\"\n",
    "\n",
    "github_folder = \"/kaggle/input/blef0508v3\"\n",
    "sys.path.append(github_folder)"
   ]
  },
  {
   "cell_type": "code",
   "execution_count": 4,
   "id": "9e7d388b",
   "metadata": {
    "execution": {
     "iopub.execute_input": "2023-05-16T11:14:35.546895Z",
     "iopub.status.busy": "2023-05-16T11:14:35.546449Z",
     "iopub.status.idle": "2023-05-16T11:14:44.511163Z",
     "shell.execute_reply": "2023-05-16T11:14:44.509863Z"
    },
    "papermill": {
     "duration": 8.975466,
     "end_time": "2023-05-16T11:14:44.514053",
     "exception": false,
     "start_time": "2023-05-16T11:14:35.538587",
     "status": "completed"
    },
    "tags": []
   },
   "outputs": [
    {
     "name": "stderr",
     "output_type": "stream",
     "text": [
      "/opt/conda/lib/python3.10/site-packages/scipy/__init__.py:146: UserWarning: A NumPy version >=1.16.5 and <1.23.0 is required for this version of SciPy (detected version 1.23.5\n",
      "  warnings.warn(f\"A NumPy version >={np_minversion} and <{np_maxversion}\"\n",
      "/opt/conda/lib/python3.10/site-packages/nnAudio/Spectrogram.py:4: Warning: importing Spectrogram subpackage will be deprecated soon. You should import the feature extractor from the feature subpackage. See actual documentation.\n",
      "  warnings.warn(\n"
     ]
    }
   ],
   "source": [
    "import cv2\n",
    "import gc\n",
    "import time\n",
    "import torch\n",
    "import librosa\n",
    "import argparse, warnings\n",
    "\n",
    "import numpy as np\n",
    "import pandas as pd\n",
    "import IPython.display as ipd\n",
    "from pathlib import Path\n",
    "\n",
    "\n",
    "import zoo\n",
    "from training.config import load_config\n",
    "from training.datasets import BirdDatasetOOF\n",
    "\n",
    "\n",
    "cv2.ocl.setUseOpenCL(False)\n",
    "cv2.setNumThreads(0)\n",
    "\n",
    "from tqdm import tqdm\n",
    "from torch.utils.data import DataLoader\n",
    "\n",
    "warnings.simplefilter(\"ignore\")\n"
   ]
  },
  {
   "cell_type": "code",
   "execution_count": 5,
   "id": "30055e9f",
   "metadata": {
    "execution": {
     "iopub.execute_input": "2023-05-16T11:14:44.529873Z",
     "iopub.status.busy": "2023-05-16T11:14:44.529385Z",
     "iopub.status.idle": "2023-05-16T11:14:44.542353Z",
     "shell.execute_reply": "2023-05-16T11:14:44.541410Z"
    },
    "papermill": {
     "duration": 0.024065,
     "end_time": "2023-05-16T11:14:44.545170",
     "exception": false,
     "start_time": "2023-05-16T11:14:44.521105",
     "status": "completed"
    },
    "tags": []
   },
   "outputs": [],
   "source": [
    "# accelerate\n",
    "import os\n",
    "os.environ[\"OMP_NUM_THREADS\"]=\"2\"\n",
    "os.environ[\"OMP_SCHEDULE\"]=\"STATIC\"\n",
    "os.environ[\"OMP_PROC_BIND\"]=\"CLOSE\"\n",
    "import torch\n",
    "torch.set_num_threads(4)"
   ]
  },
  {
   "cell_type": "markdown",
   "id": "d6bebd96",
   "metadata": {
    "papermill": {
     "duration": 0.006953,
     "end_time": "2023-05-16T11:14:44.559961",
     "exception": false,
     "start_time": "2023-05-16T11:14:44.553008",
     "status": "completed"
    },
    "tags": []
   },
   "source": [
    "## models"
   ]
  },
  {
   "cell_type": "code",
   "execution_count": 6,
   "id": "f0e7020f",
   "metadata": {
    "execution": {
     "iopub.execute_input": "2023-05-16T11:14:44.576755Z",
     "iopub.status.busy": "2023-05-16T11:14:44.576294Z",
     "iopub.status.idle": "2023-05-16T11:14:45.223143Z",
     "shell.execute_reply": "2023-05-16T11:14:45.222007Z"
    },
    "papermill": {
     "duration": 0.658621,
     "end_time": "2023-05-16T11:14:45.226024",
     "exception": false,
     "start_time": "2023-05-16T11:14:44.567403",
     "status": "completed"
    },
    "tags": []
   },
   "outputs": [
    {
     "name": "stdout",
     "output_type": "stream",
     "text": [
      "False <class 'bool'>\n",
      "/kaggle/input/ef-v10/ef_v10TimmClassifier_v3_tf_efficientnet_b0_0_lb\n",
      "initing CLS features model 10 duration...\n",
      "{'in_chans': 1, 'drop_path_rate': 0.2, 'drop_rate': 0.5}\n",
      "=> loading checkpoint '/kaggle/input/ef-v10/ef_v10TimmClassifier_v3_tf_efficientnet_b0_0_lb''\n",
      "epoch 19\n"
     ]
    },
    {
     "data": {
      "text/plain": [
       "1"
      ]
     },
     "execution_count": 6,
     "metadata": {},
     "output_type": "execute_result"
    }
   ],
   "source": [
    "def load_model(conf_path: str, weights_path: str, prefix: str, suffix: str, fold: int, to_device: bool = True):\n",
    "    conf = load_config(conf_path)\n",
    "    conf['encoder_params']['pretrained'] = False\n",
    "    print(conf['encoder_params']['pretrained'], type(conf['encoder_params']['pretrained']))\n",
    "    \n",
    "    snapshot_name = \"{}{}_{}_{}_{}\".format(prefix, conf[\"network\"], conf[\"encoder_params\"][\"encoder\"], fold, suffix)\n",
    "    weights_path = os.path.join(weights_path, snapshot_name)\n",
    "    print(weights_path)\n",
    "    \n",
    "    model = zoo.__dict__[conf[\"network\"]](**conf[\"encoder_params\"])\n",
    "    model = torch.nn.DataParallel(model)\n",
    "    print(\"=> loading checkpoint '{}''\".format(weights_path))\n",
    "    checkpoint = torch.load(weights_path, map_location=\"cpu\")\n",
    "    print(\"epoch\", checkpoint[\"epoch\"])\n",
    "    model.load_state_dict(checkpoint[\"state_dict\"])\n",
    "    model.eval()\n",
    "    if to_device: model.cuda()\n",
    "    return model\n",
    "\n",
    "models = []\n",
    "\n",
    "\n",
    "\n",
    "\n",
    "\n",
    "\n",
    "# 0.80 version 31, \n",
    "# model = load_model(conf_path    = f\"{github_folder}/configs/cls_ef_v7.json\",\n",
    "#                                 weights_path = f\"/kaggle/input/ef0-v7\",\n",
    "#                                 prefix       = \"ef_v7\",\n",
    "\n",
    "\n",
    "# 0.80 version 30 full train with 2ndw 1\n",
    "# conf_path    = f\"{github_folder}/configs/cls_ef_v0.json\",\n",
    "# weights_path = f\"/kaggle/input/ef-v0-fulltrain\",\n",
    "# prefix       = \"ef_v0\",\n",
    "\n",
    "\n",
    "# 0.78 version 29  no pretrain sed\n",
    "# conf_path    = f\"{github_folder}/configs/sed_ef_v0.json\",\n",
    "# weights_path = f\"/kaggle/input/sed-ef-v0\",\n",
    "# prefix       = \"sed_v0\",\n",
    "\n",
    "# 0.78 version 28   train 20 epoch on pretrain 123\n",
    "# conf_path    = f\"{github_folder}/configs/cls_ef_v0.json\",\n",
    "# weights_path = f\"/kaggle/input/ef-v0-pretrain123\",\n",
    "\n",
    "# 0.80 version 27   train 25 epoch on pretrain 123\n",
    "# conf_path    = f\"{github_folder}/configs/cls_ef_v6.json\",\n",
    "# weights_path = f\"/kaggle/input/ef0-v6\",\n",
    "#                                 \"ef_v6_e20\",\n",
    "\n",
    "# 0.79 version 26 better pretrain (21,22)\n",
    "# conf_path    = f\"{github_folder}/configs/cls_ef_v0.json\",\n",
    "# weights_path = f\"/kaggle/input/ef0-v0\",\n",
    "# prefix       = \"ef_v0\",\n",
    "\n",
    "# 0.79 version 25 set 3 \n",
    "# conf_path    = f\"{github_folder}/configs/cls_ef2_v1.json\",\n",
    "# weights_path = f\"/kaggle/input/ef2-v1\",\n",
    "# prefix       = \"ef2_v1\",\n",
    "\n",
    "# 0.80 version 23-lb, 24-f1\n",
    "#conf_path    = f\"{github_folder}/configs/cls_ef2_v0.json\",\n",
    "#weights_path = f\"/kaggle/input/ef2-v0\",\n",
    "#prefix       = \"ef2_v0\",\n",
    "\n",
    "\n",
    "# 0.79 version 20\n",
    "# conf_path    = f\"{github_folder}/configs/cls_ef_v3.json\",\n",
    "# weights_path = f\"/kaggle/input/ef0-v3\",\n",
    "# prefix       = \"ef0_v3\",\n",
    "\n",
    "\n",
    "# rank 37 5folds version19\n",
    "# conf_path    = f\"{github_folder}/configs/cls_ef_v0.json\",\n",
    "# weights_path = f\"/kaggle/input/cls-ef-v0\",\n",
    "# prefix       = \"ef_v0\",\n",
    "\n",
    "# only primary, 16min rank82  cls_ef_v0.json weights_path = f\"/kaggle/input/cls-ef-v0\", prefix = \"ef_v0\",\n",
    "# rank90  cls_ef_v0.json weights_path = f\"/kaggle/input/ef-v0-pretrain\", prefix = \"ef_v0_\",\n",
    "\n",
    "\n",
    "# 0.80 最差0.80 只有fold0  其他是上传错\n",
    "# conf_path    = f\"{github_folder}/configs/cls_ef_v0.json\",\n",
    "#                                weights_path = f\"/kaggle/input/e40-ef0\",\n",
    "#                                prefix       = \"ef_v0\",\n",
    "\n",
    "# 44 min 0.79 240 conf_path    = f\"{github_folder}/configs/cls_nf0_v5.json\", weights_path = f\"/kaggle/input/nf0-v5\", prefix       = \"nf0_v5_\",\n",
    "# \n",
    "#  cls_nf0_v5.json\",weights_path = nfnet-baseline-bs16/nfnet-baseline-bs16, prefix= \"nf0_v5_\",\n",
    "\n",
    "\n",
    "# 0.78\n",
    "# f\"{github_folder}/configs/cls_nf0_v5.json\",\n",
    "# weights_path = f\"/kaggle/input/nfnet-baseline-bs16/nfnet-baseline-bs16\",\n",
    "# prefix       = \"nf0_v5_\",\n",
    "\n",
    "\n",
    "## best only for now\n",
    "suffixes = [\"lb\"]#, \"f1_score\" \"last\"]\n",
    "folds    = 5\n",
    "\n",
    "for i in [0]:\n",
    "    for sx in suffixes:\n",
    "        try:\n",
    "            model = load_model(conf_path    = f\"{github_folder}/configs/cls_ef_v10.json\",\n",
    "                                weights_path = f\"/kaggle/input/ef-v10\",\n",
    "                                prefix       = \"ef_v10\",\n",
    "                               suffix       = sx,\n",
    "                               fold         = i,\n",
    "                               to_device    = False,)\n",
    "            models.append(model)\n",
    "        except Exception as e:\n",
    "            print(f\"model not found\", e)\n",
    "\n",
    "len(models)\n",
    "#models = [models[0]]"
   ]
  },
  {
   "cell_type": "code",
   "execution_count": 7,
   "id": "36814f16",
   "metadata": {
    "execution": {
     "iopub.execute_input": "2023-05-16T11:14:45.242655Z",
     "iopub.status.busy": "2023-05-16T11:14:45.242074Z",
     "iopub.status.idle": "2023-05-16T11:14:45.254442Z",
     "shell.execute_reply": "2023-05-16T11:14:45.253026Z"
    },
    "papermill": {
     "duration": 0.023877,
     "end_time": "2023-05-16T11:14:45.257145",
     "exception": false,
     "start_time": "2023-05-16T11:14:45.233268",
     "status": "completed"
    },
    "tags": []
   },
   "outputs": [
    {
     "data": {
      "text/plain": [
       "'3.51M'"
      ]
     },
     "execution_count": 7,
     "metadata": {},
     "output_type": "execute_result"
    }
   ],
   "source": [
    "import torch\n",
    "\n",
    "def count_parameters(model):\n",
    "    return sum(p.numel() for p in model.parameters() if p.requires_grad)\n",
    "\n",
    "f\"{count_parameters(models[0])//1024/1024:.2f}M\""
   ]
  },
  {
   "cell_type": "markdown",
   "id": "5605326f",
   "metadata": {
    "papermill": {
     "duration": 0.006853,
     "end_time": "2023-05-16T11:14:45.271386",
     "exception": false,
     "start_time": "2023-05-16T11:14:45.264533",
     "status": "completed"
    },
    "tags": []
   },
   "source": [
    "## infer"
   ]
  },
  {
   "cell_type": "code",
   "execution_count": 8,
   "id": "3b435796",
   "metadata": {
    "execution": {
     "iopub.execute_input": "2023-05-16T11:14:45.288348Z",
     "iopub.status.busy": "2023-05-16T11:14:45.287440Z",
     "iopub.status.idle": "2023-05-16T11:14:45.294430Z",
     "shell.execute_reply": "2023-05-16T11:14:45.293550Z"
    },
    "papermill": {
     "duration": 0.0183,
     "end_time": "2023-05-16T11:14:45.296932",
     "exception": false,
     "start_time": "2023-05-16T11:14:45.278632",
     "status": "completed"
    },
    "tags": []
   },
   "outputs": [],
   "source": [
    "CLASSES = \"abethr1 abhori1 abythr1 afbfly1 afdfly1 afecuc1 affeag1 afgfly1 afghor1 afmdov1 afpfly1 afpkin1 afpwag1 afrgos1 afrgrp1 afrjac1 afrthr1 amesun2 augbuz1 bagwea1 barswa bawhor2 bawman1 bcbeat1 beasun2 bkctch1 bkfruw1 blacra1 blacuc1 blakit1 blaplo1 blbpuf2 blcapa2 blfbus1 blhgon1 blhher1 blksaw1 blnmou1 blnwea1 bltapa1 bltbar1 bltori1 blwlap1 brcale1 brcsta1 brctch1 brcwea1 brican1 brobab1 broman1 brosun1 brrwhe3 brtcha1 brubru1 brwwar1 bswdov1 btweye2 bubwar2 butapa1 cabgre1 carcha1 carwoo1 categr ccbeat1 chespa1 chewea1 chibat1 chtapa3 chucis1 cibwar1 cohmar1 colsun2 combul2 combuz1 comsan crefra2 crheag1 crohor1 darbar1 darter3 didcuc1 dotbar1 dutdov1 easmog1 eaywag1 edcsun3 egygoo equaka1 eswdov1 eubeat1 fatrav1 fatwid1 fislov1 fotdro5 gabgos2 gargan gbesta1 gnbcam2 gnhsun1 gobbun1 gobsta5 gobwea1 golher1 grbcam1 grccra1 grecor greegr grewoo2 grwpyt1 gryapa1 grywrw1 gybfis1 gycwar3 gyhbus1 gyhkin1 gyhneg1 gyhspa1 gytbar1 hadibi1 hamerk1 hartur1 helgui hipbab1 hoopoe huncis1 hunsun2 joygre1 kerspa2 klacuc1 kvbsun1 laudov1 lawgol lesmaw1 lessts1 libeat1 litegr litswi1 litwea1 loceag1 lotcor1 lotlap1 luebus1 mabeat1 macshr1 malkin1 marsto1 marsun2 mcptit1 meypar1 moccha1 mouwag1 ndcsun2 nobfly1 norbro1 norcro1 norfis1 norpuf1 nubwoo1 pabspa1 palfly2 palpri1 piecro1 piekin1 pitwhy purgre2 pygbat1 quailf1 ratcis1 raybar1 rbsrob1 rebfir2 rebhor1 reboxp1 reccor reccuc1 reedov1 refbar2 refcro1 reftin1 refwar2 rehblu1 rehwea1 reisee2 rerswa1 rewsta1 rindov rocmar2 rostur1 ruegls1 rufcha2 sacibi2 sccsun2 scrcha1 scthon1 shesta1 sichor1 sincis1 slbgre1 slcbou1 sltnig1 sobfly1 somgre1 somtit4 soucit1 soufis1 spemou2 spepig1 spewea1 spfbar1 spfwea1 spmthr1 spwlap1 squher1 strher strsee1 stusta1 subbus1 supsta1 tacsun1 tafpri1 tamdov1 thrnig1 trobou1 varsun2 vibsta2 vilwea1 vimwea1 walsta1 wbgbir1 wbrcha2 wbswea1 wfbeat1 whbcan1 whbcou1 whbcro2 whbtit5 whbwea1 whbwhe3 whcpri2 whctur2 wheslf1 whhsaw1 whihel1 whrshr1 witswa1 wlwwar wookin1 woosan wtbeat1 yebapa1 yebbar1 yebduc1 yebere1 yebgre1 yebsto1 yeccan1 yefcan yelbis1 yenspu1 yertin1 yesbar1 yespet1 yetgre1 yewgre1\".split()\n",
    "N_CLASS = len(CLASSES)"
   ]
  },
  {
   "cell_type": "code",
   "execution_count": 9,
   "id": "2f5dba55",
   "metadata": {
    "execution": {
     "iopub.execute_input": "2023-05-16T11:14:45.314447Z",
     "iopub.status.busy": "2023-05-16T11:14:45.313581Z",
     "iopub.status.idle": "2023-05-16T11:14:45.327358Z",
     "shell.execute_reply": "2023-05-16T11:14:45.325974Z"
    },
    "papermill": {
     "duration": 0.026448,
     "end_time": "2023-05-16T11:14:45.330601",
     "exception": false,
     "start_time": "2023-05-16T11:14:45.304153",
     "status": "completed"
    },
    "tags": []
   },
   "outputs": [],
   "source": [
    "from torch.utils.data import Dataset, DataLoader\n",
    "\n",
    "frame_length = 5\n",
    "infer_frame_length = 5\n",
    "sample_rate  = 32000\n",
    "\n",
    "class TestDataset(Dataset):\n",
    "    def __init__(self, \n",
    "                 df: pd.DataFrame, \n",
    "                 sample_rate:int,\n",
    "                 frame_length:int,\n",
    "                 waveform\n",
    "                ):\n",
    "        \n",
    "        self.df = df\n",
    "        \n",
    "        self.frame_length = frame_length\n",
    "        self.sample_rate = sample_rate\n",
    "        \n",
    "        self.waveform = waveform\n",
    "        self.n_parts = math.ceil(len(waveform) / int(infer_frame_length * sample_rate))\n",
    "\n",
    "    def __len__(self):\n",
    "        return self.n_parts\n",
    "\n",
    "    def __getitem__(self, idx: int):\n",
    "        sample = self.df.loc[idx, :]\n",
    "        row_id = sample.row_id\n",
    "        sample_rate = self.sample_rate\n",
    "        frame_length = self.frame_length\n",
    "\n",
    "        end_seconds = int(sample.seconds)\n",
    "        start_seconds = int(end_seconds - 5)\n",
    "        \n",
    "        y = self.waveform[sample_rate * start_seconds : sample_rate * end_seconds].astype(np.float32)\n",
    "        \n",
    "        wav_tensor = torch.from_numpy(y)\n",
    "        if len(wav_tensor) == frame_length * sample_rate:\n",
    "            pass\n",
    "        elif len(wav_tensor) < frame_length * sample_rate:\n",
    "            wav_tensor = torch.nn.functional.pad(wav_tensor, (0, (frame_length * sample_rate) - len(wav_tensor)))\n",
    "        elif len(wav_tensor) > frame_length * sample_rate:\n",
    "            wav_tensor = wav_tensor[:(frame_length * sample_rate)]\n",
    "        \n",
    "        # add channel\n",
    "        wav_tensor = wav_tensor.unsqueeze(0)\n",
    "        \n",
    "        return {\n",
    "            \"wav_tensors\": wav_tensor,\n",
    "            \"row_id\": row_id,\n",
    "        }\n"
   ]
  },
  {
   "cell_type": "code",
   "execution_count": 10,
   "id": "33e7c572",
   "metadata": {
    "execution": {
     "iopub.execute_input": "2023-05-16T11:14:45.348339Z",
     "iopub.status.busy": "2023-05-16T11:14:45.347633Z",
     "iopub.status.idle": "2023-05-16T11:14:45.367387Z",
     "shell.execute_reply": "2023-05-16T11:14:45.366078Z"
    },
    "papermill": {
     "duration": 0.032631,
     "end_time": "2023-05-16T11:14:45.370695",
     "exception": false,
     "start_time": "2023-05-16T11:14:45.338064",
     "status": "completed"
    },
    "tags": []
   },
   "outputs": [],
   "source": [
    "all_audios = list(Path(\"../input/birdclef-2023/test_soundscapes/\").glob(\"*.ogg\")) \n",
    "seconds = [i for i in range(5, 605, 5)]\n",
    "\n",
    "class CFG:\n",
    "    batch_size=4\n",
    "    num_workers=4\n",
    "    \n",
    "config = CFG()\n",
    "\n",
    "def prediction_for_clip(\n",
    "    audio_path\n",
    "):\n",
    "    \n",
    "    device = torch.device(\"cpu\")\n",
    "    \n",
    "    # inference\n",
    "    prediction_dict = {}\n",
    "    \n",
    "    clip, _ = librosa.load(audio_path, sr=sample_rate, mono=True)\n",
    "    name_ = \"_\".join(audio_path.name.split(\".\")[:-1])\n",
    "    row_ids = [name_+f\"_{second}\" for second in seconds]\n",
    "\n",
    "    test_df = pd.DataFrame({\n",
    "        \"row_id\": row_ids,\n",
    "        \"seconds\": seconds\n",
    "    })\n",
    "    \n",
    "        \n",
    "    dataset = TestDataset(\n",
    "        df=test_df, \n",
    "        sample_rate=sample_rate,\n",
    "        frame_length=frame_length,\n",
    "        waveform=clip\n",
    "    )\n",
    "\n",
    "    loader = DataLoader(\n",
    "        dataset,\n",
    "        batch_size=config.batch_size, \n",
    "        num_workers=config.num_workers,\n",
    "        drop_last=False,\n",
    "        shuffle=False,\n",
    "        pin_memory=True\n",
    "    )\n",
    "\n",
    "    for data in loader:\n",
    "\n",
    "        row_ids = data['row_id']\n",
    "\n",
    "        for row_id in row_ids:\n",
    "            if row_id not in prediction_dict:\n",
    "                prediction_dict[str(row_id)] = []\n",
    "\n",
    "        probas = []\n",
    "\n",
    "        for model in models:\n",
    "            with torch.no_grad():\n",
    "                # print(type(data[\"wav_tensors\"]))\n",
    "                # print(data[\"wav_tensors\"].size())\n",
    "                # output = model(data[\"wav_tensors\"])\n",
    "                output = model(data[\"wav_tensors\"], is_test=True)[\"logit\"].sigmoid()\n",
    "#                     \n",
    "            for row_id_idx, row_id in enumerate(row_ids):\n",
    "                prediction_dict[str(row_id)].append(output[[row_id_idx]].numpy().reshape(-1))\n",
    "                                                        \n",
    "    for row_id in list(prediction_dict.keys()):\n",
    "                \n",
    "        logits = np.array(prediction_dict[row_id]).mean(0)\n",
    "        prediction_dict[row_id] = {}\n",
    "        for label in range(N_CLASS):\n",
    "            prediction_dict[row_id][CLASSES[label]] = logits[label]\n",
    "\n",
    "    return prediction_dict"
   ]
  },
  {
   "cell_type": "code",
   "execution_count": 11,
   "id": "ad349ad7",
   "metadata": {
    "execution": {
     "iopub.execute_input": "2023-05-16T11:14:45.388554Z",
     "iopub.status.busy": "2023-05-16T11:14:45.388069Z",
     "iopub.status.idle": "2023-05-16T11:15:09.081245Z",
     "shell.execute_reply": "2023-05-16T11:15:09.079274Z"
    },
    "papermill": {
     "duration": 23.706747,
     "end_time": "2023-05-16T11:15:09.085814",
     "exception": false,
     "start_time": "2023-05-16T11:14:45.379067",
     "status": "completed"
    },
    "tags": []
   },
   "outputs": [
    {
     "name": "stdout",
     "output_type": "stream",
     "text": [
      "With concurrent ThreadPoolExecutor, time cost reduced to 23.7 for processing 1 audios\n"
     ]
    }
   ],
   "source": [
    "import concurrent.futures\n",
    "\n",
    "start = time.time()\n",
    "with concurrent.futures.ThreadPoolExecutor(max_workers=4) as executor:\n",
    "    dicts = list(executor.map(prediction_for_clip, all_audios))\n",
    "print(f\"With concurrent ThreadPoolExecutor, time cost reduced to {time.time()-start:.1f} for processing {len(all_audios)} audios\")\n"
   ]
  },
  {
   "cell_type": "code",
   "execution_count": 12,
   "id": "f53933a0",
   "metadata": {
    "execution": {
     "iopub.execute_input": "2023-05-16T11:15:09.105800Z",
     "iopub.status.busy": "2023-05-16T11:15:09.104356Z",
     "iopub.status.idle": "2023-05-16T11:15:09.267886Z",
     "shell.execute_reply": "2023-05-16T11:15:09.266195Z"
    },
    "papermill": {
     "duration": 0.176622,
     "end_time": "2023-05-16T11:15:09.270565",
     "exception": false,
     "start_time": "2023-05-16T11:15:09.093943",
     "status": "completed"
    },
    "tags": []
   },
   "outputs": [
    {
     "name": "stdout",
     "output_type": "stream",
     "text": [
      "\n",
      "total rows : 120\n",
      "\n"
     ]
    },
    {
     "data": {
      "text/html": [
       "<div>\n",
       "<style scoped>\n",
       "    .dataframe tbody tr th:only-of-type {\n",
       "        vertical-align: middle;\n",
       "    }\n",
       "\n",
       "    .dataframe tbody tr th {\n",
       "        vertical-align: top;\n",
       "    }\n",
       "\n",
       "    .dataframe thead th {\n",
       "        text-align: right;\n",
       "    }\n",
       "</style>\n",
       "<table border=\"1\" class=\"dataframe\">\n",
       "  <thead>\n",
       "    <tr style=\"text-align: right;\">\n",
       "      <th></th>\n",
       "      <th>row_id</th>\n",
       "      <th>abethr1</th>\n",
       "      <th>abhori1</th>\n",
       "      <th>abythr1</th>\n",
       "      <th>afbfly1</th>\n",
       "      <th>afdfly1</th>\n",
       "      <th>afecuc1</th>\n",
       "      <th>affeag1</th>\n",
       "      <th>afgfly1</th>\n",
       "      <th>afghor1</th>\n",
       "      <th>...</th>\n",
       "      <th>yebsto1</th>\n",
       "      <th>yeccan1</th>\n",
       "      <th>yefcan</th>\n",
       "      <th>yelbis1</th>\n",
       "      <th>yenspu1</th>\n",
       "      <th>yertin1</th>\n",
       "      <th>yesbar1</th>\n",
       "      <th>yespet1</th>\n",
       "      <th>yetgre1</th>\n",
       "      <th>yewgre1</th>\n",
       "    </tr>\n",
       "  </thead>\n",
       "  <tbody>\n",
       "    <tr>\n",
       "      <th>0</th>\n",
       "      <td>soundscape_29201_5</td>\n",
       "      <td>0.015628</td>\n",
       "      <td>0.011918</td>\n",
       "      <td>0.003494</td>\n",
       "      <td>0.000427</td>\n",
       "      <td>0.001119</td>\n",
       "      <td>0.002207</td>\n",
       "      <td>0.018192</td>\n",
       "      <td>0.005389</td>\n",
       "      <td>0.012614</td>\n",
       "      <td>...</td>\n",
       "      <td>0.000118</td>\n",
       "      <td>0.000186</td>\n",
       "      <td>0.004127</td>\n",
       "      <td>0.002239</td>\n",
       "      <td>0.003181</td>\n",
       "      <td>0.001583</td>\n",
       "      <td>0.000810</td>\n",
       "      <td>0.000946</td>\n",
       "      <td>0.001051</td>\n",
       "      <td>0.001433</td>\n",
       "    </tr>\n",
       "    <tr>\n",
       "      <th>1</th>\n",
       "      <td>soundscape_29201_10</td>\n",
       "      <td>0.007250</td>\n",
       "      <td>0.050832</td>\n",
       "      <td>0.000499</td>\n",
       "      <td>0.007078</td>\n",
       "      <td>0.000781</td>\n",
       "      <td>0.001115</td>\n",
       "      <td>0.007462</td>\n",
       "      <td>0.001028</td>\n",
       "      <td>0.003030</td>\n",
       "      <td>...</td>\n",
       "      <td>0.000192</td>\n",
       "      <td>0.000314</td>\n",
       "      <td>0.005691</td>\n",
       "      <td>0.008901</td>\n",
       "      <td>0.004888</td>\n",
       "      <td>0.009514</td>\n",
       "      <td>0.001043</td>\n",
       "      <td>0.002035</td>\n",
       "      <td>0.003394</td>\n",
       "      <td>0.006168</td>\n",
       "    </tr>\n",
       "    <tr>\n",
       "      <th>2</th>\n",
       "      <td>soundscape_29201_15</td>\n",
       "      <td>0.108262</td>\n",
       "      <td>0.022324</td>\n",
       "      <td>0.019742</td>\n",
       "      <td>0.004341</td>\n",
       "      <td>0.002189</td>\n",
       "      <td>0.024214</td>\n",
       "      <td>0.010394</td>\n",
       "      <td>0.001688</td>\n",
       "      <td>0.008344</td>\n",
       "      <td>...</td>\n",
       "      <td>0.000176</td>\n",
       "      <td>0.000292</td>\n",
       "      <td>0.030875</td>\n",
       "      <td>0.001350</td>\n",
       "      <td>0.002302</td>\n",
       "      <td>0.015166</td>\n",
       "      <td>0.000991</td>\n",
       "      <td>0.010652</td>\n",
       "      <td>0.016145</td>\n",
       "      <td>0.005633</td>\n",
       "    </tr>\n",
       "    <tr>\n",
       "      <th>3</th>\n",
       "      <td>soundscape_29201_20</td>\n",
       "      <td>0.004776</td>\n",
       "      <td>0.012734</td>\n",
       "      <td>0.020778</td>\n",
       "      <td>0.026120</td>\n",
       "      <td>0.011381</td>\n",
       "      <td>0.011315</td>\n",
       "      <td>0.020853</td>\n",
       "      <td>0.005677</td>\n",
       "      <td>0.010422</td>\n",
       "      <td>...</td>\n",
       "      <td>0.000553</td>\n",
       "      <td>0.007995</td>\n",
       "      <td>0.012131</td>\n",
       "      <td>0.011380</td>\n",
       "      <td>0.002957</td>\n",
       "      <td>0.015687</td>\n",
       "      <td>0.016150</td>\n",
       "      <td>0.002822</td>\n",
       "      <td>0.007198</td>\n",
       "      <td>0.022061</td>\n",
       "    </tr>\n",
       "    <tr>\n",
       "      <th>4</th>\n",
       "      <td>soundscape_29201_25</td>\n",
       "      <td>0.006940</td>\n",
       "      <td>0.008852</td>\n",
       "      <td>0.005213</td>\n",
       "      <td>0.048265</td>\n",
       "      <td>0.005437</td>\n",
       "      <td>0.003858</td>\n",
       "      <td>0.011891</td>\n",
       "      <td>0.001949</td>\n",
       "      <td>0.007146</td>\n",
       "      <td>...</td>\n",
       "      <td>0.000326</td>\n",
       "      <td>0.001565</td>\n",
       "      <td>0.018321</td>\n",
       "      <td>0.030298</td>\n",
       "      <td>0.002260</td>\n",
       "      <td>0.008572</td>\n",
       "      <td>0.008903</td>\n",
       "      <td>0.003125</td>\n",
       "      <td>0.006802</td>\n",
       "      <td>0.005769</td>\n",
       "    </tr>\n",
       "  </tbody>\n",
       "</table>\n",
       "<p>5 rows × 265 columns</p>\n",
       "</div>"
      ],
      "text/plain": [
       "                row_id   abethr1   abhori1   abythr1   afbfly1   afdfly1  \\\n",
       "0   soundscape_29201_5  0.015628  0.011918  0.003494  0.000427  0.001119   \n",
       "1  soundscape_29201_10  0.007250  0.050832  0.000499  0.007078  0.000781   \n",
       "2  soundscape_29201_15  0.108262  0.022324  0.019742  0.004341  0.002189   \n",
       "3  soundscape_29201_20  0.004776  0.012734  0.020778  0.026120  0.011381   \n",
       "4  soundscape_29201_25  0.006940  0.008852  0.005213  0.048265  0.005437   \n",
       "\n",
       "    afecuc1   affeag1   afgfly1   afghor1  ...   yebsto1   yeccan1    yefcan  \\\n",
       "0  0.002207  0.018192  0.005389  0.012614  ...  0.000118  0.000186  0.004127   \n",
       "1  0.001115  0.007462  0.001028  0.003030  ...  0.000192  0.000314  0.005691   \n",
       "2  0.024214  0.010394  0.001688  0.008344  ...  0.000176  0.000292  0.030875   \n",
       "3  0.011315  0.020853  0.005677  0.010422  ...  0.000553  0.007995  0.012131   \n",
       "4  0.003858  0.011891  0.001949  0.007146  ...  0.000326  0.001565  0.018321   \n",
       "\n",
       "    yelbis1   yenspu1   yertin1   yesbar1   yespet1   yetgre1   yewgre1  \n",
       "0  0.002239  0.003181  0.001583  0.000810  0.000946  0.001051  0.001433  \n",
       "1  0.008901  0.004888  0.009514  0.001043  0.002035  0.003394  0.006168  \n",
       "2  0.001350  0.002302  0.015166  0.000991  0.010652  0.016145  0.005633  \n",
       "3  0.011380  0.002957  0.015687  0.016150  0.002822  0.007198  0.022061  \n",
       "4  0.030298  0.002260  0.008572  0.008903  0.003125  0.006802  0.005769  \n",
       "\n",
       "[5 rows x 265 columns]"
      ]
     },
     "execution_count": 12,
     "metadata": {},
     "output_type": "execute_result"
    }
   ],
   "source": [
    "prediction_dicts = {}\n",
    "for d in dicts:\n",
    "    prediction_dicts.update(d)\n",
    "    \n",
    "submission = pd.DataFrame.from_dict(prediction_dicts, \"index\").rename_axis(\"row_id\").reset_index()\n",
    "submission.to_csv(\"submission.csv\", index=False)\n",
    "print(f\"\"\"\n",
    "total rows : {len(submission)}\n",
    "\"\"\")\n",
    "submission.head()"
   ]
  },
  {
   "cell_type": "code",
   "execution_count": null,
   "id": "e9e2ebe0",
   "metadata": {
    "papermill": {
     "duration": 0.007924,
     "end_time": "2023-05-16T11:15:09.287358",
     "exception": false,
     "start_time": "2023-05-16T11:15:09.279434",
     "status": "completed"
    },
    "tags": []
   },
   "outputs": [],
   "source": []
  },
  {
   "cell_type": "code",
   "execution_count": null,
   "id": "f3c229b8",
   "metadata": {
    "papermill": {
     "duration": 0.007963,
     "end_time": "2023-05-16T11:15:09.303834",
     "exception": false,
     "start_time": "2023-05-16T11:15:09.295871",
     "status": "completed"
    },
    "tags": []
   },
   "outputs": [],
   "source": []
  },
  {
   "cell_type": "code",
   "execution_count": null,
   "id": "090cc3fe",
   "metadata": {
    "papermill": {
     "duration": 0.008299,
     "end_time": "2023-05-16T11:15:09.321706",
     "exception": false,
     "start_time": "2023-05-16T11:15:09.313407",
     "status": "completed"
    },
    "tags": []
   },
   "outputs": [],
   "source": []
  }
 ],
 "metadata": {
  "kernelspec": {
   "display_name": "Python 3",
   "language": "python",
   "name": "python3"
  },
  "language_info": {
   "codemirror_mode": {
    "name": "ipython",
    "version": 3
   },
   "file_extension": ".py",
   "mimetype": "text/x-python",
   "name": "python",
   "nbconvert_exporter": "python",
   "pygments_lexer": "ipython3",
   "version": "3.10.10"
  },
  "papermill": {
   "default_parameters": {},
   "duration": 87.886698,
   "end_time": "2023-05-16T11:15:12.686861",
   "environment_variables": {},
   "exception": null,
   "input_path": "__notebook__.ipynb",
   "output_path": "__notebook__.ipynb",
   "parameters": {},
   "start_time": "2023-05-16T11:13:44.800163",
   "version": "2.4.0"
  }
 },
 "nbformat": 4,
 "nbformat_minor": 5
}
