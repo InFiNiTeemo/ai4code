{
 "cells": [
  {
   "cell_type": "code",
   "execution_count": 1,
   "id": "adb18f5a",
   "metadata": {
    "_kg_hide-output": true,
    "execution": {
     "iopub.execute_input": "2023-05-02T19:52:57.092427Z",
     "iopub.status.busy": "2023-05-02T19:52:57.092046Z",
     "iopub.status.idle": "2023-05-02T19:54:19.517520Z",
     "shell.execute_reply": "2023-05-02T19:54:19.516141Z"
    },
    "papermill": {
     "duration": 82.436707,
     "end_time": "2023-05-02T19:54:19.520255",
     "exception": false,
     "start_time": "2023-05-02T19:52:57.083548",
     "status": "completed"
    },
    "tags": []
   },
   "outputs": [
    {
     "name": "stdout",
     "output_type": "stream",
     "text": [
      "\u001b[31mERROR: torchaudio-0.8.1-cp37-cp37m-manylinux1_x86_64.whl is not a supported wheel on this platform.\u001b[0m\u001b[31m\r\n",
      "\u001b[0mProcessing /kaggle/input/birds-inference-pip-wheels/audiomentations-0.16.0-py3-none-any.whl\r\n",
      "Installing collected packages: audiomentations\r\n",
      "Successfully installed audiomentations-0.16.0\r\n",
      "\u001b[33mWARNING: Running pip as the 'root' user can result in broken permissions and conflicting behaviour with the system package manager. It is recommended to use a virtual environment instead: https://pip.pypa.io/warnings/venv\u001b[0m\u001b[33m\r\n",
      "\u001b[0mProcessing /kaggle/input/birds-inference-pip-wheels/torchlibrosa-0.0.9-py3-none-any.whl\r\n",
      "Installing collected packages: torchlibrosa\r\n",
      "Successfully installed torchlibrosa-0.0.9\r\n",
      "\u001b[33mWARNING: Running pip as the 'root' user can result in broken permissions and conflicting behaviour with the system package manager. It is recommended to use a virtual environment instead: https://pip.pypa.io/warnings/venv\u001b[0m\u001b[33m\r\n",
      "\u001b[0mProcessing /kaggle/input/nnaudio031/nnAudio-0.3.1-py3-none-any.whl\r\n",
      "Requirement already satisfied: scipy in /opt/conda/lib/python3.10/site-packages (from nnAudio==0.3.1) (1.9.3)\r\n",
      "Requirement already satisfied: numpy<1.26.0,>=1.18.5 in /opt/conda/lib/python3.10/site-packages (from scipy->nnAudio==0.3.1) (1.23.5)\r\n",
      "Installing collected packages: nnAudio\r\n",
      "Successfully installed nnAudio-0.3.1\r\n",
      "\u001b[33mWARNING: Running pip as the 'root' user can result in broken permissions and conflicting behaviour with the system package manager. It is recommended to use a virtual environment instead: https://pip.pypa.io/warnings/venv\u001b[0m\u001b[33m\r\n",
      "\u001b[0mcp: cannot stat '../input/timmlatest': No such file or directory\r\n",
      "\u001b[31mERROR: Invalid requirement: '../working/timmlatest'\r\n",
      "Hint: It looks like a path. File '../working/timmlatest' does not exist.\u001b[0m\u001b[31m\r\n",
      "\u001b[0m"
     ]
    }
   ],
   "source": [
    "## setup\n",
    "## TODO: move all under bird2022wheels\n",
    "\n",
    "!pip install ../input/birds-inference-pip-wheels/torchaudio-0.8.1-cp37-cp37m-manylinux1_x86_64.whl ../input/birds-inference-pip-wheels/torch-1.8.1-cp37-cp37m-manylinux1_x86_64.whl\n",
    "!pip install ../input/birds-inference-pip-wheels/audiomentations-0.16.0-py3-none-any.whl --no-index --no-deps\n",
    "!pip install ../input/birds-inference-pip-wheels/torchlibrosa-0.0.9-py3-none-any.whl --no-index --no-deps\n",
    "!pip install ../input/nnaudio031/nnAudio-0.3.1-py3-none-any.whl\n",
    "!cp -r ../input/timmlatest ../working/timmlatest\n",
    "!pip install -U ../working/timmlatest\n",
    "!rm -rf ../working/timmlatest\n",
    "\n",
    "# !pip install nnAudio"
   ]
  },
  {
   "cell_type": "code",
   "execution_count": 2,
   "id": "d86b28b1",
   "metadata": {
    "execution": {
     "iopub.execute_input": "2023-05-02T19:54:19.537177Z",
     "iopub.status.busy": "2023-05-02T19:54:19.536781Z",
     "iopub.status.idle": "2023-05-02T19:54:19.541354Z",
     "shell.execute_reply": "2023-05-02T19:54:19.540462Z"
    },
    "papermill": {
     "duration": 0.015343,
     "end_time": "2023-05-02T19:54:19.543349",
     "exception": false,
     "start_time": "2023-05-02T19:54:19.528006",
     "status": "completed"
    },
    "tags": []
   },
   "outputs": [],
   "source": [
    "# !ls /kaggle/input/blef0503/\n",
    "# !ls /kaggle/input/nfnet-baseline-bs16/nfnet-baseline-bs16/nf0_v5_TimmClassifier_eca_nfnet_l0_0_lb\n",
    "# !ls /kaggle/input/birds-inference-pip-wheels/*\n",
    "# !pip freeze|grep torch"
   ]
  },
  {
   "cell_type": "code",
   "execution_count": 3,
   "id": "c2677197",
   "metadata": {
    "execution": {
     "iopub.execute_input": "2023-05-02T19:54:19.558803Z",
     "iopub.status.busy": "2023-05-02T19:54:19.558453Z",
     "iopub.status.idle": "2023-05-02T19:54:19.563699Z",
     "shell.execute_reply": "2023-05-02T19:54:19.562619Z"
    },
    "papermill": {
     "duration": 0.015156,
     "end_time": "2023-05-02T19:54:19.565579",
     "exception": false,
     "start_time": "2023-05-02T19:54:19.550423",
     "status": "completed"
    },
    "tags": []
   },
   "outputs": [],
   "source": [
    "## https://github.com/Selimonder/birdclef2022/\n",
    "import os, sys, glob, math\n",
    "\n",
    "os.environ[\"MKL_NUM_THREADS\"] = \"1\"\n",
    "os.environ[\"OMP_NUM_THREADS\"] = \"1\"\n",
    "\n",
    "github_folder = \"/kaggle/input/blef0503\"\n",
    "sys.path.append(github_folder)"
   ]
  },
  {
   "cell_type": "code",
   "execution_count": 4,
   "id": "77a557d2",
   "metadata": {
    "execution": {
     "iopub.execute_input": "2023-05-02T19:54:19.581230Z",
     "iopub.status.busy": "2023-05-02T19:54:19.580708Z",
     "iopub.status.idle": "2023-05-02T19:54:25.894632Z",
     "shell.execute_reply": "2023-05-02T19:54:25.893547Z"
    },
    "papermill": {
     "duration": 6.324389,
     "end_time": "2023-05-02T19:54:25.897035",
     "exception": false,
     "start_time": "2023-05-02T19:54:19.572646",
     "status": "completed"
    },
    "tags": []
   },
   "outputs": [
    {
     "name": "stderr",
     "output_type": "stream",
     "text": [
      "/opt/conda/lib/python3.10/site-packages/scipy/__init__.py:146: UserWarning: A NumPy version >=1.16.5 and <1.23.0 is required for this version of SciPy (detected version 1.23.5\n",
      "  warnings.warn(f\"A NumPy version >={np_minversion} and <{np_maxversion}\"\n",
      "/opt/conda/lib/python3.10/site-packages/nnAudio/Spectrogram.py:4: Warning: importing Spectrogram subpackage will be deprecated soon. You should import the feature extractor from the feature subpackage. See actual documentation.\n",
      "  warnings.warn(\n"
     ]
    }
   ],
   "source": [
    "import cv2\n",
    "import gc\n",
    "import torch\n",
    "import librosa\n",
    "import argparse, warnings\n",
    "\n",
    "import numpy as np\n",
    "import pandas as pd\n",
    "import IPython.display as ipd\n",
    "\n",
    "import zoo\n",
    "from training.config import load_config\n",
    "from training.datasets import BirdDatasetOOF\n",
    "\n",
    "\n",
    "cv2.ocl.setUseOpenCL(False)\n",
    "cv2.setNumThreads(0)\n",
    "\n",
    "from tqdm import tqdm\n",
    "from torch.utils.data import DataLoader\n",
    "\n",
    "warnings.simplefilter(\"ignore\")"
   ]
  },
  {
   "cell_type": "markdown",
   "id": "72a2c93e",
   "metadata": {
    "papermill": {
     "duration": 0.006922,
     "end_time": "2023-05-02T19:54:25.911470",
     "exception": false,
     "start_time": "2023-05-02T19:54:25.904548",
     "status": "completed"
    },
    "tags": []
   },
   "source": [
    "## models"
   ]
  },
  {
   "cell_type": "code",
   "execution_count": 5,
   "id": "dc1a7940",
   "metadata": {
    "execution": {
     "iopub.execute_input": "2023-05-02T19:54:25.927768Z",
     "iopub.status.busy": "2023-05-02T19:54:25.926899Z",
     "iopub.status.idle": "2023-05-02T19:54:32.453419Z",
     "shell.execute_reply": "2023-05-02T19:54:32.452217Z"
    },
    "papermill": {
     "duration": 6.536979,
     "end_time": "2023-05-02T19:54:32.455555",
     "exception": false,
     "start_time": "2023-05-02T19:54:25.918576",
     "status": "completed"
    },
    "tags": []
   },
   "outputs": [
    {
     "name": "stdout",
     "output_type": "stream",
     "text": [
      "/kaggle/input/nfnet-baseline-bs16/nfnet-baseline-bs16/nf0_v5_TimmClassifier_eca_nfnet_l0_0_lb\n",
      "initing CLS features model 15 duration...\n",
      "pretrained model...\n",
      "{'in_chans': 1, 'drop_path_rate': 0.2, 'drop_rate': 0.5}\n",
      "=> loading checkpoint '/kaggle/input/nfnet-baseline-bs16/nfnet-baseline-bs16/nf0_v5_TimmClassifier_eca_nfnet_l0_0_lb''\n",
      "epoch 18\n",
      "/kaggle/input/nfnet-baseline-bs16/nfnet-baseline-bs16/nf0_v5_TimmClassifier_eca_nfnet_l0_1_lb\n",
      "initing CLS features model 15 duration...\n",
      "pretrained model...\n",
      "{'in_chans': 1, 'drop_path_rate': 0.2, 'drop_rate': 0.5}\n",
      "=> loading checkpoint '/kaggle/input/nfnet-baseline-bs16/nfnet-baseline-bs16/nf0_v5_TimmClassifier_eca_nfnet_l0_1_lb''\n",
      "epoch 14\n",
      "/kaggle/input/nfnet-baseline-bs16/nfnet-baseline-bs16/nf0_v5_TimmClassifier_eca_nfnet_l0_2_lb\n",
      "initing CLS features model 15 duration...\n",
      "pretrained model...\n",
      "{'in_chans': 1, 'drop_path_rate': 0.2, 'drop_rate': 0.5}\n",
      "=> loading checkpoint '/kaggle/input/nfnet-baseline-bs16/nfnet-baseline-bs16/nf0_v5_TimmClassifier_eca_nfnet_l0_2_lb''\n",
      "epoch 15\n",
      "/kaggle/input/nfnet-baseline-bs16/nfnet-baseline-bs16/nf0_v5_TimmClassifier_eca_nfnet_l0_3_lb\n",
      "initing CLS features model 15 duration...\n",
      "pretrained model...\n",
      "{'in_chans': 1, 'drop_path_rate': 0.2, 'drop_rate': 0.5}\n",
      "=> loading checkpoint '/kaggle/input/nfnet-baseline-bs16/nfnet-baseline-bs16/nf0_v5_TimmClassifier_eca_nfnet_l0_3_lb''\n",
      "epoch 9\n",
      "/kaggle/input/nfnet-baseline-bs16/nfnet-baseline-bs16/nf0_v5_TimmClassifier_eca_nfnet_l0_4_lb\n",
      "initing CLS features model 15 duration...\n",
      "pretrained model...\n",
      "{'in_chans': 1, 'drop_path_rate': 0.2, 'drop_rate': 0.5}\n",
      "=> loading checkpoint '/kaggle/input/nfnet-baseline-bs16/nfnet-baseline-bs16/nf0_v5_TimmClassifier_eca_nfnet_l0_4_lb''\n",
      "epoch 3\n"
     ]
    }
   ],
   "source": [
    "def load_model(conf_path: str, weights_path: str, prefix: str, suffix: str, fold: int, to_device: bool = True):\n",
    "    conf = load_config(conf_path)\n",
    "    conf['encoder_params']['pretrained'] = False\n",
    "    \n",
    "    snapshot_name = \"{}{}_{}_{}_{}\".format(prefix, conf[\"network\"], conf[\"encoder_params\"][\"encoder\"], fold, suffix)\n",
    "    weights_path = os.path.join(weights_path, snapshot_name)\n",
    "    print(weights_path)\n",
    "    model = zoo.__dict__[conf[\"network\"]](**conf[\"encoder_params\"])\n",
    "    model = torch.nn.DataParallel(model)\n",
    "    print(\"=> loading checkpoint '{}''\".format(weights_path))\n",
    "    checkpoint = torch.load(weights_path, map_location=\"cpu\")\n",
    "    print(\"epoch\", checkpoint[\"epoch\"])\n",
    "    model.load_state_dict(checkpoint[\"state_dict\"])\n",
    "    model.eval()\n",
    "    if to_device: model.cuda()\n",
    "    return model\n",
    "\n",
    "models = []\n",
    "\n",
    "## best only for now\n",
    "suffixes = [\"lb\"]#, \"f1_score\" \"last\"]\n",
    "folds    = 5\n",
    "\n",
    "for i in range(folds):\n",
    "    for sx in suffixes:\n",
    "        try:\n",
    "            model = load_model(conf_path    = f\"{github_folder}/configs/cls_nf0_v5.json\",\n",
    "                               weights_path = f\"/kaggle/input/nfnet-baseline-bs16/nfnet-baseline-bs16\",\n",
    "                               prefix       = \"nf0_v5_\",\n",
    "                               suffix       = sx,\n",
    "                               fold         = i,\n",
    "                               to_device    = False,)\n",
    "            models.append(model)\n",
    "        except Exception as e:\n",
    "            print(f\"model not found\", e)"
   ]
  },
  {
   "cell_type": "code",
   "execution_count": 6,
   "id": "5459b4fe",
   "metadata": {
    "execution": {
     "iopub.execute_input": "2023-05-02T19:54:32.473712Z",
     "iopub.status.busy": "2023-05-02T19:54:32.472764Z",
     "iopub.status.idle": "2023-05-02T19:54:32.479217Z",
     "shell.execute_reply": "2023-05-02T19:54:32.478308Z"
    },
    "papermill": {
     "duration": 0.017599,
     "end_time": "2023-05-02T19:54:32.481397",
     "exception": false,
     "start_time": "2023-05-02T19:54:32.463798",
     "status": "completed"
    },
    "tags": []
   },
   "outputs": [],
   "source": [
    "len(models)\n",
    "models = [models[0]]"
   ]
  },
  {
   "cell_type": "markdown",
   "id": "8d946d7a",
   "metadata": {
    "papermill": {
     "duration": 0.007709,
     "end_time": "2023-05-02T19:54:32.497291",
     "exception": false,
     "start_time": "2023-05-02T19:54:32.489582",
     "status": "completed"
    },
    "tags": []
   },
   "source": [
    "## infer"
   ]
  },
  {
   "cell_type": "code",
   "execution_count": 7,
   "id": "c57950fe",
   "metadata": {
    "execution": {
     "iopub.execute_input": "2023-05-02T19:54:32.514998Z",
     "iopub.status.busy": "2023-05-02T19:54:32.514628Z",
     "iopub.status.idle": "2023-05-02T19:54:32.520057Z",
     "shell.execute_reply": "2023-05-02T19:54:32.519103Z"
    },
    "papermill": {
     "duration": 0.017007,
     "end_time": "2023-05-02T19:54:32.522304",
     "exception": false,
     "start_time": "2023-05-02T19:54:32.505297",
     "status": "completed"
    },
    "tags": []
   },
   "outputs": [],
   "source": [
    "CLASSES = \"abethr1 abhori1 abythr1 afbfly1 afdfly1 afecuc1 affeag1 afgfly1 afghor1 afmdov1 afpfly1 afpkin1 afpwag1 afrgos1 afrgrp1 afrjac1 afrthr1 amesun2 augbuz1 bagwea1 barswa bawhor2 bawman1 bcbeat1 beasun2 bkctch1 bkfruw1 blacra1 blacuc1 blakit1 blaplo1 blbpuf2 blcapa2 blfbus1 blhgon1 blhher1 blksaw1 blnmou1 blnwea1 bltapa1 bltbar1 bltori1 blwlap1 brcale1 brcsta1 brctch1 brcwea1 brican1 brobab1 broman1 brosun1 brrwhe3 brtcha1 brubru1 brwwar1 bswdov1 btweye2 bubwar2 butapa1 cabgre1 carcha1 carwoo1 categr ccbeat1 chespa1 chewea1 chibat1 chtapa3 chucis1 cibwar1 cohmar1 colsun2 combul2 combuz1 comsan crefra2 crheag1 crohor1 darbar1 darter3 didcuc1 dotbar1 dutdov1 easmog1 eaywag1 edcsun3 egygoo equaka1 eswdov1 eubeat1 fatrav1 fatwid1 fislov1 fotdro5 gabgos2 gargan gbesta1 gnbcam2 gnhsun1 gobbun1 gobsta5 gobwea1 golher1 grbcam1 grccra1 grecor greegr grewoo2 grwpyt1 gryapa1 grywrw1 gybfis1 gycwar3 gyhbus1 gyhkin1 gyhneg1 gyhspa1 gytbar1 hadibi1 hamerk1 hartur1 helgui hipbab1 hoopoe huncis1 hunsun2 joygre1 kerspa2 klacuc1 kvbsun1 laudov1 lawgol lesmaw1 lessts1 libeat1 litegr litswi1 litwea1 loceag1 lotcor1 lotlap1 luebus1 mabeat1 macshr1 malkin1 marsto1 marsun2 mcptit1 meypar1 moccha1 mouwag1 ndcsun2 nobfly1 norbro1 norcro1 norfis1 norpuf1 nubwoo1 pabspa1 palfly2 palpri1 piecro1 piekin1 pitwhy purgre2 pygbat1 quailf1 ratcis1 raybar1 rbsrob1 rebfir2 rebhor1 reboxp1 reccor reccuc1 reedov1 refbar2 refcro1 reftin1 refwar2 rehblu1 rehwea1 reisee2 rerswa1 rewsta1 rindov rocmar2 rostur1 ruegls1 rufcha2 sacibi2 sccsun2 scrcha1 scthon1 shesta1 sichor1 sincis1 slbgre1 slcbou1 sltnig1 sobfly1 somgre1 somtit4 soucit1 soufis1 spemou2 spepig1 spewea1 spfbar1 spfwea1 spmthr1 spwlap1 squher1 strher strsee1 stusta1 subbus1 supsta1 tacsun1 tafpri1 tamdov1 thrnig1 trobou1 varsun2 vibsta2 vilwea1 vimwea1 walsta1 wbgbir1 wbrcha2 wbswea1 wfbeat1 whbcan1 whbcou1 whbcro2 whbtit5 whbwea1 whbwhe3 whcpri2 whctur2 wheslf1 whhsaw1 whihel1 whrshr1 witswa1 wlwwar wookin1 woosan wtbeat1 yebapa1 yebbar1 yebduc1 yebere1 yebgre1 yebsto1 yeccan1 yefcan yelbis1 yenspu1 yertin1 yesbar1 yespet1 yetgre1 yewgre1\".split()\n",
    "N_CLASS = len(CLASSES)"
   ]
  },
  {
   "cell_type": "code",
   "execution_count": 8,
   "id": "93831809",
   "metadata": {
    "execution": {
     "iopub.execute_input": "2023-05-02T19:54:32.540251Z",
     "iopub.status.busy": "2023-05-02T19:54:32.539867Z",
     "iopub.status.idle": "2023-05-02T19:54:32.551027Z",
     "shell.execute_reply": "2023-05-02T19:54:32.550220Z"
    },
    "papermill": {
     "duration": 0.022569,
     "end_time": "2023-05-02T19:54:32.553146",
     "exception": false,
     "start_time": "2023-05-02T19:54:32.530577",
     "status": "completed"
    },
    "tags": []
   },
   "outputs": [],
   "source": [
    "\n",
    "def prepare_clip(fpath, frame_length, sample_rate):\n",
    "    \"\"\"\n",
    "    Prepare audio clip for inference\n",
    "    \"\"\"\n",
    "    infer_frame_length = frame_length\n",
    "    batch = {\"wav_tensors\": [], \"end_times\": []}\n",
    "    \n",
    "    waveform, sample_rate = librosa.load(fpath, sr=sample_rate, mono=True)\n",
    "    n_parts = math.ceil(len(waveform) / int(infer_frame_length * sample_rate))\n",
    "    \n",
    "    for seg_idx in range(n_parts): \n",
    "        end_time = (seg_idx + 1) * frame_length\n",
    "        seg_wav  = waveform[(end_time*sample_rate)-(sample_rate*frame_length):end_time*sample_rate]\n",
    "        \n",
    "        wav_tensor = torch.from_numpy(seg_wav)\n",
    "        \n",
    "        if len(wav_tensor) == frame_length * sample_rate:\n",
    "            batch[\"wav_tensors\"].append(wav_tensor.unsqueeze(0))\n",
    "        elif len(wav_tensor) < frame_length * sample_rate:\n",
    "            wav_tensor = torch.nn.functional.pad(wav_tensor, (0, (frame_length * sample_rate) - len(wav_tensor)))\n",
    "            batch[\"wav_tensors\"].append(wav_tensor.unsqueeze(0))\n",
    "        elif len(wav_tensor) > frame_length * sample_rate:\n",
    "            wav_tensor = wav_tensor[:(frame_length * sample_rate)]\n",
    "            batch[\"wav_tensors\"].append(wav_tensor.unsqueeze(0))\n",
    "            \n",
    "        batch[\"end_times\"].append(end_time)\n",
    "    batch[\"wav_tensors\"] = torch.stack(batch[\"wav_tensors\"])\n",
    "    return batch, n_parts, len(waveform)\n",
    "\n",
    "@torch.no_grad()\n",
    "def predict_clip(models, batch, n_parts, frame_length):\n",
    "    preds = np.zeros([len(models), n_parts, N_CLASS])\n",
    "    for m_idx, model in enumerate(models):\n",
    "        with torch.cuda.amp.autocast():\n",
    "            preds[m_idx] = model(batch[\"wav_tensors\"], is_test=True)[\"logit\"].sigmoid().cpu().numpy()\n",
    "    return preds.mean(0) ## max by model    \n",
    "    "
   ]
  },
  {
   "cell_type": "code",
   "execution_count": 9,
   "id": "342dd3a1",
   "metadata": {
    "execution": {
     "iopub.execute_input": "2023-05-02T19:54:32.571221Z",
     "iopub.status.busy": "2023-05-02T19:54:32.570583Z",
     "iopub.status.idle": "2023-05-02T19:54:32.578264Z",
     "shell.execute_reply": "2023-05-02T19:54:32.577109Z"
    },
    "papermill": {
     "duration": 0.018692,
     "end_time": "2023-05-02T19:54:32.580245",
     "exception": false,
     "start_time": "2023-05-02T19:54:32.561553",
     "status": "completed"
    },
    "tags": []
   },
   "outputs": [
    {
     "data": {
      "text/plain": [
       "1"
      ]
     },
     "execution_count": 9,
     "metadata": {},
     "output_type": "execute_result"
    }
   ],
   "source": [
    "len(models)"
   ]
  },
  {
   "cell_type": "code",
   "execution_count": 10,
   "id": "a1c8e8c5",
   "metadata": {
    "execution": {
     "iopub.execute_input": "2023-05-02T19:54:32.597491Z",
     "iopub.status.busy": "2023-05-02T19:54:32.597156Z",
     "iopub.status.idle": "2023-05-02T19:55:33.625799Z",
     "shell.execute_reply": "2023-05-02T19:55:33.624653Z"
    },
    "papermill": {
     "duration": 61.047962,
     "end_time": "2023-05-02T19:55:33.636178",
     "exception": false,
     "start_time": "2023-05-02T19:54:32.588216",
     "status": "completed"
    },
    "tags": []
   },
   "outputs": [
    {
     "name": "stdout",
     "output_type": "stream",
     "text": [
      "test file num: 1\n",
      "CPU times: user 41.3 s, sys: 18.7 s, total: 59.9 s\n",
      "Wall time: 1min 1s\n"
     ]
    }
   ],
   "source": [
    "%%time\n",
    "\n",
    "\n",
    "@torch.no_grad()\n",
    "def generate_preds():\n",
    "    debug = False\n",
    "    preds        = []\n",
    "    test_files   = sorted(glob.glob(\"/kaggle/input/birdclef-2023/test_soundscapes/*.ogg\")) \n",
    "    sample_rate  = 32000\n",
    "    \n",
    "    scored_birds = np.array(CLASSES)\n",
    "\n",
    "    frame_length = 5\n",
    "    infer_frame_length = 5\n",
    "\n",
    "    print(\"test file num:\", len(test_files))\n",
    "    for fpath in test_files:\n",
    "        file_id = os.path.basename(fpath).replace(\".ogg\", \"\")\n",
    "        batch, n_parts, len_waveform = prepare_clip(fpath, frame_length, sample_rate)\n",
    "        clip_preds = predict_clip(models, batch, n_parts, frame_length)\n",
    "        preds.append(clip_preds)\n",
    "        \n",
    "        ## switch to infer frame length\n",
    "        n_parts_sub = math.ceil(len_waveform / int(infer_frame_length * sample_rate))\n",
    "        clip_preds = np.array_split(clip_preds, n_parts_sub, axis=0)\n",
    "        \n",
    "                \n",
    "    prob_array = np.array(preds)\n",
    "    \n",
    "    scored_bird_name2idx = {}\n",
    "    for i, x in enumerate(scored_birds):\n",
    "        scored_bird_name2idx[x] = i\n",
    "\n",
    "    return prob_array, scored_bird_name2idx\n",
    "\n",
    "prob_array, scored_bird_name2idx = generate_preds()\n",
    "# del models\n",
    "# gc.collect()\n",
    "# torch.cuda.empty_cache()"
   ]
  },
  {
   "cell_type": "code",
   "execution_count": 11,
   "id": "76367d96",
   "metadata": {
    "execution": {
     "iopub.execute_input": "2023-05-02T19:55:33.654567Z",
     "iopub.status.busy": "2023-05-02T19:55:33.653820Z",
     "iopub.status.idle": "2023-05-02T19:55:33.660265Z",
     "shell.execute_reply": "2023-05-02T19:55:33.659333Z"
    },
    "papermill": {
     "duration": 0.017836,
     "end_time": "2023-05-02T19:55:33.662255",
     "exception": false,
     "start_time": "2023-05-02T19:55:33.644419",
     "status": "completed"
    },
    "tags": []
   },
   "outputs": [
    {
     "data": {
      "text/plain": [
       "(1, 120, 264)"
      ]
     },
     "execution_count": 11,
     "metadata": {},
     "output_type": "execute_result"
    }
   ],
   "source": [
    "prob_array.shape"
   ]
  },
  {
   "cell_type": "markdown",
   "id": "03b7f068",
   "metadata": {
    "papermill": {
     "duration": 0.007878,
     "end_time": "2023-05-02T19:55:33.678431",
     "exception": false,
     "start_time": "2023-05-02T19:55:33.670553",
     "status": "completed"
    },
    "tags": []
   },
   "source": [
    "----"
   ]
  },
  {
   "cell_type": "code",
   "execution_count": 12,
   "id": "571f5a0f",
   "metadata": {
    "execution": {
     "iopub.execute_input": "2023-05-02T19:55:33.696291Z",
     "iopub.status.busy": "2023-05-02T19:55:33.695898Z",
     "iopub.status.idle": "2023-05-02T19:55:33.700295Z",
     "shell.execute_reply": "2023-05-02T19:55:33.699315Z"
    },
    "papermill": {
     "duration": 0.015779,
     "end_time": "2023-05-02T19:55:33.702299",
     "exception": false,
     "start_time": "2023-05-02T19:55:33.686520",
     "status": "completed"
    },
    "tags": []
   },
   "outputs": [],
   "source": [
    "# %cd /kaggle/input/birdnetgit"
   ]
  },
  {
   "cell_type": "code",
   "execution_count": 13,
   "id": "ccc59502",
   "metadata": {
    "execution": {
     "iopub.execute_input": "2023-05-02T19:55:33.720423Z",
     "iopub.status.busy": "2023-05-02T19:55:33.719782Z",
     "iopub.status.idle": "2023-05-02T19:55:33.724737Z",
     "shell.execute_reply": "2023-05-02T19:55:33.723738Z"
    },
    "papermill": {
     "duration": 0.016171,
     "end_time": "2023-05-02T19:55:33.726680",
     "exception": false,
     "start_time": "2023-05-02T19:55:33.710509",
     "status": "completed"
    },
    "tags": []
   },
   "outputs": [],
   "source": [
    "# import os\n",
    "# import sys\n",
    "# import json\n",
    "# import math\n",
    "# import glob\n",
    "# import librosa\n",
    "# import operator\n",
    "# import argparse\n",
    "# import datetime\n",
    "# import traceback\n",
    "\n",
    "# from multiprocessing import Pool, freeze_support\n",
    "\n",
    "# import numpy as np\n",
    "\n",
    "# import config as cfg\n",
    "# import audio\n",
    "# import model\n",
    "# from analyze import *\n",
    "\n",
    "# import pandas as pd\n",
    "# import numpy as np"
   ]
  },
  {
   "cell_type": "code",
   "execution_count": 14,
   "id": "40078131",
   "metadata": {
    "execution": {
     "iopub.execute_input": "2023-05-02T19:55:33.745056Z",
     "iopub.status.busy": "2023-05-02T19:55:33.744398Z",
     "iopub.status.idle": "2023-05-02T19:55:33.749911Z",
     "shell.execute_reply": "2023-05-02T19:55:33.749238Z"
    },
    "papermill": {
     "duration": 0.01679,
     "end_time": "2023-05-02T19:55:33.751794",
     "exception": false,
     "start_time": "2023-05-02T19:55:33.735004",
     "status": "completed"
    },
    "tags": []
   },
   "outputs": [],
   "source": [
    "# df = pd.read_csv(\"../birdclef-2022/eBird_Taxonomy_v2021.csv\")\n",
    "# s2id = lambda x: df[(df['PRIMARY_COM_NAME'] == x)].SPECIES_CODE.tolist()[0]\n",
    "\n",
    "# cfg.MODEL_PATH = '/kaggle/input/birdnetgit/checkpoints/V2.1/BirdNET_GLOBAL_2K_V2.1_Model_FP32.tflite'\n",
    "# cfg.MDATA_MODEL_PATH = '/kaggle/input/birdnetgit/checkpoints/V2.1/BirdNET_GLOBAL_2K_V2.1_MData_Model_FP32.tflite'\n",
    "# cfg.LABELS_FILE = '/kaggle/input/birdnetgit/checkpoints/V2.1/BirdNET_GLOBAL_2K_V2.1_Labels.txt'\n",
    "# cfg.TRANSLATED_LABELS_PATH = '/kaggle/input/birdnetgit/labels/V2.1'\n",
    "\n",
    "# cfg.SIG_LENGTH = 5\n",
    "# cfg.SIG_OVERLAP = 0 \n",
    "# cfg.SIG_MINLEN = 5 \n",
    "\n",
    "# # Load eBird codes, labels\n",
    "\n",
    "# def loadCodes(CODEC_FILE):\n",
    "\n",
    "#     with open(CODEC_FILE, 'r') as cfile:\n",
    "#         codes = json.load(cfile)\n",
    "\n",
    "#     return codes\n",
    "\n",
    "# cfg.CODES = loadCodes(\"./eBird_taxonomy_codes_2021E.json\")\n",
    "# def loadLabels(labels_file):\n",
    "\n",
    "#     labels = []\n",
    "#     with open(labels_file, 'r') as lfile:\n",
    "#         for line in lfile.readlines():\n",
    "#             labels.append(line.replace('\\n', ''))    \n",
    "\n",
    "#     return labels\n",
    "\n",
    "# def prepare_clip(fpath):\n",
    "#     \"\"\"\n",
    "#     Prepare audio clip for inference\n",
    "#     \"\"\"\n",
    "#     sample_rate = cfg.SAMPLE_RATE\n",
    "#     frame_length = cfg.SIG_LENGTH\n",
    "#     infer_frame_length = frame_length\n",
    "    \n",
    "#     sample_rate = 48000\n",
    "#     chunks = []\n",
    "    \n",
    "#     waveform, sample_rate = librosa.load(fpath, sr=sample_rate, mono=True, res_type='kaiser_fast')\n",
    "#     n_parts = math.ceil(len(waveform) / int(infer_frame_length * sample_rate))\n",
    "    \n",
    "#     for seg_idx in range(n_parts): \n",
    "#         end_time = (seg_idx + 1) * frame_length\n",
    "#         chunk  = waveform[(end_time*sample_rate)-(sample_rate*frame_length):end_time*sample_rate]\n",
    "                \n",
    "#         if len(chunk) == frame_length * sample_rate:\n",
    "#             chunks.append(chunk)\n",
    "#         elif len(chunk) < frame_length * sample_rate:\n",
    "#             chunk = np.pad(chunk, (0, (frame_length * sample_rate) - len(chunk)))\n",
    "#             chunks.append(chunk)\n",
    "#         elif len(chunk) > frame_length * sample_rate:\n",
    "#             chunk = chunk[:(frame_length * sample_rate)]\n",
    "#             chunks.append(chunk)\n",
    "            \n",
    "#     return chunks\n",
    "\n",
    "\n",
    "# scored_birds = np.array(['akiapo', 'aniani', 'apapan', 'barpet', 'crehon', 'elepai', 'ercfra',\n",
    "#                           'hawama', 'hawcre', 'hawgoo', 'hawhaw', 'hawpet1', 'houfin', 'iiwi',\n",
    "#                           'jabwar', 'maupar', 'omao', 'puaioh', 'skylar', 'warwhe1', 'yefcan'])\n",
    "\n",
    "# cfg.LABELS = loadLabels(cfg.LABELS_FILE)\n",
    "\n",
    "# model.loadModel()\n",
    "\n"
   ]
  },
  {
   "cell_type": "code",
   "execution_count": 15,
   "id": "99b7208e",
   "metadata": {
    "execution": {
     "iopub.execute_input": "2023-05-02T19:55:33.770599Z",
     "iopub.status.busy": "2023-05-02T19:55:33.770237Z",
     "iopub.status.idle": "2023-05-02T19:55:33.774638Z",
     "shell.execute_reply": "2023-05-02T19:55:33.773504Z"
    },
    "papermill": {
     "duration": 0.017359,
     "end_time": "2023-05-02T19:55:33.777314",
     "exception": false,
     "start_time": "2023-05-02T19:55:33.759955",
     "status": "completed"
    },
    "tags": []
   },
   "outputs": [],
   "source": [
    "# bird_dict = {}\n",
    "# for i, lb in enumerate(cfg.LABELS):\n",
    "#     try:\n",
    "#         lbb = s2id(lb.split(\"_\")[-1])\n",
    "#         if lbb in scored_birds:\n",
    "#             bird_dict[lbb] = i\n",
    "#     except Exception as e:\n",
    "#         continue\n",
    "    \n",
    "# bird_dict[\"aniani\"] = 0\n",
    "\n",
    "# sorted_bd = dict(sorted(bird_dict.items(), key=lambda item: item[0]))\n",
    "# get_idx = list(sorted_bd.values())"
   ]
  },
  {
   "cell_type": "code",
   "execution_count": 16,
   "id": "c46fd351",
   "metadata": {
    "execution": {
     "iopub.execute_input": "2023-05-02T19:55:33.802960Z",
     "iopub.status.busy": "2023-05-02T19:55:33.802089Z",
     "iopub.status.idle": "2023-05-02T19:55:33.807750Z",
     "shell.execute_reply": "2023-05-02T19:55:33.806413Z"
    },
    "papermill": {
     "duration": 0.021373,
     "end_time": "2023-05-02T19:55:33.810875",
     "exception": false,
     "start_time": "2023-05-02T19:55:33.789502",
     "status": "completed"
    },
    "tags": []
   },
   "outputs": [],
   "source": [
    "# # def predict_single(test_path)\n",
    "\n",
    "# def generate_preds_bn():\n",
    "#     test_files   = sorted(glob.glob(\"/kaggle/input/birdclef-2022/test_soundscapes/*.ogg\"))\n",
    "    \n",
    "#     preds = []\n",
    "#     file_ids = []\n",
    "    \n",
    "#     for fpath in test_files:\n",
    "#         chunks = prepare_clip(fpath)\n",
    "#         pred = predict(chunks)[:, get_idx]\n",
    "#         preds.append(pred)\n",
    "#         file_id = os.path.basename(fpath).replace(\".ogg\", \"\")\n",
    "#         file_ids.append(file_id)\n",
    "        \n",
    "#     preds = np.array(preds)\n",
    "#     return preds, file_ids\n",
    "        "
   ]
  },
  {
   "cell_type": "code",
   "execution_count": 17,
   "id": "f2e120a4",
   "metadata": {
    "execution": {
     "iopub.execute_input": "2023-05-02T19:55:33.835499Z",
     "iopub.status.busy": "2023-05-02T19:55:33.834620Z",
     "iopub.status.idle": "2023-05-02T19:55:33.839194Z",
     "shell.execute_reply": "2023-05-02T19:55:33.838159Z"
    },
    "papermill": {
     "duration": 0.016864,
     "end_time": "2023-05-02T19:55:33.841179",
     "exception": false,
     "start_time": "2023-05-02T19:55:33.824315",
     "status": "completed"
    },
    "tags": []
   },
   "outputs": [],
   "source": [
    "# %%time\n",
    "# preds_bn, file_ids = generate_preds_bn()\n"
   ]
  },
  {
   "cell_type": "code",
   "execution_count": 18,
   "id": "3abafd08",
   "metadata": {
    "execution": {
     "iopub.execute_input": "2023-05-02T19:55:33.864546Z",
     "iopub.status.busy": "2023-05-02T19:55:33.863676Z",
     "iopub.status.idle": "2023-05-02T19:55:33.868024Z",
     "shell.execute_reply": "2023-05-02T19:55:33.867038Z"
    },
    "papermill": {
     "duration": 0.02063,
     "end_time": "2023-05-02T19:55:33.870415",
     "exception": false,
     "start_time": "2023-05-02T19:55:33.849785",
     "status": "completed"
    },
    "tags": []
   },
   "outputs": [],
   "source": [
    "# preds_bn[:, :, 1] = prob_array[:, :, 1] # 有一种鸟类缺失"
   ]
  },
  {
   "cell_type": "code",
   "execution_count": 19,
   "id": "f223fb41",
   "metadata": {
    "execution": {
     "iopub.execute_input": "2023-05-02T19:55:33.888830Z",
     "iopub.status.busy": "2023-05-02T19:55:33.888113Z",
     "iopub.status.idle": "2023-05-02T19:55:33.897416Z",
     "shell.execute_reply": "2023-05-02T19:55:33.896496Z"
    },
    "papermill": {
     "duration": 0.02089,
     "end_time": "2023-05-02T19:55:33.899531",
     "exception": false,
     "start_time": "2023-05-02T19:55:33.878641",
     "status": "completed"
    },
    "tags": []
   },
   "outputs": [],
   "source": [
    "def generate_file_ids():\n",
    "    test_files   = sorted(glob.glob(\"/kaggle/input/birdclef-2023/test_soundscapes/*.ogg\"))\n",
    "    \n",
    "    file_ids = []\n",
    "    \n",
    "    for fpath in test_files:\n",
    "        file_id = os.path.basename(fpath).replace(\".ogg\", \"\")\n",
    "        file_ids.append(file_id)\n",
    "        \n",
    "    return file_ids\n",
    "\n",
    "file_ids = generate_file_ids()"
   ]
  },
  {
   "cell_type": "code",
   "execution_count": 20,
   "id": "575de496",
   "metadata": {
    "execution": {
     "iopub.execute_input": "2023-05-02T19:55:33.917911Z",
     "iopub.status.busy": "2023-05-02T19:55:33.917269Z",
     "iopub.status.idle": "2023-05-02T19:55:33.922372Z",
     "shell.execute_reply": "2023-05-02T19:55:33.921731Z"
    },
    "papermill": {
     "duration": 0.01622,
     "end_time": "2023-05-02T19:55:33.924113",
     "exception": false,
     "start_time": "2023-05-02T19:55:33.907893",
     "status": "completed"
    },
    "tags": []
   },
   "outputs": [
    {
     "data": {
      "text/plain": [
       "(1, 120, 264)"
      ]
     },
     "execution_count": 20,
     "metadata": {},
     "output_type": "execute_result"
    }
   ],
   "source": [
    "## fix aniani\n",
    "avg_preds = prob_array\n",
    "\n",
    "avg_preds.shape"
   ]
  },
  {
   "cell_type": "code",
   "execution_count": 21,
   "id": "0cd63cb8",
   "metadata": {
    "execution": {
     "iopub.execute_input": "2023-05-02T19:55:33.942630Z",
     "iopub.status.busy": "2023-05-02T19:55:33.941986Z",
     "iopub.status.idle": "2023-05-02T19:55:33.957259Z",
     "shell.execute_reply": "2023-05-02T19:55:33.956521Z"
    },
    "papermill": {
     "duration": 0.027132,
     "end_time": "2023-05-02T19:55:33.959367",
     "exception": false,
     "start_time": "2023-05-02T19:55:33.932235",
     "status": "completed"
    },
    "tags": []
   },
   "outputs": [],
   "source": [
    "submission   = []\n",
    "infer_frame_length = 5\n",
    "threshold = 0.2\n",
    "\n",
    "for clip_preds, file_id in zip(avg_preds, file_ids):\n",
    "    for frame_idx, pred in enumerate(clip_preds):\n",
    "        end_time = (frame_idx + 1) * infer_frame_length\n",
    "        d = {\n",
    "            \"row_id\": f\"{file_id}_{end_time}\",\n",
    "            # \"target\": pred[bi] > threshold,\n",
    "        }\n",
    "        for bi, bird in enumerate(CLASSES):\n",
    "            d[bird] = pred[bi]\n",
    "        submission.append(d)"
   ]
  },
  {
   "cell_type": "code",
   "execution_count": 22,
   "id": "c06e0986",
   "metadata": {
    "execution": {
     "iopub.execute_input": "2023-05-02T19:55:33.977665Z",
     "iopub.status.busy": "2023-05-02T19:55:33.977029Z",
     "iopub.status.idle": "2023-05-02T19:55:33.982755Z",
     "shell.execute_reply": "2023-05-02T19:55:33.981625Z"
    },
    "papermill": {
     "duration": 0.017164,
     "end_time": "2023-05-02T19:55:33.984826",
     "exception": false,
     "start_time": "2023-05-02T19:55:33.967662",
     "status": "completed"
    },
    "tags": []
   },
   "outputs": [
    {
     "name": "stdout",
     "output_type": "stream",
     "text": [
      "/kaggle/working\n"
     ]
    }
   ],
   "source": [
    "%cd /kaggle/working"
   ]
  },
  {
   "cell_type": "code",
   "execution_count": 23,
   "id": "e942c95d",
   "metadata": {
    "execution": {
     "iopub.execute_input": "2023-05-02T19:55:34.003373Z",
     "iopub.status.busy": "2023-05-02T19:55:34.002576Z",
     "iopub.status.idle": "2023-05-02T19:55:34.093884Z",
     "shell.execute_reply": "2023-05-02T19:55:34.092792Z"
    },
    "papermill": {
     "duration": 0.103212,
     "end_time": "2023-05-02T19:55:34.096407",
     "exception": false,
     "start_time": "2023-05-02T19:55:33.993195",
     "status": "completed"
    },
    "tags": []
   },
   "outputs": [],
   "source": [
    "df_submission = pd.DataFrame(submission).set_index(\"row_id\")\n",
    "df_submission.to_csv(\"submission.csv\")"
   ]
  },
  {
   "cell_type": "code",
   "execution_count": 24,
   "id": "b67caafb",
   "metadata": {
    "execution": {
     "iopub.execute_input": "2023-05-02T19:55:34.114968Z",
     "iopub.status.busy": "2023-05-02T19:55:34.114583Z",
     "iopub.status.idle": "2023-05-02T19:55:34.148883Z",
     "shell.execute_reply": "2023-05-02T19:55:34.147913Z"
    },
    "papermill": {
     "duration": 0.046156,
     "end_time": "2023-05-02T19:55:34.150968",
     "exception": false,
     "start_time": "2023-05-02T19:55:34.104812",
     "status": "completed"
    },
    "tags": []
   },
   "outputs": [
    {
     "data": {
      "text/html": [
       "<div>\n",
       "<style scoped>\n",
       "    .dataframe tbody tr th:only-of-type {\n",
       "        vertical-align: middle;\n",
       "    }\n",
       "\n",
       "    .dataframe tbody tr th {\n",
       "        vertical-align: top;\n",
       "    }\n",
       "\n",
       "    .dataframe thead th {\n",
       "        text-align: right;\n",
       "    }\n",
       "</style>\n",
       "<table border=\"1\" class=\"dataframe\">\n",
       "  <thead>\n",
       "    <tr style=\"text-align: right;\">\n",
       "      <th></th>\n",
       "      <th>abethr1</th>\n",
       "      <th>abhori1</th>\n",
       "      <th>abythr1</th>\n",
       "      <th>afbfly1</th>\n",
       "      <th>afdfly1</th>\n",
       "      <th>afecuc1</th>\n",
       "      <th>affeag1</th>\n",
       "      <th>afgfly1</th>\n",
       "      <th>afghor1</th>\n",
       "      <th>afmdov1</th>\n",
       "      <th>...</th>\n",
       "      <th>yebsto1</th>\n",
       "      <th>yeccan1</th>\n",
       "      <th>yefcan</th>\n",
       "      <th>yelbis1</th>\n",
       "      <th>yenspu1</th>\n",
       "      <th>yertin1</th>\n",
       "      <th>yesbar1</th>\n",
       "      <th>yespet1</th>\n",
       "      <th>yetgre1</th>\n",
       "      <th>yewgre1</th>\n",
       "    </tr>\n",
       "    <tr>\n",
       "      <th>row_id</th>\n",
       "      <th></th>\n",
       "      <th></th>\n",
       "      <th></th>\n",
       "      <th></th>\n",
       "      <th></th>\n",
       "      <th></th>\n",
       "      <th></th>\n",
       "      <th></th>\n",
       "      <th></th>\n",
       "      <th></th>\n",
       "      <th></th>\n",
       "      <th></th>\n",
       "      <th></th>\n",
       "      <th></th>\n",
       "      <th></th>\n",
       "      <th></th>\n",
       "      <th></th>\n",
       "      <th></th>\n",
       "      <th></th>\n",
       "      <th></th>\n",
       "      <th></th>\n",
       "    </tr>\n",
       "  </thead>\n",
       "  <tbody>\n",
       "    <tr>\n",
       "      <th>soundscape_29201_5</th>\n",
       "      <td>0.058844</td>\n",
       "      <td>0.043928</td>\n",
       "      <td>0.068999</td>\n",
       "      <td>0.039862</td>\n",
       "      <td>0.033474</td>\n",
       "      <td>0.040036</td>\n",
       "      <td>0.036580</td>\n",
       "      <td>0.028331</td>\n",
       "      <td>0.179766</td>\n",
       "      <td>0.068183</td>\n",
       "      <td>...</td>\n",
       "      <td>0.008939</td>\n",
       "      <td>0.011095</td>\n",
       "      <td>0.037351</td>\n",
       "      <td>0.028521</td>\n",
       "      <td>0.045955</td>\n",
       "      <td>0.029256</td>\n",
       "      <td>0.026859</td>\n",
       "      <td>0.033567</td>\n",
       "      <td>0.016618</td>\n",
       "      <td>0.053409</td>\n",
       "    </tr>\n",
       "    <tr>\n",
       "      <th>soundscape_29201_10</th>\n",
       "      <td>0.093573</td>\n",
       "      <td>0.194865</td>\n",
       "      <td>0.050198</td>\n",
       "      <td>0.039397</td>\n",
       "      <td>0.049628</td>\n",
       "      <td>0.044101</td>\n",
       "      <td>0.082680</td>\n",
       "      <td>0.013826</td>\n",
       "      <td>0.037393</td>\n",
       "      <td>0.155872</td>\n",
       "      <td>...</td>\n",
       "      <td>0.003576</td>\n",
       "      <td>0.012496</td>\n",
       "      <td>0.066421</td>\n",
       "      <td>0.057395</td>\n",
       "      <td>0.026168</td>\n",
       "      <td>0.059590</td>\n",
       "      <td>0.021159</td>\n",
       "      <td>0.027531</td>\n",
       "      <td>0.021551</td>\n",
       "      <td>0.046808</td>\n",
       "    </tr>\n",
       "    <tr>\n",
       "      <th>soundscape_29201_15</th>\n",
       "      <td>0.108015</td>\n",
       "      <td>0.093828</td>\n",
       "      <td>0.108112</td>\n",
       "      <td>0.022170</td>\n",
       "      <td>0.017952</td>\n",
       "      <td>0.075927</td>\n",
       "      <td>0.092672</td>\n",
       "      <td>0.013172</td>\n",
       "      <td>0.042392</td>\n",
       "      <td>0.086522</td>\n",
       "      <td>...</td>\n",
       "      <td>0.002164</td>\n",
       "      <td>0.017376</td>\n",
       "      <td>0.074419</td>\n",
       "      <td>0.086246</td>\n",
       "      <td>0.016814</td>\n",
       "      <td>0.060048</td>\n",
       "      <td>0.016920</td>\n",
       "      <td>0.051832</td>\n",
       "      <td>0.045220</td>\n",
       "      <td>0.045686</td>\n",
       "    </tr>\n",
       "    <tr>\n",
       "      <th>soundscape_29201_20</th>\n",
       "      <td>0.034395</td>\n",
       "      <td>0.078883</td>\n",
       "      <td>0.076460</td>\n",
       "      <td>0.145195</td>\n",
       "      <td>0.043669</td>\n",
       "      <td>0.048989</td>\n",
       "      <td>0.054650</td>\n",
       "      <td>0.079476</td>\n",
       "      <td>0.090376</td>\n",
       "      <td>0.055238</td>\n",
       "      <td>...</td>\n",
       "      <td>0.001912</td>\n",
       "      <td>0.034724</td>\n",
       "      <td>0.032716</td>\n",
       "      <td>0.068893</td>\n",
       "      <td>0.033801</td>\n",
       "      <td>0.058753</td>\n",
       "      <td>0.094717</td>\n",
       "      <td>0.068111</td>\n",
       "      <td>0.059313</td>\n",
       "      <td>0.060040</td>\n",
       "    </tr>\n",
       "    <tr>\n",
       "      <th>soundscape_29201_25</th>\n",
       "      <td>0.022896</td>\n",
       "      <td>0.069754</td>\n",
       "      <td>0.086336</td>\n",
       "      <td>0.083886</td>\n",
       "      <td>0.056898</td>\n",
       "      <td>0.055132</td>\n",
       "      <td>0.038533</td>\n",
       "      <td>0.059481</td>\n",
       "      <td>0.087977</td>\n",
       "      <td>0.056657</td>\n",
       "      <td>...</td>\n",
       "      <td>0.000423</td>\n",
       "      <td>0.029171</td>\n",
       "      <td>0.041892</td>\n",
       "      <td>0.039599</td>\n",
       "      <td>0.027870</td>\n",
       "      <td>0.028914</td>\n",
       "      <td>0.063510</td>\n",
       "      <td>0.038414</td>\n",
       "      <td>0.059425</td>\n",
       "      <td>0.038843</td>\n",
       "    </tr>\n",
       "  </tbody>\n",
       "</table>\n",
       "<p>5 rows × 264 columns</p>\n",
       "</div>"
      ],
      "text/plain": [
       "                      abethr1   abhori1   abythr1   afbfly1   afdfly1  \\\n",
       "row_id                                                                  \n",
       "soundscape_29201_5   0.058844  0.043928  0.068999  0.039862  0.033474   \n",
       "soundscape_29201_10  0.093573  0.194865  0.050198  0.039397  0.049628   \n",
       "soundscape_29201_15  0.108015  0.093828  0.108112  0.022170  0.017952   \n",
       "soundscape_29201_20  0.034395  0.078883  0.076460  0.145195  0.043669   \n",
       "soundscape_29201_25  0.022896  0.069754  0.086336  0.083886  0.056898   \n",
       "\n",
       "                      afecuc1   affeag1   afgfly1   afghor1   afmdov1  ...  \\\n",
       "row_id                                                                 ...   \n",
       "soundscape_29201_5   0.040036  0.036580  0.028331  0.179766  0.068183  ...   \n",
       "soundscape_29201_10  0.044101  0.082680  0.013826  0.037393  0.155872  ...   \n",
       "soundscape_29201_15  0.075927  0.092672  0.013172  0.042392  0.086522  ...   \n",
       "soundscape_29201_20  0.048989  0.054650  0.079476  0.090376  0.055238  ...   \n",
       "soundscape_29201_25  0.055132  0.038533  0.059481  0.087977  0.056657  ...   \n",
       "\n",
       "                      yebsto1   yeccan1    yefcan   yelbis1   yenspu1  \\\n",
       "row_id                                                                  \n",
       "soundscape_29201_5   0.008939  0.011095  0.037351  0.028521  0.045955   \n",
       "soundscape_29201_10  0.003576  0.012496  0.066421  0.057395  0.026168   \n",
       "soundscape_29201_15  0.002164  0.017376  0.074419  0.086246  0.016814   \n",
       "soundscape_29201_20  0.001912  0.034724  0.032716  0.068893  0.033801   \n",
       "soundscape_29201_25  0.000423  0.029171  0.041892  0.039599  0.027870   \n",
       "\n",
       "                      yertin1   yesbar1   yespet1   yetgre1   yewgre1  \n",
       "row_id                                                                 \n",
       "soundscape_29201_5   0.029256  0.026859  0.033567  0.016618  0.053409  \n",
       "soundscape_29201_10  0.059590  0.021159  0.027531  0.021551  0.046808  \n",
       "soundscape_29201_15  0.060048  0.016920  0.051832  0.045220  0.045686  \n",
       "soundscape_29201_20  0.058753  0.094717  0.068111  0.059313  0.060040  \n",
       "soundscape_29201_25  0.028914  0.063510  0.038414  0.059425  0.038843  \n",
       "\n",
       "[5 rows x 264 columns]"
      ]
     },
     "execution_count": 24,
     "metadata": {},
     "output_type": "execute_result"
    }
   ],
   "source": [
    "# print(f\"\"\"\n",
    "# total rows : {len(df_submission)}\n",
    "# activated  : {len(df_submission[(df_submission.target==True)])}\n",
    "# \"\"\")\n",
    "\n",
    "df_submission.head()"
   ]
  },
  {
   "cell_type": "code",
   "execution_count": null,
   "id": "9f3bd7a5",
   "metadata": {
    "papermill": {
     "duration": 0.008393,
     "end_time": "2023-05-02T19:55:34.168065",
     "exception": false,
     "start_time": "2023-05-02T19:55:34.159672",
     "status": "completed"
    },
    "tags": []
   },
   "outputs": [],
   "source": []
  }
 ],
 "metadata": {
  "kernelspec": {
   "display_name": "Python 3",
   "language": "python",
   "name": "python3"
  },
  "language_info": {
   "codemirror_mode": {
    "name": "ipython",
    "version": 3
   },
   "file_extension": ".py",
   "mimetype": "text/x-python",
   "name": "python",
   "nbconvert_exporter": "python",
   "pygments_lexer": "ipython3",
   "version": "3.10.10"
  },
  "papermill": {
   "default_parameters": {},
   "duration": 168.392578,
   "end_time": "2023-05-02T19:55:36.101397",
   "environment_variables": {},
   "exception": null,
   "input_path": "__notebook__.ipynb",
   "output_path": "__notebook__.ipynb",
   "parameters": {},
   "start_time": "2023-05-02T19:52:47.708819",
   "version": "2.4.0"
  }
 },
 "nbformat": 4,
 "nbformat_minor": 5
}
