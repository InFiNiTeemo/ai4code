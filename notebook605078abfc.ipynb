{
 "cells": [
  {
   "cell_type": "code",
   "execution_count": 1,
   "id": "6de685a6",
   "metadata": {
    "_kg_hide-output": true,
    "execution": {
     "iopub.execute_input": "2023-05-18T06:53:26.004774Z",
     "iopub.status.busy": "2023-05-18T06:53:26.003991Z",
     "iopub.status.idle": "2023-05-18T06:54:00.003774Z",
     "shell.execute_reply": "2023-05-18T06:54:00.002662Z"
    },
    "papermill": {
     "duration": 34.011111,
     "end_time": "2023-05-18T06:54:00.006640",
     "exception": false,
     "start_time": "2023-05-18T06:53:25.995529",
     "status": "completed"
    },
    "tags": []
   },
   "outputs": [
    {
     "name": "stdout",
     "output_type": "stream",
     "text": [
      "Processing /kaggle/input/nnaudio031/nnAudio-0.3.1-py3-none-any.whl\r\n",
      "Requirement already satisfied: scipy in /opt/conda/lib/python3.10/site-packages (from nnAudio==0.3.1) (1.9.3)\r\n",
      "Requirement already satisfied: numpy<1.26.0,>=1.18.5 in /opt/conda/lib/python3.10/site-packages (from scipy->nnAudio==0.3.1) (1.23.5)\r\n",
      "Installing collected packages: nnAudio\r\n",
      "Successfully installed nnAudio-0.3.1\r\n",
      "\u001b[33mWARNING: Running pip as the 'root' user can result in broken permissions and conflicting behaviour with the system package manager. It is recommended to use a virtual environment instead: https://pip.pypa.io/warnings/venv\u001b[0m\u001b[33m\r\n",
      "\u001b[0m"
     ]
    }
   ],
   "source": [
    "## setup\n",
    "!pip install ../input/nnaudio031/nnAudio-0.3.1-py3-none-any.whl"
   ]
  },
  {
   "cell_type": "code",
   "execution_count": 2,
   "id": "7e903621",
   "metadata": {
    "execution": {
     "iopub.execute_input": "2023-05-18T06:54:00.022497Z",
     "iopub.status.busy": "2023-05-18T06:54:00.022040Z",
     "iopub.status.idle": "2023-05-18T06:54:01.107946Z",
     "shell.execute_reply": "2023-05-18T06:54:01.106497Z"
    },
    "papermill": {
     "duration": 1.097038,
     "end_time": "2023-05-18T06:54:01.110932",
     "exception": false,
     "start_time": "2023-05-18T06:54:00.013894",
     "status": "completed"
    },
    "tags": []
   },
   "outputs": [
    {
     "name": "stdout",
     "output_type": "stream",
     "text": [
      "ef_v10TimmClassifier_v3_tf_efficientnet_b0_0_lb\r\n",
      "ef_v10TimmClassifier_v3_tf_efficientnet_b0_10_lb\r\n",
      "ef_v10TimmClassifier_v3_tf_efficientnet_b0_1_lb\r\n",
      "ef_v10TimmClassifier_v3_tf_efficientnet_b0_2_lb\r\n",
      "ef_v10TimmClassifier_v3_tf_efficientnet_b0_3_lb\r\n",
      "ef_v10TimmClassifier_v3_tf_efficientnet_b0_4_lb\r\n"
     ]
    }
   ],
   "source": [
    "# !ls /kaggle/input/blef0503/\n",
    "# !ls /kaggle/input/ef-v0/\n",
    "# !ls /kaggle/input/birds-inference-pip-wheels/*\n",
    "# !pip freeze|grep torch\n",
    "!ls /kaggle/input/ef-v10"
   ]
  },
  {
   "cell_type": "code",
   "execution_count": 3,
   "id": "f25e2420",
   "metadata": {
    "execution": {
     "iopub.execute_input": "2023-05-18T06:54:01.126330Z",
     "iopub.status.busy": "2023-05-18T06:54:01.125884Z",
     "iopub.status.idle": "2023-05-18T06:54:01.132533Z",
     "shell.execute_reply": "2023-05-18T06:54:01.131338Z"
    },
    "papermill": {
     "duration": 0.017397,
     "end_time": "2023-05-18T06:54:01.135003",
     "exception": false,
     "start_time": "2023-05-18T06:54:01.117606",
     "status": "completed"
    },
    "tags": []
   },
   "outputs": [],
   "source": [
    "## https://github.com/Selimonder/birdclef2022/\n",
    "import os, sys, glob, math\n",
    "\n",
    "os.environ[\"MKL_NUM_THREADS\"] = \"1\"\n",
    "os.environ[\"OMP_NUM_THREADS\"] = \"1\"\n",
    "\n",
    "github_folder = \"/kaggle/input/blef0508v3\"\n",
    "sys.path.append(github_folder)"
   ]
  },
  {
   "cell_type": "code",
   "execution_count": 4,
   "id": "870eb459",
   "metadata": {
    "execution": {
     "iopub.execute_input": "2023-05-18T06:54:01.150037Z",
     "iopub.status.busy": "2023-05-18T06:54:01.149652Z",
     "iopub.status.idle": "2023-05-18T06:54:08.396577Z",
     "shell.execute_reply": "2023-05-18T06:54:08.395621Z"
    },
    "papermill": {
     "duration": 7.257448,
     "end_time": "2023-05-18T06:54:08.399213",
     "exception": false,
     "start_time": "2023-05-18T06:54:01.141765",
     "status": "completed"
    },
    "tags": []
   },
   "outputs": [
    {
     "name": "stderr",
     "output_type": "stream",
     "text": [
      "/opt/conda/lib/python3.10/site-packages/scipy/__init__.py:146: UserWarning: A NumPy version >=1.16.5 and <1.23.0 is required for this version of SciPy (detected version 1.23.5\n",
      "  warnings.warn(f\"A NumPy version >={np_minversion} and <{np_maxversion}\"\n",
      "/opt/conda/lib/python3.10/site-packages/nnAudio/Spectrogram.py:4: Warning: importing Spectrogram subpackage will be deprecated soon. You should import the feature extractor from the feature subpackage. See actual documentation.\n",
      "  warnings.warn(\n"
     ]
    }
   ],
   "source": [
    "import cv2\n",
    "import gc\n",
    "import time\n",
    "import torch\n",
    "import librosa\n",
    "import argparse, warnings\n",
    "\n",
    "import numpy as np\n",
    "import pandas as pd\n",
    "import IPython.display as ipd\n",
    "from pathlib import Path\n",
    "\n",
    "\n",
    "import zoo\n",
    "from training.config import load_config\n",
    "from training.datasets import BirdDatasetOOF\n",
    "\n",
    "\n",
    "cv2.ocl.setUseOpenCL(False)\n",
    "cv2.setNumThreads(0)\n",
    "\n",
    "from tqdm import tqdm\n",
    "from torch.utils.data import DataLoader\n",
    "\n",
    "warnings.simplefilter(\"ignore\")\n"
   ]
  },
  {
   "cell_type": "code",
   "execution_count": 5,
   "id": "bf1ef1aa",
   "metadata": {
    "execution": {
     "iopub.execute_input": "2023-05-18T06:54:08.414923Z",
     "iopub.status.busy": "2023-05-18T06:54:08.414341Z",
     "iopub.status.idle": "2023-05-18T06:54:08.423317Z",
     "shell.execute_reply": "2023-05-18T06:54:08.422433Z"
    },
    "papermill": {
     "duration": 0.020037,
     "end_time": "2023-05-18T06:54:08.426205",
     "exception": false,
     "start_time": "2023-05-18T06:54:08.406168",
     "status": "completed"
    },
    "tags": []
   },
   "outputs": [],
   "source": [
    "# accelerate\n",
    "import os\n",
    "os.environ[\"OMP_NUM_THREADS\"]=\"2\"\n",
    "os.environ[\"OMP_SCHEDULE\"]=\"STATIC\"\n",
    "os.environ[\"OMP_PROC_BIND\"]=\"CLOSE\"\n",
    "import torch\n",
    "torch.set_num_threads(4)"
   ]
  },
  {
   "cell_type": "markdown",
   "id": "ca28adbd",
   "metadata": {
    "papermill": {
     "duration": 0.006987,
     "end_time": "2023-05-18T06:54:08.441017",
     "exception": false,
     "start_time": "2023-05-18T06:54:08.434030",
     "status": "completed"
    },
    "tags": []
   },
   "source": [
    "## models"
   ]
  },
  {
   "cell_type": "code",
   "execution_count": 6,
   "id": "4a81ef33",
   "metadata": {
    "execution": {
     "iopub.execute_input": "2023-05-18T06:54:08.457016Z",
     "iopub.status.busy": "2023-05-18T06:54:08.456606Z",
     "iopub.status.idle": "2023-05-18T06:54:10.657806Z",
     "shell.execute_reply": "2023-05-18T06:54:10.656541Z"
    },
    "papermill": {
     "duration": 2.211983,
     "end_time": "2023-05-18T06:54:10.660225",
     "exception": false,
     "start_time": "2023-05-18T06:54:08.448242",
     "status": "completed"
    },
    "tags": []
   },
   "outputs": [
    {
     "name": "stdout",
     "output_type": "stream",
     "text": [
      "False <class 'bool'>\n",
      "/kaggle/input/ef0-v9/ef_v9TimmClassifier_v3_tf_efficientnet_b0_5_lb\n",
      "initing CLS features model 20 duration...\n",
      "{'in_chans': 1, 'drop_path_rate': 0.2, 'drop_rate': 0.5}\n",
      "=> loading checkpoint '/kaggle/input/ef0-v9/ef_v9TimmClassifier_v3_tf_efficientnet_b0_5_lb''\n",
      "model not found [Errno 2] No such file or directory: '/kaggle/input/ef0-v9/ef_v9TimmClassifier_v3_tf_efficientnet_b0_5_lb'\n",
      "False <class 'bool'>\n",
      "/kaggle/input/ef0-v9/ef_v9TimmClassifier_v3_tf_efficientnet_b0_10_lb\n",
      "initing CLS features model 20 duration...\n",
      "{'in_chans': 1, 'drop_path_rate': 0.2, 'drop_rate': 0.5}\n",
      "=> loading checkpoint '/kaggle/input/ef0-v9/ef_v9TimmClassifier_v3_tf_efficientnet_b0_10_lb''\n",
      "epoch 17\n",
      "False <class 'bool'>\n",
      "/kaggle/input/ef-v10/ef_v10TimmClassifier_v3_tf_efficientnet_b0_5_lb\n",
      "initing CLS features model 10 duration...\n",
      "{'in_chans': 1, 'drop_path_rate': 0.2, 'drop_rate': 0.5}\n",
      "=> loading checkpoint '/kaggle/input/ef-v10/ef_v10TimmClassifier_v3_tf_efficientnet_b0_5_lb''\n",
      "model not found [Errno 2] No such file or directory: '/kaggle/input/ef-v10/ef_v10TimmClassifier_v3_tf_efficientnet_b0_5_lb'\n",
      "False <class 'bool'>\n",
      "/kaggle/input/ef-v10/ef_v10TimmClassifier_v3_tf_efficientnet_b0_10_lb\n",
      "initing CLS features model 10 duration...\n",
      "{'in_chans': 1, 'drop_path_rate': 0.2, 'drop_rate': 0.5}\n",
      "=> loading checkpoint '/kaggle/input/ef-v10/ef_v10TimmClassifier_v3_tf_efficientnet_b0_10_lb''\n",
      "epoch 19\n",
      "False <class 'bool'>\n",
      "/kaggle/input/effnet-b0-torch-avg-weights/ef_v0TimmClassifier_v3_tf_efficientnet_b0_10_lb\n",
      "initing CLS features model 15 duration...\n",
      "{'in_chans': 1, 'drop_path_rate': 0.2, 'drop_rate': 0.5}\n",
      "=> loading checkpoint '/kaggle/input/effnet-b0-torch-avg-weights/ef_v0TimmClassifier_v3_tf_efficientnet_b0_10_lb''\n",
      "epoch 18\n",
      "False <class 'bool'>\n",
      "/kaggle/input/ef-v0-fulltrain/ef_v0TimmClassifier_v3_tf_efficientnet_b0_5_lb\n",
      "initing CLS features model 15 duration...\n",
      "{'in_chans': 1, 'drop_path_rate': 0.2, 'drop_rate': 0.5}\n",
      "=> loading checkpoint '/kaggle/input/ef-v0-fulltrain/ef_v0TimmClassifier_v3_tf_efficientnet_b0_5_lb''\n",
      "epoch 19\n",
      "False <class 'bool'>\n",
      "/kaggle/input/ef0-v7/ef_v7TimmClassifier_v3_tf_efficientnet_b0_0_lb\n",
      "initing CLS features model 15 duration...\n",
      "{'in_chans': 1, 'drop_path_rate': 0.2, 'drop_rate': 0.5}\n",
      "=> loading checkpoint '/kaggle/input/ef0-v7/ef_v7TimmClassifier_v3_tf_efficientnet_b0_0_lb''\n",
      "epoch 18\n"
     ]
    },
    {
     "data": {
      "text/plain": [
       "5"
      ]
     },
     "execution_count": 6,
     "metadata": {},
     "output_type": "execute_result"
    }
   ],
   "source": [
    "def load_model(conf_path: str, weights_path: str, prefix: str, suffix: str, fold: int, to_device: bool = True):\n",
    "    conf = load_config(conf_path)\n",
    "    conf['encoder_params']['pretrained'] = False\n",
    "    print(conf['encoder_params']['pretrained'], type(conf['encoder_params']['pretrained']))\n",
    "    \n",
    "    snapshot_name = \"{}{}_{}_{}_{}\".format(prefix, conf[\"network\"], conf[\"encoder_params\"][\"encoder\"], fold, suffix)\n",
    "    weights_path = os.path.join(weights_path, snapshot_name)\n",
    "    print(weights_path)\n",
    "    \n",
    "    model = zoo.__dict__[conf[\"network\"]](**conf[\"encoder_params\"])\n",
    "    model = torch.nn.DataParallel(model)\n",
    "    print(\"=> loading checkpoint '{}''\".format(weights_path))\n",
    "    checkpoint = torch.load(weights_path, map_location=\"cpu\")\n",
    "    print(\"epoch\", checkpoint[\"epoch\"])\n",
    "    model.load_state_dict(checkpoint[\"state_dict\"])\n",
    "    model.eval()\n",
    "    if to_device: model.cuda()\n",
    "    return model\n",
    "\n",
    "models = []\n",
    "\n",
    "\n",
    "\n",
    "# 0.80 version 34\n",
    "# conf_path    = f\"{github_folder}/configs/cls_ef_v9.json\",\n",
    "# weights_path = f\"/kaggle/input/ef0-v9\",\n",
    "# prefix       = \"ef_v9\",\n",
    "\n",
    "\n",
    "# 0.79 version 33\n",
    "# conf_path    = f\"{github_folder}/configs/cls_ef_v10.json\",\n",
    "#                                 weights_path = f\"/kaggle/input/ef-v10\",\n",
    "#                                 prefix       = \"ef_v10\",\n",
    "\n",
    "\n",
    "# 0.80 version 32, 2ndw 0.5 on fold 0\n",
    "# model = load_model(conf_path    = f\"{github_folder}/configs/cls_ef_v7.json\",\n",
    "#                                 weights_path = f\"/kaggle/input/ef0-v7\",\n",
    "#                                 prefix       = \"ef_v7\",\n",
    "\n",
    "\n",
    "# 0.80 version 30 full train with 2ndw 1\n",
    "# conf_path    = f\"{github_folder}/configs/cls_ef_v0.json\",\n",
    "# weights_path = f\"/kaggle/input/ef-v0-fulltrain\",\n",
    "# prefix       = \"ef_v0\",\n",
    "\n",
    "\n",
    "# 0.78 version 29  no pretrain sed\n",
    "# conf_path    = f\"{github_folder}/configs/sed_ef_v0.json\",\n",
    "# weights_path = f\"/kaggle/input/sed-ef-v0\",\n",
    "# prefix       = \"sed_v0\",\n",
    "\n",
    "# 0.78 version 28   train 20 epoch on pretrain 123\n",
    "# conf_path    = f\"{github_folder}/configs/cls_ef_v0.json\",\n",
    "# weights_path = f\"/kaggle/input/ef-v0-pretrain123\",\n",
    "\n",
    "# 0.80 version 27   train 25 epoch on pretrain 123\n",
    "# conf_path    = f\"{github_folder}/configs/cls_ef_v6.json\",\n",
    "# weights_path = f\"/kaggle/input/ef0-v6\",\n",
    "#                                 \"ef_v6_e20\",\n",
    "\n",
    "# 0.79 version 26 better pretrain (21,22)\n",
    "# conf_path    = f\"{github_folder}/configs/cls_ef_v0.json\",\n",
    "# weights_path = f\"/kaggle/input/ef0-v0\",\n",
    "# prefix       = \"ef_v0\",\n",
    "\n",
    "# 0.79 version 25 set 3 \n",
    "# conf_path    = f\"{github_folder}/configs/cls_ef2_v1.json\",\n",
    "# weights_path = f\"/kaggle/input/ef2-v1\",\n",
    "# prefix       = \"ef2_v1\",\n",
    "\n",
    "# 0.80 version 23-lb, 24-f1\n",
    "#conf_path    = f\"{github_folder}/configs/cls_ef2_v0.json\",\n",
    "#weights_path = f\"/kaggle/input/ef2-v0\",\n",
    "#prefix       = \"ef2_v0\",\n",
    "\n",
    "\n",
    "# 0.79 version 20\n",
    "# conf_path    = f\"{github_folder}/configs/cls_ef_v3.json\",\n",
    "# weights_path = f\"/kaggle/input/ef0-v3\",\n",
    "# prefix       = \"ef0_v3\",\n",
    "\n",
    "\n",
    "# rank 37 5folds version19\n",
    "# conf_path    = f\"{github_folder}/configs/cls_ef_v0.json\",\n",
    "# weights_path = f\"/kaggle/input/cls-ef-v0\",\n",
    "# prefix       = \"ef_v0\",\n",
    "\n",
    "# only primary, 16min rank82  cls_ef_v0.json weights_path = f\"/kaggle/input/cls-ef-v0\", prefix = \"ef_v0\",\n",
    "# rank90  cls_ef_v0.json weights_path = f\"/kaggle/input/ef-v0-pretrain\", prefix = \"ef_v0_\",\n",
    "\n",
    "\n",
    "# 0.80 最差0.80 只有fold0  其他是上传错\n",
    "# conf_path    = f\"{github_folder}/configs/cls_ef_v0.json\",\n",
    "#                                weights_path = f\"/kaggle/input/e40-ef0\",\n",
    "#                                prefix       = \"ef_v0\",\n",
    "\n",
    "# 44 min 0.79 240 conf_path    = f\"{github_folder}/configs/cls_nf0_v5.json\", weights_path = f\"/kaggle/input/nf0-v5\", prefix       = \"nf0_v5_\",\n",
    "# \n",
    "#  cls_nf0_v5.json\",weights_path = nfnet-baseline-bs16/nfnet-baseline-bs16, prefix= \"nf0_v5_\",\n",
    "\n",
    "\n",
    "# 0.78\n",
    "# f\"{github_folder}/configs/cls_nf0_v5.json\",\n",
    "# weights_path = f\"/kaggle/input/nfnet-baseline-bs16/nfnet-baseline-bs16\",\n",
    "# prefix       = \"nf0_v5_\",\n",
    "\n",
    "\n",
    "## best only for now\n",
    "suffixes = [\"lb\"]#, \"f1_score\" \"last\"]\n",
    "folds    = [5, 10]\n",
    "\n",
    "for i in folds:\n",
    "    for sx in suffixes:\n",
    "        try:\n",
    "            model = load_model(conf_path    = f\"{github_folder}/configs/cls_ef_v9.json\",\n",
    "                                weights_path = f\"/kaggle/input/ef0-v9\",\n",
    "                                prefix       = \"ef_v9\",\n",
    "                               suffix       = sx,\n",
    "                               fold         = i,\n",
    "                               to_device    = False,)\n",
    "            models.append(model)\n",
    "        except Exception as e:\n",
    "            print(f\"model not found\", e)\n",
    "\n",
    "for i in folds:\n",
    "    for sx in suffixes:\n",
    "        try:\n",
    "            model = load_model(conf_path    = f\"{github_folder}/configs/cls_ef_v10.json\",\n",
    "                                weights_path = f\"/kaggle/input/ef-v10\",\n",
    "                                prefix       = \"ef_v10\",\n",
    "                               suffix       = sx,\n",
    "                               fold         = i,\n",
    "                               to_device    = False,)\n",
    "            models.append(model)\n",
    "        except Exception as e:\n",
    "            print(f\"model not found\", e)\n",
    "        \n",
    "# for i in folds:\n",
    "#     for sx in suffixes:\n",
    "#         try:\n",
    "#             model = load_model(conf_path    = f\"{github_folder}/configs/cls_ef_v11.json\",\n",
    "#                                 weights_path = f\"/kaggle/input/ef-v11\",\n",
    "#                                 prefix       = \"ef_v11\",\n",
    "#                                suffix       = sx,\n",
    "#                                fold         = i,\n",
    "#                                to_device    = False,)\n",
    "#             models.append(model)\n",
    "#         except Exception as e:\n",
    "#             print(f\"model not found\", e)\n",
    "\n",
    "for i in [10]:\n",
    "    for sx in suffixes:\n",
    "        try:\n",
    "            model = load_model(conf_path    = f\"{github_folder}/configs/cls_ef_v0.json\",\n",
    "                                weights_path = f\"/kaggle/input/effnet-b0-torch-avg-weights\",\n",
    "                                prefix       = \"ef_v0\",\n",
    "                               suffix       = sx,\n",
    "                               fold         = i,\n",
    "                               to_device    = False,)\n",
    "            models.append(model)\n",
    "        except Exception as e:\n",
    "            print(f\"model not found\", e)\n",
    "            \n",
    "# v30\n",
    "for i in [5]:\n",
    "    for sx in suffixes:\n",
    "        try:\n",
    "            model = load_model(conf_path    = f\"{github_folder}/configs/cls_ef_v0.json\",\n",
    "                                weights_path = f\"/kaggle/input/ef-v0-fulltrain\",\n",
    "                                prefix       = \"ef_v0\",\n",
    "                               suffix       = sx,\n",
    "                               fold         = i,\n",
    "                               to_device    = False,)\n",
    "            models.append(model)\n",
    "        except Exception as e:\n",
    "            print(f\"model not found\", e)\n",
    "\n",
    "# v32\n",
    "for i in [0]:\n",
    "    for sx in suffixes:\n",
    "        try:\n",
    "            model = load_model(conf_path    = f\"{github_folder}/configs/cls_ef_v7.json\",\n",
    "                                weights_path = f\"/kaggle/input/ef0-v7\",\n",
    "                                prefix       = \"ef_v7\",\n",
    "                               suffix       = sx,\n",
    "                               fold         = i,\n",
    "                               to_device    = False,)\n",
    "            models.append(model)\n",
    "        except Exception as e:\n",
    "            print(f\"model not found\", e)            \n",
    "\n",
    "\n",
    "len(models)\n",
    "#models = [models[0]]"
   ]
  },
  {
   "cell_type": "code",
   "execution_count": 7,
   "id": "c871af77",
   "metadata": {
    "execution": {
     "iopub.execute_input": "2023-05-18T06:54:10.677066Z",
     "iopub.status.busy": "2023-05-18T06:54:10.676700Z",
     "iopub.status.idle": "2023-05-18T06:54:10.685869Z",
     "shell.execute_reply": "2023-05-18T06:54:10.684819Z"
    },
    "papermill": {
     "duration": 0.020391,
     "end_time": "2023-05-18T06:54:10.688201",
     "exception": false,
     "start_time": "2023-05-18T06:54:10.667810",
     "status": "completed"
    },
    "tags": []
   },
   "outputs": [
    {
     "data": {
      "text/plain": [
       "'3.51M'"
      ]
     },
     "execution_count": 7,
     "metadata": {},
     "output_type": "execute_result"
    }
   ],
   "source": [
    "import torch\n",
    "\n",
    "def count_parameters(model):\n",
    "    return sum(p.numel() for p in model.parameters() if p.requires_grad)\n",
    "\n",
    "f\"{count_parameters(models[0])//1024/1024:.2f}M\""
   ]
  },
  {
   "cell_type": "markdown",
   "id": "7eef2245",
   "metadata": {
    "papermill": {
     "duration": 0.007332,
     "end_time": "2023-05-18T06:54:10.703202",
     "exception": false,
     "start_time": "2023-05-18T06:54:10.695870",
     "status": "completed"
    },
    "tags": []
   },
   "source": [
    "## infer"
   ]
  },
  {
   "cell_type": "code",
   "execution_count": 8,
   "id": "6e08c414",
   "metadata": {
    "execution": {
     "iopub.execute_input": "2023-05-18T06:54:10.720029Z",
     "iopub.status.busy": "2023-05-18T06:54:10.719594Z",
     "iopub.status.idle": "2023-05-18T06:54:10.726230Z",
     "shell.execute_reply": "2023-05-18T06:54:10.725169Z"
    },
    "papermill": {
     "duration": 0.017988,
     "end_time": "2023-05-18T06:54:10.728797",
     "exception": false,
     "start_time": "2023-05-18T06:54:10.710809",
     "status": "completed"
    },
    "tags": []
   },
   "outputs": [],
   "source": [
    "CLASSES = \"abethr1 abhori1 abythr1 afbfly1 afdfly1 afecuc1 affeag1 afgfly1 afghor1 afmdov1 afpfly1 afpkin1 afpwag1 afrgos1 afrgrp1 afrjac1 afrthr1 amesun2 augbuz1 bagwea1 barswa bawhor2 bawman1 bcbeat1 beasun2 bkctch1 bkfruw1 blacra1 blacuc1 blakit1 blaplo1 blbpuf2 blcapa2 blfbus1 blhgon1 blhher1 blksaw1 blnmou1 blnwea1 bltapa1 bltbar1 bltori1 blwlap1 brcale1 brcsta1 brctch1 brcwea1 brican1 brobab1 broman1 brosun1 brrwhe3 brtcha1 brubru1 brwwar1 bswdov1 btweye2 bubwar2 butapa1 cabgre1 carcha1 carwoo1 categr ccbeat1 chespa1 chewea1 chibat1 chtapa3 chucis1 cibwar1 cohmar1 colsun2 combul2 combuz1 comsan crefra2 crheag1 crohor1 darbar1 darter3 didcuc1 dotbar1 dutdov1 easmog1 eaywag1 edcsun3 egygoo equaka1 eswdov1 eubeat1 fatrav1 fatwid1 fislov1 fotdro5 gabgos2 gargan gbesta1 gnbcam2 gnhsun1 gobbun1 gobsta5 gobwea1 golher1 grbcam1 grccra1 grecor greegr grewoo2 grwpyt1 gryapa1 grywrw1 gybfis1 gycwar3 gyhbus1 gyhkin1 gyhneg1 gyhspa1 gytbar1 hadibi1 hamerk1 hartur1 helgui hipbab1 hoopoe huncis1 hunsun2 joygre1 kerspa2 klacuc1 kvbsun1 laudov1 lawgol lesmaw1 lessts1 libeat1 litegr litswi1 litwea1 loceag1 lotcor1 lotlap1 luebus1 mabeat1 macshr1 malkin1 marsto1 marsun2 mcptit1 meypar1 moccha1 mouwag1 ndcsun2 nobfly1 norbro1 norcro1 norfis1 norpuf1 nubwoo1 pabspa1 palfly2 palpri1 piecro1 piekin1 pitwhy purgre2 pygbat1 quailf1 ratcis1 raybar1 rbsrob1 rebfir2 rebhor1 reboxp1 reccor reccuc1 reedov1 refbar2 refcro1 reftin1 refwar2 rehblu1 rehwea1 reisee2 rerswa1 rewsta1 rindov rocmar2 rostur1 ruegls1 rufcha2 sacibi2 sccsun2 scrcha1 scthon1 shesta1 sichor1 sincis1 slbgre1 slcbou1 sltnig1 sobfly1 somgre1 somtit4 soucit1 soufis1 spemou2 spepig1 spewea1 spfbar1 spfwea1 spmthr1 spwlap1 squher1 strher strsee1 stusta1 subbus1 supsta1 tacsun1 tafpri1 tamdov1 thrnig1 trobou1 varsun2 vibsta2 vilwea1 vimwea1 walsta1 wbgbir1 wbrcha2 wbswea1 wfbeat1 whbcan1 whbcou1 whbcro2 whbtit5 whbwea1 whbwhe3 whcpri2 whctur2 wheslf1 whhsaw1 whihel1 whrshr1 witswa1 wlwwar wookin1 woosan wtbeat1 yebapa1 yebbar1 yebduc1 yebere1 yebgre1 yebsto1 yeccan1 yefcan yelbis1 yenspu1 yertin1 yesbar1 yespet1 yetgre1 yewgre1\".split()\n",
    "N_CLASS = len(CLASSES)"
   ]
  },
  {
   "cell_type": "code",
   "execution_count": 9,
   "id": "03a4cab1",
   "metadata": {
    "execution": {
     "iopub.execute_input": "2023-05-18T06:54:10.746685Z",
     "iopub.status.busy": "2023-05-18T06:54:10.745825Z",
     "iopub.status.idle": "2023-05-18T06:54:10.759733Z",
     "shell.execute_reply": "2023-05-18T06:54:10.758612Z"
    },
    "papermill": {
     "duration": 0.025797,
     "end_time": "2023-05-18T06:54:10.762389",
     "exception": false,
     "start_time": "2023-05-18T06:54:10.736592",
     "status": "completed"
    },
    "tags": []
   },
   "outputs": [],
   "source": [
    "from torch.utils.data import Dataset, DataLoader\n",
    "\n",
    "frame_length = 5\n",
    "infer_frame_length = 5\n",
    "sample_rate  = 32000\n",
    "\n",
    "class TestDataset(Dataset):\n",
    "    def __init__(self, \n",
    "                 df: pd.DataFrame, \n",
    "                 sample_rate:int,\n",
    "                 frame_length:int,\n",
    "                 waveform\n",
    "                ):\n",
    "        \n",
    "        self.df = df\n",
    "        \n",
    "        self.frame_length = frame_length\n",
    "        self.sample_rate = sample_rate\n",
    "        \n",
    "        self.waveform = waveform\n",
    "        self.n_parts = math.ceil(len(waveform) / int(infer_frame_length * sample_rate))\n",
    "\n",
    "    def __len__(self):\n",
    "        return self.n_parts\n",
    "\n",
    "    def __getitem__(self, idx: int):\n",
    "        sample = self.df.loc[idx, :]\n",
    "        row_id = sample.row_id\n",
    "        sample_rate = self.sample_rate\n",
    "        frame_length = self.frame_length\n",
    "\n",
    "        end_seconds = int(sample.seconds)\n",
    "        start_seconds = int(end_seconds - 5)\n",
    "        \n",
    "        y = self.waveform[sample_rate * start_seconds : sample_rate * end_seconds].astype(np.float32)\n",
    "        \n",
    "        wav_tensor = torch.from_numpy(y)\n",
    "        if len(wav_tensor) == frame_length * sample_rate:\n",
    "            pass\n",
    "        elif len(wav_tensor) < frame_length * sample_rate:\n",
    "            wav_tensor = torch.nn.functional.pad(wav_tensor, (0, (frame_length * sample_rate) - len(wav_tensor)))\n",
    "        elif len(wav_tensor) > frame_length * sample_rate:\n",
    "            wav_tensor = wav_tensor[:(frame_length * sample_rate)]\n",
    "        \n",
    "        # add channel\n",
    "        wav_tensor = wav_tensor.unsqueeze(0)\n",
    "        \n",
    "        return {\n",
    "            \"wav_tensors\": wav_tensor,\n",
    "            \"row_id\": row_id,\n",
    "        }\n"
   ]
  },
  {
   "cell_type": "code",
   "execution_count": 10,
   "id": "250d6bcd",
   "metadata": {
    "execution": {
     "iopub.execute_input": "2023-05-18T06:54:10.780159Z",
     "iopub.status.busy": "2023-05-18T06:54:10.779239Z",
     "iopub.status.idle": "2023-05-18T06:54:10.797678Z",
     "shell.execute_reply": "2023-05-18T06:54:10.796527Z"
    },
    "papermill": {
     "duration": 0.030088,
     "end_time": "2023-05-18T06:54:10.800302",
     "exception": false,
     "start_time": "2023-05-18T06:54:10.770214",
     "status": "completed"
    },
    "tags": []
   },
   "outputs": [],
   "source": [
    "all_audios = list(Path(\"../input/birdclef-2023/test_soundscapes/\").glob(\"*.ogg\")) \n",
    "seconds = [i for i in range(5, 605, 5)]\n",
    "\n",
    "class CFG:\n",
    "    batch_size=4\n",
    "    num_workers=4\n",
    "    \n",
    "config = CFG()\n",
    "\n",
    "def prediction_for_clip(\n",
    "    audio_path\n",
    "):\n",
    "    \n",
    "    device = torch.device(\"cpu\")\n",
    "    \n",
    "    # inference\n",
    "    prediction_dict = {}\n",
    "    \n",
    "    clip, _ = librosa.load(audio_path, sr=sample_rate, mono=True)\n",
    "    name_ = \"_\".join(audio_path.name.split(\".\")[:-1])\n",
    "    row_ids = [name_+f\"_{second}\" for second in seconds]\n",
    "\n",
    "    test_df = pd.DataFrame({\n",
    "        \"row_id\": row_ids,\n",
    "        \"seconds\": seconds\n",
    "    })\n",
    "    \n",
    "        \n",
    "    dataset = TestDataset(\n",
    "        df=test_df, \n",
    "        sample_rate=sample_rate,\n",
    "        frame_length=frame_length,\n",
    "        waveform=clip\n",
    "    )\n",
    "\n",
    "    loader = DataLoader(\n",
    "        dataset,\n",
    "        batch_size=config.batch_size, \n",
    "        num_workers=config.num_workers,\n",
    "        drop_last=False,\n",
    "        shuffle=False,\n",
    "        pin_memory=True\n",
    "    )\n",
    "\n",
    "    for data in loader:\n",
    "\n",
    "        row_ids = data['row_id']\n",
    "\n",
    "        for row_id in row_ids:\n",
    "            if row_id not in prediction_dict:\n",
    "                prediction_dict[str(row_id)] = []\n",
    "\n",
    "        probas = []\n",
    "\n",
    "        for model in models:\n",
    "            with torch.no_grad():\n",
    "                # print(type(data[\"wav_tensors\"]))\n",
    "                # print(data[\"wav_tensors\"].size())\n",
    "                # output = model(data[\"wav_tensors\"])\n",
    "                output = model(data[\"wav_tensors\"], is_test=True)[\"logit\"].sigmoid()\n",
    "#                     \n",
    "            for row_id_idx, row_id in enumerate(row_ids):\n",
    "                prediction_dict[str(row_id)].append(output[[row_id_idx]].numpy().reshape(-1))\n",
    "                                                        \n",
    "    for row_id in list(prediction_dict.keys()):\n",
    "                \n",
    "        logits = np.array(prediction_dict[row_id]).mean(0)\n",
    "        prediction_dict[row_id] = {}\n",
    "        for label in range(N_CLASS):\n",
    "            prediction_dict[row_id][CLASSES[label]] = logits[label]\n",
    "\n",
    "    return prediction_dict"
   ]
  },
  {
   "cell_type": "code",
   "execution_count": 11,
   "id": "2be851eb",
   "metadata": {
    "execution": {
     "iopub.execute_input": "2023-05-18T06:54:10.817817Z",
     "iopub.status.busy": "2023-05-18T06:54:10.817449Z",
     "iopub.status.idle": "2023-05-18T06:54:56.136890Z",
     "shell.execute_reply": "2023-05-18T06:54:56.135453Z"
    },
    "papermill": {
     "duration": 45.338483,
     "end_time": "2023-05-18T06:54:56.146810",
     "exception": false,
     "start_time": "2023-05-18T06:54:10.808327",
     "status": "completed"
    },
    "tags": []
   },
   "outputs": [
    {
     "name": "stdout",
     "output_type": "stream",
     "text": [
      "With concurrent ThreadPoolExecutor, time cost reduced to 45.3 for processing 1 audios\n"
     ]
    }
   ],
   "source": [
    "import concurrent.futures\n",
    "\n",
    "start = time.time()\n",
    "with concurrent.futures.ThreadPoolExecutor(max_workers=4) as executor:\n",
    "    dicts = list(executor.map(prediction_for_clip, all_audios))\n",
    "print(f\"With concurrent ThreadPoolExecutor, time cost reduced to {time.time()-start:.1f} for processing {len(all_audios)} audios\")\n"
   ]
  },
  {
   "cell_type": "code",
   "execution_count": 12,
   "id": "8659a87f",
   "metadata": {
    "execution": {
     "iopub.execute_input": "2023-05-18T06:54:56.165867Z",
     "iopub.status.busy": "2023-05-18T06:54:56.165152Z",
     "iopub.status.idle": "2023-05-18T06:54:56.312065Z",
     "shell.execute_reply": "2023-05-18T06:54:56.310908Z"
    },
    "papermill": {
     "duration": 0.159829,
     "end_time": "2023-05-18T06:54:56.314448",
     "exception": false,
     "start_time": "2023-05-18T06:54:56.154619",
     "status": "completed"
    },
    "tags": []
   },
   "outputs": [
    {
     "name": "stdout",
     "output_type": "stream",
     "text": [
      "\n",
      "total rows : 120\n",
      "\n"
     ]
    },
    {
     "data": {
      "text/html": [
       "<div>\n",
       "<style scoped>\n",
       "    .dataframe tbody tr th:only-of-type {\n",
       "        vertical-align: middle;\n",
       "    }\n",
       "\n",
       "    .dataframe tbody tr th {\n",
       "        vertical-align: top;\n",
       "    }\n",
       "\n",
       "    .dataframe thead th {\n",
       "        text-align: right;\n",
       "    }\n",
       "</style>\n",
       "<table border=\"1\" class=\"dataframe\">\n",
       "  <thead>\n",
       "    <tr style=\"text-align: right;\">\n",
       "      <th></th>\n",
       "      <th>row_id</th>\n",
       "      <th>abethr1</th>\n",
       "      <th>abhori1</th>\n",
       "      <th>abythr1</th>\n",
       "      <th>afbfly1</th>\n",
       "      <th>afdfly1</th>\n",
       "      <th>afecuc1</th>\n",
       "      <th>affeag1</th>\n",
       "      <th>afgfly1</th>\n",
       "      <th>afghor1</th>\n",
       "      <th>...</th>\n",
       "      <th>yebsto1</th>\n",
       "      <th>yeccan1</th>\n",
       "      <th>yefcan</th>\n",
       "      <th>yelbis1</th>\n",
       "      <th>yenspu1</th>\n",
       "      <th>yertin1</th>\n",
       "      <th>yesbar1</th>\n",
       "      <th>yespet1</th>\n",
       "      <th>yetgre1</th>\n",
       "      <th>yewgre1</th>\n",
       "    </tr>\n",
       "  </thead>\n",
       "  <tbody>\n",
       "    <tr>\n",
       "      <th>0</th>\n",
       "      <td>soundscape_29201_5</td>\n",
       "      <td>0.056789</td>\n",
       "      <td>0.015668</td>\n",
       "      <td>0.031374</td>\n",
       "      <td>0.001893</td>\n",
       "      <td>0.003913</td>\n",
       "      <td>0.014375</td>\n",
       "      <td>0.013162</td>\n",
       "      <td>0.004239</td>\n",
       "      <td>0.013396</td>\n",
       "      <td>...</td>\n",
       "      <td>0.001438</td>\n",
       "      <td>0.002228</td>\n",
       "      <td>0.017311</td>\n",
       "      <td>0.005276</td>\n",
       "      <td>0.006756</td>\n",
       "      <td>0.016576</td>\n",
       "      <td>0.004565</td>\n",
       "      <td>0.004250</td>\n",
       "      <td>0.005925</td>\n",
       "      <td>0.008161</td>\n",
       "    </tr>\n",
       "    <tr>\n",
       "      <th>1</th>\n",
       "      <td>soundscape_29201_10</td>\n",
       "      <td>0.032142</td>\n",
       "      <td>0.074624</td>\n",
       "      <td>0.006919</td>\n",
       "      <td>0.032058</td>\n",
       "      <td>0.009097</td>\n",
       "      <td>0.011570</td>\n",
       "      <td>0.021418</td>\n",
       "      <td>0.007733</td>\n",
       "      <td>0.015366</td>\n",
       "      <td>...</td>\n",
       "      <td>0.002224</td>\n",
       "      <td>0.007035</td>\n",
       "      <td>0.039981</td>\n",
       "      <td>0.048175</td>\n",
       "      <td>0.015233</td>\n",
       "      <td>0.019691</td>\n",
       "      <td>0.014238</td>\n",
       "      <td>0.013447</td>\n",
       "      <td>0.006061</td>\n",
       "      <td>0.015322</td>\n",
       "    </tr>\n",
       "    <tr>\n",
       "      <th>2</th>\n",
       "      <td>soundscape_29201_15</td>\n",
       "      <td>0.038727</td>\n",
       "      <td>0.024227</td>\n",
       "      <td>0.043389</td>\n",
       "      <td>0.020111</td>\n",
       "      <td>0.006206</td>\n",
       "      <td>0.017416</td>\n",
       "      <td>0.018373</td>\n",
       "      <td>0.010257</td>\n",
       "      <td>0.010272</td>\n",
       "      <td>...</td>\n",
       "      <td>0.001121</td>\n",
       "      <td>0.006810</td>\n",
       "      <td>0.037996</td>\n",
       "      <td>0.007156</td>\n",
       "      <td>0.004608</td>\n",
       "      <td>0.026925</td>\n",
       "      <td>0.007785</td>\n",
       "      <td>0.016323</td>\n",
       "      <td>0.020505</td>\n",
       "      <td>0.024461</td>\n",
       "    </tr>\n",
       "    <tr>\n",
       "      <th>3</th>\n",
       "      <td>soundscape_29201_20</td>\n",
       "      <td>0.010598</td>\n",
       "      <td>0.020789</td>\n",
       "      <td>0.013185</td>\n",
       "      <td>0.019958</td>\n",
       "      <td>0.016824</td>\n",
       "      <td>0.012186</td>\n",
       "      <td>0.017540</td>\n",
       "      <td>0.010510</td>\n",
       "      <td>0.013550</td>\n",
       "      <td>...</td>\n",
       "      <td>0.002044</td>\n",
       "      <td>0.006398</td>\n",
       "      <td>0.028831</td>\n",
       "      <td>0.019375</td>\n",
       "      <td>0.006738</td>\n",
       "      <td>0.017785</td>\n",
       "      <td>0.026420</td>\n",
       "      <td>0.006786</td>\n",
       "      <td>0.009809</td>\n",
       "      <td>0.016701</td>\n",
       "    </tr>\n",
       "    <tr>\n",
       "      <th>4</th>\n",
       "      <td>soundscape_29201_25</td>\n",
       "      <td>0.013490</td>\n",
       "      <td>0.021334</td>\n",
       "      <td>0.009623</td>\n",
       "      <td>0.026516</td>\n",
       "      <td>0.015486</td>\n",
       "      <td>0.010096</td>\n",
       "      <td>0.023241</td>\n",
       "      <td>0.013152</td>\n",
       "      <td>0.014784</td>\n",
       "      <td>...</td>\n",
       "      <td>0.002040</td>\n",
       "      <td>0.007102</td>\n",
       "      <td>0.018303</td>\n",
       "      <td>0.020748</td>\n",
       "      <td>0.008215</td>\n",
       "      <td>0.017142</td>\n",
       "      <td>0.018440</td>\n",
       "      <td>0.006902</td>\n",
       "      <td>0.010534</td>\n",
       "      <td>0.014361</td>\n",
       "    </tr>\n",
       "  </tbody>\n",
       "</table>\n",
       "<p>5 rows × 265 columns</p>\n",
       "</div>"
      ],
      "text/plain": [
       "                row_id   abethr1   abhori1   abythr1   afbfly1   afdfly1  \\\n",
       "0   soundscape_29201_5  0.056789  0.015668  0.031374  0.001893  0.003913   \n",
       "1  soundscape_29201_10  0.032142  0.074624  0.006919  0.032058  0.009097   \n",
       "2  soundscape_29201_15  0.038727  0.024227  0.043389  0.020111  0.006206   \n",
       "3  soundscape_29201_20  0.010598  0.020789  0.013185  0.019958  0.016824   \n",
       "4  soundscape_29201_25  0.013490  0.021334  0.009623  0.026516  0.015486   \n",
       "\n",
       "    afecuc1   affeag1   afgfly1   afghor1  ...   yebsto1   yeccan1    yefcan  \\\n",
       "0  0.014375  0.013162  0.004239  0.013396  ...  0.001438  0.002228  0.017311   \n",
       "1  0.011570  0.021418  0.007733  0.015366  ...  0.002224  0.007035  0.039981   \n",
       "2  0.017416  0.018373  0.010257  0.010272  ...  0.001121  0.006810  0.037996   \n",
       "3  0.012186  0.017540  0.010510  0.013550  ...  0.002044  0.006398  0.028831   \n",
       "4  0.010096  0.023241  0.013152  0.014784  ...  0.002040  0.007102  0.018303   \n",
       "\n",
       "    yelbis1   yenspu1   yertin1   yesbar1   yespet1   yetgre1   yewgre1  \n",
       "0  0.005276  0.006756  0.016576  0.004565  0.004250  0.005925  0.008161  \n",
       "1  0.048175  0.015233  0.019691  0.014238  0.013447  0.006061  0.015322  \n",
       "2  0.007156  0.004608  0.026925  0.007785  0.016323  0.020505  0.024461  \n",
       "3  0.019375  0.006738  0.017785  0.026420  0.006786  0.009809  0.016701  \n",
       "4  0.020748  0.008215  0.017142  0.018440  0.006902  0.010534  0.014361  \n",
       "\n",
       "[5 rows x 265 columns]"
      ]
     },
     "execution_count": 12,
     "metadata": {},
     "output_type": "execute_result"
    }
   ],
   "source": [
    "prediction_dicts = {}\n",
    "for d in dicts:\n",
    "    prediction_dicts.update(d)\n",
    "    \n",
    "submission = pd.DataFrame.from_dict(prediction_dicts, \"index\").rename_axis(\"row_id\").reset_index()\n",
    "submission.to_csv(\"submission.csv\", index=False)\n",
    "print(f\"\"\"\n",
    "total rows : {len(submission)}\n",
    "\"\"\")\n",
    "submission.head()"
   ]
  },
  {
   "cell_type": "code",
   "execution_count": null,
   "id": "9cf1001d",
   "metadata": {
    "papermill": {
     "duration": 0.008108,
     "end_time": "2023-05-18T06:54:56.331058",
     "exception": false,
     "start_time": "2023-05-18T06:54:56.322950",
     "status": "completed"
    },
    "tags": []
   },
   "outputs": [],
   "source": []
  },
  {
   "cell_type": "code",
   "execution_count": null,
   "id": "1b8c87be",
   "metadata": {
    "papermill": {
     "duration": 0.008214,
     "end_time": "2023-05-18T06:54:56.348020",
     "exception": false,
     "start_time": "2023-05-18T06:54:56.339806",
     "status": "completed"
    },
    "tags": []
   },
   "outputs": [],
   "source": []
  },
  {
   "cell_type": "code",
   "execution_count": null,
   "id": "626b8462",
   "metadata": {
    "papermill": {
     "duration": 0.008026,
     "end_time": "2023-05-18T06:54:56.364433",
     "exception": false,
     "start_time": "2023-05-18T06:54:56.356407",
     "status": "completed"
    },
    "tags": []
   },
   "outputs": [],
   "source": []
  }
 ],
 "metadata": {
  "kernelspec": {
   "display_name": "Python 3",
   "language": "python",
   "name": "python3"
  },
  "language_info": {
   "codemirror_mode": {
    "name": "ipython",
    "version": 3
   },
   "file_extension": ".py",
   "mimetype": "text/x-python",
   "name": "python",
   "nbconvert_exporter": "python",
   "pygments_lexer": "ipython3",
   "version": "3.10.10"
  },
  "papermill": {
   "default_parameters": {},
   "duration": 104.727911,
   "end_time": "2023-05-18T06:54:59.164639",
   "environment_variables": {},
   "exception": null,
   "input_path": "__notebook__.ipynb",
   "output_path": "__notebook__.ipynb",
   "parameters": {},
   "start_time": "2023-05-18T06:53:14.436728",
   "version": "2.4.0"
  }
 },
 "nbformat": 4,
 "nbformat_minor": 5
}
