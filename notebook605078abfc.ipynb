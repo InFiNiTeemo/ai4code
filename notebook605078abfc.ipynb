{
 "cells": [
  {
   "cell_type": "code",
   "execution_count": 1,
   "id": "22d63c99",
   "metadata": {
    "_kg_hide-output": true,
    "execution": {
     "iopub.execute_input": "2023-05-15T20:31:30.550005Z",
     "iopub.status.busy": "2023-05-15T20:31:30.549594Z",
     "iopub.status.idle": "2023-05-15T20:32:05.009102Z",
     "shell.execute_reply": "2023-05-15T20:32:05.007629Z"
    },
    "papermill": {
     "duration": 34.471454,
     "end_time": "2023-05-15T20:32:05.012191",
     "exception": false,
     "start_time": "2023-05-15T20:31:30.540737",
     "status": "completed"
    },
    "tags": []
   },
   "outputs": [
    {
     "name": "stdout",
     "output_type": "stream",
     "text": [
      "Processing /kaggle/input/nnaudio031/nnAudio-0.3.1-py3-none-any.whl\r\n",
      "Requirement already satisfied: scipy in /opt/conda/lib/python3.10/site-packages (from nnAudio==0.3.1) (1.9.3)\r\n",
      "Requirement already satisfied: numpy<1.26.0,>=1.18.5 in /opt/conda/lib/python3.10/site-packages (from scipy->nnAudio==0.3.1) (1.23.5)\r\n",
      "Installing collected packages: nnAudio\r\n",
      "Successfully installed nnAudio-0.3.1\r\n",
      "\u001b[33mWARNING: Running pip as the 'root' user can result in broken permissions and conflicting behaviour with the system package manager. It is recommended to use a virtual environment instead: https://pip.pypa.io/warnings/venv\u001b[0m\u001b[33m\r\n",
      "\u001b[0m"
     ]
    }
   ],
   "source": [
    "## setup\n",
    "!pip install ../input/nnaudio031/nnAudio-0.3.1-py3-none-any.whl"
   ]
  },
  {
   "cell_type": "code",
   "execution_count": 2,
   "id": "256776ff",
   "metadata": {
    "execution": {
     "iopub.execute_input": "2023-05-15T20:32:05.028378Z",
     "iopub.status.busy": "2023-05-15T20:32:05.027924Z",
     "iopub.status.idle": "2023-05-15T20:32:05.033157Z",
     "shell.execute_reply": "2023-05-15T20:32:05.032088Z"
    },
    "papermill": {
     "duration": 0.016349,
     "end_time": "2023-05-15T20:32:05.035763",
     "exception": false,
     "start_time": "2023-05-15T20:32:05.019414",
     "status": "completed"
    },
    "tags": []
   },
   "outputs": [],
   "source": [
    "# !ls /kaggle/input/blef0503/\n",
    "# !ls /kaggle/input/ef-v0/\n",
    "# !ls /kaggle/input/birds-inference-pip-wheels/*\n",
    "# !pip freeze|grep torch\n",
    "# !ls /kaggle/input/ef2-v0"
   ]
  },
  {
   "cell_type": "code",
   "execution_count": 3,
   "id": "8230bb4f",
   "metadata": {
    "execution": {
     "iopub.execute_input": "2023-05-15T20:32:05.050691Z",
     "iopub.status.busy": "2023-05-15T20:32:05.050284Z",
     "iopub.status.idle": "2023-05-15T20:32:05.056484Z",
     "shell.execute_reply": "2023-05-15T20:32:05.055375Z"
    },
    "papermill": {
     "duration": 0.016444,
     "end_time": "2023-05-15T20:32:05.058839",
     "exception": false,
     "start_time": "2023-05-15T20:32:05.042395",
     "status": "completed"
    },
    "tags": []
   },
   "outputs": [],
   "source": [
    "## https://github.com/Selimonder/birdclef2022/\n",
    "import os, sys, glob, math\n",
    "\n",
    "os.environ[\"MKL_NUM_THREADS\"] = \"1\"\n",
    "os.environ[\"OMP_NUM_THREADS\"] = \"1\"\n",
    "\n",
    "github_folder = \"/kaggle/input/blef0508v3\"\n",
    "sys.path.append(github_folder)"
   ]
  },
  {
   "cell_type": "code",
   "execution_count": 4,
   "id": "c4dc5116",
   "metadata": {
    "execution": {
     "iopub.execute_input": "2023-05-15T20:32:05.073438Z",
     "iopub.status.busy": "2023-05-15T20:32:05.073004Z",
     "iopub.status.idle": "2023-05-15T20:32:12.771084Z",
     "shell.execute_reply": "2023-05-15T20:32:12.770227Z"
    },
    "papermill": {
     "duration": 7.708491,
     "end_time": "2023-05-15T20:32:12.773841",
     "exception": false,
     "start_time": "2023-05-15T20:32:05.065350",
     "status": "completed"
    },
    "tags": []
   },
   "outputs": [
    {
     "name": "stderr",
     "output_type": "stream",
     "text": [
      "/opt/conda/lib/python3.10/site-packages/scipy/__init__.py:146: UserWarning: A NumPy version >=1.16.5 and <1.23.0 is required for this version of SciPy (detected version 1.23.5\n",
      "  warnings.warn(f\"A NumPy version >={np_minversion} and <{np_maxversion}\"\n",
      "/opt/conda/lib/python3.10/site-packages/nnAudio/Spectrogram.py:4: Warning: importing Spectrogram subpackage will be deprecated soon. You should import the feature extractor from the feature subpackage. See actual documentation.\n",
      "  warnings.warn(\n"
     ]
    }
   ],
   "source": [
    "import cv2\n",
    "import gc\n",
    "import time\n",
    "import torch\n",
    "import librosa\n",
    "import argparse, warnings\n",
    "\n",
    "import numpy as np\n",
    "import pandas as pd\n",
    "import IPython.display as ipd\n",
    "from pathlib import Path\n",
    "\n",
    "\n",
    "import zoo\n",
    "from training.config import load_config\n",
    "from training.datasets import BirdDatasetOOF\n",
    "\n",
    "\n",
    "cv2.ocl.setUseOpenCL(False)\n",
    "cv2.setNumThreads(0)\n",
    "\n",
    "from tqdm import tqdm\n",
    "from torch.utils.data import DataLoader\n",
    "\n",
    "warnings.simplefilter(\"ignore\")\n"
   ]
  },
  {
   "cell_type": "code",
   "execution_count": 5,
   "id": "f9ab9cf8",
   "metadata": {
    "execution": {
     "iopub.execute_input": "2023-05-15T20:32:12.789236Z",
     "iopub.status.busy": "2023-05-15T20:32:12.788841Z",
     "iopub.status.idle": "2023-05-15T20:32:12.800413Z",
     "shell.execute_reply": "2023-05-15T20:32:12.799531Z"
    },
    "papermill": {
     "duration": 0.022371,
     "end_time": "2023-05-15T20:32:12.803091",
     "exception": false,
     "start_time": "2023-05-15T20:32:12.780720",
     "status": "completed"
    },
    "tags": []
   },
   "outputs": [],
   "source": [
    "# accelerate\n",
    "import os\n",
    "os.environ[\"OMP_NUM_THREADS\"]=\"2\"\n",
    "os.environ[\"OMP_SCHEDULE\"]=\"STATIC\"\n",
    "os.environ[\"OMP_PROC_BIND\"]=\"CLOSE\"\n",
    "import torch\n",
    "torch.set_num_threads(4)"
   ]
  },
  {
   "cell_type": "markdown",
   "id": "aee7c669",
   "metadata": {
    "papermill": {
     "duration": 0.007125,
     "end_time": "2023-05-15T20:32:12.818213",
     "exception": false,
     "start_time": "2023-05-15T20:32:12.811088",
     "status": "completed"
    },
    "tags": []
   },
   "source": [
    "## models"
   ]
  },
  {
   "cell_type": "code",
   "execution_count": 6,
   "id": "82da52a0",
   "metadata": {
    "execution": {
     "iopub.execute_input": "2023-05-15T20:32:12.834930Z",
     "iopub.status.busy": "2023-05-15T20:32:12.834530Z",
     "iopub.status.idle": "2023-05-15T20:32:13.508177Z",
     "shell.execute_reply": "2023-05-15T20:32:13.507277Z"
    },
    "papermill": {
     "duration": 0.684942,
     "end_time": "2023-05-15T20:32:13.510705",
     "exception": false,
     "start_time": "2023-05-15T20:32:12.825763",
     "status": "completed"
    },
    "tags": []
   },
   "outputs": [
    {
     "name": "stdout",
     "output_type": "stream",
     "text": [
      "False <class 'bool'>\n",
      "/kaggle/input/ef0-v7/ef_v7TimmClassifier_v3_tf_efficientnet_b0_0_lb\n",
      "initing CLS features model 15 duration...\n",
      "{'in_chans': 1, 'drop_path_rate': 0.2, 'drop_rate': 0.5}\n",
      "=> loading checkpoint '/kaggle/input/ef0-v7/ef_v7TimmClassifier_v3_tf_efficientnet_b0_0_lb''\n",
      "epoch 18\n"
     ]
    },
    {
     "data": {
      "text/plain": [
       "1"
      ]
     },
     "execution_count": 6,
     "metadata": {},
     "output_type": "execute_result"
    }
   ],
   "source": [
    "def load_model(conf_path: str, weights_path: str, prefix: str, suffix: str, fold: int, to_device: bool = True):\n",
    "    conf = load_config(conf_path)\n",
    "    conf['encoder_params']['pretrained'] = False\n",
    "    print(conf['encoder_params']['pretrained'], type(conf['encoder_params']['pretrained']))\n",
    "    \n",
    "    snapshot_name = \"{}{}_{}_{}_{}\".format(prefix, conf[\"network\"], conf[\"encoder_params\"][\"encoder\"], fold, suffix)\n",
    "    weights_path = os.path.join(weights_path, snapshot_name)\n",
    "    print(weights_path)\n",
    "    \n",
    "    model = zoo.__dict__[conf[\"network\"]](**conf[\"encoder_params\"])\n",
    "    model = torch.nn.DataParallel(model)\n",
    "    print(\"=> loading checkpoint '{}''\".format(weights_path))\n",
    "    checkpoint = torch.load(weights_path, map_location=\"cpu\")\n",
    "    print(\"epoch\", checkpoint[\"epoch\"])\n",
    "    model.load_state_dict(checkpoint[\"state_dict\"])\n",
    "    model.eval()\n",
    "    if to_device: model.cuda()\n",
    "    return model\n",
    "\n",
    "models = []\n",
    "\n",
    "## best only for now\n",
    "suffixes = [\"lb\"]#, \"f1_score\" \"last\"]\n",
    "folds    = 5\n",
    "\n",
    "# 0.80 version 30 full train with 2ndw 1\n",
    "# conf_path    = f\"{github_folder}/configs/cls_ef_v0.json\",\n",
    "# weights_path = f\"/kaggle/input/ef-v0-fulltrain\",\n",
    "# prefix       = \"ef_v0\",\n",
    "\n",
    "\n",
    "# 0.78 version 29  no pretrain sed\n",
    "# conf_path    = f\"{github_folder}/configs/sed_ef_v0.json\",\n",
    "# weights_path = f\"/kaggle/input/sed-ef-v0\",\n",
    "# prefix       = \"sed_v0\",\n",
    "\n",
    "# 0.78 version 28   train 20 epoch on pretrain 123\n",
    "# conf_path    = f\"{github_folder}/configs/cls_ef_v0.json\",\n",
    "# weights_path = f\"/kaggle/input/ef-v0-pretrain123\",\n",
    "\n",
    "# 0.80 version 27   train 25 epoch on pretrain 123\n",
    "# conf_path    = f\"{github_folder}/configs/cls_ef_v6.json\",\n",
    "# weights_path = f\"/kaggle/input/ef0-v6\",\n",
    "#                                 \"ef_v6_e20\",\n",
    "\n",
    "# 0.79 version 26 better pretrain (21,22)\n",
    "# conf_path    = f\"{github_folder}/configs/cls_ef_v0.json\",\n",
    "# weights_path = f\"/kaggle/input/ef0-v0\",\n",
    "# prefix       = \"ef_v0\",\n",
    "\n",
    "# 0.79 version 25 set 3 \n",
    "# conf_path    = f\"{github_folder}/configs/cls_ef2_v1.json\",\n",
    "# weights_path = f\"/kaggle/input/ef2-v1\",\n",
    "# prefix       = \"ef2_v1\",\n",
    "\n",
    "# 0.80 version 23-lb, 24-f1\n",
    "#conf_path    = f\"{github_folder}/configs/cls_ef2_v0.json\",\n",
    "#weights_path = f\"/kaggle/input/ef2-v0\",\n",
    "#prefix       = \"ef2_v0\",\n",
    "\n",
    "\n",
    "# 0.79 version 20\n",
    "# conf_path    = f\"{github_folder}/configs/cls_ef_v3.json\",\n",
    "# weights_path = f\"/kaggle/input/ef0-v3\",\n",
    "# prefix       = \"ef0_v3\",\n",
    "\n",
    "\n",
    "# rank 37 5folds version19\n",
    "# conf_path    = f\"{github_folder}/configs/cls_ef_v0.json\",\n",
    "# weights_path = f\"/kaggle/input/cls-ef-v0\",\n",
    "# prefix       = \"ef_v0\",\n",
    "\n",
    "# only primary, 16min rank82  cls_ef_v0.json weights_path = f\"/kaggle/input/cls-ef-v0\", prefix = \"ef_v0\",\n",
    "# rank90  cls_ef_v0.json weights_path = f\"/kaggle/input/ef-v0-pretrain\", prefix = \"ef_v0_\",\n",
    "\n",
    "\n",
    "# 0.80 最差0.80 只有fold0  其他是上传错\n",
    "# conf_path    = f\"{github_folder}/configs/cls_ef_v0.json\",\n",
    "#                                weights_path = f\"/kaggle/input/e40-ef0\",\n",
    "#                                prefix       = \"ef_v0\",\n",
    "\n",
    "# 44 min 0.79 240 conf_path    = f\"{github_folder}/configs/cls_nf0_v5.json\", weights_path = f\"/kaggle/input/nf0-v5\", prefix       = \"nf0_v5_\",\n",
    "# \n",
    "#  cls_nf0_v5.json\",weights_path = nfnet-baseline-bs16/nfnet-baseline-bs16, prefix= \"nf0_v5_\",\n",
    "\n",
    "\n",
    "# 0.78\n",
    "# f\"{github_folder}/configs/cls_nf0_v5.json\",\n",
    "# weights_path = f\"/kaggle/input/nfnet-baseline-bs16/nfnet-baseline-bs16\",\n",
    "# prefix       = \"nf0_v5_\",\n",
    "\n",
    "\n",
    "\n",
    "\n",
    "for i in [0]:\n",
    "    for sx in suffixes:\n",
    "        try:\n",
    "            model = load_model(conf_path    = f\"{github_folder}/configs/cls_ef_v7.json\",\n",
    "                                weights_path = f\"/kaggle/input/ef0-v7\",\n",
    "                                prefix       = \"ef_v7\",\n",
    "                               suffix       = sx,\n",
    "                               fold         = i,\n",
    "                               to_device    = False,)\n",
    "            models.append(model)\n",
    "        except Exception as e:\n",
    "            print(f\"model not found\", e)\n",
    "\n",
    "len(models)\n",
    "#models = [models[0]]"
   ]
  },
  {
   "cell_type": "code",
   "execution_count": 7,
   "id": "1916a7b8",
   "metadata": {
    "execution": {
     "iopub.execute_input": "2023-05-15T20:32:13.526676Z",
     "iopub.status.busy": "2023-05-15T20:32:13.526259Z",
     "iopub.status.idle": "2023-05-15T20:32:13.536343Z",
     "shell.execute_reply": "2023-05-15T20:32:13.535209Z"
    },
    "papermill": {
     "duration": 0.02101,
     "end_time": "2023-05-15T20:32:13.538687",
     "exception": false,
     "start_time": "2023-05-15T20:32:13.517677",
     "status": "completed"
    },
    "tags": []
   },
   "outputs": [
    {
     "data": {
      "text/plain": [
       "'3.51M'"
      ]
     },
     "execution_count": 7,
     "metadata": {},
     "output_type": "execute_result"
    }
   ],
   "source": [
    "import torch\n",
    "\n",
    "def count_parameters(model):\n",
    "    return sum(p.numel() for p in model.parameters() if p.requires_grad)\n",
    "\n",
    "f\"{count_parameters(models[0])//1024/1024:.2f}M\""
   ]
  },
  {
   "cell_type": "markdown",
   "id": "95480dad",
   "metadata": {
    "papermill": {
     "duration": 0.006865,
     "end_time": "2023-05-15T20:32:13.552856",
     "exception": false,
     "start_time": "2023-05-15T20:32:13.545991",
     "status": "completed"
    },
    "tags": []
   },
   "source": [
    "## infer"
   ]
  },
  {
   "cell_type": "code",
   "execution_count": 8,
   "id": "aba9c631",
   "metadata": {
    "execution": {
     "iopub.execute_input": "2023-05-15T20:32:13.569493Z",
     "iopub.status.busy": "2023-05-15T20:32:13.568569Z",
     "iopub.status.idle": "2023-05-15T20:32:13.576185Z",
     "shell.execute_reply": "2023-05-15T20:32:13.574739Z"
    },
    "papermill": {
     "duration": 0.018884,
     "end_time": "2023-05-15T20:32:13.578864",
     "exception": false,
     "start_time": "2023-05-15T20:32:13.559980",
     "status": "completed"
    },
    "tags": []
   },
   "outputs": [],
   "source": [
    "CLASSES = \"abethr1 abhori1 abythr1 afbfly1 afdfly1 afecuc1 affeag1 afgfly1 afghor1 afmdov1 afpfly1 afpkin1 afpwag1 afrgos1 afrgrp1 afrjac1 afrthr1 amesun2 augbuz1 bagwea1 barswa bawhor2 bawman1 bcbeat1 beasun2 bkctch1 bkfruw1 blacra1 blacuc1 blakit1 blaplo1 blbpuf2 blcapa2 blfbus1 blhgon1 blhher1 blksaw1 blnmou1 blnwea1 bltapa1 bltbar1 bltori1 blwlap1 brcale1 brcsta1 brctch1 brcwea1 brican1 brobab1 broman1 brosun1 brrwhe3 brtcha1 brubru1 brwwar1 bswdov1 btweye2 bubwar2 butapa1 cabgre1 carcha1 carwoo1 categr ccbeat1 chespa1 chewea1 chibat1 chtapa3 chucis1 cibwar1 cohmar1 colsun2 combul2 combuz1 comsan crefra2 crheag1 crohor1 darbar1 darter3 didcuc1 dotbar1 dutdov1 easmog1 eaywag1 edcsun3 egygoo equaka1 eswdov1 eubeat1 fatrav1 fatwid1 fislov1 fotdro5 gabgos2 gargan gbesta1 gnbcam2 gnhsun1 gobbun1 gobsta5 gobwea1 golher1 grbcam1 grccra1 grecor greegr grewoo2 grwpyt1 gryapa1 grywrw1 gybfis1 gycwar3 gyhbus1 gyhkin1 gyhneg1 gyhspa1 gytbar1 hadibi1 hamerk1 hartur1 helgui hipbab1 hoopoe huncis1 hunsun2 joygre1 kerspa2 klacuc1 kvbsun1 laudov1 lawgol lesmaw1 lessts1 libeat1 litegr litswi1 litwea1 loceag1 lotcor1 lotlap1 luebus1 mabeat1 macshr1 malkin1 marsto1 marsun2 mcptit1 meypar1 moccha1 mouwag1 ndcsun2 nobfly1 norbro1 norcro1 norfis1 norpuf1 nubwoo1 pabspa1 palfly2 palpri1 piecro1 piekin1 pitwhy purgre2 pygbat1 quailf1 ratcis1 raybar1 rbsrob1 rebfir2 rebhor1 reboxp1 reccor reccuc1 reedov1 refbar2 refcro1 reftin1 refwar2 rehblu1 rehwea1 reisee2 rerswa1 rewsta1 rindov rocmar2 rostur1 ruegls1 rufcha2 sacibi2 sccsun2 scrcha1 scthon1 shesta1 sichor1 sincis1 slbgre1 slcbou1 sltnig1 sobfly1 somgre1 somtit4 soucit1 soufis1 spemou2 spepig1 spewea1 spfbar1 spfwea1 spmthr1 spwlap1 squher1 strher strsee1 stusta1 subbus1 supsta1 tacsun1 tafpri1 tamdov1 thrnig1 trobou1 varsun2 vibsta2 vilwea1 vimwea1 walsta1 wbgbir1 wbrcha2 wbswea1 wfbeat1 whbcan1 whbcou1 whbcro2 whbtit5 whbwea1 whbwhe3 whcpri2 whctur2 wheslf1 whhsaw1 whihel1 whrshr1 witswa1 wlwwar wookin1 woosan wtbeat1 yebapa1 yebbar1 yebduc1 yebere1 yebgre1 yebsto1 yeccan1 yefcan yelbis1 yenspu1 yertin1 yesbar1 yespet1 yetgre1 yewgre1\".split()\n",
    "N_CLASS = len(CLASSES)"
   ]
  },
  {
   "cell_type": "code",
   "execution_count": 9,
   "id": "a4363a5c",
   "metadata": {
    "execution": {
     "iopub.execute_input": "2023-05-15T20:32:13.595557Z",
     "iopub.status.busy": "2023-05-15T20:32:13.595128Z",
     "iopub.status.idle": "2023-05-15T20:32:13.608020Z",
     "shell.execute_reply": "2023-05-15T20:32:13.606807Z"
    },
    "papermill": {
     "duration": 0.023982,
     "end_time": "2023-05-15T20:32:13.610345",
     "exception": false,
     "start_time": "2023-05-15T20:32:13.586363",
     "status": "completed"
    },
    "tags": []
   },
   "outputs": [],
   "source": [
    "from torch.utils.data import Dataset, DataLoader\n",
    "\n",
    "frame_length = 5\n",
    "infer_frame_length = 5\n",
    "sample_rate  = 32000\n",
    "\n",
    "class TestDataset(Dataset):\n",
    "    def __init__(self, \n",
    "                 df: pd.DataFrame, \n",
    "                 sample_rate:int,\n",
    "                 frame_length:int,\n",
    "                 waveform\n",
    "                ):\n",
    "        \n",
    "        self.df = df\n",
    "        \n",
    "        self.frame_length = frame_length\n",
    "        self.sample_rate = sample_rate\n",
    "        \n",
    "        self.waveform = waveform\n",
    "        self.n_parts = math.ceil(len(waveform) / int(infer_frame_length * sample_rate))\n",
    "\n",
    "    def __len__(self):\n",
    "        return self.n_parts\n",
    "\n",
    "    def __getitem__(self, idx: int):\n",
    "        sample = self.df.loc[idx, :]\n",
    "        row_id = sample.row_id\n",
    "        sample_rate = self.sample_rate\n",
    "        frame_length = self.frame_length\n",
    "\n",
    "        end_seconds = int(sample.seconds)\n",
    "        start_seconds = int(end_seconds - 5)\n",
    "        \n",
    "        y = self.waveform[sample_rate * start_seconds : sample_rate * end_seconds].astype(np.float32)\n",
    "        \n",
    "        wav_tensor = torch.from_numpy(y)\n",
    "        if len(wav_tensor) == frame_length * sample_rate:\n",
    "            pass\n",
    "        elif len(wav_tensor) < frame_length * sample_rate:\n",
    "            wav_tensor = torch.nn.functional.pad(wav_tensor, (0, (frame_length * sample_rate) - len(wav_tensor)))\n",
    "        elif len(wav_tensor) > frame_length * sample_rate:\n",
    "            wav_tensor = wav_tensor[:(frame_length * sample_rate)]\n",
    "        \n",
    "        # add channel\n",
    "        wav_tensor = wav_tensor.unsqueeze(0)\n",
    "        \n",
    "        return {\n",
    "            \"wav_tensors\": wav_tensor,\n",
    "            \"row_id\": row_id,\n",
    "        }\n"
   ]
  },
  {
   "cell_type": "code",
   "execution_count": 10,
   "id": "cfbfa0eb",
   "metadata": {
    "execution": {
     "iopub.execute_input": "2023-05-15T20:32:13.627186Z",
     "iopub.status.busy": "2023-05-15T20:32:13.626538Z",
     "iopub.status.idle": "2023-05-15T20:32:13.645481Z",
     "shell.execute_reply": "2023-05-15T20:32:13.644473Z"
    },
    "papermill": {
     "duration": 0.030533,
     "end_time": "2023-05-15T20:32:13.648162",
     "exception": false,
     "start_time": "2023-05-15T20:32:13.617629",
     "status": "completed"
    },
    "tags": []
   },
   "outputs": [],
   "source": [
    "all_audios = list(Path(\"../input/birdclef-2023/test_soundscapes/\").glob(\"*.ogg\")) \n",
    "seconds = [i for i in range(5, 605, 5)]\n",
    "\n",
    "class CFG:\n",
    "    batch_size=4\n",
    "    num_workers=4\n",
    "    \n",
    "config = CFG()\n",
    "\n",
    "def prediction_for_clip(\n",
    "    audio_path\n",
    "):\n",
    "    \n",
    "    device = torch.device(\"cpu\")\n",
    "    \n",
    "    # inference\n",
    "    prediction_dict = {}\n",
    "    \n",
    "    clip, _ = librosa.load(audio_path, sr=sample_rate, mono=True)\n",
    "    name_ = \"_\".join(audio_path.name.split(\".\")[:-1])\n",
    "    row_ids = [name_+f\"_{second}\" for second in seconds]\n",
    "\n",
    "    test_df = pd.DataFrame({\n",
    "        \"row_id\": row_ids,\n",
    "        \"seconds\": seconds\n",
    "    })\n",
    "    \n",
    "        \n",
    "    dataset = TestDataset(\n",
    "        df=test_df, \n",
    "        sample_rate=sample_rate,\n",
    "        frame_length=frame_length,\n",
    "        waveform=clip\n",
    "    )\n",
    "\n",
    "    loader = DataLoader(\n",
    "        dataset,\n",
    "        batch_size=config.batch_size, \n",
    "        num_workers=config.num_workers,\n",
    "        drop_last=False,\n",
    "        shuffle=False,\n",
    "        pin_memory=True\n",
    "    )\n",
    "\n",
    "    for data in loader:\n",
    "\n",
    "        row_ids = data['row_id']\n",
    "\n",
    "        for row_id in row_ids:\n",
    "            if row_id not in prediction_dict:\n",
    "                prediction_dict[str(row_id)] = []\n",
    "\n",
    "        probas = []\n",
    "\n",
    "        for model in models:\n",
    "            with torch.no_grad():\n",
    "                # print(type(data[\"wav_tensors\"]))\n",
    "                # print(data[\"wav_tensors\"].size())\n",
    "                # output = model(data[\"wav_tensors\"])\n",
    "                output = model(data[\"wav_tensors\"], is_test=True)[\"logit\"].sigmoid()\n",
    "#                     \n",
    "            for row_id_idx, row_id in enumerate(row_ids):\n",
    "                prediction_dict[str(row_id)].append(output[[row_id_idx]].numpy().reshape(-1))\n",
    "                                                        \n",
    "    for row_id in list(prediction_dict.keys()):\n",
    "                \n",
    "        logits = np.array(prediction_dict[row_id]).mean(0)\n",
    "        prediction_dict[row_id] = {}\n",
    "        for label in range(N_CLASS):\n",
    "            prediction_dict[row_id][CLASSES[label]] = logits[label]\n",
    "\n",
    "    return prediction_dict"
   ]
  },
  {
   "cell_type": "code",
   "execution_count": 11,
   "id": "296d55df",
   "metadata": {
    "execution": {
     "iopub.execute_input": "2023-05-15T20:32:13.665087Z",
     "iopub.status.busy": "2023-05-15T20:32:13.664406Z",
     "iopub.status.idle": "2023-05-15T20:32:32.937700Z",
     "shell.execute_reply": "2023-05-15T20:32:32.936267Z"
    },
    "papermill": {
     "duration": 19.285181,
     "end_time": "2023-05-15T20:32:32.940817",
     "exception": false,
     "start_time": "2023-05-15T20:32:13.655636",
     "status": "completed"
    },
    "tags": []
   },
   "outputs": [
    {
     "name": "stdout",
     "output_type": "stream",
     "text": [
      "With concurrent ThreadPoolExecutor, time cost reduced to 19.3 for processing 1 audios\n"
     ]
    }
   ],
   "source": [
    "import concurrent.futures\n",
    "\n",
    "start = time.time()\n",
    "with concurrent.futures.ThreadPoolExecutor(max_workers=4) as executor:\n",
    "    dicts = list(executor.map(prediction_for_clip, all_audios))\n",
    "print(f\"With concurrent ThreadPoolExecutor, time cost reduced to {time.time()-start:.1f} for processing {len(all_audios)} audios\")\n"
   ]
  },
  {
   "cell_type": "code",
   "execution_count": 12,
   "id": "bfcb2fa4",
   "metadata": {
    "execution": {
     "iopub.execute_input": "2023-05-15T20:32:32.958525Z",
     "iopub.status.busy": "2023-05-15T20:32:32.957765Z",
     "iopub.status.idle": "2023-05-15T20:32:33.116245Z",
     "shell.execute_reply": "2023-05-15T20:32:33.115023Z"
    },
    "papermill": {
     "duration": 0.170729,
     "end_time": "2023-05-15T20:32:33.119196",
     "exception": false,
     "start_time": "2023-05-15T20:32:32.948467",
     "status": "completed"
    },
    "tags": []
   },
   "outputs": [
    {
     "name": "stdout",
     "output_type": "stream",
     "text": [
      "\n",
      "total rows : 120\n",
      "\n"
     ]
    },
    {
     "data": {
      "text/html": [
       "<div>\n",
       "<style scoped>\n",
       "    .dataframe tbody tr th:only-of-type {\n",
       "        vertical-align: middle;\n",
       "    }\n",
       "\n",
       "    .dataframe tbody tr th {\n",
       "        vertical-align: top;\n",
       "    }\n",
       "\n",
       "    .dataframe thead th {\n",
       "        text-align: right;\n",
       "    }\n",
       "</style>\n",
       "<table border=\"1\" class=\"dataframe\">\n",
       "  <thead>\n",
       "    <tr style=\"text-align: right;\">\n",
       "      <th></th>\n",
       "      <th>row_id</th>\n",
       "      <th>abethr1</th>\n",
       "      <th>abhori1</th>\n",
       "      <th>abythr1</th>\n",
       "      <th>afbfly1</th>\n",
       "      <th>afdfly1</th>\n",
       "      <th>afecuc1</th>\n",
       "      <th>affeag1</th>\n",
       "      <th>afgfly1</th>\n",
       "      <th>afghor1</th>\n",
       "      <th>...</th>\n",
       "      <th>yebsto1</th>\n",
       "      <th>yeccan1</th>\n",
       "      <th>yefcan</th>\n",
       "      <th>yelbis1</th>\n",
       "      <th>yenspu1</th>\n",
       "      <th>yertin1</th>\n",
       "      <th>yesbar1</th>\n",
       "      <th>yespet1</th>\n",
       "      <th>yetgre1</th>\n",
       "      <th>yewgre1</th>\n",
       "    </tr>\n",
       "  </thead>\n",
       "  <tbody>\n",
       "    <tr>\n",
       "      <th>0</th>\n",
       "      <td>soundscape_29201_5</td>\n",
       "      <td>0.024656</td>\n",
       "      <td>0.017564</td>\n",
       "      <td>0.018308</td>\n",
       "      <td>0.000942</td>\n",
       "      <td>0.002909</td>\n",
       "      <td>0.007216</td>\n",
       "      <td>0.001728</td>\n",
       "      <td>0.002870</td>\n",
       "      <td>0.006755</td>\n",
       "      <td>...</td>\n",
       "      <td>0.003038</td>\n",
       "      <td>0.000560</td>\n",
       "      <td>0.010100</td>\n",
       "      <td>0.005697</td>\n",
       "      <td>0.006307</td>\n",
       "      <td>0.025957</td>\n",
       "      <td>0.002597</td>\n",
       "      <td>0.004848</td>\n",
       "      <td>0.005320</td>\n",
       "      <td>0.003239</td>\n",
       "    </tr>\n",
       "    <tr>\n",
       "      <th>1</th>\n",
       "      <td>soundscape_29201_10</td>\n",
       "      <td>0.014718</td>\n",
       "      <td>0.144380</td>\n",
       "      <td>0.006223</td>\n",
       "      <td>0.010445</td>\n",
       "      <td>0.007448</td>\n",
       "      <td>0.003808</td>\n",
       "      <td>0.016587</td>\n",
       "      <td>0.007493</td>\n",
       "      <td>0.010230</td>\n",
       "      <td>...</td>\n",
       "      <td>0.001901</td>\n",
       "      <td>0.002637</td>\n",
       "      <td>0.034775</td>\n",
       "      <td>0.021586</td>\n",
       "      <td>0.003970</td>\n",
       "      <td>0.015332</td>\n",
       "      <td>0.016913</td>\n",
       "      <td>0.005821</td>\n",
       "      <td>0.008230</td>\n",
       "      <td>0.010407</td>\n",
       "    </tr>\n",
       "    <tr>\n",
       "      <th>2</th>\n",
       "      <td>soundscape_29201_15</td>\n",
       "      <td>0.016691</td>\n",
       "      <td>0.016930</td>\n",
       "      <td>0.008820</td>\n",
       "      <td>0.013880</td>\n",
       "      <td>0.005348</td>\n",
       "      <td>0.015680</td>\n",
       "      <td>0.019397</td>\n",
       "      <td>0.002726</td>\n",
       "      <td>0.003266</td>\n",
       "      <td>...</td>\n",
       "      <td>0.003023</td>\n",
       "      <td>0.000862</td>\n",
       "      <td>0.011923</td>\n",
       "      <td>0.005527</td>\n",
       "      <td>0.001293</td>\n",
       "      <td>0.039912</td>\n",
       "      <td>0.017086</td>\n",
       "      <td>0.007576</td>\n",
       "      <td>0.023562</td>\n",
       "      <td>0.018572</td>\n",
       "    </tr>\n",
       "    <tr>\n",
       "      <th>3</th>\n",
       "      <td>soundscape_29201_20</td>\n",
       "      <td>0.015888</td>\n",
       "      <td>0.022473</td>\n",
       "      <td>0.021618</td>\n",
       "      <td>0.008364</td>\n",
       "      <td>0.018643</td>\n",
       "      <td>0.013574</td>\n",
       "      <td>0.014887</td>\n",
       "      <td>0.008253</td>\n",
       "      <td>0.010629</td>\n",
       "      <td>...</td>\n",
       "      <td>0.004818</td>\n",
       "      <td>0.006716</td>\n",
       "      <td>0.033947</td>\n",
       "      <td>0.011323</td>\n",
       "      <td>0.007562</td>\n",
       "      <td>0.020004</td>\n",
       "      <td>0.013007</td>\n",
       "      <td>0.013184</td>\n",
       "      <td>0.009943</td>\n",
       "      <td>0.009239</td>\n",
       "    </tr>\n",
       "    <tr>\n",
       "      <th>4</th>\n",
       "      <td>soundscape_29201_25</td>\n",
       "      <td>0.004646</td>\n",
       "      <td>0.009995</td>\n",
       "      <td>0.007664</td>\n",
       "      <td>0.003262</td>\n",
       "      <td>0.004711</td>\n",
       "      <td>0.004344</td>\n",
       "      <td>0.005813</td>\n",
       "      <td>0.006248</td>\n",
       "      <td>0.002279</td>\n",
       "      <td>...</td>\n",
       "      <td>0.001779</td>\n",
       "      <td>0.001776</td>\n",
       "      <td>0.005446</td>\n",
       "      <td>0.005021</td>\n",
       "      <td>0.004540</td>\n",
       "      <td>0.007197</td>\n",
       "      <td>0.004066</td>\n",
       "      <td>0.003778</td>\n",
       "      <td>0.004106</td>\n",
       "      <td>0.004861</td>\n",
       "    </tr>\n",
       "  </tbody>\n",
       "</table>\n",
       "<p>5 rows × 265 columns</p>\n",
       "</div>"
      ],
      "text/plain": [
       "                row_id   abethr1   abhori1   abythr1   afbfly1   afdfly1  \\\n",
       "0   soundscape_29201_5  0.024656  0.017564  0.018308  0.000942  0.002909   \n",
       "1  soundscape_29201_10  0.014718  0.144380  0.006223  0.010445  0.007448   \n",
       "2  soundscape_29201_15  0.016691  0.016930  0.008820  0.013880  0.005348   \n",
       "3  soundscape_29201_20  0.015888  0.022473  0.021618  0.008364  0.018643   \n",
       "4  soundscape_29201_25  0.004646  0.009995  0.007664  0.003262  0.004711   \n",
       "\n",
       "    afecuc1   affeag1   afgfly1   afghor1  ...   yebsto1   yeccan1    yefcan  \\\n",
       "0  0.007216  0.001728  0.002870  0.006755  ...  0.003038  0.000560  0.010100   \n",
       "1  0.003808  0.016587  0.007493  0.010230  ...  0.001901  0.002637  0.034775   \n",
       "2  0.015680  0.019397  0.002726  0.003266  ...  0.003023  0.000862  0.011923   \n",
       "3  0.013574  0.014887  0.008253  0.010629  ...  0.004818  0.006716  0.033947   \n",
       "4  0.004344  0.005813  0.006248  0.002279  ...  0.001779  0.001776  0.005446   \n",
       "\n",
       "    yelbis1   yenspu1   yertin1   yesbar1   yespet1   yetgre1   yewgre1  \n",
       "0  0.005697  0.006307  0.025957  0.002597  0.004848  0.005320  0.003239  \n",
       "1  0.021586  0.003970  0.015332  0.016913  0.005821  0.008230  0.010407  \n",
       "2  0.005527  0.001293  0.039912  0.017086  0.007576  0.023562  0.018572  \n",
       "3  0.011323  0.007562  0.020004  0.013007  0.013184  0.009943  0.009239  \n",
       "4  0.005021  0.004540  0.007197  0.004066  0.003778  0.004106  0.004861  \n",
       "\n",
       "[5 rows x 265 columns]"
      ]
     },
     "execution_count": 12,
     "metadata": {},
     "output_type": "execute_result"
    }
   ],
   "source": [
    "prediction_dicts = {}\n",
    "for d in dicts:\n",
    "    prediction_dicts.update(d)\n",
    "    \n",
    "submission = pd.DataFrame.from_dict(prediction_dicts, \"index\").rename_axis(\"row_id\").reset_index()\n",
    "submission.to_csv(\"submission.csv\", index=False)\n",
    "print(f\"\"\"\n",
    "total rows : {len(submission)}\n",
    "\"\"\")\n",
    "submission.head()"
   ]
  },
  {
   "cell_type": "code",
   "execution_count": null,
   "id": "9ac8baa8",
   "metadata": {
    "papermill": {
     "duration": 0.007962,
     "end_time": "2023-05-15T20:32:33.135023",
     "exception": false,
     "start_time": "2023-05-15T20:32:33.127061",
     "status": "completed"
    },
    "tags": []
   },
   "outputs": [],
   "source": []
  },
  {
   "cell_type": "code",
   "execution_count": null,
   "id": "dfaca23f",
   "metadata": {
    "papermill": {
     "duration": 0.007541,
     "end_time": "2023-05-15T20:32:33.150317",
     "exception": false,
     "start_time": "2023-05-15T20:32:33.142776",
     "status": "completed"
    },
    "tags": []
   },
   "outputs": [],
   "source": []
  },
  {
   "cell_type": "code",
   "execution_count": null,
   "id": "b9be2f3c",
   "metadata": {
    "papermill": {
     "duration": 0.007653,
     "end_time": "2023-05-15T20:32:33.165680",
     "exception": false,
     "start_time": "2023-05-15T20:32:33.158027",
     "status": "completed"
    },
    "tags": []
   },
   "outputs": [],
   "source": []
  }
 ],
 "metadata": {
  "kernelspec": {
   "display_name": "Python 3",
   "language": "python",
   "name": "python3"
  },
  "language_info": {
   "codemirror_mode": {
    "name": "ipython",
    "version": 3
   },
   "file_extension": ".py",
   "mimetype": "text/x-python",
   "name": "python",
   "nbconvert_exporter": "python",
   "pygments_lexer": "ipython3",
   "version": "3.10.10"
  },
  "papermill": {
   "default_parameters": {},
   "duration": 77.815505,
   "end_time": "2023-05-15T20:32:36.042906",
   "environment_variables": {},
   "exception": null,
   "input_path": "__notebook__.ipynb",
   "output_path": "__notebook__.ipynb",
   "parameters": {},
   "start_time": "2023-05-15T20:31:18.227401",
   "version": "2.4.0"
  }
 },
 "nbformat": 4,
 "nbformat_minor": 5
}
