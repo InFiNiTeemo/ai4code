{
 "cells": [
  {
   "cell_type": "code",
   "execution_count": 1,
   "id": "adfa0b8b",
   "metadata": {
    "_kg_hide-output": true,
    "execution": {
     "iopub.execute_input": "2023-05-05T19:23:03.002253Z",
     "iopub.status.busy": "2023-05-05T19:23:03.001871Z",
     "iopub.status.idle": "2023-05-05T19:23:35.150773Z",
     "shell.execute_reply": "2023-05-05T19:23:35.149524Z"
    },
    "papermill": {
     "duration": 32.160774,
     "end_time": "2023-05-05T19:23:35.153609",
     "exception": false,
     "start_time": "2023-05-05T19:23:02.992835",
     "status": "completed"
    },
    "tags": []
   },
   "outputs": [
    {
     "name": "stdout",
     "output_type": "stream",
     "text": [
      "Processing /kaggle/input/nnaudio031/nnAudio-0.3.1-py3-none-any.whl\r\n",
      "Requirement already satisfied: scipy in /opt/conda/lib/python3.10/site-packages (from nnAudio==0.3.1) (1.9.3)\r\n",
      "Requirement already satisfied: numpy<1.26.0,>=1.18.5 in /opt/conda/lib/python3.10/site-packages (from scipy->nnAudio==0.3.1) (1.23.5)\r\n",
      "Installing collected packages: nnAudio\r\n",
      "Successfully installed nnAudio-0.3.1\r\n",
      "\u001b[33mWARNING: Running pip as the 'root' user can result in broken permissions and conflicting behaviour with the system package manager. It is recommended to use a virtual environment instead: https://pip.pypa.io/warnings/venv\u001b[0m\u001b[33m\r\n",
      "\u001b[0m"
     ]
    }
   ],
   "source": [
    "## setup\n",
    "## TODO: move all under bird2022wheels\n",
    "\n",
    "#!pip install ../input/birds-inference-pip-wheels/torchaudio-0.8.1-cp37-cp37m-manylinux1_x86_64.whl ../input/birds-inference-pip-wheels/torch-1.8.1-cp37-cp37m-manylinux1_x86_64.whl\n",
    "#!pip install ../input/birds-inference-pip-wheels/audiomentations-0.16.0-py3-none-any.whl --no-index --no-deps\n",
    "#!pip install ../input/birds-inference-pip-wheels/torchlibrosa-0.0.9-py3-none-any.whl --no-index --no-deps\n",
    "!pip install ../input/nnaudio031/nnAudio-0.3.1-py3-none-any.whl\n",
    "#!cp -r ../input/timmlatest ../working/timmlatest\n",
    "#!pip install -U ../working/timmlatest\n",
    "#!rm -rf ../working/timmlatest\n",
    "\n",
    "# !pip install nnAudio"
   ]
  },
  {
   "cell_type": "code",
   "execution_count": 2,
   "id": "003f7941",
   "metadata": {
    "execution": {
     "iopub.execute_input": "2023-05-05T19:23:35.170118Z",
     "iopub.status.busy": "2023-05-05T19:23:35.169700Z",
     "iopub.status.idle": "2023-05-05T19:23:35.175009Z",
     "shell.execute_reply": "2023-05-05T19:23:35.173766Z"
    },
    "papermill": {
     "duration": 0.016418,
     "end_time": "2023-05-05T19:23:35.177404",
     "exception": false,
     "start_time": "2023-05-05T19:23:35.160986",
     "status": "completed"
    },
    "tags": []
   },
   "outputs": [],
   "source": [
    "# !ls /kaggle/input/blef0503/\n",
    "# !ls /kaggle/input/nfnet-baseline-bs16/nfnet-baseline-bs16/nf0_v5_TimmClassifier_eca_nfnet_l0_0_lb\n",
    "# !ls /kaggle/input/birds-inference-pip-wheels/*\n",
    "# !pip freeze|grep torch"
   ]
  },
  {
   "cell_type": "code",
   "execution_count": 3,
   "id": "c0426c05",
   "metadata": {
    "execution": {
     "iopub.execute_input": "2023-05-05T19:23:35.193858Z",
     "iopub.status.busy": "2023-05-05T19:23:35.193454Z",
     "iopub.status.idle": "2023-05-05T19:23:35.199209Z",
     "shell.execute_reply": "2023-05-05T19:23:35.198067Z"
    },
    "papermill": {
     "duration": 0.016852,
     "end_time": "2023-05-05T19:23:35.201785",
     "exception": false,
     "start_time": "2023-05-05T19:23:35.184933",
     "status": "completed"
    },
    "tags": []
   },
   "outputs": [],
   "source": [
    "## https://github.com/Selimonder/birdclef2022/\n",
    "import os, sys, glob, math\n",
    "\n",
    "os.environ[\"MKL_NUM_THREADS\"] = \"1\"\n",
    "os.environ[\"OMP_NUM_THREADS\"] = \"1\"\n",
    "\n",
    "github_folder = \"/kaggle/input/blef0503\"\n",
    "sys.path.append(github_folder)"
   ]
  },
  {
   "cell_type": "code",
   "execution_count": 4,
   "id": "f6cd22cd",
   "metadata": {
    "execution": {
     "iopub.execute_input": "2023-05-05T19:23:35.219296Z",
     "iopub.status.busy": "2023-05-05T19:23:35.218867Z",
     "iopub.status.idle": "2023-05-05T19:23:42.404458Z",
     "shell.execute_reply": "2023-05-05T19:23:42.403365Z"
    },
    "papermill": {
     "duration": 7.197223,
     "end_time": "2023-05-05T19:23:42.407111",
     "exception": false,
     "start_time": "2023-05-05T19:23:35.209888",
     "status": "completed"
    },
    "tags": []
   },
   "outputs": [
    {
     "name": "stderr",
     "output_type": "stream",
     "text": [
      "/opt/conda/lib/python3.10/site-packages/scipy/__init__.py:146: UserWarning: A NumPy version >=1.16.5 and <1.23.0 is required for this version of SciPy (detected version 1.23.5\n",
      "  warnings.warn(f\"A NumPy version >={np_minversion} and <{np_maxversion}\"\n",
      "/opt/conda/lib/python3.10/site-packages/nnAudio/Spectrogram.py:4: Warning: importing Spectrogram subpackage will be deprecated soon. You should import the feature extractor from the feature subpackage. See actual documentation.\n",
      "  warnings.warn(\n"
     ]
    }
   ],
   "source": [
    "import cv2\n",
    "import gc\n",
    "import torch\n",
    "import librosa\n",
    "import argparse, warnings\n",
    "\n",
    "import numpy as np\n",
    "import pandas as pd\n",
    "import IPython.display as ipd\n",
    "\n",
    "import zoo\n",
    "from training.config import load_config\n",
    "from training.datasets import BirdDatasetOOF\n",
    "\n",
    "\n",
    "cv2.ocl.setUseOpenCL(False)\n",
    "cv2.setNumThreads(0)\n",
    "\n",
    "from tqdm import tqdm\n",
    "from torch.utils.data import DataLoader\n",
    "\n",
    "warnings.simplefilter(\"ignore\")"
   ]
  },
  {
   "cell_type": "markdown",
   "id": "e0d9bafb",
   "metadata": {
    "papermill": {
     "duration": 0.006705,
     "end_time": "2023-05-05T19:23:42.421132",
     "exception": false,
     "start_time": "2023-05-05T19:23:42.414427",
     "status": "completed"
    },
    "tags": []
   },
   "source": [
    "## models"
   ]
  },
  {
   "cell_type": "code",
   "execution_count": 5,
   "id": "cc22f38f",
   "metadata": {
    "execution": {
     "iopub.execute_input": "2023-05-05T19:23:42.437462Z",
     "iopub.status.busy": "2023-05-05T19:23:42.436337Z",
     "iopub.status.idle": "2023-05-05T19:23:46.588629Z",
     "shell.execute_reply": "2023-05-05T19:23:46.587405Z"
    },
    "papermill": {
     "duration": 4.163242,
     "end_time": "2023-05-05T19:23:46.591351",
     "exception": false,
     "start_time": "2023-05-05T19:23:42.428109",
     "status": "completed"
    },
    "tags": []
   },
   "outputs": [
    {
     "name": "stdout",
     "output_type": "stream",
     "text": [
      "/kaggle/input/nf0-v5/nf0_v5_TimmClassifier_eca_nfnet_l0_0_lb\n",
      "initing CLS features model 15 duration...\n",
      "pretrained model...\n",
      "{'in_chans': 1, 'drop_path_rate': 0.2, 'drop_rate': 0.5}\n",
      "=> loading checkpoint '/kaggle/input/nf0-v5/nf0_v5_TimmClassifier_eca_nfnet_l0_0_lb''\n",
      "model not found [Errno 2] No such file or directory: '/kaggle/input/nf0-v5/nf0_v5_TimmClassifier_eca_nfnet_l0_0_lb'\n",
      "/kaggle/input/nf0-v5/nf0_v5_TimmClassifier_eca_nfnet_l0_1_lb\n",
      "initing CLS features model 15 duration...\n",
      "pretrained model...\n",
      "{'in_chans': 1, 'drop_path_rate': 0.2, 'drop_rate': 0.5}\n",
      "=> loading checkpoint '/kaggle/input/nf0-v5/nf0_v5_TimmClassifier_eca_nfnet_l0_1_lb''\n",
      "epoch 18\n",
      "/kaggle/input/nf0-v5/nf0_v5_TimmClassifier_eca_nfnet_l0_2_lb\n",
      "initing CLS features model 15 duration...\n",
      "pretrained model...\n",
      "{'in_chans': 1, 'drop_path_rate': 0.2, 'drop_rate': 0.5}\n",
      "=> loading checkpoint '/kaggle/input/nf0-v5/nf0_v5_TimmClassifier_eca_nfnet_l0_2_lb''\n",
      "model not found [Errno 2] No such file or directory: '/kaggle/input/nf0-v5/nf0_v5_TimmClassifier_eca_nfnet_l0_2_lb'\n",
      "/kaggle/input/nf0-v5/nf0_v5_TimmClassifier_eca_nfnet_l0_3_lb\n",
      "initing CLS features model 15 duration...\n",
      "pretrained model...\n",
      "{'in_chans': 1, 'drop_path_rate': 0.2, 'drop_rate': 0.5}\n",
      "=> loading checkpoint '/kaggle/input/nf0-v5/nf0_v5_TimmClassifier_eca_nfnet_l0_3_lb''\n",
      "model not found [Errno 2] No such file or directory: '/kaggle/input/nf0-v5/nf0_v5_TimmClassifier_eca_nfnet_l0_3_lb'\n",
      "/kaggle/input/nf0-v5/nf0_v5_TimmClassifier_eca_nfnet_l0_4_lb\n",
      "initing CLS features model 15 duration...\n",
      "pretrained model...\n",
      "{'in_chans': 1, 'drop_path_rate': 0.2, 'drop_rate': 0.5}\n",
      "=> loading checkpoint '/kaggle/input/nf0-v5/nf0_v5_TimmClassifier_eca_nfnet_l0_4_lb''\n",
      "model not found [Errno 2] No such file or directory: '/kaggle/input/nf0-v5/nf0_v5_TimmClassifier_eca_nfnet_l0_4_lb'\n"
     ]
    }
   ],
   "source": [
    "def load_model(conf_path: str, weights_path: str, prefix: str, suffix: str, fold: int, to_device: bool = True):\n",
    "    conf = load_config(conf_path)\n",
    "    conf['encoder_params']['pretrained'] = False\n",
    "    \n",
    "    snapshot_name = \"{}{}_{}_{}_{}\".format(prefix, conf[\"network\"], conf[\"encoder_params\"][\"encoder\"], fold, suffix)\n",
    "    weights_path = os.path.join(weights_path, snapshot_name)\n",
    "    print(weights_path)\n",
    "    model = zoo.__dict__[conf[\"network\"]](**conf[\"encoder_params\"])\n",
    "    model = torch.nn.DataParallel(model)\n",
    "    print(\"=> loading checkpoint '{}''\".format(weights_path))\n",
    "    checkpoint = torch.load(weights_path, map_location=\"cpu\")\n",
    "    print(\"epoch\", checkpoint[\"epoch\"])\n",
    "    model.load_state_dict(checkpoint[\"state_dict\"])\n",
    "    model.eval()\n",
    "    if to_device: model.cuda()\n",
    "    return model\n",
    "\n",
    "models = []\n",
    "\n",
    "## best only for now\n",
    "suffixes = [\"lb\"]#, \"f1_score\" \"last\"]\n",
    "folds    = 5\n",
    "\n",
    "for i in range(folds):\n",
    "    for sx in suffixes:\n",
    "        try:\n",
    "            model = load_model(conf_path    = f\"{github_folder}/configs/cls_nf0_v5.json\",\n",
    "                               weights_path = f\"/kaggle/input/nf0-v5\",\n",
    "                               prefix       = \"nf0_v5_\",\n",
    "                               suffix       = sx,\n",
    "                               fold         = i,\n",
    "                               to_device    = False,)\n",
    "            models.append(model)\n",
    "        except Exception as e:\n",
    "            print(f\"model not found\", e)"
   ]
  },
  {
   "cell_type": "code",
   "execution_count": 6,
   "id": "8ce5b102",
   "metadata": {
    "execution": {
     "iopub.execute_input": "2023-05-05T19:23:46.608203Z",
     "iopub.status.busy": "2023-05-05T19:23:46.607789Z",
     "iopub.status.idle": "2023-05-05T19:23:46.617341Z",
     "shell.execute_reply": "2023-05-05T19:23:46.616246Z"
    },
    "papermill": {
     "duration": 0.020794,
     "end_time": "2023-05-05T19:23:46.619715",
     "exception": false,
     "start_time": "2023-05-05T19:23:46.598921",
     "status": "completed"
    },
    "tags": []
   },
   "outputs": [
    {
     "data": {
      "text/plain": [
       "1"
      ]
     },
     "execution_count": 6,
     "metadata": {},
     "output_type": "execute_result"
    }
   ],
   "source": [
    "len(models)\n",
    "#models = [models[0]]"
   ]
  },
  {
   "cell_type": "markdown",
   "id": "b4039fb9",
   "metadata": {
    "papermill": {
     "duration": 0.007349,
     "end_time": "2023-05-05T19:23:46.634813",
     "exception": false,
     "start_time": "2023-05-05T19:23:46.627464",
     "status": "completed"
    },
    "tags": []
   },
   "source": [
    "## infer"
   ]
  },
  {
   "cell_type": "code",
   "execution_count": 7,
   "id": "78cf71d1",
   "metadata": {
    "execution": {
     "iopub.execute_input": "2023-05-05T19:23:46.652440Z",
     "iopub.status.busy": "2023-05-05T19:23:46.651303Z",
     "iopub.status.idle": "2023-05-05T19:23:46.656887Z",
     "shell.execute_reply": "2023-05-05T19:23:46.656108Z"
    },
    "papermill": {
     "duration": 0.016692,
     "end_time": "2023-05-05T19:23:46.659149",
     "exception": false,
     "start_time": "2023-05-05T19:23:46.642457",
     "status": "completed"
    },
    "tags": []
   },
   "outputs": [],
   "source": [
    "CLASSES = \"abethr1 abhori1 abythr1 afbfly1 afdfly1 afecuc1 affeag1 afgfly1 afghor1 afmdov1 afpfly1 afpkin1 afpwag1 afrgos1 afrgrp1 afrjac1 afrthr1 amesun2 augbuz1 bagwea1 barswa bawhor2 bawman1 bcbeat1 beasun2 bkctch1 bkfruw1 blacra1 blacuc1 blakit1 blaplo1 blbpuf2 blcapa2 blfbus1 blhgon1 blhher1 blksaw1 blnmou1 blnwea1 bltapa1 bltbar1 bltori1 blwlap1 brcale1 brcsta1 brctch1 brcwea1 brican1 brobab1 broman1 brosun1 brrwhe3 brtcha1 brubru1 brwwar1 bswdov1 btweye2 bubwar2 butapa1 cabgre1 carcha1 carwoo1 categr ccbeat1 chespa1 chewea1 chibat1 chtapa3 chucis1 cibwar1 cohmar1 colsun2 combul2 combuz1 comsan crefra2 crheag1 crohor1 darbar1 darter3 didcuc1 dotbar1 dutdov1 easmog1 eaywag1 edcsun3 egygoo equaka1 eswdov1 eubeat1 fatrav1 fatwid1 fislov1 fotdro5 gabgos2 gargan gbesta1 gnbcam2 gnhsun1 gobbun1 gobsta5 gobwea1 golher1 grbcam1 grccra1 grecor greegr grewoo2 grwpyt1 gryapa1 grywrw1 gybfis1 gycwar3 gyhbus1 gyhkin1 gyhneg1 gyhspa1 gytbar1 hadibi1 hamerk1 hartur1 helgui hipbab1 hoopoe huncis1 hunsun2 joygre1 kerspa2 klacuc1 kvbsun1 laudov1 lawgol lesmaw1 lessts1 libeat1 litegr litswi1 litwea1 loceag1 lotcor1 lotlap1 luebus1 mabeat1 macshr1 malkin1 marsto1 marsun2 mcptit1 meypar1 moccha1 mouwag1 ndcsun2 nobfly1 norbro1 norcro1 norfis1 norpuf1 nubwoo1 pabspa1 palfly2 palpri1 piecro1 piekin1 pitwhy purgre2 pygbat1 quailf1 ratcis1 raybar1 rbsrob1 rebfir2 rebhor1 reboxp1 reccor reccuc1 reedov1 refbar2 refcro1 reftin1 refwar2 rehblu1 rehwea1 reisee2 rerswa1 rewsta1 rindov rocmar2 rostur1 ruegls1 rufcha2 sacibi2 sccsun2 scrcha1 scthon1 shesta1 sichor1 sincis1 slbgre1 slcbou1 sltnig1 sobfly1 somgre1 somtit4 soucit1 soufis1 spemou2 spepig1 spewea1 spfbar1 spfwea1 spmthr1 spwlap1 squher1 strher strsee1 stusta1 subbus1 supsta1 tacsun1 tafpri1 tamdov1 thrnig1 trobou1 varsun2 vibsta2 vilwea1 vimwea1 walsta1 wbgbir1 wbrcha2 wbswea1 wfbeat1 whbcan1 whbcou1 whbcro2 whbtit5 whbwea1 whbwhe3 whcpri2 whctur2 wheslf1 whhsaw1 whihel1 whrshr1 witswa1 wlwwar wookin1 woosan wtbeat1 yebapa1 yebbar1 yebduc1 yebere1 yebgre1 yebsto1 yeccan1 yefcan yelbis1 yenspu1 yertin1 yesbar1 yespet1 yetgre1 yewgre1\".split()\n",
    "N_CLASS = len(CLASSES)"
   ]
  },
  {
   "cell_type": "code",
   "execution_count": 8,
   "id": "7b5e4534",
   "metadata": {
    "execution": {
     "iopub.execute_input": "2023-05-05T19:23:46.677504Z",
     "iopub.status.busy": "2023-05-05T19:23:46.676635Z",
     "iopub.status.idle": "2023-05-05T19:23:46.690163Z",
     "shell.execute_reply": "2023-05-05T19:23:46.689036Z"
    },
    "papermill": {
     "duration": 0.025699,
     "end_time": "2023-05-05T19:23:46.692949",
     "exception": false,
     "start_time": "2023-05-05T19:23:46.667250",
     "status": "completed"
    },
    "tags": []
   },
   "outputs": [],
   "source": [
    "from torch.utils.data import Dataset, DataLoader\n",
    "\n",
    "class BirdDataset(Dataset):\n",
    "    def __init__(self, frame_length, sample_rate):\n",
    "        self.frame_length = frame_length\n",
    "        self.sample_rate = sample_rate\n",
    "        self.data   = sorted(glob.glob(\"/kaggle/input/birdclef-2023/test_soundscapes/*.ogg\")) \n",
    "        \n",
    "    def __len__(self):\n",
    "        return len(self.data)\n",
    "    \n",
    "    def __getitem__(self, idx):\n",
    "        \"\"\"\n",
    "        Prepare audio clip for inference\n",
    "        \"\"\"\n",
    "        fpath = self.data[idx]\n",
    "        sample_rate = self.sample_rate\n",
    "        frame_length = self.frame_length\n",
    "        \n",
    "        infer_frame_length = frame_length\n",
    "        batch = {\"wav_tensors\": [], \"end_times\": []}\n",
    "\n",
    "        waveform, sample_rate = librosa.load(fpath, sr=sample_rate, mono=True)\n",
    "        n_parts = math.ceil(len(waveform) / int(infer_frame_length * sample_rate))\n",
    "\n",
    "        for seg_idx in range(n_parts): \n",
    "            end_time = (seg_idx + 1) * frame_length\n",
    "            seg_wav  = waveform[(end_time*sample_rate)-(sample_rate*frame_length):end_time*sample_rate]\n",
    "\n",
    "            wav_tensor = torch.from_numpy(seg_wav)\n",
    "\n",
    "            if len(wav_tensor) == frame_length * sample_rate:\n",
    "                batch[\"wav_tensors\"].append(wav_tensor.unsqueeze(0))\n",
    "            elif len(wav_tensor) < frame_length * sample_rate:\n",
    "                wav_tensor = torch.nn.functional.pad(wav_tensor, (0, (frame_length * sample_rate) - len(wav_tensor)))\n",
    "                batch[\"wav_tensors\"].append(wav_tensor.unsqueeze(0))\n",
    "            elif len(wav_tensor) > frame_length * sample_rate:\n",
    "                wav_tensor = wav_tensor[:(frame_length * sample_rate)]\n",
    "                batch[\"wav_tensors\"].append(wav_tensor.unsqueeze(0))\n",
    "\n",
    "            batch[\"end_times\"].append(end_time)\n",
    "        batch[\"wav_tensors\"] = torch.stack(batch[\"wav_tensors\"])\n",
    "        return batch, n_parts, len(waveform)\n",
    "\n",
    "@torch.no_grad()\n",
    "def predict_clip(models, batch, n_parts, frame_length):\n",
    "    preds = np.zeros([len(models), n_parts, N_CLASS])\n",
    "    for m_idx, model in enumerate(models):\n",
    "        with torch.cuda.amp.autocast():\n",
    "            preds[m_idx] = model(batch[\"wav_tensors\"], is_test=True)[\"logit\"].sigmoid().cpu().numpy()\n",
    "    return preds.mean(0) ## max by model    \n",
    "\n",
    "\n"
   ]
  },
  {
   "cell_type": "code",
   "execution_count": 9,
   "id": "6900c63c",
   "metadata": {
    "execution": {
     "iopub.execute_input": "2023-05-05T19:23:46.710409Z",
     "iopub.status.busy": "2023-05-05T19:23:46.709974Z",
     "iopub.status.idle": "2023-05-05T19:23:46.719968Z",
     "shell.execute_reply": "2023-05-05T19:23:46.719106Z"
    },
    "papermill": {
     "duration": 0.021262,
     "end_time": "2023-05-05T19:23:46.722163",
     "exception": false,
     "start_time": "2023-05-05T19:23:46.700901",
     "status": "completed"
    },
    "tags": []
   },
   "outputs": [
    {
     "data": {
      "text/plain": [
       "(1, 1)"
      ]
     },
     "execution_count": 9,
     "metadata": {},
     "output_type": "execute_result"
    }
   ],
   "source": [
    "frame_length = 5\n",
    "infer_frame_length = 5\n",
    "sample_rate  = 32000\n",
    "test_ds = BirdDataset(frame_length, sample_rate)\n",
    "\n",
    "# loader = DataLoader(\n",
    "#     test_ds,\n",
    "#     batch_size=16, \n",
    "#     num_workers=4,\n",
    "#     drop_last=False,\n",
    "#     shuffle=False,\n",
    "#     pin_memory=True\n",
    "# )\n",
    "\n",
    "len(models), len(test_ds)"
   ]
  },
  {
   "cell_type": "code",
   "execution_count": 10,
   "id": "08a4cb4a",
   "metadata": {
    "execution": {
     "iopub.execute_input": "2023-05-05T19:23:46.740242Z",
     "iopub.status.busy": "2023-05-05T19:23:46.739627Z",
     "iopub.status.idle": "2023-05-05T19:24:50.965598Z",
     "shell.execute_reply": "2023-05-05T19:24:50.964386Z"
    },
    "papermill": {
     "duration": 64.239433,
     "end_time": "2023-05-05T19:24:50.969357",
     "exception": false,
     "start_time": "2023-05-05T19:23:46.729924",
     "status": "completed"
    },
    "tags": []
   },
   "outputs": [
    {
     "name": "stderr",
     "output_type": "stream",
     "text": [
      "100%|██████████| 1/1 [01:04<00:00, 64.21s/it]"
     ]
    },
    {
     "name": "stdout",
     "output_type": "stream",
     "text": [
      "CPU times: user 42.6 s, sys: 20.4 s, total: 1min 3s\n",
      "Wall time: 1min 4s\n"
     ]
    },
    {
     "name": "stderr",
     "output_type": "stream",
     "text": [
      "\n"
     ]
    }
   ],
   "source": [
    "%%time\n",
    "\n",
    "\n",
    "@torch.no_grad()\n",
    "def generate_preds():\n",
    "    debug = False\n",
    "    preds        = []\n",
    "    # test_files   = sorted(glob.glob(\"/kaggle/input/birdclef-2023/test_soundscapes/*.ogg\")) \n",
    "    scored_birds = np.array(CLASSES)\n",
    "    # print(\"test file num:\", len(test_files))\n",
    "    \n",
    "    for batch, n_parts, len_waveform in tqdm(test_ds):\n",
    "        # file_id = os.path.basename(fpath).replace(\".ogg\", \"\")\n",
    "        # batch, n_parts, len_waveform = prepare_clip(fpath, frame_length, sample_rate)\n",
    "        clip_preds = predict_clip(models, batch, n_parts, frame_length)\n",
    "        preds.append(clip_preds)\n",
    "        \n",
    "        ## switch to infer frame length\n",
    "        n_parts_sub = math.ceil(len_waveform / int(infer_frame_length * sample_rate))\n",
    "        clip_preds = np.array_split(clip_preds, n_parts_sub, axis=0)\n",
    "        \n",
    "                \n",
    "    prob_array = np.array(preds)\n",
    "    \n",
    "    scored_bird_name2idx = {}\n",
    "    for i, x in enumerate(scored_birds):\n",
    "        scored_bird_name2idx[x] = i\n",
    "\n",
    "    return prob_array, scored_bird_name2idx\n",
    "\n",
    "prob_array, scored_bird_name2idx = generate_preds()\n",
    "# del models\n",
    "# gc.collect()\n",
    "# torch.cuda.empty_cache()"
   ]
  },
  {
   "cell_type": "code",
   "execution_count": 11,
   "id": "4aaf6e10",
   "metadata": {
    "execution": {
     "iopub.execute_input": "2023-05-05T19:24:50.987767Z",
     "iopub.status.busy": "2023-05-05T19:24:50.987098Z",
     "iopub.status.idle": "2023-05-05T19:24:50.994837Z",
     "shell.execute_reply": "2023-05-05T19:24:50.993513Z"
    },
    "papermill": {
     "duration": 0.019939,
     "end_time": "2023-05-05T19:24:50.997508",
     "exception": false,
     "start_time": "2023-05-05T19:24:50.977569",
     "status": "completed"
    },
    "tags": []
   },
   "outputs": [
    {
     "data": {
      "text/plain": [
       "(1, 120, 264)"
      ]
     },
     "execution_count": 11,
     "metadata": {},
     "output_type": "execute_result"
    }
   ],
   "source": [
    "prob_array.shape"
   ]
  },
  {
   "cell_type": "markdown",
   "id": "bd5ba5c7",
   "metadata": {
    "papermill": {
     "duration": 0.008126,
     "end_time": "2023-05-05T19:24:51.014132",
     "exception": false,
     "start_time": "2023-05-05T19:24:51.006006",
     "status": "completed"
    },
    "tags": []
   },
   "source": [
    "----"
   ]
  },
  {
   "cell_type": "code",
   "execution_count": 12,
   "id": "1e106cfd",
   "metadata": {
    "execution": {
     "iopub.execute_input": "2023-05-05T19:24:51.032644Z",
     "iopub.status.busy": "2023-05-05T19:24:51.031998Z",
     "iopub.status.idle": "2023-05-05T19:24:51.036517Z",
     "shell.execute_reply": "2023-05-05T19:24:51.035585Z"
    },
    "papermill": {
     "duration": 0.016673,
     "end_time": "2023-05-05T19:24:51.038949",
     "exception": false,
     "start_time": "2023-05-05T19:24:51.022276",
     "status": "completed"
    },
    "tags": []
   },
   "outputs": [],
   "source": [
    "# %cd /kaggle/input/birdnetgit"
   ]
  },
  {
   "cell_type": "code",
   "execution_count": 13,
   "id": "aa816280",
   "metadata": {
    "execution": {
     "iopub.execute_input": "2023-05-05T19:24:51.057786Z",
     "iopub.status.busy": "2023-05-05T19:24:51.057111Z",
     "iopub.status.idle": "2023-05-05T19:24:51.061947Z",
     "shell.execute_reply": "2023-05-05T19:24:51.061161Z"
    },
    "papermill": {
     "duration": 0.017036,
     "end_time": "2023-05-05T19:24:51.064163",
     "exception": false,
     "start_time": "2023-05-05T19:24:51.047127",
     "status": "completed"
    },
    "tags": []
   },
   "outputs": [],
   "source": [
    "# import os\n",
    "# import sys\n",
    "# import json\n",
    "# import math\n",
    "# import glob\n",
    "# import librosa\n",
    "# import operator\n",
    "# import argparse\n",
    "# import datetime\n",
    "# import traceback\n",
    "\n",
    "# from multiprocessing import Pool, freeze_support\n",
    "\n",
    "# import numpy as np\n",
    "\n",
    "# import config as cfg\n",
    "# import audio\n",
    "# import model\n",
    "# from analyze import *\n",
    "\n",
    "# import pandas as pd\n",
    "# import numpy as np"
   ]
  },
  {
   "cell_type": "code",
   "execution_count": 14,
   "id": "8782fe5e",
   "metadata": {
    "execution": {
     "iopub.execute_input": "2023-05-05T19:24:51.082902Z",
     "iopub.status.busy": "2023-05-05T19:24:51.082254Z",
     "iopub.status.idle": "2023-05-05T19:24:51.088711Z",
     "shell.execute_reply": "2023-05-05T19:24:51.087863Z"
    },
    "papermill": {
     "duration": 0.018436,
     "end_time": "2023-05-05T19:24:51.090985",
     "exception": false,
     "start_time": "2023-05-05T19:24:51.072549",
     "status": "completed"
    },
    "tags": []
   },
   "outputs": [],
   "source": [
    "# df = pd.read_csv(\"../birdclef-2022/eBird_Taxonomy_v2021.csv\")\n",
    "# s2id = lambda x: df[(df['PRIMARY_COM_NAME'] == x)].SPECIES_CODE.tolist()[0]\n",
    "\n",
    "# cfg.MODEL_PATH = '/kaggle/input/birdnetgit/checkpoints/V2.1/BirdNET_GLOBAL_2K_V2.1_Model_FP32.tflite'\n",
    "# cfg.MDATA_MODEL_PATH = '/kaggle/input/birdnetgit/checkpoints/V2.1/BirdNET_GLOBAL_2K_V2.1_MData_Model_FP32.tflite'\n",
    "# cfg.LABELS_FILE = '/kaggle/input/birdnetgit/checkpoints/V2.1/BirdNET_GLOBAL_2K_V2.1_Labels.txt'\n",
    "# cfg.TRANSLATED_LABELS_PATH = '/kaggle/input/birdnetgit/labels/V2.1'\n",
    "\n",
    "# cfg.SIG_LENGTH = 5\n",
    "# cfg.SIG_OVERLAP = 0 \n",
    "# cfg.SIG_MINLEN = 5 \n",
    "\n",
    "# # Load eBird codes, labels\n",
    "\n",
    "# def loadCodes(CODEC_FILE):\n",
    "\n",
    "#     with open(CODEC_FILE, 'r') as cfile:\n",
    "#         codes = json.load(cfile)\n",
    "\n",
    "#     return codes\n",
    "\n",
    "# cfg.CODES = loadCodes(\"./eBird_taxonomy_codes_2021E.json\")\n",
    "# def loadLabels(labels_file):\n",
    "\n",
    "#     labels = []\n",
    "#     with open(labels_file, 'r') as lfile:\n",
    "#         for line in lfile.readlines():\n",
    "#             labels.append(line.replace('\\n', ''))    \n",
    "\n",
    "#     return labels\n",
    "\n",
    "# def prepare_clip(fpath):\n",
    "#     \"\"\"\n",
    "#     Prepare audio clip for inference\n",
    "#     \"\"\"\n",
    "#     sample_rate = cfg.SAMPLE_RATE\n",
    "#     frame_length = cfg.SIG_LENGTH\n",
    "#     infer_frame_length = frame_length\n",
    "    \n",
    "#     sample_rate = 48000\n",
    "#     chunks = []\n",
    "    \n",
    "#     waveform, sample_rate = librosa.load(fpath, sr=sample_rate, mono=True, res_type='kaiser_fast')\n",
    "#     n_parts = math.ceil(len(waveform) / int(infer_frame_length * sample_rate))\n",
    "    \n",
    "#     for seg_idx in range(n_parts): \n",
    "#         end_time = (seg_idx + 1) * frame_length\n",
    "#         chunk  = waveform[(end_time*sample_rate)-(sample_rate*frame_length):end_time*sample_rate]\n",
    "                \n",
    "#         if len(chunk) == frame_length * sample_rate:\n",
    "#             chunks.append(chunk)\n",
    "#         elif len(chunk) < frame_length * sample_rate:\n",
    "#             chunk = np.pad(chunk, (0, (frame_length * sample_rate) - len(chunk)))\n",
    "#             chunks.append(chunk)\n",
    "#         elif len(chunk) > frame_length * sample_rate:\n",
    "#             chunk = chunk[:(frame_length * sample_rate)]\n",
    "#             chunks.append(chunk)\n",
    "            \n",
    "#     return chunks\n",
    "\n",
    "\n",
    "# scored_birds = np.array(['akiapo', 'aniani', 'apapan', 'barpet', 'crehon', 'elepai', 'ercfra',\n",
    "#                           'hawama', 'hawcre', 'hawgoo', 'hawhaw', 'hawpet1', 'houfin', 'iiwi',\n",
    "#                           'jabwar', 'maupar', 'omao', 'puaioh', 'skylar', 'warwhe1', 'yefcan'])\n",
    "\n",
    "# cfg.LABELS = loadLabels(cfg.LABELS_FILE)\n",
    "\n",
    "# model.loadModel()\n",
    "\n"
   ]
  },
  {
   "cell_type": "code",
   "execution_count": 15,
   "id": "60ec7e3d",
   "metadata": {
    "execution": {
     "iopub.execute_input": "2023-05-05T19:24:51.109976Z",
     "iopub.status.busy": "2023-05-05T19:24:51.109348Z",
     "iopub.status.idle": "2023-05-05T19:24:51.114501Z",
     "shell.execute_reply": "2023-05-05T19:24:51.113457Z"
    },
    "papermill": {
     "duration": 0.017629,
     "end_time": "2023-05-05T19:24:51.117129",
     "exception": false,
     "start_time": "2023-05-05T19:24:51.099500",
     "status": "completed"
    },
    "tags": []
   },
   "outputs": [],
   "source": [
    "# bird_dict = {}\n",
    "# for i, lb in enumerate(cfg.LABELS):\n",
    "#     try:\n",
    "#         lbb = s2id(lb.split(\"_\")[-1])\n",
    "#         if lbb in scored_birds:\n",
    "#             bird_dict[lbb] = i\n",
    "#     except Exception as e:\n",
    "#         continue\n",
    "    \n",
    "# bird_dict[\"aniani\"] = 0\n",
    "\n",
    "# sorted_bd = dict(sorted(bird_dict.items(), key=lambda item: item[0]))\n",
    "# get_idx = list(sorted_bd.values())"
   ]
  },
  {
   "cell_type": "code",
   "execution_count": 16,
   "id": "407de416",
   "metadata": {
    "execution": {
     "iopub.execute_input": "2023-05-05T19:24:51.135512Z",
     "iopub.status.busy": "2023-05-05T19:24:51.135105Z",
     "iopub.status.idle": "2023-05-05T19:24:51.139854Z",
     "shell.execute_reply": "2023-05-05T19:24:51.138684Z"
    },
    "papermill": {
     "duration": 0.016803,
     "end_time": "2023-05-05T19:24:51.142254",
     "exception": false,
     "start_time": "2023-05-05T19:24:51.125451",
     "status": "completed"
    },
    "tags": []
   },
   "outputs": [],
   "source": [
    "# # def predict_single(test_path)\n",
    "\n",
    "# def generate_preds_bn():\n",
    "#     test_files   = sorted(glob.glob(\"/kaggle/input/birdclef-2022/test_soundscapes/*.ogg\"))\n",
    "    \n",
    "#     preds = []\n",
    "#     file_ids = []\n",
    "    \n",
    "#     for fpath in test_files:\n",
    "#         chunks = prepare_clip(fpath)\n",
    "#         pred = predict(chunks)[:, get_idx]\n",
    "#         preds.append(pred)\n",
    "#         file_id = os.path.basename(fpath).replace(\".ogg\", \"\")\n",
    "#         file_ids.append(file_id)\n",
    "        \n",
    "#     preds = np.array(preds)\n",
    "#     return preds, file_ids\n",
    "        "
   ]
  },
  {
   "cell_type": "code",
   "execution_count": 17,
   "id": "bcaa3d8e",
   "metadata": {
    "execution": {
     "iopub.execute_input": "2023-05-05T19:24:51.160985Z",
     "iopub.status.busy": "2023-05-05T19:24:51.160632Z",
     "iopub.status.idle": "2023-05-05T19:24:51.164572Z",
     "shell.execute_reply": "2023-05-05T19:24:51.163447Z"
    },
    "papermill": {
     "duration": 0.016094,
     "end_time": "2023-05-05T19:24:51.166766",
     "exception": false,
     "start_time": "2023-05-05T19:24:51.150672",
     "status": "completed"
    },
    "tags": []
   },
   "outputs": [],
   "source": [
    "# %%time\n",
    "# preds_bn, file_ids = generate_preds_bn()\n"
   ]
  },
  {
   "cell_type": "code",
   "execution_count": 18,
   "id": "b1766a86",
   "metadata": {
    "execution": {
     "iopub.execute_input": "2023-05-05T19:24:51.185500Z",
     "iopub.status.busy": "2023-05-05T19:24:51.185098Z",
     "iopub.status.idle": "2023-05-05T19:24:51.189389Z",
     "shell.execute_reply": "2023-05-05T19:24:51.188208Z"
    },
    "papermill": {
     "duration": 0.016373,
     "end_time": "2023-05-05T19:24:51.191649",
     "exception": false,
     "start_time": "2023-05-05T19:24:51.175276",
     "status": "completed"
    },
    "tags": []
   },
   "outputs": [],
   "source": [
    "# preds_bn[:, :, 1] = prob_array[:, :, 1] # 有一种鸟类缺失"
   ]
  },
  {
   "cell_type": "code",
   "execution_count": 19,
   "id": "442f0ac9",
   "metadata": {
    "execution": {
     "iopub.execute_input": "2023-05-05T19:24:51.209964Z",
     "iopub.status.busy": "2023-05-05T19:24:51.209542Z",
     "iopub.status.idle": "2023-05-05T19:24:51.217934Z",
     "shell.execute_reply": "2023-05-05T19:24:51.216917Z"
    },
    "papermill": {
     "duration": 0.020701,
     "end_time": "2023-05-05T19:24:51.220567",
     "exception": false,
     "start_time": "2023-05-05T19:24:51.199866",
     "status": "completed"
    },
    "tags": []
   },
   "outputs": [],
   "source": [
    "def generate_file_ids():\n",
    "    test_files   = sorted(glob.glob(\"/kaggle/input/birdclef-2023/test_soundscapes/*.ogg\"))\n",
    "    \n",
    "    file_ids = []\n",
    "    \n",
    "    for fpath in test_files:\n",
    "        file_id = os.path.basename(fpath).replace(\".ogg\", \"\")\n",
    "        file_ids.append(file_id)\n",
    "        \n",
    "    return file_ids\n",
    "\n",
    "file_ids = generate_file_ids()"
   ]
  },
  {
   "cell_type": "code",
   "execution_count": 20,
   "id": "0383e5ac",
   "metadata": {
    "execution": {
     "iopub.execute_input": "2023-05-05T19:24:51.239820Z",
     "iopub.status.busy": "2023-05-05T19:24:51.239423Z",
     "iopub.status.idle": "2023-05-05T19:24:51.245062Z",
     "shell.execute_reply": "2023-05-05T19:24:51.244323Z"
    },
    "papermill": {
     "duration": 0.017979,
     "end_time": "2023-05-05T19:24:51.247386",
     "exception": false,
     "start_time": "2023-05-05T19:24:51.229407",
     "status": "completed"
    },
    "tags": []
   },
   "outputs": [
    {
     "data": {
      "text/plain": [
       "(1, 120, 264)"
      ]
     },
     "execution_count": 20,
     "metadata": {},
     "output_type": "execute_result"
    }
   ],
   "source": [
    "## fix aniani\n",
    "avg_preds = prob_array\n",
    "\n",
    "avg_preds.shape"
   ]
  },
  {
   "cell_type": "code",
   "execution_count": 21,
   "id": "4a384528",
   "metadata": {
    "execution": {
     "iopub.execute_input": "2023-05-05T19:24:51.265876Z",
     "iopub.status.busy": "2023-05-05T19:24:51.265227Z",
     "iopub.status.idle": "2023-05-05T19:24:51.281771Z",
     "shell.execute_reply": "2023-05-05T19:24:51.280680Z"
    },
    "papermill": {
     "duration": 0.028257,
     "end_time": "2023-05-05T19:24:51.283904",
     "exception": false,
     "start_time": "2023-05-05T19:24:51.255647",
     "status": "completed"
    },
    "tags": []
   },
   "outputs": [],
   "source": [
    "submission   = []\n",
    "infer_frame_length = 5\n",
    "threshold = 0.2\n",
    "\n",
    "for clip_preds, file_id in zip(avg_preds, file_ids):\n",
    "    for frame_idx, pred in enumerate(clip_preds):\n",
    "        end_time = (frame_idx + 1) * infer_frame_length\n",
    "        d = {\n",
    "            \"row_id\": f\"{file_id}_{end_time}\",\n",
    "            # \"target\": pred[bi] > threshold,\n",
    "        }\n",
    "        for bi, bird in enumerate(CLASSES):\n",
    "            d[bird] = pred[bi]\n",
    "        submission.append(d)"
   ]
  },
  {
   "cell_type": "code",
   "execution_count": 22,
   "id": "ed69188d",
   "metadata": {
    "execution": {
     "iopub.execute_input": "2023-05-05T19:24:51.302736Z",
     "iopub.status.busy": "2023-05-05T19:24:51.302051Z",
     "iopub.status.idle": "2023-05-05T19:24:51.310343Z",
     "shell.execute_reply": "2023-05-05T19:24:51.308651Z"
    },
    "papermill": {
     "duration": 0.021231,
     "end_time": "2023-05-05T19:24:51.313517",
     "exception": false,
     "start_time": "2023-05-05T19:24:51.292286",
     "status": "completed"
    },
    "tags": []
   },
   "outputs": [
    {
     "name": "stdout",
     "output_type": "stream",
     "text": [
      "/kaggle/working\n"
     ]
    }
   ],
   "source": [
    "%cd /kaggle/working"
   ]
  },
  {
   "cell_type": "code",
   "execution_count": 23,
   "id": "8ace1168",
   "metadata": {
    "execution": {
     "iopub.execute_input": "2023-05-05T19:24:51.333788Z",
     "iopub.status.busy": "2023-05-05T19:24:51.333387Z",
     "iopub.status.idle": "2023-05-05T19:24:51.428824Z",
     "shell.execute_reply": "2023-05-05T19:24:51.427525Z"
    },
    "papermill": {
     "duration": 0.107512,
     "end_time": "2023-05-05T19:24:51.431324",
     "exception": false,
     "start_time": "2023-05-05T19:24:51.323812",
     "status": "completed"
    },
    "tags": []
   },
   "outputs": [],
   "source": [
    "df_submission = pd.DataFrame(submission).set_index(\"row_id\")\n",
    "df_submission.to_csv(\"submission.csv\")"
   ]
  },
  {
   "cell_type": "code",
   "execution_count": 24,
   "id": "6f227323",
   "metadata": {
    "execution": {
     "iopub.execute_input": "2023-05-05T19:24:51.450569Z",
     "iopub.status.busy": "2023-05-05T19:24:51.450158Z",
     "iopub.status.idle": "2023-05-05T19:24:51.487103Z",
     "shell.execute_reply": "2023-05-05T19:24:51.485903Z"
    },
    "papermill": {
     "duration": 0.049132,
     "end_time": "2023-05-05T19:24:51.489506",
     "exception": false,
     "start_time": "2023-05-05T19:24:51.440374",
     "status": "completed"
    },
    "tags": []
   },
   "outputs": [
    {
     "name": "stdout",
     "output_type": "stream",
     "text": [
      "\n",
      "total rows : 120\n",
      "\n"
     ]
    },
    {
     "data": {
      "text/html": [
       "<div>\n",
       "<style scoped>\n",
       "    .dataframe tbody tr th:only-of-type {\n",
       "        vertical-align: middle;\n",
       "    }\n",
       "\n",
       "    .dataframe tbody tr th {\n",
       "        vertical-align: top;\n",
       "    }\n",
       "\n",
       "    .dataframe thead th {\n",
       "        text-align: right;\n",
       "    }\n",
       "</style>\n",
       "<table border=\"1\" class=\"dataframe\">\n",
       "  <thead>\n",
       "    <tr style=\"text-align: right;\">\n",
       "      <th></th>\n",
       "      <th>abethr1</th>\n",
       "      <th>abhori1</th>\n",
       "      <th>abythr1</th>\n",
       "      <th>afbfly1</th>\n",
       "      <th>afdfly1</th>\n",
       "      <th>afecuc1</th>\n",
       "      <th>affeag1</th>\n",
       "      <th>afgfly1</th>\n",
       "      <th>afghor1</th>\n",
       "      <th>afmdov1</th>\n",
       "      <th>...</th>\n",
       "      <th>yebsto1</th>\n",
       "      <th>yeccan1</th>\n",
       "      <th>yefcan</th>\n",
       "      <th>yelbis1</th>\n",
       "      <th>yenspu1</th>\n",
       "      <th>yertin1</th>\n",
       "      <th>yesbar1</th>\n",
       "      <th>yespet1</th>\n",
       "      <th>yetgre1</th>\n",
       "      <th>yewgre1</th>\n",
       "    </tr>\n",
       "    <tr>\n",
       "      <th>row_id</th>\n",
       "      <th></th>\n",
       "      <th></th>\n",
       "      <th></th>\n",
       "      <th></th>\n",
       "      <th></th>\n",
       "      <th></th>\n",
       "      <th></th>\n",
       "      <th></th>\n",
       "      <th></th>\n",
       "      <th></th>\n",
       "      <th></th>\n",
       "      <th></th>\n",
       "      <th></th>\n",
       "      <th></th>\n",
       "      <th></th>\n",
       "      <th></th>\n",
       "      <th></th>\n",
       "      <th></th>\n",
       "      <th></th>\n",
       "      <th></th>\n",
       "      <th></th>\n",
       "    </tr>\n",
       "  </thead>\n",
       "  <tbody>\n",
       "    <tr>\n",
       "      <th>soundscape_29201_5</th>\n",
       "      <td>0.102668</td>\n",
       "      <td>0.074093</td>\n",
       "      <td>0.053680</td>\n",
       "      <td>0.020972</td>\n",
       "      <td>0.028199</td>\n",
       "      <td>0.026917</td>\n",
       "      <td>0.054334</td>\n",
       "      <td>0.021204</td>\n",
       "      <td>0.068446</td>\n",
       "      <td>0.051294</td>\n",
       "      <td>...</td>\n",
       "      <td>0.006156</td>\n",
       "      <td>0.019304</td>\n",
       "      <td>0.044579</td>\n",
       "      <td>0.029944</td>\n",
       "      <td>0.031822</td>\n",
       "      <td>0.059790</td>\n",
       "      <td>0.016473</td>\n",
       "      <td>0.014358</td>\n",
       "      <td>0.037997</td>\n",
       "      <td>0.037472</td>\n",
       "    </tr>\n",
       "    <tr>\n",
       "      <th>soundscape_29201_10</th>\n",
       "      <td>0.045015</td>\n",
       "      <td>0.081401</td>\n",
       "      <td>0.040779</td>\n",
       "      <td>0.131084</td>\n",
       "      <td>0.048425</td>\n",
       "      <td>0.024393</td>\n",
       "      <td>0.034619</td>\n",
       "      <td>0.003329</td>\n",
       "      <td>0.033086</td>\n",
       "      <td>0.116179</td>\n",
       "      <td>...</td>\n",
       "      <td>0.006073</td>\n",
       "      <td>0.010704</td>\n",
       "      <td>0.151178</td>\n",
       "      <td>0.102768</td>\n",
       "      <td>0.053425</td>\n",
       "      <td>0.056504</td>\n",
       "      <td>0.023949</td>\n",
       "      <td>0.036465</td>\n",
       "      <td>0.011082</td>\n",
       "      <td>0.068151</td>\n",
       "    </tr>\n",
       "    <tr>\n",
       "      <th>soundscape_29201_15</th>\n",
       "      <td>0.141951</td>\n",
       "      <td>0.031336</td>\n",
       "      <td>0.065770</td>\n",
       "      <td>0.016050</td>\n",
       "      <td>0.008640</td>\n",
       "      <td>0.105602</td>\n",
       "      <td>0.078153</td>\n",
       "      <td>0.008684</td>\n",
       "      <td>0.052260</td>\n",
       "      <td>0.044595</td>\n",
       "      <td>...</td>\n",
       "      <td>0.002055</td>\n",
       "      <td>0.007670</td>\n",
       "      <td>0.103547</td>\n",
       "      <td>0.036456</td>\n",
       "      <td>0.004916</td>\n",
       "      <td>0.067269</td>\n",
       "      <td>0.025783</td>\n",
       "      <td>0.027135</td>\n",
       "      <td>0.012536</td>\n",
       "      <td>0.037903</td>\n",
       "    </tr>\n",
       "    <tr>\n",
       "      <th>soundscape_29201_20</th>\n",
       "      <td>0.038576</td>\n",
       "      <td>0.043292</td>\n",
       "      <td>0.012439</td>\n",
       "      <td>0.025117</td>\n",
       "      <td>0.015604</td>\n",
       "      <td>0.046946</td>\n",
       "      <td>0.062254</td>\n",
       "      <td>0.026487</td>\n",
       "      <td>0.063661</td>\n",
       "      <td>0.048382</td>\n",
       "      <td>...</td>\n",
       "      <td>0.004749</td>\n",
       "      <td>0.033676</td>\n",
       "      <td>0.027673</td>\n",
       "      <td>0.079037</td>\n",
       "      <td>0.016222</td>\n",
       "      <td>0.050117</td>\n",
       "      <td>0.027028</td>\n",
       "      <td>0.050663</td>\n",
       "      <td>0.035562</td>\n",
       "      <td>0.039967</td>\n",
       "    </tr>\n",
       "    <tr>\n",
       "      <th>soundscape_29201_25</th>\n",
       "      <td>0.031181</td>\n",
       "      <td>0.070020</td>\n",
       "      <td>0.014244</td>\n",
       "      <td>0.024109</td>\n",
       "      <td>0.053317</td>\n",
       "      <td>0.065826</td>\n",
       "      <td>0.059750</td>\n",
       "      <td>0.022571</td>\n",
       "      <td>0.074624</td>\n",
       "      <td>0.108018</td>\n",
       "      <td>...</td>\n",
       "      <td>0.005636</td>\n",
       "      <td>0.031900</td>\n",
       "      <td>0.067745</td>\n",
       "      <td>0.064105</td>\n",
       "      <td>0.024357</td>\n",
       "      <td>0.054107</td>\n",
       "      <td>0.032772</td>\n",
       "      <td>0.049855</td>\n",
       "      <td>0.054961</td>\n",
       "      <td>0.050014</td>\n",
       "    </tr>\n",
       "  </tbody>\n",
       "</table>\n",
       "<p>5 rows × 264 columns</p>\n",
       "</div>"
      ],
      "text/plain": [
       "                      abethr1   abhori1   abythr1   afbfly1   afdfly1  \\\n",
       "row_id                                                                  \n",
       "soundscape_29201_5   0.102668  0.074093  0.053680  0.020972  0.028199   \n",
       "soundscape_29201_10  0.045015  0.081401  0.040779  0.131084  0.048425   \n",
       "soundscape_29201_15  0.141951  0.031336  0.065770  0.016050  0.008640   \n",
       "soundscape_29201_20  0.038576  0.043292  0.012439  0.025117  0.015604   \n",
       "soundscape_29201_25  0.031181  0.070020  0.014244  0.024109  0.053317   \n",
       "\n",
       "                      afecuc1   affeag1   afgfly1   afghor1   afmdov1  ...  \\\n",
       "row_id                                                                 ...   \n",
       "soundscape_29201_5   0.026917  0.054334  0.021204  0.068446  0.051294  ...   \n",
       "soundscape_29201_10  0.024393  0.034619  0.003329  0.033086  0.116179  ...   \n",
       "soundscape_29201_15  0.105602  0.078153  0.008684  0.052260  0.044595  ...   \n",
       "soundscape_29201_20  0.046946  0.062254  0.026487  0.063661  0.048382  ...   \n",
       "soundscape_29201_25  0.065826  0.059750  0.022571  0.074624  0.108018  ...   \n",
       "\n",
       "                      yebsto1   yeccan1    yefcan   yelbis1   yenspu1  \\\n",
       "row_id                                                                  \n",
       "soundscape_29201_5   0.006156  0.019304  0.044579  0.029944  0.031822   \n",
       "soundscape_29201_10  0.006073  0.010704  0.151178  0.102768  0.053425   \n",
       "soundscape_29201_15  0.002055  0.007670  0.103547  0.036456  0.004916   \n",
       "soundscape_29201_20  0.004749  0.033676  0.027673  0.079037  0.016222   \n",
       "soundscape_29201_25  0.005636  0.031900  0.067745  0.064105  0.024357   \n",
       "\n",
       "                      yertin1   yesbar1   yespet1   yetgre1   yewgre1  \n",
       "row_id                                                                 \n",
       "soundscape_29201_5   0.059790  0.016473  0.014358  0.037997  0.037472  \n",
       "soundscape_29201_10  0.056504  0.023949  0.036465  0.011082  0.068151  \n",
       "soundscape_29201_15  0.067269  0.025783  0.027135  0.012536  0.037903  \n",
       "soundscape_29201_20  0.050117  0.027028  0.050663  0.035562  0.039967  \n",
       "soundscape_29201_25  0.054107  0.032772  0.049855  0.054961  0.050014  \n",
       "\n",
       "[5 rows x 264 columns]"
      ]
     },
     "execution_count": 24,
     "metadata": {},
     "output_type": "execute_result"
    }
   ],
   "source": [
    "print(f\"\"\"\n",
    "total rows : {len(df_submission)}\n",
    "\"\"\")\n",
    "\n",
    "df_submission.head()"
   ]
  },
  {
   "cell_type": "code",
   "execution_count": null,
   "id": "0ab8a2f1",
   "metadata": {
    "papermill": {
     "duration": 0.008351,
     "end_time": "2023-05-05T19:24:51.507332",
     "exception": false,
     "start_time": "2023-05-05T19:24:51.498981",
     "status": "completed"
    },
    "tags": []
   },
   "outputs": [],
   "source": []
  }
 ],
 "metadata": {
  "kernelspec": {
   "display_name": "Python 3",
   "language": "python",
   "name": "python3"
  },
  "language_info": {
   "codemirror_mode": {
    "name": "ipython",
    "version": 3
   },
   "file_extension": ".py",
   "mimetype": "text/x-python",
   "name": "python",
   "nbconvert_exporter": "python",
   "pygments_lexer": "ipython3",
   "version": "3.10.10"
  },
  "papermill": {
   "default_parameters": {},
   "duration": 121.699017,
   "end_time": "2023-05-05T19:24:54.231397",
   "environment_variables": {},
   "exception": null,
   "input_path": "__notebook__.ipynb",
   "output_path": "__notebook__.ipynb",
   "parameters": {},
   "start_time": "2023-05-05T19:22:52.532380",
   "version": "2.4.0"
  }
 },
 "nbformat": 4,
 "nbformat_minor": 5
}
