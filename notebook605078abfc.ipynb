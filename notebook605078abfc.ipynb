{
 "cells": [
  {
   "cell_type": "code",
   "execution_count": 1,
   "id": "193b4c36",
   "metadata": {
    "_kg_hide-output": true,
    "execution": {
     "iopub.execute_input": "2023-05-16T12:45:43.782317Z",
     "iopub.status.busy": "2023-05-16T12:45:43.781900Z",
     "iopub.status.idle": "2023-05-16T12:46:18.181088Z",
     "shell.execute_reply": "2023-05-16T12:46:18.179740Z"
    },
    "papermill": {
     "duration": 34.411098,
     "end_time": "2023-05-16T12:46:18.183998",
     "exception": false,
     "start_time": "2023-05-16T12:45:43.772900",
     "status": "completed"
    },
    "tags": []
   },
   "outputs": [
    {
     "name": "stdout",
     "output_type": "stream",
     "text": [
      "Processing /kaggle/input/nnaudio031/nnAudio-0.3.1-py3-none-any.whl\r\n",
      "Requirement already satisfied: scipy in /opt/conda/lib/python3.10/site-packages (from nnAudio==0.3.1) (1.9.3)\r\n",
      "Requirement already satisfied: numpy<1.26.0,>=1.18.5 in /opt/conda/lib/python3.10/site-packages (from scipy->nnAudio==0.3.1) (1.23.5)\r\n",
      "Installing collected packages: nnAudio\r\n",
      "Successfully installed nnAudio-0.3.1\r\n",
      "\u001b[33mWARNING: Running pip as the 'root' user can result in broken permissions and conflicting behaviour with the system package manager. It is recommended to use a virtual environment instead: https://pip.pypa.io/warnings/venv\u001b[0m\u001b[33m\r\n",
      "\u001b[0m"
     ]
    }
   ],
   "source": [
    "## setup\n",
    "!pip install ../input/nnaudio031/nnAudio-0.3.1-py3-none-any.whl"
   ]
  },
  {
   "cell_type": "code",
   "execution_count": 2,
   "id": "180e07d1",
   "metadata": {
    "execution": {
     "iopub.execute_input": "2023-05-16T12:46:18.198808Z",
     "iopub.status.busy": "2023-05-16T12:46:18.198404Z",
     "iopub.status.idle": "2023-05-16T12:46:19.298481Z",
     "shell.execute_reply": "2023-05-16T12:46:19.296562Z"
    },
    "papermill": {
     "duration": 1.110911,
     "end_time": "2023-05-16T12:46:19.301390",
     "exception": false,
     "start_time": "2023-05-16T12:46:18.190479",
     "status": "completed"
    },
    "tags": []
   },
   "outputs": [
    {
     "name": "stdout",
     "output_type": "stream",
     "text": [
      "ef_v10TimmClassifier_v3_tf_efficientnet_b0_0_lb\r\n"
     ]
    }
   ],
   "source": [
    "# !ls /kaggle/input/blef0503/\n",
    "# !ls /kaggle/input/ef-v0/\n",
    "# !ls /kaggle/input/birds-inference-pip-wheels/*\n",
    "# !pip freeze|grep torch\n",
    "!ls /kaggle/input/ef-v10"
   ]
  },
  {
   "cell_type": "code",
   "execution_count": 3,
   "id": "c919603b",
   "metadata": {
    "execution": {
     "iopub.execute_input": "2023-05-16T12:46:19.316790Z",
     "iopub.status.busy": "2023-05-16T12:46:19.316386Z",
     "iopub.status.idle": "2023-05-16T12:46:19.324101Z",
     "shell.execute_reply": "2023-05-16T12:46:19.322729Z"
    },
    "papermill": {
     "duration": 0.018499,
     "end_time": "2023-05-16T12:46:19.326481",
     "exception": false,
     "start_time": "2023-05-16T12:46:19.307982",
     "status": "completed"
    },
    "tags": []
   },
   "outputs": [],
   "source": [
    "## https://github.com/Selimonder/birdclef2022/\n",
    "import os, sys, glob, math\n",
    "\n",
    "os.environ[\"MKL_NUM_THREADS\"] = \"1\"\n",
    "os.environ[\"OMP_NUM_THREADS\"] = \"1\"\n",
    "\n",
    "github_folder = \"/kaggle/input/blef0508v3\"\n",
    "sys.path.append(github_folder)"
   ]
  },
  {
   "cell_type": "code",
   "execution_count": 4,
   "id": "16f5abef",
   "metadata": {
    "execution": {
     "iopub.execute_input": "2023-05-16T12:46:19.340875Z",
     "iopub.status.busy": "2023-05-16T12:46:19.340480Z",
     "iopub.status.idle": "2023-05-16T12:46:26.912976Z",
     "shell.execute_reply": "2023-05-16T12:46:26.912034Z"
    },
    "papermill": {
     "duration": 7.583064,
     "end_time": "2023-05-16T12:46:26.915777",
     "exception": false,
     "start_time": "2023-05-16T12:46:19.332713",
     "status": "completed"
    },
    "tags": []
   },
   "outputs": [
    {
     "name": "stderr",
     "output_type": "stream",
     "text": [
      "/opt/conda/lib/python3.10/site-packages/scipy/__init__.py:146: UserWarning: A NumPy version >=1.16.5 and <1.23.0 is required for this version of SciPy (detected version 1.23.5\n",
      "  warnings.warn(f\"A NumPy version >={np_minversion} and <{np_maxversion}\"\n",
      "/opt/conda/lib/python3.10/site-packages/nnAudio/Spectrogram.py:4: Warning: importing Spectrogram subpackage will be deprecated soon. You should import the feature extractor from the feature subpackage. See actual documentation.\n",
      "  warnings.warn(\n"
     ]
    }
   ],
   "source": [
    "import cv2\n",
    "import gc\n",
    "import time\n",
    "import torch\n",
    "import librosa\n",
    "import argparse, warnings\n",
    "\n",
    "import numpy as np\n",
    "import pandas as pd\n",
    "import IPython.display as ipd\n",
    "from pathlib import Path\n",
    "\n",
    "\n",
    "import zoo\n",
    "from training.config import load_config\n",
    "from training.datasets import BirdDatasetOOF\n",
    "\n",
    "\n",
    "cv2.ocl.setUseOpenCL(False)\n",
    "cv2.setNumThreads(0)\n",
    "\n",
    "from tqdm import tqdm\n",
    "from torch.utils.data import DataLoader\n",
    "\n",
    "warnings.simplefilter(\"ignore\")\n"
   ]
  },
  {
   "cell_type": "code",
   "execution_count": 5,
   "id": "6c73ac5e",
   "metadata": {
    "execution": {
     "iopub.execute_input": "2023-05-16T12:46:26.930727Z",
     "iopub.status.busy": "2023-05-16T12:46:26.930366Z",
     "iopub.status.idle": "2023-05-16T12:46:26.943724Z",
     "shell.execute_reply": "2023-05-16T12:46:26.942802Z"
    },
    "papermill": {
     "duration": 0.023918,
     "end_time": "2023-05-16T12:46:26.946343",
     "exception": false,
     "start_time": "2023-05-16T12:46:26.922425",
     "status": "completed"
    },
    "tags": []
   },
   "outputs": [],
   "source": [
    "# accelerate\n",
    "import os\n",
    "os.environ[\"OMP_NUM_THREADS\"]=\"2\"\n",
    "os.environ[\"OMP_SCHEDULE\"]=\"STATIC\"\n",
    "os.environ[\"OMP_PROC_BIND\"]=\"CLOSE\"\n",
    "import torch\n",
    "torch.set_num_threads(4)"
   ]
  },
  {
   "cell_type": "markdown",
   "id": "961aca03",
   "metadata": {
    "papermill": {
     "duration": 0.006919,
     "end_time": "2023-05-16T12:46:26.960479",
     "exception": false,
     "start_time": "2023-05-16T12:46:26.953560",
     "status": "completed"
    },
    "tags": []
   },
   "source": [
    "## models"
   ]
  },
  {
   "cell_type": "code",
   "execution_count": 6,
   "id": "76e31b53",
   "metadata": {
    "execution": {
     "iopub.execute_input": "2023-05-16T12:46:26.976782Z",
     "iopub.status.busy": "2023-05-16T12:46:26.976226Z",
     "iopub.status.idle": "2023-05-16T12:46:27.746200Z",
     "shell.execute_reply": "2023-05-16T12:46:27.745338Z"
    },
    "papermill": {
     "duration": 0.780816,
     "end_time": "2023-05-16T12:46:27.748537",
     "exception": false,
     "start_time": "2023-05-16T12:46:26.967721",
     "status": "completed"
    },
    "tags": []
   },
   "outputs": [
    {
     "name": "stdout",
     "output_type": "stream",
     "text": [
      "False <class 'bool'>\n",
      "/kaggle/input/ef0-v9/ef_v9TimmClassifier_v3_tf_efficientnet_b0_0_lb\n",
      "initing CLS features model 10 duration...\n",
      "{'in_chans': 1, 'drop_path_rate': 0.2, 'drop_rate': 0.5}\n",
      "=> loading checkpoint '/kaggle/input/ef0-v9/ef_v9TimmClassifier_v3_tf_efficientnet_b0_0_lb''\n",
      "epoch 17\n"
     ]
    },
    {
     "data": {
      "text/plain": [
       "1"
      ]
     },
     "execution_count": 6,
     "metadata": {},
     "output_type": "execute_result"
    }
   ],
   "source": [
    "def load_model(conf_path: str, weights_path: str, prefix: str, suffix: str, fold: int, to_device: bool = True):\n",
    "    conf = load_config(conf_path)\n",
    "    conf['encoder_params']['pretrained'] = False\n",
    "    print(conf['encoder_params']['pretrained'], type(conf['encoder_params']['pretrained']))\n",
    "    \n",
    "    snapshot_name = \"{}{}_{}_{}_{}\".format(prefix, conf[\"network\"], conf[\"encoder_params\"][\"encoder\"], fold, suffix)\n",
    "    weights_path = os.path.join(weights_path, snapshot_name)\n",
    "    print(weights_path)\n",
    "    \n",
    "    model = zoo.__dict__[conf[\"network\"]](**conf[\"encoder_params\"])\n",
    "    model = torch.nn.DataParallel(model)\n",
    "    print(\"=> loading checkpoint '{}''\".format(weights_path))\n",
    "    checkpoint = torch.load(weights_path, map_location=\"cpu\")\n",
    "    print(\"epoch\", checkpoint[\"epoch\"])\n",
    "    model.load_state_dict(checkpoint[\"state_dict\"])\n",
    "    model.eval()\n",
    "    if to_device: model.cuda()\n",
    "    return model\n",
    "\n",
    "models = []\n",
    "\n",
    "\n",
    "\n",
    "\n",
    "# 0.79 version 32\n",
    "# conf_path    = f\"{github_folder}/configs/cls_ef_v10.json\",\n",
    "#                                 weights_path = f\"/kaggle/input/ef-v10\",\n",
    "#                                 prefix       = \"ef_v10\",\n",
    "\n",
    "\n",
    "# 0.80 version 31, \n",
    "# model = load_model(conf_path    = f\"{github_folder}/configs/cls_ef_v7.json\",\n",
    "#                                 weights_path = f\"/kaggle/input/ef0-v7\",\n",
    "#                                 prefix       = \"ef_v7\",\n",
    "\n",
    "\n",
    "# 0.80 version 30 full train with 2ndw 1\n",
    "# conf_path    = f\"{github_folder}/configs/cls_ef_v0.json\",\n",
    "# weights_path = f\"/kaggle/input/ef-v0-fulltrain\",\n",
    "# prefix       = \"ef_v0\",\n",
    "\n",
    "\n",
    "# 0.78 version 29  no pretrain sed\n",
    "# conf_path    = f\"{github_folder}/configs/sed_ef_v0.json\",\n",
    "# weights_path = f\"/kaggle/input/sed-ef-v0\",\n",
    "# prefix       = \"sed_v0\",\n",
    "\n",
    "# 0.78 version 28   train 20 epoch on pretrain 123\n",
    "# conf_path    = f\"{github_folder}/configs/cls_ef_v0.json\",\n",
    "# weights_path = f\"/kaggle/input/ef-v0-pretrain123\",\n",
    "\n",
    "# 0.80 version 27   train 25 epoch on pretrain 123\n",
    "# conf_path    = f\"{github_folder}/configs/cls_ef_v6.json\",\n",
    "# weights_path = f\"/kaggle/input/ef0-v6\",\n",
    "#                                 \"ef_v6_e20\",\n",
    "\n",
    "# 0.79 version 26 better pretrain (21,22)\n",
    "# conf_path    = f\"{github_folder}/configs/cls_ef_v0.json\",\n",
    "# weights_path = f\"/kaggle/input/ef0-v0\",\n",
    "# prefix       = \"ef_v0\",\n",
    "\n",
    "# 0.79 version 25 set 3 \n",
    "# conf_path    = f\"{github_folder}/configs/cls_ef2_v1.json\",\n",
    "# weights_path = f\"/kaggle/input/ef2-v1\",\n",
    "# prefix       = \"ef2_v1\",\n",
    "\n",
    "# 0.80 version 23-lb, 24-f1\n",
    "#conf_path    = f\"{github_folder}/configs/cls_ef2_v0.json\",\n",
    "#weights_path = f\"/kaggle/input/ef2-v0\",\n",
    "#prefix       = \"ef2_v0\",\n",
    "\n",
    "\n",
    "# 0.79 version 20\n",
    "# conf_path    = f\"{github_folder}/configs/cls_ef_v3.json\",\n",
    "# weights_path = f\"/kaggle/input/ef0-v3\",\n",
    "# prefix       = \"ef0_v3\",\n",
    "\n",
    "\n",
    "# rank 37 5folds version19\n",
    "# conf_path    = f\"{github_folder}/configs/cls_ef_v0.json\",\n",
    "# weights_path = f\"/kaggle/input/cls-ef-v0\",\n",
    "# prefix       = \"ef_v0\",\n",
    "\n",
    "# only primary, 16min rank82  cls_ef_v0.json weights_path = f\"/kaggle/input/cls-ef-v0\", prefix = \"ef_v0\",\n",
    "# rank90  cls_ef_v0.json weights_path = f\"/kaggle/input/ef-v0-pretrain\", prefix = \"ef_v0_\",\n",
    "\n",
    "\n",
    "# 0.80 最差0.80 只有fold0  其他是上传错\n",
    "# conf_path    = f\"{github_folder}/configs/cls_ef_v0.json\",\n",
    "#                                weights_path = f\"/kaggle/input/e40-ef0\",\n",
    "#                                prefix       = \"ef_v0\",\n",
    "\n",
    "# 44 min 0.79 240 conf_path    = f\"{github_folder}/configs/cls_nf0_v5.json\", weights_path = f\"/kaggle/input/nf0-v5\", prefix       = \"nf0_v5_\",\n",
    "# \n",
    "#  cls_nf0_v5.json\",weights_path = nfnet-baseline-bs16/nfnet-baseline-bs16, prefix= \"nf0_v5_\",\n",
    "\n",
    "\n",
    "# 0.78\n",
    "# f\"{github_folder}/configs/cls_nf0_v5.json\",\n",
    "# weights_path = f\"/kaggle/input/nfnet-baseline-bs16/nfnet-baseline-bs16\",\n",
    "# prefix       = \"nf0_v5_\",\n",
    "\n",
    "\n",
    "## best only for now\n",
    "suffixes = [\"lb\"]#, \"f1_score\" \"last\"]\n",
    "folds    = 5\n",
    "\n",
    "for i in [0]:\n",
    "    for sx in suffixes:\n",
    "        try:\n",
    "            model = load_model(conf_path    = f\"{github_folder}/configs/cls_ef_v10.json\",\n",
    "                                weights_path = f\"/kaggle/input/ef0-v9\",\n",
    "                                prefix       = \"ef_v9\",\n",
    "                               suffix       = sx,\n",
    "                               fold         = i,\n",
    "                               to_device    = False,)\n",
    "            models.append(model)\n",
    "        except Exception as e:\n",
    "            print(f\"model not found\", e)\n",
    "\n",
    "len(models)\n",
    "#models = [models[0]]"
   ]
  },
  {
   "cell_type": "code",
   "execution_count": 7,
   "id": "5192c5bd",
   "metadata": {
    "execution": {
     "iopub.execute_input": "2023-05-16T12:46:27.764141Z",
     "iopub.status.busy": "2023-05-16T12:46:27.763688Z",
     "iopub.status.idle": "2023-05-16T12:46:27.773915Z",
     "shell.execute_reply": "2023-05-16T12:46:27.772774Z"
    },
    "papermill": {
     "duration": 0.021819,
     "end_time": "2023-05-16T12:46:27.777204",
     "exception": false,
     "start_time": "2023-05-16T12:46:27.755385",
     "status": "completed"
    },
    "tags": []
   },
   "outputs": [
    {
     "data": {
      "text/plain": [
       "'3.51M'"
      ]
     },
     "execution_count": 7,
     "metadata": {},
     "output_type": "execute_result"
    }
   ],
   "source": [
    "import torch\n",
    "\n",
    "def count_parameters(model):\n",
    "    return sum(p.numel() for p in model.parameters() if p.requires_grad)\n",
    "\n",
    "f\"{count_parameters(models[0])//1024/1024:.2f}M\""
   ]
  },
  {
   "cell_type": "markdown",
   "id": "a630f6b2",
   "metadata": {
    "papermill": {
     "duration": 0.006873,
     "end_time": "2023-05-16T12:46:27.791337",
     "exception": false,
     "start_time": "2023-05-16T12:46:27.784464",
     "status": "completed"
    },
    "tags": []
   },
   "source": [
    "## infer"
   ]
  },
  {
   "cell_type": "code",
   "execution_count": 8,
   "id": "aa552050",
   "metadata": {
    "execution": {
     "iopub.execute_input": "2023-05-16T12:46:27.807126Z",
     "iopub.status.busy": "2023-05-16T12:46:27.806725Z",
     "iopub.status.idle": "2023-05-16T12:46:27.813875Z",
     "shell.execute_reply": "2023-05-16T12:46:27.812609Z"
    },
    "papermill": {
     "duration": 0.018026,
     "end_time": "2023-05-16T12:46:27.816257",
     "exception": false,
     "start_time": "2023-05-16T12:46:27.798231",
     "status": "completed"
    },
    "tags": []
   },
   "outputs": [],
   "source": [
    "CLASSES = \"abethr1 abhori1 abythr1 afbfly1 afdfly1 afecuc1 affeag1 afgfly1 afghor1 afmdov1 afpfly1 afpkin1 afpwag1 afrgos1 afrgrp1 afrjac1 afrthr1 amesun2 augbuz1 bagwea1 barswa bawhor2 bawman1 bcbeat1 beasun2 bkctch1 bkfruw1 blacra1 blacuc1 blakit1 blaplo1 blbpuf2 blcapa2 blfbus1 blhgon1 blhher1 blksaw1 blnmou1 blnwea1 bltapa1 bltbar1 bltori1 blwlap1 brcale1 brcsta1 brctch1 brcwea1 brican1 brobab1 broman1 brosun1 brrwhe3 brtcha1 brubru1 brwwar1 bswdov1 btweye2 bubwar2 butapa1 cabgre1 carcha1 carwoo1 categr ccbeat1 chespa1 chewea1 chibat1 chtapa3 chucis1 cibwar1 cohmar1 colsun2 combul2 combuz1 comsan crefra2 crheag1 crohor1 darbar1 darter3 didcuc1 dotbar1 dutdov1 easmog1 eaywag1 edcsun3 egygoo equaka1 eswdov1 eubeat1 fatrav1 fatwid1 fislov1 fotdro5 gabgos2 gargan gbesta1 gnbcam2 gnhsun1 gobbun1 gobsta5 gobwea1 golher1 grbcam1 grccra1 grecor greegr grewoo2 grwpyt1 gryapa1 grywrw1 gybfis1 gycwar3 gyhbus1 gyhkin1 gyhneg1 gyhspa1 gytbar1 hadibi1 hamerk1 hartur1 helgui hipbab1 hoopoe huncis1 hunsun2 joygre1 kerspa2 klacuc1 kvbsun1 laudov1 lawgol lesmaw1 lessts1 libeat1 litegr litswi1 litwea1 loceag1 lotcor1 lotlap1 luebus1 mabeat1 macshr1 malkin1 marsto1 marsun2 mcptit1 meypar1 moccha1 mouwag1 ndcsun2 nobfly1 norbro1 norcro1 norfis1 norpuf1 nubwoo1 pabspa1 palfly2 palpri1 piecro1 piekin1 pitwhy purgre2 pygbat1 quailf1 ratcis1 raybar1 rbsrob1 rebfir2 rebhor1 reboxp1 reccor reccuc1 reedov1 refbar2 refcro1 reftin1 refwar2 rehblu1 rehwea1 reisee2 rerswa1 rewsta1 rindov rocmar2 rostur1 ruegls1 rufcha2 sacibi2 sccsun2 scrcha1 scthon1 shesta1 sichor1 sincis1 slbgre1 slcbou1 sltnig1 sobfly1 somgre1 somtit4 soucit1 soufis1 spemou2 spepig1 spewea1 spfbar1 spfwea1 spmthr1 spwlap1 squher1 strher strsee1 stusta1 subbus1 supsta1 tacsun1 tafpri1 tamdov1 thrnig1 trobou1 varsun2 vibsta2 vilwea1 vimwea1 walsta1 wbgbir1 wbrcha2 wbswea1 wfbeat1 whbcan1 whbcou1 whbcro2 whbtit5 whbwea1 whbwhe3 whcpri2 whctur2 wheslf1 whhsaw1 whihel1 whrshr1 witswa1 wlwwar wookin1 woosan wtbeat1 yebapa1 yebbar1 yebduc1 yebere1 yebgre1 yebsto1 yeccan1 yefcan yelbis1 yenspu1 yertin1 yesbar1 yespet1 yetgre1 yewgre1\".split()\n",
    "N_CLASS = len(CLASSES)"
   ]
  },
  {
   "cell_type": "code",
   "execution_count": 9,
   "id": "1da49709",
   "metadata": {
    "execution": {
     "iopub.execute_input": "2023-05-16T12:46:27.832470Z",
     "iopub.status.busy": "2023-05-16T12:46:27.831741Z",
     "iopub.status.idle": "2023-05-16T12:46:27.844592Z",
     "shell.execute_reply": "2023-05-16T12:46:27.843467Z"
    },
    "papermill": {
     "duration": 0.023772,
     "end_time": "2023-05-16T12:46:27.847200",
     "exception": false,
     "start_time": "2023-05-16T12:46:27.823428",
     "status": "completed"
    },
    "tags": []
   },
   "outputs": [],
   "source": [
    "from torch.utils.data import Dataset, DataLoader\n",
    "\n",
    "frame_length = 5\n",
    "infer_frame_length = 5\n",
    "sample_rate  = 32000\n",
    "\n",
    "class TestDataset(Dataset):\n",
    "    def __init__(self, \n",
    "                 df: pd.DataFrame, \n",
    "                 sample_rate:int,\n",
    "                 frame_length:int,\n",
    "                 waveform\n",
    "                ):\n",
    "        \n",
    "        self.df = df\n",
    "        \n",
    "        self.frame_length = frame_length\n",
    "        self.sample_rate = sample_rate\n",
    "        \n",
    "        self.waveform = waveform\n",
    "        self.n_parts = math.ceil(len(waveform) / int(infer_frame_length * sample_rate))\n",
    "\n",
    "    def __len__(self):\n",
    "        return self.n_parts\n",
    "\n",
    "    def __getitem__(self, idx: int):\n",
    "        sample = self.df.loc[idx, :]\n",
    "        row_id = sample.row_id\n",
    "        sample_rate = self.sample_rate\n",
    "        frame_length = self.frame_length\n",
    "\n",
    "        end_seconds = int(sample.seconds)\n",
    "        start_seconds = int(end_seconds - 5)\n",
    "        \n",
    "        y = self.waveform[sample_rate * start_seconds : sample_rate * end_seconds].astype(np.float32)\n",
    "        \n",
    "        wav_tensor = torch.from_numpy(y)\n",
    "        if len(wav_tensor) == frame_length * sample_rate:\n",
    "            pass\n",
    "        elif len(wav_tensor) < frame_length * sample_rate:\n",
    "            wav_tensor = torch.nn.functional.pad(wav_tensor, (0, (frame_length * sample_rate) - len(wav_tensor)))\n",
    "        elif len(wav_tensor) > frame_length * sample_rate:\n",
    "            wav_tensor = wav_tensor[:(frame_length * sample_rate)]\n",
    "        \n",
    "        # add channel\n",
    "        wav_tensor = wav_tensor.unsqueeze(0)\n",
    "        \n",
    "        return {\n",
    "            \"wav_tensors\": wav_tensor,\n",
    "            \"row_id\": row_id,\n",
    "        }\n"
   ]
  },
  {
   "cell_type": "code",
   "execution_count": 10,
   "id": "869419c2",
   "metadata": {
    "execution": {
     "iopub.execute_input": "2023-05-16T12:46:27.863538Z",
     "iopub.status.busy": "2023-05-16T12:46:27.863123Z",
     "iopub.status.idle": "2023-05-16T12:46:27.882112Z",
     "shell.execute_reply": "2023-05-16T12:46:27.881008Z"
    },
    "papermill": {
     "duration": 0.030857,
     "end_time": "2023-05-16T12:46:27.885223",
     "exception": false,
     "start_time": "2023-05-16T12:46:27.854366",
     "status": "completed"
    },
    "tags": []
   },
   "outputs": [],
   "source": [
    "all_audios = list(Path(\"../input/birdclef-2023/test_soundscapes/\").glob(\"*.ogg\")) \n",
    "seconds = [i for i in range(5, 605, 5)]\n",
    "\n",
    "class CFG:\n",
    "    batch_size=4\n",
    "    num_workers=4\n",
    "    \n",
    "config = CFG()\n",
    "\n",
    "def prediction_for_clip(\n",
    "    audio_path\n",
    "):\n",
    "    \n",
    "    device = torch.device(\"cpu\")\n",
    "    \n",
    "    # inference\n",
    "    prediction_dict = {}\n",
    "    \n",
    "    clip, _ = librosa.load(audio_path, sr=sample_rate, mono=True)\n",
    "    name_ = \"_\".join(audio_path.name.split(\".\")[:-1])\n",
    "    row_ids = [name_+f\"_{second}\" for second in seconds]\n",
    "\n",
    "    test_df = pd.DataFrame({\n",
    "        \"row_id\": row_ids,\n",
    "        \"seconds\": seconds\n",
    "    })\n",
    "    \n",
    "        \n",
    "    dataset = TestDataset(\n",
    "        df=test_df, \n",
    "        sample_rate=sample_rate,\n",
    "        frame_length=frame_length,\n",
    "        waveform=clip\n",
    "    )\n",
    "\n",
    "    loader = DataLoader(\n",
    "        dataset,\n",
    "        batch_size=config.batch_size, \n",
    "        num_workers=config.num_workers,\n",
    "        drop_last=False,\n",
    "        shuffle=False,\n",
    "        pin_memory=True\n",
    "    )\n",
    "\n",
    "    for data in loader:\n",
    "\n",
    "        row_ids = data['row_id']\n",
    "\n",
    "        for row_id in row_ids:\n",
    "            if row_id not in prediction_dict:\n",
    "                prediction_dict[str(row_id)] = []\n",
    "\n",
    "        probas = []\n",
    "\n",
    "        for model in models:\n",
    "            with torch.no_grad():\n",
    "                # print(type(data[\"wav_tensors\"]))\n",
    "                # print(data[\"wav_tensors\"].size())\n",
    "                # output = model(data[\"wav_tensors\"])\n",
    "                output = model(data[\"wav_tensors\"], is_test=True)[\"logit\"].sigmoid()\n",
    "#                     \n",
    "            for row_id_idx, row_id in enumerate(row_ids):\n",
    "                prediction_dict[str(row_id)].append(output[[row_id_idx]].numpy().reshape(-1))\n",
    "                                                        \n",
    "    for row_id in list(prediction_dict.keys()):\n",
    "                \n",
    "        logits = np.array(prediction_dict[row_id]).mean(0)\n",
    "        prediction_dict[row_id] = {}\n",
    "        for label in range(N_CLASS):\n",
    "            prediction_dict[row_id][CLASSES[label]] = logits[label]\n",
    "\n",
    "    return prediction_dict"
   ]
  },
  {
   "cell_type": "code",
   "execution_count": 11,
   "id": "a1679cdb",
   "metadata": {
    "execution": {
     "iopub.execute_input": "2023-05-16T12:46:27.902430Z",
     "iopub.status.busy": "2023-05-16T12:46:27.901342Z",
     "iopub.status.idle": "2023-05-16T12:46:47.697869Z",
     "shell.execute_reply": "2023-05-16T12:46:47.696650Z"
    },
    "papermill": {
     "duration": 19.807686,
     "end_time": "2023-05-16T12:46:47.700370",
     "exception": false,
     "start_time": "2023-05-16T12:46:27.892684",
     "status": "completed"
    },
    "tags": []
   },
   "outputs": [
    {
     "name": "stdout",
     "output_type": "stream",
     "text": [
      "With concurrent ThreadPoolExecutor, time cost reduced to 19.8 for processing 1 audios\n"
     ]
    }
   ],
   "source": [
    "import concurrent.futures\n",
    "\n",
    "start = time.time()\n",
    "with concurrent.futures.ThreadPoolExecutor(max_workers=4) as executor:\n",
    "    dicts = list(executor.map(prediction_for_clip, all_audios))\n",
    "print(f\"With concurrent ThreadPoolExecutor, time cost reduced to {time.time()-start:.1f} for processing {len(all_audios)} audios\")\n"
   ]
  },
  {
   "cell_type": "code",
   "execution_count": 12,
   "id": "eccb14ad",
   "metadata": {
    "execution": {
     "iopub.execute_input": "2023-05-16T12:46:47.717923Z",
     "iopub.status.busy": "2023-05-16T12:46:47.717198Z",
     "iopub.status.idle": "2023-05-16T12:46:47.868138Z",
     "shell.execute_reply": "2023-05-16T12:46:47.866871Z"
    },
    "papermill": {
     "duration": 0.162648,
     "end_time": "2023-05-16T12:46:47.870514",
     "exception": false,
     "start_time": "2023-05-16T12:46:47.707866",
     "status": "completed"
    },
    "tags": []
   },
   "outputs": [
    {
     "name": "stdout",
     "output_type": "stream",
     "text": [
      "\n",
      "total rows : 120\n",
      "\n"
     ]
    },
    {
     "data": {
      "text/html": [
       "<div>\n",
       "<style scoped>\n",
       "    .dataframe tbody tr th:only-of-type {\n",
       "        vertical-align: middle;\n",
       "    }\n",
       "\n",
       "    .dataframe tbody tr th {\n",
       "        vertical-align: top;\n",
       "    }\n",
       "\n",
       "    .dataframe thead th {\n",
       "        text-align: right;\n",
       "    }\n",
       "</style>\n",
       "<table border=\"1\" class=\"dataframe\">\n",
       "  <thead>\n",
       "    <tr style=\"text-align: right;\">\n",
       "      <th></th>\n",
       "      <th>row_id</th>\n",
       "      <th>abethr1</th>\n",
       "      <th>abhori1</th>\n",
       "      <th>abythr1</th>\n",
       "      <th>afbfly1</th>\n",
       "      <th>afdfly1</th>\n",
       "      <th>afecuc1</th>\n",
       "      <th>affeag1</th>\n",
       "      <th>afgfly1</th>\n",
       "      <th>afghor1</th>\n",
       "      <th>...</th>\n",
       "      <th>yebsto1</th>\n",
       "      <th>yeccan1</th>\n",
       "      <th>yefcan</th>\n",
       "      <th>yelbis1</th>\n",
       "      <th>yenspu1</th>\n",
       "      <th>yertin1</th>\n",
       "      <th>yesbar1</th>\n",
       "      <th>yespet1</th>\n",
       "      <th>yetgre1</th>\n",
       "      <th>yewgre1</th>\n",
       "    </tr>\n",
       "  </thead>\n",
       "  <tbody>\n",
       "    <tr>\n",
       "      <th>0</th>\n",
       "      <td>soundscape_29201_5</td>\n",
       "      <td>0.028604</td>\n",
       "      <td>0.004486</td>\n",
       "      <td>0.009835</td>\n",
       "      <td>0.002982</td>\n",
       "      <td>0.011973</td>\n",
       "      <td>0.010996</td>\n",
       "      <td>0.005934</td>\n",
       "      <td>0.006366</td>\n",
       "      <td>0.023043</td>\n",
       "      <td>...</td>\n",
       "      <td>0.005565</td>\n",
       "      <td>0.001153</td>\n",
       "      <td>0.011819</td>\n",
       "      <td>0.000659</td>\n",
       "      <td>0.007334</td>\n",
       "      <td>0.015886</td>\n",
       "      <td>0.003241</td>\n",
       "      <td>0.001079</td>\n",
       "      <td>0.018702</td>\n",
       "      <td>0.005721</td>\n",
       "    </tr>\n",
       "    <tr>\n",
       "      <th>1</th>\n",
       "      <td>soundscape_29201_10</td>\n",
       "      <td>0.023427</td>\n",
       "      <td>0.027964</td>\n",
       "      <td>0.009608</td>\n",
       "      <td>0.019961</td>\n",
       "      <td>0.009379</td>\n",
       "      <td>0.004941</td>\n",
       "      <td>0.012751</td>\n",
       "      <td>0.003519</td>\n",
       "      <td>0.005797</td>\n",
       "      <td>...</td>\n",
       "      <td>0.006476</td>\n",
       "      <td>0.006237</td>\n",
       "      <td>0.023846</td>\n",
       "      <td>0.029084</td>\n",
       "      <td>0.016834</td>\n",
       "      <td>0.014116</td>\n",
       "      <td>0.020915</td>\n",
       "      <td>0.010962</td>\n",
       "      <td>0.008003</td>\n",
       "      <td>0.016256</td>\n",
       "    </tr>\n",
       "    <tr>\n",
       "      <th>2</th>\n",
       "      <td>soundscape_29201_15</td>\n",
       "      <td>0.041724</td>\n",
       "      <td>0.034950</td>\n",
       "      <td>0.040371</td>\n",
       "      <td>0.016295</td>\n",
       "      <td>0.003971</td>\n",
       "      <td>0.024914</td>\n",
       "      <td>0.036635</td>\n",
       "      <td>0.017722</td>\n",
       "      <td>0.020013</td>\n",
       "      <td>...</td>\n",
       "      <td>0.003212</td>\n",
       "      <td>0.012067</td>\n",
       "      <td>0.022414</td>\n",
       "      <td>0.015070</td>\n",
       "      <td>0.008343</td>\n",
       "      <td>0.041446</td>\n",
       "      <td>0.008454</td>\n",
       "      <td>0.011383</td>\n",
       "      <td>0.051164</td>\n",
       "      <td>0.044630</td>\n",
       "    </tr>\n",
       "    <tr>\n",
       "      <th>3</th>\n",
       "      <td>soundscape_29201_20</td>\n",
       "      <td>0.009086</td>\n",
       "      <td>0.024419</td>\n",
       "      <td>0.011745</td>\n",
       "      <td>0.013522</td>\n",
       "      <td>0.016407</td>\n",
       "      <td>0.006823</td>\n",
       "      <td>0.011806</td>\n",
       "      <td>0.010277</td>\n",
       "      <td>0.015172</td>\n",
       "      <td>...</td>\n",
       "      <td>0.006336</td>\n",
       "      <td>0.006876</td>\n",
       "      <td>0.017169</td>\n",
       "      <td>0.026834</td>\n",
       "      <td>0.013630</td>\n",
       "      <td>0.005231</td>\n",
       "      <td>0.013337</td>\n",
       "      <td>0.009491</td>\n",
       "      <td>0.018447</td>\n",
       "      <td>0.013896</td>\n",
       "    </tr>\n",
       "    <tr>\n",
       "      <th>4</th>\n",
       "      <td>soundscape_29201_25</td>\n",
       "      <td>0.007463</td>\n",
       "      <td>0.017510</td>\n",
       "      <td>0.006337</td>\n",
       "      <td>0.012032</td>\n",
       "      <td>0.005306</td>\n",
       "      <td>0.003539</td>\n",
       "      <td>0.005561</td>\n",
       "      <td>0.008191</td>\n",
       "      <td>0.012191</td>\n",
       "      <td>...</td>\n",
       "      <td>0.004173</td>\n",
       "      <td>0.004011</td>\n",
       "      <td>0.009701</td>\n",
       "      <td>0.011925</td>\n",
       "      <td>0.010774</td>\n",
       "      <td>0.002086</td>\n",
       "      <td>0.004834</td>\n",
       "      <td>0.005887</td>\n",
       "      <td>0.018949</td>\n",
       "      <td>0.003094</td>\n",
       "    </tr>\n",
       "  </tbody>\n",
       "</table>\n",
       "<p>5 rows × 265 columns</p>\n",
       "</div>"
      ],
      "text/plain": [
       "                row_id   abethr1   abhori1   abythr1   afbfly1   afdfly1  \\\n",
       "0   soundscape_29201_5  0.028604  0.004486  0.009835  0.002982  0.011973   \n",
       "1  soundscape_29201_10  0.023427  0.027964  0.009608  0.019961  0.009379   \n",
       "2  soundscape_29201_15  0.041724  0.034950  0.040371  0.016295  0.003971   \n",
       "3  soundscape_29201_20  0.009086  0.024419  0.011745  0.013522  0.016407   \n",
       "4  soundscape_29201_25  0.007463  0.017510  0.006337  0.012032  0.005306   \n",
       "\n",
       "    afecuc1   affeag1   afgfly1   afghor1  ...   yebsto1   yeccan1    yefcan  \\\n",
       "0  0.010996  0.005934  0.006366  0.023043  ...  0.005565  0.001153  0.011819   \n",
       "1  0.004941  0.012751  0.003519  0.005797  ...  0.006476  0.006237  0.023846   \n",
       "2  0.024914  0.036635  0.017722  0.020013  ...  0.003212  0.012067  0.022414   \n",
       "3  0.006823  0.011806  0.010277  0.015172  ...  0.006336  0.006876  0.017169   \n",
       "4  0.003539  0.005561  0.008191  0.012191  ...  0.004173  0.004011  0.009701   \n",
       "\n",
       "    yelbis1   yenspu1   yertin1   yesbar1   yespet1   yetgre1   yewgre1  \n",
       "0  0.000659  0.007334  0.015886  0.003241  0.001079  0.018702  0.005721  \n",
       "1  0.029084  0.016834  0.014116  0.020915  0.010962  0.008003  0.016256  \n",
       "2  0.015070  0.008343  0.041446  0.008454  0.011383  0.051164  0.044630  \n",
       "3  0.026834  0.013630  0.005231  0.013337  0.009491  0.018447  0.013896  \n",
       "4  0.011925  0.010774  0.002086  0.004834  0.005887  0.018949  0.003094  \n",
       "\n",
       "[5 rows x 265 columns]"
      ]
     },
     "execution_count": 12,
     "metadata": {},
     "output_type": "execute_result"
    }
   ],
   "source": [
    "prediction_dicts = {}\n",
    "for d in dicts:\n",
    "    prediction_dicts.update(d)\n",
    "    \n",
    "submission = pd.DataFrame.from_dict(prediction_dicts, \"index\").rename_axis(\"row_id\").reset_index()\n",
    "submission.to_csv(\"submission.csv\", index=False)\n",
    "print(f\"\"\"\n",
    "total rows : {len(submission)}\n",
    "\"\"\")\n",
    "submission.head()"
   ]
  },
  {
   "cell_type": "code",
   "execution_count": null,
   "id": "a6fcae77",
   "metadata": {
    "papermill": {
     "duration": 0.007642,
     "end_time": "2023-05-16T12:46:47.886145",
     "exception": false,
     "start_time": "2023-05-16T12:46:47.878503",
     "status": "completed"
    },
    "tags": []
   },
   "outputs": [],
   "source": []
  },
  {
   "cell_type": "code",
   "execution_count": null,
   "id": "af831d34",
   "metadata": {
    "papermill": {
     "duration": 0.007667,
     "end_time": "2023-05-16T12:46:47.901744",
     "exception": false,
     "start_time": "2023-05-16T12:46:47.894077",
     "status": "completed"
    },
    "tags": []
   },
   "outputs": [],
   "source": []
  },
  {
   "cell_type": "code",
   "execution_count": null,
   "id": "b3184136",
   "metadata": {
    "papermill": {
     "duration": 0.00777,
     "end_time": "2023-05-16T12:46:47.917525",
     "exception": false,
     "start_time": "2023-05-16T12:46:47.909755",
     "status": "completed"
    },
    "tags": []
   },
   "outputs": [],
   "source": []
  }
 ],
 "metadata": {
  "kernelspec": {
   "display_name": "Python 3",
   "language": "python",
   "name": "python3"
  },
  "language_info": {
   "codemirror_mode": {
    "name": "ipython",
    "version": 3
   },
   "file_extension": ".py",
   "mimetype": "text/x-python",
   "name": "python",
   "nbconvert_exporter": "python",
   "pygments_lexer": "ipython3",
   "version": "3.10.10"
  },
  "papermill": {
   "default_parameters": {},
   "duration": 79.811886,
   "end_time": "2023-05-16T12:46:51.113194",
   "environment_variables": {},
   "exception": null,
   "input_path": "__notebook__.ipynb",
   "output_path": "__notebook__.ipynb",
   "parameters": {},
   "start_time": "2023-05-16T12:45:31.301308",
   "version": "2.4.0"
  }
 },
 "nbformat": 4,
 "nbformat_minor": 5
}
