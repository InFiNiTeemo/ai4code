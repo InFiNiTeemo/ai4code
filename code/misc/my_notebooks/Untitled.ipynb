{
 "cells": [
  {
   "cell_type": "code",
   "execution_count": 1,
   "id": "6113bd97",
   "metadata": {},
   "outputs": [],
   "source": [
    "import pandas as pd"
   ]
  },
  {
   "cell_type": "code",
   "execution_count": 2,
   "id": "b10c3f8f",
   "metadata": {},
   "outputs": [
    {
     "name": "stdout",
     "output_type": "stream",
     "text": [
      "data\t     metrics.py\t\t   preprocess.py  submission.csv  yb_train.py\r\n",
      "dataset.py   model.py\t\t   PW.ipynb\t  train.py\r\n",
      "lm_train.py  outputs\t\t   __pycache__\t  Untitled.ipynb\r\n",
      "LSTM.ipynb   preprocess_mucgec.py  run.sh\t  utils\r\n"
     ]
    }
   ],
   "source": [
    "!ls"
   ]
  },
  {
   "cell_type": "code",
   "execution_count": 3,
   "id": "bf60aa9d",
   "metadata": {},
   "outputs": [
    {
     "name": "stderr",
     "output_type": "stream",
     "text": [
      "/tmp/ipykernel_179132/3037293218.py:1: FutureWarning: The error_bad_lines argument has been deprecated and will be removed in a future version. Use on_bad_lines in the future.\n",
      "\n",
      "\n",
      "  train = pd.read_csv('data/yb_train.csv', sep='\\t', error_bad_lines=False)\n",
      "b'Skipping line 4761: expected 3 fields, saw 5\\n'\n",
      "/tmp/ipykernel_179132/3037293218.py:2: FutureWarning: The error_bad_lines argument has been deprecated and will be removed in a future version. Use on_bad_lines in the future.\n",
      "\n",
      "\n",
      "  test = pd.read_csv('data/test1.csv', sep='\\t', error_bad_lines=False)\n"
     ]
    }
   ],
   "source": [
    "train = pd.read_csv('data/yb_train.csv', sep='\\t', error_bad_lines=False)\n",
    "test = pd.read_csv('data/test1.csv', sep='\\t', error_bad_lines=False)\n",
    "pd.set_option('max_colwidth', 100)"
   ]
  },
  {
   "cell_type": "code",
   "execution_count": 4,
   "id": "cb82dc99",
   "metadata": {},
   "outputs": [
    {
     "data": {
      "text/html": [
       "<div>\n",
       "<style scoped>\n",
       "    .dataframe tbody tr th:only-of-type {\n",
       "        vertical-align: middle;\n",
       "    }\n",
       "\n",
       "    .dataframe tbody tr th {\n",
       "        vertical-align: top;\n",
       "    }\n",
       "\n",
       "    .dataframe thead th {\n",
       "        text-align: right;\n",
       "    }\n",
       "</style>\n",
       "<table border=\"1\" class=\"dataframe\">\n",
       "  <thead>\n",
       "    <tr style=\"text-align: right;\">\n",
       "      <th></th>\n",
       "      <th>id</th>\n",
       "      <th>label</th>\n",
       "      <th>text</th>\n",
       "    </tr>\n",
       "  </thead>\n",
       "  <tbody>\n",
       "    <tr>\n",
       "      <th>0</th>\n",
       "      <td>1</td>\n",
       "      <td>1</td>\n",
       "      <td>通过大力发展社区教育，使我省全民终身学习的教育体系已深入人心。</td>\n",
       "    </tr>\n",
       "    <tr>\n",
       "      <th>1</th>\n",
       "      <td>2</td>\n",
       "      <td>1</td>\n",
       "      <td>再次投入巨资的英超劲旅曼城队能否在2010-2011年度的英超联赛中夺得英超冠军，曼联、切尔西、阿森纳等传统豪门的球迷大多不相信。</td>\n",
       "    </tr>\n",
       "    <tr>\n",
       "      <th>2</th>\n",
       "      <td>3</td>\n",
       "      <td>1</td>\n",
       "      <td>广西居民纸质图书的阅读率偏低，手机阅读将成为了广西居民极倾向的阅读方式。</td>\n",
       "    </tr>\n",
       "    <tr>\n",
       "      <th>3</th>\n",
       "      <td>4</td>\n",
       "      <td>1</td>\n",
       "      <td>文字书写时代即将结束，预示着人与字之间最亲密的一种关系已经终结。与此同时，屏幕文化造就了另一种关系的可能性——我们将不再书写文字，而是选择字体。</td>\n",
       "    </tr>\n",
       "    <tr>\n",
       "      <th>4</th>\n",
       "      <td>5</td>\n",
       "      <td>1</td>\n",
       "      <td>安徽合力公司2006年叉车销售强劲，销售收入涨幅很有可能将超过40%以上。公司预计2006年度实现净利润与上年相比增长50%。</td>\n",
       "    </tr>\n",
       "  </tbody>\n",
       "</table>\n",
       "</div>"
      ],
      "text/plain": [
       "   id  label  \\\n",
       "0   1      1   \n",
       "1   2      1   \n",
       "2   3      1   \n",
       "3   4      1   \n",
       "4   5      1   \n",
       "\n",
       "                                                                       text  \n",
       "0                                           通过大力发展社区教育，使我省全民终身学习的教育体系已深入人心。  \n",
       "1         再次投入巨资的英超劲旅曼城队能否在2010-2011年度的英超联赛中夺得英超冠军，曼联、切尔西、阿森纳等传统豪门的球迷大多不相信。  \n",
       "2                                      广西居民纸质图书的阅读率偏低，手机阅读将成为了广西居民极倾向的阅读方式。  \n",
       "3  文字书写时代即将结束，预示着人与字之间最亲密的一种关系已经终结。与此同时，屏幕文化造就了另一种关系的可能性——我们将不再书写文字，而是选择字体。  \n",
       "4           安徽合力公司2006年叉车销售强劲，销售收入涨幅很有可能将超过40%以上。公司预计2006年度实现净利润与上年相比增长50%。  "
      ]
     },
     "execution_count": 4,
     "metadata": {},
     "output_type": "execute_result"
    }
   ],
   "source": [
    "train.head()"
   ]
  },
  {
   "cell_type": "code",
   "execution_count": 5,
   "id": "384a269d",
   "metadata": {},
   "outputs": [],
   "source": [
    "train['len'] = train.text.str.len()"
   ]
  },
  {
   "cell_type": "code",
   "execution_count": 6,
   "id": "6c98f771",
   "metadata": {},
   "outputs": [
    {
     "data": {
      "text/html": [
       "<div>\n",
       "<style scoped>\n",
       "    .dataframe tbody tr th:only-of-type {\n",
       "        vertical-align: middle;\n",
       "    }\n",
       "\n",
       "    .dataframe tbody tr th {\n",
       "        vertical-align: top;\n",
       "    }\n",
       "\n",
       "    .dataframe thead th {\n",
       "        text-align: right;\n",
       "    }\n",
       "</style>\n",
       "<table border=\"1\" class=\"dataframe\">\n",
       "  <thead>\n",
       "    <tr style=\"text-align: right;\">\n",
       "      <th></th>\n",
       "      <th>id</th>\n",
       "      <th>label</th>\n",
       "      <th>text</th>\n",
       "      <th>len</th>\n",
       "    </tr>\n",
       "  </thead>\n",
       "  <tbody>\n",
       "    <tr>\n",
       "      <th>0</th>\n",
       "      <td>1</td>\n",
       "      <td>1</td>\n",
       "      <td>通过大力发展社区教育，使我省全民终身学习的教育体系已深入人心。</td>\n",
       "      <td>31</td>\n",
       "    </tr>\n",
       "    <tr>\n",
       "      <th>1</th>\n",
       "      <td>2</td>\n",
       "      <td>1</td>\n",
       "      <td>再次投入巨资的英超劲旅曼城队能否在2010-2011年度的英超联赛中夺得英超冠军，曼联、切尔西、阿森纳等传统豪门的球迷大多不相信。</td>\n",
       "      <td>65</td>\n",
       "    </tr>\n",
       "    <tr>\n",
       "      <th>2</th>\n",
       "      <td>3</td>\n",
       "      <td>1</td>\n",
       "      <td>广西居民纸质图书的阅读率偏低，手机阅读将成为了广西居民极倾向的阅读方式。</td>\n",
       "      <td>36</td>\n",
       "    </tr>\n",
       "    <tr>\n",
       "      <th>3</th>\n",
       "      <td>4</td>\n",
       "      <td>1</td>\n",
       "      <td>文字书写时代即将结束，预示着人与字之间最亲密的一种关系已经终结。与此同时，屏幕文化造就了另一种关系的可能性——我们将不再书写文字，而是选择字体。</td>\n",
       "      <td>72</td>\n",
       "    </tr>\n",
       "    <tr>\n",
       "      <th>4</th>\n",
       "      <td>5</td>\n",
       "      <td>1</td>\n",
       "      <td>安徽合力公司2006年叉车销售强劲，销售收入涨幅很有可能将超过40%以上。公司预计2006年度实现净利润与上年相比增长50%。</td>\n",
       "      <td>63</td>\n",
       "    </tr>\n",
       "    <tr>\n",
       "      <th>5</th>\n",
       "      <td>6</td>\n",
       "      <td>1</td>\n",
       "      <td>为了营造和谐、安全的校园环境，确保广大未成年人的交通安全，天元交警大队采取有力措施，强化校园周边交通安全，净化学校交通环境。</td>\n",
       "      <td>62</td>\n",
       "    </tr>\n",
       "    <tr>\n",
       "      <th>6</th>\n",
       "      <td>7</td>\n",
       "      <td>0</td>\n",
       "      <td>苏明娟实现了从农家女孩到共青团安徽省委副书记的“逆袭”，这让我们看到：扶贫救困不能只顾解决眼前问题，更要立足长远培养脱贫能力。</td>\n",
       "      <td>63</td>\n",
       "    </tr>\n",
       "    <tr>\n",
       "      <th>7</th>\n",
       "      <td>8</td>\n",
       "      <td>1</td>\n",
       "      <td>在翻阅中国话剧100周年纪念活动资料时，他萌生了创作一台寻找中国话剧源头的剧本的意念。</td>\n",
       "      <td>43</td>\n",
       "    </tr>\n",
       "    <tr>\n",
       "      <th>8</th>\n",
       "      <td>9</td>\n",
       "      <td>1</td>\n",
       "      <td>下午三点整，参加成立典礼的群众全部到齐了。</td>\n",
       "      <td>21</td>\n",
       "    </tr>\n",
       "    <tr>\n",
       "      <th>9</th>\n",
       "      <td>10</td>\n",
       "      <td>1</td>\n",
       "      <td>继亚马逊线下书店开张后,当当网也准备从线上走向线下，这一计划已处于实施阶段，线下书店将涵盖商场书店、超市书店、实体书店等多个类型。</td>\n",
       "      <td>65</td>\n",
       "    </tr>\n",
       "    <tr>\n",
       "      <th>10</th>\n",
       "      <td>11</td>\n",
       "      <td>0</td>\n",
       "      <td>我们正在走进五彩缤纷、朝气蓬勃的青春花季。</td>\n",
       "      <td>21</td>\n",
       "    </tr>\n",
       "    <tr>\n",
       "      <th>11</th>\n",
       "      <td>12</td>\n",
       "      <td>1</td>\n",
       "      <td>通过这次学习，使我的业务水平有了极大的提高。</td>\n",
       "      <td>22</td>\n",
       "    </tr>\n",
       "    <tr>\n",
       "      <th>12</th>\n",
       "      <td>13</td>\n",
       "      <td>1</td>\n",
       "      <td>为了避免今后不再犯同样的错误，我们必须认真总结经验教训。</td>\n",
       "      <td>28</td>\n",
       "    </tr>\n",
       "    <tr>\n",
       "      <th>13</th>\n",
       "      <td>14</td>\n",
       "      <td>0</td>\n",
       "      <td>省科学技术奖的推荐、评审和授奖，坚持公开、公平、公正的原则，依法管理，求真务实，注重实效，严格评审标准，不受任何组织和个人的干涉，坚决防止弄虚作假。</td>\n",
       "      <td>74</td>\n",
       "    </tr>\n",
       "    <tr>\n",
       "      <th>14</th>\n",
       "      <td>15</td>\n",
       "      <td>0</td>\n",
       "      <td>如何体会企业文化的深刻内涵，认识用伊秀文化提升企业竞争力的重要性，是摆在每一位中国企业家面前的重要课题。</td>\n",
       "      <td>52</td>\n",
       "    </tr>\n",
       "    <tr>\n",
       "      <th>15</th>\n",
       "      <td>16</td>\n",
       "      <td>1</td>\n",
       "      <td>看了他的表演，我们忍俊不禁地笑了起来。</td>\n",
       "      <td>19</td>\n",
       "    </tr>\n",
       "    <tr>\n",
       "      <th>16</th>\n",
       "      <td>17</td>\n",
       "      <td>0</td>\n",
       "      <td>12月9日下午，江西省考古研究所研究室主任张文江在景德镇市唐代南窑遗址考古成果发布会上宣布，在乐平市接渡镇发现了我国迄今最长的唐代龙窑遗迹。</td>\n",
       "      <td>70</td>\n",
       "    </tr>\n",
       "    <tr>\n",
       "      <th>17</th>\n",
       "      <td>18</td>\n",
       "      <td>0</td>\n",
       "      <td>道德本是维系群体人际关系的准则，它是一种逐渐形成并不断演化、不断微调以适应不断变化着的生存环境的产物，是一种非人为设计的长久习俗。</td>\n",
       "      <td>65</td>\n",
       "    </tr>\n",
       "    <tr>\n",
       "      <th>18</th>\n",
       "      <td>19</td>\n",
       "      <td>0</td>\n",
       "      <td>成立陆军领导机构、组建战略支援部队，是中国军队现代化建设的一个重要里程碑，彰显了一个走向复兴的大国实现强军梦的决心。</td>\n",
       "      <td>58</td>\n",
       "    </tr>\n",
       "    <tr>\n",
       "      <th>19</th>\n",
       "      <td>20</td>\n",
       "      <td>1</td>\n",
       "      <td>2009年末，奥巴马总统决定再向阿富汗增兵10万，在塔利班已然再成气候的今日阿富汗，区区十万兵力能否扭转乾坤，颇为令人怀疑。</td>\n",
       "      <td>62</td>\n",
       "    </tr>\n",
       "    <tr>\n",
       "      <th>20</th>\n",
       "      <td>21</td>\n",
       "      <td>0</td>\n",
       "      <td>修改后的《中华人民共和国个人所得税法》于9月1日正式实行。新《中华人民共和国个人所得税法》实施后，全国约6000万的工薪阶层纳税人成为最主要的受益群体。</td>\n",
       "      <td>76</td>\n",
       "    </tr>\n",
       "    <tr>\n",
       "      <th>21</th>\n",
       "      <td>22</td>\n",
       "      <td>1</td>\n",
       "      <td>经过三年努力学习，他对自己能否考上理想的高中充满信心。</td>\n",
       "      <td>27</td>\n",
       "    </tr>\n",
       "    <tr>\n",
       "      <th>22</th>\n",
       "      <td>23</td>\n",
       "      <td>1</td>\n",
       "      <td>通过听取汇报和实地调研，使调研组认为我们这里的人力资源和社会保障局坚持“服务发展、心系民生”的理念。</td>\n",
       "      <td>50</td>\n",
       "    </tr>\n",
       "    <tr>\n",
       "      <th>23</th>\n",
       "      <td>24</td>\n",
       "      <td>1</td>\n",
       "      <td>在进入2007年------南京大屠杀事件70周年之际，日本国内的右翼分子不但没有深刻反省，反而掀起了一股否认南京大屠杀事实，更加猖狂地兴风作浪。</td>\n",
       "      <td>73</td>\n",
       "    </tr>\n",
       "    <tr>\n",
       "      <th>24</th>\n",
       "      <td>25</td>\n",
       "      <td>1</td>\n",
       "      <td>地铁是人的载体和文化的载体，更是缓解交通压力的载体。当城市迈进地铁时代，意味着一个全新的城市文化展厅就此推开，市民也因此迈进了一个全新的生活空间。</td>\n",
       "      <td>73</td>\n",
       "    </tr>\n",
       "    <tr>\n",
       "      <th>25</th>\n",
       "      <td>26</td>\n",
       "      <td>1</td>\n",
       "      <td>自从启动了“两元公益电影活动”，一改以前看电影基本是年轻人的状况，现在该电影院里男女老少、学生、外来务工人员等坐得满满的。</td>\n",
       "      <td>61</td>\n",
       "    </tr>\n",
       "    <tr>\n",
       "      <th>26</th>\n",
       "      <td>27</td>\n",
       "      <td>0</td>\n",
       "      <td>保护野生动植物就是保护人类赖以生存的生态环境，国家应加快建立自然保护地管理体系，让重要的自然生态系统得到有效保护，促进人与自然和谐共生。</td>\n",
       "      <td>68</td>\n",
       "    </tr>\n",
       "    <tr>\n",
       "      <th>27</th>\n",
       "      <td>28</td>\n",
       "      <td>1</td>\n",
       "      <td>旅游促进区域流动，牵引多元发展。通州北运河如果能肩负起继承、宣传运河文化的使命，那么北运河承载的时间记忆和奋斗精神就会得到保持。</td>\n",
       "      <td>64</td>\n",
       "    </tr>\n",
       "    <tr>\n",
       "      <th>28</th>\n",
       "      <td>29</td>\n",
       "      <td>0</td>\n",
       "      <td>救灾队伍在余震不断、交通断绝、通信不畅的恶劣环境下坚韧前行，一条条生命因为他们的到来重获生机。</td>\n",
       "      <td>47</td>\n",
       "    </tr>\n",
       "    <tr>\n",
       "      <th>29</th>\n",
       "      <td>30</td>\n",
       "      <td>1</td>\n",
       "      <td>最近，阿尔法狗与围棋世界冠军柯洁的对战，连胜三局，再次成为舆论关注的焦点。</td>\n",
       "      <td>37</td>\n",
       "    </tr>\n",
       "    <tr>\n",
       "      <th>30</th>\n",
       "      <td>31</td>\n",
       "      <td>1</td>\n",
       "      <td>西班牙日冬哈岛上的阿拉米罗大桥是第一座世界上大跨度斜塔斜拉桥，它也成为了塞维利亚这座现代城市的地标。</td>\n",
       "      <td>50</td>\n",
       "    </tr>\n",
       "    <tr>\n",
       "      <th>31</th>\n",
       "      <td>32</td>\n",
       "      <td>1</td>\n",
       "      <td>2010年在华盛顿举行的首届核安全峰会，凝聚了国际社会核安全共识，开启了合作应对核安全挑战。两年来，各国在核安全领域取得了积极进展。</td>\n",
       "      <td>66</td>\n",
       "    </tr>\n",
       "    <tr>\n",
       "      <th>32</th>\n",
       "      <td>33</td>\n",
       "      <td>0</td>\n",
       "      <td>深圳人以“心容天下，敢为人先”的精神，创造了一个又一个奇迹。</td>\n",
       "      <td>30</td>\n",
       "    </tr>\n",
       "    <tr>\n",
       "      <th>33</th>\n",
       "      <td>34</td>\n",
       "      <td>0</td>\n",
       "      <td>通过参加志愿者活动，许多学生都感受到了奉献的快乐。</td>\n",
       "      <td>25</td>\n",
       "    </tr>\n",
       "    <tr>\n",
       "      <th>34</th>\n",
       "      <td>35</td>\n",
       "      <td>0</td>\n",
       "      <td>其实，日落的景象和日出同样壮观、绮丽，而且神秘、迷人。</td>\n",
       "      <td>27</td>\n",
       "    </tr>\n",
       "    <tr>\n",
       "      <th>35</th>\n",
       "      <td>36</td>\n",
       "      <td>1</td>\n",
       "      <td>通过最近报刊上发表的一系列文章，给了我们一个十分有益的启示：要形成好的社会风气，就必须加强国民素质教育。</td>\n",
       "      <td>52</td>\n",
       "    </tr>\n",
       "    <tr>\n",
       "      <th>36</th>\n",
       "      <td>37</td>\n",
       "      <td>1</td>\n",
       "      <td>有没有接触过活禽，成为我们判断被H7N9型禽流感传染的标准之一。</td>\n",
       "      <td>32</td>\n",
       "    </tr>\n",
       "    <tr>\n",
       "      <th>37</th>\n",
       "      <td>38</td>\n",
       "      <td>0</td>\n",
       "      <td>江苏省出台了校园足球行动计划纲要，创建一批校园足球特色学校和特色县。</td>\n",
       "      <td>34</td>\n",
       "    </tr>\n",
       "    <tr>\n",
       "      <th>38</th>\n",
       "      <td>39</td>\n",
       "      <td>1</td>\n",
       "      <td>有关部门对极少数不尊重环卫工人劳动、甚至辱骂侮辱殴打环卫工人的事件，及时进行了批评教育和严肃处理。</td>\n",
       "      <td>49</td>\n",
       "    </tr>\n",
       "    <tr>\n",
       "      <th>39</th>\n",
       "      <td>40</td>\n",
       "      <td>1</td>\n",
       "      <td>经过一个学期的锻炼，同学们普遍的体能提高了。</td>\n",
       "      <td>22</td>\n",
       "    </tr>\n",
       "  </tbody>\n",
       "</table>\n",
       "</div>"
      ],
      "text/plain": [
       "    id  label  \\\n",
       "0    1      1   \n",
       "1    2      1   \n",
       "2    3      1   \n",
       "3    4      1   \n",
       "4    5      1   \n",
       "5    6      1   \n",
       "6    7      0   \n",
       "7    8      1   \n",
       "8    9      1   \n",
       "9   10      1   \n",
       "10  11      0   \n",
       "11  12      1   \n",
       "12  13      1   \n",
       "13  14      0   \n",
       "14  15      0   \n",
       "15  16      1   \n",
       "16  17      0   \n",
       "17  18      0   \n",
       "18  19      0   \n",
       "19  20      1   \n",
       "20  21      0   \n",
       "21  22      1   \n",
       "22  23      1   \n",
       "23  24      1   \n",
       "24  25      1   \n",
       "25  26      1   \n",
       "26  27      0   \n",
       "27  28      1   \n",
       "28  29      0   \n",
       "29  30      1   \n",
       "30  31      1   \n",
       "31  32      1   \n",
       "32  33      0   \n",
       "33  34      0   \n",
       "34  35      0   \n",
       "35  36      1   \n",
       "36  37      1   \n",
       "37  38      0   \n",
       "38  39      1   \n",
       "39  40      1   \n",
       "\n",
       "                                                                            text  \\\n",
       "0                                                通过大力发展社区教育，使我省全民终身学习的教育体系已深入人心。   \n",
       "1              再次投入巨资的英超劲旅曼城队能否在2010-2011年度的英超联赛中夺得英超冠军，曼联、切尔西、阿森纳等传统豪门的球迷大多不相信。   \n",
       "2                                           广西居民纸质图书的阅读率偏低，手机阅读将成为了广西居民极倾向的阅读方式。   \n",
       "3       文字书写时代即将结束，预示着人与字之间最亲密的一种关系已经终结。与此同时，屏幕文化造就了另一种关系的可能性——我们将不再书写文字，而是选择字体。   \n",
       "4                安徽合力公司2006年叉车销售强劲，销售收入涨幅很有可能将超过40%以上。公司预计2006年度实现净利润与上年相比增长50%。   \n",
       "5                 为了营造和谐、安全的校园环境，确保广大未成年人的交通安全，天元交警大队采取有力措施，强化校园周边交通安全，净化学校交通环境。   \n",
       "6                苏明娟实现了从农家女孩到共青团安徽省委副书记的“逆袭”，这让我们看到：扶贫救困不能只顾解决眼前问题，更要立足长远培养脱贫能力。   \n",
       "7                                    在翻阅中国话剧100周年纪念活动资料时，他萌生了创作一台寻找中国话剧源头的剧本的意念。   \n",
       "8                                                          下午三点整，参加成立典礼的群众全部到齐了。   \n",
       "9              继亚马逊线下书店开张后,当当网也准备从线上走向线下，这一计划已处于实施阶段，线下书店将涵盖商场书店、超市书店、实体书店等多个类型。   \n",
       "10                                                         我们正在走进五彩缤纷、朝气蓬勃的青春花季。   \n",
       "11                                                        通过这次学习，使我的业务水平有了极大的提高。   \n",
       "12                                                  为了避免今后不再犯同样的错误，我们必须认真总结经验教训。   \n",
       "13    省科学技术奖的推荐、评审和授奖，坚持公开、公平、公正的原则，依法管理，求真务实，注重实效，严格评审标准，不受任何组织和个人的干涉，坚决防止弄虚作假。   \n",
       "14                          如何体会企业文化的深刻内涵，认识用伊秀文化提升企业竞争力的重要性，是摆在每一位中国企业家面前的重要课题。   \n",
       "15                                                           看了他的表演，我们忍俊不禁地笑了起来。   \n",
       "16        12月9日下午，江西省考古研究所研究室主任张文江在景德镇市唐代南窑遗址考古成果发布会上宣布，在乐平市接渡镇发现了我国迄今最长的唐代龙窑遗迹。   \n",
       "17             道德本是维系群体人际关系的准则，它是一种逐渐形成并不断演化、不断微调以适应不断变化着的生存环境的产物，是一种非人为设计的长久习俗。   \n",
       "18                    成立陆军领导机构、组建战略支援部队，是中国军队现代化建设的一个重要里程碑，彰显了一个走向复兴的大国实现强军梦的决心。   \n",
       "19                2009年末，奥巴马总统决定再向阿富汗增兵10万，在塔利班已然再成气候的今日阿富汗，区区十万兵力能否扭转乾坤，颇为令人怀疑。   \n",
       "20  修改后的《中华人民共和国个人所得税法》于9月1日正式实行。新《中华人民共和国个人所得税法》实施后，全国约6000万的工薪阶层纳税人成为最主要的受益群体。   \n",
       "21                                                   经过三年努力学习，他对自己能否考上理想的高中充满信心。   \n",
       "22                            通过听取汇报和实地调研，使调研组认为我们这里的人力资源和社会保障局坚持“服务发展、心系民生”的理念。   \n",
       "23     在进入2007年------南京大屠杀事件70周年之际，日本国内的右翼分子不但没有深刻反省，反而掀起了一股否认南京大屠杀事实，更加猖狂地兴风作浪。   \n",
       "24     地铁是人的载体和文化的载体，更是缓解交通压力的载体。当城市迈进地铁时代，意味着一个全新的城市文化展厅就此推开，市民也因此迈进了一个全新的生活空间。   \n",
       "25                 自从启动了“两元公益电影活动”，一改以前看电影基本是年轻人的状况，现在该电影院里男女老少、学生、外来务工人员等坐得满满的。   \n",
       "26          保护野生动植物就是保护人类赖以生存的生态环境，国家应加快建立自然保护地管理体系，让重要的自然生态系统得到有效保护，促进人与自然和谐共生。   \n",
       "27              旅游促进区域流动，牵引多元发展。通州北运河如果能肩负起继承、宣传运河文化的使命，那么北运河承载的时间记忆和奋斗精神就会得到保持。   \n",
       "28                               救灾队伍在余震不断、交通断绝、通信不畅的恶劣环境下坚韧前行，一条条生命因为他们的到来重获生机。   \n",
       "29                                         最近，阿尔法狗与围棋世界冠军柯洁的对战，连胜三局，再次成为舆论关注的焦点。   \n",
       "30                            西班牙日冬哈岛上的阿拉米罗大桥是第一座世界上大跨度斜塔斜拉桥，它也成为了塞维利亚这座现代城市的地标。   \n",
       "31            2010年在华盛顿举行的首届核安全峰会，凝聚了国际社会核安全共识，开启了合作应对核安全挑战。两年来，各国在核安全领域取得了积极进展。   \n",
       "32                                                深圳人以“心容天下，敢为人先”的精神，创造了一个又一个奇迹。   \n",
       "33                                                     通过参加志愿者活动，许多学生都感受到了奉献的快乐。   \n",
       "34                                                   其实，日落的景象和日出同样壮观、绮丽，而且神秘、迷人。   \n",
       "35                          通过最近报刊上发表的一系列文章，给了我们一个十分有益的启示：要形成好的社会风气，就必须加强国民素质教育。   \n",
       "36                                              有没有接触过活禽，成为我们判断被H7N9型禽流感传染的标准之一。   \n",
       "37                                            江苏省出台了校园足球行动计划纲要，创建一批校园足球特色学校和特色县。   \n",
       "38                             有关部门对极少数不尊重环卫工人劳动、甚至辱骂侮辱殴打环卫工人的事件，及时进行了批评教育和严肃处理。   \n",
       "39                                                        经过一个学期的锻炼，同学们普遍的体能提高了。   \n",
       "\n",
       "    len  \n",
       "0    31  \n",
       "1    65  \n",
       "2    36  \n",
       "3    72  \n",
       "4    63  \n",
       "5    62  \n",
       "6    63  \n",
       "7    43  \n",
       "8    21  \n",
       "9    65  \n",
       "10   21  \n",
       "11   22  \n",
       "12   28  \n",
       "13   74  \n",
       "14   52  \n",
       "15   19  \n",
       "16   70  \n",
       "17   65  \n",
       "18   58  \n",
       "19   62  \n",
       "20   76  \n",
       "21   27  \n",
       "22   50  \n",
       "23   73  \n",
       "24   73  \n",
       "25   61  \n",
       "26   68  \n",
       "27   64  \n",
       "28   47  \n",
       "29   37  \n",
       "30   50  \n",
       "31   66  \n",
       "32   30  \n",
       "33   25  \n",
       "34   27  \n",
       "35   52  \n",
       "36   32  \n",
       "37   34  \n",
       "38   49  \n",
       "39   22  "
      ]
     },
     "execution_count": 6,
     "metadata": {},
     "output_type": "execute_result"
    }
   ],
   "source": [
    "train.head(40)"
   ]
  },
  {
   "cell_type": "code",
   "execution_count": 7,
   "id": "501d26cc",
   "metadata": {
    "scrolled": true
   },
   "outputs": [
    {
     "data": {
      "image/png": "[encoded data removed]",
      "text/plain": [
       "<Figure size 640x480 with 1 Axes>"
      ]
     },
     "metadata": {},
     "output_type": "display_data"
    }
   ],
   "source": [
    "hist_len = train.len.hist(bins=50)"
   ]
  },
  {
   "cell_type": "code",
   "execution_count": 8,
   "id": "0dd680d1",
   "metadata": {},
   "outputs": [
    {
     "data": {
      "image/png": "[encoded data removed]",
      "text/plain": [
       "<Figure size 640x480 with 1 Axes>"
      ]
     },
     "metadata": {},
     "output_type": "display_data"
    }
   ],
   "source": [
    "hist_label = train.label.hist(bins=50)"
   ]
  },
  {
   "cell_type": "code",
   "execution_count": null,
   "id": "9e288669",
   "metadata": {},
   "outputs": [],
   "source": [
    "max_len = max(train.len)\n",
    "max_len"
   ]
  },
  {
   "cell_type": "code",
   "execution_count": 12,
   "id": "83b57427",
   "metadata": {},
   "outputs": [
    {
     "data": {
      "text/html": [
       "<div>\n",
       "<style scoped>\n",
       "    .dataframe tbody tr th:only-of-type {\n",
       "        vertical-align: middle;\n",
       "    }\n",
       "\n",
       "    .dataframe tbody tr th {\n",
       "        vertical-align: top;\n",
       "    }\n",
       "\n",
       "    .dataframe thead th {\n",
       "        text-align: right;\n",
       "    }\n",
       "</style>\n",
       "<table border=\"1\" class=\"dataframe\">\n",
       "  <thead>\n",
       "    <tr style=\"text-align: right;\">\n",
       "      <th></th>\n",
       "      <th>id</th>\n",
       "      <th>text</th>\n",
       "    </tr>\n",
       "  </thead>\n",
       "  <tbody>\n",
       "    <tr>\n",
       "      <th>0</th>\n",
       "      <td>1</td>\n",
       "      <td>唐诗宋词是我国浩如烟海的古代文化中一块瑰丽的瑰宝，所以我们要好好珍惜，将它们传承下去。</td>\n",
       "    </tr>\n",
       "    <tr>\n",
       "      <th>1</th>\n",
       "      <td>2</td>\n",
       "      <td>这次迎新活动举办得非常成功，参加活动的人数超过1000人。</td>\n",
       "    </tr>\n",
       "    <tr>\n",
       "      <th>2</th>\n",
       "      <td>3</td>\n",
       "      <td>春天到了，山上姹紫嫣红的野花开得灿烂极了。</td>\n",
       "    </tr>\n",
       "    <tr>\n",
       "      <th>3</th>\n",
       "      <td>4</td>\n",
       "      <td>外公看到小明非常开心，不由分说地把他拉到了书房。</td>\n",
       "    </tr>\n",
       "    <tr>\n",
       "      <th>4</th>\n",
       "      <td>5</td>\n",
       "      <td>今天的解方程太难了，晓军用了整整一个小时左右才做完。</td>\n",
       "    </tr>\n",
       "  </tbody>\n",
       "</table>\n",
       "</div>"
      ],
      "text/plain": [
       "   id                                         text\n",
       "0   1  唐诗宋词是我国浩如烟海的古代文化中一块瑰丽的瑰宝，所以我们要好好珍惜，将它们传承下去。\n",
       "1   2                这次迎新活动举办得非常成功，参加活动的人数超过1000人。\n",
       "2   3                        春天到了，山上姹紫嫣红的野花开得灿烂极了。\n",
       "3   4                     外公看到小明非常开心，不由分说地把他拉到了书房。\n",
       "4   5                   今天的解方程太难了，晓军用了整整一个小时左右才做完。"
      ]
     },
     "execution_count": 12,
     "metadata": {},
     "output_type": "execute_result"
    }
   ],
   "source": [
    "test.head()"
   ]
  },
  {
   "cell_type": "code",
   "execution_count": 3,
   "id": "a09de40d",
   "metadata": {},
   "outputs": [
    {
     "name": "stderr",
     "output_type": "stream",
     "text": [
      "/tmp/ipykernel_158443/3693672700.py:1: FutureWarning: The error_bad_lines argument has been deprecated and will be removed in a future version. Use on_bad_lines in the future.\n",
      "\n",
      "\n",
      "  sub = pd.read_csv('submission.csv', sep='\\t', error_bad_lines=False)\n"
     ]
    }
   ],
   "source": [
    "sub = pd.read_csv('submission.csv', sep='\\t', error_bad_lines=False)"
   ]
  },
  {
   "cell_type": "code",
   "execution_count": 4,
   "id": "1f6fb676",
   "metadata": {},
   "outputs": [
    {
     "data": {
      "text/html": [
       "<div>\n",
       "<style scoped>\n",
       "    .dataframe tbody tr th:only-of-type {\n",
       "        vertical-align: middle;\n",
       "    }\n",
       "\n",
       "    .dataframe tbody tr th {\n",
       "        vertical-align: top;\n",
       "    }\n",
       "\n",
       "    .dataframe thead th {\n",
       "        text-align: right;\n",
       "    }\n",
       "</style>\n",
       "<table border=\"1\" class=\"dataframe\">\n",
       "  <thead>\n",
       "    <tr style=\"text-align: right;\">\n",
       "      <th></th>\n",
       "      <th>id</th>\n",
       "      <th>label</th>\n",
       "    </tr>\n",
       "  </thead>\n",
       "  <tbody>\n",
       "    <tr>\n",
       "      <th>0</th>\n",
       "      <td>1</td>\n",
       "      <td>0</td>\n",
       "    </tr>\n",
       "    <tr>\n",
       "      <th>1</th>\n",
       "      <td>2</td>\n",
       "      <td>0</td>\n",
       "    </tr>\n",
       "    <tr>\n",
       "      <th>2</th>\n",
       "      <td>3</td>\n",
       "      <td>1</td>\n",
       "    </tr>\n",
       "    <tr>\n",
       "      <th>3</th>\n",
       "      <td>4</td>\n",
       "      <td>1</td>\n",
       "    </tr>\n",
       "    <tr>\n",
       "      <th>4</th>\n",
       "      <td>5</td>\n",
       "      <td>1</td>\n",
       "    </tr>\n",
       "  </tbody>\n",
       "</table>\n",
       "</div>"
      ],
      "text/plain": [
       "   id  label\n",
       "0   1      0\n",
       "1   2      0\n",
       "2   3      1\n",
       "3   4      1\n",
       "4   5      1"
      ]
     },
     "execution_count": 4,
     "metadata": {},
     "output_type": "execute_result"
    }
   ],
   "source": [
    "sub.head()"
   ]
  },
  {
   "cell_type": "code",
   "execution_count": 5,
   "id": "9157f8a6",
   "metadata": {},
   "outputs": [
    {
     "data": {
      "text/plain": [
       "1    638\n",
       "0    401\n",
       "Name: label, dtype: int64"
      ]
     },
     "execution_count": 5,
     "metadata": {},
     "output_type": "execute_result"
    }
   ],
   "source": [
    "sub['label'].value_counts()"
   ]
  },
  {
   "cell_type": "code",
   "execution_count": 18,
   "id": "56101b14",
   "metadata": {},
   "outputs": [
    {
     "data": {
      "text/plain": [
       "1    33758\n",
       "0    11488\n",
       "Name: label, dtype: int64"
      ]
     },
     "execution_count": 18,
     "metadata": {},
     "output_type": "execute_result"
    }
   ],
   "source": [
    "train['label'].value_counts()"
   ]
  },
  {
   "cell_type": "code",
   "execution_count": 19,
   "id": "1f1e5261",
   "metadata": {},
   "outputs": [
    {
     "data": {
      "text/plain": [
       "0.2539008973168899"
      ]
     },
     "execution_count": 19,
     "metadata": {},
     "output_type": "execute_result"
    }
   ],
   "source": [
    "11488/len(train)"
   ]
  },
  {
   "cell_type": "code",
   "execution_count": 20,
   "id": "0d85b3a8",
   "metadata": {},
   "outputs": [
    {
     "data": {
      "text/plain": [
       "0.3859480269489894"
      ]
     },
     "execution_count": 20,
     "metadata": {},
     "output_type": "execute_result"
    }
   ],
   "source": [
    "401/len(sub)"
   ]
  },
  {
   "cell_type": "code",
   "execution_count": 11,
   "id": "658dc0a6",
   "metadata": {},
   "outputs": [
    {
     "name": "stderr",
     "output_type": "stream",
     "text": [
      "/tmp/ipykernel_179132/912679177.py:1: FutureWarning: The error_bad_lines argument has been deprecated and will be removed in a future version. Use on_bad_lines in the future.\n",
      "\n",
      "\n",
      "  sub_ensemble =  pd.read_csv('submission_ensemble.csv', sep='\\t', error_bad_lines=False)\n"
     ]
    },
    {
     "data": {
      "text/plain": [
       "1    662\n",
       "0    377\n",
       "Name: label, dtype: int64"
      ]
     },
     "execution_count": 11,
     "metadata": {},
     "output_type": "execute_result"
    }
   ],
   "source": [
    "sub_ensemble =  pd.read_csv('submission_ensemble.csv', sep='\\t', error_bad_lines=False)\n",
    "sub_ensemble['label'].value_counts()"
   ]
  },
  {
   "cell_type": "code",
   "execution_count": null,
   "id": "3c4ab93a",
   "metadata": {},
   "outputs": [],
   "source": [
    "from torch.utils.data import DataLoader, Dataset\n",
    "import torch\n",
    "from transformers import AutoTokenizer, BertTokenizer\n",
    "\n",
    "test = True\n",
    "tokenizer = AutoTokenizer.from_pretrained(\"microsoft/codebert-base\")\n",
    "text = 'ldr\\tw5, [x3, #0x2f74]'\n",
    "if test:\n",
    "    print(\"raw text:\", text)\n",
    "    # add_special_tokens=True is set by default\n",
    "    text_enc = tokenizer.encode_plus(text)\n",
    "    attn_mask = text_enc['attention_mask']\n",
    "    text_enc = text_enc['input_ids']\n",
    "\n",
    "    for tok in text_enc:\n",
    "        print(tok, tokenizer.decode(tok))\n",
    "        print(attn_mask)"
   ]
  }
 ],
 "metadata": {
  "kernelspec": {
   "display_name": "Python 3 (ipykernel)",
   "language": "python",
   "name": "python3"
  },
  "language_info": {
   "codemirror_mode": {
    "name": "ipython",
    "version": 3
   },
   "file_extension": ".py",
   "mimetype": "text/x-python",
   "name": "python",
   "nbconvert_exporter": "python",
   "pygments_lexer": "ipython3",
   "version": "3.10.4"
  }
 },
 "nbformat": 4,
 "nbformat_minor": 5
}
