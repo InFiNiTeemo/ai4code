{
 "cells": [
  {
   "cell_type": "code",
   "execution_count": 1,
   "id": "26c44b91",
   "metadata": {},
   "outputs": [],
   "source": [
    "import pandas as pd\n",
    "import csv\n",
    "from pathlib import Path\n",
    "import json\n",
    "import time\n",
    "from tqdm import tqdm\n",
    "import numpy as np\n",
    "import gc\n",
    "import os\n",
    "import pickle\n",
    "import ast\n",
    "\n",
    "## memory\n",
    "import psutil\n",
    "\n",
    "\n",
    "def get_mem():\n",
    "    mem = psutil.virtual_memory()\n",
    "    total = str(round(mem.total / 1024 / 1024))\n",
    "    #round方法进行四舍五入，然后转换成字符串 字节/1024得到kb 再/1024得到M\n",
    "    used = str(round(mem.used / 1024 / 1024))\n",
    "    use_per = str(round(mem.percent))\n",
    "    free = str(round(mem.free / 1024 / 1024))\n",
    "    print(\"已使用:\" + used + \"M(\" + use_per + \"%)\")\n",
    "    print(\"可用内存:\" + free + \"M\")\n",
    "\n",
    "data_dir = Path('./data/public')\n",
    "train_group = data_dir/\"train.group.csv\"\n",
    "train_json = data_dir/\"train.func.json\"\n",
    "test_json = data_dir/\"test.func.json\"\n",
    "test_q = data_dir/\"test.question.csv\""
   ]
  },
  {
   "cell_type": "code",
   "execution_count": 2,
   "id": "ad66c389",
   "metadata": {},
   "outputs": [
    {
     "name": "stdout",
     "output_type": "stream",
     "text": [
      "2270931 70000 60 5 32.44187142857143\n"
     ]
    },
    {
     "data": {
      "text/plain": [
       "70000"
      ]
     },
     "execution_count": 2,
     "metadata": {},
     "output_type": "execute_result"
    }
   ],
   "source": [
    "# int -> int\n",
    "inv_dict = dict()\n",
    "g_cnt = 0\n",
    "id_cnt = 0\n",
    "mx_cnt = 0\n",
    "mn_cnt = 1e9\n",
    "\n",
    "mx_group_id = 0\n",
    "with open(train_group) as f:\n",
    "    reader = csv.reader(f)\n",
    "    for row in reader:\n",
    "        group_id = row[0]\n",
    "        g_cnt += 1\n",
    "        mx_cnt = max(len(row[1:]), mx_cnt)\n",
    "        mn_cnt = min(len(row[1:]), mn_cnt)\n",
    "        mx_group_id = max(int(group_id), mx_group_id)\n",
    "        for func_id in row[1:]:\n",
    "            id_cnt += 1\n",
    "            inv_dict[int(func_id)] = int(group_id)\n",
    "            \n",
    "        \n",
    "avg_cnt = id_cnt * 1. / g_cnt\n",
    "print(len(inv_dict.keys()), g_cnt, mx_cnt, mn_cnt, avg_cnt)\n",
    "mx_group_id"
   ]
  },
  {
   "cell_type": "code",
   "execution_count": 3,
   "id": "6eedfd19",
   "metadata": {},
   "outputs": [
    {
     "name": "stderr",
     "output_type": "stream",
     "text": [
      "0it [00:09, ?it/s]\n"
     ]
    },
    {
     "ename": "KeyboardInterrupt",
     "evalue": "",
     "output_type": "error",
     "traceback": [
      "\u001b[0;31m---------------------------------------------------------------------------\u001b[0m",
      "\u001b[0;31mKeyboardInterrupt\u001b[0m                         Traceback (most recent call last)",
      "Input \u001b[0;32mIn [3]\u001b[0m, in \u001b[0;36m<cell line: 30>\u001b[0;34m()\u001b[0m\n\u001b[1;32m     34\u001b[0m \u001b[38;5;28;01mfor\u001b[39;00m row, gdf \u001b[38;5;129;01min\u001b[39;00m df\u001b[38;5;241m.\u001b[39mgroupby(\u001b[38;5;124m\"\u001b[39m\u001b[38;5;124mgid\u001b[39m\u001b[38;5;124m\"\u001b[39m):\n\u001b[1;32m     35\u001b[0m     output_path \u001b[38;5;241m=\u001b[39m data_dir\u001b[38;5;241m/\u001b[39m\u001b[38;5;124mf\u001b[39m\u001b[38;5;124m\"\u001b[39m\u001b[38;5;124mtrain/\u001b[39m\u001b[38;5;132;01m{\u001b[39;00mgdf\u001b[38;5;241m.\u001b[39mgid\u001b[38;5;241m.\u001b[39mmax()\u001b[38;5;132;01m}\u001b[39;00m\u001b[38;5;124m.csv\u001b[39m\u001b[38;5;124m\"\u001b[39m\n\u001b[0;32m---> 36\u001b[0m     \u001b[43mgdf\u001b[49m\u001b[38;5;241;43m.\u001b[39;49m\u001b[43mto_csv\u001b[49m\u001b[43m(\u001b[49m\u001b[43moutput_path\u001b[49m\u001b[43m,\u001b[49m\u001b[43m  \u001b[49m\u001b[43mmode\u001b[49m\u001b[38;5;241;43m=\u001b[39;49m\u001b[38;5;124;43m'\u001b[39;49m\u001b[38;5;124;43ma\u001b[39;49m\u001b[38;5;124;43m'\u001b[39;49m\u001b[43m,\u001b[49m\u001b[43m \u001b[49m\u001b[43mheader\u001b[49m\u001b[38;5;241;43m=\u001b[39;49m\u001b[38;5;129;43;01mnot\u001b[39;49;00m\u001b[43m \u001b[49m\u001b[43mos\u001b[49m\u001b[38;5;241;43m.\u001b[39;49m\u001b[43mpath\u001b[49m\u001b[38;5;241;43m.\u001b[39;49m\u001b[43mexists\u001b[49m\u001b[43m(\u001b[49m\u001b[43moutput_path\u001b[49m\u001b[43m)\u001b[49m\u001b[43m)\u001b[49m\n\u001b[1;32m     38\u001b[0m get_mem()\n",
      "File \u001b[0;32m~/anaconda3/envs/VIT/lib/python3.10/site-packages/pandas/core/generic.py:3551\u001b[0m, in \u001b[0;36mNDFrame.to_csv\u001b[0;34m(self, path_or_buf, sep, na_rep, float_format, columns, header, index, index_label, mode, encoding, compression, quoting, quotechar, line_terminator, chunksize, date_format, doublequote, escapechar, decimal, errors, storage_options)\u001b[0m\n\u001b[1;32m   3540\u001b[0m df \u001b[38;5;241m=\u001b[39m \u001b[38;5;28mself\u001b[39m \u001b[38;5;28;01mif\u001b[39;00m \u001b[38;5;28misinstance\u001b[39m(\u001b[38;5;28mself\u001b[39m, ABCDataFrame) \u001b[38;5;28;01melse\u001b[39;00m \u001b[38;5;28mself\u001b[39m\u001b[38;5;241m.\u001b[39mto_frame()\n\u001b[1;32m   3542\u001b[0m formatter \u001b[38;5;241m=\u001b[39m DataFrameFormatter(\n\u001b[1;32m   3543\u001b[0m     frame\u001b[38;5;241m=\u001b[39mdf,\n\u001b[1;32m   3544\u001b[0m     header\u001b[38;5;241m=\u001b[39mheader,\n\u001b[0;32m   (...)\u001b[0m\n\u001b[1;32m   3548\u001b[0m     decimal\u001b[38;5;241m=\u001b[39mdecimal,\n\u001b[1;32m   3549\u001b[0m )\n\u001b[0;32m-> 3551\u001b[0m \u001b[38;5;28;01mreturn\u001b[39;00m \u001b[43mDataFrameRenderer\u001b[49m\u001b[43m(\u001b[49m\u001b[43mformatter\u001b[49m\u001b[43m)\u001b[49m\u001b[38;5;241;43m.\u001b[39;49m\u001b[43mto_csv\u001b[49m\u001b[43m(\u001b[49m\n\u001b[1;32m   3552\u001b[0m \u001b[43m    \u001b[49m\u001b[43mpath_or_buf\u001b[49m\u001b[43m,\u001b[49m\n\u001b[1;32m   3553\u001b[0m \u001b[43m    \u001b[49m\u001b[43mline_terminator\u001b[49m\u001b[38;5;241;43m=\u001b[39;49m\u001b[43mline_terminator\u001b[49m\u001b[43m,\u001b[49m\n\u001b[1;32m   3554\u001b[0m \u001b[43m    \u001b[49m\u001b[43msep\u001b[49m\u001b[38;5;241;43m=\u001b[39;49m\u001b[43msep\u001b[49m\u001b[43m,\u001b[49m\n\u001b[1;32m   3555\u001b[0m \u001b[43m    \u001b[49m\u001b[43mencoding\u001b[49m\u001b[38;5;241;43m=\u001b[39;49m\u001b[43mencoding\u001b[49m\u001b[43m,\u001b[49m\n\u001b[1;32m   3556\u001b[0m \u001b[43m    \u001b[49m\u001b[43merrors\u001b[49m\u001b[38;5;241;43m=\u001b[39;49m\u001b[43merrors\u001b[49m\u001b[43m,\u001b[49m\n\u001b[1;32m   3557\u001b[0m \u001b[43m    \u001b[49m\u001b[43mcompression\u001b[49m\u001b[38;5;241;43m=\u001b[39;49m\u001b[43mcompression\u001b[49m\u001b[43m,\u001b[49m\n\u001b[1;32m   3558\u001b[0m \u001b[43m    \u001b[49m\u001b[43mquoting\u001b[49m\u001b[38;5;241;43m=\u001b[39;49m\u001b[43mquoting\u001b[49m\u001b[43m,\u001b[49m\n\u001b[1;32m   3559\u001b[0m \u001b[43m    \u001b[49m\u001b[43mcolumns\u001b[49m\u001b[38;5;241;43m=\u001b[39;49m\u001b[43mcolumns\u001b[49m\u001b[43m,\u001b[49m\n\u001b[1;32m   3560\u001b[0m \u001b[43m    \u001b[49m\u001b[43mindex_label\u001b[49m\u001b[38;5;241;43m=\u001b[39;49m\u001b[43mindex_label\u001b[49m\u001b[43m,\u001b[49m\n\u001b[1;32m   3561\u001b[0m \u001b[43m    \u001b[49m\u001b[43mmode\u001b[49m\u001b[38;5;241;43m=\u001b[39;49m\u001b[43mmode\u001b[49m\u001b[43m,\u001b[49m\n\u001b[1;32m   3562\u001b[0m \u001b[43m    \u001b[49m\u001b[43mchunksize\u001b[49m\u001b[38;5;241;43m=\u001b[39;49m\u001b[43mchunksize\u001b[49m\u001b[43m,\u001b[49m\n\u001b[1;32m   3563\u001b[0m \u001b[43m    \u001b[49m\u001b[43mquotechar\u001b[49m\u001b[38;5;241;43m=\u001b[39;49m\u001b[43mquotechar\u001b[49m\u001b[43m,\u001b[49m\n\u001b[1;32m   3564\u001b[0m \u001b[43m    \u001b[49m\u001b[43mdate_format\u001b[49m\u001b[38;5;241;43m=\u001b[39;49m\u001b[43mdate_format\u001b[49m\u001b[43m,\u001b[49m\n\u001b[1;32m   3565\u001b[0m \u001b[43m    \u001b[49m\u001b[43mdoublequote\u001b[49m\u001b[38;5;241;43m=\u001b[39;49m\u001b[43mdoublequote\u001b[49m\u001b[43m,\u001b[49m\n\u001b[1;32m   3566\u001b[0m \u001b[43m    \u001b[49m\u001b[43mescapechar\u001b[49m\u001b[38;5;241;43m=\u001b[39;49m\u001b[43mescapechar\u001b[49m\u001b[43m,\u001b[49m\n\u001b[1;32m   3567\u001b[0m \u001b[43m    \u001b[49m\u001b[43mstorage_options\u001b[49m\u001b[38;5;241;43m=\u001b[39;49m\u001b[43mstorage_options\u001b[49m\u001b[43m,\u001b[49m\n\u001b[1;32m   3568\u001b[0m \u001b[43m\u001b[49m\u001b[43m)\u001b[49m\n",
      "File \u001b[0;32m~/anaconda3/envs/VIT/lib/python3.10/site-packages/pandas/io/formats/format.py:1180\u001b[0m, in \u001b[0;36mDataFrameRenderer.to_csv\u001b[0;34m(self, path_or_buf, encoding, sep, columns, index_label, mode, compression, quoting, quotechar, line_terminator, chunksize, date_format, doublequote, escapechar, errors, storage_options)\u001b[0m\n\u001b[1;32m   1159\u001b[0m     created_buffer \u001b[38;5;241m=\u001b[39m \u001b[38;5;28;01mFalse\u001b[39;00m\n\u001b[1;32m   1161\u001b[0m csv_formatter \u001b[38;5;241m=\u001b[39m CSVFormatter(\n\u001b[1;32m   1162\u001b[0m     path_or_buf\u001b[38;5;241m=\u001b[39mpath_or_buf,\n\u001b[1;32m   1163\u001b[0m     line_terminator\u001b[38;5;241m=\u001b[39mline_terminator,\n\u001b[0;32m   (...)\u001b[0m\n\u001b[1;32m   1178\u001b[0m     formatter\u001b[38;5;241m=\u001b[39m\u001b[38;5;28mself\u001b[39m\u001b[38;5;241m.\u001b[39mfmt,\n\u001b[1;32m   1179\u001b[0m )\n\u001b[0;32m-> 1180\u001b[0m \u001b[43mcsv_formatter\u001b[49m\u001b[38;5;241;43m.\u001b[39;49m\u001b[43msave\u001b[49m\u001b[43m(\u001b[49m\u001b[43m)\u001b[49m\n\u001b[1;32m   1182\u001b[0m \u001b[38;5;28;01mif\u001b[39;00m created_buffer:\n\u001b[1;32m   1183\u001b[0m     \u001b[38;5;28;01massert\u001b[39;00m \u001b[38;5;28misinstance\u001b[39m(path_or_buf, StringIO)\n",
      "File \u001b[0;32m~/anaconda3/envs/VIT/lib/python3.10/site-packages/pandas/io/formats/csvs.py:241\u001b[0m, in \u001b[0;36mCSVFormatter.save\u001b[0;34m(self)\u001b[0m\n\u001b[1;32m    237\u001b[0m \u001b[38;5;124;03m\"\"\"\u001b[39;00m\n\u001b[1;32m    238\u001b[0m \u001b[38;5;124;03mCreate the writer & save.\u001b[39;00m\n\u001b[1;32m    239\u001b[0m \u001b[38;5;124;03m\"\"\"\u001b[39;00m\n\u001b[1;32m    240\u001b[0m \u001b[38;5;66;03m# apply compression and byte/text conversion\u001b[39;00m\n\u001b[0;32m--> 241\u001b[0m \u001b[38;5;28;01mwith\u001b[39;00m get_handle(\n\u001b[1;32m    242\u001b[0m     \u001b[38;5;28mself\u001b[39m\u001b[38;5;241m.\u001b[39mfilepath_or_buffer,\n\u001b[1;32m    243\u001b[0m     \u001b[38;5;28mself\u001b[39m\u001b[38;5;241m.\u001b[39mmode,\n\u001b[1;32m    244\u001b[0m     encoding\u001b[38;5;241m=\u001b[39m\u001b[38;5;28mself\u001b[39m\u001b[38;5;241m.\u001b[39mencoding,\n\u001b[1;32m    245\u001b[0m     errors\u001b[38;5;241m=\u001b[39m\u001b[38;5;28mself\u001b[39m\u001b[38;5;241m.\u001b[39merrors,\n\u001b[1;32m    246\u001b[0m     compression\u001b[38;5;241m=\u001b[39m\u001b[38;5;28mself\u001b[39m\u001b[38;5;241m.\u001b[39mcompression,\n\u001b[1;32m    247\u001b[0m     storage_options\u001b[38;5;241m=\u001b[39m\u001b[38;5;28mself\u001b[39m\u001b[38;5;241m.\u001b[39mstorage_options,\n\u001b[1;32m    248\u001b[0m ) \u001b[38;5;28;01mas\u001b[39;00m handles:\n\u001b[1;32m    249\u001b[0m \n\u001b[1;32m    250\u001b[0m     \u001b[38;5;66;03m# Note: self.encoding is irrelevant here\u001b[39;00m\n\u001b[1;32m    251\u001b[0m     \u001b[38;5;28mself\u001b[39m\u001b[38;5;241m.\u001b[39mwriter \u001b[38;5;241m=\u001b[39m csvlib\u001b[38;5;241m.\u001b[39mwriter(\n\u001b[1;32m    252\u001b[0m         handles\u001b[38;5;241m.\u001b[39mhandle,\n\u001b[1;32m    253\u001b[0m         lineterminator\u001b[38;5;241m=\u001b[39m\u001b[38;5;28mself\u001b[39m\u001b[38;5;241m.\u001b[39mline_terminator,\n\u001b[0;32m   (...)\u001b[0m\n\u001b[1;32m    258\u001b[0m         quotechar\u001b[38;5;241m=\u001b[39m\u001b[38;5;28mself\u001b[39m\u001b[38;5;241m.\u001b[39mquotechar,\n\u001b[1;32m    259\u001b[0m     )\n\u001b[1;32m    261\u001b[0m     \u001b[38;5;28mself\u001b[39m\u001b[38;5;241m.\u001b[39m_save()\n",
      "File \u001b[0;32m~/anaconda3/envs/VIT/lib/python3.10/site-packages/pandas/io/common.py:124\u001b[0m, in \u001b[0;36mIOHandles.__exit__\u001b[0;34m(self, *args)\u001b[0m\n\u001b[1;32m    123\u001b[0m \u001b[38;5;28;01mdef\u001b[39;00m \u001b[38;5;21m__exit__\u001b[39m(\u001b[38;5;28mself\u001b[39m, \u001b[38;5;241m*\u001b[39margs: Any) \u001b[38;5;241m-\u001b[39m\u001b[38;5;241m>\u001b[39m \u001b[38;5;28;01mNone\u001b[39;00m:\n\u001b[0;32m--> 124\u001b[0m     \u001b[38;5;28;43mself\u001b[39;49m\u001b[38;5;241;43m.\u001b[39;49m\u001b[43mclose\u001b[49m\u001b[43m(\u001b[49m\u001b[43m)\u001b[49m\n",
      "File \u001b[0;32m~/anaconda3/envs/VIT/lib/python3.10/site-packages/pandas/io/common.py:116\u001b[0m, in \u001b[0;36mIOHandles.close\u001b[0;34m(self)\u001b[0m\n\u001b[1;32m    114\u001b[0m     \u001b[38;5;28mself\u001b[39m\u001b[38;5;241m.\u001b[39mcreated_handles\u001b[38;5;241m.\u001b[39mremove(\u001b[38;5;28mself\u001b[39m\u001b[38;5;241m.\u001b[39mhandle)\n\u001b[1;32m    115\u001b[0m \u001b[38;5;28;01mfor\u001b[39;00m handle \u001b[38;5;129;01min\u001b[39;00m \u001b[38;5;28mself\u001b[39m\u001b[38;5;241m.\u001b[39mcreated_handles:\n\u001b[0;32m--> 116\u001b[0m     \u001b[43mhandle\u001b[49m\u001b[38;5;241;43m.\u001b[39;49m\u001b[43mclose\u001b[49m\u001b[43m(\u001b[49m\u001b[43m)\u001b[49m\n\u001b[1;32m    117\u001b[0m \u001b[38;5;28mself\u001b[39m\u001b[38;5;241m.\u001b[39mcreated_handles \u001b[38;5;241m=\u001b[39m []\n\u001b[1;32m    118\u001b[0m \u001b[38;5;28mself\u001b[39m\u001b[38;5;241m.\u001b[39mis_wrapped \u001b[38;5;241m=\u001b[39m \u001b[38;5;28;01mFalse\u001b[39;00m\n",
      "\u001b[0;31mKeyboardInterrupt\u001b[0m: "
     ]
    }
   ],
   "source": [
    "# data = json.load(open(train_json, \"r\"))\n",
    "# df = pd.DataFrame.from_dict(data, orient=\"index\")\n",
    "# gc.collect()\n",
    "# itvs = np.linspace(1, 70001, 20)\n",
    "\n",
    "# for i in range(len(itvs)-1):\n",
    "#     lb, rb = itvs[i], itvs[i+1]\n",
    "#     # print(lb, rb)\n",
    "#     itv_dict = {k:v for k, v in inv_dict.items() if lb<=v and v<rb}\n",
    "#     dfs = pd.read_json(train_json, orient=\"records\", lines=True, chunksize=6e4)\n",
    "    \n",
    "#     res = []\n",
    "#     for idx, df in enumerate(tqdm(dfs)):\n",
    "#         df = df[df.fid.isin(itv_dict.keys())]\n",
    "#         df['gid'] = df.fid.apply(lambda x: itv_dict[x])\n",
    "#         res.append(df)\n",
    "#         gc.collect()\n",
    "#     res = pd.concat(res)\n",
    "#     get_mem()\n",
    "#     for row, gdf in res.groupby(\"gid\"):\n",
    "#         gdf.to_json(data_dir/f\"train/{gdf.gid.max()}.json\",  orient=\"records\") # to_json does not have append mode\n",
    "        \n",
    "\n",
    "# data = json.load(open(train_json, \"r\"))\n",
    "# df = pd.DataFrame.from_dict(data, orient=\"index\")\n",
    "gc.collect()\n",
    "dfs = pd.read_json(train_json, orient=\"records\", lines=True, chunksize=4e4)\n",
    "\n",
    "res = []\n",
    "for idx, df in enumerate(tqdm(dfs)):\n",
    "    # df = df[df.fid.isin(itv_dict.keys())]\n",
    "    df['gid'] = df.fid.apply(lambda x: inv_dict[x])\n",
    "    gc.collect()\n",
    "    for row, gdf in df.groupby(\"gid\"):\n",
    "        output_path = data_dir/f\"train/{gdf.gid.max()}.csv\"\n",
    "        gdf.to_csv(output_path,  mode='a', header=not os.path.exists(output_path))\n",
    "\n",
    "    get_mem()\n",
    "    "
   ]
  },
  {
   "cell_type": "code",
   "execution_count": 13,
   "id": "5aa17415",
   "metadata": {},
   "outputs": [
    {
     "name": "stderr",
     "output_type": "stream",
     "text": [
      "\n",
      "KeyboardInterrupt\n",
      "\n"
     ]
    }
   ],
   "source": [
    "test_df = pd.read_json(test_json, orient=\"records\", lines=True)"
   ]
  },
  {
   "cell_type": "code",
   "execution_count": null,
   "id": "615516d8",
   "metadata": {},
   "outputs": [],
   "source": [
    "len(test_df)"
   ]
  },
  {
   "cell_type": "code",
   "execution_count": 6,
   "id": "5af7a7ab",
   "metadata": {},
   "outputs": [
    {
     "ename": "NameError",
     "evalue": "name 'q' is not defined",
     "output_type": "error",
     "traceback": [
      "\u001b[0;31m---------------------------------------------------------------------------\u001b[0m",
      "\u001b[0;31mNameError\u001b[0m                                 Traceback (most recent call last)",
      "Input \u001b[0;32mIn [6]\u001b[0m, in \u001b[0;36m<cell line: 23>\u001b[0;34m()\u001b[0m\n\u001b[1;32m     19\u001b[0m             inv_dict[\u001b[38;5;28mint\u001b[39m(func_id)] \u001b[38;5;241m=\u001b[39m \u001b[38;5;28mint\u001b[39m(group_id)\n\u001b[1;32m     22\u001b[0m avg_cnt \u001b[38;5;241m=\u001b[39m id_cnt \u001b[38;5;241m*\u001b[39m \u001b[38;5;241m1.\u001b[39m \u001b[38;5;241m/\u001b[39m g_cnt\n\u001b[0;32m---> 23\u001b[0m \u001b[38;5;28mprint\u001b[39m(\u001b[38;5;28mlen\u001b[39m(inv_dict\u001b[38;5;241m.\u001b[39mkeys()), g_cnt, mx_cnt, mn_cnt, \u001b[43mq\u001b[49m)\n\u001b[1;32m     24\u001b[0m mx_group_id\n",
      "\u001b[0;31mNameError\u001b[0m: name 'q' is not defined"
     ]
    }
   ],
   "source": [
    "# int -> int\n",
    "inv_dict = dict()\n",
    "g_cnt = 0\n",
    "id_cnt = 0\n",
    "mx_cnt = 0\n",
    "mn_cnt = 1e9\n",
    "\n",
    "mx_group_id = 0\n",
    "with open(test_q) as f:\n",
    "    reader = csv.reader(f)\n",
    "    for row in reader:\n",
    "        group_id = row[0]\n",
    "        g_cnt += 1\n",
    "        mx_cnt = max(len(row[1:]), mx_cnt)\n",
    "        mn_cnt = min(len(row[1:]), mn_cnt)\n",
    "        mx_group_id = max(int(group_id), mx_group_id)\n",
    "        for func_id in row[1:]:\n",
    "            id_cnt += 1\n",
    "            inv_dict[int(func_id)] = int(group_id)\n",
    "            \n",
    "        \n",
    "avg_cnt = id_cnt * 1. / g_cnt\n",
    "print(len(inv_dict.keys()), g_cnt, mx_cnt, mn_cnt, q)\n",
    "mx_group_id"
   ]
  },
  {
   "cell_type": "markdown",
   "id": "f0ff1415",
   "metadata": {},
   "source": [
    "## sample"
   ]
  },
  {
   "cell_type": "code",
   "execution_count": 7,
   "id": "8391bcee",
   "metadata": {},
   "outputs": [],
   "source": [
    "total = 7e4\n",
    "block = 100\n",
    "itvs = np.linspace(1, total+1, block+1)\n",
    "\n",
    "arr = np.arange(total)\n",
    "arr = arr+1\n",
    "np.random.shuffle(arr)"
   ]
  },
  {
   "cell_type": "code",
   "execution_count": 8,
   "id": "4fc7d300",
   "metadata": {},
   "outputs": [
    {
     "name": "stderr",
     "output_type": "stream",
     "text": [
      "\r",
      "  0%|                                                                                                                                                                                                                                                                                                                                                                                                | 0/100 [00:00<?, ?it/s]"
     ]
    },
    {
     "name": "stdout",
     "output_type": "stream",
     "text": [
      "249568 22688\n"
     ]
    },
    {
     "name": "stderr",
     "output_type": "stream",
     "text": [
      "\r",
      "  1%|███▋                                                                                                                                                                                                                                                                                                                                                                                 | 1/100 [01:57<3:13:31, 117.28s/it]"
     ]
    },
    {
     "name": "stdout",
     "output_type": "stream",
     "text": [
      "254914 23174\n"
     ]
    },
    {
     "name": "stderr",
     "output_type": "stream",
     "text": [
      "\r",
      "  2%|███████▍                                                                                                                                                                                                                                                                                                                                                                             | 2/100 [03:58<3:15:24, 119.63s/it]"
     ]
    },
    {
     "name": "stdout",
     "output_type": "stream",
     "text": [
      "251163 22833\n"
     ]
    },
    {
     "name": "stderr",
     "output_type": "stream",
     "text": [
      "\r",
      "  3%|███████████▏                                                                                                                                                                                                                                                                                                                                                                         | 3/100 [06:02<3:16:27, 121.52s/it]"
     ]
    },
    {
     "name": "stdout",
     "output_type": "stream",
     "text": [
      "252483 22953\n"
     ]
    },
    {
     "name": "stderr",
     "output_type": "stream",
     "text": [
      "\r",
      "  4%|██████████████▉                                                                                                                                                                                                                                                                                                                                                                      | 4/100 [08:07<3:16:47, 122.99s/it]"
     ]
    },
    {
     "name": "stdout",
     "output_type": "stream",
     "text": [
      "249183 22653\n"
     ]
    },
    {
     "name": "stderr",
     "output_type": "stream",
     "text": [
      "\r",
      "  5%|██████████████████▋                                                                                                                                                                                                                                                                                                                                                                  | 5/100 [10:09<3:13:55, 122.48s/it]"
     ]
    },
    {
     "name": "stdout",
     "output_type": "stream",
     "text": [
      "247467 22497\n"
     ]
    },
    {
     "name": "stderr",
     "output_type": "stream",
     "text": [
      "\r",
      "  6%|██████████████████████▍                                                                                                                                                                                                                                                                                                                                                              | 6/100 [12:08<3:09:58, 121.26s/it]"
     ]
    },
    {
     "name": "stdout",
     "output_type": "stream",
     "text": [
      "250349 22759\n"
     ]
    },
    {
     "name": "stderr",
     "output_type": "stream",
     "text": [
      "\r",
      "  7%|██████████████████████████                                                                                                                                                                                                                                                                                                                                                           | 7/100 [14:06<3:06:19, 120.21s/it]"
     ]
    },
    {
     "name": "stdout",
     "output_type": "stream",
     "text": [
      "256355 23305\n"
     ]
    },
    {
     "name": "stderr",
     "output_type": "stream",
     "text": [
      "\r",
      "  8%|█████████████████████████████▊                                                                                                                                                                                                                                                                                                                                                       | 8/100 [16:13<3:07:37, 122.37s/it]"
     ]
    },
    {
     "name": "stdout",
     "output_type": "stream",
     "text": [
      "256476 23316\n"
     ]
    },
    {
     "name": "stderr",
     "output_type": "stream",
     "text": [
      "\r",
      "  9%|█████████████████████████████████▌                                                                                                                                                                                                                                                                                                                                                   | 9/100 [18:17<3:06:42, 123.10s/it]"
     ]
    },
    {
     "name": "stdout",
     "output_type": "stream",
     "text": [
      "246268 22388\n"
     ]
    },
    {
     "name": "stderr",
     "output_type": "stream",
     "text": [
      "\r",
      " 10%|█████████████████████████████████████▏                                                                                                                                                                                                                                                                                                                                              | 10/100 [20:29<3:08:42, 125.81s/it]"
     ]
    },
    {
     "name": "stdout",
     "output_type": "stream",
     "text": [
      "250602 22782\n"
     ]
    },
    {
     "name": "stderr",
     "output_type": "stream",
     "text": [
      "\r",
      " 11%|████████████████████████████████████████▉                                                                                                                                                                                                                                                                                                                                           | 11/100 [22:37<3:07:41, 126.53s/it]"
     ]
    },
    {
     "name": "stdout",
     "output_type": "stream",
     "text": [
      "251218 22838\n"
     ]
    },
    {
     "name": "stderr",
     "output_type": "stream",
     "text": [
      "\r",
      " 12%|████████████████████████████████████████████▋                                                                                                                                                                                                                                                                                                                                       | 12/100 [24:41<3:04:10, 125.58s/it]"
     ]
    },
    {
     "name": "stdout",
     "output_type": "stream",
     "text": [
      "249887 22717\n"
     ]
    },
    {
     "name": "stderr",
     "output_type": "stream",
     "text": [
      "\r",
      " 13%|████████████████████████████████████████████████▎                                                                                                                                                                                                                                                                                                                                   | 13/100 [26:48<3:02:45, 126.04s/it]"
     ]
    },
    {
     "name": "stdout",
     "output_type": "stream",
     "text": [
      "246378 22398\n"
     ]
    },
    {
     "name": "stderr",
     "output_type": "stream",
     "text": [
      "\r",
      " 14%|████████████████████████████████████████████████████                                                                                                                                                                                                                                                                                                                                | 14/100 [28:50<2:58:59, 124.88s/it]"
     ]
    },
    {
     "name": "stdout",
     "output_type": "stream",
     "text": [
      "252373 22943\n"
     ]
    },
    {
     "name": "stderr",
     "output_type": "stream",
     "text": [
      "\r",
      " 15%|███████████████████████████████████████████████████████▊                                                                                                                                                                                                                                                                                                                            | 15/100 [30:57<2:57:39, 125.41s/it]"
     ]
    },
    {
     "name": "stdout",
     "output_type": "stream",
     "text": [
      "252230 22930\n"
     ]
    },
    {
     "name": "stderr",
     "output_type": "stream",
     "text": [
      "\r",
      " 16%|███████████████████████████████████████████████████████████▌                                                                                                                                                                                                                                                                                                                        | 16/100 [32:59<2:54:26, 124.60s/it]"
     ]
    },
    {
     "name": "stdout",
     "output_type": "stream",
     "text": [
      "254001 23091\n"
     ]
    },
    {
     "name": "stderr",
     "output_type": "stream",
     "text": [
      "\r",
      " 17%|███████████████████████████████████████████████████████████████▏                                                                                                                                                                                                                                                                                                                    | 17/100 [35:06<2:53:05, 125.13s/it]"
     ]
    },
    {
     "name": "stdout",
     "output_type": "stream",
     "text": [
      "254397 23127\n"
     ]
    },
    {
     "name": "stderr",
     "output_type": "stream",
     "text": [
      "\r",
      " 18%|██████████████████████████████████████████████████████████████████▉                                                                                                                                                                                                                                                                                                                 | 18/100 [37:01<2:46:45, 122.02s/it]"
     ]
    },
    {
     "name": "stdout",
     "output_type": "stream",
     "text": [
      "249546 22686\n"
     ]
    },
    {
     "name": "stderr",
     "output_type": "stream",
     "text": [
      "\r",
      " 19%|██████████████████████████████████████████████████████████████████████▋                                                                                                                                                                                                                                                                                                             | 19/100 [39:00<2:43:36, 121.19s/it]"
     ]
    },
    {
     "name": "stdout",
     "output_type": "stream",
     "text": [
      "249271 22661\n"
     ]
    },
    {
     "name": "stderr",
     "output_type": "stream",
     "text": [
      "\r",
      " 20%|██████████████████████████████████████████████████████████████████████████▍                                                                                                                                                                                                                                                                                                         | 20/100 [41:03<2:42:17, 121.72s/it]"
     ]
    },
    {
     "name": "stdout",
     "output_type": "stream",
     "text": [
      "251691 22881\n"
     ]
    },
    {
     "name": "stderr",
     "output_type": "stream",
     "text": [
      "\r",
      " 21%|██████████████████████████████████████████████████████████████████████████████                                                                                                                                                                                                                                                                                                      | 21/100 [43:09<2:42:08, 123.15s/it]"
     ]
    },
    {
     "name": "stdout",
     "output_type": "stream",
     "text": [
      "247478 22498\n"
     ]
    },
    {
     "name": "stderr",
     "output_type": "stream",
     "text": [
      "\r",
      " 22%|█████████████████████████████████████████████████████████████████████████████████▊                                                                                                                                                                                                                                                                                                  | 22/100 [45:12<2:40:07, 123.17s/it]"
     ]
    },
    {
     "name": "stdout",
     "output_type": "stream",
     "text": [
      "255497 23227\n"
     ]
    },
    {
     "name": "stderr",
     "output_type": "stream",
     "text": [
      "\r",
      " 23%|█████████████████████████████████████████████████████████████████████████████████████▌                                                                                                                                                                                                                                                                                              | 23/100 [47:22<2:40:24, 124.99s/it]"
     ]
    },
    {
     "name": "stdout",
     "output_type": "stream",
     "text": [
      "253000 23000\n"
     ]
    },
    {
     "name": "stderr",
     "output_type": "stream",
     "text": [
      "\r",
      " 24%|█████████████████████████████████████████████████████████████████████████████████████████▎                                                                                                                                                                                                                                                                                          | 24/100 [49:24<2:37:22, 124.24s/it]"
     ]
    },
    {
     "name": "stdout",
     "output_type": "stream",
     "text": [
      "256707 23337\n"
     ]
    },
    {
     "name": "stderr",
     "output_type": "stream",
     "text": [
      "\r",
      " 25%|█████████████████████████████████████████████████████████████████████████████████████████████                                                                                                                                                                                                                                                                                       | 25/100 [51:31<2:36:08, 124.91s/it]"
     ]
    },
    {
     "name": "stdout",
     "output_type": "stream",
     "text": [
      "244200 22200\n"
     ]
    },
    {
     "name": "stderr",
     "output_type": "stream",
     "text": [
      "\r",
      " 26%|████████████████████████████████████████████████████████████████████████████████████████████████▋                                                                                                                                                                                                                                                                                   | 26/100 [53:31<2:32:20, 123.52s/it]"
     ]
    },
    {
     "name": "stdout",
     "output_type": "stream",
     "text": [
      "248116 22556\n"
     ]
    },
    {
     "name": "stderr",
     "output_type": "stream",
     "text": [
      "\r",
      " 27%|████████████████████████████████████████████████████████████████████████████████████████████████████▍                                                                                                                                                                                                                                                                               | 27/100 [55:41<2:32:46, 125.57s/it]"
     ]
    },
    {
     "name": "stdout",
     "output_type": "stream",
     "text": [
      "244211 22201\n"
     ]
    },
    {
     "name": "stderr",
     "output_type": "stream",
     "text": [
      "\r",
      " 28%|████████████████████████████████████████████████████████████████████████████████████████████████████████▏                                                                                                                                                                                                                                                                           | 28/100 [57:47<2:30:49, 125.69s/it]"
     ]
    },
    {
     "name": "stdout",
     "output_type": "stream",
     "text": [
      "248589 22599\n"
     ]
    },
    {
     "name": "stderr",
     "output_type": "stream",
     "text": [
      "\r",
      " 29%|███████████████████████████████████████████████████████████████████████████████████████████████████████████▉                                                                                                                                                                                                                                                                        | 29/100 [59:52<2:28:22, 125.38s/it]"
     ]
    },
    {
     "name": "stdout",
     "output_type": "stream",
     "text": [
      "260073 23643\n"
     ]
    },
    {
     "name": "stderr",
     "output_type": "stream",
     "text": [
      "\r",
      " 30%|███████████████████████████████████████████████████████████████████████████████████████████████████████████████                                                                                                                                                                                                                                                                   | 30/100 [1:01:55<2:25:18, 124.55s/it]"
     ]
    },
    {
     "name": "stdout",
     "output_type": "stream",
     "text": [
      "248072 22552\n"
     ]
    },
    {
     "name": "stderr",
     "output_type": "stream",
     "text": [
      "\r",
      " 31%|██████████████████████████████████████████████████████████████████████████████████████████████████████████████████▋                                                                                                                                                                                                                                                               | 31/100 [1:04:01<2:24:00, 125.22s/it]"
     ]
    },
    {
     "name": "stdout",
     "output_type": "stream",
     "text": [
      "256058 23278\n"
     ]
    },
    {
     "name": "stderr",
     "output_type": "stream",
     "text": [
      "\r",
      " 32%|██████████████████████████████████████████████████████████████████████████████████████████████████████████████████████▍                                                                                                                                                                                                                                                           | 32/100 [1:06:05<2:21:21, 124.73s/it]"
     ]
    },
    {
     "name": "stdout",
     "output_type": "stream",
     "text": [
      "245542 22322\n"
     ]
    },
    {
     "name": "stderr",
     "output_type": "stream",
     "text": [
      "\r",
      " 33%|██████████████████████████████████████████████████████████████████████████████████████████████████████████████████████████                                                                                                                                                                                                                                                        | 33/100 [1:08:15<2:21:11, 126.43s/it]"
     ]
    },
    {
     "name": "stdout",
     "output_type": "stream",
     "text": [
      "249931 22721\n"
     ]
    },
    {
     "name": "stderr",
     "output_type": "stream",
     "text": [
      "\r",
      " 34%|█████████████████████████████████████████████████████████████████████████████████████████████████████████████████████████████▊                                                                                                                                                                                                                                                    | 34/100 [1:10:15<2:16:59, 124.54s/it]"
     ]
    },
    {
     "name": "stdout",
     "output_type": "stream",
     "text": [
      "257158 23378\n"
     ]
    },
    {
     "name": "stderr",
     "output_type": "stream",
     "text": [
      "\r",
      " 35%|█████████████████████████████████████████████████████████████████████████████████████████████████████████████████████████████████▌                                                                                                                                                                                                                                                | 35/100 [1:12:17<2:13:57, 123.66s/it]"
     ]
    },
    {
     "name": "stdout",
     "output_type": "stream",
     "text": [
      "244090 22190\n"
     ]
    },
    {
     "name": "stderr",
     "output_type": "stream",
     "text": [
      "\r",
      " 36%|█████████████████████████████████████████████████████████████████████████████████████████████████████████████████████████████████████▏                                                                                                                                                                                                                                            | 36/100 [1:14:23<2:12:42, 124.42s/it]"
     ]
    },
    {
     "name": "stdout",
     "output_type": "stream",
     "text": [
      "250173 22743\n"
     ]
    },
    {
     "name": "stderr",
     "output_type": "stream",
     "text": [
      "\r",
      " 37%|████████████████████████████████████████████████████████████████████████████████████████████████████████████████████████████████████████▉                                                                                                                                                                                                                                         | 37/100 [1:16:32<2:12:03, 125.77s/it]"
     ]
    },
    {
     "name": "stdout",
     "output_type": "stream",
     "text": [
      "254188 23108\n"
     ]
    },
    {
     "name": "stderr",
     "output_type": "stream",
     "text": [
      "\r",
      " 38%|████████████████████████████████████████████████████████████████████████████████████████████████████████████████████████████████████████████▌                                                                                                                                                                                                                                     | 38/100 [1:18:41<2:10:54, 126.69s/it]"
     ]
    },
    {
     "name": "stdout",
     "output_type": "stream",
     "text": [
      "255255 23205\n"
     ]
    },
    {
     "name": "stderr",
     "output_type": "stream",
     "text": [
      "\r",
      " 39%|████████████████████████████████████████████████████████████████████████████████████████████████████████████████████████████████████████████████▎                                                                                                                                                                                                                                 | 39/100 [1:20:42<2:07:13, 125.14s/it]"
     ]
    },
    {
     "name": "stdout",
     "output_type": "stream",
     "text": [
      "260524 23684\n"
     ]
    },
    {
     "name": "stderr",
     "output_type": "stream",
     "text": [
      "\r",
      " 40%|████████████████████████████████████████████████████████████████████████████████████████████████████████████████████████████████████████████████████                                                                                                                                                                                                                              | 40/100 [1:22:51<2:06:09, 126.16s/it]"
     ]
    },
    {
     "name": "stdout",
     "output_type": "stream",
     "text": [
      "252032 22912\n"
     ]
    },
    {
     "name": "stderr",
     "output_type": "stream",
     "text": [
      "\r",
      " 41%|███████████████████████████████████████████████████████████████████████████████████████████████████████████████████████████████████████████████████████▋                                                                                                                                                                                                                          | 41/100 [1:25:00<2:04:53, 127.01s/it]"
     ]
    },
    {
     "name": "stdout",
     "output_type": "stream",
     "text": [
      "254496 23136\n"
     ]
    },
    {
     "name": "stderr",
     "output_type": "stream",
     "text": [
      "\r",
      " 42%|███████████████████████████████████████████████████████████████████████████████████████████████████████████████████████████████████████████████████████████▍                                                                                                                                                                                                                      | 42/100 [1:27:05<2:02:08, 126.35s/it]"
     ]
    },
    {
     "name": "stdout",
     "output_type": "stream",
     "text": [
      "252450 22950\n"
     ]
    },
    {
     "name": "stderr",
     "output_type": "stream",
     "text": [
      "\r",
      " 43%|███████████████████████████████████████████████████████████████████████████████████████████████████████████████████████████████████████████████████████████████                                                                                                                                                                                                                   | 43/100 [1:29:10<1:59:35, 125.89s/it]"
     ]
    },
    {
     "name": "stdout",
     "output_type": "stream",
     "text": [
      "252989 22999\n"
     ]
    },
    {
     "name": "stderr",
     "output_type": "stream",
     "text": [
      "\r",
      " 44%|██████████████████████████████████████████████████████████████████████████████████████████████████████████████████████████████████████████████████████████████████▊                                                                                                                                                                                                               | 44/100 [1:31:38<2:03:42, 132.55s/it]"
     ]
    },
    {
     "name": "stdout",
     "output_type": "stream",
     "text": [
      "251449 22859\n"
     ]
    },
    {
     "name": "stderr",
     "output_type": "stream",
     "text": [
      "\r",
      " 45%|██████████████████████████████████████████████████████████████████████████████████████████████████████████████████████████████████████████████████████████████████████▌                                                                                                                                                                                                           | 45/100 [1:33:47<2:00:38, 131.62s/it]"
     ]
    },
    {
     "name": "stdout",
     "output_type": "stream",
     "text": [
      "255024 23184\n"
     ]
    },
    {
     "name": "stderr",
     "output_type": "stream",
     "text": [
      "\r",
      " 46%|██████████████████████████████████████████████████████████████████████████████████████████████████████████████████████████████████████████████████████████████████████████▏                                                                                                                                                                                                       | 46/100 [1:35:55<1:57:25, 130.47s/it]"
     ]
    },
    {
     "name": "stdout",
     "output_type": "stream",
     "text": [
      "260337 23667\n"
     ]
    },
    {
     "name": "stderr",
     "output_type": "stream",
     "text": [
      "\r",
      " 47%|█████████████████████████████████████████████████████████████████████████████████████████████████████████████████████████████████████████████████████████████████████████████▉                                                                                                                                                                                                    | 47/100 [1:37:55<1:52:21, 127.20s/it]"
     ]
    },
    {
     "name": "stdout",
     "output_type": "stream",
     "text": [
      "252109 22919\n"
     ]
    },
    {
     "name": "stderr",
     "output_type": "stream",
     "text": [
      "\r",
      " 48%|█████████████████████████████████████████████████████████████████████████████████████████████████████████████████████████████████████████████████████████████████████████████████▌                                                                                                                                                                                                | 48/100 [1:40:01<1:49:57, 126.88s/it]"
     ]
    },
    {
     "name": "stdout",
     "output_type": "stream",
     "text": [
      "253407 23037\n"
     ]
    },
    {
     "name": "stderr",
     "output_type": "stream",
     "text": [
      "\r",
      " 49%|█████████████████████████████████████████████████████████████████████████████████████████████████████████████████████████████████████████████████████████████████████████████████████▎                                                                                                                                                                                            | 49/100 [1:41:59<1:45:40, 124.32s/it]"
     ]
    },
    {
     "name": "stdout",
     "output_type": "stream",
     "text": [
      "250316 22756\n"
     ]
    },
    {
     "name": "stderr",
     "output_type": "stream",
     "text": [
      "\r",
      " 50%|█████████████████████████████████████████████████████████████████████████████████████████████████████████████████████████████████████████████████████████████████████████████████████████                                                                                                                                                                                         | 50/100 [1:43:59<1:42:25, 122.92s/it]"
     ]
    },
    {
     "name": "stdout",
     "output_type": "stream",
     "text": [
      "253572 23052\n"
     ]
    },
    {
     "name": "stderr",
     "output_type": "stream",
     "text": [
      "\r",
      " 51%|████████████████████████████████████████████████████████████████████████████████████████████████████████████████████████████████████████████████████████████████████████████████████████████▋                                                                                                                                                                                     | 51/100 [1:46:01<1:40:17, 122.81s/it]"
     ]
    },
    {
     "name": "stdout",
     "output_type": "stream",
     "text": [
      "241373 21943\n"
     ]
    },
    {
     "name": "stderr",
     "output_type": "stream",
     "text": [
      "\r",
      " 52%|████████████████████████████████████████████████████████████████████████████████████████████████████████████████████████████████████████████████████████████████████████████████████████████████▍                                                                                                                                                                                 | 52/100 [1:48:01<1:37:28, 121.85s/it]"
     ]
    },
    {
     "name": "stdout",
     "output_type": "stream",
     "text": [
      "243914 22174\n"
     ]
    },
    {
     "name": "stderr",
     "output_type": "stream",
     "text": [
      "\r",
      " 53%|████████████████████████████████████████████████████████████████████████████████████████████████████████████████████████████████████████████████████████████████████████████████████████████████████                                                                                                                                                                              | 53/100 [1:49:54<1:33:23, 119.22s/it]"
     ]
    },
    {
     "name": "stdout",
     "output_type": "stream",
     "text": [
      "245685 22335\n"
     ]
    },
    {
     "name": "stderr",
     "output_type": "stream",
     "text": [
      "\r",
      " 54%|███████████████████████████████████████████████████████████████████████████████████████████████████████████████████████████████████████████████████████████████████████████████████████████████████████▊                                                                                                                                                                          | 54/100 [1:51:57<1:32:19, 120.43s/it]"
     ]
    },
    {
     "name": "stdout",
     "output_type": "stream",
     "text": [
      "264616 24056\n"
     ]
    },
    {
     "name": "stderr",
     "output_type": "stream",
     "text": [
      "\r",
      " 55%|███████████████████████████████████████████████████████████████████████████████████████████████████████████████████████████████████████████████████████████████████████████████████████████████████████████▌                                                                                                                                                                      | 55/100 [1:54:00<1:30:45, 121.01s/it]"
     ]
    },
    {
     "name": "stdout",
     "output_type": "stream",
     "text": [
      "251724 22884\n"
     ]
    },
    {
     "name": "stderr",
     "output_type": "stream",
     "text": [
      "\r",
      " 56%|███████████████████████████████████████████████████████████████████████████████████████████████████████████████████████████████████████████████████████████████████████████████████████████████████████████████▏                                                                                                                                                                  | 56/100 [1:56:13<1:31:24, 124.64s/it]"
     ]
    },
    {
     "name": "stdout",
     "output_type": "stream",
     "text": [
      "244970 22270\n"
     ]
    },
    {
     "name": "stderr",
     "output_type": "stream",
     "text": [
      "\r",
      " 57%|██████████████████████████████████████████████████████████████████████████████████████████████████████████████████████████████████████████████████████████████████████████████████████████████████████████████████▉                                                                                                                                                               | 57/100 [1:58:15<1:28:52, 124.00s/it]"
     ]
    },
    {
     "name": "stdout",
     "output_type": "stream",
     "text": [
      "249216 22656\n"
     ]
    },
    {
     "name": "stderr",
     "output_type": "stream",
     "text": [
      "\r",
      " 58%|██████████████████████████████████████████████████████████████████████████████████████████████████████████████████████████████████████████████████████████████████████████████████████████████████████████████████████▌                                                                                                                                                           | 58/100 [2:00:14<1:25:48, 122.59s/it]"
     ]
    },
    {
     "name": "stdout",
     "output_type": "stream",
     "text": [
      "255893 23263\n"
     ]
    },
    {
     "name": "stderr",
     "output_type": "stream",
     "text": [
      "\r",
      " 59%|██████████████████████████████████████████████████████████████████████████████████████████████████████████████████████████████████████████████████████████████████████████████████████████████████████████████████████████▎                                                                                                                                                       | 59/100 [2:02:21<1:24:29, 123.66s/it]"
     ]
    },
    {
     "name": "stdout",
     "output_type": "stream",
     "text": [
      "255904 23264\n"
     ]
    },
    {
     "name": "stderr",
     "output_type": "stream",
     "text": [
      "\r",
      " 60%|██████████████████████████████████████████████████████████████████████████████████████████████████████████████████████████████████████████████████████████████████████████████████████████████████████████████████████████████                                                                                                                                                    | 60/100 [2:04:21<1:21:52, 122.81s/it]"
     ]
    },
    {
     "name": "stdout",
     "output_type": "stream",
     "text": [
      "250481 22771\n"
     ]
    },
    {
     "name": "stderr",
     "output_type": "stream",
     "text": [
      "\r",
      " 61%|█████████████████████████████████████████████████████████████████████████████████████████████████████████████████████████████████████████████████████████████████████████████████████████████████████████████████████████████████▋                                                                                                                                                | 61/100 [2:06:24<1:19:51, 122.86s/it]"
     ]
    },
    {
     "name": "stdout",
     "output_type": "stream",
     "text": [
      "256707 23337\n"
     ]
    },
    {
     "name": "stderr",
     "output_type": "stream",
     "text": [
      "\r",
      " 62%|█████████████████████████████████████████████████████████████████████████████████████████████████████████████████████████████████████████████████████████████████████████████████████████████████████████████████████████████████████▍                                                                                                                                            | 62/100 [2:08:28<1:17:54, 123.00s/it]"
     ]
    },
    {
     "name": "stdout",
     "output_type": "stream",
     "text": [
      "251911 22901\n"
     ]
    },
    {
     "name": "stderr",
     "output_type": "stream",
     "text": [
      "\r",
      " 63%|█████████████████████████████████████████████████████████████████████████████████████████████████████████████████████████████████████████████████████████████████████████████████████████████████████████████████████████████████████████                                                                                                                                         | 63/100 [2:10:30<1:15:45, 122.85s/it]"
     ]
    },
    {
     "name": "stdout",
     "output_type": "stream",
     "text": [
      "249491 22681\n"
     ]
    },
    {
     "name": "stderr",
     "output_type": "stream",
     "text": [
      "\r",
      " 64%|████████████████████████████████████████████████████████████████████████████████████████████████████████████████████████████████████████████████████████████████████████████████████████████████████████████████████████████████████████████▊                                                                                                                                     | 64/100 [2:12:34<1:13:50, 123.08s/it]"
     ]
    },
    {
     "name": "stdout",
     "output_type": "stream",
     "text": [
      "254199 23109\n"
     ]
    },
    {
     "name": "stderr",
     "output_type": "stream",
     "text": [
      "\r",
      " 65%|████████████████████████████████████████████████████████████████████████████████████████████████████████████████████████████████████████████████████████████████████████████████████████████████████████████████████████████████████████████████▌                                                                                                                                 | 65/100 [2:14:37<1:11:44, 122.99s/it]"
     ]
    },
    {
     "name": "stdout",
     "output_type": "stream",
     "text": [
      "250096 22736\n"
     ]
    },
    {
     "name": "stderr",
     "output_type": "stream",
     "text": [
      "\r",
      " 66%|████████████████████████████████████████████████████████████████████████████████████████████████████████████████████████████████████████████████████████████████████████████████████████████████████████████████████████████████████████████████████▏                                                                                                                             | 66/100 [2:16:40<1:09:47, 123.17s/it]"
     ]
    },
    {
     "name": "stdout",
     "output_type": "stream",
     "text": [
      "249150 22650\n"
     ]
    },
    {
     "name": "stderr",
     "output_type": "stream",
     "text": [
      "\r",
      " 67%|███████████████████████████████████████████████████████████████████████████████████████████████████████████████████████████████████████████████████████████████████████████████████████████████████████████████████████████████████████████████████████▉                                                                                                                          | 67/100 [2:19:03<1:10:59, 129.08s/it]"
     ]
    },
    {
     "name": "stdout",
     "output_type": "stream",
     "text": [
      "261404 23764\n"
     ]
    },
    {
     "name": "stderr",
     "output_type": "stream",
     "text": [
      "\r",
      " 68%|███████████████████████████████████████████████████████████████████████████████████████████████████████████████████████████████████████████████████████████████████████████████████████████████████████████████████████████████████████████████████████████▌                                                                                                                      | 68/100 [2:21:09<1:08:16, 128.01s/it]"
     ]
    },
    {
     "name": "stdout",
     "output_type": "stream",
     "text": [
      "245014 22274\n"
     ]
    },
    {
     "name": "stderr",
     "output_type": "stream",
     "text": [
      "\r",
      " 69%|███████████████████████████████████████████████████████████████████████████████████████████████████████████████████████████████████████████████████████████████████████████████████████████████████████████████████████████████████████████████████████████████▎                                                                                                                  | 69/100 [2:23:15<1:05:54, 127.57s/it]"
     ]
    },
    {
     "name": "stdout",
     "output_type": "stream",
     "text": [
      "259853 23623\n"
     ]
    },
    {
     "name": "stderr",
     "output_type": "stream",
     "text": [
      "\r",
      " 70%|███████████████████████████████████████████████████████████████████████████████████████████████████████████████████████████████████████████████████████████████████████████████████████████████████████████████████████████████████████████████████████████████████                                                                                                               | 70/100 [2:25:19<1:03:11, 126.37s/it]"
     ]
    },
    {
     "name": "stdout",
     "output_type": "stream",
     "text": [
      "250316 22756\n"
     ]
    },
    {
     "name": "stderr",
     "output_type": "stream",
     "text": [
      "\r",
      " 71%|██████████████████████████████████████████████████████████████████████████████████████████████████████████████████████████████████████████████████████████████████████████████████████████████████████████████████████████████████████████████████████████████████████▋                                                                                                           | 71/100 [2:27:21<1:00:32, 125.27s/it]"
     ]
    },
    {
     "name": "stdout",
     "output_type": "stream",
     "text": [
      "258434 23494\n"
     ]
    },
    {
     "name": "stderr",
     "output_type": "stream",
     "text": [
      "\r",
      " 72%|███████████████████████████████████████████████████████████████████████████████████████████████████████████████████████████████████████████████████████████████████████████████████████████████████████████████████████████████████████████████████████████████████████████▊                                                                                                        | 72/100 [2:29:22<57:44, 123.75s/it]"
     ]
    },
    {
     "name": "stdout",
     "output_type": "stream",
     "text": [
      "251460 22860\n"
     ]
    },
    {
     "name": "stderr",
     "output_type": "stream",
     "text": [
      "\r",
      " 73%|███████████████████████████████████████████████████████████████████████████████████████████████████████████████████████████████████████████████████████████████████████████████████████████████████████████████████████████████████████████████████████████████████████████████▌                                                                                                    | 73/100 [2:31:22<55:12, 122.69s/it]"
     ]
    },
    {
     "name": "stdout",
     "output_type": "stream",
     "text": [
      "254947 23177\n"
     ]
    },
    {
     "name": "stderr",
     "output_type": "stream",
     "text": [
      "\r",
      " 74%|███████████████████████████████████████████████████████████████████████████████████████████████████████████████████████████████████████████████████████████████████████████████████████████████████████████████████████████████████████████████████████████████████████████████████▎                                                                                                | 74/100 [2:33:21<52:44, 121.73s/it]"
     ]
    },
    {
     "name": "stdout",
     "output_type": "stream",
     "text": [
      "251669 22879\n"
     ]
    },
    {
     "name": "stderr",
     "output_type": "stream",
     "text": [
      "\r",
      " 75%|███████████████████████████████████████████████████████████████████████████████████████████████████████████████████████████████████████████████████████████████████████████████████████████████████████████████████████████████████████████████████████████████████████████████████████                                                                                             | 75/100 [2:35:29<51:24, 123.38s/it]"
     ]
    },
    {
     "name": "stdout",
     "output_type": "stream",
     "text": [
      "249084 22644\n"
     ]
    },
    {
     "name": "stderr",
     "output_type": "stream",
     "text": [
      "\r",
      " 76%|██████████████████████████████████████████████████████████████████████████████████████████████████████████████████████████████████████████████████████████████████████████████████████████████████████████████████████████████████████████████████████████████████████████████████████████▋                                                                                         | 76/100 [2:37:31<49:16, 123.18s/it]"
     ]
    },
    {
     "name": "stdout",
     "output_type": "stream",
     "text": [
      "246444 22404\n"
     ]
    },
    {
     "name": "stderr",
     "output_type": "stream",
     "text": [
      "\r",
      " 77%|██████████████████████████████████████████████████████████████████████████████████████████████████████████████████████████████████████████████████████████████████████████████████████████████████████████████████████████████████████████████████████████████████████████████████████████████▍                                                                                     | 77/100 [2:39:34<47:10, 123.06s/it]"
     ]
    },
    {
     "name": "stdout",
     "output_type": "stream",
     "text": [
      "255970 23270\n"
     ]
    },
    {
     "name": "stderr",
     "output_type": "stream",
     "text": [
      "\r",
      " 78%|██████████████████████████████████████████████████████████████████████████████████████████████████████████████████████████████████████████████████████████████████████████████████████████████████████████████████████████████████████████████████████████████████████████████████████████████████▏                                                                                 | 78/100 [2:41:48<46:16, 126.20s/it]"
     ]
    },
    {
     "name": "stdout",
     "output_type": "stream",
     "text": [
      "251647 22877\n"
     ]
    },
    {
     "name": "stderr",
     "output_type": "stream",
     "text": [
      "\r",
      " 79%|█████████████████████████████████████████████████████████████████████████████████████████████████████████████████████████████████████████████████████████████████████████████████████████████████████████████████████████████████████████████████████████████████████████████████████████████████████▉                                                                              | 79/100 [2:43:47<43:25, 124.09s/it]"
     ]
    },
    {
     "name": "stdout",
     "output_type": "stream",
     "text": [
      "251053 22823\n"
     ]
    },
    {
     "name": "stderr",
     "output_type": "stream",
     "text": [
      "\r",
      " 80%|█████████████████████████████████████████████████████████████████████████████████████████████████████████████████████████████████████████████████████████████████████████████████████████████████████████████████████████████████████████████████████████████████████████████████████████████████████████▌                                                                          | 80/100 [2:45:43<40:37, 121.85s/it]"
     ]
    },
    {
     "name": "stdout",
     "output_type": "stream",
     "text": [
      "255541 23231\n"
     ]
    },
    {
     "name": "stderr",
     "output_type": "stream",
     "text": [
      "\r",
      " 81%|█████████████████████████████████████████████████████████████████████████████████████████████████████████████████████████████████████████████████████████████████████████████████████████████████████████████████████████████████████████████████████████████████████████████████████████████████████████████▎                                                                      | 81/100 [2:47:54<39:27, 124.59s/it]"
     ]
    },
    {
     "name": "stdout",
     "output_type": "stream",
     "text": [
      "249348 22668\n"
     ]
    },
    {
     "name": "stderr",
     "output_type": "stream",
     "text": [
      "\r",
      " 82%|█████████████████████████████████████████████████████████████████████████████████████████████████████████████████████████████████████████████████████████████████████████████████████████████████████████████████████████████████████████████████████████████████████████████████████████████████████████████████                                                                   | 82/100 [2:50:10<38:21, 127.87s/it]"
     ]
    },
    {
     "name": "stdout",
     "output_type": "stream",
     "text": [
      "256487 23317\n"
     ]
    },
    {
     "name": "stderr",
     "output_type": "stream",
     "text": [
      "\r",
      " 83%|████████████████████████████████████████████████████████████████████████████████████████████████████████████████████████████████████████████████████████████████████████████████████████████████████████████████████████████████████████████████████████████████████████████████████████████████████████████████████▊                                                               | 83/100 [2:52:27<37:02, 130.75s/it]"
     ]
    },
    {
     "name": "stdout",
     "output_type": "stream",
     "text": [
      "253726 23066\n"
     ]
    },
    {
     "name": "stderr",
     "output_type": "stream",
     "text": [
      "\r",
      " 84%|████████████████████████████████████████████████████████████████████████████████████████████████████████████████████████████████████████████████████████████████████████████████████████████████████████████████████████████████████████████████████████████████████████████████████████████████████████████████████████▍                                                           | 84/100 [2:54:28<34:03, 127.74s/it]"
     ]
    },
    {
     "name": "stdout",
     "output_type": "stream",
     "text": [
      "261030 23730\n"
     ]
    },
    {
     "name": "stderr",
     "output_type": "stream",
     "text": [
      "\r",
      " 85%|████████████████████████████████████████████████████████████████████████████████████████████████████████████████████████████████████████████████████████████████████████████████████████████████████████████████████████████████████████████████████████████████████████████████████████████████████████████████████████████▏                                                       | 85/100 [2:56:38<32:06, 128.43s/it]"
     ]
    },
    {
     "name": "stdout",
     "output_type": "stream",
     "text": [
      "242451 22041\n"
     ]
    },
    {
     "name": "stderr",
     "output_type": "stream",
     "text": [
      "\r",
      " 86%|███████████████████████████████████████████████████████████████████████████████████████████████████████████████████████████████████████████████████████████████████████████████████████████████████████████████████████████████████████████████████████████████████████████████████████████████████████████████████████████████▉                                                    | 86/100 [2:58:37<29:18, 125.60s/it]"
     ]
    },
    {
     "name": "stdout",
     "output_type": "stream",
     "text": [
      "258401 23491\n"
     ]
    },
    {
     "name": "stderr",
     "output_type": "stream",
     "text": [
      "\r",
      " 87%|███████████████████████████████████████████████████████████████████████████████████████████████████████████████████████████████████████████████████████████████████████████████████████████████████████████████████████████████████████████████████████████████████████████████████████████████████████████████████████████████████▋                                                | 87/100 [3:00:40<27:04, 124.94s/it]"
     ]
    },
    {
     "name": "stdout",
     "output_type": "stream",
     "text": [
      "250602 22782\n"
     ]
    },
    {
     "name": "stderr",
     "output_type": "stream",
     "text": [
      "\r",
      " 88%|███████████████████████████████████████████████████████████████████████████████████████████████████████████████████████████████████████████████████████████████████████████████████████████████████████████████████████████████████████████████████████████████████████████████████████████████████████████████████████████████████████▎                                            | 88/100 [3:02:51<25:20, 126.70s/it]"
     ]
    },
    {
     "name": "stdout",
     "output_type": "stream",
     "text": [
      "253561 23051\n"
     ]
    },
    {
     "name": "stderr",
     "output_type": "stream",
     "text": [
      "\r",
      " 89%|███████████████████████████████████████████████████████████████████████████████████████████████████████████████████████████████████████████████████████████████████████████████████████████████████████████████████████████████████████████████████████████████████████████████████████████████████████████████████████████████████████████                                         | 89/100 [3:05:15<24:08, 131.71s/it]"
     ]
    },
    {
     "name": "stdout",
     "output_type": "stream",
     "text": [
      "246642 22422\n"
     ]
    },
    {
     "name": "stderr",
     "output_type": "stream",
     "text": [
      "\r",
      " 90%|██████████████████████████████████████████████████████████████████████████████████████████████████████████████████████████████████████████████████████████████████████████████████████████████████████████████████████████████████████████████████████████████████████████████████████████████████████████████████████████████████████████████▊                                     | 90/100 [3:07:19<21:34, 129.50s/it]"
     ]
    },
    {
     "name": "stdout",
     "output_type": "stream",
     "text": [
      "253110 23010\n"
     ]
    },
    {
     "name": "stderr",
     "output_type": "stream",
     "text": [
      "\r",
      " 91%|██████████████████████████████████████████████████████████████████████████████████████████████████████████████████████████████████████████████████████████████████████████████████████████████████████████████████████████████████████████████████████████████████████████████████████████████████████████████████████████████████████████████████▌                                 | 91/100 [3:09:16<18:52, 125.78s/it]"
     ]
    },
    {
     "name": "stdout",
     "output_type": "stream",
     "text": [
      "259677 23607\n"
     ]
    },
    {
     "name": "stderr",
     "output_type": "stream",
     "text": [
      "\r",
      " 92%|██████████████████████████████████████████████████████████████████████████████████████████████████████████████████████████████████████████████████████████████████████████████████████████████████████████████████████████████████████████████████████████████████████████████████████████████████████████████████████████████████████████████████████▏                             | 92/100 [3:11:26<16:56, 127.01s/it]"
     ]
    },
    {
     "name": "stdout",
     "output_type": "stream",
     "text": [
      "255706 23246\n"
     ]
    },
    {
     "name": "stderr",
     "output_type": "stream",
     "text": [
      "\r",
      " 93%|█████████████████████████████████████████████████████████████████████████████████████████████████████████████████████████████████████████████████████████████████████████████████████████████████████████████████████████████████████████████████████████████████████████████████████████████████████████████████████████████████████████████████████████▉                          | 93/100 [3:13:40<15:02, 128.99s/it]"
     ]
    },
    {
     "name": "stdout",
     "output_type": "stream",
     "text": [
      "248369 22579\n"
     ]
    },
    {
     "name": "stderr",
     "output_type": "stream",
     "text": [
      "\r",
      " 94%|█████████████████████████████████████████████████████████████████████████████████████████████████████████████████████████████████████████████████████████████████████████████████████████████████████████████████████████████████████████████████████████████████████████████████████████████████████████████████████████████████████████████████████████████▋                      | 94/100 [3:15:45<12:48, 128.02s/it]"
     ]
    },
    {
     "name": "stdout",
     "output_type": "stream",
     "text": [
      "251471 22861\n"
     ]
    },
    {
     "name": "stderr",
     "output_type": "stream",
     "text": [
      "\r",
      " 95%|█████████████████████████████████████████████████████████████████████████████████████████████████████████████████████████████████████████████████████████████████████████████████████████████████████████████████████████████████████████████████████████████████████████████████████████████████████████████████████████████████████████████████████████████████▍                  | 95/100 [3:17:49<10:34, 126.83s/it]"
     ]
    },
    {
     "name": "stdout",
     "output_type": "stream",
     "text": [
      "249370 22670\n"
     ]
    },
    {
     "name": "stderr",
     "output_type": "stream",
     "text": [
      "\r",
      " 96%|█████████████████████████████████████████████████████████████████████████████████████████████████████████████████████████████████████████████████████████████████████████████████████████████████████████████████████████████████████████████████████████████████████████████████████████████████████████████████████████████████████████████████████████████████████               | 96/100 [3:19:46<08:14, 123.66s/it]"
     ]
    },
    {
     "name": "stdout",
     "output_type": "stream",
     "text": [
      "256894 23354\n"
     ]
    },
    {
     "name": "stderr",
     "output_type": "stream",
     "text": [
      "\r",
      " 97%|████████████████████████████████████████████████████████████████████████████████████████████████████████████████████████████████████████████████████████████████████████████████████████████████████████████████████████████████████████████████████████████████████████████████████████████████████████████████████████████████████████████████████████████████████████▊           | 97/100 [3:21:46<06:07, 122.58s/it]"
     ]
    },
    {
     "name": "stdout",
     "output_type": "stream",
     "text": [
      "259688 23608\n"
     ]
    },
    {
     "name": "stderr",
     "output_type": "stream",
     "text": [
      "\r",
      " 98%|████████████████████████████████████████████████████████████████████████████████████████████████████████████████████████████████████████████████████████████████████████████████████████████████████████████████████████████████████████████████████████████████████████████████████████████████████████████████████████████████████████████████████████████████████████████▌       | 98/100 [3:23:50<04:06, 123.23s/it]"
     ]
    },
    {
     "name": "stdout",
     "output_type": "stream",
     "text": [
      "252384 22944\n"
     ]
    },
    {
     "name": "stderr",
     "output_type": "stream",
     "text": [
      "\r",
      " 99%|████████████████████████████████████████████████████████████████████████████████████████████████████████████████████████████████████████████████████████████████████████████████████████████████████████████████████████████████████████████████████████████████████████████████████████████████████████████████████████████████████████████████████████████████████████████████▎   | 99/100 [3:25:53<02:03, 123.06s/it]"
     ]
    },
    {
     "name": "stdout",
     "output_type": "stream",
     "text": [
      "246994 22454\n"
     ]
    },
    {
     "name": "stderr",
     "output_type": "stream",
     "text": [
      "100%|███████████████████████████████████████████████████████████████████████████████████████████████████████████████████████████████████████████████████████████████████████████████████████████████████████████████████████████████████████████████████████████████████████████████████████████████████████████████████████████████████████████████████████████████████████████████████| 100/100 [3:28:09<00:00, 124.90s/it]\n"
     ]
    }
   ],
   "source": [
    "# block = 100\n",
    "from numpy.random import default_rng\n",
    "# for random sample without duplicates\n",
    "rng = default_rng()\n",
    "\n",
    "\n",
    "def sample_neg(cur_list, anchor_list, n_sample=10):\n",
    "    res = []\n",
    "    for pid in cur_list:\n",
    "        #print(len(anchor_list), rng.choice(len(anchor_list), n_sample*2))\n",
    "        t = anchor_list[rng.choice(len(anchor_list), n_sample*3)]\n",
    "        t = list(set(t) - set(cur_list))[:n_sample]\n",
    "        res += [(pid, i, 0) for i in t]\n",
    "        # print(\"neg:\", pid, cur_list, t)\n",
    "    # print(\"neg:\", len(cur_list), len(res))\n",
    "    return res\n",
    "\n",
    "def sample_pos(cur_list, n_sample=1):\n",
    "    res = []\n",
    "    for pid in cur_list:\n",
    "        t = []\n",
    "        while len(t) < n_sample:\n",
    "            t_id = cur_list[np.random.choice(len(cur_list), 1)[0]]\n",
    "            # print(len(cur_list), np.random.choice(len(cur_list), 1)[0])\n",
    "            if t_id not in t and t_id != pid:\n",
    "                t.append(t_id)\n",
    "        res += [(pid, i, 1) for i in t]\n",
    "    # print(\"pos:\", cur_list, res)\n",
    "    return res\n",
    "\n",
    "for i in tqdm(range(block)):\n",
    "    lb, rb = int(itvs[i]), int(itvs[i+1])\n",
    "    paths_block = [data_dir/f\"train/{int(gid)}.csv\" for gid in arr[lb:rb]]\n",
    "    #print(paths_block[:5])\n",
    "    df = pd.concat([pd.read_csv(path) for path in paths_block])\n",
    "    \n",
    "    id_list = df[\"fid\"].values\n",
    "    pair_list = []\n",
    "    for idx, gdf in df.groupby(\"gid\"):\n",
    "        cur_list = gdf[\"fid\"].values\n",
    "        pair_list += sample_neg(cur_list, id_list)\n",
    "        pair_list += sample_pos(cur_list)\n",
    "    print(len(pair_list), len(df))\n",
    "    df.to_csv(data_dir/f\"train/block{i}.csv\")\n",
    "    pickle.dump(pair_list, open(data_dir/f\"train/block{i}.bin\", \"wb\"))\n",
    "        "
   ]
  },
  {
   "cell_type": "code",
   "execution_count": 50,
   "id": "e28d98f5",
   "metadata": {},
   "outputs": [],
   "source": [
    "df = pd.read_csv(data_dir/f\"train/block{int(1)}.csv\")\n"
   ]
  },
  {
   "cell_type": "code",
   "execution_count": 51,
   "id": "93a4af05",
   "metadata": {},
   "outputs": [
    {
     "data": {
      "text/plain": [
       "0    [[4789496, 'fd7bb8a9', 'stp\\tx29, x30, [sp, #-0x80]!'], [4789500, 'fd030091', 'mov\\tx29, sp'], [4789504, 'f35301a9', 'stp\\tx19, x20, [sp, #0x10]'], [4789508, 'fb7305a9', 'stp\\tx27, x28, [sp, #0x50]'], [4789512, 'fb0300aa', 'mov\\tx27, x0'], [4789516, 'e13f00f9', 'str\\tx1, [sp, #0x78]'], [4789520, '009864b9', 'ldr\\tw0, [x0, #0x2498]'], [4789524, '1f000071', 'cmp\\tw0, #0'], [4789528, '8d0e0054', 'b.le\\t#0x4916e8'], [4789532, 'f55b02a9', 'stp\\tx21, x22, [sp, #0x20]'], [4789536, 'f76303a9', 'stp\\...\n",
       "1    [[4035574, '4157', 'push\\tr15'], [4035576, '4531c0', 'xor\\tr8d, r8d'], [4035579, '4531ff', 'xor\\tr15d, r15d'], [4035582, '4156', 'push\\tr14'], [4035584, '4155', 'push\\tr13'], [4035586, '4989f5', 'mov\\tr13, rsi'], [4035589, '4154', 'push\\tr12'], [4035591, '55', 'push\\trbp'], [4035592, '4889fd', 'mov\\trbp, rdi'], [4035595, '53', 'push\\trbx'], [4035596, '31db', 'xor\\tebx, ebx'], [4035598, '4883ec28', 'sub\\trsp, 0x28'], [4035602, '4439bd98240000', 'cmp\\tdword ptr [rbp + 0x2498], r15d'], [4035609...\n",
       "2    [[10951148, '30482de9', 'push\\t{r4, r5, fp, lr}'], [10951152, '0cb08de2', 'add\\tfp, sp, #0xc'], [10951156, '58d04de2', 'sub\\tsp, sp, #0x58'], [10951160, '58000be5', 'str\\tr0, [fp, #-0x58]'], [10951164, '5c100be5', 'str\\tr1, [fp, #-0x5c]'], [10951168, 'dc449fe5', 'ldr\\tr4, [pc, #0x4dc]'], [10951172, '0000a0e1', 'mov\\tr0, r0'], [10951176, '0030a0e3', 'mov\\tr3, #0'], [10951180, '50300be5', 'str\\tr3, [fp, #-0x50]'], [10951184, '0030a0e3', 'mov\\tr3, #0'], [10951188, '4c300be5', 'str\\tr3, [fp, #-0...\n",
       "3    [[9495832, 'fd7bb9a9', 'stp\\tx29, x30, [sp, #-0x70]!'], [9495836, 'fd030091', 'mov\\tx29, sp'], [9495840, 'e00f00f9', 'str\\tx0, [sp, #0x18]'], [9495844, 'e10b00f9', 'str\\tx1, [sp, #0x10]'], [9495848, 'ff2700b9', 'str\\twzr, [sp, #0x24]'], [9495852, 'ff2b00b9', 'str\\twzr, [sp, #0x28]'], [9495856, 'a7000014', 'b\\t#0x90e7cc'], [9495860, 'e02b40b9', 'ldr\\tw0, [sp, #0x28]'], [9495864, '1f000071', 'cmp\\tw0, #0'], [9495868, 'e0079f1a', 'cset\\tw0, ne'], [9495872, '001c0012', 'and\\tw0, w0, #0xff'], [94...\n",
       "4    [[4601216, 'fd7bb7a9', 'stp\\tx29, x30, [sp, #-0x90]!'], [4601220, 'fd030091', 'mov\\tx29, sp'], [4601224, 'f35301a9', 'stp\\tx19, x20, [sp, #0x10]'], [4601228, 'f40300aa', 'mov\\tx20, x0'], [4601232, '009864b9', 'ldr\\tw0, [x0, #0x2498]'], [4601236, 'e14700f9', 'str\\tx1, [sp, #0x88]'], [4601240, '1f000071', 'cmp\\tw0, #0'], [4601244, '4d130054', 'b.le\\t#0x463804'], [4601248, 'a62300f0', 'adrp\\tx6, #0x8da000'], [4601252, '0a0080d2', 'movz\\tx10, #0'], [4601256, '09008052', 'movz\\tw9, #0'], [4601260...\n",
       "Name: code, dtype: object"
      ]
     },
     "execution_count": 51,
     "metadata": {},
     "output_type": "execute_result"
    }
   ],
   "source": [
    "pd.set_option('max_colwidth', 500)\n",
    "df[\"code\"].head()"
   ]
  },
  {
   "cell_type": "code",
   "execution_count": 52,
   "id": "855cd032",
   "metadata": {},
   "outputs": [
    {
     "data": {
      "text/html": [
       "<div>\n",
       "<style scoped>\n",
       "    .dataframe tbody tr th:only-of-type {\n",
       "        vertical-align: middle;\n",
       "    }\n",
       "\n",
       "    .dataframe tbody tr th {\n",
       "        vertical-align: top;\n",
       "    }\n",
       "\n",
       "    .dataframe thead th {\n",
       "        text-align: right;\n",
       "    }\n",
       "</style>\n",
       "<table border=\"1\" class=\"dataframe\">\n",
       "  <thead>\n",
       "    <tr style=\"text-align: right;\">\n",
       "      <th></th>\n",
       "      <th>Unnamed: 0.1</th>\n",
       "      <th>Unnamed: 0</th>\n",
       "      <th>fid</th>\n",
       "      <th>arch</th>\n",
       "      <th>compiler</th>\n",
       "      <th>opti</th>\n",
       "      <th>code</th>\n",
       "      <th>block</th>\n",
       "      <th>cfg</th>\n",
       "      <th>gid</th>\n",
       "    </tr>\n",
       "  </thead>\n",
       "  <tbody>\n",
       "    <tr>\n",
       "      <th>0</th>\n",
       "      <td>0</td>\n",
       "      <td>143020</td>\n",
       "      <td>69478</td>\n",
       "      <td>arm_64</td>\n",
       "      <td>gcc</td>\n",
       "      <td>O1</td>\n",
       "      <td>[[4789496, 'fd7bb8a9', 'stp\\tx29, x30, [sp, #-0x80]!'], [4789500, 'fd030091', 'mov\\tx29, sp'], [4789504, 'f35301a9', 'stp\\tx19, x20, [sp, #0x10]'], [4789508, 'fb7305a9', 'stp\\tx27, x28, [sp, #0x50]'], [4789512, 'fb0300aa', 'mov\\tx27, x0'], [4789516, 'e13f00f9', 'str\\tx1, [sp, #0x78]'], [4789520, '009864b9', 'ldr\\tw0, [x0, #0x2498]'], [4789524, '1f000071', 'cmp\\tw0, #0'], [4789528, '8d0e0054', 'b.le\\t#0x4916e8'], [4789532, 'f55b02a9', 'stp\\tx21, x22, [sp, #0x20]'], [4789536, 'f76303a9', 'stp\\...</td>\n",
       "      <td>[[0, 4789496, 4789532], [1, 4789532, 4789572], [2, 4789572, 4789588], [3, 4789588, 4789612], [4, 4789612, 4789628], [5, 4789628, 4789636], [6, 4789636, 4789640], [7, 4789640, 4789652], [8, 4789652, 4789684], [9, 4789684, 4789700], [10, 4789700, 4789708], [11, 4789708, 4789712], [12, 4789712, 4789752], [13, 4789752, 4789796], [14, 4789796, 4789808], [15, 4789808, 4789820], [16, 4789820, 4789844], [17, 4789844, 4789860], [18, 4789860, 4789892], [19, 4789892, 4789932], [20, 4789932, 4789948], [...</td>\n",
       "      <td>[[0, 1], [0, 22], [1, 13], [2, 3], [3, 4], [3, 3], [4, 5], [4, 30], [5, 2], [5, 6], [6, 4], [7, 8], [8, 9], [8, 8], [9, 10], [9, 26], [10, 7], [10, 11], [11, 9], [12, 13], [12, 14], [13, 28], [14, 15], [14, 21], [15, 16], [16, 17], [16, 23], [17, 18], [18, 19], [18, 24], [19, 20], [22, 16], [23, 18], [24, 20], [25, 26], [25, 32], [26, 12], [26, 27], [27, 28], [28, 25], [28, 29], [29, 5], [30, 31], [30, 33], [31, 10], [32, 27], [33, 31]]</td>\n",
       "      <td>50694</td>\n",
       "    </tr>\n",
       "    <tr>\n",
       "      <th>1</th>\n",
       "      <td>1</td>\n",
       "      <td>168406</td>\n",
       "      <td>2050011</td>\n",
       "      <td>x86_64</td>\n",
       "      <td>gcc</td>\n",
       "      <td>Os</td>\n",
       "      <td>[[4035574, '4157', 'push\\tr15'], [4035576, '4531c0', 'xor\\tr8d, r8d'], [4035579, '4531ff', 'xor\\tr15d, r15d'], [4035582, '4156', 'push\\tr14'], [4035584, '4155', 'push\\tr13'], [4035586, '4989f5', 'mov\\tr13, rsi'], [4035589, '4154', 'push\\tr12'], [4035591, '55', 'push\\trbp'], [4035592, '4889fd', 'mov\\trbp, rdi'], [4035595, '53', 'push\\trbx'], [4035596, '31db', 'xor\\tebx, ebx'], [4035598, '4883ec28', 'sub\\trsp, 0x28'], [4035602, '4439bd98240000', 'cmp\\tdword ptr [rbp + 0x2498], r15d'], [4035609...</td>\n",
       "      <td>[[0, 4035574, 4035602], [1, 4035602, 4035615], [2, 4035615, 4035638], [3, 4035638, 4035752], [4, 4035752, 4035759], [5, 4035759, 4035778], [6, 4035778, 4035783], [7, 4035783, 4035809], [8, 4035809, 4035817], [9, 4035817, 4035822], [10, 4035822, 4035878], [11, 4035878, 4035884], [12, 4035884, 4035891], [13, 4035891, 4035902], [14, 4035902, 4035907], [15, 4035907, 4035941], [16, 4035941, 4035949], [17, 4035949, 4035969], [18, 4035969, 4035984], [19, 4035984, 4035992], [20, 4035992, 4036035], [...</td>\n",
       "      <td>[[0, 1], [1, 2], [1, 19], [2, 3], [3, 4], [4, 5], [4, 9], [5, 6], [6, 7], [6, 8], [7, 6], [8, 4], [9, 10], [9, 11], [10, 11], [11, 12], [12, 13], [12, 17], [13, 14], [14, 15], [14, 16], [15, 14], [16, 12], [17, 3], [17, 18], [18, 1], [19, 20], [19, 21], [21, 22], [21, 23], [22, 24], [23, 24], [24, 25], [24, 26], [25, 26]]</td>\n",
       "      <td>50694</td>\n",
       "    </tr>\n",
       "    <tr>\n",
       "      <th>2</th>\n",
       "      <td>2</td>\n",
       "      <td>495454</td>\n",
       "      <td>3008163</td>\n",
       "      <td>arm_32</td>\n",
       "      <td>gcc</td>\n",
       "      <td>O0</td>\n",
       "      <td>[[10951148, '30482de9', 'push\\t{r4, r5, fp, lr}'], [10951152, '0cb08de2', 'add\\tfp, sp, #0xc'], [10951156, '58d04de2', 'sub\\tsp, sp, #0x58'], [10951160, '58000be5', 'str\\tr0, [fp, #-0x58]'], [10951164, '5c100be5', 'str\\tr1, [fp, #-0x5c]'], [10951168, 'dc449fe5', 'ldr\\tr4, [pc, #0x4dc]'], [10951172, '0000a0e1', 'mov\\tr0, r0'], [10951176, '0030a0e3', 'mov\\tr3, #0'], [10951180, '50300be5', 'str\\tr3, [fp, #-0x50]'], [10951184, '0030a0e3', 'mov\\tr3, #0'], [10951188, '4c300be5', 'str\\tr3, [fp, #-0...</td>\n",
       "      <td>[[0, 10951148, 10951196], [1, 10951196, 10951224], [2, 10951224, 10951404], [3, 10951404, 10951412], [4, 10951412, 10951428], [5, 10951428, 10951436], [6, 10951436, 10951440], [7, 10951440, 10951516], [8, 10951516, 10951528], [9, 10951528, 10951624], [10, 10951624, 10951640], [11, 10951640, 10951652], [12, 10951652, 10951668], [13, 10951668, 10951680], [14, 10951680, 10951716], [15, 10951716, 10951728], [16, 10951728, 10951740], [17, 10951740, 10951836], [18, 10951836, 10951852], [19, 109518...</td>\n",
       "      <td>[[0, 24], [1, 22], [2, 3], [2, 4], [3, 7], [4, 5], [4, 6], [5, 7], [6, 7], [7, 12], [8, 10], [9, 10], [10, 9], [10, 11], [11, 12], [12, 8], [12, 13], [13, 14], [13, 15], [14, 15], [15, 20], [16, 18], [17, 18], [18, 17], [18, 19], [19, 20], [20, 16], [20, 21], [21, 22], [22, 2], [22, 23], [23, 24], [24, 1], [24, 25], [25, 26], [25, 27], [27, 28], [27, 29], [28, 30], [29, 30], [30, 31], [30, 32], [31, 33], [32, 33]]</td>\n",
       "      <td>50694</td>\n",
       "    </tr>\n",
       "    <tr>\n",
       "      <th>3</th>\n",
       "      <td>3</td>\n",
       "      <td>599932</td>\n",
       "      <td>1780911</td>\n",
       "      <td>arm_64</td>\n",
       "      <td>gcc</td>\n",
       "      <td>O0</td>\n",
       "      <td>[[9495832, 'fd7bb9a9', 'stp\\tx29, x30, [sp, #-0x70]!'], [9495836, 'fd030091', 'mov\\tx29, sp'], [9495840, 'e00f00f9', 'str\\tx0, [sp, #0x18]'], [9495844, 'e10b00f9', 'str\\tx1, [sp, #0x10]'], [9495848, 'ff2700b9', 'str\\twzr, [sp, #0x24]'], [9495852, 'ff2b00b9', 'str\\twzr, [sp, #0x28]'], [9495856, 'a7000014', 'b\\t#0x90e7cc'], [9495860, 'e02b40b9', 'ldr\\tw0, [sp, #0x28]'], [9495864, '1f000071', 'cmp\\tw0, #0'], [9495868, 'e0079f1a', 'cset\\tw0, ne'], [9495872, '001c0012', 'and\\tw0, w0, #0xff'], [94...</td>\n",
       "      <td>[[0, 9495832, 9495860], [1, 9495860, 9495884], [2, 9495884, 9496032], [3, 9496032, 9496040], [4, 9496040, 9496056], [5, 9496056, 9496064], [6, 9496064, 9496068], [7, 9496068, 9496140], [8, 9496140, 9496148], [9, 9496148, 9496248], [10, 9496248, 9496264], [11, 9496264, 9496276], [12, 9496276, 9496292], [13, 9496292, 9496304], [14, 9496304, 9496332], [15, 9496332, 9496340], [16, 9496340, 9496348], [17, 9496348, 9496444], [18, 9496444, 9496460], [19, 9496460, 9496472], [20, 9496472, 9496488], [...</td>\n",
       "      <td>[[0, 24], [1, 22], [2, 3], [2, 4], [3, 7], [4, 5], [4, 6], [5, 7], [6, 7], [7, 12], [8, 10], [9, 10], [10, 9], [10, 11], [11, 12], [12, 8], [12, 13], [13, 14], [13, 15], [14, 15], [15, 20], [16, 18], [17, 18], [18, 17], [18, 19], [19, 20], [20, 16], [20, 21], [21, 22], [22, 2], [22, 23], [23, 24], [24, 1], [24, 25], [25, 26], [25, 27], [27, 28], [27, 29], [28, 30], [29, 30], [30, 31], [30, 32], [31, 33], [32, 33]]</td>\n",
       "      <td>50694</td>\n",
       "    </tr>\n",
       "    <tr>\n",
       "      <th>4</th>\n",
       "      <td>4</td>\n",
       "      <td>642683</td>\n",
       "      <td>1247435</td>\n",
       "      <td>arm_64</td>\n",
       "      <td>gcc</td>\n",
       "      <td>O2</td>\n",
       "      <td>[[4601216, 'fd7bb7a9', 'stp\\tx29, x30, [sp, #-0x90]!'], [4601220, 'fd030091', 'mov\\tx29, sp'], [4601224, 'f35301a9', 'stp\\tx19, x20, [sp, #0x10]'], [4601228, 'f40300aa', 'mov\\tx20, x0'], [4601232, '009864b9', 'ldr\\tw0, [x0, #0x2498]'], [4601236, 'e14700f9', 'str\\tx1, [sp, #0x88]'], [4601240, '1f000071', 'cmp\\tw0, #0'], [4601244, '4d130054', 'b.le\\t#0x463804'], [4601248, 'a62300f0', 'adrp\\tx6, #0x8da000'], [4601252, '0a0080d2', 'movz\\tx10, #0'], [4601256, '09008052', 'movz\\tw9, #0'], [4601260...</td>\n",
       "      <td>[[0, 4601216, 4601248], [1, 4601248, 4601292], [2, 4601292, 4601324], [3, 4601324, 4601392], [4, 4601392, 4601400], [5, 4601400, 4601408], [6, 4601408, 4601424], [7, 4601424, 4601444], [8, 4601444, 4601460], [9, 4601460, 4601468], [10, 4601468, 4601488], [11, 4601488, 4601496], [12, 4601496, 4601512], [13, 4601512, 4601544], [14, 4601544, 4601560], [15, 4601560, 4601568], [16, 4601568, 4601584], [17, 4601584, 4601608], [18, 4601608, 4601620], [19, 4601620, 4601644], [20, 4601644, 4601664], [...</td>\n",
       "      <td>[[0, 1], [0, 29], [1, 2], [2, 3], [3, 4], [3, 26], [4, 5], [5, 6], [5, 8], [6, 7], [7, 8], [7, 7], [8, 5], [8, 9], [9, 10], [9, 25], [10, 11], [11, 12], [11, 14], [12, 13], [13, 14], [13, 13], [14, 11], [14, 15], [15, 16], [15, 17], [16, 3], [17, 2], [17, 18], [18, 19], [18, 30], [19, 20], [20, 21], [20, 28], [21, 22], [22, 23], [22, 31], [23, 24], [25, 10], [26, 15], [26, 27], [27, 16], [28, 22], [29, 20], [31, 24]]</td>\n",
       "      <td>50694</td>\n",
       "    </tr>\n",
       "  </tbody>\n",
       "</table>\n",
       "</div>"
      ],
      "text/plain": [
       "   Unnamed: 0.1  Unnamed: 0      fid    arch compiler opti  \\\n",
       "0             0      143020    69478  arm_64      gcc   O1   \n",
       "1             1      168406  2050011  x86_64      gcc   Os   \n",
       "2             2      495454  3008163  arm_32      gcc   O0   \n",
       "3             3      599932  1780911  arm_64      gcc   O0   \n",
       "4             4      642683  1247435  arm_64      gcc   O2   \n",
       "\n",
       "                                                                                                                                                                                                                                                                                                                                                                                                                                                                                                                  code  \\\n",
       "0  [[4789496, 'fd7bb8a9', 'stp\\tx29, x30, [sp, #-0x80]!'], [4789500, 'fd030091', 'mov\\tx29, sp'], [4789504, 'f35301a9', 'stp\\tx19, x20, [sp, #0x10]'], [4789508, 'fb7305a9', 'stp\\tx27, x28, [sp, #0x50]'], [4789512, 'fb0300aa', 'mov\\tx27, x0'], [4789516, 'e13f00f9', 'str\\tx1, [sp, #0x78]'], [4789520, '009864b9', 'ldr\\tw0, [x0, #0x2498]'], [4789524, '1f000071', 'cmp\\tw0, #0'], [4789528, '8d0e0054', 'b.le\\t#0x4916e8'], [4789532, 'f55b02a9', 'stp\\tx21, x22, [sp, #0x20]'], [4789536, 'f76303a9', 'stp\\...   \n",
       "1  [[4035574, '4157', 'push\\tr15'], [4035576, '4531c0', 'xor\\tr8d, r8d'], [4035579, '4531ff', 'xor\\tr15d, r15d'], [4035582, '4156', 'push\\tr14'], [4035584, '4155', 'push\\tr13'], [4035586, '4989f5', 'mov\\tr13, rsi'], [4035589, '4154', 'push\\tr12'], [4035591, '55', 'push\\trbp'], [4035592, '4889fd', 'mov\\trbp, rdi'], [4035595, '53', 'push\\trbx'], [4035596, '31db', 'xor\\tebx, ebx'], [4035598, '4883ec28', 'sub\\trsp, 0x28'], [4035602, '4439bd98240000', 'cmp\\tdword ptr [rbp + 0x2498], r15d'], [4035609...   \n",
       "2  [[10951148, '30482de9', 'push\\t{r4, r5, fp, lr}'], [10951152, '0cb08de2', 'add\\tfp, sp, #0xc'], [10951156, '58d04de2', 'sub\\tsp, sp, #0x58'], [10951160, '58000be5', 'str\\tr0, [fp, #-0x58]'], [10951164, '5c100be5', 'str\\tr1, [fp, #-0x5c]'], [10951168, 'dc449fe5', 'ldr\\tr4, [pc, #0x4dc]'], [10951172, '0000a0e1', 'mov\\tr0, r0'], [10951176, '0030a0e3', 'mov\\tr3, #0'], [10951180, '50300be5', 'str\\tr3, [fp, #-0x50]'], [10951184, '0030a0e3', 'mov\\tr3, #0'], [10951188, '4c300be5', 'str\\tr3, [fp, #-0...   \n",
       "3  [[9495832, 'fd7bb9a9', 'stp\\tx29, x30, [sp, #-0x70]!'], [9495836, 'fd030091', 'mov\\tx29, sp'], [9495840, 'e00f00f9', 'str\\tx0, [sp, #0x18]'], [9495844, 'e10b00f9', 'str\\tx1, [sp, #0x10]'], [9495848, 'ff2700b9', 'str\\twzr, [sp, #0x24]'], [9495852, 'ff2b00b9', 'str\\twzr, [sp, #0x28]'], [9495856, 'a7000014', 'b\\t#0x90e7cc'], [9495860, 'e02b40b9', 'ldr\\tw0, [sp, #0x28]'], [9495864, '1f000071', 'cmp\\tw0, #0'], [9495868, 'e0079f1a', 'cset\\tw0, ne'], [9495872, '001c0012', 'and\\tw0, w0, #0xff'], [94...   \n",
       "4  [[4601216, 'fd7bb7a9', 'stp\\tx29, x30, [sp, #-0x90]!'], [4601220, 'fd030091', 'mov\\tx29, sp'], [4601224, 'f35301a9', 'stp\\tx19, x20, [sp, #0x10]'], [4601228, 'f40300aa', 'mov\\tx20, x0'], [4601232, '009864b9', 'ldr\\tw0, [x0, #0x2498]'], [4601236, 'e14700f9', 'str\\tx1, [sp, #0x88]'], [4601240, '1f000071', 'cmp\\tw0, #0'], [4601244, '4d130054', 'b.le\\t#0x463804'], [4601248, 'a62300f0', 'adrp\\tx6, #0x8da000'], [4601252, '0a0080d2', 'movz\\tx10, #0'], [4601256, '09008052', 'movz\\tw9, #0'], [4601260...   \n",
       "\n",
       "                                                                                                                                                                                                                                                                                                                                                                                                                                                                                                                 block  \\\n",
       "0  [[0, 4789496, 4789532], [1, 4789532, 4789572], [2, 4789572, 4789588], [3, 4789588, 4789612], [4, 4789612, 4789628], [5, 4789628, 4789636], [6, 4789636, 4789640], [7, 4789640, 4789652], [8, 4789652, 4789684], [9, 4789684, 4789700], [10, 4789700, 4789708], [11, 4789708, 4789712], [12, 4789712, 4789752], [13, 4789752, 4789796], [14, 4789796, 4789808], [15, 4789808, 4789820], [16, 4789820, 4789844], [17, 4789844, 4789860], [18, 4789860, 4789892], [19, 4789892, 4789932], [20, 4789932, 4789948], [...   \n",
       "1  [[0, 4035574, 4035602], [1, 4035602, 4035615], [2, 4035615, 4035638], [3, 4035638, 4035752], [4, 4035752, 4035759], [5, 4035759, 4035778], [6, 4035778, 4035783], [7, 4035783, 4035809], [8, 4035809, 4035817], [9, 4035817, 4035822], [10, 4035822, 4035878], [11, 4035878, 4035884], [12, 4035884, 4035891], [13, 4035891, 4035902], [14, 4035902, 4035907], [15, 4035907, 4035941], [16, 4035941, 4035949], [17, 4035949, 4035969], [18, 4035969, 4035984], [19, 4035984, 4035992], [20, 4035992, 4036035], [...   \n",
       "2  [[0, 10951148, 10951196], [1, 10951196, 10951224], [2, 10951224, 10951404], [3, 10951404, 10951412], [4, 10951412, 10951428], [5, 10951428, 10951436], [6, 10951436, 10951440], [7, 10951440, 10951516], [8, 10951516, 10951528], [9, 10951528, 10951624], [10, 10951624, 10951640], [11, 10951640, 10951652], [12, 10951652, 10951668], [13, 10951668, 10951680], [14, 10951680, 10951716], [15, 10951716, 10951728], [16, 10951728, 10951740], [17, 10951740, 10951836], [18, 10951836, 10951852], [19, 109518...   \n",
       "3  [[0, 9495832, 9495860], [1, 9495860, 9495884], [2, 9495884, 9496032], [3, 9496032, 9496040], [4, 9496040, 9496056], [5, 9496056, 9496064], [6, 9496064, 9496068], [7, 9496068, 9496140], [8, 9496140, 9496148], [9, 9496148, 9496248], [10, 9496248, 9496264], [11, 9496264, 9496276], [12, 9496276, 9496292], [13, 9496292, 9496304], [14, 9496304, 9496332], [15, 9496332, 9496340], [16, 9496340, 9496348], [17, 9496348, 9496444], [18, 9496444, 9496460], [19, 9496460, 9496472], [20, 9496472, 9496488], [...   \n",
       "4  [[0, 4601216, 4601248], [1, 4601248, 4601292], [2, 4601292, 4601324], [3, 4601324, 4601392], [4, 4601392, 4601400], [5, 4601400, 4601408], [6, 4601408, 4601424], [7, 4601424, 4601444], [8, 4601444, 4601460], [9, 4601460, 4601468], [10, 4601468, 4601488], [11, 4601488, 4601496], [12, 4601496, 4601512], [13, 4601512, 4601544], [14, 4601544, 4601560], [15, 4601560, 4601568], [16, 4601568, 4601584], [17, 4601584, 4601608], [18, 4601608, 4601620], [19, 4601620, 4601644], [20, 4601644, 4601664], [...   \n",
       "\n",
       "                                                                                                                                                                                                                                                                                                                                                                                                                                                        cfg  \\\n",
       "0  [[0, 1], [0, 22], [1, 13], [2, 3], [3, 4], [3, 3], [4, 5], [4, 30], [5, 2], [5, 6], [6, 4], [7, 8], [8, 9], [8, 8], [9, 10], [9, 26], [10, 7], [10, 11], [11, 9], [12, 13], [12, 14], [13, 28], [14, 15], [14, 21], [15, 16], [16, 17], [16, 23], [17, 18], [18, 19], [18, 24], [19, 20], [22, 16], [23, 18], [24, 20], [25, 26], [25, 32], [26, 12], [26, 27], [27, 28], [28, 25], [28, 29], [29, 5], [30, 31], [30, 33], [31, 10], [32, 27], [33, 31]]   \n",
       "1                                                                                                                       [[0, 1], [1, 2], [1, 19], [2, 3], [3, 4], [4, 5], [4, 9], [5, 6], [6, 7], [6, 8], [7, 6], [8, 4], [9, 10], [9, 11], [10, 11], [11, 12], [12, 13], [12, 17], [13, 14], [14, 15], [14, 16], [15, 14], [16, 12], [17, 3], [17, 18], [18, 1], [19, 20], [19, 21], [21, 22], [21, 23], [22, 24], [23, 24], [24, 25], [24, 26], [25, 26]]   \n",
       "2                         [[0, 24], [1, 22], [2, 3], [2, 4], [3, 7], [4, 5], [4, 6], [5, 7], [6, 7], [7, 12], [8, 10], [9, 10], [10, 9], [10, 11], [11, 12], [12, 8], [12, 13], [13, 14], [13, 15], [14, 15], [15, 20], [16, 18], [17, 18], [18, 17], [18, 19], [19, 20], [20, 16], [20, 21], [21, 22], [22, 2], [22, 23], [23, 24], [24, 1], [24, 25], [25, 26], [25, 27], [27, 28], [27, 29], [28, 30], [29, 30], [30, 31], [30, 32], [31, 33], [32, 33]]   \n",
       "3                         [[0, 24], [1, 22], [2, 3], [2, 4], [3, 7], [4, 5], [4, 6], [5, 7], [6, 7], [7, 12], [8, 10], [9, 10], [10, 9], [10, 11], [11, 12], [12, 8], [12, 13], [13, 14], [13, 15], [14, 15], [15, 20], [16, 18], [17, 18], [18, 17], [18, 19], [19, 20], [20, 16], [20, 21], [21, 22], [22, 2], [22, 23], [23, 24], [24, 1], [24, 25], [25, 26], [25, 27], [27, 28], [27, 29], [28, 30], [29, 30], [30, 31], [30, 32], [31, 33], [32, 33]]   \n",
       "4                      [[0, 1], [0, 29], [1, 2], [2, 3], [3, 4], [3, 26], [4, 5], [5, 6], [5, 8], [6, 7], [7, 8], [7, 7], [8, 5], [8, 9], [9, 10], [9, 25], [10, 11], [11, 12], [11, 14], [12, 13], [13, 14], [13, 13], [14, 11], [14, 15], [15, 16], [15, 17], [16, 3], [17, 2], [17, 18], [18, 19], [18, 30], [19, 20], [20, 21], [20, 28], [21, 22], [22, 23], [22, 31], [23, 24], [25, 10], [26, 15], [26, 27], [27, 16], [28, 22], [29, 20], [31, 24]]   \n",
       "\n",
       "     gid  \n",
       "0  50694  \n",
       "1  50694  \n",
       "2  50694  \n",
       "3  50694  \n",
       "4  50694  "
      ]
     },
     "execution_count": 52,
     "metadata": {},
     "output_type": "execute_result"
    }
   ],
   "source": [
    "df.head()"
   ]
  },
  {
   "cell_type": "code",
   "execution_count": 53,
   "id": "0baf155b",
   "metadata": {},
   "outputs": [
    {
     "data": {
      "image/png": "[encoded data removed]",
      "text/plain": [
       "<Figure size 640x480 with 1 Axes>"
      ]
     },
     "metadata": {},
     "output_type": "display_data"
    }
   ],
   "source": [
    "df.arch.hist(bins=50)"
   ]
  },
  {
   "cell_type": "code",
   "execution_count": 54,
   "id": "02e709a1",
   "metadata": {},
   "outputs": [
    {
     "data": {
      "text/plain": [
       "<AxesSubplot:>"
      ]
     },
     "execution_count": 54,
     "metadata": {},
     "output_type": "execute_result"
    },
    {
     "data": {
      "image/png": "[encoded data removed]",
      "text/plain": [
       "<Figure size 640x480 with 1 Axes>"
      ]
     },
     "metadata": {},
     "output_type": "display_data"
    }
   ],
   "source": [
    "df.compiler.hist(bins=50)"
   ]
  },
  {
   "cell_type": "code",
   "execution_count": 55,
   "id": "d875e7a6",
   "metadata": {},
   "outputs": [
    {
     "data": {
      "text/plain": [
       "<AxesSubplot:>"
      ]
     },
     "execution_count": 55,
     "metadata": {},
     "output_type": "execute_result"
    },
    {
     "data": {
      "image/png": "[encoded data removed]",
      "text/plain": [
       "<Figure size 640x480 with 1 Axes>"
      ]
     },
     "metadata": {},
     "output_type": "display_data"
    }
   ],
   "source": [
    "df.opti.hist(bins=50)"
   ]
  },
  {
   "cell_type": "markdown",
   "id": "a4e5fc9d",
   "metadata": {},
   "source": [
    "## sent1 sent2 neg format"
   ]
  },
  {
   "cell_type": "code",
   "execution_count": 3,
   "id": "34a6690b",
   "metadata": {},
   "outputs": [
    {
     "name": "stdout",
     "output_type": "stream",
     "text": [
      " cd_train.py\t\t\t       preprocess_mucgec.py\r\n",
      " data\t\t\t\t       preprocess.py\r\n",
      " dataset.py\t\t\t       PW.ipynb\r\n",
      "'EDA for linux code detection.ipynb'   __pycache__\r\n",
      " infer.sh\t\t\t       run.sh\r\n",
      " lm_train.py\t\t\t       submission.csv\r\n",
      " log\t\t\t\t       submission_ensemble.csv\r\n",
      " LSTM.ipynb\t\t\t       test.py\r\n",
      " metrics.py\t\t\t       train.log\r\n",
      " microsoft\t\t\t       train.py\r\n",
      " model.py\t\t\t       Untitled.ipynb\r\n",
      " outputs\t\t\t       utils\r\n",
      " pooling.py\t\t\t       yb_train.py\r\n"
     ]
    }
   ],
   "source": [
    "!ls"
   ]
  },
  {
   "cell_type": "code",
   "execution_count": 2,
   "id": "fa50a241",
   "metadata": {},
   "outputs": [],
   "source": [
    "from utils.preprocess import get_code_dict, get_group_dict"
   ]
  },
  {
   "cell_type": "code",
   "execution_count": 16,
   "id": "01dae64b",
   "metadata": {},
   "outputs": [
    {
     "name": "stderr",
     "output_type": "stream",
     "text": [
      "\r",
      "  0%|                                                                                                                                                                                                                                                                                                                                                                                                | 0/100 [00:00<?, ?it/s]"
     ]
    },
    {
     "name": "stdout",
     "output_type": "stream",
     "text": [
      "block: 0\n",
      "finish loading.\n"
     ]
    },
    {
     "name": "stderr",
     "output_type": "stream",
     "text": [
      "\r",
      "  1%|███▊                                                                                                                                                                                                                                                                                                                                                                                    | 1/100 [00:12<20:30, 12.43s/it]"
     ]
    },
    {
     "name": "stdout",
     "output_type": "stream",
     "text": [
      "已使用:16707M(55%)\n",
      "可用内存:3835M\n",
      "\n",
      "\n",
      "\n",
      "block: 1\n",
      "finish loading.\n"
     ]
    },
    {
     "name": "stderr",
     "output_type": "stream",
     "text": [
      "\r",
      "  2%|███████▌                                                                                                                                                                                                                                                                                                                                                                                | 2/100 [00:29<24:41, 15.12s/it]"
     ]
    },
    {
     "name": "stdout",
     "output_type": "stream",
     "text": [
      "已使用:16699M(55%)\n",
      "可用内存:3688M\n",
      "\n",
      "\n",
      "\n",
      "block: 2\n",
      "finish loading.\n"
     ]
    },
    {
     "name": "stderr",
     "output_type": "stream",
     "text": [
      "\r",
      "  3%|███████████▎                                                                                                                                                                                                                                                                                                                                                                            | 3/100 [00:47<26:21, 16.31s/it]"
     ]
    },
    {
     "name": "stdout",
     "output_type": "stream",
     "text": [
      "已使用:16689M(55%)\n",
      "可用内存:3541M\n",
      "\n",
      "\n",
      "\n",
      "block: 3\n",
      "finish loading.\n"
     ]
    },
    {
     "name": "stderr",
     "output_type": "stream",
     "text": [
      "\r",
      "  4%|███████████████                                                                                                                                                                                                                                                                                                                                                                         | 4/100 [01:07<28:22, 17.73s/it]"
     ]
    },
    {
     "name": "stdout",
     "output_type": "stream",
     "text": [
      "已使用:16685M(55%)\n",
      "可用内存:3387M\n",
      "\n",
      "\n",
      "\n",
      "block: 4\n",
      "finish loading.\n"
     ]
    },
    {
     "name": "stderr",
     "output_type": "stream",
     "text": [
      "\r",
      "  5%|██████████████████▊                                                                                                                                                                                                                                                                                                                                                                     | 5/100 [01:26<28:53, 18.25s/it]"
     ]
    },
    {
     "name": "stdout",
     "output_type": "stream",
     "text": [
      "已使用:16677M(55%)\n",
      "可用内存:3233M\n",
      "\n",
      "\n",
      "\n",
      "block: 5\n"
     ]
    },
    {
     "name": "stderr",
     "output_type": "stream",
     "text": [
      "\r",
      "  6%|██████████████████████▌                                                                                                                                                                                                                                                                                                                                                                 | 6/100 [01:41<27:04, 17.28s/it]"
     ]
    },
    {
     "name": "stdout",
     "output_type": "stream",
     "text": [
      "finish loading.\n",
      "已使用:16671M(55%)\n",
      "可用内存:3105M\n",
      "\n",
      "\n",
      "\n",
      "block: 6\n"
     ]
    },
    {
     "name": "stderr",
     "output_type": "stream",
     "text": [
      "\r",
      "  6%|██████████████████████▌                                                                                                                                                                                                                                                                                                                                                                 | 6/100 [02:00<31:20, 20.01s/it]"
     ]
    },
    {
     "name": "stdout",
     "output_type": "stream",
     "text": [
      "finish loading.\n",
      "已使用:16692M(55%)\n",
      "可用内存:2925M\n"
     ]
    },
    {
     "name": "stderr",
     "output_type": "stream",
     "text": [
      "\n"
     ]
    }
   ],
   "source": [
    "# del df\n",
    "triple = []\n",
    "for i in tqdm(range(100)):\n",
    "    #if e == 0 and i <= 42:\n",
    "    #    continue\n",
    "    print(\"block:\", i)\n",
    "    train_pairs = pickle.load(open(f\"./data/public/train/block{i}.bin\", \"rb\"))\n",
    "    train_df = pd.read_csv(f\"./data/public/train/block{i}.csv\")\n",
    "    code_dict = get_code_dict(train_df)\n",
    "    # group_dict = get_group_dict(train_df)\n",
    "    \n",
    "    t = {}\n",
    "    s = {}\n",
    "    \n",
    "    print(\"finish loading.\")\n",
    "    for p1, p2, lable in train_pairs:\n",
    "        c1, c2 = code_dict[p1], code_dict[p2]\n",
    "        if lable == 1:\n",
    "            for neg in s[c1]:\n",
    "                triple.append([c1, c2, neg])\n",
    "        else:\n",
    "            if c1 not in s:\n",
    "                s[c1] = [c2]\n",
    "            else:\n",
    "                s[c1].append(c2)\n",
    "            # triple.append([c1, t[c1], c2])\n",
    "\n",
    "    del train_pairs, train_df, code_dict\n",
    "    get_mem()\n",
    "    if i>5:\n",
    "        break\n",
    "    \n",
    "    \n",
    "    print(\"\\n\"*2)\n",
    "df = pd.DataFrame(triple, columns=[\"sent1\", \"sent2\", \"hard_neg\"])\n",
    "df.to_csv(\"cdmini_for_simcse.csv\", index=False)"
   ]
  },
  {
   "cell_type": "code",
   "execution_count": 13,
   "id": "e6c2601f",
   "metadata": {},
   "outputs": [
    {
     "data": {
      "text/plain": [
       "1"
      ]
     },
     "execution_count": 13,
     "metadata": {},
     "output_type": "execute_result"
    }
   ],
   "source": [
    "1"
   ]
  },
  {
   "cell_type": "markdown",
   "id": "6213c0e8",
   "metadata": {},
   "source": [
    "## add tokens"
   ]
  },
  {
   "cell_type": "code",
   "execution_count": 19,
   "id": "a3f58477",
   "metadata": {},
   "outputs": [
    {
     "name": "stdout",
     "output_type": "stream",
     "text": [
      "/home/mobius/.cache/huggingface/transformers\n"
     ]
    }
   ],
   "source": [
    "from transformers import file_utils\n",
    "print(file_utils.default_cache_path)"
   ]
  },
  {
   "cell_type": "code",
   "execution_count": 20,
   "id": "993f019e",
   "metadata": {},
   "outputs": [
    {
     "data": {
      "text/plain": [
       "['adfslafjsdl', '', 'sdfa', '+', 'afds']"
      ]
     },
     "execution_count": 20,
     "metadata": {},
     "output_type": "execute_result"
    }
   ],
   "source": [
    "import re\n",
    "s = \"adfslafjsdl\\t sdfa + afds\"\n",
    "re.split('\\t| ', s)"
   ]
  },
  {
   "cell_type": "code",
   "execution_count": 33,
   "id": "78953612",
   "metadata": {},
   "outputs": [
    {
     "name": "stdout",
     "output_type": "stream",
     "text": [
      "finished reading notebook.\n"
     ]
    }
   ],
   "source": [
    "from torch.utils.data import DataLoader, Dataset\n",
    "import torch\n",
    "from transformers import AutoTokenizer, BertTokenizer, AutoModel\n",
    "import ast\n",
    "\n",
    "test = True\n",
    "\n",
    "# text = 'ldr\\tw5, [x3, #0x2f74]'\n",
    "# if test:\n",
    "#     print(\"raw text:\", text)\n",
    "#     # add_special_tokens=True is set by default\n",
    "#     text_enc = tokenizer.encode_plus(text)\n",
    "#     attn_mask = text_enc['attention_mask']\n",
    "#     text_enc = text_enc['input_ids']\n",
    "\n",
    "#     for tok in text_enc:\n",
    "#         print(tok, tokenizer.decode(tok))\n",
    "#         print(attn_mask)\n",
    "        \n",
    "df = pd.concat(\n",
    "    [\n",
    "        pd.read_csv(data_dir/f\"train/block{block}.csv\")\n",
    "        for block in range(10)\n",
    "    ]\n",
    ").set_index('fid', append=True).swaplevel()\n",
    "\n",
    "print(\"finished reading notebook.\")\n",
    "\n",
    "col = df['code'].apply(lambda x: ' '.join([y[2] for y in ast.literal_eval(x)]))\n"
   ]
  },
  {
   "cell_type": "code",
   "execution_count": 34,
   "id": "25976653",
   "metadata": {},
   "outputs": [
    {
     "name": "stderr",
     "output_type": "stream",
     "text": [
      "100%|█████████████████████████████████████████████████████████████████████████████████████████████████████████████████████████████████████████████████████████████████████████████████████████████████████████████████████████████████████████████████████████████████████████████████████████████████████████████████████████████████████████████████████████████████████████████| 228566/228566 [00:08<00:00, 25560.59it/s]"
     ]
    },
    {
     "name": "stdout",
     "output_type": "stream",
     "text": [
      "finished splitting.\n"
     ]
    },
    {
     "name": "stderr",
     "output_type": "stream",
     "text": [
      "\n"
     ]
    }
   ],
   "source": [
    "import itertools\n",
    "#a = [['a','b'], ['c']]\n",
    "l = [re.split(r\"\\t| |\\*|\\(|\\)\", code) for code in tqdm(col)]\n",
    "# concat list of lists\n",
    "l = list(itertools.chain.from_iterable(l))\n",
    "#for code in tqdm(col):\n",
    "#    l = l + code.replace(\"\\t\", \" \").split(\" \")\n",
    "print(\"finished splitting.\")"
   ]
  },
  {
   "cell_type": "code",
   "execution_count": 35,
   "id": "881cbe26",
   "metadata": {},
   "outputs": [
    {
     "name": "stdout",
     "output_type": "stream",
     "text": [
      "[('mov', 6219606), ('', 3854610), ('ptr', 3680859), ('dword', 2451596), ('+', 2243853), ('ldr', 1666900), ('move', 1624398), ('add', 1583318), ('$sp', 1547230), ('-', 1541083), ('$v0,', 1518577), ('eax,', 1514757), ('lw', 1418710), ('r3,', 1310720), ('call', 1290102), ('bl', 1175576), ('ld', 1151306), ('[sp,', 1144074), ('eax', 1098922), ('$a0,', 1091204), ('x0,', 1074287), ('push', 1042523), ('$t9,', 1021386), ('r0,', 951903), ('[ebp', 933135), ('qword', 896770), ('cmp', 879416), ('$gp', 806433), ('addiu', 747125), ('b', 675727), ('lea', 675567), ('[rbp', 667661), ('$t9', 662164), ('$at,', 648263), ('sub', 633634), ('r2,', 631778), ('nop', 631333), ('[esp', 629995), ('str', 628315), ('w0,', 621531), ('$a1,', 613270), ('jalr', 608579), ('$gp,', 594684), ('$v0', 591880), ('rdi,', 583338), ('$s0', 576751), ('r1,', 567139), ('esp,', 507443), ('0x10', 493120), ('#0', 486101), ('sw', 482661), ('x1,', 464804), ('edx,', 459143), ('jmp', 458069), ('$zero,', 448362), ('$sp,', 446575), ('daddiu', 446118), ('pop', 444775), ('rax,', 436064), ('1', 428662), ('rax', 426590), ('$v1,', 417652), ('0', 404396), ('$fp', 403289), ('[rsp', 383858), ('[fp,', 374373), ('ecx,', 368295), ('sp,', 363498), ('sd', 351815), ('je', 349960), ('test', 346398), ('esi,', 340307), ('$s0,', 333810), ('$a2,', 321091), ('esi', 316829), ('8', 310816), ('$s1,', 301668), ('bal', 298302), ('w1,', 282486), ('edx', 275648), ('movz', 275189), ('#1', 261923), ('$s2,', 257220), ('$s1', 256031), ('edi', 255251), ('ebx,', 251378), ('x2,', 239759), ('0x18', 237769), ('rsi,', 233173), ('r0', 228664), ('edi,', 228522), ('$s3,', 228029), ('jne', 227376), ('ebx', 225568), ('byte', 219411), ('xor', 217884), ('0x20', 217723), ('4', 215686), ('ecx', 215035), ('beqz', 214722), ('8]', 214618), ('beq', 214185), ('r5,', 213054), ('lsl', 209604), ('[esp],', 207611), ('ebp', 200040), ('x0', 195578), ('$s4,', 190128), ('rdx,', 189935), ('r4,', 187665), ('r6,', 184437), ('rbx', 184298), ('[pc,', 180663), ('$s2', 178027), ('r3', 174358), ('0xc', 172033), ('and', 171711), ('fp,', 169181), ('x19,', 169132), ('[eax', 168428), ('rbp', 162738), ('$a0', 162522), ('x29,', 158019), ('0x28', 157477), ('r7,', 157021), ('al', 156427), ('ldp', 154929), ('$s5,', 154379), ('bne', 154196), ('[rax', 154003), ('#0x10]', 151983), ('0x10]', 150817), ('al,', 148142), ('r8,', 146438), ('ret', 146361), ('$s3', 140625), ('adrp', 140486), ('movzx', 139951), ('$ra,', 139028), ('lui', 138002), ('[rip', 135768), ('x20,', 132993), ('stp', 132628), ('x8,', 132434), ('4],', 129537), ('r12', 128459), ('ebp,', 128262), ('2', 127275), ('$s6,', 126818), ('r4', 126449), ('0x30', 125459), ('$a3,', 125252), ('$fp,', 124686), ('w2,', 124040), ('bnez', 122195), ('#8]', 119746), ('w8,', 117411), ('r14', 116591), ('[x0,', 115153), ('0x18]', 114803), ('x21,', 111928), ('[ebx', 111373), ('#0x20]', 111131), ('rcx,', 107772), ('$s4', 107549), ('r2', 107173), ('$s7,', 106681), ('$at', 106611), ('0x38', 106480), ('r5', 105932), ('x19', 104575), ('ldrb', 104393), ('4]', 104188), ('r15', 100644), ('0x20]', 100615), ('0xc]', 100228), ('r13', 99990), ('w0', 99473), ('rbx,', 97336), ('8],', 97167), ('sb,', 97040), ('0x40', 94532), ('0x1c', 93972), ('[esi', 93486), ('$zero', 93013), ('x22,', 92603), ('[rbx', 92395), ('#4]', 90340), ('[x29,', 90213), ('[r3,', 88075), ('#2', 87834), ('rdx', 86865), ('$v1', 86270), ('sl,', 85905), ('x30,', 84957), ('x3,', 84276), ('word', 84202), ('r6', 84116), ('$s5', 83707), ('#8', 83579), ('x20', 82718), ('#0x18]', 82665), ('#0x30]', 81896), ('3', 81845), ('#0x10', 80476), ('r1', 80392), ('b.eq', 80326), ('0x24', 80236), ('#4', 80204), ('jr', 78381), ('0x48', 77984), ('rsp,', 77442), ('0x28]', 77311), ('{r4,', 75940), ('addu', 75171), ('[x19,', 74990), ('ip,', 74926), ('$ra', 74209), ('x23,', 73005), ('sb', 72289), ('[r4,', 71870), ('0x30]', 71715), ('daddu', 71362), ('[x0]', 70708), ('0x2c', 69618), ('$a1', 69000), ('cbz', 68782), ('pc,', 68529), ('r7', 68460), ('$s6', 68422), ('#0xc]', 65255), ('rbp,', 65164), ('r8', 64315), ('shl', 62342), ('[r3]', 62036), ('0x10],', 61911), ('0x50', 61734), ('#0x40]', 61272), ('0x14]', 60438), ('b.ne', 60207), ('w3,', 59044), ('$s7', 58517), ('#0x28]', 58398), ('x24,', 58283), ('0x14', 58134), ('[edi', 58059), ('0x1c]', 57801), ('rdi', 57509), ('-1', 57414), ('0x38]', 57268), ('0x40]', 56660), ('0x58', 56451), ('sll', 56276), ('x21', 56232), ('rcx', 56173), ('ldur', 54363), ('lr}', 53981), ('0x18],', 53822), ('w9,', 53488), ('#3', 51246), ('[eax]', 51239), ('0x34', 51058), ('strb', 50878), ('#0x20', 50815), ('#0xff', 50762), ('jal', 50215), ('0xc],', 50185), ('[rax]', 50151), ('lbu', 49027), ('x9,', 47425), ('x25,', 47374), ('lr,', 46977), ('[sp]', 46902), ('sp', 46877), ('lsr', 46798), ('r12,', 46646), ('imul', 46429), ('orr', 46126), ('#0x38]', 45910), ('asr', 45878), ('or', 45155), ('$t0,', 45131), ('rsi', 45070), ('0x24]', 44823), ('0x3c', 44446), ('#0x50]', 44306), ('r14,', 43640), ('0x60', 43476), ('x22', 43328), ('#0x14]', 43244), ('#0x1', 43138), ('0x48]', 43135), ('0x68', 42947), ('x1', 42049), ('x4,', 41363), ('movsxd', 41317), ('0x2c]', 41250), ('xmm0,', 41212), ('sar', 40949), ('$a2', 40225), ('w4,', 39629), ('0x20],', 39565), ('[edx', 39556), ('[ecx', 39394), ('w19,', 38619), ('0x50]', 38531), ('st', 38467), ('#0x48]', 37797), ('esp', 37719), ('1]', 37547), ('[r0,', 37501), ('x26,', 37372), ('[rdi', 37142), ('r13,', 36963), ('jle', 36839), ('#0x18', 36804), ('[sp],', 36586), ('[r2,', 36340), ('0x1c],', 36138), ('r15,', 35758), ('subs', 35539), ('0x44', 35074), ('0x14],', 35062), ('0x70', 34937), ('w20,', 34880), ('andi', 33981), ('shr', 33693), ('#0x1c]', 33485), ('0x34]', 33411), ('cl', 33395), ('sltu', 33265), ('mul', 33237), ('r8d,', 33189), ('cbnz', 32840), ('0x28],', 32825), ('0x58]', 32816), ('5', 32725), ('sl', 32677), ('[x20,', 32530), ('[r5,', 32469), ('#-0x10]', 32409), ('stur', 31705), ('x27,', 31657), ('0x3c]', 31545), ('endbr64', 31436), ('pc}', 31352), ('xmm0', 31310), ('x23', 30914), ('#0xc', 30795), ('w21,', 30634), ('0x78', 30563), ('endbr32', 30508), ('w5,', 30229), ('2]', 30130), ('x2', 29953), ('0x80', 29792), ('r12d,', 29740), ('#0,', 29692), ('0x4c', 29428), ('7', 29425), ('0x60]', 29342), ('#0x60]', 29084), ('sxtw', 28586), ('[r12', 28334), ('#0x30', 28281), ('#2]', 28165), ('#-8]', 27967), ('tst', 27286), ('#0x24]', 27211), ('#0x68]', 27188), ('fld', 27040), ('x28,', 26840), ('[rdx', 26590), ('[eax],', 26425), ('fstp', 26353), ('0x30],', 26270), ('[rcx', 26055), ('dsll', 25990), ('$t1,', 25894), ('w22,', 25878), ('d0,', 25767), ('0x68]', 25759), ('r12d', 25614), ('[x8,', 25452), ('[x1,', 25309), ('#0x58]', 25282), ('[r14', 25206), ('#-0x18]', 25117), ('wzr,', 24956), ('movsx', 24913), ('#0x40', 24687), ('x5,', 24644), ('#0x1c', 24588), ('lr', 24500), ('w1', 24188), ('xmmword', 24179), ('w10,', 23997), ('[r15', 23976), ('0x88', 23965), ('#0x70]', 23794), ('6', 23724), ('0x70]', 23625), ('[r13', 23590), ('j', 23563), ('0x4c]', 23542), ('x24', 23499), ('0x54', 22995), ('r9d,', 22935), ('ldrh', 22935), ('0x38],', 22886), ('0x1f', 22785), ('fs:[0x28]', 22725), ('w6,', 22697), ('gs:[0x14]', 22571), ('$a3', 22556), ('movsd', 22470), ('0x44]', 22358), ('r14d,', 22343), ('#-0x20]', 22075), ('0x24],', 21950), ('ldm', 21876), ('sltiu', 21793), ('#0x2c]', 21687), ('[r0]', 21628), ('w23,', 21509), ('xzr,', 21477), ('#0x78]', 21209), ('tbnz', 21191), ('0x78]', 21082), ('ax', 20740), ('jg', 20727), ('[r1,', 20724), ('r14d', 20645), ('r13d,', 20637), ('bx', 20559), ('x10,', 20303), ('rsp', 20278), ('[r6,', 20240), ('#0x34]', 20202), ('movn', 20151), ('r15d,', 20120), ('#0x28', 20117), ('inc', 20105), ('#16', 20026), ('xmm1,', 19919), ('0x40],', 19884), ('0x5c', 19881), ('ori', 19726), ('r3]', 19449), ('[rax],', 19004), ('r13d', 18919), ('0xa0', 18848), ('#0x3c]', 18780), ('#0x24', 18673), ('0x80]', 18616), ('ja', 18588), ('tbz', 18487), ('0x90', 18462), ('eor', 18432), ('0x2c],', 18426), ('[rsi', 18359), ('#0x80]', 18353), ('fp', 18345), ('x25', 17921), ('0x64', 17877), ('dl', 17812), ('w7,', 17803), ('0x98', 17766), ('#0x1000', 17679), ('[x21,', 17673), ('[esi]', 17672), ('w24,', 17649), ('#0x44]', 17601), ('#0x50', 17523), ('ldrsh', 17373), ('x6,', 17289), ('js', 17249), ('r15d', 17231), ('0xa', 17172), ('#-0x28]', 17043), ('rax]', 17033), ('jbe', 17032), ('wzr', 16928), ('ldrsw', 16920), ('#0x88]', 16866), ('#-0x14]', 16857), ('subu', 16819), ('#0x14', 16459), ('slt', 16372), ('$t2,', 16360), ('0x54]', 16357), ('0x48],', 16304), ('strh', 16074), ('b.le', 16064), ('cdqe', 15836), ('0x88]', 15835), ('movk', 15825), ('0x15', 15769), ('#-0xc]', 15693), ('x8', 15662), ('w25,', 15605), ('csel', 15473), ('mvn', 15464), ('fmul', 15397), ('movne', 15322), ('#5', 15170), ('x3', 15154), ('r9,', 15137), ('r8d', 15099), ('0x100', 14997), ('#0x4c]', 14985), ('jae', 14869), ('#0x90]', 14856), ('xmm1', 14774), ('0xa8', 14722), ('0x50],', 14717), ('w19', 14710), ('w2', 14609), ('#3]', 14605), ('0x90]', 14599), ('#-0x1c]', 14405), ('w11,', 14272), ('#-0x30]', 14214), ('x26', 14184), ('0,', 14148), ('w20', 14120), ('0x5c]', 14019), ('{r0,', 13999), ('#1]', 13964), ('x7,', 13924), ('s0,', 13893), ('[x19]', 13725), ('#0x1f', 13676), ('0x3c],', 13611), ('[rsp]', 13558), ('#0x60', 13538), ('0x34],', 13529), ('0xf', 13525), ('dext', 13510), ('#7', 13322), ('#-0x24]', 13308), ('#0x98]', 13274), ('b.gt', 13261), ('0x6c]', 13237), ('moveq', 13224), ('ble', 13200), ('xzr', 13067), ('$t3,', 13038), ('[r7,', 12949), ('#0x38', 12851), ('cl,', 12812), ('0xffffffff', 12779), ('r3}', 12547), ('0x64]', 12497), ('0x6c', 12486), ('0xb8', 12467), ('not', 12430), ('0x98]', 12361), ('ne', 12348), ('#0x80', 12331), ('#6', 12259), ('$f0,', 12258), ('blt', 12241), ('d1,', 12146), ('x11,', 12043), ('0x58],', 11986), ('[x2,', 11872), ('#0xf98]', 11860), ('jl', 11846), ('w21', 11766), ('0xff', 11750), ('#-0x38]', 11739), ('adc', 11701), ('0xb0', 11698), ('#0xa0]', 11673), ('jb', 11662), ('ip', 11624), ('[x22,', 11607), ('eors', 11583), ('lb', 11578), ('pxor', 11570), ('0xc8', 11521), ('[r4]', 11454), ('#0x54]', 11450), ('0xa0]', 11407), ('0xc0', 11394), ('movss', 11328), ('x27', 11290), ('[rsp],', 11281), ('w22', 11182), ('{r2,', 11182), ('bic', 11163), ('[sb,', 11114), ('ror', 11062), ('w26,', 10939), ('jge', 10874), ('#0x70', 10839), ('[x1]', 10818), ('neg', 10792), ('0x60],', 10786), ('0xe', 10747), ('#-4]', 10742), ('cset', 10710), ('[rbx]', 10689), ('[esp]', 10643), ('9', 10582), ('0x44],', 10571), ('r9d', 10518), ('0xa8]', 10382), ('[ecx],', 10336), ('x9', 10327), ('srl', 10306), ('#-0x2c]', 10300), ('[r8,', 10196), ('#0xa8]', 10172), ('r10d,', 10171), ('w27,', 10166), ('0x7c]', 10147), ('$t0', 10144), ('0x74', 10125), ('#0x48', 10085), ('[edx],', 9990), ('xmm2,', 9971), ('0x74]', 9924), ('r1}', 9915), ('dl,', 9851), ('movdqa', 9824), ('cmn', 9791), ('blr', 9745), ('movabs', 9701), ('x28', 9671), ('0x68],', 9588), ('0xb', 9532), ('ldc1', 9506), ('0xd0]', 9469), ('r9', 9466), ('-0x30', 9457), ('[r2]', 9406), ('#0x6c]', 9394), ('[x8]', 9376), ('#0x2c', 9370), ('lhu', 9348), ('0xb0]', 9191), ('#0x64]', 9166), ('#0xa0', 9108), ('w3', 9101), ('eq', 9088), ('#0xb0]', 9021), ('sbb', 9021), ('#0x4', 9014), ('w28,', 9003), ('0x4c],', 8998), ('w23', 8977), ('r10,', 8971), ('#0x5c]', 8956), ('0xc0]', 8948), ('w12,', 8908), ('#-0x34]', 8879), ('movups', 8866), ('$t4,', 8855), ('sete', 8842), ('0x7c', 8837), ('[sl,', 8795), ('w8', 8789), ('0xd0', 8761), ('#0xb8]', 8731), ('#-0x40]', 8718), ('bgt', 8673), ('#0xa', 8664), ('jns', 8643), ('0x70],', 8622), ('rsb', 8596), ('0xd8', 8581), ('0x78],', 8577), ('fmov', 8572), ('r11d,', 8543), ('r10', 8528), ('[x20]', 8503), ('#0xc0]', 8477), ('#0x2', 8476), ('fadd', 8451), ('#0x58', 8413), ('slti', 8388), ('{fp,', 8352), ('#12', 8340), ('stm', 8317), ('blez', 8295), ('0x72', 8285), ('-0x7fc8', 8273), ('bltz', 8226), ('#0x100', 8221), ('b.hi', 8184), ('#0x68', 8146), ('cdq', 8077), ('setne', 7995), ('#0x1f,', 7940), ('0xc8]', 7914), ('b.lt', 7909), ('#0xf', 7901), ('dec', 7890), ('[edi]', 7880), ('$f0', 7869), ('[x9,', 7848), ('0xb8]', 7828), ('0x8c]', 7761), ('w9', 7761), ('s1,', 7736), ('0xe0', 7711), ('[x23,', 7687), ('#0xb', 7662), ('#0x15', 7655), ('[r5]', 7651), ('#-0x48]', 7555), ('#0xe', 7552), ('0xe8', 7544), ('bge', 7529), ('mulsd', 7523), ('#0x74]', 7487), ('#0xd0]', 7484), ('0xd', 7450), ('adds', 7430), ('#0x3', 7404), ('0x84', 7386), ('0x84]', 7343), ('0xf0', 7326), ('x12,', 7325), ('w24', 7323), ('d0', 7322), ('0xf0]', 7299), ('xmm3,', 7264), ('[x3,', 7231), ('-0x40', 7225), ('bl,', 7169), ('0x54],', 7123), ('b.ls', 7098), ('0xf8', 7090), ('cmove', 7081), ('#-0x50]', 7078), ('blx', 7050), ('bgtz', 6979), ('r10d', 6948), ('-0x7f80', 6865), ('0x108', 6847), ('leave', 6801), ('0xd8]', 6769), ('#0x34', 6744), ('0x80],', 6741), ('0x5c],', 6733), ('1],', 6732), ('-0x7f90', 6721), ('[esi],', 6717), ('[ip,', 6711), ('#0xc8]', 6694), ('#-0x3c]', 6666), ('0x100]', 6653), ('x4', 6608), ('dx', 6604), ('-0x7f88', 6572), ('[x24,', 6522), ('[rdi]', 6481), ('fxch', 6478), ('[edx]', 6455), ('-0x20', 6438), ('0xe0]', 6437), ('xori', 6430), ('0x9c]', 6361), ('0xe8]', 6337), ('xmm2', 6328), ('-0x7fd0', 6302), ('dsubu', 6269), ('r11,', 6256), ('0x8c', 6250), ('$t1', 6244), ('-8', 6239), ('w13,', 6233), ('#0x78', 6200), ('cmovne', 6186), ('s0', 6165), ('#0x7c]', 6158), ('movaps', 6139), ('w25', 6110), ('w4', 6071), ('b.hs', 6068), ('xmm6,', 6005), ('b.ge', 5964), ('[r9', 5961), ('[r1]', 5948), ('[r8', 5943), ('r11', 5925), ('eax]', 5881), ('0x88],', 5866), ('#-0x58]', 5866), ('-4', 5853), ('0x12', 5850), ('2],', 5827), ('#0x3c', 5821), ('#0x90', 5794), ('#-0x30]!', 5731), ('ax,', 5694), ('#0xd8]', 5683), ('xmm8,', 5672), ('[ecx]', 5659), ('mla', 5632), ('0x6c],', 5623), ('r11d', 5617), ('-0x7fd4', 5600), ('[x25,', 5590), ('-0x50', 5536), ('bhi', 5535), ('0x90],', 5527), ('[rbp]', 5526), ('0x64],', 5460), ('xmm4,', 5449), ('[x26,', 5419), ('xmm7,', 5418), ('xmm3', 5405), ('#0xe8]', 5379), ('#0x88', 5366), ('#31', 5357), ('#0xf0]', 5345), ('0xffff', 5332), ('#0xe0]', 5331), ('[rbx],', 5323), ('madd', 5305), ('[x21]', 5302), ('#0x84]', 5284), ('#-0x44]', 5268), ('[x28,', 5246), ('#4,', 5237), ('0x94', 5234), ('rol', 5223), ('0x94]', 5221), ('#0x100]', 5217), ('[r6]', 5213), ('idiv', 5212), ('0x108]', 5153), ('x13,', 5136), ('0xf8]', 5113), ('mm6,', 5112), ('bls', 5100), ('#-0x60]', 5092), ('0x120', 5040), ('d8,', 5037), ('xmm5,', 5031), ('0xff00ff', 5020), ('0x118', 5015), ('#-0x4c]', 4997), ('0x16', 4972), ('w14,', 4955), ('bhs', 4946), ('[x27,', 4936), ('$t5,', 4921), ('paddd', 4918), ('[x4,', 4917), ('[r10', 4911), ('x10', 4907), ('0x9c', 4876), ('sh', 4850), ('0x98],', 4844), ('w5', 4807), ('[x2]', 4802), ('sdc1', 4798), ('-0x7f78', 4775), ('addsd', 4770), ('0x110', 4760), ('#0x8c]', 4747), ('-0x28', 4717), ('0x140]', 4712), ('#0xf8]', 4702), ('[ebp]', 4702), ('xword', 4701), ('[ebx]', 4688), ('0x128', 4660), ('0x1e', 4654), ('#-0x68]', 4625), ('ands', 4624), ('3]', 4606), ('[r12]', 4604), ('#0x8', 4599), ('#-0x40]!', 4587), ('bgez', 4575), ('-0x7f98', 4552), ('sra', 4551), ('0x74],', 4543), ('0xac]', 4536), ('#9', 4534), ('0x17', 4515), ('-0x7fe0', 4501), ('[rdx],', 4495), ('w15,', 4457), ('#1,', 4448), ('0x118]', 4434), ('0x11', 4417), ('0x3f', 4415), ('w10', 4409), ('0x13', 4409), ('0x110]', 4371), ('0x148', 4359), ('ccmp', 4347), ('-2', 4333), ('0x200', 4326), ('0xa4', 4319), ('[lr,', 4318), ('lwl', 4277), ('b.lo', 4268), ('#0x98', 4260), ('0x120]', 4248), ('lwr', 4246), ('0xa0],', 4228), ('$t6,', 4228), ('#-0x54]', 4212), ('#0xff00', 4196), ('#-0x70]', 4193), ('#-0x20]!', 4193), ('fsub', 4152), ('blo', 4136), ('[edi],', 4124), ('[x22]', 4120), ('#0x44', 4118), ('x5', 4106), ('fmulp', 4106), ('xmm9,', 4090), ('-0x7ef8', 4088), ('#0xc0', 4084), ('0xac', 4084), ('xmm4', 4069), ('#0x94]', 4047), ('-0x60', 4044), ('movapd', 4041), ('w26', 4001), ('-0x7f00', 3991), ('#0xa8', 3989), ('ldrsb', 3981), ('#0x72', 3972), ('#0xb0', 3971), ('q0,', 3969), ('#0x108]', 3943), ('#0x2000', 3912), ('0xa4]', 3901), ('0xbc', 3888), ('r2]', 3884), ('xmm5', 3878), ('0x7c],', 3875), ('movdqu', 3871), ('$t7,', 3864), ('$t2', 3863), ('0xb4]', 3861), ('[x5,', 3860), ('w27', 3826), ('0x138', 3818), ('#0x110]', 3807), ('-0x7fa0', 3801), ('-0x10', 3795), ('-0x80', 3793), ('#0x9c]', 3783), ('x14,', 3771), ('0x130]', 3759), ('#0x64', 3758), ('#-0x50]!', 3745), ('[r8]', 3744), ('#2,', 3737), ('#0x130]', 3717), ('[r11', 3716), ('#0xb8', 3712), ('-0x7ee8', 3708), ('0x140', 3702), ('ldrne', 3700), ('-0x7fa8', 3696), ('[r7]', 3690), ('0xa8],', 3686), ('cwde', 3681), ('0x400', 3678), ('w6', 3670), ('-0x7e28', 3666), ('[rsi]', 3666), ('[x6,', 3662), ('w7', 3661), ('0x168', 3655), ('[rcx]', 3653), ('0x158', 3648), ('#-0x5c]', 3636), ('-0x7fb8', 3633), ('0xb0],', 3631), ('#-0x64]', 3609), ('0x1b', 3609), ('smull', 3608), ('#0x400', 3579), ('$t8,', 3578), ('#0x5', 3575), ('0xbc]', 3572), ('#-1]', 3571), ('d1', 3563), ('0xb4', 3557), ('0x150', 3553), ('xmm7', 3551), ('[rdi],', 3548), ('movq', 3541), ('#0xffff', 3541), ('0x160]', 3541), ('#0x54', 3541), ('#0x4c', 3538), ('#0x120]', 3532), ('xmm6', 3531), ('0x41', 3527), ('x0]', 3526), ('#0xb4]', 3514), ('0xcc]', 3510), ('s2,', 3493), ('0x84],', 3491), ('#0x5c', 3489), ('#0xa4]', 3484), ('-0x38', 3482), ('sbfiz', 3481), ('0x128]', 3480), ('0x1e0', 3479), ('0x148]', 3462), ('0xc0],', 3460), ('w16,', 3455), ('-0x7f84', 3454), ('0x130', 3453), ('-0x7f70', 3450), ('0x2f', 3435), ('0xbebbb1b7', 3434), ('[rdx]', 3431), ('#0x200', 3429), ('0xd4', 3427), ('x7', 3419), ('0x57', 3411), ('-0x7f50', 3394), ('0xc4', 3386), ('[r14]', 3374), ('#0x128]', 3363), ('0x2000', 3359), ('0x42', 3351), ('#0x138]', 3338), ('[rcx],', 3337), ('0x22', 3337), ('swl', 3333), ('swr', 3331), ('$t3', 3327), ('0xdc]', 3321), ('#0xac]', 3308), ('sxtw]', 3298), ('cmpne', 3295), ('#0xa11e0', 3289), ('0xe4]', 3285), ('ext', 3275), ('0xb8],', 3273), ('0x160', 3263), ('#0x140]', 3257), ('-0x7e20', 3254), ('#0x118]', 3253), ('0x150]', 3248), ('faddp', 3241), ('w28', 3219), ('#-0x74]', 3218), ('cs:[rax', 3215), ('#-0x6c]', 3204), ('mulss', 3204), ('x15,', 3197), ('cx', 3187), ('d2,', 3180), ('0x158]', 3175), ('0x138]', 3158), ('x6', 3150), ('w18,', 3147), ('$f2,', 3145), ('0x19', 3143), ('6]', 3132), ('#-0x78]', 3131), ('rep', 3131), ('0xec]', 3128), ('-0x7f08', 3121), ('[r15]', 3101), ('cmovg', 3081), ('w11', 3076), ('[x3]', 3063), ('[r13]', 3061), ('lh', 3061), ('-0x7fcc', 3053), ('xmm14,', 3048), ('0xba0f0', 3047), ('0xc4]', 3032), ('{r3,', 3031), ('por', 3030), ('-0x70', 3028), ('0x2e', 3023), ('-0x7e18', 3021), ('#-0x80]', 3014), ('#6]', 2999), ('#0x150]', 2977), ('x16,', 2974), ('#0xbc]', 2971), ('x17,', 2967), ('movge', 2960), ('0xcc', 2931), ('xmm10,', 2931), ('0x8c],', 2926), ('umull', 2913), ('0xec', 2909), ('sturb', 2909), ('fcmpe', 2909), ('[x10,', 2908), ('#0x1e0', 2907), ('-0x640c', 2904), ('-0x7f8c', 2898), ('fcvt', 2897), ('0x1e0]', 2893), ('-0x7ef0', 2892), ('0x188', 2888), ('#0xd', 2881), ('movlt', 2870), ('0x10c]', 2866), ('mfhi', 2865), ('$f12,', 2861), ('fild', 2856), ('#0xc8', 2847), ('xmm8', 2846), ('strne', 2842), ('[x9]', 2835), ('0xc8],', 2825), ('w17,', 2818), ('movd', 2814), ('#-0x60]!', 2808), ('#0x3f', 2808), ('#0xc4]', 2806), ('-0x7f48', 2803), ('#-0x98]', 2794), ('#48', 2790), ('scvtf', 2775), ('0x180', 2769), ('subsd', 2759), ('d9,', 2753), ('0x190', 2752), ('0x178', 2752), ('#0xff000000', 2746), ('#0xe0', 2744), ('0x39', 2736), ('uxtw', 2735), ('0x168]', 2730), ('0x1a', 2711), ('0x5a030', 2688), ('#0x16', 2688), ('-0x7fb0', 2688), ('0x198', 2676), ('0x170', 2673), ('0x1000', 2673), ('[x23]', 2671), ('#24', 2669), ('ldl', 2667), ('0xd4]', 2666), ('-0x48', 2662), ('0x3a', 2660), ('#0xf0', 2649), ('0x55', 2648), ('0xd0],', 2646), ('0x180]', 2634), ('bpl,', 2616), ('#0x120', 2615), ('sdiv', 2612), ('#0x6', 2611), ('edx]', 2607), ('0xfffffffe', 2606), ('#0x1826000', 2599), ('-0x7f60', 2594), ('umlal', 2592), ('cmovs', 2590), ('#0x148]', 2586), ('sdl', 2586), ('sdr', 2586), ('rdx]', 2582), ('#-0x88]', 2566), ('le', 2561), ('#0xbb630', 2560), ('7]', 2559), ('#0xd0', 2552), ('#0xff00ff', 2546), ('0xfc]', 2538), ('#0x74', 2538), ('-0x7a90', 2528), ('lwu', 2519), ('#0xec]', 2518), ('#0x9e0a0', 2518), ('0x2d', 2518), ('[rsi],', 2510), ('[x7,', 2505), ('-0x7f68', 2504), ('#0x58d28', 2497), ('psrld', 2491), ('0x1f0', 2486), ('0xfc', 2483), ('[sb]', 2482), ('0x4b', 2465), ('#0x15eb000', 2463), ('0x94],', 2458), ('0xe0],', 2457), ('#0x158]', 2456), ('#0x1631000', 2456), ('[r14],', 2453), ('0xd8],', 2451), ('$f1,', 2449), ('sil', 2444), ('addne', 2436), ('#4]!', 2435), ('-0x7e60', 2421), ('0x170]', 2419), ('0x66', 2419), ('0x190]', 2407), ('-0x7f58', 2399), ('#-0x90]', 2398), ('#0x160]', 2395), ('lt', 2391), ('-0x7d50', 2384), ('xmm13,', 2382), ('#0xcc]', 2378), ('ldurb', 2377), ('-0x7f40', 2375), ('0x9c],', 2374), ('#-0x7c]', 2373), ('ldreq', 2372), ('-0x7fc0', 2371), ('0x1a8]', 2366), ('xmm13', 2366), ('x11', 2357), ('#0x1423000', 2350), ('$f24,', 2349), ('-0x7f94', 2347), ('cvtss2sd', 2331), ('#5]', 2331), ('xmm12,', 2331), ('-0x7d80', 2330), ('dx,', 2317), ('0x178]', 2316), ('fldcw', 2316), ('#0x13ed000', 2307), ('mov.d', 2307), ('0x7f', 2306), ('xmm9', 2305), ('0x11c]', 2299), ('0xdc', 2297), ('#0x190]', 2290), ('-0x7e80', 2287), ('0x12c]', 2287), ('fdiv', 2286), ('#0xd8', 2280), ('#-0x84]', 2267), ('xmm10', 2267), ('0xf4]', 2262), ('ubfiz', 2262), ('rcx]', 2256), ('0x27', 2244), ('cmovle', 2242), ('r1]', 2241), ('#0x7', 2233), ('shrd', 2232), ('#0x168]', 2227), ('xorps', 2225), ('$t4', 2224), ('x12', 2217), ('0x21', 2216), ('5]', 2214), ('[rbp],', 2213), ('#0x108', 2212), ('seta', 2212), ('#0x80000000', 2208), ('pc', 2207), ('bswap', 2205), ('0x188]', 2204), ('0x23', 2193), ('0x56', 2186), ('mvnne', 2185), ('#0x6c', 2172), ('0xe8],', 2166), ('-0x7e50', 2164), ('-0x7ec0', 2162), ('mflo', 2161), ('cvtsi2sd', 2152), ('0x1c0', 2149), ('addss', 2144), ('#-0xb8]', 2143), ('0x13c]', 2135), ('[ip]', 2133), ('[ebp],', 2132), ('0x7fff', 2132), ('0x1d', 2131), ('[sl]', 2130), ('0x59', 2126), ('0xfe', 2116), ('0xf0],', 2115), ('0x16]', 2113), ('cneg', 2107), ('0x25', 2104), ('#0x180]', 2101), ('d8', 2098), ('0xd],', 2097), ('0x2b', 2096), ('w12', 2088), ('ge', 2085), ('$f20,', 2075), ('#0xe4]', 2074), ('#0xe8', 2073), ('0x6f', 2072), ('rev', 2066), ('xmm12', 2066), ('streq', 2065), ('#-0xa0]', 2061), ('rotr', 2057), ('bpl', 2042), ('0xfffffff4', 2041), ('xmm11,', 2030), ('-0x7a88', 2027), ('[ebx],', 2022), ('-0x7f20', 2021), ('0x1a8', 2011), ('0x2a', 2009), ('#0x170]', 2007), ('#3,', 2006), ('0x65', 2001), ('0x1f0]', 2000), ('0x104', 1999), ('0x43', 1998), ('0x61', 1995), ('#18', 1982), ('$f2', 1974), ('#0xdc]', 1972), ('0x1a0', 1967), ('[r12],', 1960), ('0xbd770', 1958), ('xmm11', 1955), ('#0x10c]', 1950), ('popeq', 1950), ('-0x7f28', 1940), ('#0xa]', 1932), ('si', 1929), ('#1]!', 1927), ('sbcs', 1927), ('0x4a', 1926), ('#0x7c', 1926), ('0x194', 1924), ('#-0xc0]', 1923), ('[x24]', 1918), ('-0x7e10', 1917), ('0x800', 1917), ('0x4d', 1915), ('#0xd4]', 1914), ('-0x7ee0', 1910), ('0x104]', 1909), ('0xe4', 1908), ('0x1b8]', 1907), ('#8,', 1904), ('#-0x9c]', 1903), ('ubfx', 1901), ('-0x7d88', 1899), ('0x4e', 1898), ('0x82', 1898), ('sxth', 1897), ('#-0x8c]', 1896), ('0xa4],', 1892), ('0xc1', 1881), ('0x100],', 1877), ('-0x7d58', 1877), ('0xf4', 1874), ('-0x7ed0', 1874), ('#0x13', 1873), ('0x3d', 1871), ('xmm14', 1870), ('0x6e', 1864), ('mul.d', 1855), ('0xbb110', 1854), ('#0xf4]', 1853), ('#-0xa8]', 1852), ('0x114]', 1848), ('#0xf8', 1845), ('#0x12', 1845), ('0x1a0]', 1844), ('0xf]', 1836), ('0x5a', 1835), ('#0x11', 1835), ('#0xb1b7', 1834), ('#0xbebb,', 1834), ('0x32', 1834), ('0x4000', 1831), ('0x1b8', 1827), ('b.mi', 1826), ('#0xf80]', 1825), ('ins', 1824), ('gt', 1815), ('s1', 1805), ('0x15c]', 1804), ('pslld', 1800), ('-0x7e98', 1797), ('es:[edi],', 1797), ('#32', 1795), ('paddw', 1795), ('fldz', 1793), ('#0x118', 1783), ('r14b,', 1780), ('#0xa00b0', 1779), ('fcomip', 1778), ('0x134]', 1777), ('{r1,', 1775), ('0xf8],', 1774), ('#0x104]', 1773), ('0xa]', 1772), ('#-0x94]', 1766), ('movgt', 1755), ('0x154]', 1753), ('0x8000', 1753), ('d7,', 1753), ('[x11,', 1751), ('0x1c8', 1751), ('xmm15', 1751), ('cvtsi2ss', 1743), ('d10,', 1742), ('fst', 1740), ('0x1c0]', 1737), ('pand', 1736), ('cmovns', 1735), ('#0x178]', 1734), ('0x1c8]', 1731), ('div', 1726), ('0xff00', 1726), ('0xac],', 1723), ('#-0xb0]', 1722), ('0x174]', 1722), ('#0x12c]', 1721), ('0x5d', 1718), ('r0]', 1711), ('0x144]', 1708), ('#0x5b8f0', 1708), ('0x5d8d0', 1708), ('0x14c]', 1705), ('#0x11c]', 1702), ('0x198]', 1701), ('0x210', 1701), ('#7]', 1696), ('0x124]', 1695), ('#0xbedf0', 1694), ('v0.16b,', 1693), ('dmtc1', 1691), ('#0x198]', 1689), ('dsrl', 1685), ('#0x188]', 1683), ('orrs', 1683), ('cx,', 1682), ('#0x1f0', 1682), ('0x63', 1682), ('mm7', 1682), ('aesenc', 1680), ('[x4]', 1679), ('#0x1e', 1677), ('0x1b0]', 1675), ('#-0xf0]', 1668), ('-0x7db0', 1666), ('#-0x70]!', 1664), ('#-0xc8]', 1659), ('0x1b0', 1658), ('-0x7f10', 1658), ('0x73', 1655), ('movle', 1653), ('0x53', 1649), ('r2}', 1648), ('[r13],', 1647), ('add.d', 1646), ('0x7fffffff', 1643), ('0x268]', 1641), ('x1]', 1635), ('[x26]', 1629), ('#22', 1629), ('xmm15,', 1627), ('-0x18', 1626), ('0x26', 1624), ('#-0xd0]', 1623), ('0x110],', 1622), ('-0x7db8', 1615), ('0xc0100', 1615), ('-0x7db4', 1614), ('rsblt', 1614), ('x18,', 1612), ('-0x7dd0', 1606), ('#-2]', 1605), ('0x49', 1602), ('-0x58', 1601), ('-0x7e40', 1598), ('d3,', 1597), ('sbc', 1597), ('-0x7e88', 1594), ('#0xfc]', 1593), ('0x6c8]', 1592), ('comisd', 1591), ('-0x7ea8', 1590), ('#0x114]', 1589), ('-0x7c80', 1588), ('0xbc],', 1588), ('0x1d0]', 1588), ('#0x6c8]', 1586), ('#0x128', 1585), ('addeq', 1582), ('d16,', 1581), ('r7}', 1575), ('0xe]', 1573), ('divsd', 1572), ('0x69', 1571), ('#0x1a8]', 1568), ('#0x84', 1567), ('-0x79e8', 1566), ('0xc68]', 1562), ('0x200]', 1561), ('0x118],', 1559), ('0x1d8', 1556), ('movlo', 1555), ('-0x90', 1553), ('[r15],', 1552), ('#0xf78]', 1549), ('#-0xac]', 1548), ('0x228]', 1548), ('#0x130', 1545), ('#0xc,', 1545), ('#0x17', 1544), ('teq', 1540), ('#2]!', 1539), ('0xc4],', 1537), ('0x108],', 1535), ('0x240]', 1529), ('#-0xa4]', 1525), ('movhs', 1525), ('#0x110', 1520), ('s3,', 1520), ('6],', 1518), ('#0x22', 1514), ('0xb4],', 1513), ('0xfffffffc', 1513), ('-0x7b60', 1509), ('#0x124]', 1503), ('0x37', 1503), ('ah,', 1502), ('mi', 1502), ('-0x7f30', 1494), ('#0xff0000', 1494), ('ebx]', 1492), ('$t5', 1492), ('#0x134]', 1483), ('#0xc68]', 1483), ('0x300', 1482), ('0x120],', 1481), ('-0x7ec8', 1480), ('-0x7d54', 1480), ('dsll32', 1477), ('ecx]', 1476), ('ucomisd', 1476), ('0x220]', 1471), ('-0x7d60', 1470), ('#0x1b0]', 1467), ('0x3fffffff', 1467), ('-0x7e38', 1466), ('9]', 1462), ('0xf],', 1455), ('-0x7e70', 1451), ('#0x268]', 1449), ('-0x7fc4', 1448), ('drotr', 1445), ('v29.2s,', 1441), ('0x77', 1440), ('#0xc0000000', 1440), ('aese', 1440), ('0x10c', 1438), ('-0x7eb8', 1438), ('0x184]', 1433), ('-0x7aa0', 1432), ('[x12,', 1431), ('uxtw]', 1431), ('#0x1a0]', 1427), ('0x109', 1427), ('0x1e8]', 1425), ('0x1e8', 1425), ('#0x8c', 1423), ('-0x7e90', 1419), ('#0x1e0]', 1418), ('9],', 1418), ('#0x16]', 1417), ('r4}', 1414), ('r14b', 1412), ('0x140],', 1411), ('[x25]', 1410), ('0x6d', 1409), ('0x12c', 1407), ('0x3e8', 1404), ('#0x140', 1401), (',', 1399), ('#0x39', 1399), ('cmpeq', 1396), ('0xcb', 1395), ('w13', 1390), ('0x14c', 1389), ('0x45', 1388), ('#-0xd8]', 1384), ('#-0xb4]', 1381), ('0x11c', 1381), ('-0x7ea0', 1380), ('nor', 1379), ('#0x2f', 1378), ('rev16', 1377), ('0x71', 1376), ('#0x7f', 1375), ('v1.16b,', 1371), ('#0x2e', 1369), ('psubw', 1369), ('#0x19', 1368), ('r15b', 1368), ('-0x7fd8', 1364), ('r12b', 1363), ('0x210]', 1358), ('-0x7b50', 1358), ('0xb]', 1358), ('0x138],', 1357), ('0x114', 1357), ('#0x800', 1356), ('#0x13c]', 1354), ('0x124', 1351), ('#0x310]', 1350), ('0xcba60', 1350), ('#0x1c8]', 1349), ('-0x7b58', 1346), ('0x248', 1346), ('0x164]', 1344), ('subss', 1344), ('#0x4000', 1343), ('0x29', 1341), ('0x1f8', 1340), ('-0x7fa4', 1338), ('-0x7cd0', 1338), ('0x1d0', 1337), ('0x128],', 1336), ('0xdcce0', 1334), ('3],', 1333), ('fistp', 1331), ('#9]', 1329), ('#0x94', 1329), ('0xa],', 1328), ('r12b,', 1327), ('#0x8000', 1326), ('br', 1325), ('#-0xe8]', 1323), ('subne', 1323), ('0x4f', 1323), ('bt', 1322), ('aesmc', 1320), ('0x16c]', 1318), ('sil,', 1318), ('-0x7c78', 1317), ('0x238', 1316), ('r15b,', 1316), ('0x230]', 1315), ('movi', 1315), ('#0xcb2d8', 1314), ('0x130],', 1313), ('clz', 1313), ('-0x78a8', 1311), ('0x1d8]', 1310), ('#0xfa8a0', 1309), ('-0x7ed8', 1308), ('-0x7fe4', 1308), ('0x1112cc', 1308), ('0x10f4bc', 1308), ('#0xc2acc', 1307), ('#0xcca98', 1307), ('0x14ed58', 1307), ('0x1510f8', 1307), ('0x12deb4', 1307), ('#0xf9070', 1307), ('#0xef428', 1307), ('esi]', 1306), ('$t6', 1304), ('fld1', 1304), ('0x17c]', 1303), ('#0x138', 1302), ('0x226ad0', 1299), ('#0x1c0]', 1298), ('#0x33c0', 1298), ('r8b', 1297), ('0x258', 1293), ('seb', 1290), ('rbx]', 1288), ('[x0],', 1288), ('#0x1d0]', 1286), ('repe', 1286), ('cmpsb', 1286), ('-0x78b0', 1284), ('-0x7f18', 1283), ('0x208', 1283), ('$f1', 1282), ('0xcc],', 1281), ('smaddl', 1280), ('v28.2s,', 1280), ('#-0x100]', 1279), ('q1,', 1278), ('-0x7eb0', 1278), ('0x250]', 1277), ('s2', 1277), ('-0x7d98', 1276), ('0x268', 1276), ('0x207860', 1275), ('x8]', 1274), ('rax],', 1273), ('#0x1f0]', 1271), ('#0x1b8]', 1268), ('0x3b', 1267), ('0xdc],', 1265), ('msub', 1263), ('0xffffffea', 1262), ('r13b,', 1262), ('0x3400]', 1260), ('ip]', 1259), ('#0x3a', 1259), ('mtc1', 1258), ('#0x8000,', 1254), ('0x248]', 1253), ('mm0,', 1252), ('0x11],', 1251), ('0x440', 1250), ('-0x79d8', 1247), ('-0x7df0', 1246), ('0xec],', 1243), ('0x150],', 1239), ('ls', 1237), ('#-0xc4]', 1236), ('0x15c', 1236), ('0x47', 1236), ('0xfff', 1236), ('#0x144]', 1235), ('0x108030', 1235), ('$t7', 1234), ('0x310', 1234), ('0x228', 1232), ('#0xc3918', 1227), ('#0xef998', 1226), ('5],', 1225), ('#0xf96e0', 1224), ('#0xcc238', 1223), ('-0x7de0', 1222), ('cmovbe', 1222), ('#0xcda00', 1222), ('#0xfaf18', 1222), ('0x158],', 1220), ('mm7,', 1218), ('-0xa0', 1217), ('7],', 1216), ('0x80000000', 1215), ('#0x300', 1211), ('0x1324bb0', 1210), ('-0x7cc8', 1207), ('#0xa5380', 1207), ('#0x483e4', 1205), ('asrne', 1205), ('d2', 1204), ('edi]', 1203), ('#0x1f8]', 1202), ('bmi', 1202), ('0x10a000', 1202), ('-3', 1200), ('0x13c', 1197), ('#0x208]', 1196), ('0x148],', 1196), ('#0x14c]', 1192), ('negu', 1191), ('#0x200]', 1188), ('0xd3', 1187), ('#0x12]', 1187), ('dil', 1186), ('0xd]', 1186), ('#0xe]', 1186), ('x14', 1185), ('x13', 1183), ('0xd4],', 1183), ('#0xa1ee0', 1183), ('r13b', 1183), ('fsubr', 1182), ('#0x254]', 1181), ('0x52', 1181), ('0x250', 1180), ('0x4ae30', 1180), ('v2.16b,', 1180), ('-0x7a80', 1180), ('0x499e0', 1177), ('w30,', 1176), ('0xe4],', 1175), ('-0x7dd8', 1174), ('#0x148', 1173), ('r9b', 1169), ('#0x494d0', 1168), ('-0x59c8', 1168), ('-0x6ff0', 1168), ('-0x7cf0', 1167), ('#0xb4420', 1167), ('0x81d60', 1166), ('-0x7e00', 1166), ('0x3ff', 1165), ('#-0xe0]', 1165), ('0xd81c0', 1164), ('#0x210]', 1163), ('0x33', 1163), ('0x144', 1162), ('[x5]', 1159), ('#-0xbc]', 1157), ('-0x7eec', 1156), ('mm6', 1155), ('0x208]', 1153), ('$t8', 1150), ('#-0xf8]', 1147), ('dil,', 1142), ('r5}', 1141), ('#1.00000000', 1140), ('0x230', 1138), ('-0x7c40', 1137), ('0x62', 1135), ('x2]', 1134), ('0x218', 1134), ('0xf42d20', 1133), ('0xf170c0', 1133), ('0x121e5c', 1133), ('0xffffff00', 1132), ('-0x7dc0', 1131), ('sb}', 1130), ('#0x5000', 1130), ('psraw', 1130), ('addls', 1129), ('-0x7e68', 1128), ('0x168],', 1127), ('[x13,', 1126), ('0x154', 1126), ('#0x5d198', 1125), ('0x586d8', 1125), ('#0x54f04', 1125), ('rsbs', 1123), ('-0x7f2c', 1123), ('0x3fff', 1123), ('0x3e', 1122), ('0x5d074', 1122), ('#0x218]', 1120), ('drotr32', 1120), ('#0x15c]', 1118), ('0x1f8]', 1118), ('di', 1118), ('#-0x10]!', 1117), ('-0x7f3c', 1117), ('0x238]', 1114), ('fabs', 1113), ('0x112c62', 1112), ('#0xd4', 1108), ('0x18c]', 1107), ('-0x7e1c', 1106), ('sllv', 1106), ('mm3,', 1105), ('0x51', 1104), ('#0x9', 1103), ('0x5b', 1099), ('0x7d', 1099), ('r8]', 1098), ('-0x7de8', 1096), ('#28', 1096), ('v3.16b,', 1094), ('0xcf2db0', 1093), ('#0x21', 1093), ('-0x1c58', 1093), ('stosd', 1091), ('0xde4ea0', 1087), ('fcomi', 1087), ('#-0x80]!', 1086), ('0x12]', 1085), ('#0x25', 1083), ('#6,', 1082), ('0xff160', 1081), ('0x270', 1080), ('#0x454b0', 1079), ('fsubp', 1078), ('#0x48278', 1077), ('-0x7c70', 1076), ('-0x7df8', 1076), ('w14', 1075), ('-0x7f38', 1074), ('#0x3400', 1074), ('0x260]', 1073), ('#0x454dc', 1073), ('#0x1e8]', 1072), ('#0x450c8', 1072), ('#0xa4ec0', 1068), ('0x31', 1068), ('#0xda1c4', 1068), ('0xdcd50', 1065), ('-0x7e08', 1065), ('0x290]', 1064), ('#0x2d', 1064), ('adr', 1063), ('w15', 1054), ('0x270]', 1053), ('#0xb2510', 1051), ('#0x220]', 1050), ('#0x23', 1049), ('0x24620', 1046), ('#0x150', 1045), ('#0x210', 1044), ('#0x1d8]', 1043), ('-0x7cb8', 1043), ('dsra', 1043), ('mfc1', 1042), ('0x2f0770', 1041), ('#-0xdc]', 1039), ('0x134', 1039), ('0x321a90', 1039), ('0x220', 1039), ('0xff00ff00', 1039), ('$f13,', 1038), ('0xe],', 1037), ('#0x1a', 1037), ('-0x7c38', 1036), ('mm0', 1036), ('#0x1b', 1035), ('#0x28e5f4', 1033), ('#0xaed44', 1032), ('0x305d7a', 1031), ('#0x2cb498', 1030), ('0x278', 1029), ('#0x2818e0', 1028), ('d11,', 1028), ('-0x7a30', 1027), ('0x23a8e6', 1027), ('0x6dfe0', 1027), ('-0x7c50', 1027), ('0x280]', 1026), ('0x260', 1021), ('0x160],', 1020), ('[x14,', 1019), ('#0x320]', 1019), ('0xf4],', 1019), ('#0x298', 1018), ('setg', 1018), ('-0x7b48', 1017), ('#0x587e4', 1017), ('mm1,', 1016), ('-0x7d68', 1014), ('#0x82', 1014), ('-0x7d90', 1012), ('0xdccd0', 1012), ('#-0xcc]', 1010), ('-0x7d38', 1010), ('0x288', 1010), ('0xbb', 1008), ('-0xb0', 1005), ('#0xb2e20', 1005), ('#0x228]', 1003), ('-0x7fac', 1003), ('rbp]', 1002), ('-0x7fbc', 1001), ('-0xc', 1001), ('0x46', 1000), ('d19,', 1000), ('#0x58e6c', 999), ('#-0xec]', 998), ('0x10c],', 998), ('0x101', 998), ('0x280', 996), ('[x10]', 993), ('[x27]', 992), ('rsi]', 991), ('0x1e]', 991), ('-0x7e48', 988), ('0x310]', 988), ('#0x184]', 986), ('-0x7e30', 982), ('0x190],', 980), ('0x180],', 980), ('{r6,', 979), ('x17', 978), ('-0x7d18', 978), ('stmib', 978), ('-0x7dc8', 976), ('0x6e060', 976), ('#-0xd4]', 975), ('#0x154]', 975), ('0xbf', 975), ('#0x1a3530', 974), ('#0x9c', 974), ('movhi', 973), ('0x1affe2', 973), ('-0x6238', 972), ('0x67', 972), ('-0x7d78', 971), ('#0x198', 971), ('#0x16c]', 970), ('0xb1', 969), ('#0x168', 969), ('0x75', 969), ('#0x230]', 968), ('#0xffffffff', 968), ('0x288]', 966), ('0x490ace', 965), ('#-0xfc]', 964), ('#0x1,', 964), ('fcvtzs', 963), ('0x19],', 962)]\n"
     ]
    }
   ],
   "source": [
    "from itertools import islice\n",
    "\n",
    "def take(n, iterable):\n",
    "    \"Return first n items of the iterable as a list\"\n",
    "    return list(islice(iterable, n))\n",
    "\n",
    "\n",
    "def pr_N_mostFrequentNumber(arr, K = 2000):\n",
    "    from collections import defaultdict\n",
    "    \n",
    "    temp = defaultdict(int)\n",
    "    for wrd in l:\n",
    "        temp[wrd] += 1\n",
    " \n",
    "    # getting max frequency\n",
    "    t = sorted(temp.items(),key=lambda kv:kv[1],reverse=True)\n",
    "    return t[:K]\n",
    "\n",
    "words = pr_N_mostFrequentNumber(l)\n",
    "\n",
    "# col = col.apply(lambda x: len(tokenizer.tokenize(x)))\n",
    "\n",
    "\n",
    "print(words)\n",
    "# col.hist(bins=50)\n",
    "\n",
    "words = [k for k, v in words]\n",
    "s = set(words)\n",
    "for idx, row in df.iterrows():\n",
    "    x = row['code']\n",
    "    l = [y[2] for y in ast.literal_eval(x)]\n",
    "    for t in l:\n",
    "        s.add(t.split(\"\\t\")[0])"
   ]
  },
  {
   "cell_type": "code",
   "execution_count": 36,
   "id": "d4954908",
   "metadata": {},
   "outputs": [
    {
     "name": "stdout",
     "output_type": "stream",
     "text": [
      "new_words: 2703\n",
      "50265\n",
      "52857\n"
     ]
    },
    {
     "data": {
      "text/html": [
       "<div>\n",
       "<style scoped>\n",
       "    .dataframe tbody tr th:only-of-type {\n",
       "        vertical-align: middle;\n",
       "    }\n",
       "\n",
       "    .dataframe tbody tr th {\n",
       "        vertical-align: top;\n",
       "    }\n",
       "\n",
       "    .dataframe thead th {\n",
       "        text-align: right;\n",
       "    }\n",
       "</style>\n",
       "<table border=\"1\" class=\"dataframe\">\n",
       "  <thead>\n",
       "    <tr style=\"text-align: right;\">\n",
       "      <th></th>\n",
       "      <th></th>\n",
       "      <th>Unnamed: 0.1</th>\n",
       "      <th>Unnamed: 0</th>\n",
       "      <th>arch</th>\n",
       "      <th>compiler</th>\n",
       "      <th>opti</th>\n",
       "      <th>code</th>\n",
       "      <th>block</th>\n",
       "      <th>cfg</th>\n",
       "      <th>gid</th>\n",
       "    </tr>\n",
       "    <tr>\n",
       "      <th>fid</th>\n",
       "      <th></th>\n",
       "      <th></th>\n",
       "      <th></th>\n",
       "      <th></th>\n",
       "      <th></th>\n",
       "      <th></th>\n",
       "      <th></th>\n",
       "      <th></th>\n",
       "      <th></th>\n",
       "      <th></th>\n",
       "    </tr>\n",
       "  </thead>\n",
       "  <tbody>\n",
       "    <tr>\n",
       "      <th>1651875</th>\n",
       "      <th>0</th>\n",
       "      <td>0</td>\n",
       "      <td>53697</td>\n",
       "      <td>mipsel_64</td>\n",
       "      <td>gcc</td>\n",
       "      <td>O1</td>\n",
       "      <td>[[4831882272, '30ffbd67', 'daddiu\\t$sp, $sp, -...</td>\n",
       "      <td>[[0, 4831882272, 4831882396], [1, 4831882396, ...</td>\n",
       "      <td>[[0, 1], [1, 2], [1, 6], [2, 3], [2, 7], [3, 4...</td>\n",
       "      <td>5991</td>\n",
       "    </tr>\n",
       "    <tr>\n",
       "      <th>3639551</th>\n",
       "      <th>1</th>\n",
       "      <td>1</td>\n",
       "      <td>155611</td>\n",
       "      <td>arm_64</td>\n",
       "      <td>gcc</td>\n",
       "      <td>O0</td>\n",
       "      <td>[[43680, 'fd7bb6a9', 'stp\\tx29, x30, [sp, #-0x...</td>\n",
       "      <td>[[0, 43680, 43708], [1, 43708, 43920], [2, 439...</td>\n",
       "      <td>[[0, 1], [1, 2], [1, 3], [2, 11], [3, 4], [3, ...</td>\n",
       "      <td>5991</td>\n",
       "    </tr>\n",
       "    <tr>\n",
       "      <th>3528955</th>\n",
       "      <th>2</th>\n",
       "      <td>2</td>\n",
       "      <td>158699</td>\n",
       "      <td>arm_64</td>\n",
       "      <td>gcc</td>\n",
       "      <td>Os</td>\n",
       "      <td>[[41384, 'fd7bb4a9', 'stp\\tx29, x30, [sp, #-0x...</td>\n",
       "      <td>[[0, 41384, 41464], [1, 41464, 41572], [2, 415...</td>\n",
       "      <td>[[0, 1], [1, 2], [1, 5], [2, 3], [3, 4], [3, 1...</td>\n",
       "      <td>5991</td>\n",
       "    </tr>\n",
       "    <tr>\n",
       "      <th>2161752</th>\n",
       "      <th>3</th>\n",
       "      <td>3</td>\n",
       "      <td>216275</td>\n",
       "      <td>x86_32</td>\n",
       "      <td>gcc</td>\n",
       "      <td>Os</td>\n",
       "      <td>[[38130, '55', 'push\\tebp'], [38131, '89e5', '...</td>\n",
       "      <td>[[0, 38130, 38176], [1, 38176, 38314], [2, 383...</td>\n",
       "      <td>[[0, 1], [1, 2], [1, 3], [2, 9], [3, 4], [3, 6...</td>\n",
       "      <td>5991</td>\n",
       "    </tr>\n",
       "    <tr>\n",
       "      <th>2606838</th>\n",
       "      <th>4</th>\n",
       "      <td>4</td>\n",
       "      <td>314769</td>\n",
       "      <td>x86_64</td>\n",
       "      <td>gcc</td>\n",
       "      <td>Os</td>\n",
       "      <td>[[43466, '55', 'push\\trbp'], [43467, '53', 'pu...</td>\n",
       "      <td>[[0, 43466, 43498], [1, 43498, 43681], [2, 436...</td>\n",
       "      <td>[[0, 1], [1, 2], [1, 3], [2, 9], [3, 4], [3, 6...</td>\n",
       "      <td>5991</td>\n",
       "    </tr>\n",
       "  </tbody>\n",
       "</table>\n",
       "</div>"
      ],
      "text/plain": [
       "           Unnamed: 0.1  Unnamed: 0       arch compiler opti  \\\n",
       "fid                                                            \n",
       "1651875 0             0       53697  mipsel_64      gcc   O1   \n",
       "3639551 1             1      155611     arm_64      gcc   O0   \n",
       "3528955 2             2      158699     arm_64      gcc   Os   \n",
       "2161752 3             3      216275     x86_32      gcc   Os   \n",
       "2606838 4             4      314769     x86_64      gcc   Os   \n",
       "\n",
       "                                                        code  \\\n",
       "fid                                                            \n",
       "1651875 0  [[4831882272, '30ffbd67', 'daddiu\\t$sp, $sp, -...   \n",
       "3639551 1  [[43680, 'fd7bb6a9', 'stp\\tx29, x30, [sp, #-0x...   \n",
       "3528955 2  [[41384, 'fd7bb4a9', 'stp\\tx29, x30, [sp, #-0x...   \n",
       "2161752 3  [[38130, '55', 'push\\tebp'], [38131, '89e5', '...   \n",
       "2606838 4  [[43466, '55', 'push\\trbp'], [43467, '53', 'pu...   \n",
       "\n",
       "                                                       block  \\\n",
       "fid                                                            \n",
       "1651875 0  [[0, 4831882272, 4831882396], [1, 4831882396, ...   \n",
       "3639551 1  [[0, 43680, 43708], [1, 43708, 43920], [2, 439...   \n",
       "3528955 2  [[0, 41384, 41464], [1, 41464, 41572], [2, 415...   \n",
       "2161752 3  [[0, 38130, 38176], [1, 38176, 38314], [2, 383...   \n",
       "2606838 4  [[0, 43466, 43498], [1, 43498, 43681], [2, 436...   \n",
       "\n",
       "                                                         cfg   gid  \n",
       "fid                                                                 \n",
       "1651875 0  [[0, 1], [1, 2], [1, 6], [2, 3], [2, 7], [3, 4...  5991  \n",
       "3639551 1  [[0, 1], [1, 2], [1, 3], [2, 11], [3, 4], [3, ...  5991  \n",
       "3528955 2  [[0, 1], [1, 2], [1, 5], [2, 3], [3, 4], [3, 1...  5991  \n",
       "2161752 3  [[0, 1], [1, 2], [1, 3], [2, 9], [3, 4], [3, 6...  5991  \n",
       "2606838 4  [[0, 1], [1, 2], [1, 3], [2, 9], [3, 4], [3, 6...  5991  "
      ]
     },
     "execution_count": 36,
     "metadata": {},
     "output_type": "execute_result"
    }
   ],
   "source": [
    "tokenizer = AutoTokenizer.from_pretrained(\"microsoft/codebert-base\") # \"microsoft/codebert-base\")\n",
    "model = AutoModel.from_pretrained(\"microsoft/codebert-base\")       \n",
    "        \n",
    "        \n",
    "# register_words = []\n",
    "command_words = list(s)\n",
    "new_words = command_words\n",
    "print(\"new_words:\", len(new_words))\n",
    "\n",
    "print(len(tokenizer))\n",
    "num_added_toks = tokenizer.add_tokens(new_words) #返回一个数，表示加入的新词数量，在这里是2\n",
    "#关键步骤，resize_token_embeddings输入的参数是tokenizer的新长度\n",
    "#tokenizer.resize_token_embeddings(len(tokenizer)) \n",
    "print(len(tokenizer))\n",
    "\n",
    "\n",
    "\n",
    "tokenizer.save_pretrained(\"microsoft/codebert-base-vocabplus\")\n",
    "\n",
    "model.resize_token_embeddings(len(tokenizer)) \n",
    "model.save_pretrained(\"microsoft/codebert-base-vocabplus\")\n",
    "df.head()"
   ]
  },
  {
   "cell_type": "code",
   "execution_count": null,
   "id": "dc8c638d",
   "metadata": {},
   "outputs": [],
   "source": [
    "col = df['code'].apply(lambda x: ' '.join([y[2] for y in ast.literal_eval(x)]))\n",
    "cnt_col = df['code'].apply(lambda x: ''.join([\"0\" for y in ast.literal_eval(x)]))"
   ]
  },
  {
   "cell_type": "code",
   "execution_count": null,
   "id": "99eccefb",
   "metadata": {},
   "outputs": [],
   "source": [
    "col = col.reset_index(drop=True)\n",
    "col.head(), col.iloc[3], type(col.iloc[3])"
   ]
  },
  {
   "cell_type": "code",
   "execution_count": null,
   "id": "bc5d6865",
   "metadata": {},
   "outputs": [],
   "source": [
    "tokenizer.tokenize(col.iloc[20])"
   ]
  },
  {
   "cell_type": "code",
   "execution_count": null,
   "id": "c3966124",
   "metadata": {},
   "outputs": [],
   "source": [
    "col.iloc[20]"
   ]
  },
  {
   "cell_type": "code",
   "execution_count": null,
   "id": "d8dcdc17",
   "metadata": {},
   "outputs": [],
   "source": [
    "len_col = col.apply(lambda x: min(len(tokenizer.tokenize(x)), 5000))\n",
    "cnt_len_col = cnt_col.apply(lambda x: min(len(tokenizer.tokenize(x)), 5000))"
   ]
  },
  {
   "cell_type": "code",
   "execution_count": null,
   "id": "0a9e6cd4",
   "metadata": {},
   "outputs": [],
   "source": [
    "print(max(len_col), len_col.mean(),  min(len_col))\n",
    "# deberta mean 1353, min 62\n",
    "# deberta wordplus mean 1285, min 27\n",
    "# codebert 1252.8829581543469 25\n",
    "# codebert word1252.8829581543469 25\n",
    "len_col.hist(bins=50)\n"
   ]
  },
  {
   "cell_type": "code",
   "execution_count": null,
   "id": "84897b44",
   "metadata": {},
   "outputs": [],
   "source": [
    "cnt_len_col.hist(bins=50)"
   ]
  },
  {
   "cell_type": "code",
   "execution_count": 15,
   "id": "0b864884",
   "metadata": {},
   "outputs": [
    {
     "data": {
      "text/plain": [
       "('microsoft/codebert-base/tokenizer_config.json',\n",
       " 'microsoft/codebert-base/special_tokens_map.json',\n",
       " 'microsoft/codebert-base/vocab.json',\n",
       " 'microsoft/codebert-base/merges.txt',\n",
       " 'microsoft/codebert-base/added_tokens.json',\n",
       " 'microsoft/codebert-base/tokenizer.json')"
      ]
     },
     "execution_count": 15,
     "metadata": {},
     "output_type": "execute_result"
    }
   ],
   "source": [
    "tokenizer.save_pretrained(\"microsoft/codebert-base\")"
   ]
  },
  {
   "cell_type": "code",
   "execution_count": null,
   "id": "983ba2f4",
   "metadata": {},
   "outputs": [],
   "source": [
    "from transformers import BertForMaskedLM, BertTokenizer\n",
    "\n",
    "model = \"Pretrained_LMs/bert-base-cased\" \n",
    "tokenizer = BertTokenizer.from_pretrained(model, use_fast=True)\n",
    "model = BertForMaskedLM.from_pretrained(model)\n",
    "\n",
    "print(tokenizer.tokenize('COVID'))\n",
    "print(tokenizer.tokenize('hospitalization'))\n",
    "\n",
    "\n",
    "\n"
   ]
  },
  {
   "cell_type": "code",
   "execution_count": 29,
   "id": "a1c567d3",
   "metadata": {},
   "outputs": [
    {
     "name": "stdout",
     "output_type": "stream",
     "text": [
      "666\n"
     ]
    }
   ],
   "source": [
    "\n",
    "# col = df['code'].apply(lambda x: '@'.join([y[2] for y in ast.literal_eval(x)]))"
   ]
  },
  {
   "cell_type": "code",
   "execution_count": 30,
   "id": "b70ecc78",
   "metadata": {},
   "outputs": [
    {
     "data": {
      "text/plain": [
       "{'adc',\n",
       " 'adcs',\n",
       " 'add',\n",
       " 'add.d',\n",
       " 'addeq',\n",
       " 'addge',\n",
       " 'addgt',\n",
       " 'addhi',\n",
       " 'addiu',\n",
       " 'addle',\n",
       " 'addlo',\n",
       " 'addls',\n",
       " 'addlt',\n",
       " 'addmi',\n",
       " 'addne',\n",
       " 'addp',\n",
       " 'addpd',\n",
       " 'adds',\n",
       " 'addsd',\n",
       " 'addss',\n",
       " 'addu',\n",
       " 'adr',\n",
       " 'adrp',\n",
       " 'aesdec',\n",
       " 'aesdeclast',\n",
       " 'aesenc',\n",
       " 'aesenclast',\n",
       " 'aesimc',\n",
       " 'and',\n",
       " 'andeq',\n",
       " 'andge',\n",
       " 'andgt',\n",
       " 'andhi',\n",
       " 'andi',\n",
       " 'andle',\n",
       " 'andls',\n",
       " 'andlt',\n",
       " 'andne',\n",
       " 'andnpd',\n",
       " 'andnps',\n",
       " 'andpd',\n",
       " 'andps',\n",
       " 'ands',\n",
       " 'andsne',\n",
       " 'asr',\n",
       " 'asreq',\n",
       " 'asrgt',\n",
       " 'asrle',\n",
       " 'asrne',\n",
       " 'b',\n",
       " 'b.eq',\n",
       " 'b.ge',\n",
       " 'b.gt',\n",
       " 'b.hi',\n",
       " 'b.hs',\n",
       " 'b.le',\n",
       " 'b.lo',\n",
       " 'b.ls',\n",
       " 'b.lt',\n",
       " 'b.mi',\n",
       " 'b.ne',\n",
       " 'b.pl',\n",
       " 'bal',\n",
       " 'bc1f',\n",
       " 'bc1t',\n",
       " 'beq',\n",
       " 'beqz',\n",
       " 'bfi',\n",
       " 'bfxil',\n",
       " 'bge',\n",
       " 'bgez',\n",
       " 'bgt',\n",
       " 'bgtz',\n",
       " 'bhi',\n",
       " 'bhs',\n",
       " 'bic',\n",
       " 'biceq',\n",
       " 'bicgt',\n",
       " 'bichs',\n",
       " 'bicne',\n",
       " 'bics',\n",
       " 'bl',\n",
       " 'ble',\n",
       " 'blez',\n",
       " 'blne',\n",
       " 'blo',\n",
       " 'blr',\n",
       " 'bls',\n",
       " 'blt',\n",
       " 'bltz',\n",
       " 'blx',\n",
       " 'bmi',\n",
       " 'bne',\n",
       " 'bnez',\n",
       " 'bpl',\n",
       " 'br',\n",
       " 'brk',\n",
       " 'bsr',\n",
       " 'bswap',\n",
       " 'bt',\n",
       " 'btc',\n",
       " 'bx',\n",
       " 'bxeq',\n",
       " 'bxle',\n",
       " 'bxlo',\n",
       " 'bxls',\n",
       " 'bxlt',\n",
       " 'bxne',\n",
       " 'c.eq.d',\n",
       " 'c.le.d',\n",
       " 'c.lt.d',\n",
       " 'c.ole.d',\n",
       " 'c.olt.d',\n",
       " 'c.ule.d',\n",
       " 'c.ult.d',\n",
       " 'call',\n",
       " 'cbnz',\n",
       " 'cbz',\n",
       " 'ccmn',\n",
       " 'ccmp',\n",
       " 'cdq',\n",
       " 'cdqe',\n",
       " 'cinc',\n",
       " 'cinv',\n",
       " 'clz',\n",
       " 'clzeq',\n",
       " 'clzne',\n",
       " 'cmhi',\n",
       " 'cmhs',\n",
       " 'cmn',\n",
       " 'cmneq',\n",
       " 'cmnne',\n",
       " 'cmova',\n",
       " 'cmovae',\n",
       " 'cmovb',\n",
       " 'cmovbe',\n",
       " 'cmove',\n",
       " 'cmovg',\n",
       " 'cmovge',\n",
       " 'cmovl',\n",
       " 'cmovle',\n",
       " 'cmovne',\n",
       " 'cmovno',\n",
       " 'cmovns',\n",
       " 'cmovo',\n",
       " 'cmovs',\n",
       " 'cmp',\n",
       " 'cmpeq',\n",
       " 'cmpge',\n",
       " 'cmphi',\n",
       " 'cmple',\n",
       " 'cmplo',\n",
       " 'cmpls',\n",
       " 'cmplt',\n",
       " 'cmpne',\n",
       " 'cmpnlesd',\n",
       " 'cmpnltss',\n",
       " 'cneg',\n",
       " 'comisd',\n",
       " 'comiss',\n",
       " 'cqo',\n",
       " 'csel',\n",
       " 'cset',\n",
       " 'csetm',\n",
       " 'csinc',\n",
       " 'csinv',\n",
       " 'cvt.d.l',\n",
       " 'cvt.d.w',\n",
       " 'cvtsd2ss',\n",
       " 'cvtsi2sd',\n",
       " 'cvtsi2ss',\n",
       " 'cvtss2sd',\n",
       " 'cvttsd2si',\n",
       " 'cvttss2si',\n",
       " 'cwde',\n",
       " 'daddiu',\n",
       " 'daddu',\n",
       " 'ddiv',\n",
       " 'ddivu',\n",
       " 'dec',\n",
       " 'dext',\n",
       " 'dextm',\n",
       " 'dextu',\n",
       " 'dins',\n",
       " 'dinsu',\n",
       " 'div',\n",
       " 'div.d',\n",
       " 'divsd',\n",
       " 'divss',\n",
       " 'divu',\n",
       " 'dmb',\n",
       " 'dmfc1',\n",
       " 'dmtc1',\n",
       " 'dmult',\n",
       " 'dmultu',\n",
       " 'dsll',\n",
       " 'dsll32',\n",
       " 'dsllv',\n",
       " 'dsra',\n",
       " 'dsra32',\n",
       " 'dsrl',\n",
       " 'dsrl32',\n",
       " 'dsubu',\n",
       " 'dup',\n",
       " 'endbr32',\n",
       " 'endbr64',\n",
       " 'eor',\n",
       " 'eoreq',\n",
       " 'eorlt',\n",
       " 'eorne',\n",
       " 'eors',\n",
       " 'ext',\n",
       " 'extr',\n",
       " 'fabs',\n",
       " 'fadd',\n",
       " 'faddp',\n",
       " 'fccmp',\n",
       " 'fchs',\n",
       " 'fcmovbe',\n",
       " 'fcmovnbe',\n",
       " 'fcmp',\n",
       " 'fcmpe',\n",
       " 'fcomi',\n",
       " 'fcomip',\n",
       " 'fcsel',\n",
       " 'fcvt',\n",
       " 'fcvtzs',\n",
       " 'fcvtzu',\n",
       " 'fdiv',\n",
       " 'fdivp',\n",
       " 'fdivr',\n",
       " 'fdivrp',\n",
       " 'fiadd',\n",
       " 'fidiv',\n",
       " 'fild',\n",
       " 'fimul',\n",
       " 'fistp',\n",
       " 'fld',\n",
       " 'fld1',\n",
       " 'fldcw',\n",
       " 'fldz',\n",
       " 'fmadd',\n",
       " 'fmov',\n",
       " 'fmul',\n",
       " 'fmulp',\n",
       " 'fneg',\n",
       " 'fnmsub',\n",
       " 'fnstcw',\n",
       " 'frintm',\n",
       " 'frndint',\n",
       " 'fsqrt',\n",
       " 'fst',\n",
       " 'fstp',\n",
       " 'fsub',\n",
       " 'fsubp',\n",
       " 'fsubr',\n",
       " 'fsubrp',\n",
       " 'fucomi',\n",
       " 'fucomip',\n",
       " 'fxch',\n",
       " 'idiv',\n",
       " 'imul',\n",
       " 'inc',\n",
       " 'ins',\n",
       " 'j',\n",
       " 'ja',\n",
       " 'jae',\n",
       " 'jal',\n",
       " 'jalr',\n",
       " 'jb',\n",
       " 'jbe',\n",
       " 'je',\n",
       " 'jg',\n",
       " 'jge',\n",
       " 'jl',\n",
       " 'jle',\n",
       " 'jmp',\n",
       " 'jne',\n",
       " 'jnp',\n",
       " 'jns',\n",
       " 'jp',\n",
       " 'jr',\n",
       " 'js',\n",
       " 'lb',\n",
       " 'lbu',\n",
       " 'ld',\n",
       " 'ld1',\n",
       " 'ld1r',\n",
       " 'ld2',\n",
       " 'ldc1',\n",
       " 'ldl',\n",
       " 'ldm',\n",
       " 'ldmda',\n",
       " 'ldmdb',\n",
       " 'ldmib',\n",
       " 'ldmlt',\n",
       " 'ldmne',\n",
       " 'ldp',\n",
       " 'ldpsw',\n",
       " 'ldr',\n",
       " 'ldrb',\n",
       " 'ldrbeq',\n",
       " 'ldrbgt',\n",
       " 'ldrbls',\n",
       " 'ldrbne',\n",
       " 'ldreq',\n",
       " 'ldrge',\n",
       " 'ldrgt',\n",
       " 'ldrh',\n",
       " 'ldrheq',\n",
       " 'ldrhge',\n",
       " 'ldrhi',\n",
       " 'ldrhlt',\n",
       " 'ldrhne',\n",
       " 'ldrle',\n",
       " 'ldrls',\n",
       " 'ldrlt',\n",
       " 'ldrmi',\n",
       " 'ldrne',\n",
       " 'ldrpl',\n",
       " 'ldrsb',\n",
       " 'ldrsbeq',\n",
       " 'ldrsh',\n",
       " 'ldrsheq',\n",
       " 'ldrshne',\n",
       " 'ldrsw',\n",
       " 'ldur',\n",
       " 'ldurb',\n",
       " 'ldurh',\n",
       " 'ldursb',\n",
       " 'ldursh',\n",
       " 'ldursw',\n",
       " 'ldxr',\n",
       " 'lea',\n",
       " 'leave',\n",
       " 'lh',\n",
       " 'lhu',\n",
       " 'll',\n",
       " 'lock add',\n",
       " 'lock cmpxchg8b',\n",
       " 'lock inc',\n",
       " 'lsl',\n",
       " 'lsleq',\n",
       " 'lslge',\n",
       " 'lslgt',\n",
       " 'lsllt',\n",
       " 'lslne',\n",
       " 'lsls',\n",
       " 'lsr',\n",
       " 'lsreq',\n",
       " 'lsrne',\n",
       " 'lui',\n",
       " 'lw',\n",
       " 'lwc1',\n",
       " 'lwl',\n",
       " 'lwr',\n",
       " 'lwu',\n",
       " 'madd',\n",
       " 'madd.d',\n",
       " 'maxsd',\n",
       " 'maxss',\n",
       " 'mfc1',\n",
       " 'mfhc1',\n",
       " 'mfhi',\n",
       " 'mflo',\n",
       " 'minsd',\n",
       " 'minss',\n",
       " 'mla',\n",
       " 'mneg',\n",
       " 'mov',\n",
       " 'mov.d',\n",
       " 'movabs',\n",
       " 'movapd',\n",
       " 'movaps',\n",
       " 'movd',\n",
       " 'movdqa',\n",
       " 'movdqu',\n",
       " 'move',\n",
       " 'moveq',\n",
       " 'movge',\n",
       " 'movgt',\n",
       " 'movhi',\n",
       " 'movhps',\n",
       " 'movhs',\n",
       " 'movi',\n",
       " 'movk',\n",
       " 'movle',\n",
       " 'movlo',\n",
       " 'movls',\n",
       " 'movlt',\n",
       " 'movmi',\n",
       " 'movn',\n",
       " 'movne',\n",
       " 'movpl',\n",
       " 'movq',\n",
       " 'movsd',\n",
       " 'movss',\n",
       " 'movsx',\n",
       " 'movsxd',\n",
       " 'movt',\n",
       " 'movupd',\n",
       " 'movups',\n",
       " 'movz',\n",
       " 'movzx',\n",
       " 'msub',\n",
       " 'mtc1',\n",
       " 'mthc1',\n",
       " 'mthi',\n",
       " 'mtlo',\n",
       " 'mul',\n",
       " 'mul.d',\n",
       " 'mulge',\n",
       " 'mulpd',\n",
       " 'mulsd',\n",
       " 'mulss',\n",
       " 'mult',\n",
       " 'multu',\n",
       " 'mvn',\n",
       " 'mvneq',\n",
       " 'mvnge',\n",
       " 'mvnle',\n",
       " 'mvnls',\n",
       " 'mvnlt',\n",
       " 'mvnne',\n",
       " 'neg',\n",
       " 'neg.d',\n",
       " 'negs',\n",
       " 'negu',\n",
       " 'ngc',\n",
       " 'ngcs',\n",
       " 'nop',\n",
       " 'nor',\n",
       " 'not',\n",
       " 'or',\n",
       " 'ori',\n",
       " 'orn',\n",
       " 'orpd',\n",
       " 'orps',\n",
       " 'orr',\n",
       " 'orreq',\n",
       " 'orrge',\n",
       " 'orrgt',\n",
       " 'orrhi',\n",
       " 'orrhs',\n",
       " 'orrle',\n",
       " 'orrls',\n",
       " 'orrlt',\n",
       " 'orrne',\n",
       " 'orrpl',\n",
       " 'orrs',\n",
       " 'packssdw',\n",
       " 'packuswb',\n",
       " 'paddd',\n",
       " 'paddq',\n",
       " 'paddusw',\n",
       " 'paddw',\n",
       " 'pand',\n",
       " 'pandn',\n",
       " 'pcmpeqb',\n",
       " 'pcmpeqd',\n",
       " 'pcmpeqw',\n",
       " 'pcmpgtd',\n",
       " 'pcmpgtw',\n",
       " 'pmaddwd',\n",
       " 'pmovmskb',\n",
       " 'pmulhw',\n",
       " 'pmullw',\n",
       " 'pop',\n",
       " 'popeq',\n",
       " 'popge',\n",
       " 'pophs',\n",
       " 'pople',\n",
       " 'poplo',\n",
       " 'popls',\n",
       " 'poplt',\n",
       " 'popne',\n",
       " 'por',\n",
       " 'prefetcht0',\n",
       " 'pshufb',\n",
       " 'pshufd',\n",
       " 'pslld',\n",
       " 'pslldq',\n",
       " 'psllq',\n",
       " 'psllw',\n",
       " 'psrad',\n",
       " 'psraw',\n",
       " 'psrld',\n",
       " 'psrldq',\n",
       " 'psrlq',\n",
       " 'psrlw',\n",
       " 'psubd',\n",
       " 'psubusw',\n",
       " 'psubw',\n",
       " 'punpckhbw',\n",
       " 'punpckhdq',\n",
       " 'punpckhwd',\n",
       " 'punpcklbw',\n",
       " 'punpckldq',\n",
       " 'punpcklqdq',\n",
       " 'punpcklwd',\n",
       " 'push',\n",
       " 'pxor',\n",
       " 'rep movsb',\n",
       " 'rep movsd',\n",
       " 'rep movsq',\n",
       " 'rep stosb',\n",
       " 'rep stosd',\n",
       " 'rep stosq',\n",
       " 'repe cmpsb',\n",
       " 'repne scasb',\n",
       " 'ret',\n",
       " 'rev',\n",
       " 'rev16',\n",
       " 'rol',\n",
       " 'ror',\n",
       " 'rotr',\n",
       " 'rsb',\n",
       " 'rsbeq',\n",
       " 'rsbgt',\n",
       " 'rsble',\n",
       " 'rsblt',\n",
       " 'rsbne',\n",
       " 'rsbs',\n",
       " 'rsc',\n",
       " 'rscs',\n",
       " 'saddw',\n",
       " 'sar',\n",
       " 'sb',\n",
       " 'sbb',\n",
       " 'sbc',\n",
       " 'sbcs',\n",
       " 'sbfiz',\n",
       " 'sbfx',\n",
       " 'sc',\n",
       " 'scvtf',\n",
       " 'sd',\n",
       " 'sdc1',\n",
       " 'sdiv',\n",
       " 'sdl',\n",
       " 'sdr',\n",
       " 'seb',\n",
       " 'seh',\n",
       " 'seta',\n",
       " 'setae',\n",
       " 'setb',\n",
       " 'setbe',\n",
       " 'sete',\n",
       " 'setg',\n",
       " 'setge',\n",
       " 'setl',\n",
       " 'setle',\n",
       " 'setne',\n",
       " 'setnp',\n",
       " 'setns',\n",
       " 'setp',\n",
       " 'sh',\n",
       " 'shl',\n",
       " 'shld',\n",
       " 'shr',\n",
       " 'shrd',\n",
       " 'shufpd',\n",
       " 'sll',\n",
       " 'sllv',\n",
       " 'slt',\n",
       " 'slti',\n",
       " 'sltiu',\n",
       " 'sltu',\n",
       " 'smaddl',\n",
       " 'smlal',\n",
       " 'smulh',\n",
       " 'smull',\n",
       " 'smullgt',\n",
       " 'sqdmulh',\n",
       " 'sqrshrun',\n",
       " 'sqrtsd',\n",
       " 'sra',\n",
       " 'srl',\n",
       " 'st4',\n",
       " 'stlr',\n",
       " 'stm',\n",
       " 'stmdb',\n",
       " 'stmdbge',\n",
       " 'stmib',\n",
       " 'stmne',\n",
       " 'stp',\n",
       " 'str',\n",
       " 'strb',\n",
       " 'strbeq',\n",
       " 'strbge',\n",
       " 'strbhi',\n",
       " 'strblo',\n",
       " 'strbls',\n",
       " 'strbne',\n",
       " 'streq',\n",
       " 'strge',\n",
       " 'strgt',\n",
       " 'strh',\n",
       " 'strheq',\n",
       " 'strhi',\n",
       " 'strhne',\n",
       " 'strhs',\n",
       " 'strle',\n",
       " 'strlo',\n",
       " 'strls',\n",
       " 'strlt',\n",
       " 'strne',\n",
       " 'strpl',\n",
       " 'stur',\n",
       " 'sturb',\n",
       " 'sturh',\n",
       " 'stxr',\n",
       " 'sub',\n",
       " 'sub.d',\n",
       " 'subeq',\n",
       " 'subge',\n",
       " 'subgt',\n",
       " 'subhs',\n",
       " 'suble',\n",
       " 'submi',\n",
       " 'subne',\n",
       " 'subs',\n",
       " 'subsd',\n",
       " 'subss',\n",
       " 'subu',\n",
       " 'sw',\n",
       " 'swc1',\n",
       " 'swl',\n",
       " 'swr',\n",
       " 'swxc1',\n",
       " 'sxtb',\n",
       " 'sxth',\n",
       " 'sxtw',\n",
       " 'sync',\n",
       " 'tbnz',\n",
       " 'tbz',\n",
       " 'teq',\n",
       " 'test',\n",
       " 'trunc.w.d',\n",
       " 'tst',\n",
       " 'tstne',\n",
       " 'ubfiz',\n",
       " 'ubfx',\n",
       " 'ucomisd',\n",
       " 'ucomiss',\n",
       " 'ucvtf',\n",
       " 'ud2',\n",
       " 'udiv',\n",
       " 'umaddl',\n",
       " 'umov',\n",
       " 'umsubl',\n",
       " 'umulh',\n",
       " 'umull',\n",
       " 'unpckhpd',\n",
       " 'unpcklpd',\n",
       " 'ushll',\n",
       " 'ushll2',\n",
       " 'wsbh',\n",
       " 'xchg',\n",
       " 'xor',\n",
       " 'xori',\n",
       " 'xorpd',\n",
       " 'xorps',\n",
       " 'xtn',\n",
       " 'xtn2',\n",
       " 'zip1',\n",
       " 'zip2'}"
      ]
     },
     "execution_count": 30,
     "metadata": {},
     "output_type": "execute_result"
    }
   ],
   "source": [
    "s"
   ]
  },
  {
   "cell_type": "code",
   "execution_count": null,
   "id": "3208b428",
   "metadata": {},
   "outputs": [],
   "source": []
  }
 ],
 "metadata": {
  "kernelspec": {
   "display_name": "Python 3 (ipykernel)",
   "language": "python",
   "name": "python3"
  },
  "language_info": {
   "codemirror_mode": {
    "name": "ipython",
    "version": 3
   },
   "file_extension": ".py",
   "mimetype": "text/x-python",
   "name": "python",
   "nbconvert_exporter": "python",
   "pygments_lexer": "ipython3",
   "version": "3.10.4"
  }
 },
 "nbformat": 4,
 "nbformat_minor": 5
}
