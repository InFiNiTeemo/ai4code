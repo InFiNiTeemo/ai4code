{
 "cells": [
  {
   "cell_type": "code",
   "execution_count": 1,
   "id": "deb592be",
   "metadata": {
    "scrolled": true
   },
   "outputs": [
    {
     "name": "stderr",
     "output_type": "stream",
     "text": [
      "2022-07-13 21:25:43.201732: I tensorflow/core/util/util.cc:169] oneDNN custom operations are on. You may see slightly different numerical results due to floating-point round-off errors from different computation orders. To turn them off, set the environment variable `TF_ENABLE_ONEDNN_OPTS=0`.\n"
     ]
    }
   ],
   "source": [
    "import json\n",
    "from pathlib import Path\n",
    "from dataset import *\n",
    "import numpy as np\n",
    "import pandas as pd\n",
    "from torch.utils.data import DataLoader, Dataset\n",
    "from model import *\n",
    "from tqdm import tqdm\n",
    "import sys\n",
    "import os\n",
    "from metrics import *\n",
    "import torch\n",
    "import argparse\n",
    "\n",
    "\n",
    "import pynvml\n",
    "pynvml.nvmlInit()\n",
    "handle = pynvml.nvmlDeviceGetHandleByIndex(0)   #gpu_id\n",
    "meminfo = pynvml.nvmlDeviceGetMemoryInfo(handle)\n"
   ]
  },
  {
   "cell_type": "code",
   "execution_count": 2,
   "id": "3dfb88d7",
   "metadata": {},
   "outputs": [],
   "source": [
    "if not os.path.exists(\"./outputs\"):\n",
    "    os.mkdir(\"./outputs\")\n",
    "data_dir = Path('..//input/')\n",
    "\n",
    "train_mark_path = './data/train_mark.csv'\n",
    "train_features_path = \"./data/train_fts.json\"\n",
    "val_mark_path = './data/val_mark.csv'\n",
    "val_features_path = './data/val_fts.json'\n",
    "val_path = \"./data/val.csv\"\n",
    "model_name_or_path =\"microsoft/codebert-base\"\n",
    "\n",
    "md_max_len = 512\n",
    "total_max_len = 64\n",
    "batch_size= 1\n",
    "accumulation_steps=1\n",
    "epochs=2 \n",
    "n_workers=4"
   ]
  },
  {
   "cell_type": "code",
   "execution_count": 3,
   "id": "34abc68a",
   "metadata": {},
   "outputs": [],
   "source": [
    "train_df_mark = pd.read_csv(train_mark_path).drop(\"parent_id\", axis=1).dropna().reset_index(drop=True)\n",
    "train_fts = json.load(open(train_features_path))\n",
    "val_df_mark = pd.read_csv(val_mark_path).drop(\"parent_id\", axis=1).dropna().reset_index(drop=True)\n",
    "val_fts = json.load(open(val_features_path))\n",
    "val_df = pd.read_csv(val_path)\n",
    "\n",
    "order_df = pd.read_csv(\"../input/train_orders.csv\").set_index(\"id\")\n",
    "#df_orders = pd.read_csv(\n",
    "#    data_dir / 'train_orders.csv',\n",
    "#    index_col='id',\n",
    "#    squeeze=True,\n",
    "#).str.split()\n",
    "\n",
    "order = pd.read_csv(\n",
    "    data_dir / 'train_orders.csv'\n",
    ")\n",
    "train_path = './data/train.csv'\n",
    "val_path = './data/val.csv'\n",
    "val_df = pd.read_csv(val_path)\n",
    "train_df = pd.read_csv(train_path)\n",
    "\n",
    "full_df = pd.concat([train_df, val_df])"
   ]
  },
  {
   "cell_type": "code",
   "execution_count": 4,
   "id": "ee9e039e",
   "metadata": {},
   "outputs": [],
   "source": [
    "# tmp = train_df_mark[train_df_mark['cell_type']=='markdown'].groupby(\"id\").count()['cell_id']\n",
    "# tmp.apply(lambda x: x**2).sum()/len(tmp) # = 539\n",
    "# tmp.mean() # = 15.56\n",
    "# train_df.head()"
   ]
  },
  {
   "cell_type": "code",
   "execution_count": 5,
   "id": "bc51ee45",
   "metadata": {},
   "outputs": [],
   "source": [
    "def get_dict(df):\n",
    "    md_dict = dict(zip(df[\"cell_id\"].values, df['source'].values))\n",
    "    return md_dict\n",
    "\n",
    "md_dict = get_dict(full_df[full_df['cell_type']=='markdown'])\n",
    "cd_dict = get_dict(full_df[full_df['cell_type']=='code'])"
   ]
  },
  {
   "cell_type": "code",
   "execution_count": 6,
   "id": "893fb64d",
   "metadata": {},
   "outputs": [],
   "source": [
    "#len(md_dict), len(cd_dict)\n",
    "#len(train_df_mark), len(train_df), len(val_df_mark), len(val_df)\n",
    "#order.head()"
   ]
  },
  {
   "cell_type": "code",
   "execution_count": 7,
   "id": "2c482db2",
   "metadata": {},
   "outputs": [
    {
     "name": "stdout",
     "output_type": "stream",
     "text": [
      "CPU times: user 2 µs, sys: 0 ns, total: 2 µs\n",
      "Wall time: 2.62 µs\n"
     ]
    },
    {
     "data": {
      "text/html": [
       "<div>\n",
       "<style scoped>\n",
       "    .dataframe tbody tr th:only-of-type {\n",
       "        vertical-align: middle;\n",
       "    }\n",
       "\n",
       "    .dataframe tbody tr th {\n",
       "        vertical-align: top;\n",
       "    }\n",
       "\n",
       "    .dataframe thead th {\n",
       "        text-align: right;\n",
       "    }\n",
       "</style>\n",
       "<table border=\"1\" class=\"dataframe\">\n",
       "  <thead>\n",
       "    <tr style=\"text-align: right;\">\n",
       "      <th></th>\n",
       "      <th>id</th>\n",
       "      <th>cell_shuffle</th>\n",
       "      <th>permutation</th>\n",
       "      <th>md_mask</th>\n",
       "    </tr>\n",
       "  </thead>\n",
       "  <tbody>\n",
       "    <tr>\n",
       "      <th>0</th>\n",
       "      <td>00001756c60be8</td>\n",
       "      <td>[1862f0a6, 1862f0a6, 2a9e43d6, 448eb224, 038b7...</td>\n",
       "      <td>[0, 1, 2, 3, 4, 5, 6, 7, 8, 9, 10, 11, 12, 13,...</td>\n",
       "      <td>[0, 1, 0, 1, 0, 1, 0, 1, 0, 1, 0, 1, 1, 1, 0, ...</td>\n",
       "    </tr>\n",
       "    <tr>\n",
       "      <th>1</th>\n",
       "      <td>00015c83e2717b</td>\n",
       "      <td>[2e94bd7a, 3e99dee9, b5e286ea, da4f7550, c4172...</td>\n",
       "      <td>[0, 1, 2, 3, 4, 5, 6, 7, 8, 9, 10, 11, 12, 13,...</td>\n",
       "      <td>[1, 1, 1, 1, 0, 0, 0, 0, 0, 0, 1, 1, 0, 1, 1, ...</td>\n",
       "    </tr>\n",
       "    <tr>\n",
       "      <th>2</th>\n",
       "      <td>0001bdd4021779</td>\n",
       "      <td>[3fdc37be, 073782ca, 8ea7263c, 80543cd8, 38310...</td>\n",
       "      <td>[0, 1]</td>\n",
       "      <td>[0, 0, 0, 0, 0, 0, 0, 0, 1, 0, 0, 0, 1]</td>\n",
       "    </tr>\n",
       "    <tr>\n",
       "      <th>3</th>\n",
       "      <td>0001daf4c2c76d</td>\n",
       "      <td>[97266564, a898e555, 86605076, 86605076, 76cc2...</td>\n",
       "      <td>[0, 1, 2, 3, 4, 5, 6, 7, 8, 9, 10, 11, 12, 13,...</td>\n",
       "      <td>[1, 1, 0, 1, 1, 0, 1, 0, 1, 1, 1, 0, 1, 0, 0, ...</td>\n",
       "    </tr>\n",
       "    <tr>\n",
       "      <th>4</th>\n",
       "      <td>0002115f48f982</td>\n",
       "      <td>[9ec225f0, 18281c6c, e3b6b115, 4a044c54, 365fe...</td>\n",
       "      <td>[0]</td>\n",
       "      <td>[1, 0, 0, 0, 0, 0, 0, 0, 0]</td>\n",
       "    </tr>\n",
       "  </tbody>\n",
       "</table>\n",
       "</div>"
      ],
      "text/plain": [
       "               id                                       cell_shuffle  \\\n",
       "0  00001756c60be8  [1862f0a6, 1862f0a6, 2a9e43d6, 448eb224, 038b7...   \n",
       "1  00015c83e2717b  [2e94bd7a, 3e99dee9, b5e286ea, da4f7550, c4172...   \n",
       "2  0001bdd4021779  [3fdc37be, 073782ca, 8ea7263c, 80543cd8, 38310...   \n",
       "3  0001daf4c2c76d  [97266564, a898e555, 86605076, 86605076, 76cc2...   \n",
       "4  0002115f48f982  [9ec225f0, 18281c6c, e3b6b115, 4a044c54, 365fe...   \n",
       "\n",
       "                                         permutation  \\\n",
       "0  [0, 1, 2, 3, 4, 5, 6, 7, 8, 9, 10, 11, 12, 13,...   \n",
       "1  [0, 1, 2, 3, 4, 5, 6, 7, 8, 9, 10, 11, 12, 13,...   \n",
       "2                                             [0, 1]   \n",
       "3  [0, 1, 2, 3, 4, 5, 6, 7, 8, 9, 10, 11, 12, 13,...   \n",
       "4                                                [0]   \n",
       "\n",
       "                                             md_mask  \n",
       "0  [0, 1, 0, 1, 0, 1, 0, 1, 0, 1, 0, 1, 1, 1, 0, ...  \n",
       "1  [1, 1, 1, 1, 0, 0, 0, 0, 0, 0, 1, 1, 0, 1, 1, ...  \n",
       "2            [0, 0, 0, 0, 0, 0, 0, 0, 1, 0, 0, 0, 1]  \n",
       "3  [1, 1, 0, 1, 1, 0, 1, 0, 1, 1, 1, 0, 1, 0, 0, ...  \n",
       "4                        [1, 0, 0, 0, 0, 0, 0, 0, 0]  "
      ]
     },
     "execution_count": 7,
     "metadata": {},
     "output_type": "execute_result"
    }
   ],
   "source": [
    "%time\n",
    "x = 1<<32\n",
    "seed = 42\n",
    "def transform(row):\n",
    "    \n",
    "    cell_ids = list(row[\"cell_order\"].split())\n",
    "    md_ids = []\n",
    "    cell_shuffle = []\n",
    "    md_mask = []\n",
    "    for cell_id in cell_ids:\n",
    "        if cell_id in md_dict:\n",
    "            cell_shuffle.append(0)\n",
    "            md_ids.append(cell_id)\n",
    "            md_mask.append(1)\n",
    "        else:\n",
    "            cell_shuffle.append(cell_id)\n",
    "            md_mask.append(0)\n",
    "    length = len(md_ids)\n",
    "    _hash = hash(row[\"cell_order\"])*seed % x\n",
    "    permutation = np.arange(length)\n",
    "    #permutation = np.random.RandomState(seed=_hash).permutation(length)\n",
    "    i = 0\n",
    "    for j in range(len(cell_shuffle)):\n",
    "        if cell_shuffle[j] == 0:\n",
    "            cell_shuffle[j] = cell_ids[permutation[i]]\n",
    "            i+=1\n",
    "    \n",
    "    return pd.Series([row.id, cell_shuffle, permutation, md_mask], index=['id', 'cell_shuffle', 'permutation', 'md_mask'])\n",
    "\n",
    "order = order.apply(transform, axis=1)\n",
    "order.head()"
   ]
  },
  {
   "cell_type": "code",
   "execution_count": 8,
   "id": "722d9649",
   "metadata": {},
   "outputs": [],
   "source": [
    "tr_ids =   train_df[\"id\"].unique()\n",
    "train_order = order[order[\"id\"].isin(tr_ids)]\n",
    "val_order  = order[~(order[\"id\"].isin(tr_ids))]\n",
    "train_df = train_df.set_index(\"cell_id\", drop=True)\n",
    "val_df = val_df.set_index(\"cell_id\", drop=True)"
   ]
  },
  {
   "cell_type": "code",
   "execution_count": 9,
   "id": "cc7854db",
   "metadata": {},
   "outputs": [],
   "source": [
    "# train_order.head()\n",
    "# val_order.head()\n",
    "# train_df.head()"
   ]
  },
  {
   "cell_type": "markdown",
   "id": "593912d7",
   "metadata": {},
   "source": [
    "## test"
   ]
  },
  {
   "cell_type": "code",
   "execution_count": 10,
   "id": "5bcf4c5b",
   "metadata": {},
   "outputs": [],
   "source": [
    "#order.head()\n",
    "#row = order.iloc[1]\n",
    "#for cell_id in row.cell_shuffle:\n",
    "#    print(cell_id)\n",
    "#    print(train_df.loc[cell_id].source)\n",
    "#    print(\"\\n\"*5)"
   ]
  },
  {
   "cell_type": "code",
   "execution_count": 11,
   "id": "cb5ccef9",
   "metadata": {},
   "outputs": [],
   "source": [
    "#tokenizer = AutoTokenizer.from_pretrained(model_name_or_path)\n",
    "#row = train_order.iloc[1]\n",
    "#cells = row.cell_shuffle\n",
    "#[train_df.loc[cell_id].source for cell_id in cells]\n",
    "#inputs = tokenizer.batch_encode_plus(\n",
    "#            [train_df.loc[cell_id].source for cell_id in cells],\n",
    "#            add_special_tokens=True,\n",
    "#            max_length=total_max_len,\n",
    "#            padding=\"max_length\",\n",
    "#            # return_token_type_ids=True,\n",
    "#            truncation=True\n",
    "#        )\n",
    "#ids = torch.LongTensor(inputs['input_ids'])\n",
    "#mask = torch.LongTensor(inputs['attention_mask'])\n",
    "#md_mask = torch.LongTensor(row.md_mask)\n",
    "#permutation = torch.LongTensor(row.permutation)\n",
    "\n",
    "        \n",
    "#print(\"ids:\", ids.size())\n",
    "#print(\"mask:\", mask.size())\n",
    "#print(\"md_mask:\", md_mask.size())"
   ]
  },
  {
   "cell_type": "code",
   "execution_count": 12,
   "id": "7e52b166",
   "metadata": {},
   "outputs": [],
   "source": [
    "class MarkdownDataset(Dataset):\n",
    "    def __init__(self, order_df, df, model_name_or_path, total_max_len, md_max_len, fts):\n",
    "        super().__init__()\n",
    "        self.order_df = order_df\n",
    "        self.df = df\n",
    "        self.md_max_len = md_max_len\n",
    "        self.total_max_len = total_max_len  # maxlen allowed by model config\n",
    "        self.tokenizer = AutoTokenizer.from_pretrained(model_name_or_path)\n",
    "        self.fts = fts\n",
    "\n",
    "    def __getitem__(self, index):\n",
    "        row = self.order_df.iloc[index]\n",
    "        cells = row.cell_shuffle\n",
    "\n",
    "        # print(\"index: \"+ str(index))\n",
    "\n",
    "        inputs = self.tokenizer.batch_encode_plus(\n",
    "            [str(self.df.loc[cell_id].source) for cell_id in cells],\n",
    "            # None,\n",
    "            add_special_tokens=True,\n",
    "            max_length=self.total_max_len,\n",
    "            padding=\"max_length\",\n",
    "            # return_token_type_ids=True,\n",
    "            truncation=True\n",
    "        )\n",
    "\n",
    "        ids = torch.LongTensor(inputs['input_ids'])\n",
    "        mask = torch.LongTensor(inputs['attention_mask'])\n",
    "        md_mask = torch.LongTensor(row.md_mask)\n",
    "        permutation = torch.LongTensor(row.permutation)\n",
    "    \n",
    "        length = len(md_mask)\n",
    "        \n",
    "        #print(\"ids:\", ids.size())\n",
    "        #print(\"mask:\", mask.size())\n",
    "        #print(\"md_mask:\", md_mask.size())\n",
    "        #return torch.FloatTensor([length])\n",
    "        return ids, mask, permutation, md_mask, length\n",
    "\n",
    "    def __len__(self):\n",
    "        return self.order_df.shape[0]"
   ]
  },
  {
   "cell_type": "code",
   "execution_count": 13,
   "id": "79675639",
   "metadata": {},
   "outputs": [],
   "source": [
    "train_ds = MarkdownDataset(train_order, train_df, model_name_or_path=model_name_or_path, md_max_len=md_max_len,\n",
    "                           total_max_len=total_max_len, fts=train_fts)\n",
    "val_ds = MarkdownDataset(val_order, val_df, model_name_or_path=model_name_or_path, md_max_len=md_max_len,\n",
    "                         total_max_len=total_max_len, fts=val_fts)\n",
    "train_loader = DataLoader(train_ds, batch_size=batch_size, shuffle=True, num_workers=n_workers,\n",
    "                          pin_memory=False, drop_last=True)\n",
    "val_loader = DataLoader(val_ds, batch_size=batch_size, shuffle=False, num_workers=n_workers,\n",
    "                        pin_memory=False, drop_last=False)"
   ]
  },
  {
   "cell_type": "code",
   "execution_count": 14,
   "id": "3f80d5bb",
   "metadata": {},
   "outputs": [],
   "source": [
    "# model.cpu()\n",
    "HIDDEN_SIZE = 768\n",
    "class BersonModel(nn.Module):\n",
    "    def __init__(self, model_path):\n",
    "        super(BersonModel, self).__init__()\n",
    "        self.model = AutoModel.from_pretrained(model_path)\n",
    "        \n",
    "        self.dropout = nn.Dropout(0.1)\n",
    "        self.decoder = nn.LSTM(input_size=HIDDEN_SIZE, hidden_size=HIDDEN_SIZE, num_layers=1, batch_first=True)\n",
    "        self.top = nn.Linear(HIDDEN_SIZE, 1)\n",
    "        self.softmax = nn.Softmax(dim=0)\n",
    "        self.layernorm = nn.LayerNorm(2)\n",
    "        self.loss = nn.BCELoss()\n",
    "\n",
    "\n",
    "    def forward(self, ids, mask, order, md_mask, length):\n",
    "        \"\"\"\n",
    "        :param ids:\n",
    "        :param mask:\n",
    "        :param orders:\n",
    "        :param type: 0 for code, 1 for md\n",
    "        :return:\n",
    "        \"\"\"\n",
    "        ids = ids.squeeze(0) # [:8,:]\n",
    "        mask = mask.squeeze(0) # [:8,:]\n",
    "        order = order.squeeze(0)\n",
    "        md_mask = md_mask.squeeze(0)\n",
    "        length = length.squeeze(0)\n",
    "        # print(\"ids:\", ids.size())\n",
    "        #print(\"md_mask:\", md_mask.size())\n",
    "        #rint(\"length[:\", length[0])\n",
    "        \n",
    "        \n",
    "        #print(torch.cuda.memory_allocated(device=0) / (1024 * 1024))#0表示显卡号\n",
    "        \n",
    "        \"\"\"\n",
    "        print(\"size:\",ids.size()[0])\n",
    "        def get_batch():\n",
    "            q = 16\n",
    "            l = []\n",
    "            while q < length+16:\n",
    "                q_ids = ids[q-16:q, :]\n",
    "                q_mask = mask[q-16:q, :]\n",
    "                t = self.model(q_ids, q_mask)[1]\n",
    "                q += 16\n",
    "                l.append(t)\n",
    "            return torch.cat(l, 0)\n",
    "        \"\"\"\n",
    "        \n",
    "        def get_batch():\n",
    "            return self.model(ids, mask)[1].unsqueeze(0)\n",
    "        \n",
    "        if length > 64:\n",
    "            with torch.no_grad():\n",
    "                x = get_batch()\n",
    "        else:\n",
    "            x = get_batch()\n",
    "        \n",
    "        \n",
    "        # hn -> (Layer, batch, hiddenstate)\n",
    "        hn = torch.mean(x, 1).unsqueeze(1).cuda()\n",
    "        cn = torch.zeros_like(hn).cuda()\n",
    "        hcn = (hn, cn)\n",
    "        \n",
    "        md_len = len(order)\n",
    "        # print(\"hn:\", hn.size())\n",
    "        # x = self.model(ids, mask)[1]\n",
    "        # print(torch.cuda.memory_allocated(device=0) / (1024 * 1024))#0表示显卡号\n",
    "        \n",
    "        md_pos = [idx for idx, i in enumerate(md_mask) if i==1]\n",
    "        # print(\"md_pos:\", md_pos)\n",
    "        # print(\"md_mask:\", md_mask)\n",
    "        # print(\"order:\", order)\n",
    "        md_pool = torch.swapaxes(x[:, md_pos, :], 0, 1)\n",
    "        # print(\"md_num:\",md_len)\n",
    "        # print(\"md_pool:\", md_pool.size())\n",
    "        loss = 0\n",
    "        j, idx = 0, 0\n",
    "        for i in range(length):\n",
    "            if md_mask[i] == 1:\n",
    "                idx = order[j]\n",
    "                j += 1\n",
    "                # construct hcn for batch\n",
    "                hn, cn = hcn\n",
    "                hn = torch.tile(hn, (1, md_len, 1))\n",
    "                cn = torch.tile(cn, (1, md_len, 1))\n",
    "                t_hcn = (hn, cn)\n",
    "                \n",
    "                t_x, t_hcn = self.decoder(md_pool, t_hcn)\n",
    "                # t_x: (n, 1, h)\n",
    "                t_x = self.top(self.dropout(t_x))\n",
    "                # print(\"t_x:\", t_x.size(), \"  idx:\", idx)\n",
    "                output = self.softmax(t_x).squeeze(2).squeeze(1)\n",
    "                gt = torch.zeros_like(output)\n",
    "                gt[idx] = 1.\n",
    "                # print(\"output:\",output)\n",
    "                # print(\"gt:\", gt)\n",
    "                loss += self.loss(output, gt)\n",
    "                t_hcn\n",
    "            # print(\"test:\", x[:, [i], :].size())\n",
    "            output, hcn = self.decoder(x[:, [i], :], hcn)\n",
    "        \n",
    "                \n",
    "        \n",
    "        ## concat\n",
    "        loss /= md_len\n",
    "        # print(\"loss:\", loss)\n",
    "\n",
    "        # lstm\n",
    "        #hn = \n",
    "        #hcn = \n",
    "        #for t in range():\n",
    "        #    output, hcn = self.decoder(x, hcn) # hcn = (hidden_state, cell_state)\n",
    "        # loss\n",
    "        # loss = 1\n",
    "\n",
    "        ## sentence order\n",
    "\n",
    "        ## coherence\n",
    "        return loss"
   ]
  },
  {
   "cell_type": "code",
   "execution_count": 15,
   "id": "5b534a7b",
   "metadata": {},
   "outputs": [
    {
     "data": {
      "text/plain": [
       "<All keys matched successfully>"
      ]
     },
     "execution_count": 15,
     "metadata": {},
     "output_type": "execute_result"
    }
   ],
   "source": [
    "import time\n",
    "def read_data(d):\n",
    "    return tuple([data.cuda() for data in d])\n",
    "\n",
    "\n",
    "def validate(model, val_loader):\n",
    "    model.eval()\n",
    "\n",
    "    tbar = tqdm(val_loader, file=sys.stdout)\n",
    "\n",
    "    preds = []\n",
    "    labels = []\n",
    "\n",
    "    with torch.no_grad():\n",
    "        for idx, data in enumerate(tbar):\n",
    "            inputs = read_data(data)\n",
    "\n",
    "            with torch.cuda.amp.autocast():\n",
    "                pred = model(*inputs)\n",
    "\n",
    "            preds.append(pred.detach().cpu().numpy().ravel())\n",
    "            labels.append(target.detach().cpu().numpy().ravel())\n",
    "\n",
    "    return np.concatenate(labels), np.concatenate(preds)\n",
    "\n",
    "\n",
    "def train(model, train_loader, val_loader, epochs):\n",
    "    np.random.seed(0)\n",
    "    # Creating optimizer and lr schedulers\n",
    "    param_optimizer = list(model.named_parameters())\n",
    "    no_decay = ['bias', 'LayerNorm.bias', 'LayerNorm.weight']\n",
    "    optimizer_grouped_parameters = [\n",
    "        {'params': [p for n, p in param_optimizer if not any(nd in n for nd in no_decay)], 'weight_decay': 0.01},\n",
    "        {'params': [p for n, p in param_optimizer if any(nd in n for nd in no_decay)], 'weight_decay': 0.0}\n",
    "    ]\n",
    "\n",
    "    num_train_optimization_steps = int(epochs * len(train_loader) / accumulation_steps)\n",
    "    optimizer = AdamW(optimizer_grouped_parameters, lr=3e-5,\n",
    "                      correct_bias=False)  # To reproduce BertAdam specific behavior set correct_bias=False\n",
    "    scheduler = get_linear_schedule_with_warmup(optimizer, num_warmup_steps=0.05 * num_train_optimization_steps,\n",
    "                                                num_training_steps=num_train_optimization_steps)  # PyTorch scheduler\n",
    "\n",
    "    criterion = torch.nn.L1Loss()\n",
    "    scaler = torch.cuda.amp.GradScaler()\n",
    "\n",
    "    for e in range(epochs):\n",
    "        model.train()\n",
    "        tbar = tqdm(train_loader, file=sys.stdout)\n",
    "        loss_list = []\n",
    "        preds = []\n",
    "        labels = []\n",
    "\n",
    "        #if e <= 2:\n",
    "            #y_val, y_pred = validate(model, val_loader)\n",
    "            #val_df[\"pred\"] = val_df.groupby([\"id\", \"cell_type\"])[\"rank\"].rank(pct=True)\n",
    "            #val_df.loc[val_df[\"cell_type\"] == \"markdown\", \"pred\"] = y_pred\n",
    "            #y_dummy = val_df.sort_values(\"pred\").groupby('id')['cell_id'].apply(list)\n",
    "            #print(\"Preds score\", kendall_tau(df_orders.loc[y_dummy.index], y_dummy))\n",
    "            #continue\n",
    "        #print(\"epoch:\", e)\n",
    "\n",
    "        for idx, data in enumerate(tbar):\n",
    "            inputs = read_data(data)\n",
    "            target = 1\n",
    "            \n",
    "            time.sleep(3)\n",
    "            with torch.cuda.amp.autocast():\n",
    "                pred = model(*inputs)\n",
    "                loss = criterion(pred, target)\n",
    "            scaler.scale(loss).backward()\n",
    "            if idx % args.accumulation_steps == 0 or idx == len(tbar) - 1:\n",
    "                scaler.step(optimizer)\n",
    "                scaler.update()\n",
    "                optimizer.zero_grad()\n",
    "                scheduler.step()\n",
    "\n",
    "            if idx % 10000 == 0:\n",
    "                torch.save(model.state_dict(), f\"./outputs/model_{idx}.bin\")\n",
    "\n",
    "            loss_list.append(loss.detach().cpu().item())\n",
    "            preds.append(pred.detach().cpu().numpy().ravel())\n",
    "            labels.append(target.detach().cpu().numpy().ravel())\n",
    "\n",
    "            avg_loss = np.round(np.mean(loss_list), 4)\n",
    "                                                                                                                                                                                                                                                                                                                                                                                                                                                                                                                                                                                                                                                                                                                                                                                                                                                                                                                                                                                                                                                                                                                                                                                                                                                                                                                                                                                                                                                                                                                                                                                                                                                                                                                                                                                                                                                                                                                                                                                                                                                                                                                                                                                                            \n",
    "            tbar.set_description(f\"Epoch {e + 1} Loss: {avg_loss} lr: {scheduler.get_last_lr()}\")\n",
    "\n",
    "        y_val, y_pred = validate(model, val_loader)\n",
    "        val_df[\"pred\"] = val_df.groupby([\"id\", \"cell_type\"])[\"rank\"].rank(pct=True)\n",
    "        val_df.loc[val_df[\"cell_type\"] == \"markdown\", \"pred\"] = y_pred\n",
    "        y_dummy = val_df.sort_values(\"pred\").groupby('id')['cell_id'].apply(list)\n",
    "        print(\"Preds score\", kendall_tau(df_orders.loc[y_dummy.index], y_dummy))\n",
    "        torch.save(model.state_dict(), f\"./outputs/model_epoch_{e+1}.bin\")\n",
    "\n",
    "    return model, y_pred\n",
    "\n",
    "model = BersonModel(model_name_or_path)\n",
    "model = model.cuda()\n",
    "model.load_state_dict(torch.load(\"./outputs/model_5000.bin\"))"
   ]
  },
  {
   "cell_type": "code",
   "execution_count": 16,
   "id": "7d4938cd",
   "metadata": {},
   "outputs": [],
   "source": [
    "# param_optimizer = list(model.named_parameters())\n",
    "# print([n for n,p in param_optimizer])"
   ]
  },
  {
   "cell_type": "code",
   "execution_count": 17,
   "id": "7b3a9093",
   "metadata": {},
   "outputs": [
    {
     "name": "stdout",
     "output_type": "stream",
     "text": [
      "steps: 250584 acc_step: 1\n"
     ]
    },
    {
     "name": "stderr",
     "output_type": "stream",
     "text": [
      "/home/mobius/anaconda3/envs/VIT/lib/python3.8/site-packages/transformers/optimization.py:306: FutureWarning: This implementation of AdamW is deprecated and will be removed in a future version. Use the PyTorch implementation torch.optim.AdamW instead, or set `no_deprecation_warning=True` to disable this warning\n",
      "  warnings.warn(\n"
     ]
    }
   ],
   "source": [
    "np.random.seed(0)\n",
    "# Creating optimizer and lr schedulers\n",
    "param_optimizer = list(model.named_parameters())\n",
    "no_decay = ['bias', 'LayerNorm.bias', 'LayerNorm.weight']\n",
    "add = ['decoder, top']\n",
    "optimizer_grouped_parameters = [\n",
    "    {'params': [p for n, p in param_optimizer if not any(nd in n for nd in no_decay+add)],'weight_decay': 0.01},\n",
    "    {'params': [p for n, p in param_optimizer if any(nd in n for nd in no_decay)], 'weight_decay': 0.0},\n",
    "    {'params': [p for n, p in param_optimizer if any(nd in n for nd in add)], \"lr\":3e-5 , 'weight_decay': 0.01},\n",
    "]\n",
    "\n",
    "num_train_optimization_steps = int(epochs * len(train_loader) / accumulation_steps)\n",
    "print(\"steps:\",num_train_optimization_steps, \"acc_step:\", accumulation_steps)\n",
    "optimizer = AdamW(optimizer_grouped_parameters, lr=3e-5,\n",
    "                  correct_bias=False)  # To reproduce BertAdam specific behavior set correct_bias=False\n",
    "scheduler = get_linear_schedule_with_warmup(optimizer, num_warmup_steps=0.05 * num_train_optimization_steps,\n",
    "                                            num_training_steps=num_train_optimization_steps)  # PyTorch scheduler\n",
    "\n",
    "criterion = torch.nn.L1Loss()\n",
    "scaler = torch.cuda.amp.GradScaler()\n"
   ]
  },
  {
   "cell_type": "code",
   "execution_count": null,
   "id": "77caa223",
   "metadata": {},
   "outputs": [
    {
     "name": "stderr",
     "output_type": "stream",
     "text": [
      "\r",
      "  0%|                                                                                                                                                                                                                                                                                                                                                                                             | 0/125292 [00:00<?, ?it/s]"
     ]
    },
    {
     "name": "stdout",
     "output_type": "stream",
     "text": [
      "memory allocated: 1986.9794921875\n",
      "avg_loss: 0\n"
     ]
    },
    {
     "name": "stderr",
     "output_type": "stream",
     "text": [
      "  0%|▎                                                                                                                                                                                                                                                                                                                                                                               | 103/125292 [02:04<24:49:42,  1.40it/s]"
     ]
    },
    {
     "name": "stdout",
     "output_type": "stream",
     "text": [
      "memory allocated: 1987.001953125\n",
      "avg_loss: 0.2528\n"
     ]
    },
    {
     "name": "stderr",
     "output_type": "stream",
     "text": [
      "  0%|▌                                                                                                                                                                                                                                                                                                                                                                               | 202/125292 [03:34<32:51:52,  1.06it/s]"
     ]
    },
    {
     "name": "stdout",
     "output_type": "stream",
     "text": [
      "memory allocated: 1987.0322265625\n",
      "avg_loss: 0.2538\n"
     ]
    },
    {
     "name": "stderr",
     "output_type": "stream",
     "text": [
      "  0%|▉                                                                                                                                                                                                                                                                                                                                                                               | 301/125292 [05:08<17:00:19,  2.04it/s]"
     ]
    },
    {
     "name": "stdout",
     "output_type": "stream",
     "text": [
      "memory allocated: 1987.005859375\n",
      "avg_loss: 0.2565\n"
     ]
    },
    {
     "name": "stderr",
     "output_type": "stream",
     "text": [
      "  0%|█▏                                                                                                                                                                                                                                                                                                                                                                              | 400/125292 [06:37<28:55:49,  1.20it/s]"
     ]
    },
    {
     "name": "stdout",
     "output_type": "stream",
     "text": [
      "memory allocated: 1986.9833984375\n",
      "avg_loss: 0.2523\n"
     ]
    },
    {
     "name": "stderr",
     "output_type": "stream",
     "text": [
      "  0%|█▍                                                                                                                                                                                                                                                                                                                                                                              | 501/125292 [08:17<24:21:46,  1.42it/s]"
     ]
    },
    {
     "name": "stdout",
     "output_type": "stream",
     "text": [
      "memory allocated: 1987.005859375\n",
      "avg_loss: 0.2523\n"
     ]
    },
    {
     "name": "stderr",
     "output_type": "stream",
     "text": [
      "  0%|█▊                                                                                                                                                                                                                                                                                                                                                                              | 601/125292 [09:42<19:55:17,  1.74it/s]"
     ]
    },
    {
     "name": "stdout",
     "output_type": "stream",
     "text": [
      "memory allocated: 1986.9931640625\n",
      "avg_loss: 0.2569\n"
     ]
    },
    {
     "name": "stderr",
     "output_type": "stream",
     "text": [
      "  1%|██                                                                                                                                                                                                                                                                                                                                                                              | 701/125292 [11:32<81:02:50,  2.34s/it]"
     ]
    },
    {
     "name": "stdout",
     "output_type": "stream",
     "text": [
      "memory allocated: 1987.0234375\n",
      "avg_loss: 0.2555\n"
     ]
    },
    {
     "name": "stderr",
     "output_type": "stream",
     "text": [
      "  1%|██▎                                                                                                                                                                                                                                                                                                                                                                             | 802/125292 [12:59<16:45:02,  2.06it/s]"
     ]
    },
    {
     "name": "stdout",
     "output_type": "stream",
     "text": [
      "memory allocated: 1987.0087890625\n",
      "avg_loss: 0.253\n"
     ]
    },
    {
     "name": "stderr",
     "output_type": "stream",
     "text": [
      "  1%|██▋                                                                                                                                                                                                                                                                                                                                                                            | 902/125292 [14:39<116:49:26,  3.38s/it]"
     ]
    },
    {
     "name": "stdout",
     "output_type": "stream",
     "text": [
      "memory allocated: 1987.015625\n",
      "avg_loss: 0.2549\n"
     ]
    },
    {
     "name": "stderr",
     "output_type": "stream",
     "text": [
      "  1%|██▊                                                                                                                                                                                                                                                                                                                                                                             | 978/125292 [15:52<19:49:41,  1.74it/s]"
     ]
    }
   ],
   "source": [
    "model.train()\n",
    "tbar = tqdm(train_loader)\n",
    "loss_list = []\n",
    "preds = []\n",
    "labels = []\n",
    "\n",
    "#if e <= 2:\n",
    "    #y_val, y_pred = validate(model, val_loader)\n",
    "    #val_df[\"pred\"] = val_df.groupby([\"id\", \"cell_type\"])[\"rank\"].rank(pct=True)\n",
    "    #val_df.loc[val_df[\"cell_type\"] == \"markdown\", \"pred\"] = y_pred\n",
    "    #y_dummy = val_df.sort_values(\"pred\").groupby('id')['cell_id'].apply(list)\n",
    "    #print(\"Preds score\", kendall_tau(df_orders.loc[y_dummy.index], y_dummy))\n",
    "    #continue\n",
    "#print(\"epoch:\", e)\n",
    "\n",
    "avg_loss = 0\n",
    "for idx, data in enumerate(tbar):\n",
    "    # print(type(data), type(data[0]), data[0].size())\n",
    "    # print(\"data[3].size()[1]: \",data[3].size()[1])\n",
    "        \n",
    "    data = read_data(data)\n",
    "    \n",
    "    #with torch.cuda.amp.autocast():\n",
    "    loss = model(*data)\n",
    "        # loss = criterion(pred, target)\n",
    "    scaler.scale(loss).backward()\n",
    "    if idx % accumulation_steps == 0 or idx == len(tbar) - 1:\n",
    "        scaler.step(optimizer)\n",
    "        scaler.update()\n",
    "        optimizer.zero_grad()\n",
    "        scheduler.step()\n",
    "\n",
    "    if idx % 100 == 0:\n",
    "        print(\"memory allocated:\",torch.cuda.memory_allocated(device=0) / (1024 * 1024))\n",
    "        print(\"avg_loss:\", avg_loss)\n",
    "    if idx % 5000 == 0:\n",
    "        torch.save(model.state_dict(), f\"./outputs/model_{idx}.bin\")\n",
    "\n",
    "    loss_list.append(loss.detach().cpu().item())\n",
    "    # preds.append(pred.detach().cpu().numpy().ravel())\n",
    "    # labels.append(target.detach().cpu().numpy().ravel())\n",
    "\n",
    "    avg_loss = np.round(np.mean(loss_list[-1000:]), 4)"
   ]
  },
  {
   "cell_type": "markdown",
   "id": "a7c5fb62",
   "metadata": {},
   "source": [
    "## next"
   ]
  },
  {
   "cell_type": "code",
   "execution_count": null,
   "id": "3f90087d",
   "metadata": {},
   "outputs": [],
   "source": []
  },
  {
   "cell_type": "code",
   "execution_count": null,
   "id": "1ab09cb5",
   "metadata": {},
   "outputs": [],
   "source": []
  },
  {
   "cell_type": "code",
   "execution_count": null,
   "id": "24ebac71",
   "metadata": {},
   "outputs": [],
   "source": []
  },
  {
   "cell_type": "code",
   "execution_count": null,
   "id": "d21daaf9",
   "metadata": {},
   "outputs": [],
   "source": []
  },
  {
   "cell_type": "code",
   "execution_count": null,
   "id": "c9b57b79",
   "metadata": {},
   "outputs": [],
   "source": []
  },
  {
   "cell_type": "code",
   "execution_count": null,
   "id": "35b3bdbd",
   "metadata": {},
   "outputs": [],
   "source": [
    "with torch.cuda.amp.autocast():\n",
    "        pred = model(*inputs)\n",
    "        loss = criterion(pred, target)\n",
    "    scaler.scale(loss).backward()\n",
    "    if idx % args.accumulation_steps == 0 or idx == len(tbar) - 1:\n",
    "        scaler.step(optimizer)\n",
    "        scaler.update()\n",
    "        optimizer.zero_grad()\n",
    "        scheduler.step()\n",
    "\n",
    "    if idx % 10000 == 0:\n",
    "        torch.save(model.state_dict(), f\"./outputs/model_{idx}.bin\")\n",
    "\n",
    "    loss_list.append(loss.detach().cpu().item())\n",
    "    preds.append(pred.detach().cpu().numpy().ravel())\n",
    "    labels.append(target.detach().cpu().numpy().ravel())\n",
    "\n",
    "    avg_loss = np.round(np.mean(loss_list), 4)\n",
    "\n",
    "    tbar.set_description(f\"Epoch {e + 1} Loss: {avg_loss} lr: {scheduler.get_last_lr()}\")\n",
    "\n",
    "\n",
    "\n",
    "y_val, y_pred = validate(model, val_loader)\n",
    "val_df[\"pred\"] = val_df.groupby([\"id\", \"cell_type\"])[\"rank\"].rank(pct=True)\n",
    "val_df.loc[val_df[\"cell_type\"] == \"markdown\", \"pred\"] = y_pred\n",
    "y_dummy = val_df.sort_values(\"pred\").groupby('id')['cell_id'].apply(list)\n",
    "print(\"Preds score\", kendall_tau(df_orders.loc[y_dummy.index], y_dummy))\n",
    "torch.save(model.state_dict(), f\"./outputs/model_epoch_{e+1}.bin\")"
   ]
  },
  {
   "cell_type": "code",
   "execution_count": null,
   "id": "c367ed50",
   "metadata": {},
   "outputs": [],
   "source": [
    "for e in range(epochs):\n",
    "    model.train()\n",
    "    tbar = tqdm(train_loader, file=sys.stdout)\n",
    "    loss_list = []\n",
    "    preds = []\n",
    "    labels = []\n",
    "\n",
    "    #if e <= 2:\n",
    "        #y_val, y_pred = validate(model, val_loader)\n",
    "        #val_df[\"pred\"] = val_df.groupby([\"id\", \"cell_type\"])[\"rank\"].rank(pct=True)\n",
    "        #val_df.loc[val_df[\"cell_type\"] == \"markdown\", \"pred\"] = y_pred\n",
    "        #y_dummy = val_df.sort_values(\"pred\").groupby('id')['cell_id'].apply(list)\n",
    "        #print(\"Preds score\", kendall_tau(df_orders.loc[y_dummy.index], y_dummy))\n",
    "        #continue\n",
    "    #print(\"epoch:\", e)\n",
    "\n",
    "    for idx, data in enumerate(tbar):\n",
    "        inputs = read_data(data)\n",
    "        target = 1\n",
    "\n",
    "        time.sleep(3)\n",
    "        with torch.cuda.amp.autocast():\n",
    "            pred = model(*inputs)\n",
    "            loss = criterion(pred, target)\n",
    "        scaler.scale(loss).backward()\n",
    "        if idx % args.accumulation_steps == 0 or idx == len(tbar) - 1:\n",
    "            scaler.step(optimizer)\n",
    "            scaler.update()\n",
    "            optimizer.zero_grad()\n",
    "            scheduler.step()\n",
    "\n",
    "        if idx % 10000 == 0:\n",
    "            torch.save(model.state_dict(), f\"./outputs/model_{idx}.bin\")\n",
    "\n",
    "        loss_list.append(loss.detach().cpu().item())\n",
    "        preds.append(pred.detach().cpu().numpy().ravel())\n",
    "        labels.append(target.detach().cpu().numpy().ravel())\n",
    "\n",
    "        avg_loss = np.round(np.mean(loss_list), 4)\n",
    "\n",
    "        tbar.set_description(f\"Epoch {e + 1} Loss: {avg_loss} lr: {scheduler.get_last_lr()}\")\n",
    "\n",
    "    y_val, y_pred = validate(model, val_loader)\n",
    "    val_df[\"pred\"] = val_df.groupby([\"id\", \"cell_type\"])[\"rank\"].rank(pct=True)\n",
    "    val_df.loc[val_df[\"cell_type\"] == \"markdown\", \"pred\"] = y_pred\n",
    "    y_dummy = val_df.sort_values(\"pred\").groupby('id')['cell_id'].apply(list)\n",
    "    print(\"Preds score\", kendall_tau(df_orders.loc[y_dummy.index], y_dummy))\n",
    "    torch.save(model.state_dict(), f\"./outputs/model_epoch_{e+1}.bin\")\n",
    "\n",
    "return model, y_pred"
   ]
  },
  {
   "cell_type": "code",
   "execution_count": null,
   "id": "2bca36f8",
   "metadata": {},
   "outputs": [],
   "source": [
    "# model.load_state_dict(torch.load(\"./outputs/model.bin\"))\n",
    "model, y_pred = train(model, train_loader, val_loader, epochs=epochs)\n"
   ]
  },
  {
   "cell_type": "code",
   "execution_count": null,
   "id": "2768e9c9",
   "metadata": {},
   "outputs": [],
   "source": [
    "train_df.loc['3a16a457']"
   ]
  },
  {
   "cell_type": "code",
   "execution_count": null,
   "id": "46133176",
   "metadata": {},
   "outputs": [],
   "source": []
  },
  {
   "cell_type": "code",
   "execution_count": null,
   "id": "a697991d",
   "metadata": {},
   "outputs": [],
   "source": []
  },
  {
   "cell_type": "code",
   "execution_count": null,
   "id": "2b77d894",
   "metadata": {},
   "outputs": [],
   "source": []
  },
  {
   "cell_type": "code",
   "execution_count": null,
   "id": "8e049489",
   "metadata": {},
   "outputs": [],
   "source": []
  },
  {
   "cell_type": "code",
   "execution_count": 28,
   "id": "fc0a8f70",
   "metadata": {},
   "outputs": [
    {
     "name": "stdout",
     "output_type": "stream",
     "text": [
      "2053.2802734375\n",
      "0.0002880096435546875\n"
     ]
    }
   ],
   "source": [
    "s = time.time()\n",
    "print(torch.cuda.memory_allocated(device=0) / (1024 * 1024))\n",
    "print(time.time()-s)"
   ]
  },
  {
   "cell_type": "code",
   "execution_count": null,
   "id": "a3333c0f",
   "metadata": {},
   "outputs": [],
   "source": []
  },
  {
   "cell_type": "code",
   "execution_count": null,
   "id": "4829c530",
   "metadata": {},
   "outputs": [],
   "source": []
  },
  {
   "cell_type": "code",
   "execution_count": null,
   "id": "de554ee5",
   "metadata": {},
   "outputs": [],
   "source": []
  },
  {
   "cell_type": "code",
   "execution_count": null,
   "id": "82953ad1",
   "metadata": {},
   "outputs": [],
   "source": []
  },
  {
   "cell_type": "code",
   "execution_count": null,
   "id": "ffe16532",
   "metadata": {},
   "outputs": [],
   "source": []
  },
  {
   "cell_type": "code",
   "execution_count": null,
   "id": "e595c7ba",
   "metadata": {},
   "outputs": [],
   "source": []
  }
 ],
 "metadata": {
  "kernelspec": {
   "display_name": "Python 3 (ipykernel)",
   "language": "python",
   "name": "python3"
  },
  "language_info": {
   "codemirror_mode": {
    "name": "ipython",
    "version": 3
   },
   "file_extension": ".py",
   "mimetype": "text/x-python",
   "name": "python",
   "nbconvert_exporter": "python",
   "pygments_lexer": "ipython3",
   "version": "3.8.13"
  }
 },
 "nbformat": 4,
 "nbformat_minor": 5
}
