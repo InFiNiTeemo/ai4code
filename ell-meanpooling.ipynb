{
 "cells": [
  {
   "cell_type": "markdown",
   "id": "41f3b40c",
   "metadata": {
    "papermill": {
     "duration": 0.00451,
     "end_time": "2022-11-20T12:47:41.940004",
     "exception": false,
     "start_time": "2022-11-20T12:47:41.935494",
     "status": "completed"
    },
    "tags": []
   },
   "source": [
    "## import when train"
   ]
  },
  {
   "cell_type": "code",
   "execution_count": 1,
   "id": "cb1ff200",
   "metadata": {
    "execution": {
     "iopub.execute_input": "2022-11-20T12:47:41.949055Z",
     "iopub.status.busy": "2022-11-20T12:47:41.948493Z",
     "iopub.status.idle": "2022-11-20T12:47:41.954463Z",
     "shell.execute_reply": "2022-11-20T12:47:41.953529Z"
    },
    "papermill": {
     "duration": 0.012954,
     "end_time": "2022-11-20T12:47:41.956452",
     "exception": false,
     "start_time": "2022-11-20T12:47:41.943498",
     "status": "completed"
    },
    "tags": []
   },
   "outputs": [],
   "source": [
    "# !nvidia-smi"
   ]
  },
  {
   "cell_type": "code",
   "execution_count": 2,
   "id": "f0dbc30b",
   "metadata": {
    "execution": {
     "iopub.execute_input": "2022-11-20T12:47:41.964935Z",
     "iopub.status.busy": "2022-11-20T12:47:41.964080Z",
     "iopub.status.idle": "2022-11-20T12:47:59.765049Z",
     "shell.execute_reply": "2022-11-20T12:47:59.763881Z"
    },
    "papermill": {
     "duration": 17.807648,
     "end_time": "2022-11-20T12:47:59.767574",
     "exception": false,
     "start_time": "2022-11-20T12:47:41.959926",
     "status": "completed"
    },
    "tags": []
   },
   "outputs": [
    {
     "name": "stdout",
     "output_type": "stream",
     "text": [
      "/kaggle/working\n",
      "Cloning into 'ai4code'...\r\n",
      "remote: Enumerating objects: 547, done.\u001b[K\r\n",
      "remote: Counting objects: 100% (547/547), done.\u001b[K\r\n",
      "remote: Compressing objects: 100% (350/350), done.\u001b[K\r\n",
      "remote: Total 547 (delta 299), reused 412 (delta 167), pack-reused 0\u001b[K\r\n",
      "Receiving objects: 100% (547/547), 3.63 MiB | 2.94 MiB/s, done.\r\n",
      "Resolving deltas: 100% (299/299), done.\r\n",
      "/kaggle/working/ai4code\n",
      "Already up to date.\r\n",
      "Collecting iterative-stratification\r\n",
      "  Downloading iterative_stratification-0.1.7-py3-none-any.whl (8.5 kB)\r\n",
      "Requirement already satisfied: scikit-learn in /opt/conda/lib/python3.7/site-packages (from iterative-stratification) (1.0.2)\r\n",
      "Requirement already satisfied: scipy in /opt/conda/lib/python3.7/site-packages (from iterative-stratification) (1.7.3)\r\n",
      "Requirement already satisfied: numpy in /opt/conda/lib/python3.7/site-packages (from iterative-stratification) (1.21.6)\r\n",
      "Requirement already satisfied: threadpoolctl>=2.0.0 in /opt/conda/lib/python3.7/site-packages (from scikit-learn->iterative-stratification) (3.1.0)\r\n",
      "Requirement already satisfied: joblib>=0.11 in /opt/conda/lib/python3.7/site-packages (from scikit-learn->iterative-stratification) (1.0.1)\r\n",
      "Installing collected packages: iterative-stratification\r\n",
      "Successfully installed iterative-stratification-0.1.7\r\n",
      "\u001b[33mWARNING: Running pip as the 'root' user can result in broken permissions and conflicting behaviour with the system package manager. It is recommended to use a virtual environment instead: https://pip.pypa.io/warnings/venv\u001b[0m\u001b[33m\r\n",
      "\u001b[0m"
     ]
    }
   ],
   "source": [
    "# train\n",
    "\n",
    "%cd /kaggle/working/\n",
    "!git clone https://github.com/InFiNiTeemo/ai4code.git\n",
    "%cd /kaggle/working/ai4code\n",
    "!git pull\n",
    "!pip install iterative-stratification"
   ]
  },
  {
   "cell_type": "code",
   "execution_count": 3,
   "id": "a2f0c544",
   "metadata": {
    "execution": {
     "iopub.execute_input": "2022-11-20T12:47:59.778490Z",
     "iopub.status.busy": "2022-11-20T12:47:59.778162Z",
     "iopub.status.idle": "2022-11-20T12:47:59.782547Z",
     "shell.execute_reply": "2022-11-20T12:47:59.781531Z"
    },
    "papermill": {
     "duration": 0.012091,
     "end_time": "2022-11-20T12:47:59.784507",
     "exception": false,
     "start_time": "2022-11-20T12:47:59.772416",
     "status": "completed"
    },
    "tags": []
   },
   "outputs": [],
   "source": [
    "# view current log\n",
    "\n",
    "#!ls /kaggle/working/ai4code/outputs/kaggle-ELL/exp3\n",
    "#!cat /kaggle/working/ai4code/outputs/kaggle-ELL/exp2/train_deb.log|tail -n 50"
   ]
  },
  {
   "cell_type": "markdown",
   "id": "5b49efb4",
   "metadata": {
    "papermill": {
     "duration": 0.004394,
     "end_time": "2022-11-20T12:47:59.793369",
     "exception": false,
     "start_time": "2022-11-20T12:47:59.788975",
     "status": "completed"
    },
    "tags": []
   },
   "source": [
    "### config"
   ]
  },
  {
   "cell_type": "code",
   "execution_count": 4,
   "id": "da2cce42",
   "metadata": {
    "execution": {
     "iopub.execute_input": "2022-11-20T12:47:59.804931Z",
     "iopub.status.busy": "2022-11-20T12:47:59.803332Z",
     "iopub.status.idle": "2022-11-20T12:47:59.808531Z",
     "shell.execute_reply": "2022-11-20T12:47:59.807662Z"
    },
    "papermill": {
     "duration": 0.012624,
     "end_time": "2022-11-20T12:47:59.810462",
     "exception": false,
     "start_time": "2022-11-20T12:47:59.797838",
     "status": "completed"
    },
    "tags": []
   },
   "outputs": [],
   "source": [
    "# cfg_dict = {\n",
    "#     # \"total_max_len\":512,\n",
    "#     \"batch_size\":16,\n",
    "\n",
    "# }\n",
    "# # from kaggle_ELL_train import show_cfg\n",
    "# import os\n",
    "# import pickle\n",
    "# os.makedirs(\"train\", exist_ok=True)\n",
    "# pickle.dump(cfg_dict, open(os.path.join(\"train\", \"cfg.bin\"),\"wb+\"))\n",
    "\n",
    "# ## train without fgm\n",
    "# !(python kaggle_ELL_train.py --n_workers 2 \\\n",
    "#       --seed 43 \\\n",
    "#       --n_folds 5 \\\n",
    "#       --epochs 10 \\\n",
    "#       --eval_times_per_epoch 3 \\\n",
    "#       --is_train \\\n",
    "#       --model_name_or_path microsoft/deberta-v3-base \\\n",
    "#       --cfg_path train/cfg.bin)"
   ]
  },
  {
   "cell_type": "code",
   "execution_count": 5,
   "id": "4e596b37",
   "metadata": {
    "execution": {
     "iopub.execute_input": "2022-11-20T12:47:59.821211Z",
     "iopub.status.busy": "2022-11-20T12:47:59.820387Z",
     "iopub.status.idle": "2022-11-20T12:47:59.825276Z",
     "shell.execute_reply": "2022-11-20T12:47:59.824437Z"
    },
    "papermill": {
     "duration": 0.012188,
     "end_time": "2022-11-20T12:47:59.827196",
     "exception": false,
     "start_time": "2022-11-20T12:47:59.815008",
     "status": "completed"
    },
    "tags": []
   },
   "outputs": [],
   "source": [
    "# cfg_dict = {\n",
    "#     # \"total_max_len\":512,\n",
    "#     \"batch_size\":8,\n",
    "\n",
    "# }\n",
    "# # from kaggle_ELL_train import show_cfg\n",
    "# import os\n",
    "# import pickle\n",
    "# os.makedirs(\"train\", exist_ok=True)\n",
    "# pickle.dump(cfg_dict, open(os.path.join(\"train\", \"cfg.bin\"),\"wb+\"))\n",
    "\n",
    "# ## fgm\n",
    "# !(python kaggle_ELL_train.py --n_workers 2 \\\n",
    "#       --seed 43 \\\n",
    "#       --n_folds 5 \\\n",
    "#       --epochs 10 \\\n",
    "#       --eval_times_per_epoch 3 \\\n",
    "#       --is_train \\\n",
    "#       --model_name_or_path microsoft/deberta-v3-base \\\n",
    "#       --attacker \"fgm\" \\\n",
    "#       --on_kaggle \\\n",
    "#       --cfg_path train/cfg.bin)"
   ]
  },
  {
   "cell_type": "code",
   "execution_count": 6,
   "id": "2d7f2466",
   "metadata": {
    "execution": {
     "iopub.execute_input": "2022-11-20T12:47:59.837882Z",
     "iopub.status.busy": "2022-11-20T12:47:59.837094Z",
     "iopub.status.idle": "2022-11-20T12:47:59.841816Z",
     "shell.execute_reply": "2022-11-20T12:47:59.841001Z"
    },
    "papermill": {
     "duration": 0.012029,
     "end_time": "2022-11-20T12:47:59.843739",
     "exception": false,
     "start_time": "2022-11-20T12:47:59.831710",
     "status": "completed"
    },
    "tags": []
   },
   "outputs": [],
   "source": [
    "\n",
    "# cfg_dict = {\n",
    "#     # \"total_max_len\":512,\n",
    "#     \"batch_size\":8,\n",
    "\n",
    "# }\n",
    "# # from kaggle_ELL_train import show_cfg\n",
    "# import os\n",
    "# import pickle\n",
    "# os.makedirs(\"train\", exist_ok=True)\n",
    "# pickle.dump(cfg_dict, open(os.path.join(\"train\", \"cfg.bin\"),\"wb+\"))\n",
    "\n",
    "# ## train without fgm\n",
    "# !(python kaggle_ELL_train.py --n_workers 2 \\\n",
    "#       --seed 43 \\\n",
    "#       --n_folds 5 \\\n",
    "#       --epochs 10 \\\n",
    "#       --eval_times_per_epoch 3 \\\n",
    "#       --is_train \\\n",
    "#       --model_name_or_path microsoft/deberta-v3-base \\\n",
    "#       --on_kaggle \\\n",
    "#       --cfg_path train/cfg.bin)"
   ]
  },
  {
   "cell_type": "code",
   "execution_count": 7,
   "id": "816f68f0",
   "metadata": {
    "execution": {
     "iopub.execute_input": "2022-11-20T12:47:59.854365Z",
     "iopub.status.busy": "2022-11-20T12:47:59.853566Z",
     "iopub.status.idle": "2022-11-20T12:47:59.858221Z",
     "shell.execute_reply": "2022-11-20T12:47:59.857397Z"
    },
    "papermill": {
     "duration": 0.01179,
     "end_time": "2022-11-20T12:47:59.860087",
     "exception": false,
     "start_time": "2022-11-20T12:47:59.848297",
     "status": "completed"
    },
    "tags": []
   },
   "outputs": [],
   "source": [
    "# # out of memory for bs 8\n",
    "\n",
    "\n",
    "# cfg_dict = {\n",
    "#     # \"total_max_len\":512,\n",
    "#     \"batch_size\":4,\n",
    "\n",
    "# }\n",
    "# # from kaggle_ELL_train import show_cfg\n",
    "# import os\n",
    "# import pickle\n",
    "# os.makedirs(\"train\", exist_ok=True)\n",
    "# pickle.dump(cfg_dict, open(os.path.join(\"train\", \"cfg.bin\"),\"wb+\"))\n",
    "\n",
    "# ## train without fgm\n",
    "# !(python kaggle_ELL_train.py --n_workers 2 \\\n",
    "#       --seed 43 \\\n",
    "#       --n_folds 5 \\\n",
    "#       --epochs 10 \\\n",
    "#       --eval_times_per_epoch 3 \\\n",
    "#       --is_train \\\n",
    "#       --model_name_or_path microsoft/deberta-v3-large \\\n",
    "#       --on_kaggle \\\n",
    "#       --cfg_path train/cfg.bin)"
   ]
  },
  {
   "cell_type": "markdown",
   "id": "ba7b5389",
   "metadata": {
    "execution": {
     "iopub.execute_input": "2022-10-30T03:23:27.526589Z",
     "iopub.status.busy": "2022-10-30T03:23:27.525801Z",
     "iopub.status.idle": "2022-10-30T03:23:27.531705Z",
     "shell.execute_reply": "2022-10-30T03:23:27.530526Z",
     "shell.execute_reply.started": "2022-10-30T03:23:27.526551Z"
    },
    "papermill": {
     "duration": 0.004413,
     "end_time": "2022-11-20T12:47:59.869084",
     "exception": false,
     "start_time": "2022-11-20T12:47:59.864671",
     "status": "completed"
    },
    "tags": []
   },
   "source": [
    "### exp"
   ]
  },
  {
   "cell_type": "code",
   "execution_count": 8,
   "id": "effeaa9c",
   "metadata": {
    "execution": {
     "iopub.execute_input": "2022-11-20T12:47:59.879673Z",
     "iopub.status.busy": "2022-11-20T12:47:59.878934Z",
     "iopub.status.idle": "2022-11-20T12:47:59.882876Z",
     "shell.execute_reply": "2022-11-20T12:47:59.881974Z"
    },
    "papermill": {
     "duration": 0.011237,
     "end_time": "2022-11-20T12:47:59.884807",
     "exception": false,
     "start_time": "2022-11-20T12:47:59.873570",
     "status": "completed"
    },
    "tags": []
   },
   "outputs": [],
   "source": [
    "# !(python kaggle_ELL_train.py --total_max_len 1500 --batch_size 4 --n_workers 2 \\\n",
    "#       --seed 43 \\\n",
    "#       --n_folds 5 \\\n",
    "#       --epochs 10 \\\n",
    "#       --eval_times_per_epoch 3 \\\n",
    "#       --is_experiment_stage \\\n",
    "#       --n_exp_stop_fold 3)"
   ]
  },
  {
   "cell_type": "markdown",
   "id": "ddd15074",
   "metadata": {
    "papermill": {
     "duration": 0.004559,
     "end_time": "2022-11-20T12:47:59.893954",
     "exception": false,
     "start_time": "2022-11-20T12:47:59.889395",
     "status": "completed"
    },
    "tags": []
   },
   "source": [
    "### train"
   ]
  },
  {
   "cell_type": "code",
   "execution_count": 9,
   "id": "c20a9973",
   "metadata": {
    "execution": {
     "iopub.execute_input": "2022-11-20T12:47:59.905229Z",
     "iopub.status.busy": "2022-11-20T12:47:59.904343Z",
     "iopub.status.idle": "2022-11-20T12:47:59.908769Z",
     "shell.execute_reply": "2022-11-20T12:47:59.907938Z"
    },
    "papermill": {
     "duration": 0.011892,
     "end_time": "2022-11-20T12:47:59.910545",
     "exception": false,
     "start_time": "2022-11-20T12:47:59.898653",
     "status": "completed"
    },
    "tags": []
   },
   "outputs": [],
   "source": [
    "# !python kaggle_ELL_train.py --total_max_len 1500 --batch_size 4 --epochs 10 --n_workers 2 --seed 43 --n_folds 5 --eval_times_per_epoch 5 --is_train\n",
    "#!python kaggle_ELL_train.py --total_max_len 512 --batch_size 4 --epochs 10 --n_workers 2 --seed 43 --n_folds 5 --eval_times_per_epoch 5 --is_train"
   ]
  },
  {
   "cell_type": "markdown",
   "id": "b4650d22",
   "metadata": {
    "papermill": {
     "duration": 0.004459,
     "end_time": "2022-11-20T12:47:59.919779",
     "exception": false,
     "start_time": "2022-11-20T12:47:59.915320",
     "status": "completed"
    },
    "tags": []
   },
   "source": [
    "## test"
   ]
  },
  {
   "cell_type": "code",
   "execution_count": 10,
   "id": "381f746e",
   "metadata": {
    "execution": {
     "iopub.execute_input": "2022-11-20T12:47:59.931188Z",
     "iopub.status.busy": "2022-11-20T12:47:59.930647Z",
     "iopub.status.idle": "2022-11-20T12:47:59.934759Z",
     "shell.execute_reply": "2022-11-20T12:47:59.933880Z"
    },
    "papermill": {
     "duration": 0.01131,
     "end_time": "2022-11-20T12:47:59.936616",
     "exception": false,
     "start_time": "2022-11-20T12:47:59.925306",
     "status": "completed"
    },
    "tags": []
   },
   "outputs": [],
   "source": [
    "## log\n",
    "# ONLINE\n",
    "#!cat /kaggle/input/ellmeanpooling/ai4code/outputs/kaggle-ELL/exp/train_deb.log|tail -n 50\n",
    "# OFFLINE\n",
    "#!ls /kaggle/input\n",
    "#!cat /kaggle/input/ell4519/train_model.log|tail -n 50\n",
    "## model \n",
    "#!ls /kaggle/working/ai4code/outputs/kaggle_ELL\n",
    "\n",
    "## code\n",
    "#!cat /kaggle/input/ellmeanpooling/ai4code/kaggle_ELL_train.py\n",
    "#!cat /kaggle/input/ellmeanpooling/ai4code/model/model.py\n",
    "# !ls /kaggle/input/ellmeanpooling/ai4code/model\n",
    "# !cat model/model.py"
   ]
  },
  {
   "cell_type": "code",
   "execution_count": 11,
   "id": "7c6acd3c",
   "metadata": {
    "execution": {
     "iopub.execute_input": "2022-11-20T12:47:59.947304Z",
     "iopub.status.busy": "2022-11-20T12:47:59.946537Z",
     "iopub.status.idle": "2022-11-20T12:47:59.951244Z",
     "shell.execute_reply": "2022-11-20T12:47:59.950434Z"
    },
    "papermill": {
     "duration": 0.01198,
     "end_time": "2022-11-20T12:47:59.953147",
     "exception": false,
     "start_time": "2022-11-20T12:47:59.941167",
     "status": "completed"
    },
    "tags": []
   },
   "outputs": [],
   "source": [
    "# !(python /kaggle/input/ellmeanpooling/ai4code/kaggle_ELL_train.py \\\n",
    "#         --model_name_or_path \"/kaggle/input/debertav3base\" \\\n",
    "#         --n_workers 2 --is_test \\\n",
    "#         --model_abbr \"model\" \\\n",
    "#         --test_model_path \"/kaggle/input/ell-fgm-randomtruncation-4536\" \\\n",
    "#         --test_path \"/kaggle/input/feedback-prize-english-language-learning/test.csv\" \\\n",
    "#         --on_kaggle)\n",
    "\n",
    "# !(python /kaggle/input/ellmeanpooling/ai4code/kaggle_ELL_train.py \\\n",
    "#         --model_name_or_path \"/kaggle/input/debertav3base\" \\\n",
    "#         --model_abbr \"deb\" \\\n",
    "#         --n_workers 2 --seed 43 --is_test \\\n",
    "#         --test_model_path \"/kaggle/input/ellmeanpooling/ai4code/outputs/kaggle-ELL/exp\" \\\n",
    "#         --test_path \"/kaggle/input/feedback-prize-english-language-learning/test.csv\" \\\n",
    "#         --on_kaggle)"
   ]
  },
  {
   "cell_type": "code",
   "execution_count": 12,
   "id": "e72c5686",
   "metadata": {
    "execution": {
     "iopub.execute_input": "2022-11-20T12:47:59.963911Z",
     "iopub.status.busy": "2022-11-20T12:47:59.963112Z",
     "iopub.status.idle": "2022-11-20T12:47:59.967148Z",
     "shell.execute_reply": "2022-11-20T12:47:59.966311Z"
    },
    "papermill": {
     "duration": 0.01131,
     "end_time": "2022-11-20T12:47:59.969038",
     "exception": false,
     "start_time": "2022-11-20T12:47:59.957728",
     "status": "completed"
    },
    "tags": []
   },
   "outputs": [],
   "source": [
    "# #!rm -rf /kaggle/working/submission.csv\n",
    "# !head /kaggle/working/submission.csv "
   ]
  },
  {
   "cell_type": "markdown",
   "id": "41d2dbec",
   "metadata": {
    "papermill": {
     "duration": 0.004446,
     "end_time": "2022-11-20T12:47:59.978260",
     "exception": false,
     "start_time": "2022-11-20T12:47:59.973814",
     "status": "completed"
    },
    "tags": []
   },
   "source": [
    "        --model_abbr \"deb\" \\"
   ]
  },
  {
   "cell_type": "code",
   "execution_count": null,
   "id": "3420c414",
   "metadata": {
    "papermill": {
     "duration": 0.004431,
     "end_time": "2022-11-20T12:47:59.987309",
     "exception": false,
     "start_time": "2022-11-20T12:47:59.982878",
     "status": "completed"
    },
    "tags": []
   },
   "outputs": [],
   "source": []
  }
 ],
 "metadata": {
  "kernelspec": {
   "display_name": "Python 3",
   "language": "python",
   "name": "python3"
  },
  "language_info": {
   "codemirror_mode": {
    "name": "ipython",
    "version": 3
   },
   "file_extension": ".py",
   "mimetype": "text/x-python",
   "name": "python",
   "nbconvert_exporter": "python",
   "pygments_lexer": "ipython3",
   "version": "3.7.12"
  },
  "papermill": {
   "default_parameters": {},
   "duration": 26.019736,
   "end_time": "2022-11-20T12:48:00.512302",
   "environment_variables": {},
   "exception": null,
   "input_path": "__notebook__.ipynb",
   "output_path": "__notebook__.ipynb",
   "parameters": {},
   "start_time": "2022-11-20T12:47:34.492566",
   "version": "2.3.4"
  }
 },
 "nbformat": 4,
 "nbformat_minor": 5
}
