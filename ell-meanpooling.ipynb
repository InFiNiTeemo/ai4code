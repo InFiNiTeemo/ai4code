{
 "cells": [
  {
   "cell_type": "markdown",
   "id": "74213d26",
   "metadata": {
    "papermill": {
     "duration": 0.00435,
     "end_time": "2022-11-13T15:32:06.841316",
     "exception": false,
     "start_time": "2022-11-13T15:32:06.836966",
     "status": "completed"
    },
    "tags": []
   },
   "source": [
    "## import when train"
   ]
  },
  {
   "cell_type": "code",
   "execution_count": 1,
   "id": "7fe5f45c",
   "metadata": {
    "execution": {
     "iopub.execute_input": "2022-11-13T15:32:06.850155Z",
     "iopub.status.busy": "2022-11-13T15:32:06.849601Z",
     "iopub.status.idle": "2022-11-13T15:32:06.855518Z",
     "shell.execute_reply": "2022-11-13T15:32:06.854612Z"
    },
    "papermill": {
     "duration": 0.01262,
     "end_time": "2022-11-13T15:32:06.857529",
     "exception": false,
     "start_time": "2022-11-13T15:32:06.844909",
     "status": "completed"
    },
    "tags": []
   },
   "outputs": [],
   "source": [
    "# !nvidia-smi"
   ]
  },
  {
   "cell_type": "code",
   "execution_count": 2,
   "id": "b946069b",
   "metadata": {
    "execution": {
     "iopub.execute_input": "2022-11-13T15:32:06.865767Z",
     "iopub.status.busy": "2022-11-13T15:32:06.864979Z",
     "iopub.status.idle": "2022-11-13T15:32:24.408647Z",
     "shell.execute_reply": "2022-11-13T15:32:24.407382Z"
    },
    "papermill": {
     "duration": 17.550594,
     "end_time": "2022-11-13T15:32:24.411445",
     "exception": false,
     "start_time": "2022-11-13T15:32:06.860851",
     "status": "completed"
    },
    "tags": []
   },
   "outputs": [
    {
     "name": "stdout",
     "output_type": "stream",
     "text": [
      "/kaggle/working\n",
      "Cloning into 'ai4code'...\r\n",
      "remote: Enumerating objects: 480, done.\u001b[K\r\n",
      "remote: Counting objects: 100% (480/480), done.\u001b[K\r\n",
      "remote: Compressing objects: 100% (306/306), done.\u001b[K\r\n",
      "remote: Total 480 (delta 258), reused 370 (delta 150), pack-reused 0\u001b[K\r\n",
      "Receiving objects: 100% (480/480), 3.54 MiB | 3.20 MiB/s, done.\r\n",
      "Resolving deltas: 100% (258/258), done.\r\n",
      "/kaggle/working/ai4code\n",
      "Already up to date.\r\n",
      "Collecting iterative-stratification\r\n",
      "  Downloading iterative_stratification-0.1.7-py3-none-any.whl (8.5 kB)\r\n",
      "Requirement already satisfied: scipy in /opt/conda/lib/python3.7/site-packages (from iterative-stratification) (1.7.3)\r\n",
      "Requirement already satisfied: numpy in /opt/conda/lib/python3.7/site-packages (from iterative-stratification) (1.21.6)\r\n",
      "Requirement already satisfied: scikit-learn in /opt/conda/lib/python3.7/site-packages (from iterative-stratification) (1.0.2)\r\n",
      "Requirement already satisfied: joblib>=0.11 in /opt/conda/lib/python3.7/site-packages (from scikit-learn->iterative-stratification) (1.0.1)\r\n",
      "Requirement already satisfied: threadpoolctl>=2.0.0 in /opt/conda/lib/python3.7/site-packages (from scikit-learn->iterative-stratification) (3.1.0)\r\n",
      "Installing collected packages: iterative-stratification\r\n",
      "Successfully installed iterative-stratification-0.1.7\r\n",
      "\u001b[33mWARNING: Running pip as the 'root' user can result in broken permissions and conflicting behaviour with the system package manager. It is recommended to use a virtual environment instead: https://pip.pypa.io/warnings/venv\u001b[0m\u001b[33m\r\n",
      "\u001b[0m"
     ]
    }
   ],
   "source": [
    "# train\n",
    "\n",
    "%cd /kaggle/working/\n",
    "!git clone https://github.com/InFiNiTeemo/ai4code.git\n",
    "%cd /kaggle/working/ai4code\n",
    "!git pull\n",
    "!pip install iterative-stratification"
   ]
  },
  {
   "cell_type": "code",
   "execution_count": 3,
   "id": "70fe4b86",
   "metadata": {
    "execution": {
     "iopub.execute_input": "2022-11-13T15:32:24.422668Z",
     "iopub.status.busy": "2022-11-13T15:32:24.422316Z",
     "iopub.status.idle": "2022-11-13T15:32:24.426723Z",
     "shell.execute_reply": "2022-11-13T15:32:24.425792Z"
    },
    "papermill": {
     "duration": 0.01233,
     "end_time": "2022-11-13T15:32:24.428875",
     "exception": false,
     "start_time": "2022-11-13T15:32:24.416545",
     "status": "completed"
    },
    "tags": []
   },
   "outputs": [],
   "source": [
    "# view current log\n",
    "\n",
    "#!ls /kaggle/working/ai4code/outputs/kaggle-ELL/exp3\n",
    "#!cat /kaggle/working/ai4code/outputs/kaggle-ELL/exp2/train_deb.log|tail -n 50"
   ]
  },
  {
   "cell_type": "markdown",
   "id": "c440c311",
   "metadata": {
    "papermill": {
     "duration": 0.004394,
     "end_time": "2022-11-13T15:32:24.438097",
     "exception": false,
     "start_time": "2022-11-13T15:32:24.433703",
     "status": "completed"
    },
    "tags": []
   },
   "source": [
    "### config"
   ]
  },
  {
   "cell_type": "code",
   "execution_count": 4,
   "id": "38826e54",
   "metadata": {
    "execution": {
     "iopub.execute_input": "2022-11-13T15:32:24.448505Z",
     "iopub.status.busy": "2022-11-13T15:32:24.448216Z",
     "iopub.status.idle": "2022-11-13T15:32:24.452780Z",
     "shell.execute_reply": "2022-11-13T15:32:24.451622Z"
    },
    "papermill": {
     "duration": 0.011951,
     "end_time": "2022-11-13T15:32:24.454660",
     "exception": false,
     "start_time": "2022-11-13T15:32:24.442709",
     "status": "completed"
    },
    "tags": []
   },
   "outputs": [],
   "source": [
    "# cfg_dict = {\n",
    "#     # \"total_max_len\":512,\n",
    "#     \"batch_size\":16,\n",
    "\n",
    "# }\n",
    "# # from kaggle_ELL_train import show_cfg\n",
    "# import os\n",
    "# import pickle\n",
    "# os.makedirs(\"train\", exist_ok=True)\n",
    "# pickle.dump(cfg_dict, open(os.path.join(\"train\", \"cfg.bin\"),\"wb+\"))\n",
    "\n",
    "# ## train without fgm\n",
    "# !(python kaggle_ELL_train.py --n_workers 2 \\\n",
    "#       --seed 43 \\\n",
    "#       --n_folds 5 \\\n",
    "#       --epochs 10 \\\n",
    "#       --eval_times_per_epoch 3 \\\n",
    "#       --is_train \\\n",
    "#       --model_name_or_path microsoft/deberta-v3-base \\\n",
    "#       --cfg_path train/cfg.bin)"
   ]
  },
  {
   "cell_type": "code",
   "execution_count": 5,
   "id": "e1db5de6",
   "metadata": {
    "execution": {
     "iopub.execute_input": "2022-11-13T15:32:24.465335Z",
     "iopub.status.busy": "2022-11-13T15:32:24.465040Z",
     "iopub.status.idle": "2022-11-13T15:32:24.469380Z",
     "shell.execute_reply": "2022-11-13T15:32:24.468381Z"
    },
    "papermill": {
     "duration": 0.011889,
     "end_time": "2022-11-13T15:32:24.471379",
     "exception": false,
     "start_time": "2022-11-13T15:32:24.459490",
     "status": "completed"
    },
    "tags": []
   },
   "outputs": [],
   "source": [
    "# cfg_dict = {\n",
    "#     # \"total_max_len\":512,\n",
    "#     \"batch_size\":8,\n",
    "\n",
    "# }\n",
    "# # from kaggle_ELL_train import show_cfg\n",
    "# import os\n",
    "# import pickle\n",
    "# os.makedirs(\"train\", exist_ok=True)\n",
    "# pickle.dump(cfg_dict, open(os.path.join(\"train\", \"cfg.bin\"),\"wb+\"))\n",
    "\n",
    "# ## fgm\n",
    "# !(python kaggle_ELL_train.py --n_workers 2 \\\n",
    "#       --seed 43 \\\n",
    "#       --n_folds 5 \\\n",
    "#       --epochs 10 \\\n",
    "#       --eval_times_per_epoch 3 \\\n",
    "#       --is_train \\\n",
    "#       --model_name_or_path microsoft/deberta-v3-base \\\n",
    "#       --attacker \"fgm\" \\\n",
    "#       --on_kaggle \\\n",
    "#       --cfg_path train/cfg.bin)"
   ]
  },
  {
   "cell_type": "code",
   "execution_count": 6,
   "id": "eef6a95f",
   "metadata": {
    "execution": {
     "iopub.execute_input": "2022-11-13T15:32:24.482020Z",
     "iopub.status.busy": "2022-11-13T15:32:24.481767Z",
     "iopub.status.idle": "2022-11-13T15:32:24.485896Z",
     "shell.execute_reply": "2022-11-13T15:32:24.484987Z"
    },
    "papermill": {
     "duration": 0.011607,
     "end_time": "2022-11-13T15:32:24.487940",
     "exception": false,
     "start_time": "2022-11-13T15:32:24.476333",
     "status": "completed"
    },
    "tags": []
   },
   "outputs": [],
   "source": [
    "\n",
    "# cfg_dict = {\n",
    "#     # \"total_max_len\":512,\n",
    "#     \"batch_size\":8,\n",
    "\n",
    "# }\n",
    "# # from kaggle_ELL_train import show_cfg\n",
    "# import os\n",
    "# import pickle\n",
    "# os.makedirs(\"train\", exist_ok=True)\n",
    "# pickle.dump(cfg_dict, open(os.path.join(\"train\", \"cfg.bin\"),\"wb+\"))\n",
    "\n",
    "# ## train without fgm\n",
    "# !(python kaggle_ELL_train.py --n_workers 2 \\\n",
    "#       --seed 43 \\\n",
    "#       --n_folds 5 \\\n",
    "#       --epochs 10 \\\n",
    "#       --eval_times_per_epoch 3 \\\n",
    "#       --is_train \\\n",
    "#       --model_name_or_path microsoft/deberta-v3-base \\\n",
    "#       --on_kaggle \\\n",
    "#       --cfg_path train/cfg.bin)"
   ]
  },
  {
   "cell_type": "code",
   "execution_count": 7,
   "id": "df5b517d",
   "metadata": {
    "execution": {
     "iopub.execute_input": "2022-11-13T15:32:24.499312Z",
     "iopub.status.busy": "2022-11-13T15:32:24.498371Z",
     "iopub.status.idle": "2022-11-13T15:32:24.503487Z",
     "shell.execute_reply": "2022-11-13T15:32:24.502505Z"
    },
    "papermill": {
     "duration": 0.012709,
     "end_time": "2022-11-13T15:32:24.505566",
     "exception": false,
     "start_time": "2022-11-13T15:32:24.492857",
     "status": "completed"
    },
    "tags": []
   },
   "outputs": [],
   "source": [
    "# # out of memory for bs 8\n",
    "\n",
    "\n",
    "# cfg_dict = {\n",
    "#     # \"total_max_len\":512,\n",
    "#     \"batch_size\":4,\n",
    "\n",
    "# }\n",
    "# # from kaggle_ELL_train import show_cfg\n",
    "# import os\n",
    "# import pickle\n",
    "# os.makedirs(\"train\", exist_ok=True)\n",
    "# pickle.dump(cfg_dict, open(os.path.join(\"train\", \"cfg.bin\"),\"wb+\"))\n",
    "\n",
    "# ## train without fgm\n",
    "# !(python kaggle_ELL_train.py --n_workers 2 \\\n",
    "#       --seed 43 \\\n",
    "#       --n_folds 5 \\\n",
    "#       --epochs 10 \\\n",
    "#       --eval_times_per_epoch 3 \\\n",
    "#       --is_train \\\n",
    "#       --model_name_or_path microsoft/deberta-v3-large \\\n",
    "#       --on_kaggle \\\n",
    "#       --cfg_path train/cfg.bin)"
   ]
  },
  {
   "cell_type": "markdown",
   "id": "945ffbd6",
   "metadata": {
    "execution": {
     "iopub.execute_input": "2022-10-30T03:23:27.526589Z",
     "iopub.status.busy": "2022-10-30T03:23:27.525801Z",
     "iopub.status.idle": "2022-10-30T03:23:27.531705Z",
     "shell.execute_reply": "2022-10-30T03:23:27.530526Z",
     "shell.execute_reply.started": "2022-10-30T03:23:27.526551Z"
    },
    "papermill": {
     "duration": 0.004506,
     "end_time": "2022-11-13T15:32:24.514884",
     "exception": false,
     "start_time": "2022-11-13T15:32:24.510378",
     "status": "completed"
    },
    "tags": []
   },
   "source": [
    "### exp"
   ]
  },
  {
   "cell_type": "code",
   "execution_count": 8,
   "id": "cef15481",
   "metadata": {
    "execution": {
     "iopub.execute_input": "2022-11-13T15:32:24.525833Z",
     "iopub.status.busy": "2022-11-13T15:32:24.525186Z",
     "iopub.status.idle": "2022-11-13T15:32:24.529482Z",
     "shell.execute_reply": "2022-11-13T15:32:24.528384Z"
    },
    "papermill": {
     "duration": 0.011841,
     "end_time": "2022-11-13T15:32:24.531638",
     "exception": false,
     "start_time": "2022-11-13T15:32:24.519797",
     "status": "completed"
    },
    "tags": []
   },
   "outputs": [],
   "source": [
    "# !(python kaggle_ELL_train.py --total_max_len 1500 --batch_size 4 --n_workers 2 \\\n",
    "#       --seed 43 \\\n",
    "#       --n_folds 5 \\\n",
    "#       --epochs 10 \\\n",
    "#       --eval_times_per_epoch 3 \\\n",
    "#       --is_experiment_stage \\\n",
    "#       --n_exp_stop_fold 3)"
   ]
  },
  {
   "cell_type": "markdown",
   "id": "28838c4e",
   "metadata": {
    "papermill": {
     "duration": 0.004569,
     "end_time": "2022-11-13T15:32:24.541013",
     "exception": false,
     "start_time": "2022-11-13T15:32:24.536444",
     "status": "completed"
    },
    "tags": []
   },
   "source": [
    "### train"
   ]
  },
  {
   "cell_type": "code",
   "execution_count": 9,
   "id": "984cdb4c",
   "metadata": {
    "execution": {
     "iopub.execute_input": "2022-11-13T15:32:24.551600Z",
     "iopub.status.busy": "2022-11-13T15:32:24.551323Z",
     "iopub.status.idle": "2022-11-13T15:32:24.555168Z",
     "shell.execute_reply": "2022-11-13T15:32:24.554226Z"
    },
    "papermill": {
     "duration": 0.011271,
     "end_time": "2022-11-13T15:32:24.557104",
     "exception": false,
     "start_time": "2022-11-13T15:32:24.545833",
     "status": "completed"
    },
    "tags": []
   },
   "outputs": [],
   "source": [
    "# !python kaggle_ELL_train.py --total_max_len 1500 --batch_size 4 --epochs 10 --n_workers 2 --seed 43 --n_folds 5 --eval_times_per_epoch 5 --is_train\n",
    "#!python kaggle_ELL_train.py --total_max_len 512 --batch_size 4 --epochs 10 --n_workers 2 --seed 43 --n_folds 5 --eval_times_per_epoch 5 --is_train"
   ]
  },
  {
   "cell_type": "markdown",
   "id": "f3455dc4",
   "metadata": {
    "papermill": {
     "duration": 0.004736,
     "end_time": "2022-11-13T15:32:24.566561",
     "exception": false,
     "start_time": "2022-11-13T15:32:24.561825",
     "status": "completed"
    },
    "tags": []
   },
   "source": [
    "## test"
   ]
  },
  {
   "cell_type": "code",
   "execution_count": 10,
   "id": "cb3e60e9",
   "metadata": {
    "execution": {
     "iopub.execute_input": "2022-11-13T15:32:24.577686Z",
     "iopub.status.busy": "2022-11-13T15:32:24.577409Z",
     "iopub.status.idle": "2022-11-13T15:32:25.530682Z",
     "shell.execute_reply": "2022-11-13T15:32:25.529531Z"
    },
    "papermill": {
     "duration": 0.96162,
     "end_time": "2022-11-13T15:32:25.533048",
     "exception": false,
     "start_time": "2022-11-13T15:32:24.571428",
     "status": "completed"
    },
    "tags": []
   },
   "outputs": [
    {
     "name": "stdout",
     "output_type": "stream",
     "text": [
      "\r\n",
      "===============>Fold 4 Training<===============\r\n",
      "[Best] epoch0, fold3, step 130 , Loss 0.2830, Val score: -0.4756\r\n",
      "epoch0, fold3, step 260 , Loss 0.2115, Val score: -0.4962\r\n",
      "epoch0, fold3, step 390 , Loss 0.1807, Val score: -0.4792\r\n",
      "\r\n",
      "epoch1, fold3, step 130 , Loss 0.1117, Val score: -0.5078\r\n",
      "epoch1, fold3, step 260 , Loss 0.1103, Val score: -0.4761\r\n",
      "[Best] epoch1, fold3, step 390 , Loss 0.1057, Val score: -0.4641\r\n",
      "\r\n",
      "[Best] epoch2, fold3, step 130 , Loss 0.1052, Val score: -0.4551\r\n",
      "epoch2, fold3, step 260 , Loss 0.0998, Val score: -0.4577\r\n",
      "epoch2, fold3, step 390 , Loss 0.0984, Val score: -0.4631\r\n",
      "\r\n",
      "epoch3, fold3, step 130 , Loss 0.0971, Val score: -0.4576\r\n",
      "epoch3, fold3, step 260 , Loss 0.0942, Val score: -0.4560\r\n",
      "[Best] epoch3, fold3, step 390 , Loss 0.0926, Val score: -0.4536\r\n",
      "\r\n",
      "[Best] epoch4, fold3, step 130 , Loss 0.0951, Val score: -0.4535\r\n",
      "[Best] epoch4, fold3, step 260 , Loss 0.0919, Val score: -0.4527\r\n",
      "epoch4, fold3, step 390 , Loss 0.0894, Val score: -0.4527\r\n",
      "\r\n",
      "** Function train_fold Took 8m 57s\r\n",
      "\r\n",
      "===============>Fold 5 Training<===============\r\n",
      "[Best] epoch0, fold4, step 130 , Loss 0.2840, Val score: -0.4912\r\n",
      "[Best] epoch0, fold4, step 260 , Loss 0.2024, Val score: -0.4792\r\n",
      "[Best] epoch0, fold4, step 390 , Loss 0.1737, Val score: -0.4767\r\n",
      "\r\n",
      "epoch1, fold4, step 130 , Loss 0.1127, Val score: -0.4840\r\n",
      "epoch1, fold4, step 260 , Loss 0.1069, Val score: -0.4781\r\n",
      "[Best] epoch1, fold4, step 390 , Loss 0.1043, Val score: -0.4653\r\n",
      "\r\n",
      "[Best] epoch2, fold4, step 130 , Loss 0.1025, Val score: -0.4646\r\n",
      "[Best] epoch2, fold4, step 260 , Loss 0.0982, Val score: -0.4596\r\n",
      "[Best] epoch2, fold4, step 390 , Loss 0.0962, Val score: -0.4546\r\n",
      "\r\n",
      "epoch3, fold4, step 130 , Loss 0.0959, Val score: -0.4565\r\n",
      "[Best] epoch3, fold4, step 260 , Loss 0.0919, Val score: -0.4500\r\n",
      "epoch3, fold4, step 390 , Loss 0.0904, Val score: -0.4504\r\n",
      "\r\n",
      "[Best] epoch4, fold4, step 130 , Loss 0.0903, Val score: -0.4482\r\n",
      "epoch4, fold4, step 260 , Loss 0.0872, Val score: -0.4496\r\n",
      "epoch4, fold4, step 390 , Loss 0.0861, Val score: -0.4494\r\n",
      "\r\n",
      "** Function train_fold Took 10m 19s\r\n",
      "**** Best score in every fold: [-0.4494, -0.454, -0.4562, -0.4527, -0.4482]\r\n",
      "**** Best score Mean -0.4521\r\n",
      "save state.\r\n",
      "** Function train_pipeline Took 50m 59s\r\n"
     ]
    }
   ],
   "source": [
    "## log\n",
    "# ONLINE\n",
    "#!cat /kaggle/input/ellmeanpooling/ai4code/outputs/kaggle-ELL/exp/train_deb.log|tail -n 50\n",
    "# OFFLINE\n",
    "!cat /kaggle/input/ell-4521/train_deb.log|tail -n 50\n",
    "## model \n",
    "#!ls /kaggle/working/ai4code/outputs/kaggle_ELL\n",
    "\n",
    "## code\n",
    "#!cat /kaggle/input/ellmeanpooling/ai4code/kaggle_ELL_train.py\n",
    "#!cat /kaggle/input/ellmeanpooling/ai4code/model/model.py\n",
    "# !cat model/model.py"
   ]
  },
  {
   "cell_type": "code",
   "execution_count": 11,
   "id": "f6f68079",
   "metadata": {
    "execution": {
     "iopub.execute_input": "2022-11-13T15:32:25.544886Z",
     "iopub.status.busy": "2022-11-13T15:32:25.544565Z",
     "iopub.status.idle": "2022-11-13T15:32:57.072515Z",
     "shell.execute_reply": "2022-11-13T15:32:57.071362Z"
    },
    "papermill": {
     "duration": 31.53674,
     "end_time": "2022-11-13T15:32:57.075008",
     "exception": false,
     "start_time": "2022-11-13T15:32:25.538268",
     "status": "completed"
    },
    "tags": []
   },
   "outputs": [
    {
     "name": "stdout",
     "output_type": "stream",
     "text": [
      "********TEST STAGE********\r\n",
      "* Load config from: /kaggle/input/ell-4521/cfg.bin\r\n",
      "* Test model path: /kaggle/input/ell-4521\r\n",
      "***************  Info  ***************\r\n",
      "\tMyDataset: <class 'model.dataset.ELLDatasetNoPadding'>\r\n",
      "\tMyModel: <class 'model.model.ELLModelTest'>\r\n",
      "\tbackbone: microsoft/deberta-v3-base\r\n",
      "\tparallel: False\r\n",
      "\tis_early_stop: False\r\n",
      "\tgradient_checkpointing: True\r\n",
      "\taccumulation_steps: 1\r\n",
      "\tepochs: 5\r\n",
      "\tbatch_size: 8\r\n",
      "\ttotal_max_len: 512\r\n",
      "\tmax_grad_norm: 1000\r\n",
      "\tis_pretrain: False\r\n",
      "\tattacker: None\r\n",
      "\tadversial_kwargs: None\r\n",
      "\tbetas: (0.9, 0.999)\r\n",
      "\teps: 1e-06\r\n",
      "\tis_llrd: True\r\n",
      "\tlr: 1e-05\r\n",
      "\tpooler: <class 'model.pooling.pooling.AttentionPooling'>\r\n",
      "\tfc_dropout_rate: 0.2\r\n",
      "\tpooling_layers: 1\r\n",
      "\tis_bert_dp: False\r\n",
      "\treinit_layer_num: 1\r\n",
      "\tfc: multisample_dropout\r\n",
      "\tseed: 42\r\n",
      "\tnew_module_lr: 1e-05\r\n",
      "Special tokens have been added in the vocabulary, make sure the associated word embeddings are fine-tuned or trained.\r\n",
      "/opt/conda/lib/python3.7/site-packages/transformers/convert_slow_tokenizer.py:435: UserWarning: The sentencepiece tokenizer that you are converting to a fast tokenizer uses the byte fallback option which is not implemented in the fast tokenizers. In practice this means that the fast version of the tokenizer can produce unknown tokens whereas the sentencepiece version would have converted these unknown tokens into a sequence of byte tokens matching the original piece of text.\r\n",
      "  \"The sentencepiece tokenizer that you are converting to a fast tokenizer uses the byte fallback option\"\r\n",
      "Special tokens have been added in the vocabulary, make sure the associated word embeddings are fine-tuned or trained.\r\n",
      "Special tokens have been added in the vocabulary, make sure the associated word embeddings are fine-tuned or trained.\r\n",
      "Special tokens have been added in the vocabulary, make sure the associated word embeddings are fine-tuned or trained.\r\n",
      "Some weights of the model checkpoint at /kaggle/input/debertav3base were not used when initializing DebertaV2Model: ['lm_predictions.lm_head.LayerNorm.bias', 'lm_predictions.lm_head.dense.bias', 'mask_predictions.LayerNorm.weight', 'mask_predictions.dense.bias', 'mask_predictions.classifier.bias', 'mask_predictions.LayerNorm.bias', 'lm_predictions.lm_head.LayerNorm.weight', 'lm_predictions.lm_head.dense.weight', 'lm_predictions.lm_head.bias', 'mask_predictions.dense.weight', 'mask_predictions.classifier.weight']\r\n",
      "- This IS expected if you are initializing DebertaV2Model from the checkpoint of a model trained on another task or with another architecture (e.g. initializing a BertForSequenceClassification model from a BertForPreTraining model).\r\n",
      "- This IS NOT expected if you are initializing DebertaV2Model from the checkpoint of a model that you expect to be exactly identical (initializing a BertForSequenceClassification model from a BertForSequenceClassification model).\r\n",
      "Traceback (most recent call last):\r\n",
      "  File \"/kaggle/input/ellmeanpooling/ai4code/kaggle_ELL_train.py\", line 753, in <module>\r\n",
      "    main()\r\n",
      "  File \"/kaggle/input/ellmeanpooling/ai4code/kaggle_ELL_train.py\", line 747, in main\r\n",
      "    test_pipeline()\r\n",
      "  File \"/kaggle/input/ellmeanpooling/ai4code/kaggle_ELL_train.py\", line 645, in test_pipeline\r\n",
      "    logit_preds = get_logits_fold(test, test_model_path)\r\n",
      "  File \"/kaggle/input/ellmeanpooling/ai4code/kaggle_ELL_train.py\", line 595, in get_logits_fold\r\n",
      "    model.load_state_dict(torch.load(pth))\r\n",
      "  File \"/opt/conda/lib/python3.7/site-packages/torch/nn/modules/module.py\", line 1498, in load_state_dict\r\n",
      "    self.__class__.__name__, \"\\n\\t\".join(error_msgs)))\r\n",
      "RuntimeError: Error(s) in loading state_dict for ELLModelTest:\r\n",
      "\tMissing key(s) in state_dict: \"fc.weight\", \"fc.bias\". \r\n",
      "\tUnexpected key(s) in state_dict: \"fc.classifier.weight\", \"fc.classifier.bias\". \r\n"
     ]
    }
   ],
   "source": [
    "!(python /kaggle/input/ellmeanpooling/ai4code/kaggle_ELL_train.py \\\n",
    "        --model_name_or_path \"/kaggle/input/debertav3base\" \\\n",
    "        --model_abbr \"deb\" \\\n",
    "        --n_workers 2 --seed 43 --is_test \\\n",
    "        --test_model_path \"/kaggle/input/ell-4521\" \\\n",
    "        --test_path \"/kaggle/input/feedback-prize-english-language-learning/test.csv\" \\\n",
    "        --on_kaggle)\n",
    "\n",
    "# !(python /kaggle/input/ellmeanpooling/ai4code/kaggle_ELL_train.py \\\n",
    "#         --model_name_or_path \"/kaggle/input/debertav3base\" \\\n",
    "#         --model_abbr \"deb\" \\\n",
    "#         --n_workers 2 --seed 43 --is_test \\\n",
    "#         --test_model_path \"/kaggle/input/ellmeanpooling/ai4code/outputs/kaggle-ELL/exp\" \\\n",
    "#         --test_path \"/kaggle/input/feedback-prize-english-language-learning/test.csv\" \\\n",
    "#         --on_kaggle)"
   ]
  },
  {
   "cell_type": "code",
   "execution_count": 12,
   "id": "093d6107",
   "metadata": {
    "execution": {
     "iopub.execute_input": "2022-11-13T15:32:57.088340Z",
     "iopub.status.busy": "2022-11-13T15:32:57.088015Z",
     "iopub.status.idle": "2022-11-13T15:32:57.092395Z",
     "shell.execute_reply": "2022-11-13T15:32:57.091336Z"
    },
    "papermill": {
     "duration": 0.013608,
     "end_time": "2022-11-13T15:32:57.094356",
     "exception": false,
     "start_time": "2022-11-13T15:32:57.080748",
     "status": "completed"
    },
    "tags": []
   },
   "outputs": [],
   "source": [
    "# #!rm -rf /kaggle/working/submission.csv\n",
    "# !head /kaggle/working/submission.csv "
   ]
  },
  {
   "cell_type": "markdown",
   "id": "3b66d2f0",
   "metadata": {
    "papermill": {
     "duration": 0.005172,
     "end_time": "2022-11-13T15:32:57.104866",
     "exception": false,
     "start_time": "2022-11-13T15:32:57.099694",
     "status": "completed"
    },
    "tags": []
   },
   "source": []
  },
  {
   "cell_type": "code",
   "execution_count": null,
   "id": "b9668f4b",
   "metadata": {
    "papermill": {
     "duration": 0.005175,
     "end_time": "2022-11-13T15:32:57.115429",
     "exception": false,
     "start_time": "2022-11-13T15:32:57.110254",
     "status": "completed"
    },
    "tags": []
   },
   "outputs": [],
   "source": []
  }
 ],
 "metadata": {
  "kernelspec": {
   "display_name": "Python 3",
   "language": "python",
   "name": "python3"
  },
  "language_info": {
   "codemirror_mode": {
    "name": "ipython",
    "version": 3
   },
   "file_extension": ".py",
   "mimetype": "text/x-python",
   "name": "python",
   "nbconvert_exporter": "python",
   "pygments_lexer": "ipython3",
   "version": "3.7.12"
  },
  "papermill": {
   "default_parameters": {},
   "duration": 58.215626,
   "end_time": "2022-11-13T15:32:57.640788",
   "environment_variables": {},
   "exception": null,
   "input_path": "__notebook__.ipynb",
   "output_path": "__notebook__.ipynb",
   "parameters": {},
   "start_time": "2022-11-13T15:31:59.425162",
   "version": "2.3.4"
  }
 },
 "nbformat": 4,
 "nbformat_minor": 5
}
